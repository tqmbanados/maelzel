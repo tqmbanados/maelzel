{
 "cells": [
  {
   "cell_type": "code",
   "execution_count": 1,
   "id": "4d140b62-3e91-4655-87fe-14cb975236a8",
   "metadata": {
    "editable": true,
    "slideshow": {
     "slide_type": ""
    },
    "tags": []
   },
   "outputs": [],
   "source": [
    "from maelzel.core import *\n"
   ]
  },
  {
   "cell_type": "code",
   "execution_count": 2,
   "id": "14b9b631-e974-472c-ad8c-5da39ece4d71",
   "metadata": {},
   "outputs": [
    {
     "data": {
      "text/html": [
       "<code><span style=\"font-size: 85%\"><b>Chain</b> - beat: 0, offset: None, dur: 4.5</span></code><br><code><span style=\"color:#BBBBBB;font-size:85%\">  location  beat   offset      dur         name      gliss dyn  playargs            info                </span></code><br><code><span style=\"color:#9090FF;font-size:85%\">  0:0       0      (0)         1           4F~       F          None                -</span></code><br><code><span style=\"color:#9090FF;font-size:85%\">  0:1.5     1.5    1.5         0.5         4G        F          None                -</span></code><br><code><span style=\"font-size: 85%\">  <b>Chain</b> - beat: 4, offset: 4, dur: 0.5</span></code><br><code><span style=\"color:#BBBBBB;font-size:85%\">    location  beat   offset      dur         name      gliss dyn  playargs            info                </span></code><br><code><span style=\"color:#9090FF;font-size:85%\">    1:0       4      (0)         0.5         4C        F          None                -</span></code>"
      ],
      "text/plain": [
       "<IPython.core.display.HTML object>"
      ]
     },
     "metadata": {},
     "output_type": "display_data"
    },
    {
     "name": "stdout",
     "output_type": "stream",
     "text": [
      "[4F~:1♩:offset=0, 4G:0.5♩:offset=1.5, 4C:0.5♩:offset=4]\n",
      "[«4F~ 0:1 1♩», «~4G 1.5:2 1/2♩», «4C 4:4.5 1/2♩»]\n"
     ]
    },
    {
     "data": {
      "text/html": [
       "<code style=\"white-space: pre-line; font-size:0.9em;\">Chain([<span style=\"color:#6666E0\">4F~:1♩</span>, <span style=\"color:#6666E0\">4G:0.5♩:offset=1.5</span>, <span style=\"color:#6666E0\">Chain([4C:0.5♩], offset=4)</span>], dur=4.5)</code><br>\n",
       "        <img style=\"display:inline; padding:10px;\n",
       "margin-top:14px;\n",
       "width:316px\"\n",
       "             src=\"data:image/png;base64,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\"/>"
      ],
      "text/plain": [
       "Chain([4F~:1♩, 4G:0.5♩:offset=1.5, Chain([4C:0.5♩], offset=4)])"
      ]
     },
     "execution_count": 2,
     "metadata": {},
     "output_type": "execute_result"
    }
   ],
   "source": [
    "ch2 = Chain([\n",
    "    Note(\"4F\", 1, tied=True),\n",
    "    Note(\"4G\", 0.5, offset=1.5),\n",
    "    Chain([Note(\"4C\", 0.5)],\n",
    "           offset=4),\n",
    "           \n",
    "])\n",
    "ch2.dump()\n",
    "print(ch2.flatItems())\n",
    "print(ch2.scoringEvents())\n",
    "ch2"
   ]
  },
  {
   "cell_type": "code",
   "execution_count": 3,
   "id": "ffb81742-38ea-415a-883e-86b0fb9be6da",
   "metadata": {},
   "outputs": [
    {
     "data": {
      "text/html": [
       "<code style=\"white-space: pre-line; font-size:0.9em;\">Chain([<span style=\"color:#6666E0\">4F~:1♩</span>, <span style=\"color:#6666E0\">‹4E 4F 0.5♩›</span>, <span style=\"color:#6666E0\">Chain([4C:0.5♩, Chain([4C+:0.25♩, 4D:0.25♩], offset=3/2), ‹4C 4G 2♩›])</span>], dur=5.5, offset=1/2)</code><br>\n",
       "        <img style=\"display:inline; padding:10px;\n",
       "margin-top:14px;\n",
       "width:383px\"\n",
       "             src=\"data:image/png;base64,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\"/>"
      ],
      "text/plain": [
       "Chain([4F~:1♩, ‹4E 4F 0.5♩›, Chain([4C:0.5♩, Chain([4C+:0.25♩, 4D:0.25♩], offset=3/2), ‹4C 4G 2♩›])], offset=1/2)"
      ]
     },
     "execution_count": 3,
     "metadata": {},
     "output_type": "execute_result"
    }
   ],
   "source": [
    "ch2 = Chain([\n",
    "    Note(\"4F\", 1, tied=True),\n",
    "    Chord(\"4E 4F\", 1/2),\n",
    "    Chain([Note(\"4C\", 0.5),\n",
    "           Chain([\n",
    "               Note(\"4C+\", 0.25),\n",
    "               Note(\"4D\", 0.25)\n",
    "           ], offset=1.5),\n",
    "           Chord(\"4C 4G\", 2)\n",
    "          ])\n",
    "],offset=0.5)\n",
    "ch2"
   ]
  },
  {
   "cell_type": "code",
   "execution_count": 5,
   "id": "4f43233e-6bd7-4de1-9b55-e9716a77d310",
   "metadata": {},
   "outputs": [
    {
     "name": "stderr",
     "output_type": "stream",
     "text": [
      "\n",
      "\n",
      "\n",
      "--Csound version 6.19 (double samples) Jan 13 2024\n",
      "[commit: c53556fbbb69d14554a4a4bd91efa441a1701d70]\n",
      "\u001b[mlibsndfile-1.2.0\n",
      "\u001b[msr = 44100.0,\u001b[m kr = 689.062,\u001b[m ksmps = 64\n",
      "\u001b[m0dBFS level = 1.0,\u001b[m A4 tuning = 442.0\n",
      "\u001b[maudio buffered in 256 sample-frame blocks\n",
      "\u001b[mreading 2048-byte blks of shorts from adc:Built-in Audio Pro: (RAW)\n",
      "writing 512 sample blks of 64-bit floats to dac:Built-in Audio Pro:\n",
      "SECTION 1:\n",
      "\u001b[m"
     ]
    },
    {
     "data": {
      "application/vnd.jupyter.widget-view+json": {
       "model_id": "cebc3b4f03ca441582a05ecfe2db3d98",
       "version_major": 2,
       "version_minor": 0
      },
      "text/plain": [
       "Button(description='Stop', style=ButtonStyle())"
      ]
     },
     "metadata": {},
     "output_type": "display_data"
    },
    {
     "data": {
      "application/vnd.jupyter.widget-view+json": {
       "model_id": "f3d448d42aa74050bcbf1dccd7910f75",
       "version_major": 2,
       "version_minor": 0
      },
      "text/plain": [
       "Output()"
      ]
     },
     "metadata": {},
     "output_type": "display_data"
    },
    {
     "data": {
      "text/html": [
       "<small><span style=\"\"><b>SynthGroup</b></span>(synths=<code style=\"\">8</code>)</small>\n",
       "<p><small>Instr: <strong style=\"color:MediumSeaGreen\">preset:sin</strong> - <b>8</b> synths</small></p>\n",
       "<table style=\"font-size: smaller\"<thead><tr><th style=\"text-align:left\">p1</th><th style=\"text-align:left\">start</th><th style=\"text-align:left\">dur</th><th style=\"text-align:left\">p4</th><th style=\"text-align:left\">5:kpos</th><th style=\"text-align:left\">6:kgain</th><th style=\"text-align:left\">7:idataidx_</th><th style=\"text-align:left\">8:inumbps</th><th style=\"text-align:left\">9:ibplen</th><th style=\"text-align:left\">10:ichan</th><th style=\"text-align:left\">11:ifadein</th><th style=\"text-align:left\">12:ifadeout</th><th style=\"text-align:left\">13:ipchintrp_</th><th style=\"text-align:left\">14:ifadekind</th><th style=\"text-align:left\">15:ktransp</th><th style=\"text-align:left\">16:klag</th><th style=\"text-align:left\">17</th><th style=\"text-align:left\">18</th><th style=\"text-align:left\">19</th><th style=\"text-align:left\">20</th><th style=\"text-align:left\">21</th><th style=\"text-align:left\">...</th></tr></thead><tbody><tr><td style=\"text-align:left\">501.0002 <b>𝍪</b></td><td style=\"text-align:left\">1.525</td><td style=\"text-align:left\">1.500</td><td style=\"text-align:left\">0</td><td style=\"text-align:left\">0.5</td><td style=\"text-align:left\">1</td><td style=\"text-align:left\">17</td><td style=\"text-align:left\">3</td><td style=\"text-align:left\">3</td><td style=\"text-align:left\">1</td><td style=\"text-align:left\">0.02</td><td style=\"text-align:left\">0.02</td><td style=\"text-align:left\">0</td><td style=\"text-align:left\">1</td><td style=\"text-align:left\">0</td><td style=\"text-align:left\">0.1</td><td style=\"text-align:left\">0</td><td style=\"text-align:left\">65</td><td style=\"text-align:left\">0.51518</td><td style=\"text-align:left\">1</td><td style=\"text-align:left\">...</td></tr><tr><td style=\"text-align:left\">501.0003 <b>𝍪</b></td><td style=\"text-align:left\">2.525</td><td style=\"text-align:left\">0.500</td><td style=\"text-align:left\">0</td><td style=\"text-align:left\">0.5</td><td style=\"text-align:left\">0.70711</td><td style=\"text-align:left\">17</td><td style=\"text-align:left\">2</td><td style=\"text-align:left\">3</td><td style=\"text-align:left\">1</td><td style=\"text-align:left\">0.02</td><td style=\"text-align:left\">0.02</td><td style=\"text-align:left\">0</td><td style=\"text-align:left\">1</td><td style=\"text-align:left\">0</td><td style=\"text-align:left\">0.1</td><td style=\"text-align:left\">0</td><td style=\"text-align:left\">64</td><td style=\"text-align:left\">0.51518</td><td style=\"text-align:left\">0.5</td><td style=\"text-align:left\">...</td></tr><tr><td style=\"text-align:left\">501.0004 <b>𝍪</b></td><td style=\"text-align:left\">2.525</td><td style=\"text-align:left\">0.500</td><td style=\"text-align:left\">0</td><td style=\"text-align:left\">0.5</td><td style=\"text-align:left\">0.70711</td><td style=\"text-align:left\">17</td><td style=\"text-align:left\">2</td><td style=\"text-align:left\">3</td><td style=\"text-align:left\">1</td><td style=\"text-align:left\">0.02</td><td style=\"text-align:left\">0.02</td><td style=\"text-align:left\">0</td><td style=\"text-align:left\">1</td><td style=\"text-align:left\">0</td><td style=\"text-align:left\">0.1</td><td style=\"text-align:left\">0</td><td style=\"text-align:left\">64</td><td style=\"text-align:left\">0.51518</td><td style=\"text-align:left\">0.5</td><td style=\"text-align:left\">...</td></tr><tr><td style=\"text-align:left\">501.0005 <b>𝍪</b></td><td style=\"text-align:left\">3.025</td><td style=\"text-align:left\">0.500</td><td style=\"text-align:left\">0</td><td style=\"text-align:left\">0.5</td><td style=\"text-align:left\">1</td><td style=\"text-align:left\">17</td><td style=\"text-align:left\">2</td><td style=\"text-align:left\">3</td><td style=\"text-align:left\">1</td><td style=\"text-align:left\">0.02</td><td style=\"text-align:left\">0.02</td><td style=\"text-align:left\">0</td><td style=\"text-align:left\">1</td><td style=\"text-align:left\">0</td><td style=\"text-align:left\">0.1</td><td style=\"text-align:left\">0</td><td style=\"text-align:left\">60</td><td style=\"text-align:left\">0.51518</td><td style=\"text-align:left\">0.5</td><td style=\"text-align:left\">...</td></tr><tr><td style=\"text-align:left\">...</td></tr></tbody></table>"
      ],
      "text/plain": [
       "SynthGroup(n=8)\n",
       "    Synth(𝍪 preset:sin=501.0002 start=2.406 dur=1.500 p4=0.5 kpos=1 kgain=17 idataidx_=3 inumbps=3 ibplen=1 ichan=0.02 ifadein=0.02 ifadeout=0 ipchintrp_=1 ifadekind=0 ktransp=0.1 klag=0 p17=65 p18=0.515178 p19=1 p20=65 …)\n",
       "    Synth(𝍪 preset:sin=501.0003 start=3.406 dur=0.500 p4=0.5 kpos=0.707107 kgain=17 idataidx_=2 inumbps=3 ibplen=1 ichan=0.02 ifadein=0.02 ifadeout=0 ipchintrp_=1 ifadekind=0 ktransp=0.1 klag=0 p17=64 p18=0.515178 p19=0.5 p20=64 …)\n",
       "    Synth(𝍪 preset:sin=501.0004 start=3.406 dur=0.500 p4=0.5 kpos=0.707107 kgain=17 idataidx_=2 inumbps=3 ibplen=1 ichan=0.02 ifadein=0.02 ifadeout=0 ipchintrp_=1 ifadekind=0 ktransp=0.1 klag=0 p17=64 p18=0.515178 p19=0.5 p20=64 …)\n",
       "    Synth(𝍪 preset:sin=501.0005 start=3.906 dur=0.500 p4=0.5 kpos=1 kgain=17 idataidx_=2 inumbps=3 ibplen=1 ichan=0.02 ifadein=0.02 ifadeout=0 ipchintrp_=1 ifadekind=0 ktransp=0.1 klag=0 p17=60 p18=0.515178 p19=0.5 p20=60 …)\n",
       "    Synth(𝍪 preset:sin=501.0006 start=5.406 dur=0.250 p4=0.5 kpos=1 kgain=17 idataidx_=2 inumbps=3 ibplen=1 ichan=0.02 ifadein=0.02 ifadeout=0 ipchintrp_=1 ifadekind=0 ktransp=0.1 klag=0 p17=60.5 p18=0.515178 p19=0.25 p20=60.5 …)\n",
       "    Synth(𝍪 preset:sin=501.0007 start=5.656 dur=0.250 p4=0.5 kpos=1 kgain=17 idataidx_=2 inumbps=3 ibplen=1 ichan=0.02 ifadein=0.02 ifadeout=0 ipchintrp_=1 ifadekind=0 ktransp=0.1 klag=0 p17=62 p18=0.515178 p19=0.25 p20=62 …)\n",
       "    Synth(𝍪 preset:sin=501.0008 start=5.906 dur=2.000 p4=0.5 kpos=0.707107 kgain=17 idataidx_=2 inumbps=3 ibplen=1 ichan=0.02 ifadein=0.02 ifadeout=0 ipchintrp_=1 ifadekind=0 ktransp=0.1 klag=0 p17=60 p18=0.515178 p19=2 p20=60 …)\n",
       "    Synth(𝍪 preset:sin=501.0009 start=5.906 dur=2.000 p4=0.5 kpos=0.707107 kgain=17 idataidx_=2 inumbps=3 ibplen=1 ichan=0.02 ifadein=0.02 ifadeout=0 ipchintrp_=1 ifadekind=0 ktransp=0.1 klag=0 p17=67 p18=0.515178 p19=2 p20=67 …)"
      ]
     },
     "execution_count": 5,
     "metadata": {},
     "output_type": "execute_result"
    }
   ],
   "source": [
    "ch2.play()"
   ]
  },
  {
   "cell_type": "code",
   "execution_count": 6,
   "id": "1a7f28a2-cf7f-44fc-a6d0-84208f9a5bb9",
   "metadata": {},
   "outputs": [
    {
     "data": {
      "text/html": [
       "<code style=\"white-space: pre-line; font-size:0.9em;\">Chain([<span style=\"color:#6666E0\">‹4D 4F 4A 2♩ gliss›</span>, <span style=\"color:#6666E0\">‹4F# 4G 4Ab 1♩›</span>], dur=3)</code><br>\n",
       "        <img style=\"display:inline; padding:10px;\n",
       "margin-top:14px;\n",
       "width:201px\"\n",
       "             src=\"data:image/png;base64,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\"/>"
      ],
      "text/plain": [
       "Chain([‹4D 4F 4A 2♩ gliss›, ‹4F# 4G 4Ab 1♩›])"
      ]
     },
     "execution_count": 6,
     "metadata": {},
     "output_type": "execute_result"
    }
   ],
   "source": [
    "ch = Chain([\n",
    "    \"4D,4F,4A:2:gliss\",\n",
    "    \"4F#,4G,4Ab:1\"\n",
    "])\n",
    "ch"
   ]
  },
  {
   "cell_type": "code",
   "execution_count": 3,
   "id": "5c556fe7-6307-4c49-9b7e-495386ed73f7",
   "metadata": {},
   "outputs": [
    {
     "name": "stderr",
     "output_type": "stream",
     "text": [
      "\n",
      "\n",
      "--Csound version 6.18 (double samples) Jul 30 2022\n",
      "[commit: 699aa77b3ac9e5000cac4024447651a43b95e09d]\n",
      "\u001b[mlibsndfile-1.0.31\n",
      "\u001b[msr = 44100.0,\u001b[m kr = 689.062,\u001b[m ksmps = 64\n",
      "\u001b[m0dBFS level = 1.0,\u001b[m A4 tuning = 442.0\n",
      "\u001b[maudio buffered in 256 sample-frame blocks\n",
      "\u001b[mreading 1024-byte blks of shorts from adc:system:capture (RAW)\n",
      "Cannot use real-time scheduling (RR/5) (1: Operation not permitted)\n",
      "JackClient::AcquireSelfRealTime error\n",
      "writing 512 sample blks of 64-bit floats to dac:system:playback\n",
      "SECTION 1:\n",
      "\u001b[m"
     ]
    },
    {
     "data": {
      "application/vnd.jupyter.widget-view+json": {
       "model_id": "c4e83ca8a73a49c99304cfe885618a27",
       "version_major": 2,
       "version_minor": 0
      },
      "text/plain": [
       "Button(description='Stop', style=ButtonStyle())"
      ]
     },
     "metadata": {},
     "output_type": "display_data"
    },
    {
     "data": {
      "application/vnd.jupyter.widget-view+json": {
       "model_id": "be1702c04bee4688af047939386b31b8",
       "version_major": 2,
       "version_minor": 0
      },
      "text/plain": [
       "Output()"
      ]
     },
     "metadata": {},
     "output_type": "display_data"
    },
    {
     "data": {
      "text/html": [
       "<small>SynthGroup - start: 0.183, dur: 3.000, synths: 3</small>\n",
       "<p>instr: <strong style=\"color:MediumSeaGreen\">preset._piano</strong> - <b>3</b> synths</p>\n",
       "<table><thead><tr><th style=\"text-align:left\">p1</th><th style=\"text-align:left\">start</th><th style=\"text-align:left\">dur</th><th style=\"text-align:left\">4</th><th style=\"text-align:left\">5:idataidx_</th><th style=\"text-align:left\">6:inumbps</th><th style=\"text-align:left\">7:ibplen</th><th style=\"text-align:left\">8:igain_</th><th style=\"text-align:left\">9:ichan_</th><th style=\"text-align:left\">10:ipos</th><th style=\"text-align:left\">11:ifade0</th><th style=\"text-align:left\">12:ifade1</th><th style=\"text-align:left\">13:ipchintrp_</th><th style=\"text-align:left\">14:ifadekind_</th><th style=\"text-align:left\">15</th><th style=\"text-align:left\">16</th><th style=\"text-align:left\">...</th></tr></thead><tbody><tr><td style=\"text-align:left\">1001.0002 <b>𝍪</b></td><td style=\"text-align:left\">0.183</td><td style=\"text-align:left\">3.000</td><td style=\"text-align:left\">0</td><td style=\"text-align:left\">15</td><td style=\"text-align:left\">3</td><td style=\"text-align:left\">3</td><td style=\"text-align:left\">1</td><td style=\"text-align:left\">1</td><td style=\"text-align:left\">-1</td><td style=\"text-align:left\">0.02</td><td style=\"text-align:left\">0.02</td><td style=\"text-align:left\">0</td><td style=\"text-align:left\">1</td><td style=\"text-align:left\">0</td><td style=\"text-align:left\">...</td></tr><tr><td style=\"text-align:left\">1001.0003 <b>𝍪</b></td><td style=\"text-align:left\">0.183</td><td style=\"text-align:left\">3.000</td><td style=\"text-align:left\">0</td><td style=\"text-align:left\">15</td><td style=\"text-align:left\">3</td><td style=\"text-align:left\">3</td><td style=\"text-align:left\">1</td><td style=\"text-align:left\">1</td><td style=\"text-align:left\">-1</td><td style=\"text-align:left\">0.02</td><td style=\"text-align:left\">0.02</td><td style=\"text-align:left\">0</td><td style=\"text-align:left\">1</td><td style=\"text-align:left\">0</td><td style=\"text-align:left\">...</td></tr><tr><td style=\"text-align:left\">1001.0004 <b>𝍪</b></td><td style=\"text-align:left\">0.183</td><td style=\"text-align:left\">3.000</td><td style=\"text-align:left\">0</td><td style=\"text-align:left\">15</td><td style=\"text-align:left\">3</td><td style=\"text-align:left\">3</td><td style=\"text-align:left\">1</td><td style=\"text-align:left\">1</td><td style=\"text-align:left\">-1</td><td style=\"text-align:left\">0.02</td><td style=\"text-align:left\">0.02</td><td style=\"text-align:left\">0</td><td style=\"text-align:left\">1</td><td style=\"text-align:left\">0</td><td style=\"text-align:left\">...</td></tr></tbody></table>"
      ],
      "text/plain": [
       "SynthGroup(n=3)\n",
       "    Synth(𝍪 preset._piano:1001.0002, p4=0 idataidx_:5=15 inumbps:6=3 ibplen:7=3 igain_:8=1 ichan_:9=1 ipos:10=-1 ifade0:11=0.02 ifade1:12=0.02 ipchintrp_:13=0 ifadekind_:14=1 p15=0 p16=62 ...)\n",
       "    Synth(𝍪 preset._piano:1001.0003, p4=0 idataidx_:5=15 inumbps:6=3 ibplen:7=3 igain_:8=1 ichan_:9=1 ipos:10=-1 ifade0:11=0.02 ifade1:12=0.02 ipchintrp_:13=0 ifadekind_:14=1 p15=0 p16=65 ...)\n",
       "    Synth(𝍪 preset._piano:1001.0004, p4=0 idataidx_:5=15 inumbps:6=3 ibplen:7=3 igain_:8=1 ichan_:9=1 ipos:10=-1 ifade0:11=0.02 ifade1:12=0.02 ipchintrp_:13=0 ifadekind_:14=1 p15=0 p16=69 ...)"
      ]
     },
     "execution_count": 3,
     "metadata": {},
     "output_type": "execute_result"
    }
   ],
   "source": [
    "ch.play()"
   ]
  },
  {
   "cell_type": "code",
   "execution_count": 7,
   "id": "9969f3dc-fc7e-4935-9aff-a46b8ccd0930",
   "metadata": {},
   "outputs": [
    {
     "data": {
      "text/html": [
       "<code style=\"font-size:0.9em\">Chain([<span style=\"color:#6666E0\">4F:350Hz:1♩</span>, <span style=\"color:#6666E0\">4C:262Hz:0.5♩~</span>, <span style=\"color:#6666E0\">‹4C 4G 2♩›</span>], start=1.0)</code><br>\n",
       "        <img style=\"display:inline; padding:10px;\n",
       "margin-top:14px;\n",
       "width:337px\"\n",
       "             src=\"data:image/png;base64,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\"/>"
      ],
      "text/plain": [
       "Chain([4F:350Hz:1♩, 4C:262Hz:0.5♩~, ‹4C 4G 2♩›], start=1.0)"
      ]
     },
     "execution_count": 7,
     "metadata": {},
     "output_type": "execute_result"
    }
   ],
   "source": [
    "f"
   ]
  },
  {
   "cell_type": "code",
   "execution_count": 8,
   "id": "a919b873-5419-43e8-b98c-f5f7054522c1",
   "metadata": {},
   "outputs": [
    {
     "data": {
      "text/html": [
       "<code></code><strong>Chain</strong> &nbsp;start: <code><span style=\"color:#9090FF\">1.0</span></code><br><code>  <span style=\"color:#BBBBBB\">start dur   name      gliss dyn  playargs</span></code><br><code>  <span style=\"color:#9090FF\">0     0.5   4C~       False f    None</code></span></code><br><code>  <span style=\"color:#9090FF\">0.5   1     4C,4G     False      None</code></span></code>"
      ],
      "text/plain": [
       "<IPython.core.display.HTML object>"
      ]
     },
     "metadata": {},
     "output_type": "display_data"
    }
   ],
   "source": [
    "ch2[1].resolved().dump()"
   ]
  },
  {
   "cell_type": "code",
   "execution_count": 21,
   "id": "3ec594f5-6c75-4b23-84fb-4133933bf0cf",
   "metadata": {},
   "outputs": [],
   "source": [
    "ch3b = ch3[1]"
   ]
  },
  {
   "cell_type": "code",
   "execution_count": 24,
   "id": "5efac4e1-23a1-4120-9805-840c17a99a5b",
   "metadata": {},
   "outputs": [
    {
     "data": {
      "text/html": [
       "<p><strong>Chain</strong>(<small>start=1.0</small>)</p><table><thead><tr><th style=\"text-align:left\">time</th><th style=\"text-align:left\">pitch</th><th style=\"text-align:left\">dur</th><th style=\"text-align:left\">gliss</th><th style=\"text-align:left\">dynamic</th><th style=\"text-align:left\">playargs</th></tr></thead><tbody><tr><td style=\"text-align:left\">1.0</td><td style=\"text-align:left\">4C</td><td style=\"text-align:left\">0.5</td><td style=\"text-align:left\">False</td><td style=\"text-align:left\">None</td><td style=\"text-align:left\">None</td></tr><tr><td style=\"text-align:left\">1.5</td><td style=\"text-align:left\">4E, 4G</td><td style=\"text-align:left\">1.0</td><td style=\"text-align:left\">False</td><td style=\"text-align:left\"></td><td style=\"text-align:left\">None</td></tr></tbody></table>"
      ],
      "text/plain": [
       "<IPython.core.display.HTML object>"
      ]
     },
     "metadata": {},
     "output_type": "display_data"
    }
   ],
   "source": [
    "ch3b.resolved().dump()"
   ]
  },
  {
   "cell_type": "code",
   "execution_count": null,
   "id": "3acbd142-81eb-4d98-9027-d0e479351506",
   "metadata": {},
   "outputs": [],
   "source": []
  }
 ],
 "metadata": {
  "kernelspec": {
   "display_name": "Python 3 (ipykernel)",
   "language": "python",
   "name": "python3"
  },
  "language_info": {
   "codemirror_mode": {
    "name": "ipython",
    "version": 3
   },
   "file_extension": ".py",
   "mimetype": "text/x-python",
   "name": "python",
   "nbconvert_exporter": "python",
   "pygments_lexer": "ipython3",
   "version": "3.11.6"
  }
 },
 "nbformat": 4,
 "nbformat_minor": 5
}
