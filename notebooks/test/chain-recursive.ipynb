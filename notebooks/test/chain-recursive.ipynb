{
 "cells": [
  {
   "cell_type": "code",
   "execution_count": 1,
   "id": "4d140b62-3e91-4655-87fe-14cb975236a8",
   "metadata": {},
   "outputs": [],
   "source": [
    "from maelzel.core import *\n"
   ]
  },
  {
   "cell_type": "code",
   "execution_count": 2,
   "id": "14b9b631-e974-472c-ad8c-5da39ece4d71",
   "metadata": {},
   "outputs": [
    {
     "data": {
      "text/html": [
       "<code><span style=\"font-size: 85%\"><b>Chain</b> - beat: 0, offset: None, dur: 4.5</span></code><br><code><span style=\"color:#BBBBBB;font-size:85%\">  location  beat   offset      dur         name      gliss dyn  playargs            info                </span></code><br><code><span style=\"color:#9090FF;font-size:85%\">  0:0       0      (0)         1           4F~       F          None                -</span></code><br><code><span style=\"color:#9090FF;font-size:85%\">  0:1.5     1.5    1.5         0.5         4G        F          None                -</span></code><br><code><span style=\"font-size: 85%\">  <b>Chain</b> - beat: 4, offset: 4, dur: 0.5</span></code><br><code><span style=\"color:#BBBBBB;font-size:85%\">    location  beat   offset      dur         name      gliss dyn  playargs            info                </span></code><br><code><span style=\"color:#9090FF;font-size:85%\">    1:0       4      (0)         0.5         4C        F          None                -</span></code>"
      ],
      "text/plain": [
       "<IPython.core.display.HTML object>"
      ]
     },
     "metadata": {},
     "output_type": "display_data"
    },
    {
     "name": "stdout",
     "output_type": "stream",
     "text": [
      "[4F~:1♩:offset=0, 4G:0.5♩:offset=1.5, 4C:0.5♩:offset=4]\n",
      "[«4F~ 0:1 1♩», «~4G 1.5:2 1/2♩», «4C 4:4.5 1/2♩»]\n"
     ]
    },
    {
     "data": {
      "text/html": [
       "<code style=\"white-space: pre-line; font-size:0.9em;\">Chain([<span style=\"color:#6666E0\">4F~:1♩</span>, <span style=\"color:#6666E0\">4G:0.5♩:offset=1.5</span>, <span style=\"color:#6666E0\">Chain([4C:0.5♩], offset=4)</span>], dur=4.5)</code><br>\n",
       "        <img style=\"display:inline; padding:10px;\n",
       "margin-top:14px;\n",
       "width:316px\"\n",
       "             src=\"data:image/png;base64,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\"/>"
      ],
      "text/plain": [
       "Chain([4F~:1♩, 4G:0.5♩:offset=1.5, Chain([4C:0.5♩], offset=4)])"
      ]
     },
     "execution_count": 2,
     "metadata": {},
     "output_type": "execute_result"
    }
   ],
   "source": [
    "ch2 = Chain([\n",
    "    Note(\"4F\", 1, tied=True),\n",
    "    Note(\"4G\", 0.5, offset=1.5),\n",
    "    Chain([Note(\"4C\", 0.5)],\n",
    "           offset=4),\n",
    "           \n",
    "])\n",
    "ch2.dump()\n",
    "print(ch2.flatItems())\n",
    "print(ch2.scoringEvents())\n",
    "ch2"
   ]
  },
  {
   "cell_type": "code",
   "execution_count": 3,
   "id": "ffb81742-38ea-415a-883e-86b0fb9be6da",
   "metadata": {},
   "outputs": [
    {
     "data": {
      "text/html": [
       "<code style=\"white-space: pre-line; font-size:0.9em;\">Chain([<span style=\"color:#6666E0\">4F~:1♩</span>, <span style=\"color:#6666E0\">‹4E 4F 0.5♩›</span>, <span style=\"color:#6666E0\">Chain([4C:0.5♩, Chain([4C+:0.25♩, 4D:0.25♩], offset=3/2), ‹4C 4G 2♩›])</span>], dur=5.5, offset=1/2)</code><br>\n",
       "        <img style=\"display:inline; padding:10px;\n",
       "margin-top:14px;\n",
       "width:383px\"\n",
       "             src=\"data:image/png;base64,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\"/>"
      ],
      "text/plain": [
       "Chain([4F~:1♩, ‹4E 4F 0.5♩›, Chain([4C:0.5♩, Chain([4C+:0.25♩, 4D:0.25♩], offset=3/2), ‹4C 4G 2♩›])], offset=1/2)"
      ]
     },
     "execution_count": 3,
     "metadata": {},
     "output_type": "execute_result"
    }
   ],
   "source": [
    "ch2 = Chain([\n",
    "    Note(\"4F\", 1, tied=True),\n",
    "    Chord(\"4E 4F\", 1/2),\n",
    "    Chain([Note(\"4C\", 0.5),\n",
    "           Chain([\n",
    "               Note(\"4C+\", 0.25),\n",
    "               Note(\"4D\", 0.25)\n",
    "           ], offset=1.5),\n",
    "           Chord(\"4C 4G\", 2)\n",
    "          ])\n",
    "],offset=0.5)\n",
    "ch2"
   ]
  },
  {
   "cell_type": "code",
   "execution_count": 3,
   "id": "28caf7bd-31cf-4c59-969d-e86ec43b9057",
   "metadata": {},
   "outputs": [
    {
     "name": "stdout",
     "output_type": "stream",
     "text": [
      " "
     ]
    },
    {
     "data": {
      "text/plain": [
       "         350004 function calls in 0.284 seconds\n",
       "\n",
       "   Ordered by: internal time\n",
       "\n",
       "   ncalls  tottime  percall  cumtime  percall filename:lineno(function)\n",
       "     6000    0.031    0.000    0.059    0.000 notation.py:103(__init__)\n",
       "     4000    0.020    0.000    0.072    0.000 event.py:540(scoringEvents)\n",
       "     4000    0.014    0.000    0.034    0.000 event.py:370(clone)\n",
       "     2000    0.013    0.000    0.064    0.000 event.py:1047(scoringEvents)\n",
       "     1000    0.012    0.000    0.281    0.000 chain.py:878(scoringEvents)\n",
       "     8000    0.012    0.000    0.029    0.000 event.py:122(__init__)\n",
       "    10000    0.011    0.000    0.020    0.000 eventbase.py:22(__init__)\n",
       "     1000    0.010    0.000    0.107    0.000 chain.py:308(<listcomp>)\n",
       "    32000    0.010    0.000    0.013    0.000 common.py:35(asF)\n",
       "     4000    0.010    0.000    0.026    0.000 event.py:361(copy)\n",
       "     4000    0.009    0.000    0.045    0.000 notation.py:1407(makeNote)\n",
       "    10000    0.009    0.000    0.009    0.000 mobj.py:132(__init__)\n",
       "     2000    0.008    0.000    0.048    0.000 event.py:941(copy)\n",
       "     1000    0.007    0.000    0.012    0.000 chain.py:1751(_resolveGlissandi)\n",
       "     4000    0.007    0.000    0.007    0.000 __init__.py:612(midi_to_note_parts)\n",
       "     8000    0.006    0.000    0.008    0.000 common.py:67(asmidi)\n",
       "     2000    0.006    0.000    0.012    0.000 event.py:856(__init__)\n",
       "     6000    0.006    0.000    0.014    0.000 notation.py:127(<listcomp>)\n",
       "    56000    0.006    0.000    0.006    0.000 {built-in method builtins.isinstance}\n",
       "     2000    0.005    0.000    0.056    0.000 mobj.py:489(clone)\n",
       "     4000    0.005    0.000    0.012    0.000 __init__.py:478(m2n)\n",
       "     4000    0.004    0.000    0.017    0.000 event.py:501(name)\n",
       "     2000    0.004    0.000    0.030    0.000 notation.py:1449(makeChord)\n",
       "    12000    0.004    0.000    0.007    0.000 <frozen abc>:117(__instancecheck__)\n",
       "     6000    0.004    0.000    0.007    0.000 {built-in method builtins.any}\n",
       "    16000    0.004    0.000    0.004    0.000 mobj.py:171(dur)\n",
       "    12000    0.004    0.000    0.004    0.000 mobj.py:196(_copyAttributesTo)\n",
       "    12000    0.003    0.000    0.003    0.000 {built-in method _abc._abc_instancecheck}\n",
       "    14000    0.003    0.000    0.003    0.000 notation.py:202(<genexpr>)\n",
       "    16000    0.003    0.000    0.003    0.000 event.py:344(gliss)\n",
       "     4000    0.003    0.000    0.003    0.000 notation.py:602(fixNotename)\n",
       "     2000    0.003    0.000    0.004    0.000 iterlib.py:154(pairwise)\n",
       "    11000    0.003    0.000    0.003    0.000 event.py:428(isRest)\n",
       "     1000    0.003    0.000    0.124    0.000 chain.py:300(flatItems)\n",
       "        1    0.002    0.002    0.283    0.283 <string>:1(<listcomp>)\n",
       "     2000    0.002    0.000    0.019    0.000 event.py:1054(<listcomp>)\n",
       "     2000    0.002    0.000    0.028    0.000 event.py:942(<listcomp>)\n",
       "     7000    0.002    0.000    0.002    0.000 core.py:346(<genexpr>)\n",
       "     7000    0.002    0.000    0.002    0.000 mobj.py:339(relOffset)\n",
       "     2000    0.001    0.000    0.001    0.000 {built-in method itertools.tee}\n",
       "     6000    0.001    0.000    0.001    0.000 mobj.py:263(getProperty)\n",
       "     1000    0.001    0.000    0.003    0.000 {built-in method builtins.all}\n",
       "     2000    0.001    0.000    0.002    0.000 chain.py:650(_update)\n",
       "    10000    0.001    0.000    0.001    0.000 typing.py:2246(cast)\n",
       "     6000    0.001    0.000    0.001    0.000 event.py:937(gliss)\n",
       "     6000    0.001    0.000    0.001    0.000 {method 'extend' of 'list' objects}\n",
       "        1    0.001    0.001    0.284    0.284 <string>:1(<module>)\n",
       "     1000    0.001    0.000    0.004    0.000 core.py:334(resolveOffsets)\n",
       "     1000    0.001    0.000    0.001    0.000 chain.py:1030(eventsWithOffset)\n",
       "     2000    0.001    0.000    0.001    0.000 chain.py:603(dur)\n",
       "     1000    0.001    0.000    0.001    0.000 event.py:950(__len__)\n",
       "     2000    0.000    0.000    0.000    0.000 {built-in method builtins.setattr}\n",
       "     2000    0.000    0.000    0.000    0.000 {built-in method builtins.next}\n",
       "     1000    0.000    0.000    0.000    0.000 workspace.py:124(config)\n",
       "        1    0.000    0.000    0.284    0.284 {built-in method builtins.exec}\n",
       "     2000    0.000    0.000    0.000    0.000 {method 'items' of 'dict' objects}\n",
       "     2000    0.000    0.000    0.000    0.000 eventbase.py:49(isRest)\n",
       "     1000    0.000    0.000    0.000    0.000 mobj.py:182(parent)\n",
       "     1000    0.000    0.000    0.000    0.000 {built-in method builtins.len}\n",
       "        1    0.000    0.000    0.000    0.000 {method 'disable' of '_lsprof.Profiler' objects}"
      ]
     },
     "metadata": {},
     "output_type": "display_data"
    }
   ],
   "source": [
    "%prun [ch2.scoringEvents() for _ in range(1000)]"
   ]
  },
  {
   "cell_type": "code",
   "execution_count": 5,
   "id": "4f43233e-6bd7-4de1-9b55-e9716a77d310",
   "metadata": {},
   "outputs": [
    {
     "data": {
      "application/vnd.jupyter.widget-view+json": {
       "model_id": "78ef89e0c52e4e60911233d4e5cb4d9d",
       "version_major": 2,
       "version_minor": 0
      },
      "text/plain": [
       "Button(description='Stop', style=ButtonStyle())"
      ]
     },
     "metadata": {},
     "output_type": "display_data"
    },
    {
     "data": {
      "application/vnd.jupyter.widget-view+json": {
       "model_id": "ace41246701440569033f8a7ab45a62b",
       "version_major": 2,
       "version_minor": 0
      },
      "text/plain": [
       "Output()"
      ]
     },
     "metadata": {},
     "output_type": "display_data"
    },
    {
     "data": {
      "text/html": [
       "<small>SynthGroup - start: 0.677, dur: 5.000, synths: 7</small>\n",
       "<p>instr: <strong style=\"color:MediumSeaGreen\">preset._piano</strong> - <b>7</b> synths</p>\n",
       "<table><thead><tr><th style=\"text-align:left\">p1</th><th style=\"text-align:left\">start</th><th style=\"text-align:left\">dur</th><th style=\"text-align:left\">4</th><th style=\"text-align:left\">5:idataidx_</th><th style=\"text-align:left\">6:inumbps</th><th style=\"text-align:left\">7:ibplen</th><th style=\"text-align:left\">8:igain_</th><th style=\"text-align:left\">9:ichan_</th><th style=\"text-align:left\">10:ipos</th><th style=\"text-align:left\">11:ifade0</th><th style=\"text-align:left\">12:ifade1</th><th style=\"text-align:left\">13:ipchintrp_</th><th style=\"text-align:left\">14:ifadekind_</th><th style=\"text-align:left\">15</th><th style=\"text-align:left\">16</th><th style=\"text-align:left\">...</th></tr></thead><tbody><tr><td style=\"text-align:left\">1001.0005 <b>𝍪</b></td><td style=\"text-align:left\">0.677</td><td style=\"text-align:left\">1.333</td><td style=\"text-align:left\">0</td><td style=\"text-align:left\">15</td><td style=\"text-align:left\">3</td><td style=\"text-align:left\">3</td><td style=\"text-align:left\">1</td><td style=\"text-align:left\">1</td><td style=\"text-align:left\">-1</td><td style=\"text-align:left\">0.02</td><td style=\"text-align:left\">0.02</td><td style=\"text-align:left\">0</td><td style=\"text-align:left\">1</td><td style=\"text-align:left\">0</td><td style=\"text-align:left\">...</td></tr><tr><td style=\"text-align:left\">1001.0006 <b>𝍪</b></td><td style=\"text-align:left\">1.677</td><td style=\"text-align:left\">0.333</td><td style=\"text-align:left\">0</td><td style=\"text-align:left\">15</td><td style=\"text-align:left\">2</td><td style=\"text-align:left\">3</td><td style=\"text-align:left\">1</td><td style=\"text-align:left\">1</td><td style=\"text-align:left\">-1</td><td style=\"text-align:left\">0.02</td><td style=\"text-align:left\">0.02</td><td style=\"text-align:left\">0</td><td style=\"text-align:left\">1</td><td style=\"text-align:left\">0</td><td style=\"text-align:left\">...</td></tr><tr><td style=\"text-align:left\">1001.0007 <b>𝍪</b></td><td style=\"text-align:left\">2.677</td><td style=\"text-align:left\">0.500</td><td style=\"text-align:left\">0</td><td style=\"text-align:left\">15</td><td style=\"text-align:left\">2</td><td style=\"text-align:left\">3</td><td style=\"text-align:left\">1</td><td style=\"text-align:left\">1</td><td style=\"text-align:left\">-1</td><td style=\"text-align:left\">0.02</td><td style=\"text-align:left\">0.02</td><td style=\"text-align:left\">0</td><td style=\"text-align:left\">1</td><td style=\"text-align:left\">0</td><td style=\"text-align:left\">...</td></tr><tr><td style=\"text-align:left\">1001.0008 <b>𝍪</b></td><td style=\"text-align:left\">3.177</td><td style=\"text-align:left\">0.250</td><td style=\"text-align:left\">0</td><td style=\"text-align:left\">15</td><td style=\"text-align:left\">2</td><td style=\"text-align:left\">3</td><td style=\"text-align:left\">1</td><td style=\"text-align:left\">1</td><td style=\"text-align:left\">-1</td><td style=\"text-align:left\">0.02</td><td style=\"text-align:left\">0.02</td><td style=\"text-align:left\">0</td><td style=\"text-align:left\">1</td><td style=\"text-align:left\">0</td><td style=\"text-align:left\">...</td></tr><tr><td style=\"text-align:left\">...</td></tr></tbody></table>"
      ],
      "text/plain": [
       "SynthGroup(n=7)\n",
       "    Synth(𝍪 preset._piano:1001.0005, p4=0 idataidx_:5=15 inumbps:6=3 ibplen:7=3 igain_:8=1 ichan_:9=1 ipos:10=-1 ifade0:11=0.02 ifade1:12=0.02 ipchintrp_:13=0 ifadekind_:14=1 p15=0 p16=65 ...)\n",
       "    Synth(𝍪 preset._piano:1001.0006, p4=0 idataidx_:5=15 inumbps:6=2 ibplen:7=3 igain_:8=1 ichan_:9=1 ipos:10=-1 ifade0:11=0.02 ifade1:12=0.02 ipchintrp_:13=0 ifadekind_:14=1 p15=0 p16=64 ...)\n",
       "    Synth(𝍪 preset._piano:1001.0007, p4=0 idataidx_:5=15 inumbps:6=2 ibplen:7=3 igain_:8=1 ichan_:9=1 ipos:10=-1 ifade0:11=0.02 ifade1:12=0.02 ipchintrp_:13=0 ifadekind_:14=1 p15=0 p16=60 ...)\n",
       "    Synth(𝍪 preset._piano:1001.0008, p4=0 idataidx_:5=15 inumbps:6=2 ibplen:7=3 igain_:8=1 ichan_:9=1 ipos:10=-1 ifade0:11=0.02 ifade1:12=0.02 ipchintrp_:13=0 ifadekind_:14=1 p15=0 p16=60.5 ...)\n",
       "    Synth(𝍪 preset._piano:1001.0009, p4=0 idataidx_:5=15 inumbps:6=2 ibplen:7=3 igain_:8=1 ichan_:9=1 ipos:10=-1 ifade0:11=0.02 ifade1:12=0.02 ipchintrp_:13=0 ifadekind_:14=1 p15=0 p16=62 ...)\n",
       "    Synth(𝍪 preset._piano:1001.001, p4=0 idataidx_:5=15 inumbps:6=2 ibplen:7=3 igain_:8=0.707107 ichan_:9=1 ipos:10=-1 ifade0:11=0.02 ifade1:12=0.02 ipchintrp_:13=0 ifadekind_:14=1 p15=0 p16=60 ...)\n",
       "    Synth(𝍪 preset._piano:1001.0011, p4=0 idataidx_:5=15 inumbps:6=2 ibplen:7=3 igain_:8=0.707107 ichan_:9=1 ipos:10=-1 ifade0:11=0.02 ifade1:12=0.02 ipchintrp_:13=0 ifadekind_:14=1 p15=0 p16=67 ...)"
      ]
     },
     "execution_count": 5,
     "metadata": {},
     "output_type": "execute_result"
    }
   ],
   "source": [
    "ch2.play()"
   ]
  },
  {
   "cell_type": "code",
   "execution_count": 2,
   "id": "1a7f28a2-cf7f-44fc-a6d0-84208f9a5bb9",
   "metadata": {},
   "outputs": [
    {
     "data": {
      "text/html": [
       "<code style=\"font-size:0.9em\">Chain([<span style=\"color:#6666E0\">‹4D 4F 4A 2♩ gliss›</span>, <span style=\"color:#6666E0\">‹4F# 4G 4G# 1♩›</span>])</code><br>\n",
       "        <img style=\"display:inline; padding:10px;\n",
       "margin-top:14px;\n",
       "width:215px\"\n",
       "             src=\"data:image/png;base64,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\"/>"
      ],
      "text/plain": [
       "Chain([‹4D 4F 4A 2♩ gliss›, ‹4F# 4G 4G# 1♩›])"
      ]
     },
     "execution_count": 2,
     "metadata": {},
     "output_type": "execute_result"
    }
   ],
   "source": [
    "ch = Chain([\n",
    "    \"4D,4F,4A:2:gliss\",\n",
    "    \"4F#,4G,4Ab:1\"\n",
    "])\n",
    "ch"
   ]
  },
  {
   "cell_type": "code",
   "execution_count": 3,
   "id": "5c556fe7-6307-4c49-9b7e-495386ed73f7",
   "metadata": {},
   "outputs": [
    {
     "name": "stderr",
     "output_type": "stream",
     "text": [
      "\n",
      "\n",
      "--Csound version 6.18 (double samples) Jul 30 2022\n",
      "[commit: 699aa77b3ac9e5000cac4024447651a43b95e09d]\n",
      "\u001b[mlibsndfile-1.0.31\n",
      "\u001b[msr = 44100.0,\u001b[m kr = 689.062,\u001b[m ksmps = 64\n",
      "\u001b[m0dBFS level = 1.0,\u001b[m A4 tuning = 442.0\n",
      "\u001b[maudio buffered in 256 sample-frame blocks\n",
      "\u001b[mreading 1024-byte blks of shorts from adc:system:capture (RAW)\n",
      "Cannot use real-time scheduling (RR/5) (1: Operation not permitted)\n",
      "JackClient::AcquireSelfRealTime error\n",
      "writing 512 sample blks of 64-bit floats to dac:system:playback\n",
      "SECTION 1:\n",
      "\u001b[m"
     ]
    },
    {
     "data": {
      "application/vnd.jupyter.widget-view+json": {
       "model_id": "c4e83ca8a73a49c99304cfe885618a27",
       "version_major": 2,
       "version_minor": 0
      },
      "text/plain": [
       "Button(description='Stop', style=ButtonStyle())"
      ]
     },
     "metadata": {},
     "output_type": "display_data"
    },
    {
     "data": {
      "application/vnd.jupyter.widget-view+json": {
       "model_id": "be1702c04bee4688af047939386b31b8",
       "version_major": 2,
       "version_minor": 0
      },
      "text/plain": [
       "Output()"
      ]
     },
     "metadata": {},
     "output_type": "display_data"
    },
    {
     "data": {
      "text/html": [
       "<small>SynthGroup - start: 0.183, dur: 3.000, synths: 3</small>\n",
       "<p>instr: <strong style=\"color:MediumSeaGreen\">preset._piano</strong> - <b>3</b> synths</p>\n",
       "<table><thead><tr><th style=\"text-align:left\">p1</th><th style=\"text-align:left\">start</th><th style=\"text-align:left\">dur</th><th style=\"text-align:left\">4</th><th style=\"text-align:left\">5:idataidx_</th><th style=\"text-align:left\">6:inumbps</th><th style=\"text-align:left\">7:ibplen</th><th style=\"text-align:left\">8:igain_</th><th style=\"text-align:left\">9:ichan_</th><th style=\"text-align:left\">10:ipos</th><th style=\"text-align:left\">11:ifade0</th><th style=\"text-align:left\">12:ifade1</th><th style=\"text-align:left\">13:ipchintrp_</th><th style=\"text-align:left\">14:ifadekind_</th><th style=\"text-align:left\">15</th><th style=\"text-align:left\">16</th><th style=\"text-align:left\">...</th></tr></thead><tbody><tr><td style=\"text-align:left\">1001.0002 <b>𝍪</b></td><td style=\"text-align:left\">0.183</td><td style=\"text-align:left\">3.000</td><td style=\"text-align:left\">0</td><td style=\"text-align:left\">15</td><td style=\"text-align:left\">3</td><td style=\"text-align:left\">3</td><td style=\"text-align:left\">1</td><td style=\"text-align:left\">1</td><td style=\"text-align:left\">-1</td><td style=\"text-align:left\">0.02</td><td style=\"text-align:left\">0.02</td><td style=\"text-align:left\">0</td><td style=\"text-align:left\">1</td><td style=\"text-align:left\">0</td><td style=\"text-align:left\">...</td></tr><tr><td style=\"text-align:left\">1001.0003 <b>𝍪</b></td><td style=\"text-align:left\">0.183</td><td style=\"text-align:left\">3.000</td><td style=\"text-align:left\">0</td><td style=\"text-align:left\">15</td><td style=\"text-align:left\">3</td><td style=\"text-align:left\">3</td><td style=\"text-align:left\">1</td><td style=\"text-align:left\">1</td><td style=\"text-align:left\">-1</td><td style=\"text-align:left\">0.02</td><td style=\"text-align:left\">0.02</td><td style=\"text-align:left\">0</td><td style=\"text-align:left\">1</td><td style=\"text-align:left\">0</td><td style=\"text-align:left\">...</td></tr><tr><td style=\"text-align:left\">1001.0004 <b>𝍪</b></td><td style=\"text-align:left\">0.183</td><td style=\"text-align:left\">3.000</td><td style=\"text-align:left\">0</td><td style=\"text-align:left\">15</td><td style=\"text-align:left\">3</td><td style=\"text-align:left\">3</td><td style=\"text-align:left\">1</td><td style=\"text-align:left\">1</td><td style=\"text-align:left\">-1</td><td style=\"text-align:left\">0.02</td><td style=\"text-align:left\">0.02</td><td style=\"text-align:left\">0</td><td style=\"text-align:left\">1</td><td style=\"text-align:left\">0</td><td style=\"text-align:left\">...</td></tr></tbody></table>"
      ],
      "text/plain": [
       "SynthGroup(n=3)\n",
       "    Synth(𝍪 preset._piano:1001.0002, p4=0 idataidx_:5=15 inumbps:6=3 ibplen:7=3 igain_:8=1 ichan_:9=1 ipos:10=-1 ifade0:11=0.02 ifade1:12=0.02 ipchintrp_:13=0 ifadekind_:14=1 p15=0 p16=62 ...)\n",
       "    Synth(𝍪 preset._piano:1001.0003, p4=0 idataidx_:5=15 inumbps:6=3 ibplen:7=3 igain_:8=1 ichan_:9=1 ipos:10=-1 ifade0:11=0.02 ifade1:12=0.02 ipchintrp_:13=0 ifadekind_:14=1 p15=0 p16=65 ...)\n",
       "    Synth(𝍪 preset._piano:1001.0004, p4=0 idataidx_:5=15 inumbps:6=3 ibplen:7=3 igain_:8=1 ichan_:9=1 ipos:10=-1 ifade0:11=0.02 ifade1:12=0.02 ipchintrp_:13=0 ifadekind_:14=1 p15=0 p16=69 ...)"
      ]
     },
     "execution_count": 3,
     "metadata": {},
     "output_type": "execute_result"
    }
   ],
   "source": [
    "ch.play()"
   ]
  },
  {
   "cell_type": "code",
   "execution_count": 7,
   "id": "9969f3dc-fc7e-4935-9aff-a46b8ccd0930",
   "metadata": {},
   "outputs": [
    {
     "data": {
      "text/html": [
       "<code style=\"font-size:0.9em\">Chain([<span style=\"color:#6666E0\">4F:350Hz:1♩</span>, <span style=\"color:#6666E0\">4C:262Hz:0.5♩~</span>, <span style=\"color:#6666E0\">‹4C 4G 2♩›</span>], start=1.0)</code><br>\n",
       "        <img style=\"display:inline; padding:10px;\n",
       "margin-top:14px;\n",
       "width:337px\"\n",
       "             src=\"data:image/png;base64,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\"/>"
      ],
      "text/plain": [
       "Chain([4F:350Hz:1♩, 4C:262Hz:0.5♩~, ‹4C 4G 2♩›], start=1.0)"
      ]
     },
     "execution_count": 7,
     "metadata": {},
     "output_type": "execute_result"
    }
   ],
   "source": [
    "f"
   ]
  },
  {
   "cell_type": "code",
   "execution_count": 8,
   "id": "a919b873-5419-43e8-b98c-f5f7054522c1",
   "metadata": {},
   "outputs": [
    {
     "data": {
      "text/html": [
       "<code></code><strong>Chain</strong> &nbsp;start: <code><span style=\"color:#9090FF\">1.0</span></code><br><code>  <span style=\"color:#BBBBBB\">start dur   name      gliss dyn  playargs</span></code><br><code>  <span style=\"color:#9090FF\">0     0.5   4C~       False f    None</code></span></code><br><code>  <span style=\"color:#9090FF\">0.5   1     4C,4G     False      None</code></span></code>"
      ],
      "text/plain": [
       "<IPython.core.display.HTML object>"
      ]
     },
     "metadata": {},
     "output_type": "display_data"
    }
   ],
   "source": [
    "ch2[1].resolved().dump()"
   ]
  },
  {
   "cell_type": "code",
   "execution_count": 21,
   "id": "3ec594f5-6c75-4b23-84fb-4133933bf0cf",
   "metadata": {},
   "outputs": [],
   "source": [
    "ch3b = ch3[1]"
   ]
  },
  {
   "cell_type": "code",
   "execution_count": 24,
   "id": "5efac4e1-23a1-4120-9805-840c17a99a5b",
   "metadata": {},
   "outputs": [
    {
     "data": {
      "text/html": [
       "<p><strong>Chain</strong>(<small>start=1.0</small>)</p><table><thead><tr><th style=\"text-align:left\">time</th><th style=\"text-align:left\">pitch</th><th style=\"text-align:left\">dur</th><th style=\"text-align:left\">gliss</th><th style=\"text-align:left\">dynamic</th><th style=\"text-align:left\">playargs</th></tr></thead><tbody><tr><td style=\"text-align:left\">1.0</td><td style=\"text-align:left\">4C</td><td style=\"text-align:left\">0.5</td><td style=\"text-align:left\">False</td><td style=\"text-align:left\">None</td><td style=\"text-align:left\">None</td></tr><tr><td style=\"text-align:left\">1.5</td><td style=\"text-align:left\">4E, 4G</td><td style=\"text-align:left\">1.0</td><td style=\"text-align:left\">False</td><td style=\"text-align:left\"></td><td style=\"text-align:left\">None</td></tr></tbody></table>"
      ],
      "text/plain": [
       "<IPython.core.display.HTML object>"
      ]
     },
     "metadata": {},
     "output_type": "display_data"
    }
   ],
   "source": [
    "ch3b.resolved().dump()"
   ]
  },
  {
   "cell_type": "code",
   "execution_count": null,
   "id": "3acbd142-81eb-4d98-9027-d0e479351506",
   "metadata": {},
   "outputs": [],
   "source": []
  }
 ],
 "metadata": {
  "kernelspec": {
   "display_name": "Python 3 (ipykernel)",
   "language": "python",
   "name": "python3"
  },
  "language_info": {
   "codemirror_mode": {
    "name": "ipython",
    "version": 3
   },
   "file_extension": ".py",
   "mimetype": "text/x-python",
   "name": "python",
   "nbconvert_exporter": "python",
   "pygments_lexer": "ipython3",
   "version": "3.11.4"
  }
 },
 "nbformat": 4,
 "nbformat_minor": 5
}
