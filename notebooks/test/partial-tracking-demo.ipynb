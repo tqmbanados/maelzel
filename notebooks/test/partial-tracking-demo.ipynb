{
 "cells": [
  {
   "cell_type": "code",
   "execution_count": 1,
   "id": "a8283490-6175-4053-afe4-654d201b03fe",
   "metadata": {},
   "outputs": [],
   "source": [
    "import maelzel.partialtracking as pt\n",
    "import pitchtools.vectorized as ptv\n",
    "import csoundengine as ce\n",
    "from sndfileio import *\n",
    "import bpf4"
   ]
  },
  {
   "cell_type": "code",
   "execution_count": 2,
   "id": "d4981ea0-53b3-4a46-912b-d747209d87a8",
   "metadata": {},
   "outputs": [
    {
     "data": {
      "text/plain": [
       "Spectrum(numpartials=10082, start=0.014, end=10.729, density=6351.3)"
      ]
     },
     "execution_count": 2,
     "metadata": {},
     "output_type": "execute_result"
    }
   ],
   "source": [
    "samples, sr = sndread(\"../snd/colours-german-male.flac\")\n",
    "sp = pt.analyze(samples, sr=sr, resolution=50, windowsize=60, hoptime=1/120)\n",
    "sp"
   ]
  },
  {
   "cell_type": "code",
   "execution_count": 3,
   "id": "eb739b1a-53f2-4dca-8737-b0936d7e41a2",
   "metadata": {},
   "outputs": [
    {
     "name": "stderr",
     "output_type": "stream",
     "text": [
      "\n",
      "\n",
      "\n",
      "--Csound version 6.19 (double samples) Jan 13 2024\n",
      "[commit: c53556fbbb69d14554a4a4bd91efa441a1701d70]\n",
      "\u001b[mlibsndfile-1.2.0\n",
      "\u001b[msr = 44100.0,\u001b[m kr = 689.062,\u001b[m ksmps = 64\n",
      "\u001b[m0dBFS level = 1.0,\u001b[m A4 tuning = 440.0\n",
      "\u001b[maudio buffered in 256 sample-frame blocks\n",
      "\u001b[mreading 2048-byte blks of shorts from adc:Built-in Audio Pro: (RAW)\n",
      "writing 512 sample blks of 64-bit floats to dac:Built-in Audio Pro:\n",
      "SECTION 1:\n",
      "\u001b[m"
     ]
    },
    {
     "data": {
      "application/vnd.jupyter.widget-view+json": {
       "model_id": "4681ae0a796e423cb1a04d8fa506f9a5",
       "version_major": 2,
       "version_minor": 0
      },
      "text/plain": [
       "Button(description='Stop', style=ButtonStyle())"
      ]
     },
     "metadata": {},
     "output_type": "display_data"
    },
    {
     "data": {
      "application/vnd.jupyter.widget-view+json": {
       "model_id": "ca46c6d8f8494418b24e418490bf676b",
       "version_major": 2,
       "version_minor": 0
      },
      "text/plain": [
       "Output()"
      ]
     },
     "metadata": {},
     "output_type": "display_data"
    },
    {
     "data": {
      "text/html": [
       "<p><span style=\"font-size:12px;\">Synth(▶ <strong style=\"color:MediumSeaGreen\">.playPartials</strong>:501.0002, <span style=\"font-size:12px;\">5:<b>ifn</b>=<code>104</code> 6:<b>iskip</b>=<code>0</code> 7:<b>inumrows</b>=<code>3065</code> 8:<b>inumcols</b>=<code>853</code> 9:<b>kspeed</b>=<code>1</code> 10:<b>kloop</b>=<code>0</code> 11:<b>kminfreq</b>=<code>0</code> 12:<b>kmaxfreq</b>=<code>0</code> 13:<b>iflags</b>=<code>6</code> 14:<b>istart</b>=<code>0</code> 15:<b>istop</b>=<code>0</code> 16:<b>kfreqscale</b>=<code>1</code> 17:<b>ichan</b>=<code>1</code> 18:<b>kbwscale</b>=<code>1</code> 19:<b>kgain</b>=<code>1</code> 20:<b>iposition</b>=<code>0</code> 21:<b>kfreqoffset</b>=<code>0</code> 22:<b>kminbw</b>=<code>0</code> 23:<b>kmaxbw</b>=<code>1</code> 24:<b>kminamp</b>=<code>0</code></span>)</span></p>"
      ],
      "text/plain": [
       "Synth(▶ .playPartials=501.0002 start=0.446 dur=-1.000 p4=104 ifn=0 iskip=3065 inumrows=853 inumcols=1 kspeed=0 kloop=0 kminfreq=0 kmaxfreq=6 iflags=0 istart=0 istop=1 kfreqscale=1 ichan=1 kbwscale=1 kgain=0 iposition=0 kfreqoffset=0 kminbw=1 kmaxbw=0)"
      ]
     },
     "execution_count": 3,
     "metadata": {},
     "output_type": "execute_result"
    }
   ],
   "source": [
    "synth = sp.play()\n",
    "synth"
   ]
  },
  {
   "cell_type": "markdown",
   "id": "583f0cd7-1e81-40cc-9b95-5eea224bfb57",
   "metadata": {},
   "source": [
    "Playback the voiced and unvoiced parts of the spectrum separately. "
   ]
  },
  {
   "cell_type": "code",
   "execution_count": 4,
   "id": "6e8a9114-4a4e-4c00-8f07-48eb82465c00",
   "metadata": {},
   "outputs": [],
   "source": [
    "# Use the default session\n",
    "session = synth.session\n",
    "\n",
    "# Or create a new session\n",
    "# session = ce.Session()"
   ]
  },
  {
   "cell_type": "code",
   "execution_count": 5,
   "id": "4767b76b-9588-4e70-b529-3d9dc8e193f8",
   "metadata": {},
   "outputs": [
    {
     "data": {
      "application/vnd.jupyter.widget-view+json": {
       "model_id": "9296bc84232340a5969248fac4b2c54e",
       "version_major": 2,
       "version_minor": 0
      },
      "text/plain": [
       "Button(description='Stop Synths', style=ButtonStyle())"
      ]
     },
     "metadata": {},
     "output_type": "display_data"
    },
    {
     "data": {
      "application/vnd.jupyter.widget-view+json": {
       "model_id": "e056a1c47e6b49d58117372aa0fd4c4e",
       "version_major": 2,
       "version_minor": 0
      },
      "text/plain": [
       "Output()"
      ]
     },
     "metadata": {},
     "output_type": "display_data"
    },
    {
     "data": {
      "text/html": [
       "Session(<strong style=\"color:MediumSeaGreen\">maelzel</strong>, synths=3)"
      ],
      "text/plain": [
       "Session(maelzel, synths=3)"
      ]
     },
     "execution_count": 5,
     "metadata": {},
     "output_type": "execute_result"
    }
   ],
   "source": [
    "speed = 0.25\n",
    "with session as s:\n",
    "    sp.play(speed=speed, freqoffset=0, freqscale=1, maxbw=0.01, gain=1, chan=1, session=session)\n",
    "    sp.play(speed=speed, freqoffset=0, freqscale=1, minbw=0.01, gain=20, minfreq=2000, chan=2, session=session, bwscale=5)\n",
    "s"
   ]
  },
  {
   "cell_type": "code",
   "execution_count": 29,
   "id": "2afd1bd0-e8c4-4edb-8d9b-7d8e91b4a9f3",
   "metadata": {},
   "outputs": [],
   "source": [
    "\n",
    "\n",
    "def quantize(partial, simp=0.4, steps=2):\n",
    "    \"\"\"quantize and simplify partial\"\"\"\n",
    "    \n",
    "    if simp > 0:\n",
    "        p2 = partial.simplified(simp)\n",
    "    else:\n",
    "        p2 = partial.copy()\n",
    "    pitches = (ptv.f2m(p2.freqs) / steps).round() * steps\n",
    "    p2.data[:,1] = ptv.m2f(pitches)\n",
    "    return p2"
   ]
  },
  {
   "cell_type": "code",
   "execution_count": 36,
   "id": "f7d635f6-85b4-4f48-8297-ae84bbe2523a",
   "metadata": {},
   "outputs": [
    {
     "data": {
      "text/plain": [
       "Spectrum(numpartials=10082, start=0.014, end=10.729, density=2126.3)"
      ]
     },
     "execution_count": 36,
     "metadata": {},
     "output_type": "execute_result"
    }
   ],
   "source": [
    "quantizedspec = pt.Spectrum([quantize(p, simp=0.2, steps=4) for p in sp.partials])\n",
    "quantizedspec"
   ]
  },
  {
   "cell_type": "code",
   "execution_count": 34,
   "id": "61962149-a704-48ff-aae9-bffdb6407bfb",
   "metadata": {},
   "outputs": [
    {
     "name": "stderr",
     "output_type": "stream",
     "text": [
      "QSocketNotifier: Can only be used with threads started with QThread\n"
     ]
    }
   ],
   "source": [
    "%matplotlib qt\n",
    "quantizedspec.plot()"
   ]
  },
  {
   "cell_type": "code",
   "execution_count": 37,
   "id": "1b7e2dfb-07f6-47dd-b7d6-e21ae9a81379",
   "metadata": {},
   "outputs": [
    {
     "data": {
      "application/vnd.jupyter.widget-view+json": {
       "model_id": "511a0dee7a0c4ca785d1dc7e2146dd6e",
       "version_major": 2,
       "version_minor": 0
      },
      "text/plain": [
       "Button(description='Stop', style=ButtonStyle())"
      ]
     },
     "metadata": {},
     "output_type": "display_data"
    },
    {
     "data": {
      "application/vnd.jupyter.widget-view+json": {
       "model_id": "fd0642d05e35486bb2345481f0ebf995",
       "version_major": 2,
       "version_minor": 0
      },
      "text/plain": [
       "Output()"
      ]
     },
     "metadata": {},
     "output_type": "display_data"
    },
    {
     "data": {
      "text/html": [
       "<p><span style=\"font-size:12px;\">Synth(𝍪 <strong style=\"color:MediumSeaGreen\">.playPartials</strong>:501.0020, <span style=\"font-size:12px;\">5:<b>ifn</b>=<code>112</code> 6:<b>iskip</b>=<code>0</code> 7:<b>inumrows</b>=<code>604</code> 8:<b>inumcols</b>=<code>1243</code> 9:<b>kspeed</b>=<code>1</code> 10:<b>kloop</b>=<code>0</code> 11:<b>kminfreq</b>=<code>0</code> 12:<b>kmaxfreq</b>=<code>0</code> 13:<b>iflags</b>=<code>6</code> 14:<b>istart</b>=<code>0</code> 15:<b>istop</b>=<code>0</code> 16:<b>kfreqscale</b>=<code>1</code> 17:<b>ichan</b>=<code>1</code> 18:<b>kbwscale</b>=<code>1</code> 19:<b>kgain</b>=<code>1</code> 20:<b>iposition</b>=<code>0</code> 21:<b>kfreqoffset</b>=<code>0</code> 22:<b>kminbw</b>=<code>0</code> 23:<b>kmaxbw</b>=<code>0.2</code> 24:<b>kminamp</b>=<code>0</code></span>)</span></p>"
      ],
      "text/plain": [
       "Synth(𝍪 .playPartials=501.002 start=1197.174 dur=-1.000 p4=112 ifn=0 iskip=604 inumrows=1243 inumcols=1 kspeed=0 kloop=0 kminfreq=0 kmaxfreq=6 iflags=0 istart=0 istop=1 kfreqscale=1 ichan=1 kbwscale=1 kgain=0 iposition=0 kfreqoffset=0 kminbw=0.2 kmaxbw=0)"
      ]
     },
     "execution_count": 37,
     "metadata": {},
     "output_type": "execute_result"
    }
   ],
   "source": [
    "quantizedspec.play(maxbw=0.2)"
   ]
  },
  {
   "cell_type": "code",
   "execution_count": 3,
   "id": "c44f2d90-e649-42a4-8b36-365b77926fc5",
   "metadata": {},
   "outputs": [],
   "source": [
    "import numpyx\n",
    "from maelzel.music import scale\n",
    "\n",
    "def quantizeToScale(partial, steps=(0, 2, 2, 1, 2, 2, 2, 1)):\n",
    "    pitches = scale.pitchscale(\"C0\", steps=steps)\n",
    "    scaleFreqs = ptv.m2f(pitches)\n",
    "    return partial.freqTransform(lambda freqs: numpyx.nearestitem(scaleFreqs, freqs))\n",
    "    "
   ]
  },
  {
   "cell_type": "code",
   "execution_count": 14,
   "id": "34bebb43-a8bd-4bc1-a7a1-005ad4e09c3c",
   "metadata": {},
   "outputs": [
    {
     "data": {
      "text/plain": [
       "Spectrum(numpartials=10082, start=0.014, end=10.729, density=2003.2)"
      ]
     },
     "execution_count": 14,
     "metadata": {},
     "output_type": "execute_result"
    }
   ],
   "source": [
    "quantizedspec2 = pt.Spectrum([quantizeToScale(p.simplified(0.3), steps=(0, 2, 1, 3, 1, 2, 2, 1)) for p in sp.partials])\n",
    "quantizedspec2"
   ]
  },
  {
   "cell_type": "code",
   "execution_count": 15,
   "id": "70065bc7-9585-4f95-a3a1-b81875c5c34d",
   "metadata": {},
   "outputs": [
    {
     "data": {
      "application/vnd.jupyter.widget-view+json": {
       "model_id": "20c3bac6dc00489a96a2b1a57d921b34",
       "version_major": 2,
       "version_minor": 0
      },
      "text/plain": [
       "Button(description='Stop', style=ButtonStyle())"
      ]
     },
     "metadata": {},
     "output_type": "display_data"
    },
    {
     "data": {
      "application/vnd.jupyter.widget-view+json": {
       "model_id": "faed2729f93744ad8b374bcd31e274a9",
       "version_major": 2,
       "version_minor": 0
      },
      "text/plain": [
       "Output()"
      ]
     },
     "metadata": {},
     "output_type": "display_data"
    },
    {
     "data": {
      "text/html": [
       "<p><span style=\"font-size:12px;\">Synth(𝍪 <strong style=\"color:MediumSeaGreen\">.playPartials</strong>:501.0006, <span style=\"font-size:12px;\">5:<b>ifn</b>=<code>107</code> 6:<b>iskip</b>=<code>0</code> 7:<b>inumrows</b>=<code>510</code> 8:<b>inumcols</b>=<code>1303</code> 9:<b>kspeed</b>=<code>0.25</code> 10:<b>kloop</b>=<code>0</code> 11:<b>kminfreq</b>=<code>0</code> 12:<b>kmaxfreq</b>=<code>0</code> 13:<b>iflags</b>=<code>6</code> 14:<b>istart</b>=<code>0</code> 15:<b>istop</b>=<code>0</code> 16:<b>kfreqscale</b>=<code>1</code> 17:<b>ichan</b>=<code>1</code> 18:<b>kbwscale</b>=<code>1</code> 19:<b>kgain</b>=<code>1</code> 20:<b>iposition</b>=<code>0</code> 21:<b>kfreqoffset</b>=<code>0</code> 22:<b>kminbw</b>=<code>0</code> 23:<b>kmaxbw</b>=<code>1</code> 24:<b>kminamp</b>=<code>0</code></span>)</span></p>"
      ],
      "text/plain": [
       "Synth(𝍪 .playPartials=501.0006 start=199.041 dur=-1.000 p4=107 ifn=0 iskip=510 inumrows=1303 inumcols=0.25 kspeed=0 kloop=0 kminfreq=0 kmaxfreq=6 iflags=0 istart=0 istop=1 kfreqscale=1 ichan=1 kbwscale=1 kgain=0 iposition=0 kfreqoffset=0 kminbw=1 kmaxbw=0)"
      ]
     },
     "execution_count": 15,
     "metadata": {},
     "output_type": "execute_result"
    }
   ],
   "source": [
    "quantizedspec2.play(speed=0.25)"
   ]
  },
  {
   "cell_type": "code",
   "execution_count": null,
   "id": "fbfa84b9-f3b7-43b4-aecb-16d147f41de5",
   "metadata": {},
   "outputs": [],
   "source": [
    "quanti"
   ]
  }
 ],
 "metadata": {
  "kernelspec": {
   "display_name": "Python 3 (ipykernel)",
   "language": "python",
   "name": "python3"
  },
  "language_info": {
   "codemirror_mode": {
    "name": "ipython",
    "version": 3
   },
   "file_extension": ".py",
   "mimetype": "text/x-python",
   "name": "python",
   "nbconvert_exporter": "python",
   "pygments_lexer": "ipython3",
   "version": "3.11.6"
  }
 },
 "nbformat": 4,
 "nbformat_minor": 5
}
