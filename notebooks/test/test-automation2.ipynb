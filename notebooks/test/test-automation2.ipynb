{
 "cells": [
  {
   "cell_type": "code",
   "execution_count": 1,
   "id": "bf365ba3-82d3-42fb-bf4d-bda9517ae116",
   "metadata": {},
   "outputs": [],
   "source": [
    "from maelzel.core import *\n",
    "import csoundengine as ce"
   ]
  },
  {
   "cell_type": "code",
   "execution_count": 2,
   "id": "aa2fddad-c388-4474-8e2d-fdb899709085",
   "metadata": {},
   "outputs": [],
   "source": [
    "ce.config['synthgroup_html_table_style'] = 'font-size: smaller'"
   ]
  },
  {
   "cell_type": "code",
   "execution_count": 3,
   "id": "77303148-6786-4646-b502-1705e1780bb9",
   "metadata": {},
   "outputs": [
    {
     "data": {
      "text/html": [
       "Preset: <b>foo</b>\n",
       "<br>\n",
       "<code>  <span style=\"color:#BBBBBB;font-size:92%\">(routing=True, numouts=2, numsignals=1)\n",
       "</span></code>\n",
       "<span style=\"font-size:92%\"><div class=\"highlight\" style=\"background: #f8f8f8\"><pre style=\"line-height: 125%;\"><span></span><code><span style=\"color: #bbbbbb\">  </span><span style=\"color: #666666\">|</span><span style=\"color: #B00040\">k</span>transpose<span style=\"color: #666666\">=0.0|</span>\n",
       "</code></pre></div>\n",
       "</span>\n",
       "<span style=\"font-size:92%\"><div class=\"highlight\" style=\"background: #f8f8f8\"><pre style=\"line-height: 125%;\"><span></span><code><span style=\"color: #bbbbbb\">  </span><span style=\"color: #B00040\">k</span>pitch2<span style=\"color: #bbbbbb\"> </span><span style=\"color: #666666\">=</span><span style=\"color: #bbbbbb\"> </span><span style=\"color: #B00040\">k</span>pitch<span style=\"color: #bbbbbb\"> </span><span style=\"color: #666666\">+</span><span style=\"color: #bbbbbb\"> </span><span style=\"color: #B00040\">k</span>transpose\n",
       "<span style=\"color: #bbbbbb\">  </span><span style=\"color: #B00040\">a</span>out1<span style=\"color: #bbbbbb\"> </span><span style=\"color: #666666\">=</span><span style=\"color: #bbbbbb\"> </span><span style=\"color: #008000\">oscili</span>:<span style=\"color: #B00040\">a</span>(<span style=\"color: #B00040\">k</span>amp,<span style=\"color: #bbbbbb\"> </span><span style=\"color: #008000\">mtof</span>(<span style=\"color: #B00040\">k</span>pitch2))\n",
       "</code></pre></div>\n",
       "</span>"
      ],
      "text/plain": [
       "Preset: foo  \n",
       "    routing=True\n",
       "  |ktranspose=0.0|\n",
       "  kpitch2 = kpitch + ktranspose\n",
       "  aout1 = oscili:a(kamp, mtof(kpitch2))"
      ]
     },
     "execution_count": 3,
     "metadata": {},
     "output_type": "execute_result"
    }
   ],
   "source": [
    "defPreset('foo', r'''\n",
    "|ktranspose=0|\n",
    "kpitch2 = kpitch + ktranspose\n",
    "aout1 = oscili:a(kamp, mtof(kpitch2))\n",
    "''')"
   ]
  },
  {
   "cell_type": "code",
   "execution_count": 4,
   "id": "2c064e8d-937d-475b-a2fe-ac02cac07cac",
   "metadata": {},
   "outputs": [
    {
     "name": "stderr",
     "output_type": "stream",
     "text": [
      "\n",
      "\n",
      "\n",
      "--Csound version 6.19 (double samples) Oct 30 2023\n",
      "[commit: 79e5d31bea441e5289073319ab2b1e42d01814b9]\n",
      "\u001b[mlibsndfile-1.2.0\n",
      "\u001b[msr = 48000.0,\u001b[m kr = 750.000,\u001b[m ksmps = 64\n",
      "\u001b[m0dBFS level = 1.0,\u001b[m A4 tuning = 442.0\n",
      "\u001b[maudio buffered in 512 sample-frame blocks\n",
      "\u001b[mreading 4096-byte blks of shorts from adc:Built-in Audio Pro: (RAW)\n",
      "writing 1024 sample blks of 64-bit floats to dac:Built-in Audio Pro:\n",
      "SECTION 1:\n"
     ]
    },
    {
     "data": {
      "application/vnd.jupyter.widget-view+json": {
       "model_id": "fb299bd7bb114a5f8591266b8c373e63",
       "version_major": 2,
       "version_minor": 0
      },
      "text/plain": [
       "Button(description='Stop', style=ButtonStyle())"
      ]
     },
     "metadata": {},
     "output_type": "display_data"
    },
    {
     "data": {
      "application/vnd.jupyter.widget-view+json": {
       "model_id": "9163ebab2f34433486194b636da3ae4f",
       "version_major": 2,
       "version_minor": 0
      },
      "text/plain": [
       "Output()"
      ]
     },
     "metadata": {},
     "output_type": "display_data"
    },
    {
     "data": {
      "text/html": [
       "<p><span style=\"font-size:12px;\">Synth(▶ <strong style=\"color:MediumSeaGreen\">preset:foo</strong>:501.0002, <span style=\"font-size:12px;\">5:<b>kpos</b>=<code>0.5</code> 6:<b>kgain</b>=<code>1</code> 7:<b>idataidx_</b>=<code>16</code> 8:<b>inumbps</b>=<code>2</code> 9:<b>ibplen</b>=<code>3</code> 10:<b>ichan</b>=<code>1</code> 11:<b>ifadein</b>=<code>0.02</code> 12:<b>ifadeout</b>=<code>0.02</code> 13:<b>ipchintrp_</b>=<code>0</code> 14:<b>ifadekind</b>=<code>1</code> 15:<b>ktranspose</b>=<code>0</code> <b>16</b>=<code>0</code> <b>17</b>=<code>60</code> <b>18</b>=<code>0.515178</code> <b>19</b>=<code>40</code> …</span>)</span></p>"
      ],
      "text/plain": [
       "Synth(▶ preset:foo=501.0002 start=0.885 dur=40.000 p4=0 kpos=0.5 kgain=1 idataidx_=16 inumbps=2 ibplen=3 ichan=1 ifadein=0.02 ifadeout=0.02 ipchintrp_=0 ifadekind=1 ktranspose=0 p16=0 p17=60 p18=0.515178 p19=40 …)"
      ]
     },
     "execution_count": 4,
     "metadata": {},
     "output_type": "execute_result"
    }
   ],
   "source": [
    "n = Note(60, 40).setPlay(instr='foo')\n",
    "# n.automate('ktranspose', (2, 2))\n",
    "sy = n.play()\n",
    "sy[0]"
   ]
  },
  {
   "cell_type": "code",
   "execution_count": 23,
   "id": "d188f2cb-db15-4768-a59c-94e33cc9385d",
   "metadata": {},
   "outputs": [
    {
     "data": {
      "application/vnd.jupyter.widget-view+json": {
       "model_id": "8929c2c6170a413c958077b8cfd38c79",
       "version_major": 2,
       "version_minor": 0
      },
      "text/plain": [
       "Button(description='Stop', style=ButtonStyle())"
      ]
     },
     "metadata": {},
     "output_type": "display_data"
    },
    {
     "data": {
      "application/vnd.jupyter.widget-view+json": {
       "model_id": "b1b47df72d514223b1193d095ada78d7",
       "version_major": 2,
       "version_minor": 0
      },
      "text/plain": [
       "Output()"
      ]
     },
     "metadata": {},
     "output_type": "display_data"
    },
    {
     "data": {
      "text/html": [
       "<small><span style=\"\"><b>SynthGroup</b></span>(synths=<code style=\"\">1</code>)</small>\n",
       "<p><small>Instr: <strong style=\"color:MediumSeaGreen\">preset:foo</strong> - <b>1</b> synths</small></p>\n",
       "<table style=\"font-size: smaller\"<thead><tr><th style=\"text-align:left\">p1</th><th style=\"text-align:left\">start</th><th style=\"text-align:left\">dur</th><th style=\"text-align:left\">4</th><th style=\"text-align:left\">5:kpos</th><th style=\"text-align:left\">6:kgain</th><th style=\"text-align:left\">7:idataidx_</th><th style=\"text-align:left\">8:inumbps</th><th style=\"text-align:left\">9:ibplen</th><th style=\"text-align:left\">10:ichan</th><th style=\"text-align:left\">11:ifadein</th><th style=\"text-align:left\">12:ifadeout</th><th style=\"text-align:left\">13:ipchintrp_</th><th style=\"text-align:left\">14:ifadekind</th><th style=\"text-align:left\">15:ktranspose</th><th style=\"text-align:left\">16</th><th style=\"text-align:left\">17</th><th style=\"text-align:left\">18</th><th style=\"text-align:left\">19</th><th style=\"text-align:left\">...</th></tr></thead><tbody><tr><td style=\"text-align:left\">501.0017 <b>▶</b></td><td style=\"text-align:left\">0.040</td><td style=\"text-align:left\">40.000</td><td style=\"text-align:left\">0</td><td style=\"text-align:left\">0.5</td><td style=\"text-align:left\">1</td><td style=\"text-align:left\">16</td><td style=\"text-align:left\">2</td><td style=\"text-align:left\">3</td><td style=\"text-align:left\">1</td><td style=\"text-align:left\">0.02</td><td style=\"text-align:left\">0.02</td><td style=\"text-align:left\">0</td><td style=\"text-align:left\">1</td><td style=\"text-align:left\">0</td><td style=\"text-align:left\">0</td><td style=\"text-align:left\">60</td><td style=\"text-align:left\">0.51518</td><td style=\"text-align:left\">...</td></tr></tbody></table>"
      ],
      "text/plain": [
       "SynthGroup(n=1)\n",
       "    Synth(▶ preset:foo=501.0017 start=433.278 dur=40.000 p4=0 kpos=0.5 kgain=1 idataidx_=16 inumbps=2 ibplen=3 ichan=1 ifadein=0.02 ifadeout=0.02 ipchintrp_=0 ifadekind=1 ktranspose=0 p16=0 p17=60 p18=0.515178 p19=40 …)"
      ]
     },
     "execution_count": 23,
     "metadata": {},
     "output_type": "execute_result"
    }
   ],
   "source": [
    "n = Note(60, 40).setPlay(instr='foo')\n",
    "n.automate('ktranspose', (2, 0, 2.2, 1))\n",
    "n.play()"
   ]
  },
  {
   "cell_type": "code",
   "execution_count": 6,
   "id": "16fedd2a-1845-4c99-ad7e-ca344c73202e",
   "metadata": {},
   "outputs": [
    {
     "data": {
      "application/vnd.jupyter.widget-view+json": {
       "model_id": "f32dafd6911a41728c596e4617935c88",
       "version_major": 2,
       "version_minor": 0
      },
      "text/plain": [
       "Button(description='Stop', style=ButtonStyle())"
      ]
     },
     "metadata": {},
     "output_type": "display_data"
    },
    {
     "data": {
      "application/vnd.jupyter.widget-view+json": {
       "model_id": "01426dc617ae4722968bd418f18b679b",
       "version_major": 2,
       "version_minor": 0
      },
      "text/plain": [
       "Output()"
      ]
     },
     "metadata": {},
     "output_type": "display_data"
    },
    {
     "data": {
      "text/html": [
       "<small><span style=\"\"><b>SynthGroup</b></span>(synths=<code style=\"\">1</code>)</small>\n",
       "<p><small>Instr: <strong style=\"color:MediumSeaGreen\">preset:foo</strong> - <b>1</b> synths</small></p>\n",
       "<table style=\"font-size: smaller\"<thead><tr><th style=\"text-align:left\">p1</th><th style=\"text-align:left\">start</th><th style=\"text-align:left\">dur</th><th style=\"text-align:left\">4</th><th style=\"text-align:left\">5:kpos</th><th style=\"text-align:left\">6:kgain</th><th style=\"text-align:left\">7:idataidx_</th><th style=\"text-align:left\">8:inumbps</th><th style=\"text-align:left\">9:ibplen</th><th style=\"text-align:left\">10:ichan</th><th style=\"text-align:left\">11:ifadein</th><th style=\"text-align:left\">12:ifadeout</th><th style=\"text-align:left\">13:ipchintrp_</th><th style=\"text-align:left\">14:ifadekind</th><th style=\"text-align:left\">15:ktranspose</th><th style=\"text-align:left\">16</th><th style=\"text-align:left\">17</th><th style=\"text-align:left\">18</th><th style=\"text-align:left\">19</th><th style=\"text-align:left\">...</th></tr></thead><tbody><tr><td style=\"text-align:left\">501.0004 <b>▶</b></td><td style=\"text-align:left\">0.043</td><td style=\"text-align:left\">4.000</td><td style=\"text-align:left\">0</td><td style=\"text-align:left\">0.5</td><td style=\"text-align:left\">1</td><td style=\"text-align:left\">16</td><td style=\"text-align:left\">3</td><td style=\"text-align:left\">3</td><td style=\"text-align:left\">1</td><td style=\"text-align:left\">0.02</td><td style=\"text-align:left\">0.02</td><td style=\"text-align:left\">0</td><td style=\"text-align:left\">1</td><td style=\"text-align:left\">0</td><td style=\"text-align:left\">0</td><td style=\"text-align:left\">60</td><td style=\"text-align:left\">0.51518</td><td style=\"text-align:left\">...</td></tr></tbody></table>"
      ],
      "text/plain": [
       "SynthGroup(n=1)\n",
       "    Synth(▶ preset:foo=501.0004 start=24.041 dur=4.000 p4=0 kpos=0.5 kgain=1 idataidx_=16 inumbps=3 ibplen=3 ichan=1 ifadein=0.02 ifadeout=0.02 ipchintrp_=0 ifadekind=1 ktranspose=0 p16=0 p17=60 p18=0.515178 p19=2 …)"
      ]
     },
     "execution_count": 6,
     "metadata": {},
     "output_type": "execute_result"
    }
   ],
   "source": [
    "chain = Chain([\n",
    "    Note(60, 2, gliss=True, tied=True),\n",
    "    Note(62, 2)\n",
    "]).setPlay(instr='foo')\n",
    "chain.automate('ktranspose', (3, 0, 3.5, -1))\n",
    "chain.play()"
   ]
  },
  {
   "cell_type": "code",
   "execution_count": 7,
   "id": "fed33f64-da73-4ff7-988d-e21bb0295015",
   "metadata": {},
   "outputs": [],
   "source": [
    "sy[0].set(ktranspose=0, delay=2)"
   ]
  },
  {
   "cell_type": "code",
   "execution_count": null,
   "id": "bb571f02-ad30-4733-aa29-6386b3087495",
   "metadata": {},
   "outputs": [],
   "source": []
  },
  {
   "cell_type": "code",
   "execution_count": null,
   "id": "680da80d-8073-4d63-b067-b7bbe4570168",
   "metadata": {},
   "outputs": [],
   "source": []
  }
 ],
 "metadata": {
  "kernelspec": {
   "display_name": "Python 3 (ipykernel)",
   "language": "python",
   "name": "python3"
  },
  "language_info": {
   "codemirror_mode": {
    "name": "ipython",
    "version": 3
   },
   "file_extension": ".py",
   "mimetype": "text/x-python",
   "name": "python",
   "nbconvert_exporter": "python",
   "pygments_lexer": "ipython3",
   "version": "3.11.4"
  }
 },
 "nbformat": 4,
 "nbformat_minor": 5
}
