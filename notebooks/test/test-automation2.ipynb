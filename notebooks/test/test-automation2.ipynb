{
 "cells": [
  {
   "cell_type": "code",
   "execution_count": 1,
   "id": "bf365ba3-82d3-42fb-bf4d-bda9517ae116",
   "metadata": {},
   "outputs": [],
   "source": [
    "from maelzel.core import *\n",
    "import csoundengine as ce"
   ]
  },
  {
   "cell_type": "code",
   "execution_count": 2,
   "id": "aa2fddad-c388-4474-8e2d-fdb899709085",
   "metadata": {},
   "outputs": [],
   "source": [
    "ce.config['synthgroup_html_table_style'] = 'font-size: smaller'"
   ]
  },
  {
   "cell_type": "code",
   "execution_count": 3,
   "id": "77303148-6786-4646-b502-1705e1780bb9",
   "metadata": {},
   "outputs": [
    {
     "data": {
      "text/html": [
       "Preset: <b>foo</b>\n",
       "<br>\n",
       "<code style=\"font-size: 90%\">  <span style=\"color:#A0A0A0;font-size:96%\">(routing=True, numouts=2, numsignals=1)\n",
       "</span></code>\n",
       "<span style=\"font-size:96%\"><strong>code</strong></span>\n",
       "<span style=\"font-size:90%\"><div class=\"highlight\" style=\"background: #f8f8f8\"><pre style=\"line-height: 125%;\"><span></span><code><span style=\"color: #bbbbbb\">  </span><span style=\"color: #666666\">|</span><span style=\"color: #B00040\">k</span>transpose<span style=\"color: #666666\">=0.0|</span>\n",
       "</code></pre></div>\n",
       "</span>\n",
       "<span style=\"font-size:90%\"><div class=\"highlight\" style=\"background: #f8f8f8\"><pre style=\"line-height: 125%;\"><span></span><code><span style=\"color: #bbbbbb\">  </span><span style=\"color: #B00040\">k</span>pitch2<span style=\"color: #bbbbbb\"> </span><span style=\"color: #666666\">=</span><span style=\"color: #bbbbbb\"> </span><span style=\"color: #B00040\">k</span>pitch<span style=\"color: #bbbbbb\"> </span><span style=\"color: #666666\">+</span><span style=\"color: #bbbbbb\"> </span><span style=\"color: #B00040\">k</span>transpose\n",
       "<span style=\"color: #bbbbbb\">  </span><span style=\"color: #B00040\">a</span>out1<span style=\"color: #bbbbbb\"> </span><span style=\"color: #666666\">=</span><span style=\"color: #bbbbbb\"> </span><span style=\"color: #008000\">oscili</span>:<span style=\"color: #B00040\">a</span>(<span style=\"color: #B00040\">k</span>amp,<span style=\"color: #bbbbbb\"> </span><span style=\"color: #008000\">mtof</span>(<span style=\"color: #B00040\">k</span>pitch2))\n",
       "</code></pre></div>\n",
       "</span>"
      ],
      "text/plain": [
       "Preset: foo  \n",
       "    routing=True\n",
       "  |ktranspose=0.0|\n",
       "  kpitch2 = kpitch + ktranspose\n",
       "  aout1 = oscili:a(kamp, mtof(kpitch2))"
      ]
     },
     "execution_count": 3,
     "metadata": {},
     "output_type": "execute_result"
    }
   ],
   "source": [
    "defPreset('foo', r'''\n",
    "|ktranspose=0|\n",
    "kpitch2 = kpitch + ktranspose\n",
    "aout1 = oscili:a(kamp, mtof(kpitch2))\n",
    "''')"
   ]
  },
  {
   "cell_type": "markdown",
   "id": "fe600f86-1435-4c65-8c2b-e29f7ab9af3a",
   "metadata": {},
   "source": [
    "Multiple automations are possible for each parameter. Each automation is converted to an independent event (they are not merged)"
   ]
  },
  {
   "cell_type": "code",
   "execution_count": 4,
   "id": "2c064e8d-937d-475b-a2fe-ac02cac07cac",
   "metadata": {},
   "outputs": [
    {
     "name": "stderr",
     "output_type": "stream",
     "text": [
      "\n",
      "\n",
      "\n",
      "--Csound version 6.19 (double samples) Jan 13 2024\n",
      "[commit: c53556fbbb69d14554a4a4bd91efa441a1701d70]\n",
      "\u001b[mlibsndfile-1.2.0\n",
      "\u001b[msr = 44100.0,\u001b[m kr = 689.062,\u001b[m ksmps = 64\n",
      "\u001b[m0dBFS level = 1.0,\u001b[m A4 tuning = 442.0\n",
      "\u001b[maudio buffered in 256 sample-frame blocks\n",
      "\u001b[mreading 2048-byte blks of shorts from adc:Built-in Audio Pro: (RAW)\n",
      "writing 512 sample blks of 64-bit floats to dac:Built-in Audio Pro:\n",
      "SECTION 1:\n",
      "\u001b[m"
     ]
    },
    {
     "data": {
      "application/vnd.jupyter.widget-view+json": {
       "model_id": "430a68399f614b61805135afbcbff645",
       "version_major": 2,
       "version_minor": 0
      },
      "text/plain": [
       "Button(description='Stop', style=ButtonStyle())"
      ]
     },
     "metadata": {},
     "output_type": "display_data"
    },
    {
     "data": {
      "application/vnd.jupyter.widget-view+json": {
       "model_id": "3ce6be7a204247fdb8bb01a176073827",
       "version_major": 2,
       "version_minor": 0
      },
      "text/plain": [
       "Output()"
      ]
     },
     "metadata": {},
     "output_type": "display_data"
    },
    {
     "data": {
      "text/html": [
       "<small><span style=\"\"><b>SynthGroup</b></span>(synths=<code style=\"\">1</code>)</small>\n",
       "<p><small>Instr: <strong style=\"color:MediumSeaGreen\">preset:foo</strong> - <b>1</b> synths</small></p>\n",
       "<table style=\"font-size: smaller\"<thead><tr><th style=\"text-align:left\">p1</th><th style=\"text-align:left\">start</th><th style=\"text-align:left\">dur</th><th style=\"text-align:left\">p4</th><th style=\"text-align:left\">kpos</th><th style=\"text-align:left\">kgain</th><th style=\"text-align:left\">idataidx_</th><th style=\"text-align:left\">inumbps</th><th style=\"text-align:left\">ibplen</th><th style=\"text-align:left\">ichan</th><th style=\"text-align:left\">ifadein</th><th style=\"text-align:left\">ifadeout</th><th style=\"text-align:left\">ipchintrp_</th><th style=\"text-align:left\">ifadekind</th><th style=\"text-align:left\">ktranspose</th><th style=\"text-align:left\">16</th><th style=\"text-align:left\">17</th><th style=\"text-align:left\">18</th><th style=\"text-align:left\">19</th><th style=\"text-align:left\">20</th><th style=\"text-align:left\">...</th></tr></thead><tbody><tr><td style=\"text-align:left\">501.0002 <b>𝍪</b></td><td style=\"text-align:left\">0.030</td><td style=\"text-align:left\">40.000</td><td style=\"text-align:left\">0</td><td style=\"text-align:left\">0.5</td><td style=\"text-align:left\">1</td><td style=\"text-align:left\">16</td><td style=\"text-align:left\">2</td><td style=\"text-align:left\">3</td><td style=\"text-align:left\">1</td><td style=\"text-align:left\">0.02</td><td style=\"text-align:left\">0.02</td><td style=\"text-align:left\">0</td><td style=\"text-align:left\">1</td><td style=\"text-align:left\">0</td><td style=\"text-align:left\">0</td><td style=\"text-align:left\">60</td><td style=\"text-align:left\">0.51518</td><td style=\"text-align:left\">40</td><td style=\"text-align:left\">...</td></tr></tbody></table>"
      ],
      "text/plain": [
       "SynthGroup(n=1)\n",
       "    Synth(𝍪 preset:foo=501.0002 start=1.133 dur=40.000 p4=0.5 kpos=1 kgain=16 idataidx_=2 inumbps=3 ibplen=1 ichan=0.02 ifadein=0.02 ifadeout=0 ipchintrp_=1 ifadekind=0 ktranspose=0 p16=60 p17=0.515178 p18=40 p19=60 …)"
      ]
     },
     "execution_count": 4,
     "metadata": {},
     "output_type": "execute_result"
    }
   ],
   "source": [
    "n = Note(60, 40).setPlay(instr='foo')\n",
    "n.automate('ktranspose', (2, 0, 2.01, 2))\n",
    "n.automate('ktranspose', (3, 0))\n",
    "n.play()"
   ]
  },
  {
   "cell_type": "markdown",
   "id": "57c59d73-9e86-4adb-81b0-667a616b4331",
   "metadata": {},
   "source": [
    "When there are multiple automations, order matters. In the example below, the second automation dominates until it ends. At that moment the first automation regainds control"
   ]
  },
  {
   "cell_type": "code",
   "execution_count": 5,
   "id": "1fe1330c-9ccc-4d34-9135-4f5d44772730",
   "metadata": {},
   "outputs": [
    {
     "data": {
      "application/vnd.jupyter.widget-view+json": {
       "model_id": "3ccf9d3138c049668d250e4daf1408e8",
       "version_major": 2,
       "version_minor": 0
      },
      "text/plain": [
       "Button(description='Stop', style=ButtonStyle())"
      ]
     },
     "metadata": {},
     "output_type": "display_data"
    },
    {
     "data": {
      "application/vnd.jupyter.widget-view+json": {
       "model_id": "065e56c434c048a48b9705508fa6a546",
       "version_major": 2,
       "version_minor": 0
      },
      "text/plain": [
       "Output()"
      ]
     },
     "metadata": {},
     "output_type": "display_data"
    },
    {
     "data": {
      "text/html": [
       "<small><span style=\"\"><b>SynthGroup</b></span>(synths=<code style=\"\">1</code>)</small>\n",
       "<p><small>Instr: <strong style=\"color:MediumSeaGreen\">preset:foo</strong> - <b>1</b> synths</small></p>\n",
       "<table style=\"font-size: smaller\"<thead><tr><th style=\"text-align:left\">p1</th><th style=\"text-align:left\">start</th><th style=\"text-align:left\">dur</th><th style=\"text-align:left\">p4</th><th style=\"text-align:left\">kpos</th><th style=\"text-align:left\">kgain</th><th style=\"text-align:left\">idataidx_</th><th style=\"text-align:left\">inumbps</th><th style=\"text-align:left\">ibplen</th><th style=\"text-align:left\">ichan</th><th style=\"text-align:left\">ifadein</th><th style=\"text-align:left\">ifadeout</th><th style=\"text-align:left\">ipchintrp_</th><th style=\"text-align:left\">ifadekind</th><th style=\"text-align:left\">ktranspose</th><th style=\"text-align:left\">16</th><th style=\"text-align:left\">17</th><th style=\"text-align:left\">18</th><th style=\"text-align:left\">19</th><th style=\"text-align:left\">20</th><th style=\"text-align:left\">...</th></tr></thead><tbody><tr><td style=\"text-align:left\">501.0003 <b>𝍪</b></td><td style=\"text-align:left\">0.042</td><td style=\"text-align:left\">40.000</td><td style=\"text-align:left\">0</td><td style=\"text-align:left\">0.5</td><td style=\"text-align:left\">1</td><td style=\"text-align:left\">16</td><td style=\"text-align:left\">2</td><td style=\"text-align:left\">3</td><td style=\"text-align:left\">1</td><td style=\"text-align:left\">0.02</td><td style=\"text-align:left\">0.02</td><td style=\"text-align:left\">0</td><td style=\"text-align:left\">1</td><td style=\"text-align:left\">0</td><td style=\"text-align:left\">0</td><td style=\"text-align:left\">60</td><td style=\"text-align:left\">0.51518</td><td style=\"text-align:left\">40</td><td style=\"text-align:left\">...</td></tr></tbody></table>"
      ],
      "text/plain": [
       "SynthGroup(n=1)\n",
       "    Synth(𝍪 preset:foo=501.0003 start=2.635 dur=40.000 p4=0.5 kpos=1 kgain=16 idataidx_=2 inumbps=3 ibplen=1 ichan=0.02 ifadein=0.02 ifadeout=0 ipchintrp_=1 ifadekind=0 ktranspose=0 p16=60 p17=0.515178 p18=40 p19=60 …)"
      ]
     },
     "execution_count": 5,
     "metadata": {},
     "output_type": "execute_result"
    }
   ],
   "source": [
    "n = Note(60, 40).setPlay(instr='foo')\n",
    "n.automate('ktranspose', (1, 0, 4, 2))\n",
    "n.automate('ktranspose', (2, 12, 3, -2))\n",
    "n.play()"
   ]
  },
  {
   "cell_type": "code",
   "execution_count": 6,
   "id": "16fedd2a-1845-4c99-ad7e-ca344c73202e",
   "metadata": {},
   "outputs": [
    {
     "data": {
      "application/vnd.jupyter.widget-view+json": {
       "model_id": "51bfd3274df84b41a8ea18fd3f38d50a",
       "version_major": 2,
       "version_minor": 0
      },
      "text/plain": [
       "Button(description='Stop', style=ButtonStyle())"
      ]
     },
     "metadata": {},
     "output_type": "display_data"
    },
    {
     "data": {
      "application/vnd.jupyter.widget-view+json": {
       "model_id": "25d328a8cfe84685b56dd32398f66209",
       "version_major": 2,
       "version_minor": 0
      },
      "text/plain": [
       "Output()"
      ]
     },
     "metadata": {},
     "output_type": "display_data"
    },
    {
     "data": {
      "text/html": [
       "<small><span style=\"\"><b>SynthGroup</b></span>(synths=<code style=\"\">1</code>)</small>\n",
       "<p><small>Instr: <strong style=\"color:MediumSeaGreen\">preset:foo</strong> - <b>1</b> synths</small></p>\n",
       "<table style=\"font-size: smaller\"<thead><tr><th style=\"text-align:left\">p1</th><th style=\"text-align:left\">start</th><th style=\"text-align:left\">dur</th><th style=\"text-align:left\">p4</th><th style=\"text-align:left\">kpos</th><th style=\"text-align:left\">kgain</th><th style=\"text-align:left\">idataidx_</th><th style=\"text-align:left\">inumbps</th><th style=\"text-align:left\">ibplen</th><th style=\"text-align:left\">ichan</th><th style=\"text-align:left\">ifadein</th><th style=\"text-align:left\">ifadeout</th><th style=\"text-align:left\">ipchintrp_</th><th style=\"text-align:left\">ifadekind</th><th style=\"text-align:left\">ktranspose</th><th style=\"text-align:left\">16</th><th style=\"text-align:left\">17</th><th style=\"text-align:left\">18</th><th style=\"text-align:left\">19</th><th style=\"text-align:left\">20</th><th style=\"text-align:left\">...</th></tr></thead><tbody><tr><td style=\"text-align:left\">501.0004 <b>𝍪</b></td><td style=\"text-align:left\">0.042</td><td style=\"text-align:left\">4.000</td><td style=\"text-align:left\">0</td><td style=\"text-align:left\">0.5</td><td style=\"text-align:left\">1</td><td style=\"text-align:left\">16</td><td style=\"text-align:left\">3</td><td style=\"text-align:left\">3</td><td style=\"text-align:left\">1</td><td style=\"text-align:left\">0.02</td><td style=\"text-align:left\">0.02</td><td style=\"text-align:left\">0</td><td style=\"text-align:left\">1</td><td style=\"text-align:left\">0</td><td style=\"text-align:left\">0</td><td style=\"text-align:left\">60</td><td style=\"text-align:left\">0.51518</td><td style=\"text-align:left\">2</td><td style=\"text-align:left\">...</td></tr></tbody></table>"
      ],
      "text/plain": [
       "SynthGroup(n=1)\n",
       "    Synth(𝍪 preset:foo=501.0004 start=7.697 dur=4.000 p4=0.5 kpos=1 kgain=16 idataidx_=3 inumbps=3 ibplen=1 ichan=0.02 ifadein=0.02 ifadeout=0 ipchintrp_=1 ifadekind=0 ktranspose=0 p16=60 p17=0.515178 p18=2 p19=62 …)"
      ]
     },
     "execution_count": 6,
     "metadata": {},
     "output_type": "execute_result"
    }
   ],
   "source": [
    "chain = Chain([\n",
    "    Note(60, 2, gliss=True, tied=True),\n",
    "    Note(62, 2)\n",
    "]).setPlay(instr='foo')\n",
    "chain.automate('ktranspose', (3, 0, 3.5, -1))\n",
    "chain.play()"
   ]
  },
  {
   "cell_type": "code",
   "execution_count": null,
   "id": "2fb987f7-4088-4ca4-af2a-d58f7ca35977",
   "metadata": {},
   "outputs": [],
   "source": []
  }
 ],
 "metadata": {
  "kernelspec": {
   "display_name": "Python 3 (ipykernel)",
   "language": "python",
   "name": "python3"
  },
  "language_info": {
   "codemirror_mode": {
    "name": "ipython",
    "version": 3
   },
   "file_extension": ".py",
   "mimetype": "text/x-python",
   "name": "python",
   "nbconvert_exporter": "python",
   "pygments_lexer": "ipython3",
   "version": "3.11.6"
  }
 },
 "nbformat": 4,
 "nbformat_minor": 5
}
