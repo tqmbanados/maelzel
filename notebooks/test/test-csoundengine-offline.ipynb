{
 "cells": [
  {
   "cell_type": "code",
   "execution_count": 1,
   "id": "fcc16d7c-75f7-46a0-a854-c9259fa6134d",
   "metadata": {},
   "outputs": [],
   "source": [
    "import csoundengine as ce"
   ]
  },
  {
   "cell_type": "code",
   "execution_count": 2,
   "id": "5b43779f-29be-4bf2-ab9d-64befdb820b0",
   "metadata": {},
   "outputs": [
    {
     "data": {
      "text/plain": [
       "Bus('audio', token=1)"
      ]
     },
     "execution_count": 2,
     "metadata": {},
     "output_type": "execute_result"
    }
   ],
   "source": [
    "r = ce.Renderer()\n",
    "busl = r.assignBus()\n",
    "busl"
   ]
  },
  {
   "cell_type": "code",
   "execution_count": 2,
   "id": "a61a933a-d26f-4435-85d9-d07cbfbc0320",
   "metadata": {},
   "outputs": [
    {
     "name": "stderr",
     "output_type": "stream",
     "text": [
      "\n",
      "\n",
      "\n",
      "--Csound version 6.19 (double samples) Oct 30 2023\n",
      "[commit: 79e5d31bea441e5289073319ab2b1e42d01814b9]\n",
      "\u001b[mlibsndfile-1.2.0\n",
      "\u001b[msr = 48000.0,\u001b[m kr = 750.000,\u001b[m ksmps = 64\n",
      "\u001b[m0dBFS level = 1.0,\u001b[m A4 tuning = 440.0\n",
      "\u001b[maudio buffered in 512 sample-frame blocks\n",
      "\u001b[mreading 4096-byte blks of shorts from adc:Built-in Audio Pro: (RAW)\n",
      "writing 1024 sample blks of 64-bit floats to dac:Built-in Audio Pro:\n",
      "SECTION 1:\n"
     ]
    }
   ],
   "source": [
    "e = ce.Engine()\n",
    "r = e.session()"
   ]
  },
  {
   "cell_type": "code",
   "execution_count": 3,
   "id": "779ff7dc-9744-4913-87ed-ba204918b920",
   "metadata": {},
   "outputs": [
    {
     "data": {
      "text/html": [
       "Instr <strong style=\"color:MediumSeaGreen\">master</strong><br>\n",
       "&nbsp&nbsp&nbsp&nbsp<span style=\"font-size:90%\"><b>ibus</b>:p5=<code>0</code></span><br>\n",
       "<hr style=\"width:38%;text-align:left;margin-left:0\">\n",
       "<span style=\"font-size:90%\"><div class=\"highlight\" style=\"background: #f8f8f8\"><pre style=\"line-height: 125%;\"><span></span><code><span style=\"color: #B00040\">a</span>sig<span style=\"color: #bbbbbb\"> </span>busin<span style=\"color: #bbbbbb\"> </span><span style=\"color: #B00040\">i</span>bus\n",
       "<span style=\"color: #008000\">outch</span><span style=\"color: #bbbbbb\"> </span><span style=\"color: #666666\">1</span>,<span style=\"color: #bbbbbb\"> </span><span style=\"color: #B00040\">a</span>sig\n",
       "</code></pre></div>\n",
       "</span>"
      ],
      "text/plain": [
       "Instr(master, ibus:5=0)"
      ]
     },
     "execution_count": 3,
     "metadata": {},
     "output_type": "execute_result"
    }
   ],
   "source": [
    "r.defInstr('sig', r'''\n",
    "|ibus, ipitch=60|\n",
    "asig vco2 0.1, mtof(ipitch)\n",
    "busmix ibus, asig\n",
    "''')\n",
    "\n",
    "r.defInstr('master', r'''\n",
    "|ibus|\n",
    "asig busin ibus\n",
    "outch 1, asig\n",
    "''')"
   ]
  },
  {
   "cell_type": "code",
   "execution_count": 11,
   "id": "d363b585-afc1-4baf-a1b4-f62ece43346a",
   "metadata": {},
   "outputs": [
    {
     "data": {
      "application/vnd.jupyter.widget-view+json": {
       "model_id": "a6e107b8de2a4172946829281bbb0016",
       "version_major": 2,
       "version_minor": 0
      },
      "text/plain": [
       "Button(description='Stop', style=ButtonStyle())"
      ]
     },
     "metadata": {},
     "output_type": "display_data"
    },
    {
     "data": {
      "application/vnd.jupyter.widget-view+json": {
       "model_id": "a010317477b742c4b74a2c86feff6a5b",
       "version_major": 2,
       "version_minor": 0
      },
      "text/plain": [
       "Output()"
      ]
     },
     "metadata": {},
     "output_type": "display_data"
    },
    {
     "data": {
      "text/html": [
       "<p><span style=\"font-size:12px;\">Synth(▶ <strong style=\"color:MediumSeaGreen\">master</strong>:1001.0007, <span style=\"font-size:12px;\">5:<b>ibus</b>=<code>1</code></span>)</span></p>"
      ],
      "text/plain": [
       "Synth(▶ master=1001.0007 start=81.708 dur=10.000 p4=0 ibus=1)"
      ]
     },
     "execution_count": 11,
     "metadata": {},
     "output_type": "execute_result"
    }
   ],
   "source": [
    "busl  = r.assignBus(persist=True)\n"
   ]
  },
  {
   "cell_type": "code",
   "execution_count": 19,
   "id": "f33f6842-a688-42a2-bfcb-c09860c1a5af",
   "metadata": {},
   "outputs": [
    {
     "name": "stdout",
     "output_type": "stream",
     "text": [
      "Bus('audio', token=1)\n"
     ]
    },
    {
     "data": {
      "application/vnd.jupyter.widget-view+json": {
       "model_id": "7a4e9dd7852d4a97b2cd11dec8dd9f4c",
       "version_major": 2,
       "version_minor": 0
      },
      "text/plain": [
       "Button(description='Stop', style=ButtonStyle())"
      ]
     },
     "metadata": {},
     "output_type": "display_data"
    },
    {
     "data": {
      "application/vnd.jupyter.widget-view+json": {
       "model_id": "e91014787c324eb49748875aaa16b96f",
       "version_major": 2,
       "version_minor": 0
      },
      "text/plain": [
       "Output()"
      ]
     },
     "metadata": {},
     "output_type": "display_data"
    },
    {
     "data": {
      "text/html": [
       "<small><span style=\"\"><b>SynthGroup</b></span>(synths=<code style=\"\">4</code>)</small>\n",
       "<p><small>Instr: <strong style=\"color:MediumSeaGreen\">sig</strong> - <b>3</b> synths</small></p>\n",
       "<table><thead><tr><th style=\"text-align:left\">p1</th><th style=\"text-align:left\">start</th><th style=\"text-align:left\">dur</th><th style=\"text-align:left\">4</th><th style=\"text-align:left\">5:ibus</th><th style=\"text-align:left\">6:ipitch</th></tr></thead><tbody><tr><td style=\"text-align:left\">501.0029 <b>▶</b></td><td style=\"text-align:left\">-0.013</td><td style=\"text-align:left\">4.000</td><td style=\"text-align:left\">0</td><td style=\"text-align:left\">1</td><td style=\"text-align:left\">67</td></tr><tr><td style=\"text-align:left\">501.003 <b>▶</b></td><td style=\"text-align:left\">0.988</td><td style=\"text-align:left\">4.000</td><td style=\"text-align:left\">0</td><td style=\"text-align:left\">1</td><td style=\"text-align:left\">65</td></tr><tr><td style=\"text-align:left\">501.0031 <b>▶</b></td><td style=\"text-align:left\">2.988</td><td style=\"text-align:left\">4.000</td><td style=\"text-align:left\">0</td><td style=\"text-align:left\">1</td><td style=\"text-align:left\">66</td></tr></tbody></table>\n",
       "<p><small>Instr: <strong style=\"color:MediumSeaGreen\">master</strong> - <b>1</b> synths</small></p>\n",
       "<table><thead><tr><th style=\"text-align:left\">p1</th><th style=\"text-align:left\">start</th><th style=\"text-align:left\">dur</th><th style=\"text-align:left\">4</th><th style=\"text-align:left\">5:ibus</th></tr></thead><tbody><tr><td style=\"text-align:left\">1001.001 <b>▶</b></td><td style=\"text-align:left\">-0.012</td><td style=\"text-align:left\">8.000</td><td style=\"text-align:left\">0</td><td style=\"text-align:left\">1</td></tr></tbody></table>"
      ],
      "text/plain": [
       "SynthGroup(n=4)\n",
       "    Synth(▶ sig=501.0029 start=162.391 dur=4.000 p4=0 ibus=1 ipitch=67)\n",
       "    Synth(▶ sig=501.003 start=163.391 dur=4.000 p4=0 ibus=1 ipitch=65)\n",
       "    Synth(▶ sig=501.0031 start=165.391 dur=4.000 p4=0 ibus=1 ipitch=66)\n",
       "    Synth(▶ master=1001.001 start=162.391 dur=8.000 p4=0 ibus=1)"
      ]
     },
     "execution_count": 19,
     "metadata": {},
     "output_type": "execute_result"
    }
   ],
   "source": [
    "print(busl)\n",
    "\n",
    "ce.SynthGroup([\n",
    "    r.sched('sig', 0, 4, ipitch=67, ibus=busl),\n",
    "    r.sched('sig', 1, 4, args=dict(ipitch=65, ibus=busl)),\n",
    "    r.sched('sig', 3, 4, args=dict(ipitch=66, ibus=busl)),\n",
    "    r.sched('master', dur=8, args={'ibus': busl}, priority=2)\n",
    "\n",
    "])"
   ]
  },
  {
   "cell_type": "code",
   "execution_count": 9,
   "id": "5761e3ce-e77d-45ee-8f0f-ca051c4db203",
   "metadata": {},
   "outputs": [
    {
     "data": {
      "text/plain": [
       "{'audioBusesFree': 62.0,\n",
       " 'controlBusesFree': 512.0,\n",
       " 'numAudioBuses': 64,\n",
       " 'numControlBuses': 512}"
      ]
     },
     "execution_count": 9,
     "metadata": {},
     "output_type": "execute_result"
    }
   ],
   "source": [
    "e.busSystemStatus()"
   ]
  },
  {
   "cell_type": "code",
   "execution_count": 36,
   "id": "94fda683-40da-4318-ba87-cc786802ed56",
   "metadata": {},
   "outputs": [],
   "source": [
    "e.compile('OSCsend 1, \"127.0.0.1\", 9992, \"/foo\", \"f\", 5')\n",
    "        "
   ]
  },
  {
   "cell_type": "code",
   "execution_count": 28,
   "id": "2ef03dee-48b0-462d-b6a9-8158c7096fae",
   "metadata": {},
   "outputs": [
    {
     "name": "stderr",
     "output_type": "stream",
     "text": [
      "\u001b[m\n",
      "error: syntax error, unexpected ','  (token \", \")\n",
      "\u001b[m line 1:\n",
      " >>> \u001b[mg\u001b[mi\u001b[m_\u001b[m_\u001b[mb\u001b[mu\u001b[ms\u001b[mp\u001b[mo\u001b[mo\u001b[ml\u001b[m)\u001b[m*\u001b[m,\u001b[m \u001b[m\u0000\u001b[m <<<\n",
      "\u001b[m\n",
      "error: syntax error, unexpected ')', expecting NEWLINE or ','  (token \")\")\n",
      "\u001b[m line 1:\n",
      " >>> \u001b[mg\u001b[mi\u001b[m_\u001b[m_\u001b[mb\u001b[mu\u001b[ms\u001b[mp\u001b[mo\u001b[mo\u001b[ml\u001b[mk\u001b[m)\u001b[m)\u001b[m\u0000\u001b[m <<<\n",
      "\u001b[mParsing failed due to invalid input!\n",
      "\u001b[mStopping on parser failure\n"
     ]
    },
    {
     "data": {
      "text/plain": [
       "nan"
      ]
     },
     "execution_count": 28,
     "metadata": {},
     "output_type": "execute_result"
    }
   ],
   "source": [
    "e.evalCode('pool_size(gi__buspool)*, pool_size(gi__buspoolk))')"
   ]
  },
  {
   "cell_type": "code",
   "execution_count": 15,
   "id": "aeaac8fb-bc7c-4be5-8022-2aab7ae9194d",
   "metadata": {},
   "outputs": [
    {
     "name": "stderr",
     "output_type": "stream",
     "text": [
      "UnifiedCSD:  /tmp/tmp9cmri8sv.csd\n",
      "instr _stop uses instrument number 5\n",
      "instr _automatePargViaTable uses instrument number 6\n",
      "instr _automateTableViaTable uses instrument number 7\n",
      "instr _pwrite uses instrument number 8\n",
      "Elapsed time at end of orchestra compile: real: 0.015s, CPU: 0.014s\n",
      "\u001b[msorting score ...\n",
      "\t... done\n",
      "Elapsed time at end of score sort: real: 0.016s, CPU: 0.015s\n",
      "\u001b[m--Csound version 6.19 (double samples) Dec 20 2022\n",
      "[commit: cd2cbc6494d1cefaaa357abf7c94e54e4d2e2868]\n",
      "\u001b[mlibsndfile-1.0.31\n",
      "\u001b[mgraphics suppressed, ascii substituted\n",
      "sr = 44100.0,\u001b[m kr = 689.062,\u001b[m ksmps = 64\n",
      "\u001b[m0dBFS level = 1.0,\u001b[m A4 tuning = 442.0\n",
      "\u001b[mftable 101:\n",
      "ftable 101:\t10000 points, scalemax 0.000\n",
      "ftable 102:\n",
      "ftable 102:\t1000 points, scalemax 0.000\n",
      "ftable 103:\n",
      "ftable 103:\t100 points, scalemax 0.000\n",
      "ftable 104:\n",
      "ftable 104:\t10000 points, scalemax 0.000\n",
      "ftable 105:\n",
      "ftable 105:\t1000 points, scalemax 0.000\n",
      "ftable 106:\n",
      "ftable 106:\t10000 points, scalemax 0.000\n",
      "orch now loaded\n",
      "\u001b[maudio buffered in 256 sample-frame blocks\n",
      "\u001b[mwriting 2048-byte blks of floats to /home/em/tmp/offline.wav (WAV)\n",
      "SECTION 1:\n",
      "\u001b[mnew alloc for instr 520:\n",
      "\u001b[mBus not found (token 0). Assigned bus 0\n",
      "\u001b[mnew alloc for instr 923:\n",
      "\u001b[mnew alloc for instr 2419:\n",
      "\u001b[mB  0.000 ..  1.000 T  1.000 TT  1.000 M:  0.11577  0.00000\n",
      "new alloc for instr 520:\n",
      "\u001b[mB  1.000 ..  3.000 T  3.000 TT  3.000 M:  0.21817  0.00000\n",
      "new alloc for instr 520:\n",
      "\u001b[mB  3.000 ..  4.000 T  4.000 TT  4.000 M:  0.32477  0.00000\n",
      "new alloc for instr 2:\n",
      "\u001b[mB  4.000 ..  5.000 T  5.000 TT  5.000 M:  0.21949  0.00000\n",
      "B  5.000 ..  7.000 T  6.999 TT  6.999 M:  0.11594  0.00000\n",
      "B  7.000 .. 10.000 T 10.001 TT 10.001 M:  0.00000  0.00000\n",
      "Score finished in csoundPerform().\n",
      "inactive allocs returned to freespace\n",
      "end of score.\t\t   overall amps:\u001b[m  0.32477  0.00000\n",
      "0 errors in performance\n",
      "\u001b[mElapsed time at end of performance: real: 0.079s, CPU: 0.075s\n",
      "\u001b[m512 2048 sample blks of floats written to /home/em/tmp/offline.wav (WAV)\n",
      "vst3_host_t::~vst3_host_t.\n"
     ]
    },
    {
     "data": {
      "text/plain": [
       "('/home/em/tmp/offline.wav',\n",
       " <Popen: returncode: 0 args: ['/usr/local/bin/csound', '-o', '/home/em/tmp/of...>)"
      ]
     },
     "execution_count": 15,
     "metadata": {},
     "output_type": "execute_result"
    }
   ],
   "source": [
    "r.render('~/tmp/offline.wav')"
   ]
  },
  {
   "cell_type": "code",
   "execution_count": 6,
   "id": "d4ac2052-de80-4959-a0bf-0622c8bdad85",
   "metadata": {},
   "outputs": [],
   "source": [
    "r.writeCsd(\"~/tmp/offline.csd\")"
   ]
  },
  {
   "cell_type": "code",
   "execution_count": null,
   "id": "2fa2d5bf-d265-4518-9581-6a4a0ffa734b",
   "metadata": {},
   "outputs": [],
   "source": []
  }
 ],
 "metadata": {
  "kernelspec": {
   "display_name": "Python 3 (ipykernel)",
   "language": "python",
   "name": "python3"
  },
  "language_info": {
   "codemirror_mode": {
    "name": "ipython",
    "version": 3
   },
   "file_extension": ".py",
   "mimetype": "text/x-python",
   "name": "python",
   "nbconvert_exporter": "python",
   "pygments_lexer": "ipython3",
   "version": "3.11.4"
  }
 },
 "nbformat": 4,
 "nbformat_minor": 5
}
