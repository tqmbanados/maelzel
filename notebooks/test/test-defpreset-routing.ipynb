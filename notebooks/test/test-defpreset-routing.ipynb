{
 "cells": [
  {
   "cell_type": "code",
   "execution_count": 1,
   "id": "de7196eb-d3c3-4f28-bba4-038d3ae76ef0",
   "metadata": {},
   "outputs": [],
   "source": [
    "from maelzel.core import *"
   ]
  },
  {
   "cell_type": "code",
   "execution_count": 2,
   "id": "e11accb8-5515-4c26-b88e-8e12924ea13a",
   "metadata": {},
   "outputs": [
    {
     "name": "stderr",
     "output_type": "stream",
     "text": [
      "QSocketNotifier: Can only be used with threads started with QThread\n"
     ]
    },
    {
     "data": {
      "text/html": [
       "Preset: <b>.sing</b> - <span style=\"color:#A0A0A0\"><i>Simple vowel singing simulation</i></span>\n",
       "<br>\n",
       "<code style=\"font-size: 90%\">  <span style=\"color:#A0A0A0;font-size:96%\">(routing=True, numouts=2, numsignals=1)\n",
       "</span></code>\n",
       "<ul style=\"line-height: 120%\">\n",
       "<li><span style=\"font-size:90%\"><strong>kx</strong></span>: <span style=\"font-size:90%\"><i>x coordinate, from 0 to 1, A=(0;0), E=(0.5;0.5), I=(1;0), O=(0;1), U=(1;1)</i></span></li>\n",
       "<li><span style=\"font-size:90%\"><strong>ky</strong></span>: <span style=\"font-size:90%\"><i>y coordinate, from 0 to 1, A=(0;0), E=(0.5;0.5), I=(1;0), O=(0;1), U=(1;1)</i></span></li>\n",
       "<li><span style=\"font-size:90%\"><strong>kvibrange</strong></span>: <span style=\"font-size:90%\"><i>vibrato range in semitones</i></span></li>\n",
       "<li><span style=\"font-size:90%\"><strong>ivibstart</strong></span>: <span style=\"font-size:90%\"><i>start time of vibrato</i></span></li>\n",
       "<li><span style=\"font-size:90%\"><strong>ivibfreq</strong></span>: <span style=\"font-size:90%\"><i>vibrato frequency</i></span></li>\n",
       "<li><span style=\"font-size:90%\"><strong>ipitchlag</strong></span>: <span style=\"font-size:90%\"><i>time lag for pitch modifications</i></span></li>\n",
       "</ul>\n",
       "<span style=\"font-size:96%\"><strong>init</strong></span>\n",
       "<span style=\"font-size:90%\"><div class=\"highlight\" style=\"background: #f8f8f8\"><pre style=\"line-height: 125%;\"><span></span><code><span style=\"color: #bbbbbb\">  </span><span style=\"color: #B00040\">gi</span>__formantFreqs__[]<span style=\"color: #bbbbbb\"> </span><span style=\"color: #008000\">fillarray</span><span style=\"color: #bbbbbb\"> </span>\\\n",
       "<span style=\"color: #bbbbbb\">      </span><span style=\"color: #666666\">668</span>,<span style=\"color: #bbbbbb\"> </span><span style=\"color: #666666\">1191</span>,<span style=\"color: #bbbbbb\"> </span><span style=\"color: #666666\">2428</span>,<span style=\"color: #bbbbbb\"> </span><span style=\"color: #666666\">3321</span>,<span style=\"color: #bbbbbb\"> </span><span style=\"color: #666666\">4600</span>,<span style=\"color: #bbbbbb\"> </span><span style=\"border: 1px solid #FF0000\">\\</span><span style=\"color: #bbbbbb\">  </span><span style=\"color: #3D7B7B; font-style: italic\">; A</span>\n",
       "<span style=\"color: #bbbbbb\">      </span><span style=\"color: #666666\">327</span>,<span style=\"color: #bbbbbb\"> </span><span style=\"color: #666666\">2157</span>,<span style=\"color: #bbbbbb\"> </span><span style=\"color: #666666\">2754</span>,<span style=\"color: #bbbbbb\"> </span><span style=\"color: #666666\">3630</span>,<span style=\"color: #bbbbbb\"> </span><span style=\"color: #666666\">4600</span>,<span style=\"color: #bbbbbb\"> </span><span style=\"border: 1px solid #FF0000\">\\</span><span style=\"color: #bbbbbb\">  </span><span style=\"color: #3D7B7B; font-style: italic\">; E </span>\n",
       "<span style=\"color: #bbbbbb\">      </span><span style=\"color: #666666\">208</span>,<span style=\"color: #bbbbbb\"> </span><span style=\"color: #666666\">2152</span>,<span style=\"color: #bbbbbb\"> </span><span style=\"color: #666666\">3128</span>,<span style=\"color: #bbbbbb\"> </span><span style=\"color: #666666\">3425</span>,<span style=\"color: #bbbbbb\"> </span><span style=\"color: #666666\">4200</span>,<span style=\"color: #bbbbbb\"> </span><span style=\"border: 1px solid #FF0000\">\\</span><span style=\"color: #bbbbbb\">  </span><span style=\"color: #3D7B7B; font-style: italic\">; I</span>\n",
       "<span style=\"color: #bbbbbb\">      </span><span style=\"color: #666666\">335</span>,<span style=\"color: #bbbbbb\"> </span><span style=\"color: #666666\">628</span>,<span style=\"color: #bbbbbb\"> </span><span style=\"color: #666666\">2689</span>,<span style=\"color: #bbbbbb\"> </span><span style=\"color: #666666\">3515</span>,<span style=\"color: #bbbbbb\"> </span><span style=\"color: #666666\">4200</span>,<span style=\"color: #bbbbbb\"> </span><span style=\"border: 1px solid #FF0000\">\\</span><span style=\"color: #bbbbbb\">   </span><span style=\"color: #3D7B7B; font-style: italic\">; O</span>\n",
       "<span style=\"color: #bbbbbb\">      </span><span style=\"color: #666666\">254</span>,<span style=\"color: #bbbbbb\"> </span><span style=\"color: #666666\">796</span>,<span style=\"color: #bbbbbb\"> </span><span style=\"color: #666666\">2515</span>,<span style=\"color: #bbbbbb\"> </span><span style=\"color: #666666\">3274</span>,<span style=\"color: #bbbbbb\"> </span><span style=\"color: #666666\">4160</span><span style=\"color: #bbbbbb\">      </span><span style=\"color: #3D7B7B; font-style: italic\">; U</span>\n",
       "\n",
       "<span style=\"color: #bbbbbb\">  </span><span style=\"color: #B00040\">gi</span>__formantDbs__[]<span style=\"color: #bbbbbb\"> </span><span style=\"color: #008000\">fillarray</span><span style=\"color: #bbbbbb\">   </span>\\\n",
       "<span style=\"color: #bbbbbb\">      </span><span style=\"color: #666666\">28</span>,<span style=\"color: #bbbbbb\"> </span><span style=\"color: #666666\">28</span>,<span style=\"color: #bbbbbb\"> </span><span style=\"color: #666666\">22</span>,<span style=\"color: #bbbbbb\"> </span><span style=\"color: #666666\">20</span>,<span style=\"color: #bbbbbb\"> </span><span style=\"color: #666666\">20</span>,<span style=\"color: #bbbbbb\"> </span>\\\n",
       "<span style=\"color: #bbbbbb\">      </span><span style=\"color: #666666\">15</span>,<span style=\"color: #bbbbbb\"> </span><span style=\"color: #666666\">25</span>,<span style=\"color: #bbbbbb\"> </span><span style=\"color: #666666\">24</span>,<span style=\"color: #bbbbbb\"> </span><span style=\"color: #666666\">20</span>,<span style=\"color: #bbbbbb\"> </span><span style=\"color: #666666\">23</span>,<span style=\"color: #bbbbbb\"> </span>\\\n",
       "<span style=\"color: #bbbbbb\">      </span><span style=\"color: #666666\">10</span>,<span style=\"color: #bbbbbb\"> </span><span style=\"color: #666666\">20</span>,<span style=\"color: #bbbbbb\"> </span><span style=\"color: #666666\">27</span>,<span style=\"color: #bbbbbb\"> </span><span style=\"color: #666666\">26</span>,<span style=\"color: #bbbbbb\"> </span><span style=\"color: #666666\">20</span>,<span style=\"color: #bbbbbb\"> </span>\\\n",
       "<span style=\"color: #bbbbbb\">      </span><span style=\"color: #666666\">15</span>,<span style=\"color: #bbbbbb\"> </span><span style=\"color: #666666\">18</span>,<span style=\"color: #bbbbbb\"> </span><span style=\"color: #666666\">5</span>,<span style=\"color: #bbbbbb\">  </span><span style=\"color: #666666\">7</span>,<span style=\"color: #bbbbbb\">  </span><span style=\"color: #666666\">12</span>,<span style=\"color: #bbbbbb\"> </span>\\\n",
       "<span style=\"color: #bbbbbb\">      </span><span style=\"color: #666666\">12</span>,<span style=\"color: #bbbbbb\"> </span><span style=\"color: #666666\">10</span>,<span style=\"color: #bbbbbb\"> </span><span style=\"color: #666666\">6</span>,<span style=\"color: #bbbbbb\">  </span><span style=\"color: #666666\">5</span>,<span style=\"color: #bbbbbb\">  </span><span style=\"color: #666666\">12</span>\n",
       "\n",
       "<span style=\"color: #bbbbbb\">  </span><span style=\"color: #B00040\">gi</span>__formantBws__[]<span style=\"color: #bbbbbb\"> </span><span style=\"color: #008000\">fillarray</span><span style=\"color: #bbbbbb\">   </span>\\\n",
       "<span style=\"color: #bbbbbb\">      </span><span style=\"color: #666666\">80</span>,<span style=\"color: #bbbbbb\"> </span><span style=\"color: #666666\">90</span>,<span style=\"color: #bbbbbb\"> </span><span style=\"color: #666666\">120</span>,<span style=\"color: #bbbbbb\"> </span><span style=\"color: #666666\">130</span>,<span style=\"color: #bbbbbb\"> </span><span style=\"color: #666666\">140</span>,<span style=\"color: #bbbbbb\"> </span>\\\n",
       "<span style=\"color: #bbbbbb\">      </span><span style=\"color: #666666\">60</span>,<span style=\"color: #bbbbbb\"> </span><span style=\"color: #666666\">100</span>,<span style=\"color: #bbbbbb\"> </span><span style=\"color: #666666\">120</span>,<span style=\"color: #bbbbbb\"> </span><span style=\"color: #666666\">150</span>,<span style=\"color: #bbbbbb\"> </span><span style=\"color: #666666\">200</span>,<span style=\"color: #bbbbbb\"> </span>\\\n",
       "<span style=\"color: #bbbbbb\">      </span><span style=\"color: #666666\">60</span>,<span style=\"color: #bbbbbb\"> </span><span style=\"color: #666666\">90</span>,<span style=\"color: #bbbbbb\"> </span><span style=\"color: #666666\">100</span>,<span style=\"color: #bbbbbb\"> </span><span style=\"color: #666666\">120</span>,<span style=\"color: #bbbbbb\"> </span><span style=\"color: #666666\">120</span>,<span style=\"color: #bbbbbb\"> </span>\\\n",
       "<span style=\"color: #bbbbbb\">      </span><span style=\"color: #666666\">40</span>,<span style=\"color: #bbbbbb\"> </span><span style=\"color: #666666\">80</span>,<span style=\"color: #bbbbbb\"> </span><span style=\"color: #666666\">100</span>,<span style=\"color: #bbbbbb\"> </span><span style=\"color: #666666\">120</span>,<span style=\"color: #bbbbbb\"> </span><span style=\"color: #666666\">120</span>,<span style=\"color: #bbbbbb\"> </span>\\\n",
       "<span style=\"color: #bbbbbb\">      </span><span style=\"color: #666666\">50</span>,<span style=\"color: #bbbbbb\"> </span><span style=\"color: #666666\">60</span>,<span style=\"color: #bbbbbb\"> </span><span style=\"color: #666666\">170</span>,<span style=\"color: #bbbbbb\"> </span><span style=\"color: #666666\">180</span>,<span style=\"color: #bbbbbb\"> </span><span style=\"color: #666666\">200</span>\n",
       "\n",
       "<span style=\"color: #bbbbbb\">  </span><span style=\"color: #B00040\">gi</span>__formantAmps__[]<span style=\"color: #bbbbbb\"> </span><span style=\"color: #008000\">maparray</span><span style=\"color: #bbbbbb\"> </span><span style=\"color: #B00040\">gi</span>__formantDbs__,<span style=\"color: #bbbbbb\"> </span><span style=\"color: #BA2121\">&quot;ampdb&quot;</span>\n",
       "<span style=\"color: #bbbbbb\">  </span><span style=\"color: #008000\">reshapearray</span><span style=\"color: #bbbbbb\"> </span><span style=\"color: #B00040\">gi</span>__formantFreqs__,<span style=\"color: #bbbbbb\"> </span><span style=\"color: #666666\">5</span>,<span style=\"color: #bbbbbb\"> </span><span style=\"color: #666666\">5</span>\n",
       "<span style=\"color: #bbbbbb\">  </span><span style=\"color: #008000\">reshapearray</span><span style=\"color: #bbbbbb\"> </span><span style=\"color: #B00040\">gi</span>__formantAmps__,<span style=\"color: #bbbbbb\"> </span><span style=\"color: #666666\">5</span>,<span style=\"color: #bbbbbb\"> </span><span style=\"color: #666666\">5</span>\n",
       "<span style=\"color: #bbbbbb\">  </span><span style=\"color: #008000\">reshapearray</span><span style=\"color: #bbbbbb\"> </span><span style=\"color: #B00040\">gi</span>__formantBws__,<span style=\"color: #bbbbbb\"> </span><span style=\"color: #666666\">5</span>,<span style=\"color: #bbbbbb\"> </span><span style=\"color: #666666\">5</span>\n",
       "</code></pre></div>\n",
       "</span>\n",
       "<span style=\"font-size:96%\"><strong>code</strong></span>\n",
       "<span style=\"font-size:90%\"><div class=\"highlight\" style=\"background: #f8f8f8\"><pre style=\"line-height: 125%;\"><span></span><code><span style=\"color: #bbbbbb\">  </span><span style=\"color: #666666\">|</span><span style=\"color: #B00040\">k</span>x<span style=\"color: #666666\">=0.0</span>,<span style=\"color: #bbbbbb\"> </span><span style=\"color: #B00040\">k</span>y<span style=\"color: #666666\">=0.0</span>,<span style=\"color: #bbbbbb\"> </span><span style=\"color: #B00040\">k</span>vibrange<span style=\"color: #666666\">=0.25</span>,<span style=\"color: #bbbbbb\"> </span><span style=\"color: #B00040\">k</span>vibfreq<span style=\"color: #666666\">=4.5</span>,<span style=\"color: #bbbbbb\"> </span><span style=\"color: #B00040\">i</span>vibstart<span style=\"color: #666666\">=0.5</span>,<span style=\"color: #bbbbbb\"> </span><span style=\"color: #B00040\">i</span>pitchlag<span style=\"color: #666666\">=0.2|</span>\n",
       "</code></pre></div>\n",
       "</span>\n",
       "<span style=\"font-size:90%\"><div class=\"highlight\" style=\"background: #f8f8f8\"><pre style=\"line-height: 125%;\"><span></span><code><span style=\"color: #bbbbbb\">  </span><span style=\"color: #3D7B7B; font-style: italic\">; Simple vowel singing simulation</span>\n",
       "<span style=\"color: #bbbbbb\">  </span><span style=\"color: #3D7B7B; font-style: italic\">; Args:</span>\n",
       "<span style=\"color: #bbbbbb\">  </span><span style=\"color: #3D7B7B; font-style: italic\">;   kx: x coordinate, from 0 to 1, A=(0;0), E=(0.5;0.5), I=(1;0), O=(0;1), U=(1;1)</span>\n",
       "<span style=\"color: #bbbbbb\">  </span><span style=\"color: #3D7B7B; font-style: italic\">;   ky: y coordinate, from 0 to 1, A=(0;0), E=(0.5;0.5), I=(1;0), O=(0;1), U=(1;1)</span>\n",
       "<span style=\"color: #bbbbbb\">  </span><span style=\"color: #3D7B7B; font-style: italic\">;   kvibrange: vibrato range in semitones</span>\n",
       "<span style=\"color: #bbbbbb\">  </span><span style=\"color: #3D7B7B; font-style: italic\">;   ivibstart: start time of vibrato</span>\n",
       "<span style=\"color: #bbbbbb\">  </span><span style=\"color: #3D7B7B; font-style: italic\">;   ivibfreq: vibrato frequency</span>\n",
       "<span style=\"color: #bbbbbb\">  </span><span style=\"color: #3D7B7B; font-style: italic\">;   ipitchlag: time lag for pitch modifications</span>\n",
       "\n",
       "<span style=\"color: #bbbbbb\">  </span><span style=\"color: #B00040\">k</span>noVib<span style=\"color: #bbbbbb\"> </span><span style=\"color: #666666\">=</span><span style=\"color: #bbbbbb\"> </span><span style=\"color: #008000\">lag</span>:<span style=\"color: #B00040\">k</span>(<span style=\"color: #008000\">trighold</span>(<span style=\"color: #008000\">changed2</span>(<span style=\"color: #B00040\">k</span>pitch),<span style=\"color: #bbbbbb\"> </span><span style=\"color: #B00040\">i</span>vibstart<span style=\"color: #666666\">*0.8</span>),<span style=\"color: #bbbbbb\"> </span><span style=\"color: #B00040\">i</span>vibstart<span style=\"color: #666666\">*0.2</span>)\n",
       "<span style=\"color: #bbbbbb\">  </span><span style=\"color: #B00040\">k</span>vibfreq2<span style=\"color: #bbbbbb\"> </span><span style=\"color: #666666\">=</span><span style=\"color: #bbbbbb\"> </span><span style=\"color: #008000\">linseg</span>:<span style=\"color: #B00040\">k</span>(<span style=\"color: #666666\">0</span>,<span style=\"color: #bbbbbb\"> </span><span style=\"color: #B00040\">i</span>vibstart<span style=\"color: #666666\">*0.25</span>,<span style=\"color: #bbbbbb\"> </span><span style=\"color: #666666\">0</span>,<span style=\"color: #bbbbbb\"> </span><span style=\"color: #B00040\">i</span>vibstart<span style=\"color: #666666\">*0.75</span>,<span style=\"color: #bbbbbb\"> </span><span style=\"color: #666666\">1</span>)<span style=\"color: #bbbbbb\"> </span><span style=\"color: #666666\">*</span><span style=\"color: #bbbbbb\"> </span><span style=\"color: #008000\">randomi</span>:<span style=\"color: #B00040\">k</span>(<span style=\"color: #666666\">0.9</span>,<span style=\"color: #bbbbbb\"> </span><span style=\"color: #666666\">1.1</span>,<span style=\"color: #bbbbbb\"> </span><span style=\"color: #666666\">2</span>)<span style=\"color: #bbbbbb\"> </span><span style=\"color: #666666\">*</span><span style=\"color: #bbbbbb\"> </span>(<span style=\"color: #666666\">1</span><span style=\"color: #bbbbbb\"> </span><span style=\"color: #666666\">-</span><span style=\"color: #bbbbbb\"> </span><span style=\"color: #B00040\">k</span>noVib)<span style=\"color: #bbbbbb\"> </span><span style=\"color: #666666\">*</span><span style=\"color: #bbbbbb\"> </span><span style=\"color: #B00040\">k</span>vibfreq<span style=\"color: #bbbbbb\"> </span>\n",
       "<span style=\"color: #bbbbbb\">  </span><span style=\"color: #B00040\">k</span>vibamount<span style=\"color: #bbbbbb\"> </span><span style=\"color: #666666\">=</span><span style=\"color: #bbbbbb\"> </span><span style=\"color: #008000\">linseg</span>:<span style=\"color: #B00040\">k</span>(<span style=\"color: #666666\">0</span>,<span style=\"color: #bbbbbb\"> </span><span style=\"color: #B00040\">i</span>vibstart<span style=\"color: #666666\">*0.2</span>,<span style=\"color: #bbbbbb\"> </span><span style=\"color: #666666\">0</span>,<span style=\"color: #bbbbbb\"> </span><span style=\"color: #B00040\">i</span>vibstart<span style=\"color: #666666\">*0.8</span>,<span style=\"color: #bbbbbb\"> </span><span style=\"color: #666666\">1</span>)<span style=\"color: #bbbbbb\"> </span><span style=\"color: #666666\">*</span><span style=\"color: #bbbbbb\"> </span><span style=\"color: #008000\">randomi</span>:<span style=\"color: #B00040\">k</span>(<span style=\"color: #666666\">0.9</span>,<span style=\"color: #bbbbbb\"> </span><span style=\"color: #666666\">1.1</span>,<span style=\"color: #bbbbbb\"> </span><span style=\"color: #666666\">10</span>)\n",
       "<span style=\"color: #bbbbbb\">  </span><span style=\"color: #B00040\">k</span>vibsemi<span style=\"color: #bbbbbb\"> </span><span style=\"color: #666666\">=</span><span style=\"color: #bbbbbb\"> </span><span style=\"color: #B00040\">k</span>vibamount<span style=\"color: #bbbbbb\"> </span><span style=\"color: #666666\">*</span><span style=\"color: #bbbbbb\"> </span><span style=\"color: #B00040\">k</span>vibrange\n",
       "<span style=\"color: #bbbbbb\">  </span><span style=\"color: #B00040\">k</span>vib<span style=\"color: #bbbbbb\"> </span><span style=\"color: #666666\">=</span><span style=\"color: #bbbbbb\"> </span><span style=\"color: #008000\">oscil</span>:<span style=\"color: #B00040\">k</span>(<span style=\"color: #B00040\">k</span>vibsemi<span style=\"color: #666666\">/2</span>,<span style=\"color: #bbbbbb\"> </span><span style=\"color: #B00040\">k</span>vibfreq2)<span style=\"color: #bbbbbb\"> </span><span style=\"color: #666666\">-</span><span style=\"color: #bbbbbb\"> </span><span style=\"color: #B00040\">k</span>vibsemi<span style=\"color: #666666\">/2</span>\n",
       "<span style=\"color: #bbbbbb\">  </span><span style=\"color: #B00040\">k</span>pitch2<span style=\"color: #bbbbbb\"> </span><span style=\"color: #666666\">=</span><span style=\"color: #bbbbbb\"> </span><span style=\"color: #008000\">lag</span>:<span style=\"color: #B00040\">k</span>(<span style=\"color: #B00040\">k</span>pitch,<span style=\"color: #bbbbbb\"> </span><span style=\"color: #B00040\">i</span>pitchlag)<span style=\"color: #bbbbbb\"> </span><span style=\"color: #666666\">+</span><span style=\"color: #bbbbbb\"> </span><span style=\"color: #B00040\">k</span>vib\n",
       "<span style=\"color: #bbbbbb\">  </span><span style=\"color: #B00040\">a</span>source<span style=\"color: #bbbbbb\"> </span><span style=\"color: #666666\">=</span><span style=\"color: #bbbbbb\"> </span><span style=\"color: #008000\">butterlp</span>:<span style=\"color: #B00040\">a</span>(<span style=\"color: #008000\">vco2</span>:<span style=\"color: #B00040\">a</span>(<span style=\"color: #B00040\">k</span>amp,<span style=\"color: #bbbbbb\"> </span><span style=\"color: #008000\">mtof</span>(<span style=\"color: #B00040\">k</span>pitch2)),<span style=\"color: #bbbbbb\"> </span><span style=\"color: #666666\">5000</span>)\n",
       "<span style=\"color: #bbbbbb\">  </span><span style=\"color: #B00040\">k</span>coords[]<span style=\"color: #bbbbbb\"> </span><span style=\"color: #008000\">fillarray</span><span style=\"color: #bbbbbb\"> </span><span style=\"color: #666666\">0</span>,<span style=\"color: #bbbbbb\"> </span><span style=\"color: #666666\">0</span>,<span style=\"color: #bbbbbb\"> </span><span style=\"color: #666666\">1</span>,<span style=\"color: #bbbbbb\">       </span><span style=\"border: 1px solid #FF0000\">\\</span><span style=\"color: #bbbbbb\">  </span><span style=\"color: #3D7B7B; font-style: italic\">; A</span>\n",
       "<span style=\"color: #bbbbbb\">                      </span><span style=\"color: #666666\">0.5</span>,<span style=\"color: #bbbbbb\"> </span><span style=\"color: #666666\">0.5</span>,<span style=\"color: #bbbbbb\"> </span><span style=\"color: #666666\">0.3</span>,<span style=\"color: #bbbbbb\"> </span><span style=\"border: 1px solid #FF0000\">\\</span><span style=\"color: #bbbbbb\">  </span><span style=\"color: #3D7B7B; font-style: italic\">; E</span>\n",
       "<span style=\"color: #bbbbbb\">                      </span><span style=\"color: #666666\">1</span>,<span style=\"color: #bbbbbb\"> </span><span style=\"color: #666666\">0</span>,<span style=\"color: #bbbbbb\"> </span><span style=\"color: #666666\">1</span>,<span style=\"color: #bbbbbb\">       </span><span style=\"border: 1px solid #FF0000\">\\</span><span style=\"color: #bbbbbb\">  </span><span style=\"color: #3D7B7B; font-style: italic\">; I</span>\n",
       "<span style=\"color: #bbbbbb\">                      </span><span style=\"color: #666666\">0</span>,<span style=\"color: #bbbbbb\"> </span><span style=\"color: #666666\">1</span>,<span style=\"color: #bbbbbb\"> </span><span style=\"color: #666666\">1</span>,<span style=\"color: #bbbbbb\">       </span><span style=\"border: 1px solid #FF0000\">\\</span><span style=\"color: #bbbbbb\">  </span><span style=\"color: #3D7B7B; font-style: italic\">; O</span>\n",
       "<span style=\"color: #bbbbbb\">                      </span><span style=\"color: #666666\">1</span>,<span style=\"color: #bbbbbb\"> </span><span style=\"color: #666666\">1</span>,<span style=\"color: #bbbbbb\"> </span><span style=\"color: #666666\">1</span><span style=\"color: #bbbbbb\">           </span><span style=\"color: #3D7B7B; font-style: italic\">; U</span>\n",
       "\n",
       "<span style=\"color: #bbbbbb\">  </span><span style=\"color: #B00040\">k</span>weights[]<span style=\"color: #bbbbbb\"> </span>presetinterp<span style=\"color: #bbbbbb\"> </span><span style=\"color: #B00040\">k</span>x,<span style=\"color: #bbbbbb\"> </span><span style=\"color: #B00040\">k</span>y,<span style=\"color: #bbbbbb\"> </span><span style=\"color: #B00040\">k</span>coords,<span style=\"color: #bbbbbb\"> </span><span style=\"color: #666666\">0.2</span>\n",
       "<span style=\"color: #bbbbbb\">  </span><span style=\"color: #B00040\">k</span>formantFreqs[]<span style=\"color: #bbbbbb\"> </span><span style=\"color: #B00040\">w</span>eightedsum<span style=\"color: #bbbbbb\"> </span><span style=\"color: #B00040\">gi</span>__formantFreqs__,<span style=\"color: #bbbbbb\"> </span><span style=\"color: #B00040\">k</span>weights\n",
       "<span style=\"color: #bbbbbb\">  </span><span style=\"color: #B00040\">k</span>formantBws[]<span style=\"color: #bbbbbb\">   </span><span style=\"color: #B00040\">w</span>eightedsum<span style=\"color: #bbbbbb\"> </span><span style=\"color: #B00040\">gi</span>__formantBws__,<span style=\"color: #bbbbbb\"> </span><span style=\"color: #B00040\">k</span>weights\n",
       "<span style=\"color: #bbbbbb\">  </span><span style=\"color: #B00040\">k</span>formantAmps[]<span style=\"color: #bbbbbb\">  </span><span style=\"color: #B00040\">w</span>eightedsum<span style=\"color: #bbbbbb\"> </span><span style=\"color: #B00040\">gi</span>__formantAmps__,<span style=\"color: #bbbbbb\"> </span><span style=\"color: #B00040\">k</span>weights\n",
       "<span style=\"color: #bbbbbb\">  </span><span style=\"color: #B00040\">k</span>formantFreqs<span style=\"color: #bbbbbb\"> </span>poly<span style=\"color: #bbbbbb\"> </span><span style=\"color: #666666\">5</span>,<span style=\"color: #bbbbbb\"> </span><span style=\"color: #BA2121\">&quot;lag&quot;</span>,<span style=\"color: #bbbbbb\"> </span><span style=\"color: #B00040\">k</span>formantFreqs,<span style=\"color: #bbbbbb\"> </span><span style=\"color: #B00040\">i</span>pitchlag\n",
       "<span style=\"color: #bbbbbb\">  </span><span style=\"color: #B00040\">k</span>formantAmps<span style=\"color: #bbbbbb\">  </span>poly<span style=\"color: #bbbbbb\"> </span><span style=\"color: #666666\">5</span>,<span style=\"color: #bbbbbb\"> </span><span style=\"color: #BA2121\">&quot;lag&quot;</span>,<span style=\"color: #bbbbbb\"> </span><span style=\"color: #B00040\">k</span>formantAmps,<span style=\"color: #bbbbbb\"> </span><span style=\"color: #B00040\">i</span>pitchlag\n",
       "<span style=\"color: #bbbbbb\">  </span><span style=\"color: #B00040\">a</span>formants[]<span style=\"color: #bbbbbb\"> </span>poly<span style=\"color: #bbbbbb\"> </span><span style=\"color: #666666\">5</span>,<span style=\"color: #bbbbbb\"> </span><span style=\"color: #BA2121\">&quot;resonx&quot;</span>,<span style=\"color: #bbbbbb\"> </span><span style=\"color: #B00040\">a</span>source,<span style=\"color: #bbbbbb\"> </span><span style=\"color: #B00040\">k</span>formantFreqs,<span style=\"color: #bbbbbb\"> </span><span style=\"color: #B00040\">k</span>formantBws,<span style=\"color: #bbbbbb\"> </span><span style=\"color: #666666\">2</span>,<span style=\"color: #bbbbbb\"> </span><span style=\"color: #666666\">1</span>\n",
       "<span style=\"color: #bbbbbb\">  </span><span style=\"color: #B00040\">a</span>formants<span style=\"color: #bbbbbb\"> </span><span style=\"color: #666666\">*=</span><span style=\"color: #bbbbbb\"> </span><span style=\"color: #B00040\">k</span>formantAmps\n",
       "<span style=\"color: #bbbbbb\">  </span><span style=\"color: #B00040\">a</span>out1<span style=\"color: #bbbbbb\"> </span><span style=\"color: #666666\">=</span><span style=\"color: #bbbbbb\"> </span><span style=\"color: #008000\">sumarray</span>(<span style=\"color: #B00040\">a</span>formants)<span style=\"color: #bbbbbb\"> </span><span style=\"color: #666666\">*</span><span style=\"color: #bbbbbb\"> </span><span style=\"color: #666666\">0.1</span>\n",
       "</code></pre></div>\n",
       "</span>"
      ],
      "text/plain": [
       "Preset: .sing  (Simple vowel singing simulation)\n",
       "    routing=True\n",
       "  init: gi__formantFreqs__[] fillarray \\\n",
       "            668, 1191, 2428, 3321, 4600, \\  ; A\n",
       "            327, 2157, 2754, 3630, 4600, \\  ; E \n",
       "            208, 2152, 3128, 3425, 4200, \\  ; I\n",
       "            335, 628, 2689, 3515, 4200, \\   ; O\n",
       "            254, 796, 2515, 3274, 4160      ; U\n",
       "                       \n",
       "        gi__formantDbs__[] fillarray   \\\n",
       "            28, 28, 22, 20, 20, \\\n",
       "            15, 25, 24, 20, 23, \\\n",
       "            10, 20, 27, 26, 20, \\\n",
       "            15, 18, 5,  7,  12, \\\n",
       "            12, 10, 6,  5,  12\n",
       "                                   \n",
       "        gi__formantBws__[] fillarray   \\\n",
       "            80, 90, 120, 130, 140, \\\n",
       "            60, 100, 120, 150, 200, \\\n",
       "            60, 90, 100, 120, 120, \\\n",
       "            40, 80, 100, 120, 120, \\\n",
       "            50, 60, 170, 180, 200\n",
       "            \n",
       "        gi__formantAmps__[] maparray gi__formantDbs__, \"ampdb\"\n",
       "        reshapearray gi__formantFreqs__, 5, 5\n",
       "        reshapearray gi__formantAmps__, 5, 5\n",
       "        reshapearray gi__formantBws__, 5, 5\n",
       "  |kx=0.0, ky=0.0, kvibrange=0.25, kvibfreq=4.5, ivibstart=0.5, ipitchlag=0.2|\n",
       "  ; Simple vowel singing simulation\n",
       "  ; Args:\n",
       "  ;   kx: x coordinate, from 0 to 1, A=(0;0), E=(0.5;0.5), I=(1;0), O=(0;1), U=(1;1)\n",
       "  ;   ky: y coordinate, from 0 to 1, A=(0;0), E=(0.5;0.5), I=(1;0), O=(0;1), U=(1;1)\n",
       "  ;   kvibrange: vibrato range in semitones\n",
       "  ;   ivibstart: start time of vibrato\n",
       "  ;   ivibfreq: vibrato frequency\n",
       "  ;   ipitchlag: time lag for pitch modifications\n",
       "\n",
       "  knoVib = lag:k(trighold(changed2(kpitch), ivibstart*0.8), ivibstart*0.2)\n",
       "  kvibfreq2 = linseg:k(0, ivibstart*0.25, 0, ivibstart*0.75, 1) * randomi:k(0.9, 1.1, 2) * (1 - knoVib) * kvibfreq \n",
       "  kvibamount = linseg:k(0, ivibstart*0.2, 0, ivibstart*0.8, 1) * randomi:k(0.9, 1.1, 10)\n",
       "  kvibsemi = kvibamount * kvibrange\n",
       "  kvib = oscil:k(kvibsemi/2, kvibfreq2) - kvibsemi/2\n",
       "  kpitch2 = lag:k(kpitch, ipitchlag) + kvib\n",
       "  asource = butterlp:a(vco2:a(kamp, mtof(kpitch2)), 5000)\n",
       "  kcoords[] fillarray 0, 0, 1,       \\  ; A\n",
       "                      0.5, 0.5, 0.3, \\  ; E\n",
       "                      1, 0, 1,       \\  ; I\n",
       "                      0, 1, 1,       \\  ; O\n",
       "                      1, 1, 1           ; U\n",
       "\n",
       "  kweights[] presetinterp kx, ky, kcoords, 0.2\n",
       "  kformantFreqs[] weightedsum gi__formantFreqs__, kweights\n",
       "  kformantBws[]   weightedsum gi__formantBws__, kweights\n",
       "  kformantAmps[]  weightedsum gi__formantAmps__, kweights\n",
       "  kformantFreqs poly 5, \"lag\", kformantFreqs, ipitchlag\n",
       "  kformantAmps  poly 5, \"lag\", kformantAmps, ipitchlag\n",
       "  aformants[] poly 5, \"resonx\", asource, kformantFreqs, kformantBws, 2, 1\n",
       "  aformants *= kformantAmps\n",
       "  aout1 = sumarray(aformants) * 0.1"
      ]
     },
     "execution_count": 2,
     "metadata": {},
     "output_type": "execute_result"
    }
   ],
   "source": [
    "getPreset('?')"
   ]
  },
  {
   "cell_type": "code",
   "execution_count": 3,
   "id": "7630f0f6-38ac-4b83-82c4-d45490246db7",
   "metadata": {},
   "outputs": [
    {
     "data": {
      "text/html": [
       "Preset: <b>_clip_diskin</b> - <span style=\"color:#A0A0A0\"><i>Builtin-in preset to play a clip using diskin</i></span>\n",
       "<br>\n",
       "<code style=\"font-size: 90%\">  <span style=\"color:#A0A0A0;font-size:96%\">(numouts=2, numsignals=2)\n",
       "</span></code>\n",
       "<ul style=\"line-height: 120%\">\n",
       "<li><span style=\"font-size:90%\"><strong>ipath</strong></span>: <span style=\"font-size:90%\"><i>the path to the soundfile, as set via strSet</i></span></li>\n",
       "<li><span style=\"font-size:90%\"><strong>isndfilechan</strong></span>: <span style=\"font-size:90%\"><i>if given, play only this channel from the soundfile</i></span></li>\n",
       "<li><span style=\"font-size:90%\"><strong>kspeed</strong></span>: <span style=\"font-size:90%\"><i>the speed of the playback</i></span></li>\n",
       "<li><span style=\"font-size:90%\"><strong>iskip</strong></span>: <span style=\"font-size:90%\"><i>number of seconds to skip from beginning (assuming kspeed=1)</i></span></li>\n",
       "<li><span style=\"font-size:90%\"><strong>iwrap</strong></span>: <span style=\"font-size:90%\"><i>if non-zero, locations wrap (results in looping)</i></span></li>\n",
       "<li><span style=\"font-size:90%\"><strong>iwinsize</strong></span>: <span style=\"font-size:90%\"><i>interpolation size (1=no interpol, 2=linear, 4=cubic, 8=sinc)</i></span></li>\n",
       "</ul>\n",
       "<span style=\"font-size:96%\"><strong>code</strong></span>\n",
       "<span style=\"font-size:90%\"><div class=\"highlight\" style=\"background: #f8f8f8\"><pre style=\"line-height: 125%;\"><span></span><code><span style=\"color: #bbbbbb\">  </span><span style=\"color: #666666\">|</span><span style=\"color: #B00040\">i</span>path<span style=\"color: #666666\">=0</span>,<span style=\"color: #bbbbbb\"> </span><span style=\"color: #B00040\">i</span>sndfilechan<span style=\"color: #666666\">=-1.0</span>,<span style=\"color: #bbbbbb\"> </span><span style=\"color: #B00040\">k</span>speed<span style=\"color: #666666\">=1.0</span>,<span style=\"color: #bbbbbb\"> </span><span style=\"color: #B00040\">i</span>skip<span style=\"color: #666666\">=0.0</span>,<span style=\"color: #bbbbbb\"> </span><span style=\"color: #B00040\">i</span>wrap<span style=\"color: #666666\">=0.0</span>,<span style=\"color: #bbbbbb\"> </span><span style=\"color: #B00040\">i</span>winsize<span style=\"color: #666666\">=4.0|</span>\n",
       "</code></pre></div>\n",
       "</span>\n",
       "<span style=\"font-size:90%\"><div class=\"highlight\" style=\"background: #f8f8f8\"><pre style=\"line-height: 125%;\"><span></span><code><span style=\"color: #bbbbbb\">  </span><span style=\"color: #3D7B7B; font-style: italic\">; Builtin-in preset to play a clip using diskin</span>\n",
       "<span style=\"color: #bbbbbb\">  </span><span style=\"color: #3D7B7B; font-style: italic\">; Args:</span>\n",
       "<span style=\"color: #bbbbbb\">  </span><span style=\"color: #3D7B7B; font-style: italic\">;   ipath: the path to the soundfile, as set via strSet</span>\n",
       "<span style=\"color: #bbbbbb\">  </span><span style=\"color: #3D7B7B; font-style: italic\">;   isndfilechan: if given, play only this channel from the soundfile</span>\n",
       "<span style=\"color: #bbbbbb\">  </span><span style=\"color: #3D7B7B; font-style: italic\">;   kspeed: the speed of the playback</span>\n",
       "<span style=\"color: #bbbbbb\">  </span><span style=\"color: #3D7B7B; font-style: italic\">;   iskip: number of seconds to skip from beginning (assuming kspeed=1)</span>\n",
       "<span style=\"color: #bbbbbb\">  </span><span style=\"color: #3D7B7B; font-style: italic\">;   iwrap: if non-zero, locations wrap (results in looping)</span>\n",
       "<span style=\"color: #bbbbbb\">  </span><span style=\"color: #3D7B7B; font-style: italic\">;   iwinsize: interpolation size (1=no interpol, 2=linear, 4=cubic, 8=sinc)</span>\n",
       "<span style=\"color: #bbbbbb\">  </span><span style=\"color: #B00040\">S</span>path<span style=\"color: #bbbbbb\"> </span><span style=\"color: #666666\">=</span><span style=\"color: #bbbbbb\"> </span><span style=\"color: #008000\">strget</span>(<span style=\"color: #B00040\">i</span>path)\n",
       "<span style=\"color: #bbbbbb\">  </span><span style=\"color: #008000; font-weight: bold\">if</span><span style=\"color: #bbbbbb\"> </span><span style=\"color: #008000\">strlen</span>(<span style=\"color: #B00040\">S</span>path)<span style=\"color: #bbbbbb\"> </span><span style=\"color: #666666\">==</span><span style=\"color: #bbbbbb\"> </span><span style=\"color: #666666\">0</span><span style=\"color: #bbbbbb\"> </span><span style=\"color: #008000; font-weight: bold\">then</span>\n",
       "<span style=\"color: #bbbbbb\">      </span><span style=\"color: #B00040\">i</span>niterror<span style=\"color: #bbbbbb\"> </span><span style=\"color: #008000\">sprintf</span>(<span style=\"color: #BA2121\">&quot;Soundfile &#39;</span><span style=\"color: #A45A77; font-weight: bold\">%s</span><span style=\"color: #BA2121\">&#39; not found&quot;</span>,<span style=\"color: #bbbbbb\"> </span><span style=\"color: #B00040\">S</span>path)\n",
       "<span style=\"color: #bbbbbb\">  </span><span style=\"color: #008000; font-weight: bold\">endif</span>\n",
       "\n",
       "<span style=\"color: #bbbbbb\">  </span><span style=\"color: #B00040\">i</span>format<span style=\"color: #bbbbbb\"> </span><span style=\"color: #666666\">=</span><span style=\"color: #bbbbbb\"> </span><span style=\"color: #666666\">0</span>\n",
       "<span style=\"color: #bbbbbb\">  </span><span style=\"color: #B00040\">i</span>bufsize<span style=\"color: #bbbbbb\"> </span><span style=\"color: #666666\">=</span><span style=\"color: #bbbbbb\"> </span><span style=\"color: #666666\">0</span><span style=\"color: #bbbbbb\">   </span><span style=\"color: #3D7B7B; font-style: italic\">; 0 sets the buffer to the default of 4096</span>\n",
       "<span style=\"color: #bbbbbb\">  </span><span style=\"color: #B00040\">i</span>numchannels<span style=\"color: #bbbbbb\"> </span><span style=\"color: #666666\">=</span><span style=\"color: #bbbbbb\"> </span><span style=\"color: #008000\">filenchnls</span>(<span style=\"color: #B00040\">S</span>path)\n",
       "<span style=\"color: #bbbbbb\">  </span><span style=\"color: #008000; font-weight: bold\">if</span><span style=\"color: #bbbbbb\"> </span><span style=\"color: #B00040\">i</span>numchannels<span style=\"color: #bbbbbb\"> </span><span style=\"color: #666666\">==</span><span style=\"color: #bbbbbb\"> </span><span style=\"color: #666666\">0</span><span style=\"color: #bbbbbb\"> </span><span style=\"color: #666666\">||</span><span style=\"color: #bbbbbb\"> </span><span style=\"color: #B00040\">i</span>numchannels<span style=\"color: #bbbbbb\"> </span><span style=\"color: #666666\">&gt;</span><span style=\"color: #bbbbbb\"> </span><span style=\"color: #666666\">2</span><span style=\"color: #bbbbbb\"> </span><span style=\"color: #008000; font-weight: bold\">then</span>\n",
       "<span style=\"color: #bbbbbb\">      </span><span style=\"color: #B00040\">i</span>niterror<span style=\"color: #bbbbbb\"> </span><span style=\"color: #008000\">sprintf</span>(<span style=\"color: #BA2121\">&quot;Multichannel samples (&gt; 2, got </span><span style=\"color: #A45A77; font-weight: bold\">%d</span><span style=\"color: #BA2121\">) not supported yet&quot;</span>,<span style=\"color: #bbbbbb\"> </span><span style=\"color: #B00040\">i</span>numchannels)\n",
       "<span style=\"color: #bbbbbb\">  </span><span style=\"color: #008000; font-weight: bold\">endif</span>\n",
       "\n",
       "<span style=\"color: #bbbbbb\">  </span><span style=\"color: #B00040\">a</span>env<span style=\"color: #bbbbbb\"> </span><span style=\"color: #666666\">=</span><span style=\"color: #bbbbbb\"> </span>makePresetEnvelope(<span style=\"color: #B00040\">i</span>fadein,<span style=\"color: #bbbbbb\"> </span><span style=\"color: #B00040\">i</span>fadeout,<span style=\"color: #bbbbbb\"> </span><span style=\"color: #B00040\">i</span>fadekind)\n",
       "<span style=\"color: #bbbbbb\">  </span><span style=\"color: #B00040\">a</span>env<span style=\"color: #bbbbbb\"> </span><span style=\"color: #666666\">*=</span><span style=\"color: #bbbbbb\"> </span><span style=\"color: #B00040\">k</span>gain\n",
       "<span style=\"color: #bbbbbb\">  </span><span style=\"color: #B00040\">a</span>sig[]<span style=\"color: #bbbbbb\"> </span><span style=\"color: #008000\">diskin2</span><span style=\"color: #bbbbbb\"> </span><span style=\"color: #B00040\">S</span>path,<span style=\"color: #bbbbbb\"> </span><span style=\"color: #B00040\">k</span>speed,<span style=\"color: #bbbbbb\"> </span><span style=\"color: #B00040\">i</span>skip,<span style=\"color: #bbbbbb\"> </span><span style=\"color: #B00040\">i</span>wrap,<span style=\"color: #bbbbbb\"> </span><span style=\"color: #B00040\">i</span>format,<span style=\"color: #bbbbbb\"> </span><span style=\"color: #B00040\">i</span>winsize,<span style=\"color: #bbbbbb\"> </span><span style=\"color: #B00040\">i</span>bufsize\n",
       "<span style=\"color: #bbbbbb\">  </span><span style=\"color: #008000; font-weight: bold\">if</span><span style=\"color: #bbbbbb\"> </span><span style=\"color: #B00040\">i</span>sndfilechan<span style=\"color: #bbbbbb\"> </span><span style=\"color: #666666\">&gt;=</span><span style=\"color: #bbbbbb\"> </span><span style=\"color: #666666\">0</span><span style=\"color: #bbbbbb\"> </span><span style=\"color: #008000; font-weight: bold\">then</span>\n",
       "<span style=\"color: #bbbbbb\">      </span><span style=\"color: #B00040\">a</span>1<span style=\"color: #bbbbbb\"> </span><span style=\"color: #666666\">=</span><span style=\"color: #bbbbbb\"> </span><span style=\"color: #B00040\">a</span>sig[<span style=\"color: #B00040\">i</span>sndfilechan]\n",
       "<span style=\"color: #bbbbbb\">      </span><span style=\"color: #B00040\">k</span>pos<span style=\"color: #bbbbbb\"> </span><span style=\"color: #666666\">=</span><span style=\"color: #bbbbbb\"> </span><span style=\"color: #B00040\">k</span>pos<span style=\"color: #bbbbbb\"> </span><span style=\"color: #666666\">==</span><span style=\"color: #bbbbbb\"> </span><span style=\"color: #666666\">-1</span><span style=\"color: #bbbbbb\"> </span><span style=\"color: #666666\">?</span><span style=\"color: #bbbbbb\"> </span><span style=\"color: #666666\">0</span><span style=\"color: #bbbbbb\"> </span><span style=\"color: #666666\">:</span><span style=\"color: #bbbbbb\"> </span><span style=\"color: #B00040\">k</span>pos\n",
       "<span style=\"color: #bbbbbb\">      </span><span style=\"color: #B00040\">a</span>1<span style=\"color: #bbbbbb\"> </span><span style=\"color: #666666\">*=</span><span style=\"color: #bbbbbb\"> </span><span style=\"color: #B00040\">a</span>env\n",
       "<span style=\"color: #bbbbbb\">      </span><span style=\"color: #B00040\">a</span>out1,<span style=\"color: #bbbbbb\"> </span><span style=\"color: #B00040\">a</span>out2<span style=\"color: #bbbbbb\"> </span><span style=\"color: #008000\">pan2</span><span style=\"color: #bbbbbb\"> </span><span style=\"color: #B00040\">a</span>1,<span style=\"color: #bbbbbb\"> </span><span style=\"color: #B00040\">k</span>pos\n",
       "<span style=\"color: #bbbbbb\">  </span><span style=\"color: #008000; font-weight: bold\">elseif</span><span style=\"color: #bbbbbb\"> </span><span style=\"color: #B00040\">i</span>numchannels<span style=\"color: #bbbbbb\"> </span><span style=\"color: #666666\">==</span><span style=\"color: #bbbbbb\"> </span><span style=\"color: #666666\">1</span><span style=\"color: #bbbbbb\"> </span><span style=\"color: #008000; font-weight: bold\">then</span>\n",
       "<span style=\"color: #bbbbbb\">      </span><span style=\"color: #B00040\">a</span>1<span style=\"color: #bbbbbb\"> </span><span style=\"color: #666666\">=</span><span style=\"color: #bbbbbb\"> </span><span style=\"color: #B00040\">a</span>sig[<span style=\"color: #666666\">0</span>]\n",
       "<span style=\"color: #bbbbbb\">      </span><span style=\"color: #B00040\">a</span>1<span style=\"color: #bbbbbb\"> </span><span style=\"color: #666666\">*=</span><span style=\"color: #bbbbbb\"> </span><span style=\"color: #B00040\">a</span>env\n",
       "<span style=\"color: #bbbbbb\">      </span><span style=\"color: #B00040\">k</span>pos<span style=\"color: #bbbbbb\"> </span><span style=\"color: #666666\">=</span><span style=\"color: #bbbbbb\"> </span><span style=\"color: #B00040\">k</span>pos<span style=\"color: #bbbbbb\"> </span><span style=\"color: #666666\">==</span><span style=\"color: #bbbbbb\"> </span><span style=\"color: #666666\">-1</span><span style=\"color: #bbbbbb\"> </span><span style=\"color: #666666\">?</span><span style=\"color: #bbbbbb\"> </span><span style=\"color: #666666\">0</span><span style=\"color: #bbbbbb\"> </span><span style=\"color: #666666\">:</span><span style=\"color: #bbbbbb\"> </span><span style=\"color: #B00040\">k</span>pos\n",
       "<span style=\"color: #bbbbbb\">      </span><span style=\"color: #B00040\">a</span>out1,<span style=\"color: #bbbbbb\"> </span><span style=\"color: #B00040\">a</span>out2<span style=\"color: #bbbbbb\"> </span><span style=\"color: #008000\">pan2</span><span style=\"color: #bbbbbb\"> </span><span style=\"color: #B00040\">a</span>1,<span style=\"color: #bbbbbb\"> </span><span style=\"color: #B00040\">k</span>pos\n",
       "<span style=\"color: #bbbbbb\">  </span><span style=\"color: #008000; font-weight: bold\">elseif</span><span style=\"color: #bbbbbb\"> </span><span style=\"color: #B00040\">i</span>numchannels<span style=\"color: #bbbbbb\"> </span><span style=\"color: #666666\">==</span><span style=\"color: #bbbbbb\"> </span><span style=\"color: #666666\">2</span><span style=\"color: #bbbbbb\"> </span><span style=\"color: #008000; font-weight: bold\">then</span>\n",
       "<span style=\"color: #bbbbbb\">      </span><span style=\"color: #B00040\">a</span>sig<span style=\"color: #bbbbbb\"> </span><span style=\"color: #666666\">*=</span><span style=\"color: #bbbbbb\"> </span><span style=\"color: #B00040\">a</span>env\n",
       "<span style=\"color: #bbbbbb\">      </span><span style=\"color: #B00040\">a</span>out1,<span style=\"color: #bbbbbb\"> </span><span style=\"color: #B00040\">a</span>out2<span style=\"color: #bbbbbb\"> </span>panstereo<span style=\"color: #bbbbbb\"> </span><span style=\"color: #B00040\">a</span>sig[<span style=\"color: #666666\">0</span>],<span style=\"color: #bbbbbb\"> </span><span style=\"color: #B00040\">a</span>sig[<span style=\"color: #666666\">1</span>],<span style=\"color: #bbbbbb\"> </span><span style=\"color: #B00040\">k</span>pos\n",
       "<span style=\"color: #bbbbbb\">  </span><span style=\"color: #008000; font-weight: bold\">endif</span>\n",
       "<span style=\"color: #bbbbbb\">  </span><span style=\"color: #008000\">outch</span><span style=\"color: #bbbbbb\"> </span><span style=\"color: #B00040\">i</span>chan,<span style=\"color: #bbbbbb\"> </span><span style=\"color: #B00040\">a</span>out1,<span style=\"color: #bbbbbb\"> </span><span style=\"color: #B00040\">i</span>chan<span style=\"color: #666666\">+1</span>,<span style=\"color: #bbbbbb\"> </span><span style=\"color: #B00040\">a</span>out2\n",
       "</code></pre></div>\n",
       "</span>\n",
       "<hr>\n",
       "Preset: <b>.piano</b> - <span style=\"color:#A0A0A0\"><i>Default piano sound</i></span>\n",
       "<br>\n",
       "<code style=\"font-size: 90%\">  <span style=\"color:#A0A0A0;font-size:96%\">(routing=True, properties={'sfpath': PosixPath('/home/em/dev/python/maelzel/maelzel/data/sf2/SalC5Light2.sf2')}, numouts=2, numsignals=2)\n",
       "</span></code>\n",
       "<span style=\"font-size:96%\"><strong>init</strong></span>\n",
       "<span style=\"font-size:90%\"><div class=\"highlight\" style=\"background: #f8f8f8\"><pre style=\"line-height: 125%;\"><span></span><code><span style=\"color: #bbbbbb\">  </span><span style=\"color: #B00040\">i</span>__SfTable__<span style=\"color: #bbbbbb\"> </span>sfloadonce<span style=\"color: #bbbbbb\"> </span><span style=\"color: #BA2121\">&quot;/home/em/dev/python/maelzel/maelzel/data/sf2/SalC5Light2.sf2&quot;</span>\n",
       "</code></pre></div>\n",
       "</span>\n",
       "<span style=\"font-size:96%\"><strong>code</strong></span>\n",
       "<span style=\"font-size:90%\"><div class=\"highlight\" style=\"background: #f8f8f8\"><pre style=\"line-height: 125%;\"><span></span><code><span style=\"color: #bbbbbb\">  </span><span style=\"color: #666666\">|</span><span style=\"color: #B00040\">k</span>transp<span style=\"color: #666666\">=0.0</span>,<span style=\"color: #bbbbbb\"> </span><span style=\"color: #B00040\">i</span>pitchlag<span style=\"color: #666666\">=0.1|</span>\n",
       "</code></pre></div>\n",
       "</span>\n",
       "<span style=\"font-size:90%\"><div class=\"highlight\" style=\"background: #f8f8f8\"><pre style=\"line-height: 125%;\"><span></span><code><span style=\"color: #bbbbbb\">  </span><span style=\"color: #B00040\">i</span>presetidx<span style=\"color: #bbbbbb\"> </span>sfPresetIndex<span style=\"color: #bbbbbb\"> </span><span style=\"color: #BA2121\">&quot;/home/em/dev/python/maelzel/maelzel/data/sf2/SalC5Light2.sf2&quot;</span>,<span style=\"color: #bbbbbb\"> </span><span style=\"color: #666666\">0</span>,<span style=\"color: #bbbbbb\"> </span><span style=\"color: #666666\">0</span>\n",
       "<span style=\"color: #bbbbbb\">  </span><span style=\"color: #B00040\">i</span>note0_<span style=\"color: #bbbbbb\"> </span><span style=\"color: #666666\">=</span><span style=\"color: #bbbbbb\"> </span><span style=\"color: #008000\">round</span>(<span style=\"color: #008000\">p</span>(<span style=\"color: #B00040\">i</span>dataidx_<span style=\"color: #bbbbbb\"> </span><span style=\"color: #666666\">+</span><span style=\"color: #bbbbbb\"> </span><span style=\"color: #666666\">1</span>))\n",
       "<span style=\"color: #bbbbbb\">  </span><span style=\"color: #B00040\">i</span>vel_<span style=\"color: #bbbbbb\"> </span><span style=\"color: #666666\">=</span><span style=\"color: #bbbbbb\"> </span><span style=\"color: #008000\">p</span>(<span style=\"color: #B00040\">i</span>dataidx_<span style=\"color: #bbbbbb\"> </span><span style=\"color: #666666\">+</span><span style=\"color: #bbbbbb\"> </span><span style=\"color: #666666\">2</span>)<span style=\"color: #bbbbbb\"> </span><span style=\"color: #666666\">*</span><span style=\"color: #bbbbbb\"> </span><span style=\"color: #666666\">127</span>\n",
       "<span style=\"color: #bbbbbb\">  </span><span style=\"color: #B00040\">k</span>pitch2<span style=\"color: #bbbbbb\"> </span><span style=\"color: #666666\">=</span><span style=\"color: #bbbbbb\"> </span><span style=\"color: #008000\">lag</span>:<span style=\"color: #B00040\">k</span>(<span style=\"color: #B00040\">k</span>pitch<span style=\"color: #666666\">+</span><span style=\"color: #B00040\">k</span>transp,<span style=\"color: #bbbbbb\"> </span><span style=\"color: #B00040\">i</span>pitchlag)\n",
       "<span style=\"color: #bbbbbb\">  </span><span style=\"color: #B00040\">a</span>out1,<span style=\"color: #bbbbbb\"> </span><span style=\"color: #B00040\">a</span>out2<span style=\"color: #bbbbbb\"> </span><span style=\"color: #008000\">sfplay</span><span style=\"color: #bbbbbb\"> </span><span style=\"color: #B00040\">i</span>vel_,<span style=\"color: #bbbbbb\"> </span><span style=\"color: #B00040\">i</span>note0_,<span style=\"color: #bbbbbb\"> </span><span style=\"color: #B00040\">k</span>amp<span style=\"color: #666666\">/16384</span>,<span style=\"color: #bbbbbb\"> </span><span style=\"color: #008000\">mtof</span>:<span style=\"color: #B00040\">k</span>(<span style=\"color: #B00040\">k</span>pitch2),<span style=\"color: #bbbbbb\"> </span><span style=\"color: #B00040\">i</span>presetidx,<span style=\"color: #bbbbbb\"> </span><span style=\"color: #666666\">1</span>\n",
       "</code></pre></div>\n",
       "</span>\n",
       "<span style=\"font-size:96%\"><strong>epilogue</strong></span>\n",
       "<span style=\"font-size:90%\"><div class=\"highlight\" style=\"background: #f8f8f8\"><pre style=\"line-height: 125%;\"><span></span><code><span style=\"color: #bbbbbb\">  </span>turnoffWhenSilent<span style=\"color: #bbbbbb\"> </span><span style=\"color: #B00040\">a</span>out1\n",
       "</code></pre></div>\n",
       "</span>\n",
       "<hr>\n",
       "Preset: <b>gm-clarinet</b> - <span style=\"color:#A0A0A0\"><i>General MIDI clarinet</i></span>\n",
       "<br>\n",
       "<code style=\"font-size: 90%\">  <span style=\"color:#A0A0A0;font-size:96%\">(routing=True, properties={'sfpath': '/usr/share/sounds/sf2/FluidR3_GM.sf2'}, numouts=2, numsignals=2)\n",
       "</span></code>\n",
       "<span style=\"font-size:96%\"><strong>init</strong></span>\n",
       "<span style=\"font-size:90%\"><div class=\"highlight\" style=\"background: #f8f8f8\"><pre style=\"line-height: 125%;\"><span></span><code><span style=\"color: #bbbbbb\">  </span><span style=\"color: #B00040\">i</span>__SfTable__<span style=\"color: #bbbbbb\"> </span>sfloadonce<span style=\"color: #bbbbbb\"> </span><span style=\"color: #BA2121\">&quot;/usr/share/sounds/sf2/FluidR3_GM.sf2&quot;</span>\n",
       "</code></pre></div>\n",
       "</span>\n",
       "<span style=\"font-size:96%\"><strong>code</strong></span>\n",
       "<span style=\"font-size:90%\"><div class=\"highlight\" style=\"background: #f8f8f8\"><pre style=\"line-height: 125%;\"><span></span><code><span style=\"color: #bbbbbb\">  </span><span style=\"color: #666666\">|</span><span style=\"color: #B00040\">k</span>transp<span style=\"color: #666666\">=0.0</span>,<span style=\"color: #bbbbbb\"> </span><span style=\"color: #B00040\">i</span>pitchlag<span style=\"color: #666666\">=0.1|</span>\n",
       "</code></pre></div>\n",
       "</span>\n",
       "<span style=\"font-size:90%\"><div class=\"highlight\" style=\"background: #f8f8f8\"><pre style=\"line-height: 125%;\"><span></span><code><span style=\"color: #bbbbbb\">  </span><span style=\"color: #B00040\">i</span>presetidx<span style=\"color: #bbbbbb\"> </span>sfPresetIndex<span style=\"color: #bbbbbb\"> </span><span style=\"color: #BA2121\">&quot;/usr/share/sounds/sf2/FluidR3_GM.sf2&quot;</span>,<span style=\"color: #bbbbbb\"> </span><span style=\"color: #666666\">0</span>,<span style=\"color: #bbbbbb\"> </span><span style=\"color: #666666\">71</span>\n",
       "<span style=\"color: #bbbbbb\">  </span><span style=\"color: #B00040\">i</span>note0_<span style=\"color: #bbbbbb\"> </span><span style=\"color: #666666\">=</span><span style=\"color: #bbbbbb\"> </span><span style=\"color: #008000\">round</span>(<span style=\"color: #008000\">p</span>(<span style=\"color: #B00040\">i</span>dataidx_<span style=\"color: #bbbbbb\"> </span><span style=\"color: #666666\">+</span><span style=\"color: #bbbbbb\"> </span><span style=\"color: #666666\">1</span>))\n",
       "<span style=\"color: #bbbbbb\">  </span><span style=\"color: #B00040\">i</span>vel_<span style=\"color: #bbbbbb\"> </span><span style=\"color: #666666\">=</span><span style=\"color: #bbbbbb\"> </span><span style=\"color: #008000\">p</span>(<span style=\"color: #B00040\">i</span>dataidx_<span style=\"color: #bbbbbb\"> </span><span style=\"color: #666666\">+</span><span style=\"color: #bbbbbb\"> </span><span style=\"color: #666666\">2</span>)<span style=\"color: #bbbbbb\"> </span><span style=\"color: #666666\">*</span><span style=\"color: #bbbbbb\"> </span><span style=\"color: #666666\">127</span>\n",
       "<span style=\"color: #bbbbbb\">  </span><span style=\"color: #B00040\">k</span>pitch2<span style=\"color: #bbbbbb\"> </span><span style=\"color: #666666\">=</span><span style=\"color: #bbbbbb\"> </span><span style=\"color: #008000\">lag</span>:<span style=\"color: #B00040\">k</span>(<span style=\"color: #B00040\">k</span>pitch<span style=\"color: #666666\">+</span><span style=\"color: #B00040\">k</span>transp,<span style=\"color: #bbbbbb\"> </span><span style=\"color: #B00040\">i</span>pitchlag)\n",
       "<span style=\"color: #bbbbbb\">  </span><span style=\"color: #B00040\">a</span>out1,<span style=\"color: #bbbbbb\"> </span><span style=\"color: #B00040\">a</span>out2<span style=\"color: #bbbbbb\"> </span><span style=\"color: #008000\">sfplay</span><span style=\"color: #bbbbbb\"> </span><span style=\"color: #B00040\">i</span>vel_,<span style=\"color: #bbbbbb\"> </span><span style=\"color: #B00040\">i</span>note0_,<span style=\"color: #bbbbbb\"> </span><span style=\"color: #B00040\">k</span>amp<span style=\"color: #666666\">/16384</span>,<span style=\"color: #bbbbbb\"> </span><span style=\"color: #008000\">mtof</span>:<span style=\"color: #B00040\">k</span>(<span style=\"color: #B00040\">k</span>pitch2),<span style=\"color: #bbbbbb\"> </span><span style=\"color: #B00040\">i</span>presetidx,<span style=\"color: #bbbbbb\"> </span><span style=\"color: #666666\">1</span>\n",
       "</code></pre></div>\n",
       "</span>\n",
       "<span style=\"font-size:96%\"><strong>epilogue</strong></span>\n",
       "<span style=\"font-size:90%\"><div class=\"highlight\" style=\"background: #f8f8f8\"><pre style=\"line-height: 125%;\"><span></span><code><span style=\"color: #bbbbbb\">  </span>turnoffWhenSilent<span style=\"color: #bbbbbb\"> </span><span style=\"color: #B00040\">a</span>out1\n",
       "</code></pre></div>\n",
       "</span>\n",
       "<hr>\n",
       "Preset: <b>gm-flute</b> - <span style=\"color:#A0A0A0\"><i>General MIDI flute</i></span>\n",
       "<br>\n",
       "<code style=\"font-size: 90%\">  <span style=\"color:#A0A0A0;font-size:96%\">(routing=True, properties={'sfpath': '/usr/share/sounds/sf2/FluidR3_GM.sf2'}, numouts=2, numsignals=2)\n",
       "</span></code>\n",
       "<span style=\"font-size:96%\"><strong>init</strong></span>\n",
       "<span style=\"font-size:90%\"><div class=\"highlight\" style=\"background: #f8f8f8\"><pre style=\"line-height: 125%;\"><span></span><code><span style=\"color: #bbbbbb\">  </span><span style=\"color: #B00040\">i</span>__SfTable__<span style=\"color: #bbbbbb\"> </span>sfloadonce<span style=\"color: #bbbbbb\"> </span><span style=\"color: #BA2121\">&quot;/usr/share/sounds/sf2/FluidR3_GM.sf2&quot;</span>\n",
       "</code></pre></div>\n",
       "</span>\n",
       "<span style=\"font-size:96%\"><strong>code</strong></span>\n",
       "<span style=\"font-size:90%\"><div class=\"highlight\" style=\"background: #f8f8f8\"><pre style=\"line-height: 125%;\"><span></span><code><span style=\"color: #bbbbbb\">  </span><span style=\"color: #666666\">|</span><span style=\"color: #B00040\">k</span>transp<span style=\"color: #666666\">=0.0</span>,<span style=\"color: #bbbbbb\"> </span><span style=\"color: #B00040\">i</span>pitchlag<span style=\"color: #666666\">=0.1|</span>\n",
       "</code></pre></div>\n",
       "</span>\n",
       "<span style=\"font-size:90%\"><div class=\"highlight\" style=\"background: #f8f8f8\"><pre style=\"line-height: 125%;\"><span></span><code><span style=\"color: #bbbbbb\">  </span><span style=\"color: #B00040\">i</span>presetidx<span style=\"color: #bbbbbb\"> </span>sfPresetIndex<span style=\"color: #bbbbbb\"> </span><span style=\"color: #BA2121\">&quot;/usr/share/sounds/sf2/FluidR3_GM.sf2&quot;</span>,<span style=\"color: #bbbbbb\"> </span><span style=\"color: #666666\">0</span>,<span style=\"color: #bbbbbb\"> </span><span style=\"color: #666666\">73</span>\n",
       "<span style=\"color: #bbbbbb\">  </span><span style=\"color: #B00040\">i</span>note0_<span style=\"color: #bbbbbb\"> </span><span style=\"color: #666666\">=</span><span style=\"color: #bbbbbb\"> </span><span style=\"color: #008000\">round</span>(<span style=\"color: #008000\">p</span>(<span style=\"color: #B00040\">i</span>dataidx_<span style=\"color: #bbbbbb\"> </span><span style=\"color: #666666\">+</span><span style=\"color: #bbbbbb\"> </span><span style=\"color: #666666\">1</span>))\n",
       "<span style=\"color: #bbbbbb\">  </span><span style=\"color: #B00040\">i</span>vel_<span style=\"color: #bbbbbb\"> </span><span style=\"color: #666666\">=</span><span style=\"color: #bbbbbb\"> </span><span style=\"color: #008000\">p</span>(<span style=\"color: #B00040\">i</span>dataidx_<span style=\"color: #bbbbbb\"> </span><span style=\"color: #666666\">+</span><span style=\"color: #bbbbbb\"> </span><span style=\"color: #666666\">2</span>)<span style=\"color: #bbbbbb\"> </span><span style=\"color: #666666\">*</span><span style=\"color: #bbbbbb\"> </span><span style=\"color: #666666\">127</span>\n",
       "<span style=\"color: #bbbbbb\">  </span><span style=\"color: #B00040\">k</span>pitch2<span style=\"color: #bbbbbb\"> </span><span style=\"color: #666666\">=</span><span style=\"color: #bbbbbb\"> </span><span style=\"color: #008000\">lag</span>:<span style=\"color: #B00040\">k</span>(<span style=\"color: #B00040\">k</span>pitch<span style=\"color: #666666\">+</span><span style=\"color: #B00040\">k</span>transp,<span style=\"color: #bbbbbb\"> </span><span style=\"color: #B00040\">i</span>pitchlag)\n",
       "<span style=\"color: #bbbbbb\">  </span><span style=\"color: #B00040\">a</span>out1,<span style=\"color: #bbbbbb\"> </span><span style=\"color: #B00040\">a</span>out2<span style=\"color: #bbbbbb\"> </span><span style=\"color: #008000\">sfplay</span><span style=\"color: #bbbbbb\"> </span><span style=\"color: #B00040\">i</span>vel_,<span style=\"color: #bbbbbb\"> </span><span style=\"color: #B00040\">i</span>note0_,<span style=\"color: #bbbbbb\"> </span><span style=\"color: #B00040\">k</span>amp<span style=\"color: #666666\">/16384</span>,<span style=\"color: #bbbbbb\"> </span><span style=\"color: #008000\">mtof</span>:<span style=\"color: #B00040\">k</span>(<span style=\"color: #B00040\">k</span>pitch2),<span style=\"color: #bbbbbb\"> </span><span style=\"color: #B00040\">i</span>presetidx,<span style=\"color: #bbbbbb\"> </span><span style=\"color: #666666\">1</span>\n",
       "</code></pre></div>\n",
       "</span>\n",
       "<span style=\"font-size:96%\"><strong>epilogue</strong></span>\n",
       "<span style=\"font-size:90%\"><div class=\"highlight\" style=\"background: #f8f8f8\"><pre style=\"line-height: 125%;\"><span></span><code><span style=\"color: #bbbbbb\">  </span>turnoffWhenSilent<span style=\"color: #bbbbbb\"> </span><span style=\"color: #B00040\">a</span>out1\n",
       "</code></pre></div>\n",
       "</span>\n",
       "<hr>\n",
       "Preset: <b>gm-oboe</b> - <span style=\"color:#A0A0A0\"><i>General MIDI oboe</i></span>\n",
       "<br>\n",
       "<code style=\"font-size: 90%\">  <span style=\"color:#A0A0A0;font-size:96%\">(routing=True, properties={'sfpath': '/usr/share/sounds/sf2/FluidR3_GM.sf2'}, numouts=2, numsignals=2)\n",
       "</span></code>\n",
       "<span style=\"font-size:96%\"><strong>init</strong></span>\n",
       "<span style=\"font-size:90%\"><div class=\"highlight\" style=\"background: #f8f8f8\"><pre style=\"line-height: 125%;\"><span></span><code><span style=\"color: #bbbbbb\">  </span><span style=\"color: #B00040\">i</span>__SfTable__<span style=\"color: #bbbbbb\"> </span>sfloadonce<span style=\"color: #bbbbbb\"> </span><span style=\"color: #BA2121\">&quot;/usr/share/sounds/sf2/FluidR3_GM.sf2&quot;</span>\n",
       "</code></pre></div>\n",
       "</span>\n",
       "<span style=\"font-size:96%\"><strong>code</strong></span>\n",
       "<span style=\"font-size:90%\"><div class=\"highlight\" style=\"background: #f8f8f8\"><pre style=\"line-height: 125%;\"><span></span><code><span style=\"color: #bbbbbb\">  </span><span style=\"color: #666666\">|</span><span style=\"color: #B00040\">k</span>transp<span style=\"color: #666666\">=0.0</span>,<span style=\"color: #bbbbbb\"> </span><span style=\"color: #B00040\">i</span>pitchlag<span style=\"color: #666666\">=0.1|</span>\n",
       "</code></pre></div>\n",
       "</span>\n",
       "<span style=\"font-size:90%\"><div class=\"highlight\" style=\"background: #f8f8f8\"><pre style=\"line-height: 125%;\"><span></span><code><span style=\"color: #bbbbbb\">  </span><span style=\"color: #B00040\">i</span>presetidx<span style=\"color: #bbbbbb\"> </span>sfPresetIndex<span style=\"color: #bbbbbb\"> </span><span style=\"color: #BA2121\">&quot;/usr/share/sounds/sf2/FluidR3_GM.sf2&quot;</span>,<span style=\"color: #bbbbbb\"> </span><span style=\"color: #666666\">0</span>,<span style=\"color: #bbbbbb\"> </span><span style=\"color: #666666\">68</span>\n",
       "<span style=\"color: #bbbbbb\">  </span><span style=\"color: #B00040\">i</span>note0_<span style=\"color: #bbbbbb\"> </span><span style=\"color: #666666\">=</span><span style=\"color: #bbbbbb\"> </span><span style=\"color: #008000\">round</span>(<span style=\"color: #008000\">p</span>(<span style=\"color: #B00040\">i</span>dataidx_<span style=\"color: #bbbbbb\"> </span><span style=\"color: #666666\">+</span><span style=\"color: #bbbbbb\"> </span><span style=\"color: #666666\">1</span>))\n",
       "<span style=\"color: #bbbbbb\">  </span><span style=\"color: #B00040\">i</span>vel_<span style=\"color: #bbbbbb\"> </span><span style=\"color: #666666\">=</span><span style=\"color: #bbbbbb\"> </span><span style=\"color: #008000\">p</span>(<span style=\"color: #B00040\">i</span>dataidx_<span style=\"color: #bbbbbb\"> </span><span style=\"color: #666666\">+</span><span style=\"color: #bbbbbb\"> </span><span style=\"color: #666666\">2</span>)<span style=\"color: #bbbbbb\"> </span><span style=\"color: #666666\">*</span><span style=\"color: #bbbbbb\"> </span><span style=\"color: #666666\">127</span>\n",
       "<span style=\"color: #bbbbbb\">  </span><span style=\"color: #B00040\">k</span>pitch2<span style=\"color: #bbbbbb\"> </span><span style=\"color: #666666\">=</span><span style=\"color: #bbbbbb\"> </span><span style=\"color: #008000\">lag</span>:<span style=\"color: #B00040\">k</span>(<span style=\"color: #B00040\">k</span>pitch<span style=\"color: #666666\">+</span><span style=\"color: #B00040\">k</span>transp,<span style=\"color: #bbbbbb\"> </span><span style=\"color: #B00040\">i</span>pitchlag)\n",
       "<span style=\"color: #bbbbbb\">  </span><span style=\"color: #B00040\">a</span>out1,<span style=\"color: #bbbbbb\"> </span><span style=\"color: #B00040\">a</span>out2<span style=\"color: #bbbbbb\"> </span><span style=\"color: #008000\">sfplay</span><span style=\"color: #bbbbbb\"> </span><span style=\"color: #B00040\">i</span>vel_,<span style=\"color: #bbbbbb\"> </span><span style=\"color: #B00040\">i</span>note0_,<span style=\"color: #bbbbbb\"> </span><span style=\"color: #B00040\">k</span>amp<span style=\"color: #666666\">/16384</span>,<span style=\"color: #bbbbbb\"> </span><span style=\"color: #008000\">mtof</span>:<span style=\"color: #B00040\">k</span>(<span style=\"color: #B00040\">k</span>pitch2),<span style=\"color: #bbbbbb\"> </span><span style=\"color: #B00040\">i</span>presetidx,<span style=\"color: #bbbbbb\"> </span><span style=\"color: #666666\">1</span>\n",
       "</code></pre></div>\n",
       "</span>\n",
       "<span style=\"font-size:96%\"><strong>epilogue</strong></span>\n",
       "<span style=\"font-size:90%\"><div class=\"highlight\" style=\"background: #f8f8f8\"><pre style=\"line-height: 125%;\"><span></span><code><span style=\"color: #bbbbbb\">  </span>turnoffWhenSilent<span style=\"color: #bbbbbb\"> </span><span style=\"color: #B00040\">a</span>out1\n",
       "</code></pre></div>\n",
       "</span>\n",
       "<hr>\n",
       "Preset: <b>gm-piano</b> - <span style=\"color:#A0A0A0\"><i>General MIDI piano</i></span>\n",
       "<br>\n",
       "<code style=\"font-size: 90%\">  <span style=\"color:#A0A0A0;font-size:96%\">(routing=True, properties={'sfpath': '/usr/share/sounds/sf2/FluidR3_GM.sf2'}, numouts=2, numsignals=2)\n",
       "</span></code>\n",
       "<span style=\"font-size:96%\"><strong>init</strong></span>\n",
       "<span style=\"font-size:90%\"><div class=\"highlight\" style=\"background: #f8f8f8\"><pre style=\"line-height: 125%;\"><span></span><code><span style=\"color: #bbbbbb\">  </span><span style=\"color: #B00040\">i</span>__SfTable__<span style=\"color: #bbbbbb\"> </span>sfloadonce<span style=\"color: #bbbbbb\"> </span><span style=\"color: #BA2121\">&quot;/usr/share/sounds/sf2/FluidR3_GM.sf2&quot;</span>\n",
       "</code></pre></div>\n",
       "</span>\n",
       "<span style=\"font-size:96%\"><strong>code</strong></span>\n",
       "<span style=\"font-size:90%\"><div class=\"highlight\" style=\"background: #f8f8f8\"><pre style=\"line-height: 125%;\"><span></span><code><span style=\"color: #bbbbbb\">  </span><span style=\"color: #666666\">|</span><span style=\"color: #B00040\">k</span>transp<span style=\"color: #666666\">=0.0</span>,<span style=\"color: #bbbbbb\"> </span><span style=\"color: #B00040\">i</span>pitchlag<span style=\"color: #666666\">=0.1|</span>\n",
       "</code></pre></div>\n",
       "</span>\n",
       "<span style=\"font-size:90%\"><div class=\"highlight\" style=\"background: #f8f8f8\"><pre style=\"line-height: 125%;\"><span></span><code><span style=\"color: #bbbbbb\">  </span><span style=\"color: #B00040\">i</span>presetidx<span style=\"color: #bbbbbb\"> </span>sfPresetIndex<span style=\"color: #bbbbbb\"> </span><span style=\"color: #BA2121\">&quot;/usr/share/sounds/sf2/FluidR3_GM.sf2&quot;</span>,<span style=\"color: #bbbbbb\"> </span><span style=\"color: #666666\">0</span>,<span style=\"color: #bbbbbb\"> </span><span style=\"color: #666666\">0</span>\n",
       "<span style=\"color: #bbbbbb\">  </span><span style=\"color: #B00040\">i</span>note0_<span style=\"color: #bbbbbb\"> </span><span style=\"color: #666666\">=</span><span style=\"color: #bbbbbb\"> </span><span style=\"color: #008000\">round</span>(<span style=\"color: #008000\">p</span>(<span style=\"color: #B00040\">i</span>dataidx_<span style=\"color: #bbbbbb\"> </span><span style=\"color: #666666\">+</span><span style=\"color: #bbbbbb\"> </span><span style=\"color: #666666\">1</span>))\n",
       "<span style=\"color: #bbbbbb\">  </span><span style=\"color: #B00040\">i</span>vel_<span style=\"color: #bbbbbb\"> </span><span style=\"color: #666666\">=</span><span style=\"color: #bbbbbb\"> </span><span style=\"color: #008000\">p</span>(<span style=\"color: #B00040\">i</span>dataidx_<span style=\"color: #bbbbbb\"> </span><span style=\"color: #666666\">+</span><span style=\"color: #bbbbbb\"> </span><span style=\"color: #666666\">2</span>)<span style=\"color: #bbbbbb\"> </span><span style=\"color: #666666\">*</span><span style=\"color: #bbbbbb\"> </span><span style=\"color: #666666\">127</span>\n",
       "<span style=\"color: #bbbbbb\">  </span><span style=\"color: #B00040\">k</span>pitch2<span style=\"color: #bbbbbb\"> </span><span style=\"color: #666666\">=</span><span style=\"color: #bbbbbb\"> </span><span style=\"color: #008000\">lag</span>:<span style=\"color: #B00040\">k</span>(<span style=\"color: #B00040\">k</span>pitch<span style=\"color: #666666\">+</span><span style=\"color: #B00040\">k</span>transp,<span style=\"color: #bbbbbb\"> </span><span style=\"color: #B00040\">i</span>pitchlag)\n",
       "<span style=\"color: #bbbbbb\">  </span><span style=\"color: #B00040\">a</span>out1,<span style=\"color: #bbbbbb\"> </span><span style=\"color: #B00040\">a</span>out2<span style=\"color: #bbbbbb\"> </span><span style=\"color: #008000\">sfplay</span><span style=\"color: #bbbbbb\"> </span><span style=\"color: #B00040\">i</span>vel_,<span style=\"color: #bbbbbb\"> </span><span style=\"color: #B00040\">i</span>note0_,<span style=\"color: #bbbbbb\"> </span><span style=\"color: #B00040\">k</span>amp<span style=\"color: #666666\">/16384</span>,<span style=\"color: #bbbbbb\"> </span><span style=\"color: #008000\">mtof</span>:<span style=\"color: #B00040\">k</span>(<span style=\"color: #B00040\">k</span>pitch2),<span style=\"color: #bbbbbb\"> </span><span style=\"color: #B00040\">i</span>presetidx,<span style=\"color: #bbbbbb\"> </span><span style=\"color: #666666\">1</span>\n",
       "</code></pre></div>\n",
       "</span>\n",
       "<span style=\"font-size:96%\"><strong>epilogue</strong></span>\n",
       "<span style=\"font-size:90%\"><div class=\"highlight\" style=\"background: #f8f8f8\"><pre style=\"line-height: 125%;\"><span></span><code><span style=\"color: #bbbbbb\">  </span>turnoffWhenSilent<span style=\"color: #bbbbbb\"> </span><span style=\"color: #B00040\">a</span>out1\n",
       "</code></pre></div>\n",
       "</span>\n",
       "<hr>\n",
       "Preset: <b>gm-reedorgan</b> - <span style=\"color:#A0A0A0\"><i>General MIDI reedorgan</i></span>\n",
       "<br>\n",
       "<code style=\"font-size: 90%\">  <span style=\"color:#A0A0A0;font-size:96%\">(routing=True, properties={'sfpath': '/usr/share/sounds/sf2/FluidR3_GM.sf2'}, numouts=2, numsignals=2)\n",
       "</span></code>\n",
       "<span style=\"font-size:96%\"><strong>init</strong></span>\n",
       "<span style=\"font-size:90%\"><div class=\"highlight\" style=\"background: #f8f8f8\"><pre style=\"line-height: 125%;\"><span></span><code><span style=\"color: #bbbbbb\">  </span><span style=\"color: #B00040\">i</span>__SfTable__<span style=\"color: #bbbbbb\"> </span>sfloadonce<span style=\"color: #bbbbbb\"> </span><span style=\"color: #BA2121\">&quot;/usr/share/sounds/sf2/FluidR3_GM.sf2&quot;</span>\n",
       "</code></pre></div>\n",
       "</span>\n",
       "<span style=\"font-size:96%\"><strong>code</strong></span>\n",
       "<span style=\"font-size:90%\"><div class=\"highlight\" style=\"background: #f8f8f8\"><pre style=\"line-height: 125%;\"><span></span><code><span style=\"color: #bbbbbb\">  </span><span style=\"color: #666666\">|</span><span style=\"color: #B00040\">k</span>transp<span style=\"color: #666666\">=0.0</span>,<span style=\"color: #bbbbbb\"> </span><span style=\"color: #B00040\">i</span>pitchlag<span style=\"color: #666666\">=0.1|</span>\n",
       "</code></pre></div>\n",
       "</span>\n",
       "<span style=\"font-size:90%\"><div class=\"highlight\" style=\"background: #f8f8f8\"><pre style=\"line-height: 125%;\"><span></span><code><span style=\"color: #bbbbbb\">  </span><span style=\"color: #B00040\">i</span>presetidx<span style=\"color: #bbbbbb\"> </span>sfPresetIndex<span style=\"color: #bbbbbb\"> </span><span style=\"color: #BA2121\">&quot;/usr/share/sounds/sf2/FluidR3_GM.sf2&quot;</span>,<span style=\"color: #bbbbbb\"> </span><span style=\"color: #666666\">0</span>,<span style=\"color: #bbbbbb\"> </span><span style=\"color: #666666\">20</span>\n",
       "<span style=\"color: #bbbbbb\">  </span><span style=\"color: #B00040\">i</span>note0_<span style=\"color: #bbbbbb\"> </span><span style=\"color: #666666\">=</span><span style=\"color: #bbbbbb\"> </span><span style=\"color: #008000\">round</span>(<span style=\"color: #008000\">p</span>(<span style=\"color: #B00040\">i</span>dataidx_<span style=\"color: #bbbbbb\"> </span><span style=\"color: #666666\">+</span><span style=\"color: #bbbbbb\"> </span><span style=\"color: #666666\">1</span>))\n",
       "<span style=\"color: #bbbbbb\">  </span><span style=\"color: #B00040\">i</span>vel_<span style=\"color: #bbbbbb\"> </span><span style=\"color: #666666\">=</span><span style=\"color: #bbbbbb\"> </span><span style=\"color: #008000\">p</span>(<span style=\"color: #B00040\">i</span>dataidx_<span style=\"color: #bbbbbb\"> </span><span style=\"color: #666666\">+</span><span style=\"color: #bbbbbb\"> </span><span style=\"color: #666666\">2</span>)<span style=\"color: #bbbbbb\"> </span><span style=\"color: #666666\">*</span><span style=\"color: #bbbbbb\"> </span><span style=\"color: #666666\">127</span>\n",
       "<span style=\"color: #bbbbbb\">  </span><span style=\"color: #B00040\">k</span>pitch2<span style=\"color: #bbbbbb\"> </span><span style=\"color: #666666\">=</span><span style=\"color: #bbbbbb\"> </span><span style=\"color: #008000\">lag</span>:<span style=\"color: #B00040\">k</span>(<span style=\"color: #B00040\">k</span>pitch<span style=\"color: #666666\">+</span><span style=\"color: #B00040\">k</span>transp,<span style=\"color: #bbbbbb\"> </span><span style=\"color: #B00040\">i</span>pitchlag)\n",
       "<span style=\"color: #bbbbbb\">  </span><span style=\"color: #B00040\">a</span>out1,<span style=\"color: #bbbbbb\"> </span><span style=\"color: #B00040\">a</span>out2<span style=\"color: #bbbbbb\"> </span><span style=\"color: #008000\">sfplay</span><span style=\"color: #bbbbbb\"> </span><span style=\"color: #B00040\">i</span>vel_,<span style=\"color: #bbbbbb\"> </span><span style=\"color: #B00040\">i</span>note0_,<span style=\"color: #bbbbbb\"> </span><span style=\"color: #B00040\">k</span>amp<span style=\"color: #666666\">/16384</span>,<span style=\"color: #bbbbbb\"> </span><span style=\"color: #008000\">mtof</span>:<span style=\"color: #B00040\">k</span>(<span style=\"color: #B00040\">k</span>pitch2),<span style=\"color: #bbbbbb\"> </span><span style=\"color: #B00040\">i</span>presetidx,<span style=\"color: #bbbbbb\"> </span><span style=\"color: #666666\">1</span>\n",
       "</code></pre></div>\n",
       "</span>\n",
       "<span style=\"font-size:96%\"><strong>epilogue</strong></span>\n",
       "<span style=\"font-size:90%\"><div class=\"highlight\" style=\"background: #f8f8f8\"><pre style=\"line-height: 125%;\"><span></span><code><span style=\"color: #bbbbbb\">  </span>turnoffWhenSilent<span style=\"color: #bbbbbb\"> </span><span style=\"color: #B00040\">a</span>out1\n",
       "</code></pre></div>\n",
       "</span>\n",
       "<hr>\n",
       "Preset: <b>gm-violin</b> - <span style=\"color:#A0A0A0\"><i>General MIDI violin</i></span>\n",
       "<br>\n",
       "<code style=\"font-size: 90%\">  <span style=\"color:#A0A0A0;font-size:96%\">(routing=True, properties={'sfpath': '/usr/share/sounds/sf2/FluidR3_GM.sf2'}, numouts=2, numsignals=2)\n",
       "</span></code>\n",
       "<span style=\"font-size:96%\"><strong>init</strong></span>\n",
       "<span style=\"font-size:90%\"><div class=\"highlight\" style=\"background: #f8f8f8\"><pre style=\"line-height: 125%;\"><span></span><code><span style=\"color: #bbbbbb\">  </span><span style=\"color: #B00040\">i</span>__SfTable__<span style=\"color: #bbbbbb\"> </span>sfloadonce<span style=\"color: #bbbbbb\"> </span><span style=\"color: #BA2121\">&quot;/usr/share/sounds/sf2/FluidR3_GM.sf2&quot;</span>\n",
       "</code></pre></div>\n",
       "</span>\n",
       "<span style=\"font-size:96%\"><strong>code</strong></span>\n",
       "<span style=\"font-size:90%\"><div class=\"highlight\" style=\"background: #f8f8f8\"><pre style=\"line-height: 125%;\"><span></span><code><span style=\"color: #bbbbbb\">  </span><span style=\"color: #666666\">|</span><span style=\"color: #B00040\">k</span>transp<span style=\"color: #666666\">=0.0</span>,<span style=\"color: #bbbbbb\"> </span><span style=\"color: #B00040\">i</span>pitchlag<span style=\"color: #666666\">=0.1|</span>\n",
       "</code></pre></div>\n",
       "</span>\n",
       "<span style=\"font-size:90%\"><div class=\"highlight\" style=\"background: #f8f8f8\"><pre style=\"line-height: 125%;\"><span></span><code><span style=\"color: #bbbbbb\">  </span><span style=\"color: #B00040\">i</span>presetidx<span style=\"color: #bbbbbb\"> </span>sfPresetIndex<span style=\"color: #bbbbbb\"> </span><span style=\"color: #BA2121\">&quot;/usr/share/sounds/sf2/FluidR3_GM.sf2&quot;</span>,<span style=\"color: #bbbbbb\"> </span><span style=\"color: #666666\">0</span>,<span style=\"color: #bbbbbb\"> </span><span style=\"color: #666666\">40</span>\n",
       "<span style=\"color: #bbbbbb\">  </span><span style=\"color: #B00040\">i</span>note0_<span style=\"color: #bbbbbb\"> </span><span style=\"color: #666666\">=</span><span style=\"color: #bbbbbb\"> </span><span style=\"color: #008000\">round</span>(<span style=\"color: #008000\">p</span>(<span style=\"color: #B00040\">i</span>dataidx_<span style=\"color: #bbbbbb\"> </span><span style=\"color: #666666\">+</span><span style=\"color: #bbbbbb\"> </span><span style=\"color: #666666\">1</span>))\n",
       "<span style=\"color: #bbbbbb\">  </span><span style=\"color: #B00040\">i</span>vel_<span style=\"color: #bbbbbb\"> </span><span style=\"color: #666666\">=</span><span style=\"color: #bbbbbb\"> </span><span style=\"color: #008000\">p</span>(<span style=\"color: #B00040\">i</span>dataidx_<span style=\"color: #bbbbbb\"> </span><span style=\"color: #666666\">+</span><span style=\"color: #bbbbbb\"> </span><span style=\"color: #666666\">2</span>)<span style=\"color: #bbbbbb\"> </span><span style=\"color: #666666\">*</span><span style=\"color: #bbbbbb\"> </span><span style=\"color: #666666\">127</span>\n",
       "<span style=\"color: #bbbbbb\">  </span><span style=\"color: #B00040\">k</span>pitch2<span style=\"color: #bbbbbb\"> </span><span style=\"color: #666666\">=</span><span style=\"color: #bbbbbb\"> </span><span style=\"color: #008000\">lag</span>:<span style=\"color: #B00040\">k</span>(<span style=\"color: #B00040\">k</span>pitch<span style=\"color: #666666\">+</span><span style=\"color: #B00040\">k</span>transp,<span style=\"color: #bbbbbb\"> </span><span style=\"color: #B00040\">i</span>pitchlag)\n",
       "<span style=\"color: #bbbbbb\">  </span><span style=\"color: #B00040\">a</span>out1,<span style=\"color: #bbbbbb\"> </span><span style=\"color: #B00040\">a</span>out2<span style=\"color: #bbbbbb\"> </span><span style=\"color: #008000\">sfplay</span><span style=\"color: #bbbbbb\"> </span><span style=\"color: #B00040\">i</span>vel_,<span style=\"color: #bbbbbb\"> </span><span style=\"color: #B00040\">i</span>note0_,<span style=\"color: #bbbbbb\"> </span><span style=\"color: #B00040\">k</span>amp<span style=\"color: #666666\">/16384</span>,<span style=\"color: #bbbbbb\"> </span><span style=\"color: #008000\">mtof</span>:<span style=\"color: #B00040\">k</span>(<span style=\"color: #B00040\">k</span>pitch2),<span style=\"color: #bbbbbb\"> </span><span style=\"color: #B00040\">i</span>presetidx,<span style=\"color: #bbbbbb\"> </span><span style=\"color: #666666\">1</span>\n",
       "</code></pre></div>\n",
       "</span>\n",
       "<span style=\"font-size:96%\"><strong>epilogue</strong></span>\n",
       "<span style=\"font-size:90%\"><div class=\"highlight\" style=\"background: #f8f8f8\"><pre style=\"line-height: 125%;\"><span></span><code><span style=\"color: #bbbbbb\">  </span>turnoffWhenSilent<span style=\"color: #bbbbbb\"> </span><span style=\"color: #B00040\">a</span>out1\n",
       "</code></pre></div>\n",
       "</span>\n",
       "<hr>\n",
       "Preset: <b>.click</b> - <span style=\"color:#A0A0A0\"><i>Default preset used when rendering a click-track</i></span>\n",
       "<br>\n",
       "<code style=\"font-size: 90%\">  <span style=\"color:#A0A0A0;font-size:96%\">(routing=True, numouts=2, numsignals=1)\n",
       "</span></code>\n",
       "<ul style=\"line-height: 120%\">\n",
       "<li><span style=\"font-size:90%\"><strong>itransp</strong></span>: <span style=\"font-size:90%\"><i>transposition interval</i></span></li>\n",
       "</ul>\n",
       "<span style=\"font-size:96%\"><strong>code</strong></span>\n",
       "<span style=\"font-size:90%\"><div class=\"highlight\" style=\"background: #f8f8f8\"><pre style=\"line-height: 125%;\"><span></span><code><span style=\"color: #bbbbbb\">  </span><span style=\"color: #666666\">|</span><span style=\"color: #B00040\">i</span>transp<span style=\"color: #666666\">=24.0</span>,<span style=\"color: #bbbbbb\"> </span><span style=\"color: #B00040\">i</span>decay<span style=\"color: #666666\">=0.1|</span>\n",
       "</code></pre></div>\n",
       "</span>\n",
       "<span style=\"font-size:90%\"><div class=\"highlight\" style=\"background: #f8f8f8\"><pre style=\"line-height: 125%;\"><span></span><code><span style=\"color: #bbbbbb\">  </span><span style=\"color: #3D7B7B; font-style: italic\">; Default preset used when rendering a click-track</span>\n",
       "<span style=\"color: #bbbbbb\">  </span><span style=\"color: #3D7B7B; font-style: italic\">; Args:</span>\n",
       "<span style=\"color: #bbbbbb\">  </span><span style=\"color: #3D7B7B; font-style: italic\">;   itransp: transposition interval</span>\n",
       "<span style=\"color: #bbbbbb\">  </span><span style=\"color: #B00040\">a</span>clickenv<span style=\"color: #bbbbbb\"> </span><span style=\"color: #008000\">expseg</span><span style=\"color: #bbbbbb\"> </span><span style=\"color: #008000\">db</span>(<span style=\"color: #666666\">-120</span>),<span style=\"color: #bbbbbb\"> </span><span style=\"color: #666666\">0.01</span>,<span style=\"color: #bbbbbb\"> </span><span style=\"color: #666666\">1</span>,<span style=\"color: #bbbbbb\"> </span><span style=\"color: #B00040\">i</span>decay,<span style=\"color: #bbbbbb\"> </span><span style=\"color: #008000\">db</span>(<span style=\"color: #666666\">-120</span>)\n",
       "<span style=\"color: #bbbbbb\">  </span><span style=\"color: #B00040\">a</span>out1<span style=\"color: #bbbbbb\"> </span><span style=\"color: #666666\">=</span><span style=\"color: #bbbbbb\"> </span><span style=\"color: #008000\">oscili</span>:<span style=\"color: #B00040\">a</span>(<span style=\"color: #B00040\">a</span>clickenv,<span style=\"color: #bbbbbb\"> </span><span style=\"color: #008000\">mtof</span>:<span style=\"color: #B00040\">k</span>(<span style=\"color: #B00040\">k</span>pitch<span style=\"color: #666666\">+</span><span style=\"color: #B00040\">i</span>transp))\n",
       "</code></pre></div>\n",
       "</span>\n",
       "<hr>\n",
       "Preset: <b>.sing</b> - <span style=\"color:#A0A0A0\"><i>Simple vowel singing simulation</i></span>\n",
       "<br>\n",
       "<code style=\"font-size: 90%\">  <span style=\"color:#A0A0A0;font-size:96%\">(routing=True, numouts=2, numsignals=1)\n",
       "</span></code>\n",
       "<ul style=\"line-height: 120%\">\n",
       "<li><span style=\"font-size:90%\"><strong>kx</strong></span>: <span style=\"font-size:90%\"><i>x coordinate, from 0 to 1, A=(0;0), E=(0.5;0.5), I=(1;0), O=(0;1), U=(1;1)</i></span></li>\n",
       "<li><span style=\"font-size:90%\"><strong>ky</strong></span>: <span style=\"font-size:90%\"><i>y coordinate, from 0 to 1, A=(0;0), E=(0.5;0.5), I=(1;0), O=(0;1), U=(1;1)</i></span></li>\n",
       "<li><span style=\"font-size:90%\"><strong>kvibrange</strong></span>: <span style=\"font-size:90%\"><i>vibrato range in semitones</i></span></li>\n",
       "<li><span style=\"font-size:90%\"><strong>ivibstart</strong></span>: <span style=\"font-size:90%\"><i>start time of vibrato</i></span></li>\n",
       "<li><span style=\"font-size:90%\"><strong>ivibfreq</strong></span>: <span style=\"font-size:90%\"><i>vibrato frequency</i></span></li>\n",
       "<li><span style=\"font-size:90%\"><strong>ipitchlag</strong></span>: <span style=\"font-size:90%\"><i>time lag for pitch modifications</i></span></li>\n",
       "</ul>\n",
       "<span style=\"font-size:96%\"><strong>init</strong></span>\n",
       "<span style=\"font-size:90%\"><div class=\"highlight\" style=\"background: #f8f8f8\"><pre style=\"line-height: 125%;\"><span></span><code><span style=\"color: #bbbbbb\">  </span><span style=\"color: #B00040\">gi</span>__formantFreqs__[]<span style=\"color: #bbbbbb\"> </span><span style=\"color: #008000\">fillarray</span><span style=\"color: #bbbbbb\"> </span>\\\n",
       "<span style=\"color: #bbbbbb\">      </span><span style=\"color: #666666\">668</span>,<span style=\"color: #bbbbbb\"> </span><span style=\"color: #666666\">1191</span>,<span style=\"color: #bbbbbb\"> </span><span style=\"color: #666666\">2428</span>,<span style=\"color: #bbbbbb\"> </span><span style=\"color: #666666\">3321</span>,<span style=\"color: #bbbbbb\"> </span><span style=\"color: #666666\">4600</span>,<span style=\"color: #bbbbbb\"> </span><span style=\"border: 1px solid #FF0000\">\\</span><span style=\"color: #bbbbbb\">  </span><span style=\"color: #3D7B7B; font-style: italic\">; A</span>\n",
       "<span style=\"color: #bbbbbb\">      </span><span style=\"color: #666666\">327</span>,<span style=\"color: #bbbbbb\"> </span><span style=\"color: #666666\">2157</span>,<span style=\"color: #bbbbbb\"> </span><span style=\"color: #666666\">2754</span>,<span style=\"color: #bbbbbb\"> </span><span style=\"color: #666666\">3630</span>,<span style=\"color: #bbbbbb\"> </span><span style=\"color: #666666\">4600</span>,<span style=\"color: #bbbbbb\"> </span><span style=\"border: 1px solid #FF0000\">\\</span><span style=\"color: #bbbbbb\">  </span><span style=\"color: #3D7B7B; font-style: italic\">; E </span>\n",
       "<span style=\"color: #bbbbbb\">      </span><span style=\"color: #666666\">208</span>,<span style=\"color: #bbbbbb\"> </span><span style=\"color: #666666\">2152</span>,<span style=\"color: #bbbbbb\"> </span><span style=\"color: #666666\">3128</span>,<span style=\"color: #bbbbbb\"> </span><span style=\"color: #666666\">3425</span>,<span style=\"color: #bbbbbb\"> </span><span style=\"color: #666666\">4200</span>,<span style=\"color: #bbbbbb\"> </span><span style=\"border: 1px solid #FF0000\">\\</span><span style=\"color: #bbbbbb\">  </span><span style=\"color: #3D7B7B; font-style: italic\">; I</span>\n",
       "<span style=\"color: #bbbbbb\">      </span><span style=\"color: #666666\">335</span>,<span style=\"color: #bbbbbb\"> </span><span style=\"color: #666666\">628</span>,<span style=\"color: #bbbbbb\"> </span><span style=\"color: #666666\">2689</span>,<span style=\"color: #bbbbbb\"> </span><span style=\"color: #666666\">3515</span>,<span style=\"color: #bbbbbb\"> </span><span style=\"color: #666666\">4200</span>,<span style=\"color: #bbbbbb\"> </span><span style=\"border: 1px solid #FF0000\">\\</span><span style=\"color: #bbbbbb\">   </span><span style=\"color: #3D7B7B; font-style: italic\">; O</span>\n",
       "<span style=\"color: #bbbbbb\">      </span><span style=\"color: #666666\">254</span>,<span style=\"color: #bbbbbb\"> </span><span style=\"color: #666666\">796</span>,<span style=\"color: #bbbbbb\"> </span><span style=\"color: #666666\">2515</span>,<span style=\"color: #bbbbbb\"> </span><span style=\"color: #666666\">3274</span>,<span style=\"color: #bbbbbb\"> </span><span style=\"color: #666666\">4160</span><span style=\"color: #bbbbbb\">      </span><span style=\"color: #3D7B7B; font-style: italic\">; U</span>\n",
       "\n",
       "<span style=\"color: #bbbbbb\">  </span><span style=\"color: #B00040\">gi</span>__formantDbs__[]<span style=\"color: #bbbbbb\"> </span><span style=\"color: #008000\">fillarray</span><span style=\"color: #bbbbbb\">   </span>\\\n",
       "<span style=\"color: #bbbbbb\">      </span><span style=\"color: #666666\">28</span>,<span style=\"color: #bbbbbb\"> </span><span style=\"color: #666666\">28</span>,<span style=\"color: #bbbbbb\"> </span><span style=\"color: #666666\">22</span>,<span style=\"color: #bbbbbb\"> </span><span style=\"color: #666666\">20</span>,<span style=\"color: #bbbbbb\"> </span><span style=\"color: #666666\">20</span>,<span style=\"color: #bbbbbb\"> </span>\\\n",
       "<span style=\"color: #bbbbbb\">      </span><span style=\"color: #666666\">15</span>,<span style=\"color: #bbbbbb\"> </span><span style=\"color: #666666\">25</span>,<span style=\"color: #bbbbbb\"> </span><span style=\"color: #666666\">24</span>,<span style=\"color: #bbbbbb\"> </span><span style=\"color: #666666\">20</span>,<span style=\"color: #bbbbbb\"> </span><span style=\"color: #666666\">23</span>,<span style=\"color: #bbbbbb\"> </span>\\\n",
       "<span style=\"color: #bbbbbb\">      </span><span style=\"color: #666666\">10</span>,<span style=\"color: #bbbbbb\"> </span><span style=\"color: #666666\">20</span>,<span style=\"color: #bbbbbb\"> </span><span style=\"color: #666666\">27</span>,<span style=\"color: #bbbbbb\"> </span><span style=\"color: #666666\">26</span>,<span style=\"color: #bbbbbb\"> </span><span style=\"color: #666666\">20</span>,<span style=\"color: #bbbbbb\"> </span>\\\n",
       "<span style=\"color: #bbbbbb\">      </span><span style=\"color: #666666\">15</span>,<span style=\"color: #bbbbbb\"> </span><span style=\"color: #666666\">18</span>,<span style=\"color: #bbbbbb\"> </span><span style=\"color: #666666\">5</span>,<span style=\"color: #bbbbbb\">  </span><span style=\"color: #666666\">7</span>,<span style=\"color: #bbbbbb\">  </span><span style=\"color: #666666\">12</span>,<span style=\"color: #bbbbbb\"> </span>\\\n",
       "<span style=\"color: #bbbbbb\">      </span><span style=\"color: #666666\">12</span>,<span style=\"color: #bbbbbb\"> </span><span style=\"color: #666666\">10</span>,<span style=\"color: #bbbbbb\"> </span><span style=\"color: #666666\">6</span>,<span style=\"color: #bbbbbb\">  </span><span style=\"color: #666666\">5</span>,<span style=\"color: #bbbbbb\">  </span><span style=\"color: #666666\">12</span>\n",
       "\n",
       "<span style=\"color: #bbbbbb\">  </span><span style=\"color: #B00040\">gi</span>__formantBws__[]<span style=\"color: #bbbbbb\"> </span><span style=\"color: #008000\">fillarray</span><span style=\"color: #bbbbbb\">   </span>\\\n",
       "<span style=\"color: #bbbbbb\">      </span><span style=\"color: #666666\">80</span>,<span style=\"color: #bbbbbb\"> </span><span style=\"color: #666666\">90</span>,<span style=\"color: #bbbbbb\"> </span><span style=\"color: #666666\">120</span>,<span style=\"color: #bbbbbb\"> </span><span style=\"color: #666666\">130</span>,<span style=\"color: #bbbbbb\"> </span><span style=\"color: #666666\">140</span>,<span style=\"color: #bbbbbb\"> </span>\\\n",
       "<span style=\"color: #bbbbbb\">      </span><span style=\"color: #666666\">60</span>,<span style=\"color: #bbbbbb\"> </span><span style=\"color: #666666\">100</span>,<span style=\"color: #bbbbbb\"> </span><span style=\"color: #666666\">120</span>,<span style=\"color: #bbbbbb\"> </span><span style=\"color: #666666\">150</span>,<span style=\"color: #bbbbbb\"> </span><span style=\"color: #666666\">200</span>,<span style=\"color: #bbbbbb\"> </span>\\\n",
       "<span style=\"color: #bbbbbb\">      </span><span style=\"color: #666666\">60</span>,<span style=\"color: #bbbbbb\"> </span><span style=\"color: #666666\">90</span>,<span style=\"color: #bbbbbb\"> </span><span style=\"color: #666666\">100</span>,<span style=\"color: #bbbbbb\"> </span><span style=\"color: #666666\">120</span>,<span style=\"color: #bbbbbb\"> </span><span style=\"color: #666666\">120</span>,<span style=\"color: #bbbbbb\"> </span>\\\n",
       "<span style=\"color: #bbbbbb\">      </span><span style=\"color: #666666\">40</span>,<span style=\"color: #bbbbbb\"> </span><span style=\"color: #666666\">80</span>,<span style=\"color: #bbbbbb\"> </span><span style=\"color: #666666\">100</span>,<span style=\"color: #bbbbbb\"> </span><span style=\"color: #666666\">120</span>,<span style=\"color: #bbbbbb\"> </span><span style=\"color: #666666\">120</span>,<span style=\"color: #bbbbbb\"> </span>\\\n",
       "<span style=\"color: #bbbbbb\">      </span><span style=\"color: #666666\">50</span>,<span style=\"color: #bbbbbb\"> </span><span style=\"color: #666666\">60</span>,<span style=\"color: #bbbbbb\"> </span><span style=\"color: #666666\">170</span>,<span style=\"color: #bbbbbb\"> </span><span style=\"color: #666666\">180</span>,<span style=\"color: #bbbbbb\"> </span><span style=\"color: #666666\">200</span>\n",
       "\n",
       "<span style=\"color: #bbbbbb\">  </span><span style=\"color: #B00040\">gi</span>__formantAmps__[]<span style=\"color: #bbbbbb\"> </span><span style=\"color: #008000\">maparray</span><span style=\"color: #bbbbbb\"> </span><span style=\"color: #B00040\">gi</span>__formantDbs__,<span style=\"color: #bbbbbb\"> </span><span style=\"color: #BA2121\">&quot;ampdb&quot;</span>\n",
       "<span style=\"color: #bbbbbb\">  </span><span style=\"color: #008000\">reshapearray</span><span style=\"color: #bbbbbb\"> </span><span style=\"color: #B00040\">gi</span>__formantFreqs__,<span style=\"color: #bbbbbb\"> </span><span style=\"color: #666666\">5</span>,<span style=\"color: #bbbbbb\"> </span><span style=\"color: #666666\">5</span>\n",
       "<span style=\"color: #bbbbbb\">  </span><span style=\"color: #008000\">reshapearray</span><span style=\"color: #bbbbbb\"> </span><span style=\"color: #B00040\">gi</span>__formantAmps__,<span style=\"color: #bbbbbb\"> </span><span style=\"color: #666666\">5</span>,<span style=\"color: #bbbbbb\"> </span><span style=\"color: #666666\">5</span>\n",
       "<span style=\"color: #bbbbbb\">  </span><span style=\"color: #008000\">reshapearray</span><span style=\"color: #bbbbbb\"> </span><span style=\"color: #B00040\">gi</span>__formantBws__,<span style=\"color: #bbbbbb\"> </span><span style=\"color: #666666\">5</span>,<span style=\"color: #bbbbbb\"> </span><span style=\"color: #666666\">5</span>\n",
       "</code></pre></div>\n",
       "</span>\n",
       "<span style=\"font-size:96%\"><strong>code</strong></span>\n",
       "<span style=\"font-size:90%\"><div class=\"highlight\" style=\"background: #f8f8f8\"><pre style=\"line-height: 125%;\"><span></span><code><span style=\"color: #bbbbbb\">  </span><span style=\"color: #666666\">|</span><span style=\"color: #B00040\">k</span>x<span style=\"color: #666666\">=0.0</span>,<span style=\"color: #bbbbbb\"> </span><span style=\"color: #B00040\">k</span>y<span style=\"color: #666666\">=0.0</span>,<span style=\"color: #bbbbbb\"> </span><span style=\"color: #B00040\">k</span>vibrange<span style=\"color: #666666\">=0.25</span>,<span style=\"color: #bbbbbb\"> </span><span style=\"color: #B00040\">k</span>vibfreq<span style=\"color: #666666\">=4.5</span>,<span style=\"color: #bbbbbb\"> </span><span style=\"color: #B00040\">i</span>vibstart<span style=\"color: #666666\">=0.5</span>,<span style=\"color: #bbbbbb\"> </span><span style=\"color: #B00040\">i</span>pitchlag<span style=\"color: #666666\">=0.2|</span>\n",
       "</code></pre></div>\n",
       "</span>\n",
       "<span style=\"font-size:90%\"><div class=\"highlight\" style=\"background: #f8f8f8\"><pre style=\"line-height: 125%;\"><span></span><code><span style=\"color: #bbbbbb\">  </span><span style=\"color: #3D7B7B; font-style: italic\">; Simple vowel singing simulation</span>\n",
       "<span style=\"color: #bbbbbb\">  </span><span style=\"color: #3D7B7B; font-style: italic\">; Args:</span>\n",
       "<span style=\"color: #bbbbbb\">  </span><span style=\"color: #3D7B7B; font-style: italic\">;   kx: x coordinate, from 0 to 1, A=(0;0), E=(0.5;0.5), I=(1;0), O=(0;1), U=(1;1)</span>\n",
       "<span style=\"color: #bbbbbb\">  </span><span style=\"color: #3D7B7B; font-style: italic\">;   ky: y coordinate, from 0 to 1, A=(0;0), E=(0.5;0.5), I=(1;0), O=(0;1), U=(1;1)</span>\n",
       "<span style=\"color: #bbbbbb\">  </span><span style=\"color: #3D7B7B; font-style: italic\">;   kvibrange: vibrato range in semitones</span>\n",
       "<span style=\"color: #bbbbbb\">  </span><span style=\"color: #3D7B7B; font-style: italic\">;   ivibstart: start time of vibrato</span>\n",
       "<span style=\"color: #bbbbbb\">  </span><span style=\"color: #3D7B7B; font-style: italic\">;   ivibfreq: vibrato frequency</span>\n",
       "<span style=\"color: #bbbbbb\">  </span><span style=\"color: #3D7B7B; font-style: italic\">;   ipitchlag: time lag for pitch modifications</span>\n",
       "\n",
       "<span style=\"color: #bbbbbb\">  </span><span style=\"color: #B00040\">k</span>noVib<span style=\"color: #bbbbbb\"> </span><span style=\"color: #666666\">=</span><span style=\"color: #bbbbbb\"> </span><span style=\"color: #008000\">lag</span>:<span style=\"color: #B00040\">k</span>(<span style=\"color: #008000\">trighold</span>(<span style=\"color: #008000\">changed2</span>(<span style=\"color: #B00040\">k</span>pitch),<span style=\"color: #bbbbbb\"> </span><span style=\"color: #B00040\">i</span>vibstart<span style=\"color: #666666\">*0.8</span>),<span style=\"color: #bbbbbb\"> </span><span style=\"color: #B00040\">i</span>vibstart<span style=\"color: #666666\">*0.2</span>)\n",
       "<span style=\"color: #bbbbbb\">  </span><span style=\"color: #B00040\">k</span>vibfreq2<span style=\"color: #bbbbbb\"> </span><span style=\"color: #666666\">=</span><span style=\"color: #bbbbbb\"> </span><span style=\"color: #008000\">linseg</span>:<span style=\"color: #B00040\">k</span>(<span style=\"color: #666666\">0</span>,<span style=\"color: #bbbbbb\"> </span><span style=\"color: #B00040\">i</span>vibstart<span style=\"color: #666666\">*0.25</span>,<span style=\"color: #bbbbbb\"> </span><span style=\"color: #666666\">0</span>,<span style=\"color: #bbbbbb\"> </span><span style=\"color: #B00040\">i</span>vibstart<span style=\"color: #666666\">*0.75</span>,<span style=\"color: #bbbbbb\"> </span><span style=\"color: #666666\">1</span>)<span style=\"color: #bbbbbb\"> </span><span style=\"color: #666666\">*</span><span style=\"color: #bbbbbb\"> </span><span style=\"color: #008000\">randomi</span>:<span style=\"color: #B00040\">k</span>(<span style=\"color: #666666\">0.9</span>,<span style=\"color: #bbbbbb\"> </span><span style=\"color: #666666\">1.1</span>,<span style=\"color: #bbbbbb\"> </span><span style=\"color: #666666\">2</span>)<span style=\"color: #bbbbbb\"> </span><span style=\"color: #666666\">*</span><span style=\"color: #bbbbbb\"> </span>(<span style=\"color: #666666\">1</span><span style=\"color: #bbbbbb\"> </span><span style=\"color: #666666\">-</span><span style=\"color: #bbbbbb\"> </span><span style=\"color: #B00040\">k</span>noVib)<span style=\"color: #bbbbbb\"> </span><span style=\"color: #666666\">*</span><span style=\"color: #bbbbbb\"> </span><span style=\"color: #B00040\">k</span>vibfreq<span style=\"color: #bbbbbb\"> </span>\n",
       "<span style=\"color: #bbbbbb\">  </span><span style=\"color: #B00040\">k</span>vibamount<span style=\"color: #bbbbbb\"> </span><span style=\"color: #666666\">=</span><span style=\"color: #bbbbbb\"> </span><span style=\"color: #008000\">linseg</span>:<span style=\"color: #B00040\">k</span>(<span style=\"color: #666666\">0</span>,<span style=\"color: #bbbbbb\"> </span><span style=\"color: #B00040\">i</span>vibstart<span style=\"color: #666666\">*0.2</span>,<span style=\"color: #bbbbbb\"> </span><span style=\"color: #666666\">0</span>,<span style=\"color: #bbbbbb\"> </span><span style=\"color: #B00040\">i</span>vibstart<span style=\"color: #666666\">*0.8</span>,<span style=\"color: #bbbbbb\"> </span><span style=\"color: #666666\">1</span>)<span style=\"color: #bbbbbb\"> </span><span style=\"color: #666666\">*</span><span style=\"color: #bbbbbb\"> </span><span style=\"color: #008000\">randomi</span>:<span style=\"color: #B00040\">k</span>(<span style=\"color: #666666\">0.9</span>,<span style=\"color: #bbbbbb\"> </span><span style=\"color: #666666\">1.1</span>,<span style=\"color: #bbbbbb\"> </span><span style=\"color: #666666\">10</span>)\n",
       "<span style=\"color: #bbbbbb\">  </span><span style=\"color: #B00040\">k</span>vibsemi<span style=\"color: #bbbbbb\"> </span><span style=\"color: #666666\">=</span><span style=\"color: #bbbbbb\"> </span><span style=\"color: #B00040\">k</span>vibamount<span style=\"color: #bbbbbb\"> </span><span style=\"color: #666666\">*</span><span style=\"color: #bbbbbb\"> </span><span style=\"color: #B00040\">k</span>vibrange\n",
       "<span style=\"color: #bbbbbb\">  </span><span style=\"color: #B00040\">k</span>vib<span style=\"color: #bbbbbb\"> </span><span style=\"color: #666666\">=</span><span style=\"color: #bbbbbb\"> </span><span style=\"color: #008000\">oscil</span>:<span style=\"color: #B00040\">k</span>(<span style=\"color: #B00040\">k</span>vibsemi<span style=\"color: #666666\">/2</span>,<span style=\"color: #bbbbbb\"> </span><span style=\"color: #B00040\">k</span>vibfreq2)<span style=\"color: #bbbbbb\"> </span><span style=\"color: #666666\">-</span><span style=\"color: #bbbbbb\"> </span><span style=\"color: #B00040\">k</span>vibsemi<span style=\"color: #666666\">/2</span>\n",
       "<span style=\"color: #bbbbbb\">  </span><span style=\"color: #B00040\">k</span>pitch2<span style=\"color: #bbbbbb\"> </span><span style=\"color: #666666\">=</span><span style=\"color: #bbbbbb\"> </span><span style=\"color: #008000\">lag</span>:<span style=\"color: #B00040\">k</span>(<span style=\"color: #B00040\">k</span>pitch,<span style=\"color: #bbbbbb\"> </span><span style=\"color: #B00040\">i</span>pitchlag)<span style=\"color: #bbbbbb\"> </span><span style=\"color: #666666\">+</span><span style=\"color: #bbbbbb\"> </span><span style=\"color: #B00040\">k</span>vib\n",
       "<span style=\"color: #bbbbbb\">  </span><span style=\"color: #B00040\">a</span>source<span style=\"color: #bbbbbb\"> </span><span style=\"color: #666666\">=</span><span style=\"color: #bbbbbb\"> </span><span style=\"color: #008000\">butterlp</span>:<span style=\"color: #B00040\">a</span>(<span style=\"color: #008000\">vco2</span>:<span style=\"color: #B00040\">a</span>(<span style=\"color: #B00040\">k</span>amp,<span style=\"color: #bbbbbb\"> </span><span style=\"color: #008000\">mtof</span>(<span style=\"color: #B00040\">k</span>pitch2)),<span style=\"color: #bbbbbb\"> </span><span style=\"color: #666666\">5000</span>)\n",
       "<span style=\"color: #bbbbbb\">  </span><span style=\"color: #B00040\">k</span>coords[]<span style=\"color: #bbbbbb\"> </span><span style=\"color: #008000\">fillarray</span><span style=\"color: #bbbbbb\"> </span><span style=\"color: #666666\">0</span>,<span style=\"color: #bbbbbb\"> </span><span style=\"color: #666666\">0</span>,<span style=\"color: #bbbbbb\"> </span><span style=\"color: #666666\">1</span>,<span style=\"color: #bbbbbb\">       </span><span style=\"border: 1px solid #FF0000\">\\</span><span style=\"color: #bbbbbb\">  </span><span style=\"color: #3D7B7B; font-style: italic\">; A</span>\n",
       "<span style=\"color: #bbbbbb\">                      </span><span style=\"color: #666666\">0.5</span>,<span style=\"color: #bbbbbb\"> </span><span style=\"color: #666666\">0.5</span>,<span style=\"color: #bbbbbb\"> </span><span style=\"color: #666666\">0.3</span>,<span style=\"color: #bbbbbb\"> </span><span style=\"border: 1px solid #FF0000\">\\</span><span style=\"color: #bbbbbb\">  </span><span style=\"color: #3D7B7B; font-style: italic\">; E</span>\n",
       "<span style=\"color: #bbbbbb\">                      </span><span style=\"color: #666666\">1</span>,<span style=\"color: #bbbbbb\"> </span><span style=\"color: #666666\">0</span>,<span style=\"color: #bbbbbb\"> </span><span style=\"color: #666666\">1</span>,<span style=\"color: #bbbbbb\">       </span><span style=\"border: 1px solid #FF0000\">\\</span><span style=\"color: #bbbbbb\">  </span><span style=\"color: #3D7B7B; font-style: italic\">; I</span>\n",
       "<span style=\"color: #bbbbbb\">                      </span><span style=\"color: #666666\">0</span>,<span style=\"color: #bbbbbb\"> </span><span style=\"color: #666666\">1</span>,<span style=\"color: #bbbbbb\"> </span><span style=\"color: #666666\">1</span>,<span style=\"color: #bbbbbb\">       </span><span style=\"border: 1px solid #FF0000\">\\</span><span style=\"color: #bbbbbb\">  </span><span style=\"color: #3D7B7B; font-style: italic\">; O</span>\n",
       "<span style=\"color: #bbbbbb\">                      </span><span style=\"color: #666666\">1</span>,<span style=\"color: #bbbbbb\"> </span><span style=\"color: #666666\">1</span>,<span style=\"color: #bbbbbb\"> </span><span style=\"color: #666666\">1</span><span style=\"color: #bbbbbb\">           </span><span style=\"color: #3D7B7B; font-style: italic\">; U</span>\n",
       "\n",
       "<span style=\"color: #bbbbbb\">  </span><span style=\"color: #B00040\">k</span>weights[]<span style=\"color: #bbbbbb\"> </span>presetinterp<span style=\"color: #bbbbbb\"> </span><span style=\"color: #B00040\">k</span>x,<span style=\"color: #bbbbbb\"> </span><span style=\"color: #B00040\">k</span>y,<span style=\"color: #bbbbbb\"> </span><span style=\"color: #B00040\">k</span>coords,<span style=\"color: #bbbbbb\"> </span><span style=\"color: #666666\">0.2</span>\n",
       "<span style=\"color: #bbbbbb\">  </span><span style=\"color: #B00040\">k</span>formantFreqs[]<span style=\"color: #bbbbbb\"> </span><span style=\"color: #B00040\">w</span>eightedsum<span style=\"color: #bbbbbb\"> </span><span style=\"color: #B00040\">gi</span>__formantFreqs__,<span style=\"color: #bbbbbb\"> </span><span style=\"color: #B00040\">k</span>weights\n",
       "<span style=\"color: #bbbbbb\">  </span><span style=\"color: #B00040\">k</span>formantBws[]<span style=\"color: #bbbbbb\">   </span><span style=\"color: #B00040\">w</span>eightedsum<span style=\"color: #bbbbbb\"> </span><span style=\"color: #B00040\">gi</span>__formantBws__,<span style=\"color: #bbbbbb\"> </span><span style=\"color: #B00040\">k</span>weights\n",
       "<span style=\"color: #bbbbbb\">  </span><span style=\"color: #B00040\">k</span>formantAmps[]<span style=\"color: #bbbbbb\">  </span><span style=\"color: #B00040\">w</span>eightedsum<span style=\"color: #bbbbbb\"> </span><span style=\"color: #B00040\">gi</span>__formantAmps__,<span style=\"color: #bbbbbb\"> </span><span style=\"color: #B00040\">k</span>weights\n",
       "<span style=\"color: #bbbbbb\">  </span><span style=\"color: #B00040\">k</span>formantFreqs<span style=\"color: #bbbbbb\"> </span>poly<span style=\"color: #bbbbbb\"> </span><span style=\"color: #666666\">5</span>,<span style=\"color: #bbbbbb\"> </span><span style=\"color: #BA2121\">&quot;lag&quot;</span>,<span style=\"color: #bbbbbb\"> </span><span style=\"color: #B00040\">k</span>formantFreqs,<span style=\"color: #bbbbbb\"> </span><span style=\"color: #B00040\">i</span>pitchlag\n",
       "<span style=\"color: #bbbbbb\">  </span><span style=\"color: #B00040\">k</span>formantAmps<span style=\"color: #bbbbbb\">  </span>poly<span style=\"color: #bbbbbb\"> </span><span style=\"color: #666666\">5</span>,<span style=\"color: #bbbbbb\"> </span><span style=\"color: #BA2121\">&quot;lag&quot;</span>,<span style=\"color: #bbbbbb\"> </span><span style=\"color: #B00040\">k</span>formantAmps,<span style=\"color: #bbbbbb\"> </span><span style=\"color: #B00040\">i</span>pitchlag\n",
       "<span style=\"color: #bbbbbb\">  </span><span style=\"color: #B00040\">a</span>formants[]<span style=\"color: #bbbbbb\"> </span>poly<span style=\"color: #bbbbbb\"> </span><span style=\"color: #666666\">5</span>,<span style=\"color: #bbbbbb\"> </span><span style=\"color: #BA2121\">&quot;resonx&quot;</span>,<span style=\"color: #bbbbbb\"> </span><span style=\"color: #B00040\">a</span>source,<span style=\"color: #bbbbbb\"> </span><span style=\"color: #B00040\">k</span>formantFreqs,<span style=\"color: #bbbbbb\"> </span><span style=\"color: #B00040\">k</span>formantBws,<span style=\"color: #bbbbbb\"> </span><span style=\"color: #666666\">2</span>,<span style=\"color: #bbbbbb\"> </span><span style=\"color: #666666\">1</span>\n",
       "<span style=\"color: #bbbbbb\">  </span><span style=\"color: #B00040\">a</span>formants<span style=\"color: #bbbbbb\"> </span><span style=\"color: #666666\">*=</span><span style=\"color: #bbbbbb\"> </span><span style=\"color: #B00040\">k</span>formantAmps\n",
       "<span style=\"color: #bbbbbb\">  </span><span style=\"color: #B00040\">a</span>out1<span style=\"color: #bbbbbb\"> </span><span style=\"color: #666666\">=</span><span style=\"color: #bbbbbb\"> </span><span style=\"color: #008000\">sumarray</span>(<span style=\"color: #B00040\">a</span>formants)<span style=\"color: #bbbbbb\"> </span><span style=\"color: #666666\">*</span><span style=\"color: #bbbbbb\"> </span><span style=\"color: #666666\">0.1</span>\n",
       "</code></pre></div>\n",
       "</span>\n",
       "<hr>\n",
       "Preset: <b>_playtable</b> - <span style=\"color:#A0A0A0\"><i>Built-in presetdef to playback a table</i></span>\n",
       "<br>\n",
       "<code style=\"font-size: 90%\">  <span style=\"color:#A0A0A0;font-size:96%\">(numouts=2, numsignals=2)\n",
       "</span></code>\n",
       "<ul style=\"line-height: 120%\">\n",
       "<li><span style=\"font-size:90%\"><strong>isndtab</strong></span>: <span style=\"font-size:90%\"><i>table number to play</i></span></li>\n",
       "<li><span style=\"font-size:90%\"><strong>istart</strong></span>: <span style=\"font-size:90%\"><i>skip time</i></span></li>\n",
       "<li><span style=\"font-size:90%\"><strong>kspeed</strong></span>: <span style=\"font-size:90%\"><i>playback speed</i></span></li>\n",
       "<li><span style=\"font-size:90%\"><strong>ixfade</strong></span>: <span style=\"font-size:90%\"><i>crossfade time, if negative no looping</i></span></li>\n",
       "</ul>\n",
       "<span style=\"font-size:96%\"><strong>code</strong></span>\n",
       "<span style=\"font-size:90%\"><div class=\"highlight\" style=\"background: #f8f8f8\"><pre style=\"line-height: 125%;\"><span></span><code><span style=\"color: #bbbbbb\">  </span><span style=\"color: #666666\">|</span><span style=\"color: #B00040\">i</span>sndtab<span style=\"color: #666666\">=0.0</span>,<span style=\"color: #bbbbbb\"> </span><span style=\"color: #B00040\">i</span>start<span style=\"color: #666666\">=0.0</span>,<span style=\"color: #bbbbbb\"> </span><span style=\"color: #B00040\">k</span>speed<span style=\"color: #666666\">=1.0</span>,<span style=\"color: #bbbbbb\"> </span><span style=\"color: #B00040\">i</span>xfade<span style=\"color: #666666\">=-1.0|</span>\n",
       "</code></pre></div>\n",
       "</span>\n",
       "<span style=\"font-size:90%\"><div class=\"highlight\" style=\"background: #f8f8f8\"><pre style=\"line-height: 125%;\"><span></span><code><span style=\"color: #bbbbbb\">  </span><span style=\"color: #3D7B7B; font-style: italic\">; Built-in presetdef to playback a table</span>\n",
       "<span style=\"color: #bbbbbb\">  </span><span style=\"color: #3D7B7B; font-style: italic\">; Args:</span>\n",
       "<span style=\"color: #bbbbbb\">  </span><span style=\"color: #3D7B7B; font-style: italic\">;   isndtab: table number to play</span>\n",
       "<span style=\"color: #bbbbbb\">  </span><span style=\"color: #3D7B7B; font-style: italic\">;   istart: skip time</span>\n",
       "<span style=\"color: #bbbbbb\">  </span><span style=\"color: #3D7B7B; font-style: italic\">;   kspeed: playback speed</span>\n",
       "<span style=\"color: #bbbbbb\">  </span><span style=\"color: #3D7B7B; font-style: italic\">;   ixfade: crossfade time, if negative no looping</span>\n",
       "<span style=\"color: #bbbbbb\">  </span><span style=\"color: #B00040\">i</span>loop<span style=\"color: #bbbbbb\"> </span><span style=\"color: #666666\">=</span><span style=\"color: #bbbbbb\"> </span><span style=\"color: #B00040\">i</span>xfade<span style=\"color: #bbbbbb\"> </span><span style=\"color: #666666\">&gt;=</span><span style=\"color: #bbbbbb\"> </span><span style=\"color: #666666\">0</span><span style=\"color: #bbbbbb\"> </span><span style=\"color: #666666\">?</span><span style=\"color: #bbbbbb\"> </span><span style=\"color: #666666\">1</span><span style=\"color: #bbbbbb\"> </span><span style=\"color: #666666\">:</span><span style=\"color: #bbbbbb\"> </span><span style=\"color: #666666\">0</span>\n",
       "<span style=\"color: #bbbbbb\">  </span><span style=\"color: #B00040\">i</span>numouts<span style=\"color: #bbbbbb\"> </span><span style=\"color: #666666\">=</span><span style=\"color: #bbbbbb\"> </span><span style=\"color: #008000\">ftchnls</span>(<span style=\"color: #B00040\">i</span>sndtab)\n",
       "<span style=\"color: #bbbbbb\">  </span><span style=\"color: #B00040\">i</span>numsamples<span style=\"color: #bbbbbb\"> </span><span style=\"color: #666666\">=</span><span style=\"color: #bbbbbb\"> </span><span style=\"color: #008000\">nsamp</span>(<span style=\"color: #B00040\">i</span>sndtab)\n",
       "<span style=\"color: #bbbbbb\">  </span><span style=\"color: #B00040\">i</span>sr<span style=\"color: #bbbbbb\"> </span><span style=\"color: #666666\">=</span><span style=\"color: #bbbbbb\"> </span><span style=\"color: #008000\">ftsr</span>(<span style=\"color: #B00040\">i</span>sndtab)\n",
       "<span style=\"color: #bbbbbb\">  </span><span style=\"color: #B00040\">i</span>onecycle<span style=\"color: #bbbbbb\"> </span><span style=\"color: #666666\">=</span><span style=\"color: #bbbbbb\"> </span><span style=\"color: #19177C\">ksmps</span><span style=\"color: #666666\">/</span><span style=\"color: #19177C\">sr</span>\n",
       "\n",
       "<span style=\"color: #bbbbbb\">  </span><span style=\"color: #008000; font-weight: bold\">if</span><span style=\"color: #bbbbbb\"> </span><span style=\"color: #B00040\">i</span>sr<span style=\"color: #bbbbbb\"> </span><span style=\"color: #666666\">&lt;=</span><span style=\"color: #bbbbbb\"> </span><span style=\"color: #666666\">0</span><span style=\"color: #bbbbbb\"> </span><span style=\"color: #008000; font-weight: bold\">then</span>\n",
       "<span style=\"color: #bbbbbb\">      </span><span style=\"color: #B00040\">i</span>niterror<span style=\"color: #bbbbbb\"> </span><span style=\"color: #008000\">sprintf</span>(<span style=\"color: #BA2121\">&quot;Could not determine sr of table </span><span style=\"color: #A45A77; font-weight: bold\">%d</span><span style=\"color: #BA2121\">&quot;</span>,<span style=\"color: #bbbbbb\"> </span><span style=\"color: #B00040\">i</span>sndtab)\n",
       "<span style=\"color: #bbbbbb\">  </span><span style=\"color: #008000; font-weight: bold\">endif</span>\n",
       "<span style=\"color: #bbbbbb\">  </span><span style=\"color: #B00040\">i</span>dur<span style=\"color: #bbbbbb\"> </span><span style=\"color: #666666\">=</span><span style=\"color: #bbbbbb\"> </span><span style=\"color: #B00040\">i</span>numsamples<span style=\"color: #bbbbbb\"> </span><span style=\"color: #666666\">/</span><span style=\"color: #bbbbbb\"> </span><span style=\"color: #B00040\">i</span>sr\n",
       "\n",
       "<span style=\"color: #bbbbbb\">  </span><span style=\"color: #B00040\">k</span>now<span style=\"color: #bbbbbb\"> </span><span style=\"color: #008000\">init</span><span style=\"color: #bbbbbb\"> </span><span style=\"color: #B00040\">i</span>start\n",
       "<span style=\"color: #bbbbbb\">  </span><span style=\"color: #008000; font-weight: bold\">if</span><span style=\"color: #bbbbbb\"> </span><span style=\"color: #B00040\">i</span>numouts<span style=\"color: #bbbbbb\"> </span><span style=\"color: #666666\">==</span><span style=\"color: #bbbbbb\"> </span><span style=\"color: #666666\">0</span><span style=\"color: #bbbbbb\"> </span><span style=\"color: #008000; font-weight: bold\">then</span>\n",
       "<span style=\"color: #bbbbbb\">      </span><span style=\"color: #3D7B7B; font-style: italic\">; not a gen1 table, fail</span>\n",
       "<span style=\"color: #bbbbbb\">      </span><span style=\"color: #B00040\">i</span>niterror<span style=\"color: #bbbbbb\"> </span><span style=\"color: #008000\">sprintf</span>(<span style=\"color: #BA2121\">&quot;Table </span><span style=\"color: #A45A77; font-weight: bold\">%d</span><span style=\"color: #BA2121\"> was not generated via gen1&quot;</span>,<span style=\"color: #bbbbbb\"> </span><span style=\"color: #B00040\">i</span>sndtab)\n",
       "<span style=\"color: #bbbbbb\">  </span><span style=\"color: #008000; font-weight: bold\">endif</span>\n",
       "\n",
       "<span style=\"color: #bbbbbb\">  </span><span style=\"color: #B00040\">k</span>idx<span style=\"color: #bbbbbb\"> </span><span style=\"color: #008000\">init</span><span style=\"color: #bbbbbb\"> </span><span style=\"color: #666666\">0</span>\n",
       "<span style=\"color: #bbbbbb\">  </span><span style=\"color: #B00040\">a</span>env<span style=\"color: #bbbbbb\"> </span><span style=\"color: #666666\">=</span><span style=\"color: #bbbbbb\"> </span>makePresetEnvelope(<span style=\"color: #B00040\">i</span>fadein,<span style=\"color: #bbbbbb\"> </span><span style=\"color: #B00040\">i</span>fadeout,<span style=\"color: #bbbbbb\"> </span><span style=\"color: #B00040\">i</span>fadekind)\n",
       "<span style=\"color: #bbbbbb\">  </span><span style=\"color: #B00040\">a</span>env<span style=\"color: #bbbbbb\"> </span><span style=\"color: #666666\">*=</span><span style=\"color: #bbbbbb\"> </span><span style=\"color: #B00040\">k</span>gain\n",
       "\n",
       "<span style=\"color: #bbbbbb\">  </span><span style=\"color: #008000; font-weight: bold\">if</span><span style=\"color: #bbbbbb\"> </span><span style=\"color: #B00040\">i</span>numouts<span style=\"color: #bbbbbb\"> </span><span style=\"color: #666666\">==</span><span style=\"color: #bbbbbb\"> </span><span style=\"color: #666666\">1</span><span style=\"color: #bbbbbb\"> </span><span style=\"color: #008000; font-weight: bold\">then</span>\n",
       "<span style=\"color: #bbbbbb\">      </span><span style=\"color: #B00040\">a</span>1<span style=\"color: #bbbbbb\"> </span><span style=\"color: #008000\">flooper2</span><span style=\"color: #bbbbbb\"> </span><span style=\"color: #666666\">1</span>,<span style=\"color: #bbbbbb\"> </span><span style=\"color: #B00040\">k</span>speed,<span style=\"color: #bbbbbb\"> </span><span style=\"color: #B00040\">i</span>start,<span style=\"color: #bbbbbb\"> </span><span style=\"color: #B00040\">i</span>dur,<span style=\"color: #bbbbbb\"> </span><span style=\"color: #B00040\">i</span>xfade,<span style=\"color: #bbbbbb\"> </span><span style=\"color: #B00040\">i</span>sndtab,<span style=\"color: #bbbbbb\"> </span><span style=\"color: #B00040\">i</span>start\n",
       "<span style=\"color: #bbbbbb\">      </span><span style=\"color: #B00040\">a</span>1<span style=\"color: #bbbbbb\"> </span><span style=\"color: #666666\">*=</span><span style=\"color: #bbbbbb\"> </span><span style=\"color: #B00040\">a</span>env\n",
       "<span style=\"color: #bbbbbb\">      </span><span style=\"color: #B00040\">k</span>pos<span style=\"color: #bbbbbb\"> </span><span style=\"color: #666666\">=</span><span style=\"color: #bbbbbb\"> </span><span style=\"color: #B00040\">k</span>pos<span style=\"color: #bbbbbb\"> </span><span style=\"color: #666666\">==</span><span style=\"color: #bbbbbb\"> </span><span style=\"color: #666666\">-1</span><span style=\"color: #bbbbbb\"> </span><span style=\"color: #666666\">?</span><span style=\"color: #bbbbbb\"> </span><span style=\"color: #666666\">0</span><span style=\"color: #bbbbbb\"> </span><span style=\"color: #666666\">:</span><span style=\"color: #bbbbbb\"> </span><span style=\"color: #B00040\">k</span>pos\n",
       "<span style=\"color: #bbbbbb\">      </span><span style=\"color: #B00040\">a</span>out1,<span style=\"color: #bbbbbb\"> </span><span style=\"color: #B00040\">a</span>out2<span style=\"color: #bbbbbb\"> </span><span style=\"color: #008000\">pan2</span><span style=\"color: #bbbbbb\"> </span><span style=\"color: #B00040\">a</span>1,<span style=\"color: #bbbbbb\"> </span><span style=\"color: #B00040\">k</span>pos\n",
       "<span style=\"color: #bbbbbb\">  </span><span style=\"color: #008000; font-weight: bold\">elseif</span><span style=\"color: #bbbbbb\"> </span><span style=\"color: #B00040\">i</span>numouts<span style=\"color: #bbbbbb\"> </span><span style=\"color: #666666\">==</span><span style=\"color: #bbbbbb\"> </span><span style=\"color: #666666\">2</span><span style=\"color: #bbbbbb\"> </span><span style=\"color: #008000; font-weight: bold\">then</span>\n",
       "<span style=\"color: #bbbbbb\">      </span><span style=\"color: #B00040\">a</span>1,<span style=\"color: #bbbbbb\"> </span><span style=\"color: #B00040\">a</span>2<span style=\"color: #bbbbbb\"> </span><span style=\"color: #008000\">flooper2</span><span style=\"color: #bbbbbb\"> </span><span style=\"color: #666666\">1</span>,<span style=\"color: #bbbbbb\"> </span><span style=\"color: #B00040\">k</span>speed,<span style=\"color: #bbbbbb\"> </span><span style=\"color: #B00040\">i</span>start,<span style=\"color: #bbbbbb\"> </span><span style=\"color: #B00040\">i</span>dur,<span style=\"color: #bbbbbb\"> </span><span style=\"color: #B00040\">i</span>xfade,<span style=\"color: #bbbbbb\"> </span><span style=\"color: #B00040\">i</span>sndtab,<span style=\"color: #bbbbbb\"> </span><span style=\"color: #B00040\">i</span>start\n",
       "<span style=\"color: #bbbbbb\">      </span><span style=\"color: #B00040\">k</span>pos<span style=\"color: #bbbbbb\"> </span><span style=\"color: #666666\">=</span><span style=\"color: #bbbbbb\"> </span><span style=\"color: #B00040\">k</span>pos<span style=\"color: #bbbbbb\"> </span><span style=\"color: #666666\">&lt;</span><span style=\"color: #bbbbbb\"> </span><span style=\"color: #666666\">0</span><span style=\"color: #bbbbbb\"> </span><span style=\"color: #666666\">?</span><span style=\"color: #bbbbbb\"> </span><span style=\"color: #666666\">0.5</span><span style=\"color: #bbbbbb\"> </span><span style=\"color: #666666\">:</span><span style=\"color: #bbbbbb\"> </span><span style=\"color: #B00040\">k</span>pos\n",
       "<span style=\"color: #bbbbbb\">      </span><span style=\"color: #B00040\">a</span>out1,<span style=\"color: #bbbbbb\"> </span><span style=\"color: #B00040\">a</span>out2<span style=\"color: #bbbbbb\"> </span>panstereo<span style=\"color: #bbbbbb\"> </span><span style=\"color: #B00040\">a</span>1,<span style=\"color: #bbbbbb\"> </span><span style=\"color: #B00040\">a</span>2,<span style=\"color: #bbbbbb\"> </span><span style=\"color: #B00040\">k</span>pos\n",
       "<span style=\"color: #bbbbbb\">      </span><span style=\"color: #B00040\">a</span>out1<span style=\"color: #bbbbbb\"> </span><span style=\"color: #666666\">*=</span><span style=\"color: #bbbbbb\"> </span><span style=\"color: #B00040\">a</span>env\n",
       "<span style=\"color: #bbbbbb\">      </span><span style=\"color: #B00040\">a</span>out2<span style=\"color: #bbbbbb\"> </span><span style=\"color: #666666\">*=</span><span style=\"color: #bbbbbb\"> </span><span style=\"color: #B00040\">a</span>env\n",
       "<span style=\"color: #bbbbbb\">  </span><span style=\"color: #008000; font-weight: bold\">else</span>\n",
       "<span style=\"color: #bbbbbb\">      </span><span style=\"color: #B00040\">i</span>niterror<span style=\"color: #bbbbbb\"> </span><span style=\"color: #008000\">sprintf</span>(<span style=\"color: #BA2121\">&quot;Multichannel samples (&gt; 2, got </span><span style=\"color: #A45A77; font-weight: bold\">%d</span><span style=\"color: #BA2121\">) not supported yet&quot;</span>,<span style=\"color: #bbbbbb\"> </span><span style=\"color: #B00040\">i</span>numouts)\n",
       "<span style=\"color: #bbbbbb\">  </span><span style=\"color: #008000; font-weight: bold\">endif</span>\n",
       "<span style=\"color: #bbbbbb\">  </span><span style=\"color: #008000\">outch</span><span style=\"color: #bbbbbb\"> </span><span style=\"color: #B00040\">i</span>chan,<span style=\"color: #bbbbbb\"> </span><span style=\"color: #B00040\">a</span>out1,<span style=\"color: #bbbbbb\"> </span><span style=\"color: #B00040\">i</span>chan<span style=\"color: #666666\">+1</span>,<span style=\"color: #bbbbbb\"> </span><span style=\"color: #B00040\">a</span>out2\n",
       "\n",
       "<span style=\"color: #bbbbbb\">  </span><span style=\"color: #B00040\">k</span>now<span style=\"color: #bbbbbb\"> </span><span style=\"color: #666666\">+=</span><span style=\"color: #bbbbbb\"> </span><span style=\"color: #B00040\">i</span>onecycle<span style=\"color: #bbbbbb\"> </span><span style=\"color: #666666\">*</span><span style=\"color: #bbbbbb\"> </span><span style=\"color: #B00040\">k</span>speed\n",
       "<span style=\"color: #bbbbbb\">  </span><span style=\"color: #B00040\">i</span>maxtime<span style=\"color: #bbbbbb\"> </span><span style=\"color: #666666\">=</span><span style=\"color: #bbbbbb\"> </span><span style=\"color: #B00040\">i</span>dur<span style=\"color: #bbbbbb\"> </span><span style=\"color: #666666\">-</span><span style=\"color: #bbbbbb\"> </span><span style=\"color: #B00040\">i</span>fadeout<span style=\"color: #bbbbbb\"> </span><span style=\"color: #666666\">-</span><span style=\"color: #bbbbbb\"> </span><span style=\"color: #B00040\">i</span>onecycle\n",
       "<span style=\"color: #bbbbbb\">  </span><span style=\"color: #008000; font-weight: bold\">if</span><span style=\"color: #bbbbbb\"> </span><span style=\"color: #B00040\">i</span>loop<span style=\"color: #bbbbbb\"> </span><span style=\"color: #666666\">==</span><span style=\"color: #bbbbbb\"> </span><span style=\"color: #666666\">0</span><span style=\"color: #bbbbbb\"> </span><span style=\"color: #666666\">&amp;&amp;</span><span style=\"color: #bbbbbb\"> </span><span style=\"color: #B00040\">k</span>now<span style=\"color: #bbbbbb\"> </span><span style=\"color: #666666\">&gt;=</span><span style=\"color: #bbbbbb\"> </span><span style=\"color: #B00040\">i</span>maxtime<span style=\"color: #bbbbbb\"> </span><span style=\"color: #008000; font-weight: bold\">then</span>\n",
       "<span style=\"color: #bbbbbb\">      </span><span style=\"color: #008000\">turnoff</span>\n",
       "<span style=\"color: #bbbbbb\">  </span><span style=\"color: #008000; font-weight: bold\">endif</span><span style=\"color: #bbbbbb\">   </span>\n",
       "</code></pre></div>\n",
       "</span>\n",
       "<hr>\n",
       "Preset: <b>pulse</b> - <span style=\"color:#A0A0A0\"><i>transposable pulse with pwm</i></span>\n",
       "<br>\n",
       "<code style=\"font-size: 90%\">  <span style=\"color:#A0A0A0;font-size:96%\">(routing=True, numouts=2, numsignals=1)\n",
       "</span></code>\n",
       "<ul style=\"line-height: 120%\">\n",
       "<li><span style=\"font-size:90%\"><strong>ktransp</strong></span>: <span style=\"font-size:90%\"><i>transposition</i></span></li>\n",
       "<li><span style=\"font-size:90%\"><strong>klag</strong></span>: <span style=\"font-size:90%\"><i>lag time for pitch</i></span></li>\n",
       "<li><span style=\"font-size:90%\"><strong>kpwm</strong></span>: <span style=\"font-size:90%\"><i>pwm between 0-1</i></span></li>\n",
       "</ul>\n",
       "<span style=\"font-size:96%\"><strong>code</strong></span>\n",
       "<span style=\"font-size:90%\"><div class=\"highlight\" style=\"background: #f8f8f8\"><pre style=\"line-height: 125%;\"><span></span><code><span style=\"color: #bbbbbb\">  </span><span style=\"color: #666666\">|</span><span style=\"color: #B00040\">k</span>transp<span style=\"color: #666666\">=0.0</span>,<span style=\"color: #bbbbbb\"> </span><span style=\"color: #B00040\">k</span>lag<span style=\"color: #666666\">=0.1</span>,<span style=\"color: #bbbbbb\"> </span><span style=\"color: #B00040\">k</span>pwm<span style=\"color: #666666\">=0.5|</span>\n",
       "</code></pre></div>\n",
       "</span>\n",
       "<span style=\"font-size:90%\"><div class=\"highlight\" style=\"background: #f8f8f8\"><pre style=\"line-height: 125%;\"><span></span><code><span style=\"color: #bbbbbb\">  </span><span style=\"color: #3D7B7B; font-style: italic\">; transposable pulse with pwm</span>\n",
       "<span style=\"color: #bbbbbb\">  </span><span style=\"color: #3D7B7B; font-style: italic\">; Args:</span>\n",
       "<span style=\"color: #bbbbbb\">  </span><span style=\"color: #3D7B7B; font-style: italic\">;   ktransp: transposition</span>\n",
       "<span style=\"color: #bbbbbb\">  </span><span style=\"color: #3D7B7B; font-style: italic\">;   klag: lag time for pitch</span>\n",
       "<span style=\"color: #bbbbbb\">  </span><span style=\"color: #3D7B7B; font-style: italic\">;   kpwm: pwm between 0-1</span>\n",
       "<span style=\"color: #bbbbbb\">  </span><span style=\"color: #B00040\">a</span>out1<span style=\"color: #bbbbbb\"> </span><span style=\"color: #008000\">vco2</span><span style=\"color: #bbbbbb\"> </span><span style=\"color: #B00040\">k</span>amp,<span style=\"color: #bbbbbb\"> </span><span style=\"color: #008000\">mtof</span>:<span style=\"color: #B00040\">k</span>(<span style=\"color: #008000\">lag</span>:<span style=\"color: #B00040\">k</span>(<span style=\"color: #B00040\">k</span>pitch<span style=\"color: #666666\">+</span><span style=\"color: #B00040\">k</span>transp,<span style=\"color: #bbbbbb\"> </span><span style=\"color: #B00040\">k</span>lag),<span style=\"color: #bbbbbb\"> </span><span style=\"color: #666666\">2</span>,<span style=\"color: #bbbbbb\"> </span><span style=\"color: #B00040\">k</span>pwm\n",
       "</code></pre></div>\n",
       "</span>\n",
       "<hr>\n",
       "Preset: <b>saw</b> - <span style=\"color:#A0A0A0\"><i>Transposable saw with optional low-pass filtering</i></span>\n",
       "<br>\n",
       "<code style=\"font-size: 90%\">  <span style=\"color:#A0A0A0;font-size:96%\">(routing=True, numouts=2, numsignals=1)\n",
       "</span></code>\n",
       "<ul style=\"line-height: 120%\">\n",
       "<li><span style=\"font-size:90%\"><strong>ktransp</strong></span>: <span style=\"font-size:90%\"><i>transposition interval</i></span></li>\n",
       "<li><span style=\"font-size:90%\"><strong>klag</strong></span>: <span style=\"font-size:90%\"><i>lag time when modifying pitch</i></span></li>\n",
       "<li><span style=\"font-size:90%\"><strong>kcutoffratio</strong></span>: <span style=\"font-size:90%\"><i>filter cutoff frequency as factor of the osc frequency</i></span></li>\n",
       "<li><span style=\"font-size:90%\"><strong>kfilterq</strong></span>: <span style=\"font-size:90%\"><i>filter resonance</i></span></li>\n",
       "</ul>\n",
       "<span style=\"font-size:96%\"><strong>code</strong></span>\n",
       "<span style=\"font-size:90%\"><div class=\"highlight\" style=\"background: #f8f8f8\"><pre style=\"line-height: 125%;\"><span></span><code><span style=\"color: #bbbbbb\">  </span><span style=\"color: #666666\">|</span><span style=\"color: #B00040\">k</span>transp<span style=\"color: #666666\">=0.0</span>,<span style=\"color: #bbbbbb\"> </span><span style=\"color: #B00040\">k</span>lag<span style=\"color: #666666\">=0.1</span>,<span style=\"color: #bbbbbb\"> </span><span style=\"color: #B00040\">k</span>cutoffratio<span style=\"color: #666666\">=0.0</span>,<span style=\"color: #bbbbbb\"> </span><span style=\"color: #B00040\">k</span>filterq<span style=\"color: #666666\">=3.0|</span>\n",
       "</code></pre></div>\n",
       "</span>\n",
       "<span style=\"font-size:90%\"><div class=\"highlight\" style=\"background: #f8f8f8\"><pre style=\"line-height: 125%;\"><span></span><code><span style=\"color: #bbbbbb\">  </span><span style=\"color: #3D7B7B; font-style: italic\">; Transposable saw with optional low-pass filtering</span>\n",
       "<span style=\"color: #bbbbbb\">  </span><span style=\"color: #3D7B7B; font-style: italic\">;  Args:</span>\n",
       "<span style=\"color: #bbbbbb\">  </span><span style=\"color: #3D7B7B; font-style: italic\">;    ktransp: transposition interval</span>\n",
       "<span style=\"color: #bbbbbb\">  </span><span style=\"color: #3D7B7B; font-style: italic\">;    klag: lag time when modifying pitch</span>\n",
       "<span style=\"color: #bbbbbb\">  </span><span style=\"color: #3D7B7B; font-style: italic\">;    kcutoffratio: filter cutoff frequency as factor of the osc frequency</span>\n",
       "<span style=\"color: #bbbbbb\">  </span><span style=\"color: #3D7B7B; font-style: italic\">;    kfilterq: filter resonance</span>\n",
       "<span style=\"color: #bbbbbb\">  </span><span style=\"color: #B00040\">k</span>freq<span style=\"color: #bbbbbb\"> </span><span style=\"color: #666666\">=</span><span style=\"color: #bbbbbb\"> </span><span style=\"color: #008000\">mtof</span>:<span style=\"color: #B00040\">k</span>(<span style=\"color: #008000\">lag</span>(<span style=\"color: #B00040\">k</span>pitch<span style=\"color: #bbbbbb\"> </span><span style=\"color: #666666\">+</span><span style=\"color: #bbbbbb\"> </span><span style=\"color: #B00040\">k</span>transp,<span style=\"color: #bbbbbb\"> </span><span style=\"color: #B00040\">k</span>lag))\n",
       "<span style=\"color: #bbbbbb\">  </span><span style=\"color: #B00040\">a</span>sig<span style=\"color: #bbbbbb\"> </span><span style=\"color: #666666\">=</span><span style=\"color: #bbbbbb\"> </span><span style=\"color: #008000\">vco2</span>(<span style=\"color: #666666\">1</span>,<span style=\"color: #bbbbbb\"> </span><span style=\"color: #B00040\">k</span>freq,<span style=\"color: #bbbbbb\"> </span><span style=\"color: #666666\">0</span>)<span style=\"color: #bbbbbb\"> </span><span style=\"color: #666666\">*</span><span style=\"color: #bbbbbb\"> </span><span style=\"color: #008000\">a</span>(<span style=\"color: #B00040\">k</span>amp)\n",
       "<span style=\"color: #bbbbbb\">  </span><span style=\"color: #B00040\">a</span>out1<span style=\"color: #bbbbbb\"> </span><span style=\"color: #666666\">=</span><span style=\"color: #bbbbbb\"> </span><span style=\"color: #B00040\">k</span>cutoffratio<span style=\"color: #bbbbbb\"> </span><span style=\"color: #666666\">==</span><span style=\"color: #bbbbbb\"> </span><span style=\"color: #666666\">0</span><span style=\"color: #bbbbbb\"> </span><span style=\"color: #666666\">?</span><span style=\"color: #bbbbbb\"> </span><span style=\"color: #B00040\">a</span>sig<span style=\"color: #bbbbbb\"> </span><span style=\"color: #666666\">:</span><span style=\"color: #bbbbbb\"> </span><span style=\"color: #008000\">K35_lpf</span>(<span style=\"color: #B00040\">a</span>sig,<span style=\"color: #bbbbbb\"> </span><span style=\"color: #B00040\">k</span>freq<span style=\"color: #666666\">*</span><span style=\"color: #B00040\">k</span>cutoffratio,<span style=\"color: #bbbbbb\"> </span><span style=\"color: #B00040\">k</span>filterq)\n",
       "</code></pre></div>\n",
       "</span>\n",
       "<hr>\n",
       "Preset: <b>simplesin</b> - <span style=\"color:#A0A0A0\"><i>simplest sine wave</i></span>\n",
       "<br>\n",
       "<code style=\"font-size: 90%\">  <span style=\"color:#A0A0A0;font-size:96%\">(routing=True, numouts=2, numsignals=1)\n",
       "</span></code>\n",
       "<span style=\"font-size:96%\"><strong>code</strong></span>\n",
       "<span style=\"font-size:90%\"><div class=\"highlight\" style=\"background: #f8f8f8\"><pre style=\"line-height: 125%;\"><span></span><code><span style=\"color: #bbbbbb\">  </span><span style=\"color: #B00040\">a</span>out1<span style=\"color: #bbbbbb\"> </span><span style=\"color: #008000\">oscili</span><span style=\"color: #bbbbbb\"> </span><span style=\"color: #008000\">a</span>(<span style=\"color: #B00040\">k</span>amp),<span style=\"color: #bbbbbb\"> </span><span style=\"color: #008000\">mtof</span>(<span style=\"color: #008000\">lag</span>(<span style=\"color: #B00040\">k</span>pitch,<span style=\"color: #bbbbbb\"> </span><span style=\"color: #666666\">0.01</span>))\n",
       "</code></pre></div>\n",
       "</span>\n",
       "<hr>\n",
       "Preset: <b>sin</b> - <span style=\"color:#A0A0A0\"><i>transposable sine wave</i></span>\n",
       "<br>\n",
       "<code style=\"font-size: 90%\">  <span style=\"color:#A0A0A0;font-size:96%\">(routing=True, numouts=2, numsignals=1)\n",
       "</span></code>\n",
       "<span style=\"font-size:96%\"><strong>code</strong></span>\n",
       "<span style=\"font-size:90%\"><div class=\"highlight\" style=\"background: #f8f8f8\"><pre style=\"line-height: 125%;\"><span></span><code><span style=\"color: #bbbbbb\">  </span><span style=\"color: #666666\">|</span><span style=\"color: #B00040\">k</span>transp<span style=\"color: #666666\">=0</span>,<span style=\"color: #bbbbbb\"> </span><span style=\"color: #B00040\">k</span>lag<span style=\"color: #666666\">=0.1|</span>\n",
       "</code></pre></div>\n",
       "</span>\n",
       "<span style=\"font-size:90%\"><div class=\"highlight\" style=\"background: #f8f8f8\"><pre style=\"line-height: 125%;\"><span></span><code><span style=\"color: #bbbbbb\">  </span><span style=\"color: #B00040\">a</span>out1<span style=\"color: #bbbbbb\"> </span><span style=\"color: #008000\">oscili</span><span style=\"color: #bbbbbb\"> </span><span style=\"color: #008000\">a</span>(<span style=\"color: #B00040\">k</span>amp),<span style=\"color: #bbbbbb\"> </span><span style=\"color: #008000\">mtof</span>(<span style=\"color: #008000\">lag</span>(<span style=\"color: #B00040\">k</span>pitch<span style=\"color: #666666\">+</span><span style=\"color: #B00040\">k</span>transp,<span style=\"color: #bbbbbb\"> </span><span style=\"color: #B00040\">k</span>lag))\n",
       "</code></pre></div>\n",
       "</span>\n",
       "<hr>\n",
       "Preset: <b>sqr</b> - <span style=\"color:#A0A0A0\"><i>square wave with optional filtering</i></span>\n",
       "<br>\n",
       "<code style=\"font-size: 90%\">  <span style=\"color:#A0A0A0;font-size:96%\">(routing=True, numouts=2, numsignals=1)\n",
       "</span></code>\n",
       "<ul style=\"line-height: 120%\">\n",
       "<li><span style=\"font-size:90%\"><strong>kcutoff</strong></span>: <span style=\"font-size:90%\"><i>filter cutoff frequency</i></span></li>\n",
       "<li><span style=\"font-size:90%\"><strong>kresonance</strong></span>: <span style=\"font-size:90%\"><i>resonance of the filter</i></span></li>\n",
       "</ul>\n",
       "<span style=\"font-size:96%\"><strong>code</strong></span>\n",
       "<span style=\"font-size:90%\"><div class=\"highlight\" style=\"background: #f8f8f8\"><pre style=\"line-height: 125%;\"><span></span><code><span style=\"color: #bbbbbb\">  </span><span style=\"color: #666666\">|</span><span style=\"color: #B00040\">k</span>transp<span style=\"color: #666666\">=0.0</span>,<span style=\"color: #bbbbbb\"> </span><span style=\"color: #B00040\">k</span>lag<span style=\"color: #666666\">=0.1</span>,<span style=\"color: #bbbbbb\"> </span><span style=\"color: #B00040\">k</span>cutoff<span style=\"color: #666666\">=0.0</span>,<span style=\"color: #bbbbbb\"> </span><span style=\"color: #B00040\">k</span>resonance<span style=\"color: #666666\">=0.2|</span>\n",
       "</code></pre></div>\n",
       "</span>\n",
       "<span style=\"font-size:90%\"><div class=\"highlight\" style=\"background: #f8f8f8\"><pre style=\"line-height: 125%;\"><span></span><code><span style=\"color: #bbbbbb\">  </span><span style=\"color: #3D7B7B; font-style: italic\">; square wave with optional filtering</span>\n",
       "<span style=\"color: #bbbbbb\">  </span><span style=\"color: #3D7B7B; font-style: italic\">; Args:</span>\n",
       "<span style=\"color: #bbbbbb\">  </span><span style=\"color: #3D7B7B; font-style: italic\">;    kcutoff: filter cutoff frequency</span>\n",
       "<span style=\"color: #bbbbbb\">  </span><span style=\"color: #3D7B7B; font-style: italic\">;    kresonance: resonance of the filter</span>\n",
       "<span style=\"color: #bbbbbb\">  </span><span style=\"color: #B00040\">a</span>out1<span style=\"color: #bbbbbb\"> </span><span style=\"color: #666666\">=</span><span style=\"color: #bbbbbb\"> </span><span style=\"color: #008000\">vco2</span>(<span style=\"color: #666666\">1</span>,<span style=\"color: #bbbbbb\"> </span><span style=\"color: #008000\">mtof</span>(<span style=\"color: #008000\">lag</span>(<span style=\"color: #B00040\">k</span>pitch<span style=\"color: #666666\">+</span><span style=\"color: #B00040\">k</span>transp,<span style=\"color: #bbbbbb\"> </span><span style=\"color: #B00040\">k</span>lag),<span style=\"color: #bbbbbb\"> </span><span style=\"color: #666666\">10</span>)<span style=\"color: #bbbbbb\"> </span><span style=\"color: #666666\">*</span><span style=\"color: #bbbbbb\"> </span><span style=\"color: #008000\">a</span>(<span style=\"color: #B00040\">k</span>amp)\n",
       "<span style=\"color: #bbbbbb\">  </span><span style=\"color: #B00040\">a</span>out1<span style=\"color: #bbbbbb\"> </span><span style=\"color: #666666\">=</span><span style=\"color: #bbbbbb\"> </span><span style=\"color: #B00040\">k</span>cutoff<span style=\"color: #bbbbbb\"> </span><span style=\"color: #666666\">==</span><span style=\"color: #bbbbbb\"> </span><span style=\"color: #666666\">0</span><span style=\"color: #bbbbbb\"> </span><span style=\"color: #666666\">?</span><span style=\"color: #bbbbbb\"> </span><span style=\"color: #B00040\">a</span>out1<span style=\"color: #bbbbbb\"> </span><span style=\"color: #666666\">:</span><span style=\"color: #bbbbbb\"> </span><span style=\"color: #008000\">moogladder</span><span style=\"color: #bbbbbb\"> </span><span style=\"color: #B00040\">a</span>out1,<span style=\"color: #bbbbbb\"> </span><span style=\"color: #008000\">lag</span>(<span style=\"color: #B00040\">k</span>cutoff,<span style=\"color: #bbbbbb\"> </span><span style=\"color: #666666\">0.1</span>),<span style=\"color: #bbbbbb\"> </span><span style=\"color: #B00040\">k</span>resonance\n",
       "</code></pre></div>\n",
       "</span>\n",
       "<hr>\n",
       "Preset: <b>tri</b> - <span style=\"color:#A0A0A0\"><i>transposable triangle wave with optional lowpass-filter</i></span>\n",
       "<br>\n",
       "<code style=\"font-size: 90%\">  <span style=\"color:#A0A0A0;font-size:96%\">(routing=True, numouts=2, numsignals=1)\n",
       "</span></code>\n",
       "<ul style=\"line-height: 120%\">\n",
       "<li><span style=\"font-size:90%\"><strong>ktransp</strong></span>: <span style=\"font-size:90%\"><i>transposition interval</i></span></li>\n",
       "<li><span style=\"font-size:90%\"><strong>klag</strong></span>: <span style=\"font-size:90%\"><i>lag time when modifying pitch</i></span></li>\n",
       "<li><span style=\"font-size:90%\"><strong>kcutoffratio</strong></span>: <span style=\"font-size:90%\"><i>cutoff frequency of the filter as a factor of the osc frequency</i></span></li>\n",
       "<li><span style=\"font-size:90%\"><strong>kfilterq</strong></span>: <span style=\"font-size:90%\"><i>filter resonance</i></span></li>\n",
       "</ul>\n",
       "<span style=\"font-size:96%\"><strong>code</strong></span>\n",
       "<span style=\"font-size:90%\"><div class=\"highlight\" style=\"background: #f8f8f8\"><pre style=\"line-height: 125%;\"><span></span><code><span style=\"color: #bbbbbb\">  </span><span style=\"color: #666666\">|</span><span style=\"color: #B00040\">k</span>transp<span style=\"color: #666666\">=0.0</span>,<span style=\"color: #bbbbbb\"> </span><span style=\"color: #B00040\">k</span>lag<span style=\"color: #666666\">=0.1</span>,<span style=\"color: #bbbbbb\"> </span><span style=\"color: #B00040\">k</span>cutoffratio<span style=\"color: #666666\">=0.0</span>,<span style=\"color: #bbbbbb\"> </span><span style=\"color: #B00040\">k</span>filterq<span style=\"color: #666666\">=3.0|</span>\n",
       "</code></pre></div>\n",
       "</span>\n",
       "<span style=\"font-size:90%\"><div class=\"highlight\" style=\"background: #f8f8f8\"><pre style=\"line-height: 125%;\"><span></span><code><span style=\"color: #bbbbbb\">  </span><span style=\"color: #3D7B7B; font-style: italic\">; transposable triangle wave with optional lowpass-filter</span>\n",
       "<span style=\"color: #bbbbbb\">  </span><span style=\"color: #3D7B7B; font-style: italic\">; Args:</span>\n",
       "<span style=\"color: #bbbbbb\">  </span><span style=\"color: #3D7B7B; font-style: italic\">;   ktransp: transposition interval</span>\n",
       "<span style=\"color: #bbbbbb\">  </span><span style=\"color: #3D7B7B; font-style: italic\">;   klag: lag time when modifying pitch</span>\n",
       "<span style=\"color: #bbbbbb\">  </span><span style=\"color: #3D7B7B; font-style: italic\">;   kcutoffratio: cutoff frequency of the filter as a factor of the osc frequency</span>\n",
       "<span style=\"color: #bbbbbb\">  </span><span style=\"color: #3D7B7B; font-style: italic\">;   kfilterq: filter resonance</span>\n",
       "<span style=\"color: #bbbbbb\">  </span><span style=\"color: #B00040\">k</span>freq<span style=\"color: #bbbbbb\"> </span><span style=\"color: #666666\">=</span><span style=\"color: #bbbbbb\"> </span><span style=\"color: #008000\">mtof</span>:<span style=\"color: #B00040\">k</span>(<span style=\"color: #008000\">lag</span>(<span style=\"color: #B00040\">k</span>pitch<span style=\"color: #bbbbbb\"> </span><span style=\"color: #666666\">+</span><span style=\"color: #bbbbbb\"> </span><span style=\"color: #B00040\">k</span>transp,<span style=\"color: #bbbbbb\"> </span><span style=\"color: #B00040\">k</span>lag))\n",
       "<span style=\"color: #bbbbbb\">  </span><span style=\"color: #B00040\">a</span>out1<span style=\"color: #bbbbbb\"> </span><span style=\"color: #666666\">=</span><span style=\"color: #bbbbbb\"> </span><span style=\"color: #008000\">vco2</span>(<span style=\"color: #666666\">1</span>,<span style=\"color: #bbbbbb\"> </span><span style=\"color: #B00040\">k</span>freq,<span style=\"color: #bbbbbb\">  </span><span style=\"color: #666666\">12</span>)<span style=\"color: #bbbbbb\"> </span><span style=\"color: #666666\">*</span><span style=\"color: #bbbbbb\"> </span><span style=\"color: #008000\">a</span>(<span style=\"color: #B00040\">k</span>amp)\n",
       "<span style=\"color: #bbbbbb\">  </span><span style=\"color: #008000; font-weight: bold\">if</span><span style=\"color: #bbbbbb\"> </span><span style=\"color: #B00040\">k</span>cutoffratio<span style=\"color: #bbbbbb\"> </span><span style=\"color: #666666\">&gt;</span><span style=\"color: #bbbbbb\"> </span><span style=\"color: #666666\">0</span><span style=\"color: #bbbbbb\"> </span><span style=\"color: #008000; font-weight: bold\">then</span>\n",
       "<span style=\"color: #bbbbbb\">     </span><span style=\"color: #B00040\">a</span>out1<span style=\"color: #bbbbbb\"> </span><span style=\"color: #666666\">=</span><span style=\"color: #bbbbbb\"> </span><span style=\"color: #008000\">K35_lpf</span>(<span style=\"color: #B00040\">a</span>out1,<span style=\"color: #bbbbbb\"> </span><span style=\"color: #B00040\">k</span>freq<span style=\"color: #666666\">*</span><span style=\"color: #B00040\">k</span>cutoffratio,<span style=\"color: #bbbbbb\"> </span><span style=\"color: #B00040\">k</span>filterq)\n",
       "<span style=\"color: #bbbbbb\">  </span><span style=\"color: #008000; font-weight: bold\">endif</span>\n",
       "</code></pre></div>\n",
       "</span>\n",
       "<hr>"
      ],
      "text/plain": [
       "<IPython.core.display.HTML object>"
      ]
     },
     "metadata": {},
     "output_type": "display_data"
    }
   ],
   "source": [
    "presetManager.showPresets('*', full=True)\n"
   ]
  },
  {
   "cell_type": "code",
   "execution_count": 2,
   "id": "6d991f35-b48b-40d8-a49a-2a18b44619a1",
   "metadata": {},
   "outputs": [
    {
     "name": "stderr",
     "output_type": "stream",
     "text": [
      "\n",
      "\n",
      "\n",
      "--Csound version 6.19 (double samples) Jan 13 2024\n",
      "[commit: c53556fbbb69d14554a4a4bd91efa441a1701d70]\n",
      "\u001b[mlibsndfile-1.2.0\n",
      "\u001b[msr = 44100.0,\u001b[m kr = 689.062,\u001b[m ksmps = 64\n",
      "\u001b[m0dBFS level = 1.0,\u001b[m A4 tuning = 442.0\n",
      "\u001b[maudio buffered in 256 sample-frame blocks\n",
      "\u001b[mreading 2048-byte blks of shorts from adc:Built-in Audio Pro: (RAW)\n",
      "writing 512 sample blks of 64-bit floats to dac:Built-in Audio Pro:\n",
      "SECTION 1:\n",
      "\u001b[m"
     ]
    }
   ],
   "source": [
    "s = playSession(latency=0)"
   ]
  },
  {
   "cell_type": "code",
   "execution_count": 3,
   "id": "9b400b32-0495-490b-8586-d3c54bd6b282",
   "metadata": {},
   "outputs": [
    {
     "data": {
      "text/html": [
       "Instr <strong style=\"color:MediumSeaGreen\">master</strong><br>\n",
       "&nbsp&nbsp&nbsp&nbsp<span style=\"font-size:90%\"><b>ibusL</b>:p5=<code>0</code></span>, <span style=\"font-size:90%\"><b>ibusR</b>:p6=<code>0</code></span>, <span style=\"font-size:90%\"><b>kgain</b>:p7=<code>1</code></span><br>\n",
       "<hr style=\"width:38%;text-align:left;margin-left:0\">\n",
       "<span style=\"font-size:90%\"><div class=\"highlight\" style=\"background: #f8f8f8\"><pre style=\"line-height: 125%;\"><span></span><code><span style=\"color: #B00040\">a</span>L<span style=\"color: #bbbbbb\"> </span>busin<span style=\"color: #bbbbbb\"> </span><span style=\"color: #B00040\">i</span>busL\n",
       "<span style=\"color: #B00040\">a</span>R<span style=\"color: #bbbbbb\"> </span>busin<span style=\"color: #bbbbbb\"> </span><span style=\"color: #B00040\">i</span>busR\n",
       "<span style=\"color: #008000\">outch</span><span style=\"color: #bbbbbb\"> </span><span style=\"color: #666666\">1</span>,<span style=\"color: #bbbbbb\"> </span><span style=\"color: #B00040\">a</span>L<span style=\"color: #bbbbbb\"> </span><span style=\"color: #666666\">*</span><span style=\"color: #bbbbbb\"> </span><span style=\"color: #B00040\">k</span>gain,<span style=\"color: #bbbbbb\"> </span><span style=\"color: #666666\">2</span>,<span style=\"color: #bbbbbb\"> </span><span style=\"color: #B00040\">a</span>R<span style=\"color: #bbbbbb\"> </span><span style=\"color: #666666\">*</span><span style=\"color: #bbbbbb\"> </span><span style=\"color: #B00040\">k</span>gain\n",
       "</code></pre></div>\n",
       "</span>"
      ],
      "text/plain": [
       "Instr(master, ibusL:5=0, ibusR:6=0, kgain:7=1)"
      ]
     },
     "execution_count": 3,
     "metadata": {},
     "output_type": "execute_result"
    }
   ],
   "source": [
    "foo = defPreset('foo', r'''\n",
    "|ibusL, ibusR|\n",
    "prints \"ibusL: %d, ibusR: %d\\n\", ibusL, ibusR\n",
    "aout1 vco2 kamp, kfreq\n",
    "aout2 vco2 kamp, kfreq+4\n",
    "\n",
    "busmix ibusL, aout1\n",
    "busmix ibusR, aout2\n",
    "''', output=False)\n",
    "\n",
    "s.defInstr('master', r'''\n",
    "    |ibusL, ibusR, kgain=1|\n",
    "    aL busin ibusL\n",
    "    aR busin ibusR\n",
    "    outch 1, aL * kgain, 2, aR * kgain\n",
    "    ''')"
   ]
  },
  {
   "cell_type": "code",
   "execution_count": 4,
   "id": "a9287dc4-7602-47d0-ae07-7860e7950b45",
   "metadata": {},
   "outputs": [],
   "source": [
    "busL = s.assignBus()\n",
    "busR = s.assignBus()\n"
   ]
  },
  {
   "cell_type": "code",
   "execution_count": 5,
   "id": "a790ff94-593c-47c3-b904-87f27ee13200",
   "metadata": {},
   "outputs": [],
   "source": [
    "master = s.sched('master', args=dict(ibusL=busL, ibusR=busR), priority=2)"
   ]
  },
  {
   "cell_type": "code",
   "execution_count": 6,
   "id": "07923c11-5263-4a83-9cfc-baf6765cee26",
   "metadata": {},
   "outputs": [
    {
     "data": {
      "application/vnd.jupyter.widget-view+json": {
       "model_id": "a26953629a0e41e9899f70442f3124fe",
       "version_major": 2,
       "version_minor": 0
      },
      "text/plain": [
       "Button(description='Stop', style=ButtonStyle())"
      ]
     },
     "metadata": {},
     "output_type": "display_data"
    },
    {
     "name": "stderr",
     "output_type": "stream",
     "text": [
      "ibusL: 0, ibusR: 1\n",
      "\u001b[m"
     ]
    },
    {
     "data": {
      "application/vnd.jupyter.widget-view+json": {
       "model_id": "4b6f5fc68be24aadb4c61abc982245b3",
       "version_major": 2,
       "version_minor": 0
      },
      "text/plain": [
       "Output()"
      ]
     },
     "metadata": {},
     "output_type": "display_data"
    },
    {
     "data": {
      "text/html": [
       "<small><span style=\"\"><b>SynthGroup</b></span>(synths=<code style=\"\">1</code>)</small>\n",
       "<p><small>Instr: <strong style=\"color:MediumSeaGreen\">preset:foo</strong> - <b>1</b> synths</small></p>\n",
       "<table style=\"font-size: smaller\"<thead><tr><th style=\"text-align:left\">p1</th><th style=\"text-align:left\">start</th><th style=\"text-align:left\">dur</th><th style=\"text-align:left\">p4</th><th style=\"text-align:left\">kpos</th><th style=\"text-align:left\">kgain</th><th style=\"text-align:left\">idataidx_</th><th style=\"text-align:left\">inumbps</th><th style=\"text-align:left\">ibplen</th><th style=\"text-align:left\">ichan</th><th style=\"text-align:left\">ifadein</th><th style=\"text-align:left\">...</th></tr></thead><tbody><tr><td style=\"text-align:left\">501.0002 <b>▶</b></td><td style=\"text-align:left\">-0.007</td><td style=\"text-align:left\">30.000</td><td style=\"text-align:left\">0</td><td style=\"text-align:left\">0.5</td><td style=\"text-align:left\">0.01</td><td style=\"text-align:left\">17</td><td style=\"text-align:left\">2</td><td style=\"text-align:left\">3</td><td style=\"text-align:left\">1</td><td style=\"text-align:left\">...</td></tr></tbody></table>"
      ],
      "text/plain": [
       "SynthGroup(n=1)\n",
       "    Synth(▶ preset:foo=501.0002 start=5.098 dur=30.000 p4=0.5 kpos=0.01 kgain=17 idataidx_=2 inumbps=3 ibplen=1 ichan=0.02 …)"
      ]
     },
     "execution_count": 6,
     "metadata": {},
     "output_type": "execute_result"
    }
   ],
   "source": [
    "Note(60.5, 30).play(instr='foo', gain=0.01, ibusL=busL, ibusR=busR)"
   ]
  },
  {
   "cell_type": "code",
   "execution_count": 9,
   "id": "56fe6cdd-fe37-47b4-b9c2-3c1eb21e29c6",
   "metadata": {},
   "outputs": [],
   "source": [
    "master.set('kgain', 0.5)"
   ]
  },
  {
   "cell_type": "code",
   "execution_count": 13,
   "id": "9247b031-e1fd-4377-aa52-366fad3a18b7",
   "metadata": {},
   "outputs": [],
   "source": [
    "master.stop()"
   ]
  },
  {
   "cell_type": "code",
   "execution_count": 10,
   "id": "68ebdac5-107d-4ad4-90a5-05e9106e6ec3",
   "metadata": {},
   "outputs": [],
   "source": [
    "foo = s.defInstr('foo', r'''\n",
    "    |itime, Sfoo|\n",
    "    ielapsed times\n",
    "    prints \"Sfoo: %s, itime: %f, ielapsed: %f, diff: %f\\n\", Sfoo, itime, ielapsed, ielapsed - itime \n",
    "    turnoff\n",
    "''', priority=1)"
   ]
  },
  {
   "cell_type": "code",
   "execution_count": 15,
   "id": "a8aeb2e8-bf51-4766-9f5d-ef989c1a4c9b",
   "metadata": {},
   "outputs": [
    {
     "name": "stderr",
     "output_type": "stream",
     "text": [
      "Sfoo: bar, itime: 74.107937, ielapsed: 74.107937, diff: 0.000000\n",
      "\u001b[m"
     ]
    },
    {
     "data": {
      "application/vnd.jupyter.widget-view+json": {
       "model_id": "f1207bf83ac542959ea98a09db2849d1",
       "version_major": 2,
       "version_minor": 0
      },
      "text/plain": [
       "Button(description='Stop', style=ButtonStyle())"
      ]
     },
     "metadata": {},
     "output_type": "display_data"
    },
    {
     "data": {
      "application/vnd.jupyter.widget-view+json": {
       "model_id": "3222da1a30a14611a1dffba005176be8",
       "version_major": 2,
       "version_minor": 0
      },
      "text/plain": [
       "Output()"
      ]
     },
     "metadata": {},
     "output_type": "display_data"
    },
    {
     "data": {
      "text/html": [
       "<p><span style=\"font-size:12px;\">Synth(▶ <strong style=\"color:MediumSeaGreen\">foo</strong>:502.0006, <span style=\"font-size:12px;\">5:<b>itime</b>=<code>74.1079</code> 6:<b>Sfoo</b>=<code>bar</code></span>)</span></p>"
      ],
      "text/plain": [
       "Synth(▶ foo=502.0006 start=74.108 dur=1.000 p4=74.1079 itime=bar)"
      ]
     },
     "execution_count": 15,
     "metadata": {},
     "output_type": "execute_result"
    }
   ],
   "source": [
    "s.sched(\"foo\", 0, 1, args={'Sfoo': 'bar', 'itime': s.engine.realElapsedTime()})"
   ]
  },
  {
   "cell_type": "code",
   "execution_count": 16,
   "id": "9300a34a-1632-472c-8a26-1599074e6729",
   "metadata": {},
   "outputs": [
    {
     "data": {
      "text/plain": [
       "{'cos': 20, 'linear': 21, 'smooth': 22, 'smoother': 23, 'bar': 24}"
      ]
     },
     "execution_count": 16,
     "metadata": {},
     "output_type": "execute_result"
    }
   ],
   "source": [
    "s.engine._strToIndex"
   ]
  },
  {
   "cell_type": "code",
   "execution_count": 17,
   "id": "a2298f94-93a8-4146-99c0-27b5cdaf39f3",
   "metadata": {},
   "outputs": [],
   "source": [
    "test = s.defInstr('test', r'''\n",
    "    |istrid|\n",
    "    S0 = strget(istrid)\n",
    "    prints \"S0: %s\\n\", S0\n",
    "    turnoff\n",
    "''')"
   ]
  },
  {
   "cell_type": "code",
   "execution_count": 18,
   "id": "dd5303ca-8e21-4c89-873a-4857a6658e02",
   "metadata": {},
   "outputs": [],
   "source": [
    "jiji = s.engine.strSet('jiji')"
   ]
  },
  {
   "cell_type": "code",
   "execution_count": 19,
   "id": "01916b33-6cb5-47c7-9c14-7f161429856e",
   "metadata": {},
   "outputs": [
    {
     "data": {
      "application/vnd.jupyter.widget-view+json": {
       "model_id": "b6f46ebe013048698c2d62438f2c1477",
       "version_major": 2,
       "version_minor": 0
      },
      "text/plain": [
       "Button(description='Stop', style=ButtonStyle())"
      ]
     },
     "metadata": {},
     "output_type": "display_data"
    },
    {
     "data": {
      "application/vnd.jupyter.widget-view+json": {
       "model_id": "3002b804fa8649c8b706252255e5a976",
       "version_major": 2,
       "version_minor": 0
      },
      "text/plain": [
       "Output()"
      ]
     },
     "metadata": {},
     "output_type": "display_data"
    },
    {
     "name": "stderr",
     "output_type": "stream",
     "text": [
      "S0: jiji\n",
      "\u001b[m"
     ]
    },
    {
     "data": {
      "text/html": [
       "<p><span style=\"font-size:12px;\">Synth(▶ <strong style=\"color:MediumSeaGreen\">test</strong>:503.0002)</span></p>"
      ],
      "text/plain": [
       "Synth(▶ test=503.0002 start=103.771 dur=1.000 p4=25)"
      ]
     },
     "execution_count": 19,
     "metadata": {},
     "output_type": "execute_result"
    }
   ],
   "source": [
    "s.sched('test', 0, 1, args={'istrid': jiji})"
   ]
  },
  {
   "cell_type": "code",
   "execution_count": 20,
   "id": "1f3c0bf9-0b3e-41b6-a64e-60d90b2b9674",
   "metadata": {},
   "outputs": [],
   "source": [
    "test = s.defInstr('test', r'''\n",
    "    |ichan=0|\n",
    "    prints \"ichan: %d\\n\", ichan\n",
    "    Schan = \"bar\"\n",
    "    ; Schan strget ichan\n",
    "    prints \"Schan: %s\\n\", Schan\n",
    "    a0 oscili 0.1, 1000\n",
    "    ; chnset a0, Schan\n",
    "''')\n"
   ]
  },
  {
   "cell_type": "code",
   "execution_count": 21,
   "id": "7de85b31-1a61-499b-af93-9b322c562168",
   "metadata": {},
   "outputs": [
    {
     "name": "stdout",
     "output_type": "stream",
     "text": [
      "ichan = p5\n",
      "prints \"ichan: %d\\n\", ichan\n",
      "Schan = \"bar\"\n",
      "; Schan strget ichan\n",
      "prints \"Schan: %s\\n\", Schan\n",
      "a0 oscili 0.1, 1000\n",
      "; chnset a0, Schan\n",
      "atstop 1, 0.01, 0, p1\n"
     ]
    }
   ],
   "source": [
    "print(s.generateInstrBody(test))"
   ]
  },
  {
   "cell_type": "code",
   "execution_count": 22,
   "id": "b403462b-8394-4c56-96a4-954082efacd8",
   "metadata": {},
   "outputs": [
    {
     "data": {
      "text/plain": [
       "26"
      ]
     },
     "execution_count": 22,
     "metadata": {},
     "output_type": "execute_result"
    }
   ],
   "source": [
    "ichan = s.engine.strSet('foo')\n",
    "ichan"
   ]
  },
  {
   "cell_type": "code",
   "execution_count": 23,
   "id": "21a97a16-0c0b-458c-9fea-0c8736e9803f",
   "metadata": {},
   "outputs": [
    {
     "data": {
      "application/vnd.jupyter.widget-view+json": {
       "model_id": "b4213d8e921b4252856f9731e85c449d",
       "version_major": 2,
       "version_minor": 0
      },
      "text/plain": [
       "Button(description='Stop', style=ButtonStyle())"
      ]
     },
     "metadata": {},
     "output_type": "display_data"
    },
    {
     "name": "stderr",
     "output_type": "stream",
     "text": [
      "ichan: 0\n",
      "\u001b[mSchan: bar\n",
      "\u001b[m"
     ]
    },
    {
     "data": {
      "application/vnd.jupyter.widget-view+json": {
       "model_id": "5e2da19c1b354cb88820f6d6360e1ca1",
       "version_major": 2,
       "version_minor": 0
      },
      "text/plain": [
       "Output()"
      ]
     },
     "metadata": {},
     "output_type": "display_data"
    },
    {
     "data": {
      "text/html": [
       "<p><span style=\"font-size:12px;\">Synth(▶ <strong style=\"color:MediumSeaGreen\">test</strong>:503.0003)</span></p>"
      ],
      "text/plain": [
       "Synth(▶ test=503.0003 start=112.688 dur=-1.000 p4=0)"
      ]
     },
     "execution_count": 23,
     "metadata": {},
     "output_type": "execute_result"
    }
   ],
   "source": [
    "s.sched('test', args={'ichan': 0})"
   ]
  }
 ],
 "metadata": {
  "kernelspec": {
   "display_name": "Python 3 (ipykernel)",
   "language": "python",
   "name": "python3"
  },
  "language_info": {
   "codemirror_mode": {
    "name": "ipython",
    "version": 3
   },
   "file_extension": ".py",
   "mimetype": "text/x-python",
   "name": "python",
   "nbconvert_exporter": "python",
   "pygments_lexer": "ipython3",
   "version": "3.11.6"
  }
 },
 "nbformat": 4,
 "nbformat_minor": 5
}
