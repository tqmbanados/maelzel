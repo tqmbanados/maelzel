{
 "cells": [
  {
   "cell_type": "code",
   "execution_count": 1,
   "id": "de7196eb-d3c3-4f28-bba4-038d3ae76ef0",
   "metadata": {},
   "outputs": [],
   "source": [
    "from maelzel.core import *"
   ]
  },
  {
   "cell_type": "code",
   "execution_count": 2,
   "id": "e11accb8-5515-4c26-b88e-8e12924ea13a",
   "metadata": {},
   "outputs": [
    {
     "data": {
      "text/html": [
       "Preset: <b>.sing</b> - <span style=\"color:#A0A0A0\"><i>Simple vowel singing simulation</i></span>\n",
       "<br>\n",
       "<code style=\"font-size: 90%\">  <span style=\"color:#A0A0A0;font-size:96%\">(routing=True, numouts=2, numsignals=1)\n",
       "</span></code>\n",
       "<ul style=\"line-height: 120%\">\n",
       "<li><span style=\"font-size:90%\"><strong>kx</strong></span>: <span style=\"font-size:90%\"><i>x coordinate, from 0 to 1, A=(0;0), E=(0.5;0.5), I=(1;0), O=(0;1), U=(1;1)</i></span></li>\n",
       "<li><span style=\"font-size:90%\"><strong>ky</strong></span>: <span style=\"font-size:90%\"><i>y coordinate, from 0 to 1, A=(0;0), E=(0.5;0.5), I=(1;0), O=(0;1), U=(1;1)</i></span></li>\n",
       "<li><span style=\"font-size:90%\"><strong>kvibamount</strong></span>: <span style=\"font-size:90%\"><i>vibrato amount, 0 to 1</i></span></li>\n",
       "<li><span style=\"font-size:90%\"><strong>ivibstart</strong></span>: <span style=\"font-size:90%\"><i>start time of vibrato</i></span></li>\n",
       "<li><span style=\"font-size:90%\"><strong>ivibfreq</strong></span>: <span style=\"font-size:90%\"><i>vibrato frequency</i></span></li>\n",
       "<li><span style=\"font-size:90%\"><strong>ivibrange</strong></span>: <span style=\"font-size:90%\"><i>vibrato range in semitones</i></span></li>\n",
       "<li><span style=\"font-size:90%\"><strong>ipitchlag</strong></span>: <span style=\"font-size:90%\"><i>time lag for pitch modifications</i></span></li>\n",
       "</ul>\n",
       "<span style=\"font-size:96%\"><strong>init</strong></span>\n",
       "<span style=\"font-size:90%\"><div class=\"highlight\" style=\"background: #f8f8f8\"><pre style=\"line-height: 125%;\"><span></span><code><span style=\"color: #bbbbbb\">  </span><span style=\"color: #B00040\">gi</span>__formantFreqs__[]<span style=\"color: #bbbbbb\"> </span><span style=\"color: #008000\">fillarray</span><span style=\"color: #bbbbbb\"> </span>\\\n",
       "<span style=\"color: #bbbbbb\">      </span><span style=\"color: #666666\">668</span>,<span style=\"color: #bbbbbb\"> </span><span style=\"color: #666666\">1191</span>,<span style=\"color: #bbbbbb\"> </span><span style=\"color: #666666\">2428</span>,<span style=\"color: #bbbbbb\"> </span><span style=\"color: #666666\">3321</span>,<span style=\"color: #bbbbbb\"> </span><span style=\"color: #666666\">4600</span>,<span style=\"color: #bbbbbb\"> </span><span style=\"border: 1px solid #FF0000\">\\</span><span style=\"color: #bbbbbb\">  </span><span style=\"color: #3D7B7B; font-style: italic\">; A</span>\n",
       "<span style=\"color: #bbbbbb\">      </span><span style=\"color: #666666\">327</span>,<span style=\"color: #bbbbbb\"> </span><span style=\"color: #666666\">2157</span>,<span style=\"color: #bbbbbb\"> </span><span style=\"color: #666666\">2754</span>,<span style=\"color: #bbbbbb\"> </span><span style=\"color: #666666\">3630</span>,<span style=\"color: #bbbbbb\"> </span><span style=\"color: #666666\">4600</span>,<span style=\"color: #bbbbbb\"> </span><span style=\"border: 1px solid #FF0000\">\\</span><span style=\"color: #bbbbbb\">  </span><span style=\"color: #3D7B7B; font-style: italic\">; E </span>\n",
       "<span style=\"color: #bbbbbb\">      </span><span style=\"color: #666666\">208</span>,<span style=\"color: #bbbbbb\"> </span><span style=\"color: #666666\">2152</span>,<span style=\"color: #bbbbbb\"> </span><span style=\"color: #666666\">3128</span>,<span style=\"color: #bbbbbb\"> </span><span style=\"color: #666666\">3425</span>,<span style=\"color: #bbbbbb\"> </span><span style=\"color: #666666\">4200</span>,<span style=\"color: #bbbbbb\"> </span><span style=\"border: 1px solid #FF0000\">\\</span><span style=\"color: #bbbbbb\">  </span><span style=\"color: #3D7B7B; font-style: italic\">; I</span>\n",
       "<span style=\"color: #bbbbbb\">      </span><span style=\"color: #666666\">335</span>,<span style=\"color: #bbbbbb\"> </span><span style=\"color: #666666\">628</span>,<span style=\"color: #bbbbbb\"> </span><span style=\"color: #666666\">2689</span>,<span style=\"color: #bbbbbb\"> </span><span style=\"color: #666666\">3515</span>,<span style=\"color: #bbbbbb\"> </span><span style=\"color: #666666\">4200</span>,<span style=\"color: #bbbbbb\"> </span><span style=\"border: 1px solid #FF0000\">\\</span><span style=\"color: #bbbbbb\">   </span><span style=\"color: #3D7B7B; font-style: italic\">; O</span>\n",
       "<span style=\"color: #bbbbbb\">      </span><span style=\"color: #666666\">254</span>,<span style=\"color: #bbbbbb\"> </span><span style=\"color: #666666\">796</span>,<span style=\"color: #bbbbbb\"> </span><span style=\"color: #666666\">2515</span>,<span style=\"color: #bbbbbb\"> </span><span style=\"color: #666666\">3274</span>,<span style=\"color: #bbbbbb\"> </span><span style=\"color: #666666\">4160</span><span style=\"color: #bbbbbb\">      </span><span style=\"color: #3D7B7B; font-style: italic\">; U</span>\n",
       "\n",
       "<span style=\"color: #bbbbbb\">  </span><span style=\"color: #B00040\">gi</span>__formantDbs__[]<span style=\"color: #bbbbbb\"> </span><span style=\"color: #008000\">fillarray</span><span style=\"color: #bbbbbb\">   </span>\\\n",
       "<span style=\"color: #bbbbbb\">      </span><span style=\"color: #666666\">28</span>,<span style=\"color: #bbbbbb\"> </span><span style=\"color: #666666\">28</span>,<span style=\"color: #bbbbbb\"> </span><span style=\"color: #666666\">22</span>,<span style=\"color: #bbbbbb\"> </span><span style=\"color: #666666\">20</span>,<span style=\"color: #bbbbbb\"> </span><span style=\"color: #666666\">20</span>,<span style=\"color: #bbbbbb\"> </span>\\\n",
       "<span style=\"color: #bbbbbb\">      </span><span style=\"color: #666666\">15</span>,<span style=\"color: #bbbbbb\"> </span><span style=\"color: #666666\">25</span>,<span style=\"color: #bbbbbb\"> </span><span style=\"color: #666666\">24</span>,<span style=\"color: #bbbbbb\"> </span><span style=\"color: #666666\">20</span>,<span style=\"color: #bbbbbb\"> </span><span style=\"color: #666666\">23</span>,<span style=\"color: #bbbbbb\"> </span>\\\n",
       "<span style=\"color: #bbbbbb\">      </span><span style=\"color: #666666\">10</span>,<span style=\"color: #bbbbbb\"> </span><span style=\"color: #666666\">20</span>,<span style=\"color: #bbbbbb\"> </span><span style=\"color: #666666\">27</span>,<span style=\"color: #bbbbbb\"> </span><span style=\"color: #666666\">26</span>,<span style=\"color: #bbbbbb\"> </span><span style=\"color: #666666\">20</span>,<span style=\"color: #bbbbbb\"> </span>\\\n",
       "<span style=\"color: #bbbbbb\">      </span><span style=\"color: #666666\">15</span>,<span style=\"color: #bbbbbb\"> </span><span style=\"color: #666666\">18</span>,<span style=\"color: #bbbbbb\"> </span><span style=\"color: #666666\">5</span>,<span style=\"color: #bbbbbb\">  </span><span style=\"color: #666666\">7</span>,<span style=\"color: #bbbbbb\">  </span><span style=\"color: #666666\">12</span>,<span style=\"color: #bbbbbb\"> </span>\\\n",
       "<span style=\"color: #bbbbbb\">      </span><span style=\"color: #666666\">12</span>,<span style=\"color: #bbbbbb\"> </span><span style=\"color: #666666\">10</span>,<span style=\"color: #bbbbbb\"> </span><span style=\"color: #666666\">6</span>,<span style=\"color: #bbbbbb\">  </span><span style=\"color: #666666\">5</span>,<span style=\"color: #bbbbbb\">  </span><span style=\"color: #666666\">12</span>\n",
       "\n",
       "<span style=\"color: #bbbbbb\">  </span><span style=\"color: #B00040\">gi</span>__formantBws__[]<span style=\"color: #bbbbbb\"> </span><span style=\"color: #008000\">fillarray</span><span style=\"color: #bbbbbb\">   </span>\\\n",
       "<span style=\"color: #bbbbbb\">      </span><span style=\"color: #666666\">80</span>,<span style=\"color: #bbbbbb\"> </span><span style=\"color: #666666\">90</span>,<span style=\"color: #bbbbbb\"> </span><span style=\"color: #666666\">120</span>,<span style=\"color: #bbbbbb\"> </span><span style=\"color: #666666\">130</span>,<span style=\"color: #bbbbbb\"> </span><span style=\"color: #666666\">140</span>,<span style=\"color: #bbbbbb\"> </span>\\\n",
       "<span style=\"color: #bbbbbb\">      </span><span style=\"color: #666666\">60</span>,<span style=\"color: #bbbbbb\"> </span><span style=\"color: #666666\">100</span>,<span style=\"color: #bbbbbb\"> </span><span style=\"color: #666666\">120</span>,<span style=\"color: #bbbbbb\"> </span><span style=\"color: #666666\">150</span>,<span style=\"color: #bbbbbb\"> </span><span style=\"color: #666666\">200</span>,<span style=\"color: #bbbbbb\"> </span>\\\n",
       "<span style=\"color: #bbbbbb\">      </span><span style=\"color: #666666\">60</span>,<span style=\"color: #bbbbbb\"> </span><span style=\"color: #666666\">90</span>,<span style=\"color: #bbbbbb\"> </span><span style=\"color: #666666\">100</span>,<span style=\"color: #bbbbbb\"> </span><span style=\"color: #666666\">120</span>,<span style=\"color: #bbbbbb\"> </span><span style=\"color: #666666\">120</span>,<span style=\"color: #bbbbbb\"> </span>\\\n",
       "<span style=\"color: #bbbbbb\">      </span><span style=\"color: #666666\">40</span>,<span style=\"color: #bbbbbb\"> </span><span style=\"color: #666666\">80</span>,<span style=\"color: #bbbbbb\"> </span><span style=\"color: #666666\">100</span>,<span style=\"color: #bbbbbb\"> </span><span style=\"color: #666666\">120</span>,<span style=\"color: #bbbbbb\"> </span><span style=\"color: #666666\">120</span>,<span style=\"color: #bbbbbb\"> </span>\\\n",
       "<span style=\"color: #bbbbbb\">      </span><span style=\"color: #666666\">50</span>,<span style=\"color: #bbbbbb\"> </span><span style=\"color: #666666\">60</span>,<span style=\"color: #bbbbbb\"> </span><span style=\"color: #666666\">170</span>,<span style=\"color: #bbbbbb\"> </span><span style=\"color: #666666\">180</span>,<span style=\"color: #bbbbbb\"> </span><span style=\"color: #666666\">200</span>\n",
       "\n",
       "<span style=\"color: #bbbbbb\">  </span><span style=\"color: #B00040\">gi</span>__formantAmps__[]<span style=\"color: #bbbbbb\"> </span><span style=\"color: #008000\">maparray</span><span style=\"color: #bbbbbb\"> </span><span style=\"color: #B00040\">gi</span>__formantDbs__,<span style=\"color: #bbbbbb\"> </span><span style=\"color: #BA2121\">&quot;ampdb&quot;</span>\n",
       "<span style=\"color: #bbbbbb\">  </span><span style=\"color: #008000\">reshapearray</span><span style=\"color: #bbbbbb\"> </span><span style=\"color: #B00040\">gi</span>__formantFreqs__,<span style=\"color: #bbbbbb\"> </span><span style=\"color: #666666\">5</span>,<span style=\"color: #bbbbbb\"> </span><span style=\"color: #666666\">5</span>\n",
       "<span style=\"color: #bbbbbb\">  </span><span style=\"color: #008000\">reshapearray</span><span style=\"color: #bbbbbb\"> </span><span style=\"color: #B00040\">gi</span>__formantAmps__,<span style=\"color: #bbbbbb\"> </span><span style=\"color: #666666\">5</span>,<span style=\"color: #bbbbbb\"> </span><span style=\"color: #666666\">5</span>\n",
       "<span style=\"color: #bbbbbb\">  </span><span style=\"color: #008000\">reshapearray</span><span style=\"color: #bbbbbb\"> </span><span style=\"color: #B00040\">gi</span>__formantBws__,<span style=\"color: #bbbbbb\"> </span><span style=\"color: #666666\">5</span>,<span style=\"color: #bbbbbb\"> </span><span style=\"color: #666666\">5</span>\n",
       "</code></pre></div>\n",
       "</span>\n",
       "<span style=\"font-size:96%\"><strong>audiogen</strong></span>\n",
       "<span style=\"font-size:90%\"><div class=\"highlight\" style=\"background: #f8f8f8\"><pre style=\"line-height: 125%;\"><span></span><code><span style=\"color: #bbbbbb\">  </span><span style=\"color: #666666\">|</span><span style=\"color: #B00040\">k</span>x<span style=\"color: #666666\">=0.0</span>,<span style=\"color: #bbbbbb\"> </span><span style=\"color: #B00040\">k</span>y<span style=\"color: #666666\">=0.0</span>,<span style=\"color: #bbbbbb\"> </span><span style=\"color: #B00040\">k</span>vibamount<span style=\"color: #666666\">=1.0</span>,<span style=\"color: #bbbbbb\"> </span><span style=\"color: #B00040\">i</span>vibstart<span style=\"color: #666666\">=0.5</span>,<span style=\"color: #bbbbbb\"> </span><span style=\"color: #B00040\">i</span>vibfreq<span style=\"color: #666666\">=4.5</span>,<span style=\"color: #bbbbbb\"> </span><span style=\"color: #B00040\">i</span>vibrange<span style=\"color: #666666\">=0.25</span>,<span style=\"color: #bbbbbb\"> </span><span style=\"color: #B00040\">i</span>pitchlag<span style=\"color: #666666\">=0.2|</span>\n",
       "</code></pre></div>\n",
       "</span>\n",
       "<span style=\"font-size:90%\"><div class=\"highlight\" style=\"background: #f8f8f8\"><pre style=\"line-height: 125%;\"><span></span><code><span style=\"color: #bbbbbb\">  </span><span style=\"color: #3D7B7B; font-style: italic\">; Simple vowel singing simulation</span>\n",
       "<span style=\"color: #bbbbbb\">  </span><span style=\"color: #3D7B7B; font-style: italic\">; Args:</span>\n",
       "<span style=\"color: #bbbbbb\">  </span><span style=\"color: #3D7B7B; font-style: italic\">;   kx: x coordinate, from 0 to 1, A=(0;0), E=(0.5;0.5), I=(1;0), O=(0;1), U=(1;1)</span>\n",
       "<span style=\"color: #bbbbbb\">  </span><span style=\"color: #3D7B7B; font-style: italic\">;   ky: y coordinate, from 0 to 1, A=(0;0), E=(0.5;0.5), I=(1;0), O=(0;1), U=(1;1)</span>\n",
       "<span style=\"color: #bbbbbb\">  </span><span style=\"color: #3D7B7B; font-style: italic\">;   kvibamount: vibrato amount, 0 to 1</span>\n",
       "<span style=\"color: #bbbbbb\">  </span><span style=\"color: #3D7B7B; font-style: italic\">;   ivibstart: start time of vibrato</span>\n",
       "<span style=\"color: #bbbbbb\">  </span><span style=\"color: #3D7B7B; font-style: italic\">;   ivibfreq: vibrato frequency</span>\n",
       "<span style=\"color: #bbbbbb\">  </span><span style=\"color: #3D7B7B; font-style: italic\">;   ivibrange: vibrato range in semitones</span>\n",
       "<span style=\"color: #bbbbbb\">  </span><span style=\"color: #3D7B7B; font-style: italic\">;   ipitchlag: time lag for pitch modifications</span>\n",
       "\n",
       "<span style=\"color: #bbbbbb\">  </span><span style=\"color: #B00040\">k</span>noVib<span style=\"color: #bbbbbb\"> </span><span style=\"color: #666666\">=</span><span style=\"color: #bbbbbb\"> </span><span style=\"color: #008000\">lag</span>:<span style=\"color: #B00040\">k</span>(<span style=\"color: #008000\">trighold</span>(<span style=\"color: #008000\">changed2</span>(<span style=\"color: #B00040\">k</span>pitch),<span style=\"color: #bbbbbb\"> </span><span style=\"color: #B00040\">i</span>vibstart<span style=\"color: #666666\">*0.8</span>),<span style=\"color: #bbbbbb\"> </span><span style=\"color: #B00040\">i</span>vibstart<span style=\"color: #666666\">*0.2</span>)\n",
       "\n",
       "<span style=\"color: #bbbbbb\">  </span><span style=\"color: #B00040\">k</span>vibfreq<span style=\"color: #bbbbbb\"> </span><span style=\"color: #666666\">=</span><span style=\"color: #bbbbbb\"> </span><span style=\"color: #008000\">linseg</span>:<span style=\"color: #B00040\">k</span>(<span style=\"color: #666666\">0</span>,<span style=\"color: #bbbbbb\"> </span><span style=\"color: #B00040\">i</span>vibstart<span style=\"color: #666666\">*0.25</span>,<span style=\"color: #bbbbbb\"> </span><span style=\"color: #666666\">0</span>,<span style=\"color: #bbbbbb\"> </span><span style=\"color: #B00040\">i</span>vibstart<span style=\"color: #666666\">*0.75</span>,<span style=\"color: #bbbbbb\"> </span><span style=\"color: #B00040\">i</span>vibfreq)<span style=\"color: #bbbbbb\"> </span><span style=\"color: #666666\">*</span><span style=\"color: #bbbbbb\"> </span><span style=\"color: #008000\">randomi</span>:<span style=\"color: #B00040\">k</span>(<span style=\"color: #666666\">0.9</span>,<span style=\"color: #bbbbbb\"> </span><span style=\"color: #666666\">1.1</span>,<span style=\"color: #bbbbbb\"> </span><span style=\"color: #666666\">2</span>)<span style=\"color: #bbbbbb\"> </span><span style=\"color: #666666\">*</span><span style=\"color: #bbbbbb\"> </span>(<span style=\"color: #666666\">1</span><span style=\"color: #bbbbbb\"> </span><span style=\"color: #666666\">-</span><span style=\"color: #bbbbbb\"> </span><span style=\"color: #B00040\">k</span>noVib)\n",
       "<span style=\"color: #bbbbbb\">  </span><span style=\"color: #B00040\">k</span>vibsemi<span style=\"color: #bbbbbb\"> </span><span style=\"color: #666666\">=</span><span style=\"color: #bbbbbb\"> </span><span style=\"color: #008000\">linseg</span>:<span style=\"color: #B00040\">k</span>(<span style=\"color: #666666\">0</span>,<span style=\"color: #bbbbbb\"> </span><span style=\"color: #B00040\">i</span>vibstart<span style=\"color: #666666\">*0.2</span>,<span style=\"color: #bbbbbb\"> </span><span style=\"color: #666666\">0</span>,<span style=\"color: #bbbbbb\"> </span><span style=\"color: #B00040\">i</span>vibstart<span style=\"color: #666666\">*0.8</span>,<span style=\"color: #bbbbbb\"> </span><span style=\"color: #B00040\">i</span>vibrange)<span style=\"color: #bbbbbb\"> </span><span style=\"color: #666666\">*</span><span style=\"color: #bbbbbb\"> </span><span style=\"color: #008000\">randomi</span>:<span style=\"color: #B00040\">k</span>(<span style=\"color: #666666\">0.9</span>,<span style=\"color: #bbbbbb\"> </span><span style=\"color: #666666\">1.1</span>,<span style=\"color: #bbbbbb\"> </span><span style=\"color: #666666\">10</span>)\n",
       "<span style=\"color: #bbbbbb\">  </span><span style=\"color: #B00040\">k</span>vib<span style=\"color: #bbbbbb\"> </span><span style=\"color: #666666\">=</span><span style=\"color: #bbbbbb\"> </span><span style=\"color: #008000\">oscil</span>:<span style=\"color: #B00040\">k</span>(<span style=\"color: #B00040\">k</span>vibsemi<span style=\"color: #666666\">/2</span>,<span style=\"color: #bbbbbb\"> </span><span style=\"color: #B00040\">k</span>vibfreq)<span style=\"color: #bbbbbb\"> </span><span style=\"color: #666666\">-</span><span style=\"color: #bbbbbb\"> </span><span style=\"color: #B00040\">k</span>vibsemi<span style=\"color: #666666\">/2</span>\n",
       "<span style=\"color: #bbbbbb\">  </span><span style=\"color: #B00040\">k</span>pitch2<span style=\"color: #bbbbbb\"> </span><span style=\"color: #666666\">=</span><span style=\"color: #bbbbbb\"> </span><span style=\"color: #008000\">lag</span>:<span style=\"color: #B00040\">k</span>(<span style=\"color: #B00040\">k</span>pitch,<span style=\"color: #bbbbbb\"> </span><span style=\"color: #B00040\">i</span>pitchlag)<span style=\"color: #bbbbbb\"> </span><span style=\"color: #666666\">+</span><span style=\"color: #bbbbbb\"> </span><span style=\"color: #B00040\">k</span>vib<span style=\"color: #666666\">*</span><span style=\"color: #B00040\">k</span>vibamount\n",
       "<span style=\"color: #bbbbbb\">  </span><span style=\"color: #B00040\">a</span>source<span style=\"color: #bbbbbb\"> </span><span style=\"color: #666666\">=</span><span style=\"color: #bbbbbb\"> </span><span style=\"color: #008000\">butterlp</span>:<span style=\"color: #B00040\">a</span>(<span style=\"color: #008000\">vco2</span>:<span style=\"color: #B00040\">a</span>(<span style=\"color: #B00040\">k</span>amp,<span style=\"color: #bbbbbb\"> </span><span style=\"color: #008000\">mtof</span>(<span style=\"color: #B00040\">k</span>pitch2)),<span style=\"color: #bbbbbb\"> </span><span style=\"color: #666666\">5000</span>)\n",
       "<span style=\"color: #bbbbbb\">  </span><span style=\"color: #B00040\">k</span>coords[]<span style=\"color: #bbbbbb\"> </span><span style=\"color: #008000\">fillarray</span><span style=\"color: #bbbbbb\"> </span><span style=\"color: #666666\">0</span>,<span style=\"color: #bbbbbb\"> </span><span style=\"color: #666666\">0</span>,<span style=\"color: #bbbbbb\"> </span><span style=\"color: #666666\">1</span>,<span style=\"color: #bbbbbb\">       </span><span style=\"border: 1px solid #FF0000\">\\</span><span style=\"color: #bbbbbb\">  </span><span style=\"color: #3D7B7B; font-style: italic\">; A</span>\n",
       "<span style=\"color: #bbbbbb\">                      </span><span style=\"color: #666666\">0.5</span>,<span style=\"color: #bbbbbb\"> </span><span style=\"color: #666666\">0.5</span>,<span style=\"color: #bbbbbb\"> </span><span style=\"color: #666666\">0.3</span>,<span style=\"color: #bbbbbb\"> </span><span style=\"border: 1px solid #FF0000\">\\</span><span style=\"color: #bbbbbb\">  </span><span style=\"color: #3D7B7B; font-style: italic\">; E</span>\n",
       "<span style=\"color: #bbbbbb\">                      </span><span style=\"color: #666666\">1</span>,<span style=\"color: #bbbbbb\"> </span><span style=\"color: #666666\">0</span>,<span style=\"color: #bbbbbb\"> </span><span style=\"color: #666666\">1</span>,<span style=\"color: #bbbbbb\">       </span><span style=\"border: 1px solid #FF0000\">\\</span><span style=\"color: #bbbbbb\">  </span><span style=\"color: #3D7B7B; font-style: italic\">; I</span>\n",
       "<span style=\"color: #bbbbbb\">                      </span><span style=\"color: #666666\">0</span>,<span style=\"color: #bbbbbb\"> </span><span style=\"color: #666666\">1</span>,<span style=\"color: #bbbbbb\"> </span><span style=\"color: #666666\">1</span>,<span style=\"color: #bbbbbb\">       </span><span style=\"border: 1px solid #FF0000\">\\</span><span style=\"color: #bbbbbb\">  </span><span style=\"color: #3D7B7B; font-style: italic\">; O</span>\n",
       "<span style=\"color: #bbbbbb\">                      </span><span style=\"color: #666666\">1</span>,<span style=\"color: #bbbbbb\"> </span><span style=\"color: #666666\">1</span>,<span style=\"color: #bbbbbb\"> </span><span style=\"color: #666666\">1</span><span style=\"color: #bbbbbb\">           </span><span style=\"color: #3D7B7B; font-style: italic\">; U</span>\n",
       "\n",
       "<span style=\"color: #bbbbbb\">  </span><span style=\"color: #B00040\">k</span>weights[]<span style=\"color: #bbbbbb\"> </span>presetinterp<span style=\"color: #bbbbbb\"> </span><span style=\"color: #B00040\">k</span>x,<span style=\"color: #bbbbbb\"> </span><span style=\"color: #B00040\">k</span>y,<span style=\"color: #bbbbbb\"> </span><span style=\"color: #B00040\">k</span>coords,<span style=\"color: #bbbbbb\"> </span><span style=\"color: #666666\">0.2</span>\n",
       "<span style=\"color: #bbbbbb\">  </span><span style=\"color: #B00040\">k</span>formantFreqs[]<span style=\"color: #bbbbbb\"> </span><span style=\"color: #B00040\">w</span>eightedsum<span style=\"color: #bbbbbb\"> </span><span style=\"color: #B00040\">gi</span>__formantFreqs__,<span style=\"color: #bbbbbb\"> </span><span style=\"color: #B00040\">k</span>weights\n",
       "<span style=\"color: #bbbbbb\">  </span><span style=\"color: #B00040\">k</span>formantBws[]<span style=\"color: #bbbbbb\">   </span><span style=\"color: #B00040\">w</span>eightedsum<span style=\"color: #bbbbbb\"> </span><span style=\"color: #B00040\">gi</span>__formantBws__,<span style=\"color: #bbbbbb\"> </span><span style=\"color: #B00040\">k</span>weights\n",
       "<span style=\"color: #bbbbbb\">  </span><span style=\"color: #B00040\">k</span>formantAmps[]<span style=\"color: #bbbbbb\">  </span><span style=\"color: #B00040\">w</span>eightedsum<span style=\"color: #bbbbbb\"> </span><span style=\"color: #B00040\">gi</span>__formantAmps__,<span style=\"color: #bbbbbb\"> </span><span style=\"color: #B00040\">k</span>weights\n",
       "<span style=\"color: #bbbbbb\">  </span><span style=\"color: #B00040\">k</span>formantFreqs<span style=\"color: #bbbbbb\"> </span>poly<span style=\"color: #bbbbbb\"> </span><span style=\"color: #666666\">5</span>,<span style=\"color: #bbbbbb\"> </span><span style=\"color: #BA2121\">&quot;lag&quot;</span>,<span style=\"color: #bbbbbb\"> </span><span style=\"color: #B00040\">k</span>formantFreqs,<span style=\"color: #bbbbbb\"> </span><span style=\"color: #B00040\">i</span>pitchlag\n",
       "<span style=\"color: #bbbbbb\">  </span><span style=\"color: #B00040\">k</span>formantAmps<span style=\"color: #bbbbbb\">  </span>poly<span style=\"color: #bbbbbb\"> </span><span style=\"color: #666666\">5</span>,<span style=\"color: #bbbbbb\"> </span><span style=\"color: #BA2121\">&quot;lag&quot;</span>,<span style=\"color: #bbbbbb\"> </span><span style=\"color: #B00040\">k</span>formantAmps,<span style=\"color: #bbbbbb\"> </span><span style=\"color: #B00040\">i</span>pitchlag\n",
       "<span style=\"color: #bbbbbb\">  </span><span style=\"color: #B00040\">a</span>formants[]<span style=\"color: #bbbbbb\"> </span>poly<span style=\"color: #bbbbbb\"> </span><span style=\"color: #666666\">5</span>,<span style=\"color: #bbbbbb\"> </span><span style=\"color: #BA2121\">&quot;resonx&quot;</span>,<span style=\"color: #bbbbbb\"> </span><span style=\"color: #B00040\">a</span>source,<span style=\"color: #bbbbbb\"> </span><span style=\"color: #B00040\">k</span>formantFreqs,<span style=\"color: #bbbbbb\"> </span><span style=\"color: #B00040\">k</span>formantBws,<span style=\"color: #bbbbbb\"> </span><span style=\"color: #666666\">2</span>,<span style=\"color: #bbbbbb\"> </span><span style=\"color: #666666\">1</span>\n",
       "<span style=\"color: #bbbbbb\">  </span><span style=\"color: #B00040\">a</span>formants<span style=\"color: #bbbbbb\"> </span><span style=\"color: #666666\">*=</span><span style=\"color: #bbbbbb\"> </span><span style=\"color: #B00040\">k</span>formantAmps\n",
       "<span style=\"color: #bbbbbb\">  </span><span style=\"color: #B00040\">a</span>out1<span style=\"color: #bbbbbb\"> </span><span style=\"color: #666666\">=</span><span style=\"color: #bbbbbb\"> </span><span style=\"color: #008000\">sumarray</span>(<span style=\"color: #B00040\">a</span>formants)<span style=\"color: #bbbbbb\"> </span><span style=\"color: #666666\">*</span><span style=\"color: #bbbbbb\"> </span><span style=\"color: #666666\">0.1</span>\n",
       "</code></pre></div>\n",
       "</span>"
      ],
      "text/plain": [
       "Preset: .sing  (Simple vowel singing simulation)\n",
       "    routing=True\n",
       "  init: gi__formantFreqs__[] fillarray \\\n",
       "            668, 1191, 2428, 3321, 4600, \\  ; A\n",
       "            327, 2157, 2754, 3630, 4600, \\  ; E \n",
       "            208, 2152, 3128, 3425, 4200, \\  ; I\n",
       "            335, 628, 2689, 3515, 4200, \\   ; O\n",
       "            254, 796, 2515, 3274, 4160      ; U\n",
       "                       \n",
       "        gi__formantDbs__[] fillarray   \\\n",
       "            28, 28, 22, 20, 20, \\\n",
       "            15, 25, 24, 20, 23, \\\n",
       "            10, 20, 27, 26, 20, \\\n",
       "            15, 18, 5,  7,  12, \\\n",
       "            12, 10, 6,  5,  12\n",
       "                                   \n",
       "        gi__formantBws__[] fillarray   \\\n",
       "            80, 90, 120, 130, 140, \\\n",
       "            60, 100, 120, 150, 200, \\\n",
       "            60, 90, 100, 120, 120, \\\n",
       "            40, 80, 100, 120, 120, \\\n",
       "            50, 60, 170, 180, 200\n",
       "            \n",
       "        gi__formantAmps__[] maparray gi__formantDbs__, \"ampdb\"\n",
       "        reshapearray gi__formantFreqs__, 5, 5\n",
       "        reshapearray gi__formantAmps__, 5, 5\n",
       "        reshapearray gi__formantBws__, 5, 5\n",
       "  |kx=0.0, ky=0.0, kvibamount=1.0, ivibstart=0.5, ivibfreq=4.5, ivibrange=0.25, ipitchlag=0.2|\n",
       "  ; Simple vowel singing simulation\n",
       "  ; Args:\n",
       "  ;   kx: x coordinate, from 0 to 1, A=(0;0), E=(0.5;0.5), I=(1;0), O=(0;1), U=(1;1)\n",
       "  ;   ky: y coordinate, from 0 to 1, A=(0;0), E=(0.5;0.5), I=(1;0), O=(0;1), U=(1;1)\n",
       "  ;   kvibamount: vibrato amount, 0 to 1\n",
       "  ;   ivibstart: start time of vibrato\n",
       "  ;   ivibfreq: vibrato frequency\n",
       "  ;   ivibrange: vibrato range in semitones\n",
       "  ;   ipitchlag: time lag for pitch modifications\n",
       "\n",
       "  knoVib = lag:k(trighold(changed2(kpitch), ivibstart*0.8), ivibstart*0.2)\n",
       "\n",
       "  kvibfreq = linseg:k(0, ivibstart*0.25, 0, ivibstart*0.75, ivibfreq) * randomi:k(0.9, 1.1, 2) * (1 - knoVib)\n",
       "  kvibsemi = linseg:k(0, ivibstart*0.2, 0, ivibstart*0.8, ivibrange) * randomi:k(0.9, 1.1, 10)\n",
       "  kvib = oscil:k(kvibsemi/2, kvibfreq) - kvibsemi/2\n",
       "  kpitch2 = lag:k(kpitch, ipitchlag) + kvib*kvibamount\n",
       "  asource = butterlp:a(vco2:a(kamp, mtof(kpitch2)), 5000)\n",
       "  kcoords[] fillarray 0, 0, 1,       \\  ; A\n",
       "                      0.5, 0.5, 0.3, \\  ; E\n",
       "                      1, 0, 1,       \\  ; I\n",
       "                      0, 1, 1,       \\  ; O\n",
       "                      1, 1, 1           ; U\n",
       "\n",
       "  kweights[] presetinterp kx, ky, kcoords, 0.2\n",
       "  kformantFreqs[] weightedsum gi__formantFreqs__, kweights\n",
       "  kformantBws[]   weightedsum gi__formantBws__, kweights\n",
       "  kformantAmps[]  weightedsum gi__formantAmps__, kweights\n",
       "  kformantFreqs poly 5, \"lag\", kformantFreqs, ipitchlag\n",
       "  kformantAmps  poly 5, \"lag\", kformantAmps, ipitchlag\n",
       "  aformants[] poly 5, \"resonx\", asource, kformantFreqs, kformantBws, 2, 1\n",
       "  aformants *= kformantAmps\n",
       "  aout1 = sumarray(aformants) * 0.1"
      ]
     },
     "execution_count": 2,
     "metadata": {},
     "output_type": "execute_result"
    }
   ],
   "source": [
    "getPreset('?')"
   ]
  },
  {
   "cell_type": "code",
   "execution_count": 2,
   "id": "7630f0f6-38ac-4b83-82c4-d45490246db7",
   "metadata": {},
   "outputs": [
    {
     "data": {
      "text/html": [
       "Preset: <b>_clip_diskin</b> - <span style=\"color:#A0A0A0\"><i>Builtin-in preset to play a clip using diskin</i></span>\n",
       "<br>\n",
       "<code style=\"font-size: 90%\">  <span style=\"color:#A0A0A0;font-size:96%\">(numouts=2, numsignals=2)\n",
       "</span></code>\n",
       "<ul style=\"line-height: 120%\">\n",
       "<li><span style=\"font-size:90%\"><strong>ipath</strong></span>: <span style=\"font-size:90%\"><i>the path to the soundfile, as set via strSet</i></span></li>\n",
       "<li><span style=\"font-size:90%\"><strong>isndfilechan</strong></span>: <span style=\"font-size:90%\"><i>if given, play only this channel from the soundfile</i></span></li>\n",
       "<li><span style=\"font-size:90%\"><strong>kspeed</strong></span>: <span style=\"font-size:90%\"><i>the speed of the playback</i></span></li>\n",
       "<li><span style=\"font-size:90%\"><strong>iskip</strong></span>: <span style=\"font-size:90%\"><i>number of seconds to skip from beginning (assuming kspeed=1)</i></span></li>\n",
       "<li><span style=\"font-size:90%\"><strong>iwrap</strong></span>: <span style=\"font-size:90%\"><i>if non-zero, locations wrap (results in looping)</i></span></li>\n",
       "<li><span style=\"font-size:90%\"><strong>iwinsize</strong></span>: <span style=\"font-size:90%\"><i>interpolation size (1=no interpol, 2=linear, 4=cubic, 8=sinc)</i></span></li>\n",
       "</ul>\n",
       "<span style=\"font-size:96%\"><strong>audiogen</strong></span>\n",
       "<span style=\"font-size:90%\"><div class=\"highlight\" style=\"background: #f8f8f8\"><pre style=\"line-height: 125%;\"><span></span><code><span style=\"color: #bbbbbb\">  </span><span style=\"color: #666666\">|</span><span style=\"color: #B00040\">i</span>path<span style=\"color: #666666\">=0</span>,<span style=\"color: #bbbbbb\"> </span><span style=\"color: #B00040\">i</span>sndfilechan<span style=\"color: #666666\">=-1.0</span>,<span style=\"color: #bbbbbb\"> </span><span style=\"color: #B00040\">k</span>speed<span style=\"color: #666666\">=1.0</span>,<span style=\"color: #bbbbbb\"> </span><span style=\"color: #B00040\">i</span>skip<span style=\"color: #666666\">=0.0</span>,<span style=\"color: #bbbbbb\"> </span><span style=\"color: #B00040\">i</span>wrap<span style=\"color: #666666\">=0.0</span>,<span style=\"color: #bbbbbb\"> </span><span style=\"color: #B00040\">i</span>winsize<span style=\"color: #666666\">=4.0|</span>\n",
       "</code></pre></div>\n",
       "</span>\n",
       "<span style=\"font-size:90%\"><div class=\"highlight\" style=\"background: #f8f8f8\"><pre style=\"line-height: 125%;\"><span></span><code><span style=\"color: #bbbbbb\">  </span><span style=\"color: #3D7B7B; font-style: italic\">; Builtin-in preset to play a clip using diskin</span>\n",
       "<span style=\"color: #bbbbbb\">  </span><span style=\"color: #3D7B7B; font-style: italic\">; Args:</span>\n",
       "<span style=\"color: #bbbbbb\">  </span><span style=\"color: #3D7B7B; font-style: italic\">;   ipath: the path to the soundfile, as set via strSet</span>\n",
       "<span style=\"color: #bbbbbb\">  </span><span style=\"color: #3D7B7B; font-style: italic\">;   isndfilechan: if given, play only this channel from the soundfile</span>\n",
       "<span style=\"color: #bbbbbb\">  </span><span style=\"color: #3D7B7B; font-style: italic\">;   kspeed: the speed of the playback</span>\n",
       "<span style=\"color: #bbbbbb\">  </span><span style=\"color: #3D7B7B; font-style: italic\">;   iskip: number of seconds to skip from beginning (assuming kspeed=1)</span>\n",
       "<span style=\"color: #bbbbbb\">  </span><span style=\"color: #3D7B7B; font-style: italic\">;   iwrap: if non-zero, locations wrap (results in looping)</span>\n",
       "<span style=\"color: #bbbbbb\">  </span><span style=\"color: #3D7B7B; font-style: italic\">;   iwinsize: interpolation size (1=no interpol, 2=linear, 4=cubic, 8=sinc)</span>\n",
       "<span style=\"color: #bbbbbb\">  </span><span style=\"color: #B00040\">S</span>path<span style=\"color: #bbbbbb\"> </span><span style=\"color: #666666\">=</span><span style=\"color: #bbbbbb\"> </span><span style=\"color: #008000\">strget</span>(<span style=\"color: #B00040\">i</span>path)\n",
       "<span style=\"color: #bbbbbb\">  </span><span style=\"color: #008000; font-weight: bold\">if</span><span style=\"color: #bbbbbb\"> </span><span style=\"color: #008000\">strlen</span>(<span style=\"color: #B00040\">S</span>path)<span style=\"color: #bbbbbb\"> </span><span style=\"color: #666666\">==</span><span style=\"color: #bbbbbb\"> </span><span style=\"color: #666666\">0</span><span style=\"color: #bbbbbb\"> </span><span style=\"color: #008000; font-weight: bold\">then</span>\n",
       "<span style=\"color: #bbbbbb\">      </span><span style=\"color: #B00040\">i</span>niterror<span style=\"color: #bbbbbb\"> </span><span style=\"color: #008000\">sprintf</span>(<span style=\"color: #BA2121\">&quot;Soundfile &#39;</span><span style=\"color: #A45A77; font-weight: bold\">%s</span><span style=\"color: #BA2121\">&#39; not found&quot;</span>,<span style=\"color: #bbbbbb\"> </span><span style=\"color: #B00040\">S</span>path)\n",
       "<span style=\"color: #bbbbbb\">  </span><span style=\"color: #008000; font-weight: bold\">endif</span>\n",
       "\n",
       "<span style=\"color: #bbbbbb\">  </span><span style=\"color: #B00040\">i</span>format<span style=\"color: #bbbbbb\"> </span><span style=\"color: #666666\">=</span><span style=\"color: #bbbbbb\"> </span><span style=\"color: #666666\">0</span>\n",
       "<span style=\"color: #bbbbbb\">  </span><span style=\"color: #B00040\">i</span>bufsize<span style=\"color: #bbbbbb\"> </span><span style=\"color: #666666\">=</span><span style=\"color: #bbbbbb\"> </span><span style=\"color: #666666\">0</span><span style=\"color: #bbbbbb\">   </span><span style=\"color: #3D7B7B; font-style: italic\">; 0 sets the buffer to the default of 4096</span>\n",
       "<span style=\"color: #bbbbbb\">  </span><span style=\"color: #B00040\">i</span>numchannels<span style=\"color: #bbbbbb\"> </span><span style=\"color: #666666\">=</span><span style=\"color: #bbbbbb\"> </span><span style=\"color: #008000\">filenchnls</span>(<span style=\"color: #B00040\">S</span>path)\n",
       "<span style=\"color: #bbbbbb\">  </span><span style=\"color: #008000; font-weight: bold\">if</span><span style=\"color: #bbbbbb\"> </span><span style=\"color: #B00040\">i</span>numchannels<span style=\"color: #bbbbbb\"> </span><span style=\"color: #666666\">==</span><span style=\"color: #bbbbbb\"> </span><span style=\"color: #666666\">0</span><span style=\"color: #bbbbbb\"> </span><span style=\"color: #666666\">||</span><span style=\"color: #bbbbbb\"> </span><span style=\"color: #B00040\">i</span>numchannels<span style=\"color: #bbbbbb\"> </span><span style=\"color: #666666\">&gt;</span><span style=\"color: #bbbbbb\"> </span><span style=\"color: #666666\">2</span><span style=\"color: #bbbbbb\"> </span><span style=\"color: #008000; font-weight: bold\">then</span>\n",
       "<span style=\"color: #bbbbbb\">      </span><span style=\"color: #B00040\">i</span>niterror<span style=\"color: #bbbbbb\"> </span><span style=\"color: #008000\">sprintf</span>(<span style=\"color: #BA2121\">&quot;Multichannel samples (&gt; 2, got </span><span style=\"color: #A45A77; font-weight: bold\">%d</span><span style=\"color: #BA2121\">) not supported yet&quot;</span>,<span style=\"color: #bbbbbb\"> </span><span style=\"color: #B00040\">i</span>numchannels)\n",
       "<span style=\"color: #bbbbbb\">  </span><span style=\"color: #008000; font-weight: bold\">endif</span>\n",
       "\n",
       "<span style=\"color: #bbbbbb\">  </span><span style=\"color: #B00040\">a</span>env<span style=\"color: #bbbbbb\"> </span><span style=\"color: #666666\">=</span><span style=\"color: #bbbbbb\"> </span>makePresetEnvelope(<span style=\"color: #B00040\">i</span>fadein,<span style=\"color: #bbbbbb\"> </span><span style=\"color: #B00040\">i</span>fadeout,<span style=\"color: #bbbbbb\"> </span><span style=\"color: #B00040\">i</span>fadekind)\n",
       "<span style=\"color: #bbbbbb\">  </span><span style=\"color: #B00040\">a</span>env<span style=\"color: #bbbbbb\"> </span><span style=\"color: #666666\">*=</span><span style=\"color: #bbbbbb\"> </span><span style=\"color: #B00040\">k</span>gain\n",
       "<span style=\"color: #bbbbbb\">  </span><span style=\"color: #B00040\">a</span>sig[]<span style=\"color: #bbbbbb\"> </span><span style=\"color: #008000\">diskin2</span><span style=\"color: #bbbbbb\"> </span><span style=\"color: #B00040\">S</span>path,<span style=\"color: #bbbbbb\"> </span><span style=\"color: #B00040\">k</span>speed,<span style=\"color: #bbbbbb\"> </span><span style=\"color: #B00040\">i</span>skip,<span style=\"color: #bbbbbb\"> </span><span style=\"color: #B00040\">i</span>wrap,<span style=\"color: #bbbbbb\"> </span><span style=\"color: #B00040\">i</span>format,<span style=\"color: #bbbbbb\"> </span><span style=\"color: #B00040\">i</span>winsize,<span style=\"color: #bbbbbb\"> </span><span style=\"color: #B00040\">i</span>bufsize\n",
       "<span style=\"color: #bbbbbb\">  </span><span style=\"color: #008000; font-weight: bold\">if</span><span style=\"color: #bbbbbb\"> </span><span style=\"color: #B00040\">i</span>sndfilechan<span style=\"color: #bbbbbb\"> </span><span style=\"color: #666666\">&gt;=</span><span style=\"color: #bbbbbb\"> </span><span style=\"color: #666666\">0</span><span style=\"color: #bbbbbb\"> </span><span style=\"color: #008000; font-weight: bold\">then</span>\n",
       "<span style=\"color: #bbbbbb\">      </span><span style=\"color: #B00040\">a</span>1<span style=\"color: #bbbbbb\"> </span><span style=\"color: #666666\">=</span><span style=\"color: #bbbbbb\"> </span><span style=\"color: #B00040\">a</span>sig[<span style=\"color: #B00040\">i</span>sndfilechan]\n",
       "<span style=\"color: #bbbbbb\">      </span><span style=\"color: #B00040\">k</span>pos<span style=\"color: #bbbbbb\"> </span><span style=\"color: #666666\">=</span><span style=\"color: #bbbbbb\"> </span><span style=\"color: #B00040\">k</span>pos<span style=\"color: #bbbbbb\"> </span><span style=\"color: #666666\">==</span><span style=\"color: #bbbbbb\"> </span><span style=\"color: #666666\">-1</span><span style=\"color: #bbbbbb\"> </span><span style=\"color: #666666\">?</span><span style=\"color: #bbbbbb\"> </span><span style=\"color: #666666\">0</span><span style=\"color: #bbbbbb\"> </span><span style=\"color: #666666\">:</span><span style=\"color: #bbbbbb\"> </span><span style=\"color: #B00040\">k</span>pos\n",
       "<span style=\"color: #bbbbbb\">      </span><span style=\"color: #B00040\">a</span>1<span style=\"color: #bbbbbb\"> </span><span style=\"color: #666666\">*=</span><span style=\"color: #bbbbbb\"> </span><span style=\"color: #B00040\">a</span>env\n",
       "<span style=\"color: #bbbbbb\">      </span><span style=\"color: #B00040\">a</span>out1,<span style=\"color: #bbbbbb\"> </span><span style=\"color: #B00040\">a</span>out2<span style=\"color: #bbbbbb\"> </span><span style=\"color: #008000\">pan2</span><span style=\"color: #bbbbbb\"> </span><span style=\"color: #B00040\">a</span>1,<span style=\"color: #bbbbbb\"> </span><span style=\"color: #B00040\">k</span>pos\n",
       "<span style=\"color: #bbbbbb\">  </span><span style=\"color: #008000; font-weight: bold\">elseif</span><span style=\"color: #bbbbbb\"> </span><span style=\"color: #B00040\">i</span>numchannels<span style=\"color: #bbbbbb\"> </span><span style=\"color: #666666\">==</span><span style=\"color: #bbbbbb\"> </span><span style=\"color: #666666\">1</span><span style=\"color: #bbbbbb\"> </span><span style=\"color: #008000; font-weight: bold\">then</span>\n",
       "<span style=\"color: #bbbbbb\">      </span><span style=\"color: #B00040\">a</span>1<span style=\"color: #bbbbbb\"> </span><span style=\"color: #666666\">=</span><span style=\"color: #bbbbbb\"> </span><span style=\"color: #B00040\">a</span>sig[<span style=\"color: #666666\">0</span>]\n",
       "<span style=\"color: #bbbbbb\">      </span><span style=\"color: #B00040\">a</span>1<span style=\"color: #bbbbbb\"> </span><span style=\"color: #666666\">*=</span><span style=\"color: #bbbbbb\"> </span><span style=\"color: #B00040\">a</span>env\n",
       "<span style=\"color: #bbbbbb\">      </span><span style=\"color: #B00040\">k</span>pos<span style=\"color: #bbbbbb\"> </span><span style=\"color: #666666\">=</span><span style=\"color: #bbbbbb\"> </span><span style=\"color: #B00040\">k</span>pos<span style=\"color: #bbbbbb\"> </span><span style=\"color: #666666\">==</span><span style=\"color: #bbbbbb\"> </span><span style=\"color: #666666\">-1</span><span style=\"color: #bbbbbb\"> </span><span style=\"color: #666666\">?</span><span style=\"color: #bbbbbb\"> </span><span style=\"color: #666666\">0</span><span style=\"color: #bbbbbb\"> </span><span style=\"color: #666666\">:</span><span style=\"color: #bbbbbb\"> </span><span style=\"color: #B00040\">k</span>pos\n",
       "<span style=\"color: #bbbbbb\">      </span><span style=\"color: #B00040\">a</span>out1,<span style=\"color: #bbbbbb\"> </span><span style=\"color: #B00040\">a</span>out2<span style=\"color: #bbbbbb\"> </span><span style=\"color: #008000\">pan2</span><span style=\"color: #bbbbbb\"> </span><span style=\"color: #B00040\">a</span>1,<span style=\"color: #bbbbbb\"> </span><span style=\"color: #B00040\">k</span>pos\n",
       "<span style=\"color: #bbbbbb\">  </span><span style=\"color: #008000; font-weight: bold\">elseif</span><span style=\"color: #bbbbbb\"> </span><span style=\"color: #B00040\">i</span>numchannels<span style=\"color: #bbbbbb\"> </span><span style=\"color: #666666\">==</span><span style=\"color: #bbbbbb\"> </span><span style=\"color: #666666\">2</span><span style=\"color: #bbbbbb\"> </span><span style=\"color: #008000; font-weight: bold\">then</span>\n",
       "<span style=\"color: #bbbbbb\">      </span><span style=\"color: #B00040\">a</span>sig<span style=\"color: #bbbbbb\"> </span><span style=\"color: #666666\">*=</span><span style=\"color: #bbbbbb\"> </span><span style=\"color: #B00040\">a</span>env\n",
       "<span style=\"color: #bbbbbb\">      </span><span style=\"color: #B00040\">a</span>out1,<span style=\"color: #bbbbbb\"> </span><span style=\"color: #B00040\">a</span>out2<span style=\"color: #bbbbbb\"> </span>panstereo<span style=\"color: #bbbbbb\"> </span><span style=\"color: #B00040\">a</span>sig[<span style=\"color: #666666\">0</span>],<span style=\"color: #bbbbbb\"> </span><span style=\"color: #B00040\">a</span>sig[<span style=\"color: #666666\">1</span>],<span style=\"color: #bbbbbb\"> </span><span style=\"color: #B00040\">k</span>pos\n",
       "<span style=\"color: #bbbbbb\">  </span><span style=\"color: #008000; font-weight: bold\">endif</span>\n",
       "<span style=\"color: #bbbbbb\">  </span><span style=\"color: #008000\">outch</span><span style=\"color: #bbbbbb\"> </span><span style=\"color: #B00040\">i</span>chan,<span style=\"color: #bbbbbb\"> </span><span style=\"color: #B00040\">a</span>out1,<span style=\"color: #bbbbbb\"> </span><span style=\"color: #B00040\">i</span>chan<span style=\"color: #666666\">+1</span>,<span style=\"color: #bbbbbb\"> </span><span style=\"color: #B00040\">a</span>out2\n",
       "</code></pre></div>\n",
       "</span>\n",
       "<hr>\n",
       "Preset: <b>.piano</b> - <span style=\"color:#A0A0A0\"><i>Default piano sound</i></span>\n",
       "<br>\n",
       "<code style=\"font-size: 90%\">  <span style=\"color:#A0A0A0;font-size:96%\">(routing=True, properties={'sfpath': PosixPath('/home/em/dev/python/maelzel/maelzel/data/sf2/SalC5Light2.sf2')}, numouts=2, numsignals=2)\n",
       "</span></code>\n",
       "<span style=\"font-size:96%\"><strong>init</strong></span>\n",
       "<span style=\"font-size:90%\"><div class=\"highlight\" style=\"background: #f8f8f8\"><pre style=\"line-height: 125%;\"><span></span><code><span style=\"color: #bbbbbb\">  </span><span style=\"color: #B00040\">i</span>SfTable_<span style=\"color: #bbbbbb\"> </span>sfloadonce<span style=\"color: #bbbbbb\"> </span><span style=\"color: #BA2121\">&quot;/home/em/dev/python/maelzel/maelzel/data/sf2/SalC5Light2.sf2&quot;</span>\n",
       "</code></pre></div>\n",
       "</span>\n",
       "<span style=\"font-size:96%\"><strong>audiogen</strong></span>\n",
       "<span style=\"font-size:90%\"><div class=\"highlight\" style=\"background: #f8f8f8\"><pre style=\"line-height: 125%;\"><span></span><code><span style=\"color: #bbbbbb\">  </span><span style=\"color: #666666\">|</span><span style=\"color: #B00040\">k</span>transp<span style=\"color: #666666\">=0.0</span>,<span style=\"color: #bbbbbb\"> </span><span style=\"color: #B00040\">i</span>pitchlag<span style=\"color: #666666\">=0.1|</span>\n",
       "</code></pre></div>\n",
       "</span>\n",
       "<span style=\"font-size:90%\"><div class=\"highlight\" style=\"background: #f8f8f8\"><pre style=\"line-height: 125%;\"><span></span><code><span style=\"color: #bbbbbb\">  </span><span style=\"color: #B00040\">i</span>presetidx<span style=\"color: #bbbbbb\"> </span>sfPresetIndex<span style=\"color: #bbbbbb\"> </span><span style=\"color: #BA2121\">&quot;/home/em/dev/python/maelzel/maelzel/data/sf2/SalC5Light2.sf2&quot;</span>,<span style=\"color: #bbbbbb\"> </span><span style=\"color: #666666\">0</span>,<span style=\"color: #bbbbbb\"> </span><span style=\"color: #666666\">0</span>\n",
       "<span style=\"color: #bbbbbb\">  </span><span style=\"color: #B00040\">i</span>note0_<span style=\"color: #bbbbbb\"> </span><span style=\"color: #666666\">=</span><span style=\"color: #bbbbbb\"> </span><span style=\"color: #008000\">round</span>(<span style=\"color: #008000\">p</span>(<span style=\"color: #B00040\">i</span>dataidx_<span style=\"color: #bbbbbb\"> </span><span style=\"color: #666666\">+</span><span style=\"color: #bbbbbb\"> </span><span style=\"color: #666666\">1</span>))\n",
       "<span style=\"color: #bbbbbb\">  </span><span style=\"color: #B00040\">i</span>vel_<span style=\"color: #bbbbbb\"> </span><span style=\"color: #666666\">=</span><span style=\"color: #bbbbbb\"> </span><span style=\"color: #008000\">p</span>(<span style=\"color: #B00040\">i</span>dataidx_<span style=\"color: #bbbbbb\"> </span><span style=\"color: #666666\">+</span><span style=\"color: #bbbbbb\"> </span><span style=\"color: #666666\">2</span>)<span style=\"color: #bbbbbb\"> </span><span style=\"color: #666666\">*</span><span style=\"color: #bbbbbb\"> </span><span style=\"color: #666666\">127</span>\n",
       "<span style=\"color: #bbbbbb\">  </span><span style=\"color: #B00040\">k</span>pitch2<span style=\"color: #bbbbbb\"> </span><span style=\"color: #666666\">=</span><span style=\"color: #bbbbbb\"> </span><span style=\"color: #008000\">lag</span>:<span style=\"color: #B00040\">k</span>(<span style=\"color: #B00040\">k</span>pitch<span style=\"color: #666666\">+</span><span style=\"color: #B00040\">k</span>transp,<span style=\"color: #bbbbbb\"> </span><span style=\"color: #B00040\">i</span>pitchlag)\n",
       "<span style=\"color: #bbbbbb\">  </span><span style=\"color: #B00040\">a</span>out1,<span style=\"color: #bbbbbb\"> </span><span style=\"color: #B00040\">a</span>out2<span style=\"color: #bbbbbb\"> </span><span style=\"color: #008000\">sfplay</span><span style=\"color: #bbbbbb\"> </span><span style=\"color: #B00040\">i</span>vel_,<span style=\"color: #bbbbbb\"> </span><span style=\"color: #B00040\">i</span>note0_,<span style=\"color: #bbbbbb\"> </span><span style=\"color: #B00040\">k</span>amp<span style=\"color: #666666\">/16384</span>,<span style=\"color: #bbbbbb\"> </span><span style=\"color: #008000\">mtof</span>:<span style=\"color: #B00040\">k</span>(<span style=\"color: #B00040\">k</span>pitch2),<span style=\"color: #bbbbbb\"> </span><span style=\"color: #B00040\">i</span>presetidx,<span style=\"color: #bbbbbb\"> </span><span style=\"color: #666666\">1</span>\n",
       "</code></pre></div>\n",
       "</span>\n",
       "<span style=\"font-size:96%\"><strong>epilogue</strong></span>\n",
       "<span style=\"font-size:90%\"><div class=\"highlight\" style=\"background: #f8f8f8\"><pre style=\"line-height: 125%;\"><span></span><code><span style=\"color: #bbbbbb\">  </span>turnoffWhenSilent<span style=\"color: #bbbbbb\"> </span><span style=\"color: #B00040\">a</span>out1\n",
       "</code></pre></div>\n",
       "</span>\n",
       "<hr>\n",
       "Preset: <b>gm-clarinet</b> - <span style=\"color:#A0A0A0\"><i>General MIDI clarinet</i></span>\n",
       "<br>\n",
       "<code style=\"font-size: 90%\">  <span style=\"color:#A0A0A0;font-size:96%\">(routing=True, properties={'sfpath': '/usr/share/sounds/sf2/FluidR3_GM.sf2'}, numouts=2, numsignals=2)\n",
       "</span></code>\n",
       "<span style=\"font-size:96%\"><strong>init</strong></span>\n",
       "<span style=\"font-size:90%\"><div class=\"highlight\" style=\"background: #f8f8f8\"><pre style=\"line-height: 125%;\"><span></span><code><span style=\"color: #bbbbbb\">  </span><span style=\"color: #B00040\">i</span>SfTable_<span style=\"color: #bbbbbb\"> </span>sfloadonce<span style=\"color: #bbbbbb\"> </span><span style=\"color: #BA2121\">&quot;/usr/share/sounds/sf2/FluidR3_GM.sf2&quot;</span>\n",
       "</code></pre></div>\n",
       "</span>\n",
       "<span style=\"font-size:96%\"><strong>audiogen</strong></span>\n",
       "<span style=\"font-size:90%\"><div class=\"highlight\" style=\"background: #f8f8f8\"><pre style=\"line-height: 125%;\"><span></span><code><span style=\"color: #bbbbbb\">  </span><span style=\"color: #666666\">|</span><span style=\"color: #B00040\">k</span>transp<span style=\"color: #666666\">=0.0</span>,<span style=\"color: #bbbbbb\"> </span><span style=\"color: #B00040\">i</span>pitchlag<span style=\"color: #666666\">=0.1|</span>\n",
       "</code></pre></div>\n",
       "</span>\n",
       "<span style=\"font-size:90%\"><div class=\"highlight\" style=\"background: #f8f8f8\"><pre style=\"line-height: 125%;\"><span></span><code><span style=\"color: #bbbbbb\">  </span><span style=\"color: #B00040\">i</span>presetidx<span style=\"color: #bbbbbb\"> </span>sfPresetIndex<span style=\"color: #bbbbbb\"> </span><span style=\"color: #BA2121\">&quot;/usr/share/sounds/sf2/FluidR3_GM.sf2&quot;</span>,<span style=\"color: #bbbbbb\"> </span><span style=\"color: #666666\">0</span>,<span style=\"color: #bbbbbb\"> </span><span style=\"color: #666666\">71</span>\n",
       "<span style=\"color: #bbbbbb\">  </span><span style=\"color: #B00040\">i</span>note0_<span style=\"color: #bbbbbb\"> </span><span style=\"color: #666666\">=</span><span style=\"color: #bbbbbb\"> </span><span style=\"color: #008000\">round</span>(<span style=\"color: #008000\">p</span>(<span style=\"color: #B00040\">i</span>dataidx_<span style=\"color: #bbbbbb\"> </span><span style=\"color: #666666\">+</span><span style=\"color: #bbbbbb\"> </span><span style=\"color: #666666\">1</span>))\n",
       "<span style=\"color: #bbbbbb\">  </span><span style=\"color: #B00040\">i</span>vel_<span style=\"color: #bbbbbb\"> </span><span style=\"color: #666666\">=</span><span style=\"color: #bbbbbb\"> </span><span style=\"color: #008000\">p</span>(<span style=\"color: #B00040\">i</span>dataidx_<span style=\"color: #bbbbbb\"> </span><span style=\"color: #666666\">+</span><span style=\"color: #bbbbbb\"> </span><span style=\"color: #666666\">2</span>)<span style=\"color: #bbbbbb\"> </span><span style=\"color: #666666\">*</span><span style=\"color: #bbbbbb\"> </span><span style=\"color: #666666\">127</span>\n",
       "<span style=\"color: #bbbbbb\">  </span><span style=\"color: #B00040\">k</span>pitch2<span style=\"color: #bbbbbb\"> </span><span style=\"color: #666666\">=</span><span style=\"color: #bbbbbb\"> </span><span style=\"color: #008000\">lag</span>:<span style=\"color: #B00040\">k</span>(<span style=\"color: #B00040\">k</span>pitch<span style=\"color: #666666\">+</span><span style=\"color: #B00040\">k</span>transp,<span style=\"color: #bbbbbb\"> </span><span style=\"color: #B00040\">i</span>pitchlag)\n",
       "<span style=\"color: #bbbbbb\">  </span><span style=\"color: #B00040\">a</span>out1,<span style=\"color: #bbbbbb\"> </span><span style=\"color: #B00040\">a</span>out2<span style=\"color: #bbbbbb\"> </span><span style=\"color: #008000\">sfplay</span><span style=\"color: #bbbbbb\"> </span><span style=\"color: #B00040\">i</span>vel_,<span style=\"color: #bbbbbb\"> </span><span style=\"color: #B00040\">i</span>note0_,<span style=\"color: #bbbbbb\"> </span><span style=\"color: #B00040\">k</span>amp<span style=\"color: #666666\">/16384</span>,<span style=\"color: #bbbbbb\"> </span><span style=\"color: #008000\">mtof</span>:<span style=\"color: #B00040\">k</span>(<span style=\"color: #B00040\">k</span>pitch2),<span style=\"color: #bbbbbb\"> </span><span style=\"color: #B00040\">i</span>presetidx,<span style=\"color: #bbbbbb\"> </span><span style=\"color: #666666\">1</span>\n",
       "</code></pre></div>\n",
       "</span>\n",
       "<span style=\"font-size:96%\"><strong>epilogue</strong></span>\n",
       "<span style=\"font-size:90%\"><div class=\"highlight\" style=\"background: #f8f8f8\"><pre style=\"line-height: 125%;\"><span></span><code><span style=\"color: #bbbbbb\">  </span>turnoffWhenSilent<span style=\"color: #bbbbbb\"> </span><span style=\"color: #B00040\">a</span>out1\n",
       "</code></pre></div>\n",
       "</span>\n",
       "<hr>\n",
       "Preset: <b>gm-flute</b> - <span style=\"color:#A0A0A0\"><i>General MIDI flute</i></span>\n",
       "<br>\n",
       "<code style=\"font-size: 90%\">  <span style=\"color:#A0A0A0;font-size:96%\">(routing=True, properties={'sfpath': '/usr/share/sounds/sf2/FluidR3_GM.sf2'}, numouts=2, numsignals=2)\n",
       "</span></code>\n",
       "<span style=\"font-size:96%\"><strong>init</strong></span>\n",
       "<span style=\"font-size:90%\"><div class=\"highlight\" style=\"background: #f8f8f8\"><pre style=\"line-height: 125%;\"><span></span><code><span style=\"color: #bbbbbb\">  </span><span style=\"color: #B00040\">i</span>SfTable_<span style=\"color: #bbbbbb\"> </span>sfloadonce<span style=\"color: #bbbbbb\"> </span><span style=\"color: #BA2121\">&quot;/usr/share/sounds/sf2/FluidR3_GM.sf2&quot;</span>\n",
       "</code></pre></div>\n",
       "</span>\n",
       "<span style=\"font-size:96%\"><strong>audiogen</strong></span>\n",
       "<span style=\"font-size:90%\"><div class=\"highlight\" style=\"background: #f8f8f8\"><pre style=\"line-height: 125%;\"><span></span><code><span style=\"color: #bbbbbb\">  </span><span style=\"color: #666666\">|</span><span style=\"color: #B00040\">k</span>transp<span style=\"color: #666666\">=0.0</span>,<span style=\"color: #bbbbbb\"> </span><span style=\"color: #B00040\">i</span>pitchlag<span style=\"color: #666666\">=0.1|</span>\n",
       "</code></pre></div>\n",
       "</span>\n",
       "<span style=\"font-size:90%\"><div class=\"highlight\" style=\"background: #f8f8f8\"><pre style=\"line-height: 125%;\"><span></span><code><span style=\"color: #bbbbbb\">  </span><span style=\"color: #B00040\">i</span>presetidx<span style=\"color: #bbbbbb\"> </span>sfPresetIndex<span style=\"color: #bbbbbb\"> </span><span style=\"color: #BA2121\">&quot;/usr/share/sounds/sf2/FluidR3_GM.sf2&quot;</span>,<span style=\"color: #bbbbbb\"> </span><span style=\"color: #666666\">0</span>,<span style=\"color: #bbbbbb\"> </span><span style=\"color: #666666\">73</span>\n",
       "<span style=\"color: #bbbbbb\">  </span><span style=\"color: #B00040\">i</span>note0_<span style=\"color: #bbbbbb\"> </span><span style=\"color: #666666\">=</span><span style=\"color: #bbbbbb\"> </span><span style=\"color: #008000\">round</span>(<span style=\"color: #008000\">p</span>(<span style=\"color: #B00040\">i</span>dataidx_<span style=\"color: #bbbbbb\"> </span><span style=\"color: #666666\">+</span><span style=\"color: #bbbbbb\"> </span><span style=\"color: #666666\">1</span>))\n",
       "<span style=\"color: #bbbbbb\">  </span><span style=\"color: #B00040\">i</span>vel_<span style=\"color: #bbbbbb\"> </span><span style=\"color: #666666\">=</span><span style=\"color: #bbbbbb\"> </span><span style=\"color: #008000\">p</span>(<span style=\"color: #B00040\">i</span>dataidx_<span style=\"color: #bbbbbb\"> </span><span style=\"color: #666666\">+</span><span style=\"color: #bbbbbb\"> </span><span style=\"color: #666666\">2</span>)<span style=\"color: #bbbbbb\"> </span><span style=\"color: #666666\">*</span><span style=\"color: #bbbbbb\"> </span><span style=\"color: #666666\">127</span>\n",
       "<span style=\"color: #bbbbbb\">  </span><span style=\"color: #B00040\">k</span>pitch2<span style=\"color: #bbbbbb\"> </span><span style=\"color: #666666\">=</span><span style=\"color: #bbbbbb\"> </span><span style=\"color: #008000\">lag</span>:<span style=\"color: #B00040\">k</span>(<span style=\"color: #B00040\">k</span>pitch<span style=\"color: #666666\">+</span><span style=\"color: #B00040\">k</span>transp,<span style=\"color: #bbbbbb\"> </span><span style=\"color: #B00040\">i</span>pitchlag)\n",
       "<span style=\"color: #bbbbbb\">  </span><span style=\"color: #B00040\">a</span>out1,<span style=\"color: #bbbbbb\"> </span><span style=\"color: #B00040\">a</span>out2<span style=\"color: #bbbbbb\"> </span><span style=\"color: #008000\">sfplay</span><span style=\"color: #bbbbbb\"> </span><span style=\"color: #B00040\">i</span>vel_,<span style=\"color: #bbbbbb\"> </span><span style=\"color: #B00040\">i</span>note0_,<span style=\"color: #bbbbbb\"> </span><span style=\"color: #B00040\">k</span>amp<span style=\"color: #666666\">/16384</span>,<span style=\"color: #bbbbbb\"> </span><span style=\"color: #008000\">mtof</span>:<span style=\"color: #B00040\">k</span>(<span style=\"color: #B00040\">k</span>pitch2),<span style=\"color: #bbbbbb\"> </span><span style=\"color: #B00040\">i</span>presetidx,<span style=\"color: #bbbbbb\"> </span><span style=\"color: #666666\">1</span>\n",
       "</code></pre></div>\n",
       "</span>\n",
       "<span style=\"font-size:96%\"><strong>epilogue</strong></span>\n",
       "<span style=\"font-size:90%\"><div class=\"highlight\" style=\"background: #f8f8f8\"><pre style=\"line-height: 125%;\"><span></span><code><span style=\"color: #bbbbbb\">  </span>turnoffWhenSilent<span style=\"color: #bbbbbb\"> </span><span style=\"color: #B00040\">a</span>out1\n",
       "</code></pre></div>\n",
       "</span>\n",
       "<hr>\n",
       "Preset: <b>gm-oboe</b> - <span style=\"color:#A0A0A0\"><i>General MIDI oboe</i></span>\n",
       "<br>\n",
       "<code style=\"font-size: 90%\">  <span style=\"color:#A0A0A0;font-size:96%\">(routing=True, properties={'sfpath': '/usr/share/sounds/sf2/FluidR3_GM.sf2'}, numouts=2, numsignals=2)\n",
       "</span></code>\n",
       "<span style=\"font-size:96%\"><strong>init</strong></span>\n",
       "<span style=\"font-size:90%\"><div class=\"highlight\" style=\"background: #f8f8f8\"><pre style=\"line-height: 125%;\"><span></span><code><span style=\"color: #bbbbbb\">  </span><span style=\"color: #B00040\">i</span>SfTable_<span style=\"color: #bbbbbb\"> </span>sfloadonce<span style=\"color: #bbbbbb\"> </span><span style=\"color: #BA2121\">&quot;/usr/share/sounds/sf2/FluidR3_GM.sf2&quot;</span>\n",
       "</code></pre></div>\n",
       "</span>\n",
       "<span style=\"font-size:96%\"><strong>audiogen</strong></span>\n",
       "<span style=\"font-size:90%\"><div class=\"highlight\" style=\"background: #f8f8f8\"><pre style=\"line-height: 125%;\"><span></span><code><span style=\"color: #bbbbbb\">  </span><span style=\"color: #666666\">|</span><span style=\"color: #B00040\">k</span>transp<span style=\"color: #666666\">=0.0</span>,<span style=\"color: #bbbbbb\"> </span><span style=\"color: #B00040\">i</span>pitchlag<span style=\"color: #666666\">=0.1|</span>\n",
       "</code></pre></div>\n",
       "</span>\n",
       "<span style=\"font-size:90%\"><div class=\"highlight\" style=\"background: #f8f8f8\"><pre style=\"line-height: 125%;\"><span></span><code><span style=\"color: #bbbbbb\">  </span><span style=\"color: #B00040\">i</span>presetidx<span style=\"color: #bbbbbb\"> </span>sfPresetIndex<span style=\"color: #bbbbbb\"> </span><span style=\"color: #BA2121\">&quot;/usr/share/sounds/sf2/FluidR3_GM.sf2&quot;</span>,<span style=\"color: #bbbbbb\"> </span><span style=\"color: #666666\">0</span>,<span style=\"color: #bbbbbb\"> </span><span style=\"color: #666666\">68</span>\n",
       "<span style=\"color: #bbbbbb\">  </span><span style=\"color: #B00040\">i</span>note0_<span style=\"color: #bbbbbb\"> </span><span style=\"color: #666666\">=</span><span style=\"color: #bbbbbb\"> </span><span style=\"color: #008000\">round</span>(<span style=\"color: #008000\">p</span>(<span style=\"color: #B00040\">i</span>dataidx_<span style=\"color: #bbbbbb\"> </span><span style=\"color: #666666\">+</span><span style=\"color: #bbbbbb\"> </span><span style=\"color: #666666\">1</span>))\n",
       "<span style=\"color: #bbbbbb\">  </span><span style=\"color: #B00040\">i</span>vel_<span style=\"color: #bbbbbb\"> </span><span style=\"color: #666666\">=</span><span style=\"color: #bbbbbb\"> </span><span style=\"color: #008000\">p</span>(<span style=\"color: #B00040\">i</span>dataidx_<span style=\"color: #bbbbbb\"> </span><span style=\"color: #666666\">+</span><span style=\"color: #bbbbbb\"> </span><span style=\"color: #666666\">2</span>)<span style=\"color: #bbbbbb\"> </span><span style=\"color: #666666\">*</span><span style=\"color: #bbbbbb\"> </span><span style=\"color: #666666\">127</span>\n",
       "<span style=\"color: #bbbbbb\">  </span><span style=\"color: #B00040\">k</span>pitch2<span style=\"color: #bbbbbb\"> </span><span style=\"color: #666666\">=</span><span style=\"color: #bbbbbb\"> </span><span style=\"color: #008000\">lag</span>:<span style=\"color: #B00040\">k</span>(<span style=\"color: #B00040\">k</span>pitch<span style=\"color: #666666\">+</span><span style=\"color: #B00040\">k</span>transp,<span style=\"color: #bbbbbb\"> </span><span style=\"color: #B00040\">i</span>pitchlag)\n",
       "<span style=\"color: #bbbbbb\">  </span><span style=\"color: #B00040\">a</span>out1,<span style=\"color: #bbbbbb\"> </span><span style=\"color: #B00040\">a</span>out2<span style=\"color: #bbbbbb\"> </span><span style=\"color: #008000\">sfplay</span><span style=\"color: #bbbbbb\"> </span><span style=\"color: #B00040\">i</span>vel_,<span style=\"color: #bbbbbb\"> </span><span style=\"color: #B00040\">i</span>note0_,<span style=\"color: #bbbbbb\"> </span><span style=\"color: #B00040\">k</span>amp<span style=\"color: #666666\">/16384</span>,<span style=\"color: #bbbbbb\"> </span><span style=\"color: #008000\">mtof</span>:<span style=\"color: #B00040\">k</span>(<span style=\"color: #B00040\">k</span>pitch2),<span style=\"color: #bbbbbb\"> </span><span style=\"color: #B00040\">i</span>presetidx,<span style=\"color: #bbbbbb\"> </span><span style=\"color: #666666\">1</span>\n",
       "</code></pre></div>\n",
       "</span>\n",
       "<span style=\"font-size:96%\"><strong>epilogue</strong></span>\n",
       "<span style=\"font-size:90%\"><div class=\"highlight\" style=\"background: #f8f8f8\"><pre style=\"line-height: 125%;\"><span></span><code><span style=\"color: #bbbbbb\">  </span>turnoffWhenSilent<span style=\"color: #bbbbbb\"> </span><span style=\"color: #B00040\">a</span>out1\n",
       "</code></pre></div>\n",
       "</span>\n",
       "<hr>\n",
       "Preset: <b>gm-piano</b> - <span style=\"color:#A0A0A0\"><i>General MIDI piano</i></span>\n",
       "<br>\n",
       "<code style=\"font-size: 90%\">  <span style=\"color:#A0A0A0;font-size:96%\">(routing=True, properties={'sfpath': '/usr/share/sounds/sf2/FluidR3_GM.sf2'}, numouts=2, numsignals=2)\n",
       "</span></code>\n",
       "<span style=\"font-size:96%\"><strong>init</strong></span>\n",
       "<span style=\"font-size:90%\"><div class=\"highlight\" style=\"background: #f8f8f8\"><pre style=\"line-height: 125%;\"><span></span><code><span style=\"color: #bbbbbb\">  </span><span style=\"color: #B00040\">i</span>SfTable_<span style=\"color: #bbbbbb\"> </span>sfloadonce<span style=\"color: #bbbbbb\"> </span><span style=\"color: #BA2121\">&quot;/usr/share/sounds/sf2/FluidR3_GM.sf2&quot;</span>\n",
       "</code></pre></div>\n",
       "</span>\n",
       "<span style=\"font-size:96%\"><strong>audiogen</strong></span>\n",
       "<span style=\"font-size:90%\"><div class=\"highlight\" style=\"background: #f8f8f8\"><pre style=\"line-height: 125%;\"><span></span><code><span style=\"color: #bbbbbb\">  </span><span style=\"color: #666666\">|</span><span style=\"color: #B00040\">k</span>transp<span style=\"color: #666666\">=0.0</span>,<span style=\"color: #bbbbbb\"> </span><span style=\"color: #B00040\">i</span>pitchlag<span style=\"color: #666666\">=0.1|</span>\n",
       "</code></pre></div>\n",
       "</span>\n",
       "<span style=\"font-size:90%\"><div class=\"highlight\" style=\"background: #f8f8f8\"><pre style=\"line-height: 125%;\"><span></span><code><span style=\"color: #bbbbbb\">  </span><span style=\"color: #B00040\">i</span>presetidx<span style=\"color: #bbbbbb\"> </span>sfPresetIndex<span style=\"color: #bbbbbb\"> </span><span style=\"color: #BA2121\">&quot;/usr/share/sounds/sf2/FluidR3_GM.sf2&quot;</span>,<span style=\"color: #bbbbbb\"> </span><span style=\"color: #666666\">0</span>,<span style=\"color: #bbbbbb\"> </span><span style=\"color: #666666\">0</span>\n",
       "<span style=\"color: #bbbbbb\">  </span><span style=\"color: #B00040\">i</span>note0_<span style=\"color: #bbbbbb\"> </span><span style=\"color: #666666\">=</span><span style=\"color: #bbbbbb\"> </span><span style=\"color: #008000\">round</span>(<span style=\"color: #008000\">p</span>(<span style=\"color: #B00040\">i</span>dataidx_<span style=\"color: #bbbbbb\"> </span><span style=\"color: #666666\">+</span><span style=\"color: #bbbbbb\"> </span><span style=\"color: #666666\">1</span>))\n",
       "<span style=\"color: #bbbbbb\">  </span><span style=\"color: #B00040\">i</span>vel_<span style=\"color: #bbbbbb\"> </span><span style=\"color: #666666\">=</span><span style=\"color: #bbbbbb\"> </span><span style=\"color: #008000\">p</span>(<span style=\"color: #B00040\">i</span>dataidx_<span style=\"color: #bbbbbb\"> </span><span style=\"color: #666666\">+</span><span style=\"color: #bbbbbb\"> </span><span style=\"color: #666666\">2</span>)<span style=\"color: #bbbbbb\"> </span><span style=\"color: #666666\">*</span><span style=\"color: #bbbbbb\"> </span><span style=\"color: #666666\">127</span>\n",
       "<span style=\"color: #bbbbbb\">  </span><span style=\"color: #B00040\">k</span>pitch2<span style=\"color: #bbbbbb\"> </span><span style=\"color: #666666\">=</span><span style=\"color: #bbbbbb\"> </span><span style=\"color: #008000\">lag</span>:<span style=\"color: #B00040\">k</span>(<span style=\"color: #B00040\">k</span>pitch<span style=\"color: #666666\">+</span><span style=\"color: #B00040\">k</span>transp,<span style=\"color: #bbbbbb\"> </span><span style=\"color: #B00040\">i</span>pitchlag)\n",
       "<span style=\"color: #bbbbbb\">  </span><span style=\"color: #B00040\">a</span>out1,<span style=\"color: #bbbbbb\"> </span><span style=\"color: #B00040\">a</span>out2<span style=\"color: #bbbbbb\"> </span><span style=\"color: #008000\">sfplay</span><span style=\"color: #bbbbbb\"> </span><span style=\"color: #B00040\">i</span>vel_,<span style=\"color: #bbbbbb\"> </span><span style=\"color: #B00040\">i</span>note0_,<span style=\"color: #bbbbbb\"> </span><span style=\"color: #B00040\">k</span>amp<span style=\"color: #666666\">/16384</span>,<span style=\"color: #bbbbbb\"> </span><span style=\"color: #008000\">mtof</span>:<span style=\"color: #B00040\">k</span>(<span style=\"color: #B00040\">k</span>pitch2),<span style=\"color: #bbbbbb\"> </span><span style=\"color: #B00040\">i</span>presetidx,<span style=\"color: #bbbbbb\"> </span><span style=\"color: #666666\">1</span>\n",
       "</code></pre></div>\n",
       "</span>\n",
       "<span style=\"font-size:96%\"><strong>epilogue</strong></span>\n",
       "<span style=\"font-size:90%\"><div class=\"highlight\" style=\"background: #f8f8f8\"><pre style=\"line-height: 125%;\"><span></span><code><span style=\"color: #bbbbbb\">  </span>turnoffWhenSilent<span style=\"color: #bbbbbb\"> </span><span style=\"color: #B00040\">a</span>out1\n",
       "</code></pre></div>\n",
       "</span>\n",
       "<hr>\n",
       "Preset: <b>gm-reedorgan</b> - <span style=\"color:#A0A0A0\"><i>General MIDI reedorgan</i></span>\n",
       "<br>\n",
       "<code style=\"font-size: 90%\">  <span style=\"color:#A0A0A0;font-size:96%\">(routing=True, properties={'sfpath': '/usr/share/sounds/sf2/FluidR3_GM.sf2'}, numouts=2, numsignals=2)\n",
       "</span></code>\n",
       "<span style=\"font-size:96%\"><strong>init</strong></span>\n",
       "<span style=\"font-size:90%\"><div class=\"highlight\" style=\"background: #f8f8f8\"><pre style=\"line-height: 125%;\"><span></span><code><span style=\"color: #bbbbbb\">  </span><span style=\"color: #B00040\">i</span>SfTable_<span style=\"color: #bbbbbb\"> </span>sfloadonce<span style=\"color: #bbbbbb\"> </span><span style=\"color: #BA2121\">&quot;/usr/share/sounds/sf2/FluidR3_GM.sf2&quot;</span>\n",
       "</code></pre></div>\n",
       "</span>\n",
       "<span style=\"font-size:96%\"><strong>audiogen</strong></span>\n",
       "<span style=\"font-size:90%\"><div class=\"highlight\" style=\"background: #f8f8f8\"><pre style=\"line-height: 125%;\"><span></span><code><span style=\"color: #bbbbbb\">  </span><span style=\"color: #666666\">|</span><span style=\"color: #B00040\">k</span>transp<span style=\"color: #666666\">=0.0</span>,<span style=\"color: #bbbbbb\"> </span><span style=\"color: #B00040\">i</span>pitchlag<span style=\"color: #666666\">=0.1|</span>\n",
       "</code></pre></div>\n",
       "</span>\n",
       "<span style=\"font-size:90%\"><div class=\"highlight\" style=\"background: #f8f8f8\"><pre style=\"line-height: 125%;\"><span></span><code><span style=\"color: #bbbbbb\">  </span><span style=\"color: #B00040\">i</span>presetidx<span style=\"color: #bbbbbb\"> </span>sfPresetIndex<span style=\"color: #bbbbbb\"> </span><span style=\"color: #BA2121\">&quot;/usr/share/sounds/sf2/FluidR3_GM.sf2&quot;</span>,<span style=\"color: #bbbbbb\"> </span><span style=\"color: #666666\">0</span>,<span style=\"color: #bbbbbb\"> </span><span style=\"color: #666666\">20</span>\n",
       "<span style=\"color: #bbbbbb\">  </span><span style=\"color: #B00040\">i</span>note0_<span style=\"color: #bbbbbb\"> </span><span style=\"color: #666666\">=</span><span style=\"color: #bbbbbb\"> </span><span style=\"color: #008000\">round</span>(<span style=\"color: #008000\">p</span>(<span style=\"color: #B00040\">i</span>dataidx_<span style=\"color: #bbbbbb\"> </span><span style=\"color: #666666\">+</span><span style=\"color: #bbbbbb\"> </span><span style=\"color: #666666\">1</span>))\n",
       "<span style=\"color: #bbbbbb\">  </span><span style=\"color: #B00040\">i</span>vel_<span style=\"color: #bbbbbb\"> </span><span style=\"color: #666666\">=</span><span style=\"color: #bbbbbb\"> </span><span style=\"color: #008000\">p</span>(<span style=\"color: #B00040\">i</span>dataidx_<span style=\"color: #bbbbbb\"> </span><span style=\"color: #666666\">+</span><span style=\"color: #bbbbbb\"> </span><span style=\"color: #666666\">2</span>)<span style=\"color: #bbbbbb\"> </span><span style=\"color: #666666\">*</span><span style=\"color: #bbbbbb\"> </span><span style=\"color: #666666\">127</span>\n",
       "<span style=\"color: #bbbbbb\">  </span><span style=\"color: #B00040\">k</span>pitch2<span style=\"color: #bbbbbb\"> </span><span style=\"color: #666666\">=</span><span style=\"color: #bbbbbb\"> </span><span style=\"color: #008000\">lag</span>:<span style=\"color: #B00040\">k</span>(<span style=\"color: #B00040\">k</span>pitch<span style=\"color: #666666\">+</span><span style=\"color: #B00040\">k</span>transp,<span style=\"color: #bbbbbb\"> </span><span style=\"color: #B00040\">i</span>pitchlag)\n",
       "<span style=\"color: #bbbbbb\">  </span><span style=\"color: #B00040\">a</span>out1,<span style=\"color: #bbbbbb\"> </span><span style=\"color: #B00040\">a</span>out2<span style=\"color: #bbbbbb\"> </span><span style=\"color: #008000\">sfplay</span><span style=\"color: #bbbbbb\"> </span><span style=\"color: #B00040\">i</span>vel_,<span style=\"color: #bbbbbb\"> </span><span style=\"color: #B00040\">i</span>note0_,<span style=\"color: #bbbbbb\"> </span><span style=\"color: #B00040\">k</span>amp<span style=\"color: #666666\">/16384</span>,<span style=\"color: #bbbbbb\"> </span><span style=\"color: #008000\">mtof</span>:<span style=\"color: #B00040\">k</span>(<span style=\"color: #B00040\">k</span>pitch2),<span style=\"color: #bbbbbb\"> </span><span style=\"color: #B00040\">i</span>presetidx,<span style=\"color: #bbbbbb\"> </span><span style=\"color: #666666\">1</span>\n",
       "</code></pre></div>\n",
       "</span>\n",
       "<span style=\"font-size:96%\"><strong>epilogue</strong></span>\n",
       "<span style=\"font-size:90%\"><div class=\"highlight\" style=\"background: #f8f8f8\"><pre style=\"line-height: 125%;\"><span></span><code><span style=\"color: #bbbbbb\">  </span>turnoffWhenSilent<span style=\"color: #bbbbbb\"> </span><span style=\"color: #B00040\">a</span>out1\n",
       "</code></pre></div>\n",
       "</span>\n",
       "<hr>\n",
       "Preset: <b>gm-violin</b> - <span style=\"color:#A0A0A0\"><i>General MIDI violin</i></span>\n",
       "<br>\n",
       "<code style=\"font-size: 90%\">  <span style=\"color:#A0A0A0;font-size:96%\">(routing=True, properties={'sfpath': '/usr/share/sounds/sf2/FluidR3_GM.sf2'}, numouts=2, numsignals=2)\n",
       "</span></code>\n",
       "<span style=\"font-size:96%\"><strong>init</strong></span>\n",
       "<span style=\"font-size:90%\"><div class=\"highlight\" style=\"background: #f8f8f8\"><pre style=\"line-height: 125%;\"><span></span><code><span style=\"color: #bbbbbb\">  </span><span style=\"color: #B00040\">i</span>SfTable_<span style=\"color: #bbbbbb\"> </span>sfloadonce<span style=\"color: #bbbbbb\"> </span><span style=\"color: #BA2121\">&quot;/usr/share/sounds/sf2/FluidR3_GM.sf2&quot;</span>\n",
       "</code></pre></div>\n",
       "</span>\n",
       "<span style=\"font-size:96%\"><strong>audiogen</strong></span>\n",
       "<span style=\"font-size:90%\"><div class=\"highlight\" style=\"background: #f8f8f8\"><pre style=\"line-height: 125%;\"><span></span><code><span style=\"color: #bbbbbb\">  </span><span style=\"color: #666666\">|</span><span style=\"color: #B00040\">k</span>transp<span style=\"color: #666666\">=0.0</span>,<span style=\"color: #bbbbbb\"> </span><span style=\"color: #B00040\">i</span>pitchlag<span style=\"color: #666666\">=0.1|</span>\n",
       "</code></pre></div>\n",
       "</span>\n",
       "<span style=\"font-size:90%\"><div class=\"highlight\" style=\"background: #f8f8f8\"><pre style=\"line-height: 125%;\"><span></span><code><span style=\"color: #bbbbbb\">  </span><span style=\"color: #B00040\">i</span>presetidx<span style=\"color: #bbbbbb\"> </span>sfPresetIndex<span style=\"color: #bbbbbb\"> </span><span style=\"color: #BA2121\">&quot;/usr/share/sounds/sf2/FluidR3_GM.sf2&quot;</span>,<span style=\"color: #bbbbbb\"> </span><span style=\"color: #666666\">0</span>,<span style=\"color: #bbbbbb\"> </span><span style=\"color: #666666\">40</span>\n",
       "<span style=\"color: #bbbbbb\">  </span><span style=\"color: #B00040\">i</span>note0_<span style=\"color: #bbbbbb\"> </span><span style=\"color: #666666\">=</span><span style=\"color: #bbbbbb\"> </span><span style=\"color: #008000\">round</span>(<span style=\"color: #008000\">p</span>(<span style=\"color: #B00040\">i</span>dataidx_<span style=\"color: #bbbbbb\"> </span><span style=\"color: #666666\">+</span><span style=\"color: #bbbbbb\"> </span><span style=\"color: #666666\">1</span>))\n",
       "<span style=\"color: #bbbbbb\">  </span><span style=\"color: #B00040\">i</span>vel_<span style=\"color: #bbbbbb\"> </span><span style=\"color: #666666\">=</span><span style=\"color: #bbbbbb\"> </span><span style=\"color: #008000\">p</span>(<span style=\"color: #B00040\">i</span>dataidx_<span style=\"color: #bbbbbb\"> </span><span style=\"color: #666666\">+</span><span style=\"color: #bbbbbb\"> </span><span style=\"color: #666666\">2</span>)<span style=\"color: #bbbbbb\"> </span><span style=\"color: #666666\">*</span><span style=\"color: #bbbbbb\"> </span><span style=\"color: #666666\">127</span>\n",
       "<span style=\"color: #bbbbbb\">  </span><span style=\"color: #B00040\">k</span>pitch2<span style=\"color: #bbbbbb\"> </span><span style=\"color: #666666\">=</span><span style=\"color: #bbbbbb\"> </span><span style=\"color: #008000\">lag</span>:<span style=\"color: #B00040\">k</span>(<span style=\"color: #B00040\">k</span>pitch<span style=\"color: #666666\">+</span><span style=\"color: #B00040\">k</span>transp,<span style=\"color: #bbbbbb\"> </span><span style=\"color: #B00040\">i</span>pitchlag)\n",
       "<span style=\"color: #bbbbbb\">  </span><span style=\"color: #B00040\">a</span>out1,<span style=\"color: #bbbbbb\"> </span><span style=\"color: #B00040\">a</span>out2<span style=\"color: #bbbbbb\"> </span><span style=\"color: #008000\">sfplay</span><span style=\"color: #bbbbbb\"> </span><span style=\"color: #B00040\">i</span>vel_,<span style=\"color: #bbbbbb\"> </span><span style=\"color: #B00040\">i</span>note0_,<span style=\"color: #bbbbbb\"> </span><span style=\"color: #B00040\">k</span>amp<span style=\"color: #666666\">/16384</span>,<span style=\"color: #bbbbbb\"> </span><span style=\"color: #008000\">mtof</span>:<span style=\"color: #B00040\">k</span>(<span style=\"color: #B00040\">k</span>pitch2),<span style=\"color: #bbbbbb\"> </span><span style=\"color: #B00040\">i</span>presetidx,<span style=\"color: #bbbbbb\"> </span><span style=\"color: #666666\">1</span>\n",
       "</code></pre></div>\n",
       "</span>\n",
       "<span style=\"font-size:96%\"><strong>epilogue</strong></span>\n",
       "<span style=\"font-size:90%\"><div class=\"highlight\" style=\"background: #f8f8f8\"><pre style=\"line-height: 125%;\"><span></span><code><span style=\"color: #bbbbbb\">  </span>turnoffWhenSilent<span style=\"color: #bbbbbb\"> </span><span style=\"color: #B00040\">a</span>out1\n",
       "</code></pre></div>\n",
       "</span>\n",
       "<hr>\n",
       "Preset: <b>.sing</b> - <span style=\"color:#A0A0A0\"><i>Simple vowel singing simulation</i></span>\n",
       "<br>\n",
       "<code style=\"font-size: 90%\">  <span style=\"color:#A0A0A0;font-size:96%\">(routing=True, numouts=2, numsignals=1)\n",
       "</span></code>\n",
       "<ul style=\"line-height: 120%\">\n",
       "<li><span style=\"font-size:90%\"><strong>kx</strong></span>: <span style=\"font-size:90%\"><i>x coordinate, from 0 to 1, A=(0;0), E=(0.5;0.5), I=(1;0), O=(0;1), U=(1;1)</i></span></li>\n",
       "<li><span style=\"font-size:90%\"><strong>ky</strong></span>: <span style=\"font-size:90%\"><i>y coordinate, from 0 to 1, A=(0;0), E=(0.5;0.5), I=(1;0), O=(0;1), U=(1;1)</i></span></li>\n",
       "<li><span style=\"font-size:90%\"><strong>kvibamount</strong></span>: <span style=\"font-size:90%\"><i>vibrato amount, 0 to 1</i></span></li>\n",
       "<li><span style=\"font-size:90%\"><strong>ivibstart</strong></span>: <span style=\"font-size:90%\"><i>start time of vibrato</i></span></li>\n",
       "<li><span style=\"font-size:90%\"><strong>ivibfreq</strong></span>: <span style=\"font-size:90%\"><i>vibrato frequency</i></span></li>\n",
       "<li><span style=\"font-size:90%\"><strong>ivibrange</strong></span>: <span style=\"font-size:90%\"><i>vibrato range in semitones</i></span></li>\n",
       "<li><span style=\"font-size:90%\"><strong>ipitchlag</strong></span>: <span style=\"font-size:90%\"><i>time lag for pitch modifications</i></span></li>\n",
       "</ul>\n",
       "<span style=\"font-size:96%\"><strong>init</strong></span>\n",
       "<span style=\"font-size:90%\"><div class=\"highlight\" style=\"background: #f8f8f8\"><pre style=\"line-height: 125%;\"><span></span><code><span style=\"color: #bbbbbb\">  </span><span style=\"color: #B00040\">gi</span>__formantFreqs__[]<span style=\"color: #bbbbbb\"> </span><span style=\"color: #008000\">fillarray</span><span style=\"color: #bbbbbb\"> </span>\\\n",
       "<span style=\"color: #bbbbbb\">      </span><span style=\"color: #666666\">668</span>,<span style=\"color: #bbbbbb\"> </span><span style=\"color: #666666\">1191</span>,<span style=\"color: #bbbbbb\"> </span><span style=\"color: #666666\">2428</span>,<span style=\"color: #bbbbbb\"> </span><span style=\"color: #666666\">3321</span>,<span style=\"color: #bbbbbb\"> </span><span style=\"color: #666666\">4600</span>,<span style=\"color: #bbbbbb\"> </span><span style=\"border: 1px solid #FF0000\">\\</span><span style=\"color: #bbbbbb\">  </span><span style=\"color: #3D7B7B; font-style: italic\">; A</span>\n",
       "<span style=\"color: #bbbbbb\">      </span><span style=\"color: #666666\">327</span>,<span style=\"color: #bbbbbb\"> </span><span style=\"color: #666666\">2157</span>,<span style=\"color: #bbbbbb\"> </span><span style=\"color: #666666\">2754</span>,<span style=\"color: #bbbbbb\"> </span><span style=\"color: #666666\">3630</span>,<span style=\"color: #bbbbbb\"> </span><span style=\"color: #666666\">4600</span>,<span style=\"color: #bbbbbb\"> </span><span style=\"border: 1px solid #FF0000\">\\</span><span style=\"color: #bbbbbb\">  </span><span style=\"color: #3D7B7B; font-style: italic\">; E </span>\n",
       "<span style=\"color: #bbbbbb\">      </span><span style=\"color: #666666\">208</span>,<span style=\"color: #bbbbbb\"> </span><span style=\"color: #666666\">2152</span>,<span style=\"color: #bbbbbb\"> </span><span style=\"color: #666666\">3128</span>,<span style=\"color: #bbbbbb\"> </span><span style=\"color: #666666\">3425</span>,<span style=\"color: #bbbbbb\"> </span><span style=\"color: #666666\">4200</span>,<span style=\"color: #bbbbbb\"> </span><span style=\"border: 1px solid #FF0000\">\\</span><span style=\"color: #bbbbbb\">  </span><span style=\"color: #3D7B7B; font-style: italic\">; I</span>\n",
       "<span style=\"color: #bbbbbb\">      </span><span style=\"color: #666666\">335</span>,<span style=\"color: #bbbbbb\"> </span><span style=\"color: #666666\">628</span>,<span style=\"color: #bbbbbb\"> </span><span style=\"color: #666666\">2689</span>,<span style=\"color: #bbbbbb\"> </span><span style=\"color: #666666\">3515</span>,<span style=\"color: #bbbbbb\"> </span><span style=\"color: #666666\">4200</span>,<span style=\"color: #bbbbbb\"> </span><span style=\"border: 1px solid #FF0000\">\\</span><span style=\"color: #bbbbbb\">   </span><span style=\"color: #3D7B7B; font-style: italic\">; O</span>\n",
       "<span style=\"color: #bbbbbb\">      </span><span style=\"color: #666666\">254</span>,<span style=\"color: #bbbbbb\"> </span><span style=\"color: #666666\">796</span>,<span style=\"color: #bbbbbb\"> </span><span style=\"color: #666666\">2515</span>,<span style=\"color: #bbbbbb\"> </span><span style=\"color: #666666\">3274</span>,<span style=\"color: #bbbbbb\"> </span><span style=\"color: #666666\">4160</span><span style=\"color: #bbbbbb\">      </span><span style=\"color: #3D7B7B; font-style: italic\">; U</span>\n",
       "\n",
       "<span style=\"color: #bbbbbb\">  </span><span style=\"color: #B00040\">gi</span>__formantDbs__[]<span style=\"color: #bbbbbb\"> </span><span style=\"color: #008000\">fillarray</span><span style=\"color: #bbbbbb\">   </span>\\\n",
       "<span style=\"color: #bbbbbb\">      </span><span style=\"color: #666666\">28</span>,<span style=\"color: #bbbbbb\"> </span><span style=\"color: #666666\">28</span>,<span style=\"color: #bbbbbb\"> </span><span style=\"color: #666666\">22</span>,<span style=\"color: #bbbbbb\"> </span><span style=\"color: #666666\">20</span>,<span style=\"color: #bbbbbb\"> </span><span style=\"color: #666666\">20</span>,<span style=\"color: #bbbbbb\"> </span>\\\n",
       "<span style=\"color: #bbbbbb\">      </span><span style=\"color: #666666\">15</span>,<span style=\"color: #bbbbbb\"> </span><span style=\"color: #666666\">25</span>,<span style=\"color: #bbbbbb\"> </span><span style=\"color: #666666\">24</span>,<span style=\"color: #bbbbbb\"> </span><span style=\"color: #666666\">20</span>,<span style=\"color: #bbbbbb\"> </span><span style=\"color: #666666\">23</span>,<span style=\"color: #bbbbbb\"> </span>\\\n",
       "<span style=\"color: #bbbbbb\">      </span><span style=\"color: #666666\">10</span>,<span style=\"color: #bbbbbb\"> </span><span style=\"color: #666666\">20</span>,<span style=\"color: #bbbbbb\"> </span><span style=\"color: #666666\">27</span>,<span style=\"color: #bbbbbb\"> </span><span style=\"color: #666666\">26</span>,<span style=\"color: #bbbbbb\"> </span><span style=\"color: #666666\">20</span>,<span style=\"color: #bbbbbb\"> </span>\\\n",
       "<span style=\"color: #bbbbbb\">      </span><span style=\"color: #666666\">15</span>,<span style=\"color: #bbbbbb\"> </span><span style=\"color: #666666\">18</span>,<span style=\"color: #bbbbbb\"> </span><span style=\"color: #666666\">5</span>,<span style=\"color: #bbbbbb\">  </span><span style=\"color: #666666\">7</span>,<span style=\"color: #bbbbbb\">  </span><span style=\"color: #666666\">12</span>,<span style=\"color: #bbbbbb\"> </span>\\\n",
       "<span style=\"color: #bbbbbb\">      </span><span style=\"color: #666666\">12</span>,<span style=\"color: #bbbbbb\"> </span><span style=\"color: #666666\">10</span>,<span style=\"color: #bbbbbb\"> </span><span style=\"color: #666666\">6</span>,<span style=\"color: #bbbbbb\">  </span><span style=\"color: #666666\">5</span>,<span style=\"color: #bbbbbb\">  </span><span style=\"color: #666666\">12</span>\n",
       "\n",
       "<span style=\"color: #bbbbbb\">  </span><span style=\"color: #B00040\">gi</span>__formantBws__[]<span style=\"color: #bbbbbb\"> </span><span style=\"color: #008000\">fillarray</span><span style=\"color: #bbbbbb\">   </span>\\\n",
       "<span style=\"color: #bbbbbb\">      </span><span style=\"color: #666666\">80</span>,<span style=\"color: #bbbbbb\"> </span><span style=\"color: #666666\">90</span>,<span style=\"color: #bbbbbb\"> </span><span style=\"color: #666666\">120</span>,<span style=\"color: #bbbbbb\"> </span><span style=\"color: #666666\">130</span>,<span style=\"color: #bbbbbb\"> </span><span style=\"color: #666666\">140</span>,<span style=\"color: #bbbbbb\"> </span>\\\n",
       "<span style=\"color: #bbbbbb\">      </span><span style=\"color: #666666\">60</span>,<span style=\"color: #bbbbbb\"> </span><span style=\"color: #666666\">100</span>,<span style=\"color: #bbbbbb\"> </span><span style=\"color: #666666\">120</span>,<span style=\"color: #bbbbbb\"> </span><span style=\"color: #666666\">150</span>,<span style=\"color: #bbbbbb\"> </span><span style=\"color: #666666\">200</span>,<span style=\"color: #bbbbbb\"> </span>\\\n",
       "<span style=\"color: #bbbbbb\">      </span><span style=\"color: #666666\">60</span>,<span style=\"color: #bbbbbb\"> </span><span style=\"color: #666666\">90</span>,<span style=\"color: #bbbbbb\"> </span><span style=\"color: #666666\">100</span>,<span style=\"color: #bbbbbb\"> </span><span style=\"color: #666666\">120</span>,<span style=\"color: #bbbbbb\"> </span><span style=\"color: #666666\">120</span>,<span style=\"color: #bbbbbb\"> </span>\\\n",
       "<span style=\"color: #bbbbbb\">      </span><span style=\"color: #666666\">40</span>,<span style=\"color: #bbbbbb\"> </span><span style=\"color: #666666\">80</span>,<span style=\"color: #bbbbbb\"> </span><span style=\"color: #666666\">100</span>,<span style=\"color: #bbbbbb\"> </span><span style=\"color: #666666\">120</span>,<span style=\"color: #bbbbbb\"> </span><span style=\"color: #666666\">120</span>,<span style=\"color: #bbbbbb\"> </span>\\\n",
       "<span style=\"color: #bbbbbb\">      </span><span style=\"color: #666666\">50</span>,<span style=\"color: #bbbbbb\"> </span><span style=\"color: #666666\">60</span>,<span style=\"color: #bbbbbb\"> </span><span style=\"color: #666666\">170</span>,<span style=\"color: #bbbbbb\"> </span><span style=\"color: #666666\">180</span>,<span style=\"color: #bbbbbb\"> </span><span style=\"color: #666666\">200</span>\n",
       "\n",
       "<span style=\"color: #bbbbbb\">  </span><span style=\"color: #B00040\">gi</span>__formantAmps__[]<span style=\"color: #bbbbbb\"> </span><span style=\"color: #008000\">maparray</span><span style=\"color: #bbbbbb\"> </span><span style=\"color: #B00040\">gi</span>__formantDbs__,<span style=\"color: #bbbbbb\"> </span><span style=\"color: #BA2121\">&quot;ampdb&quot;</span>\n",
       "<span style=\"color: #bbbbbb\">  </span><span style=\"color: #008000\">reshapearray</span><span style=\"color: #bbbbbb\"> </span><span style=\"color: #B00040\">gi</span>__formantFreqs__,<span style=\"color: #bbbbbb\"> </span><span style=\"color: #666666\">5</span>,<span style=\"color: #bbbbbb\"> </span><span style=\"color: #666666\">5</span>\n",
       "<span style=\"color: #bbbbbb\">  </span><span style=\"color: #008000\">reshapearray</span><span style=\"color: #bbbbbb\"> </span><span style=\"color: #B00040\">gi</span>__formantAmps__,<span style=\"color: #bbbbbb\"> </span><span style=\"color: #666666\">5</span>,<span style=\"color: #bbbbbb\"> </span><span style=\"color: #666666\">5</span>\n",
       "<span style=\"color: #bbbbbb\">  </span><span style=\"color: #008000\">reshapearray</span><span style=\"color: #bbbbbb\"> </span><span style=\"color: #B00040\">gi</span>__formantBws__,<span style=\"color: #bbbbbb\"> </span><span style=\"color: #666666\">5</span>,<span style=\"color: #bbbbbb\"> </span><span style=\"color: #666666\">5</span>\n",
       "</code></pre></div>\n",
       "</span>\n",
       "<span style=\"font-size:96%\"><strong>audiogen</strong></span>\n",
       "<span style=\"font-size:90%\"><div class=\"highlight\" style=\"background: #f8f8f8\"><pre style=\"line-height: 125%;\"><span></span><code><span style=\"color: #bbbbbb\">  </span><span style=\"color: #666666\">|</span><span style=\"color: #B00040\">k</span>x<span style=\"color: #666666\">=0.0</span>,<span style=\"color: #bbbbbb\"> </span><span style=\"color: #B00040\">k</span>y<span style=\"color: #666666\">=0.0</span>,<span style=\"color: #bbbbbb\"> </span><span style=\"color: #B00040\">k</span>vibamount<span style=\"color: #666666\">=1.0</span>,<span style=\"color: #bbbbbb\"> </span><span style=\"color: #B00040\">i</span>vibstart<span style=\"color: #666666\">=0.5</span>,<span style=\"color: #bbbbbb\"> </span><span style=\"color: #B00040\">i</span>vibfreq<span style=\"color: #666666\">=4.5</span>,<span style=\"color: #bbbbbb\"> </span><span style=\"color: #B00040\">i</span>vibrange<span style=\"color: #666666\">=0.25</span>,<span style=\"color: #bbbbbb\"> </span><span style=\"color: #B00040\">i</span>pitchlag<span style=\"color: #666666\">=0.2|</span>\n",
       "</code></pre></div>\n",
       "</span>\n",
       "<span style=\"font-size:90%\"><div class=\"highlight\" style=\"background: #f8f8f8\"><pre style=\"line-height: 125%;\"><span></span><code><span style=\"color: #bbbbbb\">  </span><span style=\"color: #3D7B7B; font-style: italic\">; Simple vowel singing simulation</span>\n",
       "<span style=\"color: #bbbbbb\">  </span><span style=\"color: #3D7B7B; font-style: italic\">; Args:</span>\n",
       "<span style=\"color: #bbbbbb\">  </span><span style=\"color: #3D7B7B; font-style: italic\">;   kx: x coordinate, from 0 to 1, A=(0;0), E=(0.5;0.5), I=(1;0), O=(0;1), U=(1;1)</span>\n",
       "<span style=\"color: #bbbbbb\">  </span><span style=\"color: #3D7B7B; font-style: italic\">;   ky: y coordinate, from 0 to 1, A=(0;0), E=(0.5;0.5), I=(1;0), O=(0;1), U=(1;1)</span>\n",
       "<span style=\"color: #bbbbbb\">  </span><span style=\"color: #3D7B7B; font-style: italic\">;   kvibamount: vibrato amount, 0 to 1</span>\n",
       "<span style=\"color: #bbbbbb\">  </span><span style=\"color: #3D7B7B; font-style: italic\">;   ivibstart: start time of vibrato</span>\n",
       "<span style=\"color: #bbbbbb\">  </span><span style=\"color: #3D7B7B; font-style: italic\">;   ivibfreq: vibrato frequency</span>\n",
       "<span style=\"color: #bbbbbb\">  </span><span style=\"color: #3D7B7B; font-style: italic\">;   ivibrange: vibrato range in semitones</span>\n",
       "<span style=\"color: #bbbbbb\">  </span><span style=\"color: #3D7B7B; font-style: italic\">;   ipitchlag: time lag for pitch modifications</span>\n",
       "\n",
       "<span style=\"color: #bbbbbb\">  </span><span style=\"color: #B00040\">k</span>noVib<span style=\"color: #bbbbbb\"> </span><span style=\"color: #666666\">=</span><span style=\"color: #bbbbbb\"> </span><span style=\"color: #008000\">lag</span>:<span style=\"color: #B00040\">k</span>(<span style=\"color: #008000\">trighold</span>(<span style=\"color: #008000\">changed2</span>(<span style=\"color: #B00040\">k</span>pitch),<span style=\"color: #bbbbbb\"> </span><span style=\"color: #B00040\">i</span>vibstart<span style=\"color: #666666\">*0.8</span>),<span style=\"color: #bbbbbb\"> </span><span style=\"color: #B00040\">i</span>vibstart<span style=\"color: #666666\">*0.2</span>)\n",
       "\n",
       "<span style=\"color: #bbbbbb\">  </span><span style=\"color: #B00040\">k</span>vibfreq<span style=\"color: #bbbbbb\"> </span><span style=\"color: #666666\">=</span><span style=\"color: #bbbbbb\"> </span><span style=\"color: #008000\">linseg</span>:<span style=\"color: #B00040\">k</span>(<span style=\"color: #666666\">0</span>,<span style=\"color: #bbbbbb\"> </span><span style=\"color: #B00040\">i</span>vibstart<span style=\"color: #666666\">*0.25</span>,<span style=\"color: #bbbbbb\"> </span><span style=\"color: #666666\">0</span>,<span style=\"color: #bbbbbb\"> </span><span style=\"color: #B00040\">i</span>vibstart<span style=\"color: #666666\">*0.75</span>,<span style=\"color: #bbbbbb\"> </span><span style=\"color: #B00040\">i</span>vibfreq)<span style=\"color: #bbbbbb\"> </span><span style=\"color: #666666\">*</span><span style=\"color: #bbbbbb\"> </span><span style=\"color: #008000\">randomi</span>:<span style=\"color: #B00040\">k</span>(<span style=\"color: #666666\">0.9</span>,<span style=\"color: #bbbbbb\"> </span><span style=\"color: #666666\">1.1</span>,<span style=\"color: #bbbbbb\"> </span><span style=\"color: #666666\">2</span>)<span style=\"color: #bbbbbb\"> </span><span style=\"color: #666666\">*</span><span style=\"color: #bbbbbb\"> </span>(<span style=\"color: #666666\">1</span><span style=\"color: #bbbbbb\"> </span><span style=\"color: #666666\">-</span><span style=\"color: #bbbbbb\"> </span><span style=\"color: #B00040\">k</span>noVib)\n",
       "<span style=\"color: #bbbbbb\">  </span><span style=\"color: #B00040\">k</span>vibsemi<span style=\"color: #bbbbbb\"> </span><span style=\"color: #666666\">=</span><span style=\"color: #bbbbbb\"> </span><span style=\"color: #008000\">linseg</span>:<span style=\"color: #B00040\">k</span>(<span style=\"color: #666666\">0</span>,<span style=\"color: #bbbbbb\"> </span><span style=\"color: #B00040\">i</span>vibstart<span style=\"color: #666666\">*0.2</span>,<span style=\"color: #bbbbbb\"> </span><span style=\"color: #666666\">0</span>,<span style=\"color: #bbbbbb\"> </span><span style=\"color: #B00040\">i</span>vibstart<span style=\"color: #666666\">*0.8</span>,<span style=\"color: #bbbbbb\"> </span><span style=\"color: #B00040\">i</span>vibrange)<span style=\"color: #bbbbbb\"> </span><span style=\"color: #666666\">*</span><span style=\"color: #bbbbbb\"> </span><span style=\"color: #008000\">randomi</span>:<span style=\"color: #B00040\">k</span>(<span style=\"color: #666666\">0.9</span>,<span style=\"color: #bbbbbb\"> </span><span style=\"color: #666666\">1.1</span>,<span style=\"color: #bbbbbb\"> </span><span style=\"color: #666666\">10</span>)\n",
       "<span style=\"color: #bbbbbb\">  </span><span style=\"color: #B00040\">k</span>vib<span style=\"color: #bbbbbb\"> </span><span style=\"color: #666666\">=</span><span style=\"color: #bbbbbb\"> </span><span style=\"color: #008000\">oscil</span>:<span style=\"color: #B00040\">k</span>(<span style=\"color: #B00040\">k</span>vibsemi<span style=\"color: #666666\">/2</span>,<span style=\"color: #bbbbbb\"> </span><span style=\"color: #B00040\">k</span>vibfreq)<span style=\"color: #bbbbbb\"> </span><span style=\"color: #666666\">-</span><span style=\"color: #bbbbbb\"> </span><span style=\"color: #B00040\">k</span>vibsemi<span style=\"color: #666666\">/2</span>\n",
       "<span style=\"color: #bbbbbb\">  </span><span style=\"color: #B00040\">k</span>pitch2<span style=\"color: #bbbbbb\"> </span><span style=\"color: #666666\">=</span><span style=\"color: #bbbbbb\"> </span><span style=\"color: #008000\">lag</span>:<span style=\"color: #B00040\">k</span>(<span style=\"color: #B00040\">k</span>pitch,<span style=\"color: #bbbbbb\"> </span><span style=\"color: #B00040\">i</span>pitchlag)<span style=\"color: #bbbbbb\"> </span><span style=\"color: #666666\">+</span><span style=\"color: #bbbbbb\"> </span><span style=\"color: #B00040\">k</span>vib<span style=\"color: #666666\">*</span><span style=\"color: #B00040\">k</span>vibamount\n",
       "<span style=\"color: #bbbbbb\">  </span><span style=\"color: #B00040\">a</span>source<span style=\"color: #bbbbbb\"> </span><span style=\"color: #666666\">=</span><span style=\"color: #bbbbbb\"> </span><span style=\"color: #008000\">butterlp</span>:<span style=\"color: #B00040\">a</span>(<span style=\"color: #008000\">vco2</span>:<span style=\"color: #B00040\">a</span>(<span style=\"color: #B00040\">k</span>amp,<span style=\"color: #bbbbbb\"> </span><span style=\"color: #008000\">mtof</span>(<span style=\"color: #B00040\">k</span>pitch2)),<span style=\"color: #bbbbbb\"> </span><span style=\"color: #666666\">5000</span>)\n",
       "<span style=\"color: #bbbbbb\">  </span><span style=\"color: #B00040\">k</span>coords[]<span style=\"color: #bbbbbb\"> </span><span style=\"color: #008000\">fillarray</span><span style=\"color: #bbbbbb\"> </span><span style=\"color: #666666\">0</span>,<span style=\"color: #bbbbbb\"> </span><span style=\"color: #666666\">0</span>,<span style=\"color: #bbbbbb\"> </span><span style=\"color: #666666\">1</span>,<span style=\"color: #bbbbbb\">       </span><span style=\"border: 1px solid #FF0000\">\\</span><span style=\"color: #bbbbbb\">  </span><span style=\"color: #3D7B7B; font-style: italic\">; A</span>\n",
       "<span style=\"color: #bbbbbb\">                      </span><span style=\"color: #666666\">0.5</span>,<span style=\"color: #bbbbbb\"> </span><span style=\"color: #666666\">0.5</span>,<span style=\"color: #bbbbbb\"> </span><span style=\"color: #666666\">0.3</span>,<span style=\"color: #bbbbbb\"> </span><span style=\"border: 1px solid #FF0000\">\\</span><span style=\"color: #bbbbbb\">  </span><span style=\"color: #3D7B7B; font-style: italic\">; E</span>\n",
       "<span style=\"color: #bbbbbb\">                      </span><span style=\"color: #666666\">1</span>,<span style=\"color: #bbbbbb\"> </span><span style=\"color: #666666\">0</span>,<span style=\"color: #bbbbbb\"> </span><span style=\"color: #666666\">1</span>,<span style=\"color: #bbbbbb\">       </span><span style=\"border: 1px solid #FF0000\">\\</span><span style=\"color: #bbbbbb\">  </span><span style=\"color: #3D7B7B; font-style: italic\">; I</span>\n",
       "<span style=\"color: #bbbbbb\">                      </span><span style=\"color: #666666\">0</span>,<span style=\"color: #bbbbbb\"> </span><span style=\"color: #666666\">1</span>,<span style=\"color: #bbbbbb\"> </span><span style=\"color: #666666\">1</span>,<span style=\"color: #bbbbbb\">       </span><span style=\"border: 1px solid #FF0000\">\\</span><span style=\"color: #bbbbbb\">  </span><span style=\"color: #3D7B7B; font-style: italic\">; O</span>\n",
       "<span style=\"color: #bbbbbb\">                      </span><span style=\"color: #666666\">1</span>,<span style=\"color: #bbbbbb\"> </span><span style=\"color: #666666\">1</span>,<span style=\"color: #bbbbbb\"> </span><span style=\"color: #666666\">1</span><span style=\"color: #bbbbbb\">           </span><span style=\"color: #3D7B7B; font-style: italic\">; U</span>\n",
       "\n",
       "<span style=\"color: #bbbbbb\">  </span><span style=\"color: #B00040\">k</span>weights[]<span style=\"color: #bbbbbb\"> </span>presetinterp<span style=\"color: #bbbbbb\"> </span><span style=\"color: #B00040\">k</span>x,<span style=\"color: #bbbbbb\"> </span><span style=\"color: #B00040\">k</span>y,<span style=\"color: #bbbbbb\"> </span><span style=\"color: #B00040\">k</span>coords,<span style=\"color: #bbbbbb\"> </span><span style=\"color: #666666\">0.2</span>\n",
       "<span style=\"color: #bbbbbb\">  </span><span style=\"color: #B00040\">k</span>formantFreqs[]<span style=\"color: #bbbbbb\"> </span><span style=\"color: #B00040\">w</span>eightedsum<span style=\"color: #bbbbbb\"> </span><span style=\"color: #B00040\">gi</span>__formantFreqs__,<span style=\"color: #bbbbbb\"> </span><span style=\"color: #B00040\">k</span>weights\n",
       "<span style=\"color: #bbbbbb\">  </span><span style=\"color: #B00040\">k</span>formantBws[]<span style=\"color: #bbbbbb\">   </span><span style=\"color: #B00040\">w</span>eightedsum<span style=\"color: #bbbbbb\"> </span><span style=\"color: #B00040\">gi</span>__formantBws__,<span style=\"color: #bbbbbb\"> </span><span style=\"color: #B00040\">k</span>weights\n",
       "<span style=\"color: #bbbbbb\">  </span><span style=\"color: #B00040\">k</span>formantAmps[]<span style=\"color: #bbbbbb\">  </span><span style=\"color: #B00040\">w</span>eightedsum<span style=\"color: #bbbbbb\"> </span><span style=\"color: #B00040\">gi</span>__formantAmps__,<span style=\"color: #bbbbbb\"> </span><span style=\"color: #B00040\">k</span>weights\n",
       "<span style=\"color: #bbbbbb\">  </span><span style=\"color: #B00040\">k</span>formantFreqs<span style=\"color: #bbbbbb\"> </span>poly<span style=\"color: #bbbbbb\"> </span><span style=\"color: #666666\">5</span>,<span style=\"color: #bbbbbb\"> </span><span style=\"color: #BA2121\">&quot;lag&quot;</span>,<span style=\"color: #bbbbbb\"> </span><span style=\"color: #B00040\">k</span>formantFreqs,<span style=\"color: #bbbbbb\"> </span><span style=\"color: #B00040\">i</span>pitchlag\n",
       "<span style=\"color: #bbbbbb\">  </span><span style=\"color: #B00040\">k</span>formantAmps<span style=\"color: #bbbbbb\">  </span>poly<span style=\"color: #bbbbbb\"> </span><span style=\"color: #666666\">5</span>,<span style=\"color: #bbbbbb\"> </span><span style=\"color: #BA2121\">&quot;lag&quot;</span>,<span style=\"color: #bbbbbb\"> </span><span style=\"color: #B00040\">k</span>formantAmps,<span style=\"color: #bbbbbb\"> </span><span style=\"color: #B00040\">i</span>pitchlag\n",
       "<span style=\"color: #bbbbbb\">  </span><span style=\"color: #B00040\">a</span>formants[]<span style=\"color: #bbbbbb\"> </span>poly<span style=\"color: #bbbbbb\"> </span><span style=\"color: #666666\">5</span>,<span style=\"color: #bbbbbb\"> </span><span style=\"color: #BA2121\">&quot;resonx&quot;</span>,<span style=\"color: #bbbbbb\"> </span><span style=\"color: #B00040\">a</span>source,<span style=\"color: #bbbbbb\"> </span><span style=\"color: #B00040\">k</span>formantFreqs,<span style=\"color: #bbbbbb\"> </span><span style=\"color: #B00040\">k</span>formantBws,<span style=\"color: #bbbbbb\"> </span><span style=\"color: #666666\">2</span>,<span style=\"color: #bbbbbb\"> </span><span style=\"color: #666666\">1</span>\n",
       "<span style=\"color: #bbbbbb\">  </span><span style=\"color: #B00040\">a</span>formants<span style=\"color: #bbbbbb\"> </span><span style=\"color: #666666\">*=</span><span style=\"color: #bbbbbb\"> </span><span style=\"color: #B00040\">k</span>formantAmps\n",
       "<span style=\"color: #bbbbbb\">  </span><span style=\"color: #B00040\">a</span>out1<span style=\"color: #bbbbbb\"> </span><span style=\"color: #666666\">=</span><span style=\"color: #bbbbbb\"> </span><span style=\"color: #008000\">sumarray</span>(<span style=\"color: #B00040\">a</span>formants)<span style=\"color: #bbbbbb\"> </span><span style=\"color: #666666\">*</span><span style=\"color: #bbbbbb\"> </span><span style=\"color: #666666\">0.1</span>\n",
       "</code></pre></div>\n",
       "</span>\n",
       "<hr>\n",
       "Preset: <b>_click</b> - <span style=\"color:#A0A0A0\"><i>Default preset used when rendering a click-track</i></span>\n",
       "<br>\n",
       "<code style=\"font-size: 90%\">  <span style=\"color:#A0A0A0;font-size:96%\">(routing=True, numouts=2, numsignals=1)\n",
       "</span></code>\n",
       "<ul style=\"line-height: 120%\">\n",
       "<li><span style=\"font-size:90%\"><strong>ktransp</strong></span>: <span style=\"font-size:90%\"><i>transposition interval</i></span></li>\n",
       "</ul>\n",
       "<span style=\"font-size:96%\"><strong>audiogen</strong></span>\n",
       "<span style=\"font-size:90%\"><div class=\"highlight\" style=\"background: #f8f8f8\"><pre style=\"line-height: 125%;\"><span></span><code><span style=\"color: #bbbbbb\">  </span><span style=\"color: #666666\">|</span><span style=\"color: #B00040\">k</span>transp<span style=\"color: #666666\">=24.0|</span>\n",
       "</code></pre></div>\n",
       "</span>\n",
       "<span style=\"font-size:90%\"><div class=\"highlight\" style=\"background: #f8f8f8\"><pre style=\"line-height: 125%;\"><span></span><code><span style=\"color: #bbbbbb\">  </span><span style=\"color: #3D7B7B; font-style: italic\">; Default preset used when rendering a click-track</span>\n",
       "<span style=\"color: #bbbbbb\">  </span><span style=\"color: #3D7B7B; font-style: italic\">; Args:</span>\n",
       "<span style=\"color: #bbbbbb\">  </span><span style=\"color: #3D7B7B; font-style: italic\">;   ktransp: transposition interval</span>\n",
       "<span style=\"color: #bbbbbb\">  </span><span style=\"color: #B00040\">a</span>clickenv<span style=\"color: #bbbbbb\"> </span><span style=\"color: #008000\">expseg</span><span style=\"color: #bbbbbb\"> </span><span style=\"color: #008000\">db</span>(<span style=\"color: #666666\">-120</span>),<span style=\"color: #bbbbbb\"> </span><span style=\"color: #666666\">0.01</span>,<span style=\"color: #bbbbbb\"> </span><span style=\"color: #666666\">1</span>,<span style=\"color: #bbbbbb\"> </span><span style=\"color: #666666\">0.1</span>,<span style=\"color: #bbbbbb\"> </span><span style=\"color: #008000\">db</span>(<span style=\"color: #666666\">-120</span>)\n",
       "<span style=\"color: #bbbbbb\">  </span><span style=\"color: #B00040\">a</span>out1<span style=\"color: #bbbbbb\"> </span><span style=\"color: #666666\">=</span><span style=\"color: #bbbbbb\"> </span><span style=\"color: #008000\">oscili</span>:<span style=\"color: #B00040\">a</span>(<span style=\"color: #B00040\">a</span>clickenv,<span style=\"color: #bbbbbb\"> </span><span style=\"color: #008000\">mtof</span>:<span style=\"color: #B00040\">k</span>(<span style=\"color: #B00040\">k</span>pitch<span style=\"color: #666666\">+</span><span style=\"color: #B00040\">k</span>transp))\n",
       "</code></pre></div>\n",
       "</span>\n",
       "<hr>\n",
       "Preset: <b>_playtable</b> - <span style=\"color:#A0A0A0\"><i>Built-in presetdef to playback a table</i></span>\n",
       "<br>\n",
       "<code style=\"font-size: 90%\">  <span style=\"color:#A0A0A0;font-size:96%\">(numouts=2, numsignals=2)\n",
       "</span></code>\n",
       "<ul style=\"line-height: 120%\">\n",
       "<li><span style=\"font-size:90%\"><strong>isndtab</strong></span>: <span style=\"font-size:90%\"><i>table number to play</i></span></li>\n",
       "<li><span style=\"font-size:90%\"><strong>istart</strong></span>: <span style=\"font-size:90%\"><i>skip time</i></span></li>\n",
       "<li><span style=\"font-size:90%\"><strong>kspeed</strong></span>: <span style=\"font-size:90%\"><i>playback speed</i></span></li>\n",
       "<li><span style=\"font-size:90%\"><strong>ixfade</strong></span>: <span style=\"font-size:90%\"><i>crossfade time, if negative no looping</i></span></li>\n",
       "</ul>\n",
       "<span style=\"font-size:96%\"><strong>audiogen</strong></span>\n",
       "<span style=\"font-size:90%\"><div class=\"highlight\" style=\"background: #f8f8f8\"><pre style=\"line-height: 125%;\"><span></span><code><span style=\"color: #bbbbbb\">  </span><span style=\"color: #666666\">|</span><span style=\"color: #B00040\">i</span>sndtab<span style=\"color: #666666\">=0.0</span>,<span style=\"color: #bbbbbb\"> </span><span style=\"color: #B00040\">i</span>start<span style=\"color: #666666\">=0.0</span>,<span style=\"color: #bbbbbb\"> </span><span style=\"color: #B00040\">k</span>speed<span style=\"color: #666666\">=1.0</span>,<span style=\"color: #bbbbbb\"> </span><span style=\"color: #B00040\">i</span>xfade<span style=\"color: #666666\">=-1.0|</span>\n",
       "</code></pre></div>\n",
       "</span>\n",
       "<span style=\"font-size:90%\"><div class=\"highlight\" style=\"background: #f8f8f8\"><pre style=\"line-height: 125%;\"><span></span><code><span style=\"color: #bbbbbb\">  </span><span style=\"color: #3D7B7B; font-style: italic\">; Built-in presetdef to playback a table</span>\n",
       "<span style=\"color: #bbbbbb\">  </span><span style=\"color: #3D7B7B; font-style: italic\">; Args:</span>\n",
       "<span style=\"color: #bbbbbb\">  </span><span style=\"color: #3D7B7B; font-style: italic\">;   isndtab: table number to play</span>\n",
       "<span style=\"color: #bbbbbb\">  </span><span style=\"color: #3D7B7B; font-style: italic\">;   istart: skip time</span>\n",
       "<span style=\"color: #bbbbbb\">  </span><span style=\"color: #3D7B7B; font-style: italic\">;   kspeed: playback speed</span>\n",
       "<span style=\"color: #bbbbbb\">  </span><span style=\"color: #3D7B7B; font-style: italic\">;   ixfade: crossfade time, if negative no looping</span>\n",
       "<span style=\"color: #bbbbbb\">  </span><span style=\"color: #B00040\">i</span>loop<span style=\"color: #bbbbbb\"> </span><span style=\"color: #666666\">=</span><span style=\"color: #bbbbbb\"> </span><span style=\"color: #B00040\">i</span>xfade<span style=\"color: #bbbbbb\"> </span><span style=\"color: #666666\">&gt;=</span><span style=\"color: #bbbbbb\"> </span><span style=\"color: #666666\">0</span><span style=\"color: #bbbbbb\"> </span><span style=\"color: #666666\">?</span><span style=\"color: #bbbbbb\"> </span><span style=\"color: #666666\">1</span><span style=\"color: #bbbbbb\"> </span><span style=\"color: #666666\">:</span><span style=\"color: #bbbbbb\"> </span><span style=\"color: #666666\">0</span>\n",
       "<span style=\"color: #bbbbbb\">  </span><span style=\"color: #B00040\">i</span>numouts<span style=\"color: #bbbbbb\"> </span><span style=\"color: #666666\">=</span><span style=\"color: #bbbbbb\"> </span><span style=\"color: #008000\">ftchnls</span>(<span style=\"color: #B00040\">i</span>sndtab)\n",
       "<span style=\"color: #bbbbbb\">  </span><span style=\"color: #B00040\">i</span>numsamples<span style=\"color: #bbbbbb\"> </span><span style=\"color: #666666\">=</span><span style=\"color: #bbbbbb\"> </span><span style=\"color: #008000\">nsamp</span>(<span style=\"color: #B00040\">i</span>sndtab)\n",
       "<span style=\"color: #bbbbbb\">  </span><span style=\"color: #B00040\">i</span>sr<span style=\"color: #bbbbbb\"> </span><span style=\"color: #666666\">=</span><span style=\"color: #bbbbbb\"> </span><span style=\"color: #008000\">ftsr</span>(<span style=\"color: #B00040\">i</span>sndtab)\n",
       "<span style=\"color: #bbbbbb\">  </span><span style=\"color: #B00040\">i</span>onecycle<span style=\"color: #bbbbbb\"> </span><span style=\"color: #666666\">=</span><span style=\"color: #bbbbbb\"> </span><span style=\"color: #19177C\">ksmps</span><span style=\"color: #666666\">/</span><span style=\"color: #19177C\">sr</span>\n",
       "\n",
       "<span style=\"color: #bbbbbb\">  </span><span style=\"color: #008000; font-weight: bold\">if</span><span style=\"color: #bbbbbb\"> </span><span style=\"color: #B00040\">i</span>sr<span style=\"color: #bbbbbb\"> </span><span style=\"color: #666666\">&lt;=</span><span style=\"color: #bbbbbb\"> </span><span style=\"color: #666666\">0</span><span style=\"color: #bbbbbb\"> </span><span style=\"color: #008000; font-weight: bold\">then</span>\n",
       "<span style=\"color: #bbbbbb\">      </span><span style=\"color: #B00040\">i</span>niterror<span style=\"color: #bbbbbb\"> </span><span style=\"color: #008000\">sprintf</span>(<span style=\"color: #BA2121\">&quot;Could not determine sr of table </span><span style=\"color: #A45A77; font-weight: bold\">%d</span><span style=\"color: #BA2121\">&quot;</span>,<span style=\"color: #bbbbbb\"> </span><span style=\"color: #B00040\">i</span>sndtab)\n",
       "<span style=\"color: #bbbbbb\">  </span><span style=\"color: #008000; font-weight: bold\">endif</span>\n",
       "<span style=\"color: #bbbbbb\">  </span><span style=\"color: #B00040\">i</span>dur<span style=\"color: #bbbbbb\"> </span><span style=\"color: #666666\">=</span><span style=\"color: #bbbbbb\"> </span><span style=\"color: #B00040\">i</span>numsamples<span style=\"color: #bbbbbb\"> </span><span style=\"color: #666666\">/</span><span style=\"color: #bbbbbb\"> </span><span style=\"color: #B00040\">i</span>sr\n",
       "\n",
       "<span style=\"color: #bbbbbb\">  </span><span style=\"color: #B00040\">k</span>now<span style=\"color: #bbbbbb\"> </span><span style=\"color: #008000\">init</span><span style=\"color: #bbbbbb\"> </span><span style=\"color: #B00040\">i</span>start\n",
       "<span style=\"color: #bbbbbb\">  </span><span style=\"color: #008000; font-weight: bold\">if</span><span style=\"color: #bbbbbb\"> </span><span style=\"color: #B00040\">i</span>numouts<span style=\"color: #bbbbbb\"> </span><span style=\"color: #666666\">==</span><span style=\"color: #bbbbbb\"> </span><span style=\"color: #666666\">0</span><span style=\"color: #bbbbbb\"> </span><span style=\"color: #008000; font-weight: bold\">then</span>\n",
       "<span style=\"color: #bbbbbb\">      </span><span style=\"color: #3D7B7B; font-style: italic\">; not a gen1 table, fail</span>\n",
       "<span style=\"color: #bbbbbb\">      </span><span style=\"color: #B00040\">i</span>niterror<span style=\"color: #bbbbbb\"> </span><span style=\"color: #008000\">sprintf</span>(<span style=\"color: #BA2121\">&quot;Table </span><span style=\"color: #A45A77; font-weight: bold\">%d</span><span style=\"color: #BA2121\"> was not generated via gen1&quot;</span>,<span style=\"color: #bbbbbb\"> </span><span style=\"color: #B00040\">i</span>sndtab)\n",
       "<span style=\"color: #bbbbbb\">  </span><span style=\"color: #008000; font-weight: bold\">endif</span>\n",
       "\n",
       "<span style=\"color: #bbbbbb\">  </span><span style=\"color: #B00040\">k</span>idx<span style=\"color: #bbbbbb\"> </span><span style=\"color: #008000\">init</span><span style=\"color: #bbbbbb\"> </span><span style=\"color: #666666\">0</span>\n",
       "<span style=\"color: #bbbbbb\">  </span><span style=\"color: #B00040\">a</span>env<span style=\"color: #bbbbbb\"> </span><span style=\"color: #666666\">=</span><span style=\"color: #bbbbbb\"> </span>makePresetEnvelope(<span style=\"color: #B00040\">i</span>fadein,<span style=\"color: #bbbbbb\"> </span><span style=\"color: #B00040\">i</span>fadeout,<span style=\"color: #bbbbbb\"> </span><span style=\"color: #B00040\">i</span>fadekind)\n",
       "<span style=\"color: #bbbbbb\">  </span><span style=\"color: #B00040\">a</span>env<span style=\"color: #bbbbbb\"> </span><span style=\"color: #666666\">*=</span><span style=\"color: #bbbbbb\"> </span><span style=\"color: #B00040\">k</span>gain\n",
       "\n",
       "<span style=\"color: #bbbbbb\">  </span><span style=\"color: #008000; font-weight: bold\">if</span><span style=\"color: #bbbbbb\"> </span><span style=\"color: #B00040\">i</span>numouts<span style=\"color: #bbbbbb\"> </span><span style=\"color: #666666\">==</span><span style=\"color: #bbbbbb\"> </span><span style=\"color: #666666\">1</span><span style=\"color: #bbbbbb\"> </span><span style=\"color: #008000; font-weight: bold\">then</span>\n",
       "<span style=\"color: #bbbbbb\">      </span><span style=\"color: #B00040\">a</span>1<span style=\"color: #bbbbbb\"> </span><span style=\"color: #008000\">flooper2</span><span style=\"color: #bbbbbb\"> </span><span style=\"color: #666666\">1</span>,<span style=\"color: #bbbbbb\"> </span><span style=\"color: #B00040\">k</span>speed,<span style=\"color: #bbbbbb\"> </span><span style=\"color: #B00040\">i</span>start,<span style=\"color: #bbbbbb\"> </span><span style=\"color: #B00040\">i</span>dur,<span style=\"color: #bbbbbb\"> </span><span style=\"color: #B00040\">i</span>xfade,<span style=\"color: #bbbbbb\"> </span><span style=\"color: #B00040\">i</span>sndtab,<span style=\"color: #bbbbbb\"> </span><span style=\"color: #B00040\">i</span>start\n",
       "<span style=\"color: #bbbbbb\">      </span><span style=\"color: #B00040\">a</span>1<span style=\"color: #bbbbbb\"> </span><span style=\"color: #666666\">*=</span><span style=\"color: #bbbbbb\"> </span><span style=\"color: #B00040\">a</span>env\n",
       "<span style=\"color: #bbbbbb\">      </span><span style=\"color: #B00040\">i</span>pos<span style=\"color: #bbbbbb\"> </span><span style=\"color: #666666\">=</span><span style=\"color: #bbbbbb\"> </span><span style=\"color: #B00040\">i</span>pos<span style=\"color: #bbbbbb\"> </span><span style=\"color: #666666\">==</span><span style=\"color: #bbbbbb\"> </span><span style=\"color: #666666\">-1</span><span style=\"color: #bbbbbb\"> </span><span style=\"color: #666666\">?</span><span style=\"color: #bbbbbb\"> </span><span style=\"color: #666666\">0</span><span style=\"color: #bbbbbb\"> </span><span style=\"color: #666666\">:</span><span style=\"color: #bbbbbb\"> </span><span style=\"color: #B00040\">i</span>pos\n",
       "<span style=\"color: #bbbbbb\">      </span><span style=\"color: #B00040\">a</span>out1,<span style=\"color: #bbbbbb\"> </span><span style=\"color: #B00040\">a</span>out2<span style=\"color: #bbbbbb\"> </span><span style=\"color: #008000\">pan2</span><span style=\"color: #bbbbbb\"> </span><span style=\"color: #B00040\">a</span>1,<span style=\"color: #bbbbbb\"> </span><span style=\"color: #B00040\">i</span>pos\n",
       "<span style=\"color: #bbbbbb\">  </span><span style=\"color: #008000; font-weight: bold\">elseif</span><span style=\"color: #bbbbbb\"> </span><span style=\"color: #B00040\">i</span>numouts<span style=\"color: #bbbbbb\"> </span><span style=\"color: #666666\">==</span><span style=\"color: #bbbbbb\"> </span><span style=\"color: #666666\">2</span><span style=\"color: #bbbbbb\"> </span><span style=\"color: #008000; font-weight: bold\">then</span>\n",
       "<span style=\"color: #bbbbbb\">      </span><span style=\"color: #B00040\">a</span>1,<span style=\"color: #bbbbbb\"> </span><span style=\"color: #B00040\">a</span>2<span style=\"color: #bbbbbb\"> </span><span style=\"color: #008000\">flooper2</span><span style=\"color: #bbbbbb\"> </span><span style=\"color: #666666\">1</span>,<span style=\"color: #bbbbbb\"> </span><span style=\"color: #B00040\">k</span>speed,<span style=\"color: #bbbbbb\"> </span><span style=\"color: #B00040\">i</span>start,<span style=\"color: #bbbbbb\"> </span><span style=\"color: #B00040\">i</span>dur,<span style=\"color: #bbbbbb\"> </span><span style=\"color: #B00040\">i</span>xfade,<span style=\"color: #bbbbbb\"> </span><span style=\"color: #B00040\">i</span>sndtab,<span style=\"color: #bbbbbb\"> </span><span style=\"color: #B00040\">i</span>start\n",
       "<span style=\"color: #bbbbbb\">      </span><span style=\"color: #B00040\">i</span>pos<span style=\"color: #bbbbbb\"> </span><span style=\"color: #666666\">=</span><span style=\"color: #bbbbbb\"> </span><span style=\"color: #B00040\">i</span>pos<span style=\"color: #bbbbbb\"> </span><span style=\"color: #666666\">&lt;</span><span style=\"color: #bbbbbb\"> </span><span style=\"color: #666666\">0</span><span style=\"color: #bbbbbb\"> </span><span style=\"color: #666666\">?</span><span style=\"color: #bbbbbb\"> </span><span style=\"color: #666666\">0.5</span><span style=\"color: #bbbbbb\"> </span><span style=\"color: #666666\">:</span><span style=\"color: #bbbbbb\"> </span><span style=\"color: #B00040\">i</span>pos\n",
       "<span style=\"color: #bbbbbb\">      </span><span style=\"color: #B00040\">a</span>out1,<span style=\"color: #bbbbbb\"> </span><span style=\"color: #B00040\">a</span>out2<span style=\"color: #bbbbbb\"> </span>panstereo<span style=\"color: #bbbbbb\"> </span><span style=\"color: #B00040\">a</span>1,<span style=\"color: #bbbbbb\"> </span><span style=\"color: #B00040\">a</span>2,<span style=\"color: #bbbbbb\"> </span><span style=\"color: #B00040\">i</span>pos\n",
       "<span style=\"color: #bbbbbb\">      </span><span style=\"color: #B00040\">a</span>out1<span style=\"color: #bbbbbb\"> </span><span style=\"color: #666666\">*=</span><span style=\"color: #bbbbbb\"> </span><span style=\"color: #B00040\">a</span>env\n",
       "<span style=\"color: #bbbbbb\">      </span><span style=\"color: #B00040\">a</span>out2<span style=\"color: #bbbbbb\"> </span><span style=\"color: #666666\">*=</span><span style=\"color: #bbbbbb\"> </span><span style=\"color: #B00040\">a</span>env\n",
       "<span style=\"color: #bbbbbb\">  </span><span style=\"color: #008000; font-weight: bold\">else</span>\n",
       "<span style=\"color: #bbbbbb\">      </span><span style=\"color: #B00040\">i</span>niterror<span style=\"color: #bbbbbb\"> </span><span style=\"color: #008000\">sprintf</span>(<span style=\"color: #BA2121\">&quot;Multichannel samples (&gt; 2, got </span><span style=\"color: #A45A77; font-weight: bold\">%d</span><span style=\"color: #BA2121\">) not supported yet&quot;</span>,<span style=\"color: #bbbbbb\"> </span><span style=\"color: #B00040\">i</span>numouts)\n",
       "<span style=\"color: #bbbbbb\">  </span><span style=\"color: #008000; font-weight: bold\">endif</span>\n",
       "<span style=\"color: #bbbbbb\">  </span><span style=\"color: #008000\">outch</span><span style=\"color: #bbbbbb\"> </span><span style=\"color: #B00040\">i</span>chan,<span style=\"color: #bbbbbb\"> </span><span style=\"color: #B00040\">a</span>out1,<span style=\"color: #bbbbbb\"> </span><span style=\"color: #B00040\">i</span>chan<span style=\"color: #666666\">+1</span>,<span style=\"color: #bbbbbb\"> </span><span style=\"color: #B00040\">a</span>out2\n",
       "\n",
       "<span style=\"color: #bbbbbb\">  </span><span style=\"color: #B00040\">k</span>now<span style=\"color: #bbbbbb\"> </span><span style=\"color: #666666\">+=</span><span style=\"color: #bbbbbb\"> </span><span style=\"color: #B00040\">i</span>onecycle<span style=\"color: #bbbbbb\"> </span><span style=\"color: #666666\">*</span><span style=\"color: #bbbbbb\"> </span><span style=\"color: #B00040\">k</span>speed\n",
       "<span style=\"color: #bbbbbb\">  </span><span style=\"color: #B00040\">i</span>maxtime<span style=\"color: #bbbbbb\"> </span><span style=\"color: #666666\">=</span><span style=\"color: #bbbbbb\"> </span><span style=\"color: #B00040\">i</span>dur<span style=\"color: #bbbbbb\"> </span><span style=\"color: #666666\">-</span><span style=\"color: #bbbbbb\"> </span><span style=\"color: #B00040\">i</span>fadeout<span style=\"color: #bbbbbb\"> </span><span style=\"color: #666666\">-</span><span style=\"color: #bbbbbb\"> </span><span style=\"color: #B00040\">i</span>onecycle\n",
       "<span style=\"color: #bbbbbb\">  </span><span style=\"color: #008000; font-weight: bold\">if</span><span style=\"color: #bbbbbb\"> </span><span style=\"color: #B00040\">i</span>loop<span style=\"color: #bbbbbb\"> </span><span style=\"color: #666666\">==</span><span style=\"color: #bbbbbb\"> </span><span style=\"color: #666666\">0</span><span style=\"color: #bbbbbb\"> </span><span style=\"color: #666666\">&amp;&amp;</span><span style=\"color: #bbbbbb\"> </span><span style=\"color: #B00040\">k</span>now<span style=\"color: #bbbbbb\"> </span><span style=\"color: #666666\">&gt;=</span><span style=\"color: #bbbbbb\"> </span><span style=\"color: #B00040\">i</span>maxtime<span style=\"color: #bbbbbb\"> </span><span style=\"color: #008000; font-weight: bold\">then</span>\n",
       "<span style=\"color: #bbbbbb\">      </span><span style=\"color: #008000\">turnoff</span>\n",
       "<span style=\"color: #bbbbbb\">  </span><span style=\"color: #008000; font-weight: bold\">endif</span><span style=\"color: #bbbbbb\">   </span>\n",
       "</code></pre></div>\n",
       "</span>\n",
       "<hr>\n",
       "Preset: <b>pulse</b> - <span style=\"color:#A0A0A0\"><i>transposable pulse with pwm</i></span>\n",
       "<br>\n",
       "<code style=\"font-size: 90%\">  <span style=\"color:#A0A0A0;font-size:96%\">(routing=True, numouts=2, numsignals=1)\n",
       "</span></code>\n",
       "<ul style=\"line-height: 120%\">\n",
       "<li><span style=\"font-size:90%\"><strong>ktransp</strong></span>: <span style=\"font-size:90%\"><i>transposition</i></span></li>\n",
       "<li><span style=\"font-size:90%\"><strong>klag</strong></span>: <span style=\"font-size:90%\"><i>lag time for pitch</i></span></li>\n",
       "<li><span style=\"font-size:90%\"><strong>kpwm</strong></span>: <span style=\"font-size:90%\"><i>pwm between 0-1</i></span></li>\n",
       "</ul>\n",
       "<span style=\"font-size:96%\"><strong>audiogen</strong></span>\n",
       "<span style=\"font-size:90%\"><div class=\"highlight\" style=\"background: #f8f8f8\"><pre style=\"line-height: 125%;\"><span></span><code><span style=\"color: #bbbbbb\">  </span><span style=\"color: #666666\">|</span><span style=\"color: #B00040\">k</span>transp<span style=\"color: #666666\">=0.0</span>,<span style=\"color: #bbbbbb\"> </span><span style=\"color: #B00040\">k</span>lag<span style=\"color: #666666\">=0.1</span>,<span style=\"color: #bbbbbb\"> </span><span style=\"color: #B00040\">k</span>pwm<span style=\"color: #666666\">=0.5|</span>\n",
       "</code></pre></div>\n",
       "</span>\n",
       "<span style=\"font-size:90%\"><div class=\"highlight\" style=\"background: #f8f8f8\"><pre style=\"line-height: 125%;\"><span></span><code><span style=\"color: #bbbbbb\">  </span><span style=\"color: #3D7B7B; font-style: italic\">; transposable pulse with pwm</span>\n",
       "<span style=\"color: #bbbbbb\">  </span><span style=\"color: #3D7B7B; font-style: italic\">; Args:</span>\n",
       "<span style=\"color: #bbbbbb\">  </span><span style=\"color: #3D7B7B; font-style: italic\">;   ktransp: transposition</span>\n",
       "<span style=\"color: #bbbbbb\">  </span><span style=\"color: #3D7B7B; font-style: italic\">;   klag: lag time for pitch</span>\n",
       "<span style=\"color: #bbbbbb\">  </span><span style=\"color: #3D7B7B; font-style: italic\">;   kpwm: pwm between 0-1</span>\n",
       "<span style=\"color: #bbbbbb\">  </span><span style=\"color: #B00040\">a</span>out1<span style=\"color: #bbbbbb\"> </span><span style=\"color: #008000\">vco2</span><span style=\"color: #bbbbbb\"> </span><span style=\"color: #B00040\">k</span>amp,<span style=\"color: #bbbbbb\"> </span><span style=\"color: #008000\">mtof</span>:<span style=\"color: #B00040\">k</span>(<span style=\"color: #008000\">lag</span>:<span style=\"color: #B00040\">k</span>(<span style=\"color: #B00040\">k</span>pitch<span style=\"color: #666666\">+</span><span style=\"color: #B00040\">k</span>transp,<span style=\"color: #bbbbbb\"> </span><span style=\"color: #B00040\">k</span>lag),<span style=\"color: #bbbbbb\"> </span><span style=\"color: #666666\">2</span>,<span style=\"color: #bbbbbb\"> </span><span style=\"color: #B00040\">k</span>pwm\n",
       "</code></pre></div>\n",
       "</span>\n",
       "<hr>\n",
       "Preset: <b>saw</b> - <span style=\"color:#A0A0A0\"><i>Transposable saw with optional low-pass filtering</i></span>\n",
       "<br>\n",
       "<code style=\"font-size: 90%\">  <span style=\"color:#A0A0A0;font-size:96%\">(routing=True, numouts=2, numsignals=1)\n",
       "</span></code>\n",
       "<ul style=\"line-height: 120%\">\n",
       "<li><span style=\"font-size:90%\"><strong>ktransp</strong></span>: <span style=\"font-size:90%\"><i>transposition interval</i></span></li>\n",
       "<li><span style=\"font-size:90%\"><strong>klag</strong></span>: <span style=\"font-size:90%\"><i>lag time when modifying pitch</i></span></li>\n",
       "<li><span style=\"font-size:90%\"><strong>kcutoffratio</strong></span>: <span style=\"font-size:90%\"><i>filter cutoff frequency as factor of the osc frequency</i></span></li>\n",
       "<li><span style=\"font-size:90%\"><strong>kfilterq</strong></span>: <span style=\"font-size:90%\"><i>filter resonance</i></span></li>\n",
       "</ul>\n",
       "<span style=\"font-size:96%\"><strong>audiogen</strong></span>\n",
       "<span style=\"font-size:90%\"><div class=\"highlight\" style=\"background: #f8f8f8\"><pre style=\"line-height: 125%;\"><span></span><code><span style=\"color: #bbbbbb\">  </span><span style=\"color: #666666\">|</span><span style=\"color: #B00040\">k</span>transp<span style=\"color: #666666\">=0.0</span>,<span style=\"color: #bbbbbb\"> </span><span style=\"color: #B00040\">k</span>lag<span style=\"color: #666666\">=0.1</span>,<span style=\"color: #bbbbbb\"> </span><span style=\"color: #B00040\">k</span>cutoffratio<span style=\"color: #666666\">=0.0</span>,<span style=\"color: #bbbbbb\"> </span><span style=\"color: #B00040\">k</span>filterq<span style=\"color: #666666\">=3.0|</span>\n",
       "</code></pre></div>\n",
       "</span>\n",
       "<span style=\"font-size:90%\"><div class=\"highlight\" style=\"background: #f8f8f8\"><pre style=\"line-height: 125%;\"><span></span><code><span style=\"color: #bbbbbb\">  </span><span style=\"color: #3D7B7B; font-style: italic\">; Transposable saw with optional low-pass filtering</span>\n",
       "<span style=\"color: #bbbbbb\">  </span><span style=\"color: #3D7B7B; font-style: italic\">;  Args:</span>\n",
       "<span style=\"color: #bbbbbb\">  </span><span style=\"color: #3D7B7B; font-style: italic\">;    ktransp: transposition interval</span>\n",
       "<span style=\"color: #bbbbbb\">  </span><span style=\"color: #3D7B7B; font-style: italic\">;    klag: lag time when modifying pitch</span>\n",
       "<span style=\"color: #bbbbbb\">  </span><span style=\"color: #3D7B7B; font-style: italic\">;    kcutoffratio: filter cutoff frequency as factor of the osc frequency</span>\n",
       "<span style=\"color: #bbbbbb\">  </span><span style=\"color: #3D7B7B; font-style: italic\">;    kfilterq: filter resonance</span>\n",
       "<span style=\"color: #bbbbbb\">  </span><span style=\"color: #B00040\">k</span>freq<span style=\"color: #bbbbbb\"> </span><span style=\"color: #666666\">=</span><span style=\"color: #bbbbbb\"> </span><span style=\"color: #008000\">mtof</span>:<span style=\"color: #B00040\">k</span>(<span style=\"color: #008000\">lag</span>(<span style=\"color: #B00040\">k</span>pitch<span style=\"color: #bbbbbb\"> </span><span style=\"color: #666666\">+</span><span style=\"color: #bbbbbb\"> </span><span style=\"color: #B00040\">k</span>transp,<span style=\"color: #bbbbbb\"> </span><span style=\"color: #B00040\">k</span>lag))\n",
       "<span style=\"color: #bbbbbb\">  </span><span style=\"color: #B00040\">a</span>sig<span style=\"color: #bbbbbb\"> </span><span style=\"color: #666666\">=</span><span style=\"color: #bbbbbb\"> </span><span style=\"color: #008000\">vco2</span>(<span style=\"color: #666666\">1</span>,<span style=\"color: #bbbbbb\"> </span><span style=\"color: #B00040\">k</span>freq,<span style=\"color: #bbbbbb\"> </span><span style=\"color: #666666\">0</span>)<span style=\"color: #bbbbbb\"> </span><span style=\"color: #666666\">*</span><span style=\"color: #bbbbbb\"> </span><span style=\"color: #008000\">a</span>(<span style=\"color: #B00040\">k</span>amp)\n",
       "<span style=\"color: #bbbbbb\">  </span><span style=\"color: #B00040\">a</span>out1<span style=\"color: #bbbbbb\"> </span><span style=\"color: #666666\">=</span><span style=\"color: #bbbbbb\"> </span><span style=\"color: #B00040\">k</span>cutoffratio<span style=\"color: #bbbbbb\"> </span><span style=\"color: #666666\">==</span><span style=\"color: #bbbbbb\"> </span><span style=\"color: #666666\">0</span><span style=\"color: #bbbbbb\"> </span><span style=\"color: #666666\">?</span><span style=\"color: #bbbbbb\"> </span><span style=\"color: #B00040\">a</span>sig<span style=\"color: #bbbbbb\"> </span><span style=\"color: #666666\">:</span><span style=\"color: #bbbbbb\"> </span><span style=\"color: #008000\">K35_lpf</span>(<span style=\"color: #B00040\">a</span>sig,<span style=\"color: #bbbbbb\"> </span><span style=\"color: #B00040\">k</span>freq<span style=\"color: #666666\">*</span><span style=\"color: #B00040\">k</span>cutoffratio,<span style=\"color: #bbbbbb\"> </span><span style=\"color: #B00040\">k</span>filterq)\n",
       "</code></pre></div>\n",
       "</span>\n",
       "<hr>\n",
       "Preset: <b>simplesin</b> - <span style=\"color:#A0A0A0\"><i>simplest sine wave</i></span>\n",
       "<br>\n",
       "<code style=\"font-size: 90%\">  <span style=\"color:#A0A0A0;font-size:96%\">(routing=True, numouts=2, numsignals=1)\n",
       "</span></code>\n",
       "<span style=\"font-size:96%\"><strong>audiogen</strong></span>\n",
       "<span style=\"font-size:90%\"><div class=\"highlight\" style=\"background: #f8f8f8\"><pre style=\"line-height: 125%;\"><span></span><code><span style=\"color: #bbbbbb\">  </span><span style=\"color: #B00040\">a</span>out1<span style=\"color: #bbbbbb\"> </span><span style=\"color: #008000\">oscili</span><span style=\"color: #bbbbbb\"> </span><span style=\"color: #008000\">a</span>(<span style=\"color: #B00040\">k</span>amp),<span style=\"color: #bbbbbb\"> </span><span style=\"color: #008000\">mtof</span>(<span style=\"color: #008000\">lag</span>(<span style=\"color: #B00040\">k</span>pitch,<span style=\"color: #bbbbbb\"> </span><span style=\"color: #666666\">0.01</span>))\n",
       "</code></pre></div>\n",
       "</span>\n",
       "<hr>\n",
       "Preset: <b>sin</b> - <span style=\"color:#A0A0A0\"><i>transposable sine wave</i></span>\n",
       "<br>\n",
       "<code style=\"font-size: 90%\">  <span style=\"color:#A0A0A0;font-size:96%\">(routing=True, numouts=2, numsignals=1)\n",
       "</span></code>\n",
       "<span style=\"font-size:96%\"><strong>audiogen</strong></span>\n",
       "<span style=\"font-size:90%\"><div class=\"highlight\" style=\"background: #f8f8f8\"><pre style=\"line-height: 125%;\"><span></span><code><span style=\"color: #bbbbbb\">  </span><span style=\"color: #666666\">|</span><span style=\"color: #B00040\">k</span>transp<span style=\"color: #666666\">=0</span>,<span style=\"color: #bbbbbb\"> </span><span style=\"color: #B00040\">k</span>lag<span style=\"color: #666666\">=0.1|</span>\n",
       "</code></pre></div>\n",
       "</span>\n",
       "<span style=\"font-size:90%\"><div class=\"highlight\" style=\"background: #f8f8f8\"><pre style=\"line-height: 125%;\"><span></span><code><span style=\"color: #bbbbbb\">  </span><span style=\"color: #B00040\">a</span>out1<span style=\"color: #bbbbbb\"> </span><span style=\"color: #008000\">oscili</span><span style=\"color: #bbbbbb\"> </span><span style=\"color: #008000\">a</span>(<span style=\"color: #B00040\">k</span>amp),<span style=\"color: #bbbbbb\"> </span><span style=\"color: #008000\">mtof</span>(<span style=\"color: #008000\">lag</span>(<span style=\"color: #B00040\">k</span>pitch<span style=\"color: #666666\">+</span><span style=\"color: #B00040\">k</span>transp,<span style=\"color: #bbbbbb\"> </span><span style=\"color: #B00040\">k</span>lag))\n",
       "</code></pre></div>\n",
       "</span>\n",
       "<hr>\n",
       "Preset: <b>sqr</b> - <span style=\"color:#A0A0A0\"><i>square wave with optional filtering</i></span>\n",
       "<br>\n",
       "<code style=\"font-size: 90%\">  <span style=\"color:#A0A0A0;font-size:96%\">(routing=True, numouts=2, numsignals=1)\n",
       "</span></code>\n",
       "<ul style=\"line-height: 120%\">\n",
       "<li><span style=\"font-size:90%\"><strong>kcutoff</strong></span>: <span style=\"font-size:90%\"><i>filter cutoff frequency</i></span></li>\n",
       "<li><span style=\"font-size:90%\"><strong>kresonance</strong></span>: <span style=\"font-size:90%\"><i>resonance of the filter</i></span></li>\n",
       "</ul>\n",
       "<span style=\"font-size:96%\"><strong>audiogen</strong></span>\n",
       "<span style=\"font-size:90%\"><div class=\"highlight\" style=\"background: #f8f8f8\"><pre style=\"line-height: 125%;\"><span></span><code><span style=\"color: #bbbbbb\">  </span><span style=\"color: #666666\">|</span><span style=\"color: #B00040\">k</span>transp<span style=\"color: #666666\">=0.0</span>,<span style=\"color: #bbbbbb\"> </span><span style=\"color: #B00040\">k</span>lag<span style=\"color: #666666\">=0.1</span>,<span style=\"color: #bbbbbb\"> </span><span style=\"color: #B00040\">k</span>cutoff<span style=\"color: #666666\">=0.0</span>,<span style=\"color: #bbbbbb\"> </span><span style=\"color: #B00040\">k</span>resonance<span style=\"color: #666666\">=0.2|</span>\n",
       "</code></pre></div>\n",
       "</span>\n",
       "<span style=\"font-size:90%\"><div class=\"highlight\" style=\"background: #f8f8f8\"><pre style=\"line-height: 125%;\"><span></span><code><span style=\"color: #bbbbbb\">  </span><span style=\"color: #3D7B7B; font-style: italic\">; square wave with optional filtering</span>\n",
       "<span style=\"color: #bbbbbb\">  </span><span style=\"color: #3D7B7B; font-style: italic\">; Args:</span>\n",
       "<span style=\"color: #bbbbbb\">  </span><span style=\"color: #3D7B7B; font-style: italic\">;    kcutoff: filter cutoff frequency</span>\n",
       "<span style=\"color: #bbbbbb\">  </span><span style=\"color: #3D7B7B; font-style: italic\">;    kresonance: resonance of the filter</span>\n",
       "<span style=\"color: #bbbbbb\">  </span><span style=\"color: #B00040\">a</span>out1<span style=\"color: #bbbbbb\"> </span><span style=\"color: #666666\">=</span><span style=\"color: #bbbbbb\"> </span><span style=\"color: #008000\">vco2</span>(<span style=\"color: #666666\">1</span>,<span style=\"color: #bbbbbb\"> </span><span style=\"color: #008000\">mtof</span>(<span style=\"color: #008000\">lag</span>(<span style=\"color: #B00040\">k</span>pitch<span style=\"color: #666666\">+</span><span style=\"color: #B00040\">k</span>transp,<span style=\"color: #bbbbbb\"> </span><span style=\"color: #B00040\">k</span>lag),<span style=\"color: #bbbbbb\"> </span><span style=\"color: #666666\">10</span>)<span style=\"color: #bbbbbb\"> </span><span style=\"color: #666666\">*</span><span style=\"color: #bbbbbb\"> </span><span style=\"color: #008000\">a</span>(<span style=\"color: #B00040\">k</span>amp)\n",
       "<span style=\"color: #bbbbbb\">  </span><span style=\"color: #B00040\">a</span>out1<span style=\"color: #bbbbbb\"> </span><span style=\"color: #666666\">=</span><span style=\"color: #bbbbbb\"> </span><span style=\"color: #B00040\">k</span>cutoff<span style=\"color: #bbbbbb\"> </span><span style=\"color: #666666\">==</span><span style=\"color: #bbbbbb\"> </span><span style=\"color: #666666\">0</span><span style=\"color: #bbbbbb\"> </span><span style=\"color: #666666\">?</span><span style=\"color: #bbbbbb\"> </span><span style=\"color: #B00040\">a</span>out1<span style=\"color: #bbbbbb\"> </span><span style=\"color: #666666\">:</span><span style=\"color: #bbbbbb\"> </span><span style=\"color: #008000\">moogladder</span><span style=\"color: #bbbbbb\"> </span><span style=\"color: #B00040\">a</span>out1,<span style=\"color: #bbbbbb\"> </span><span style=\"color: #008000\">lag</span>(<span style=\"color: #B00040\">k</span>cutoff,<span style=\"color: #bbbbbb\"> </span><span style=\"color: #666666\">0.1</span>),<span style=\"color: #bbbbbb\"> </span><span style=\"color: #B00040\">k</span>resonance\n",
       "</code></pre></div>\n",
       "</span>\n",
       "<hr>\n",
       "Preset: <b>tri</b> - <span style=\"color:#A0A0A0\"><i>transposable triangle wave with optional lowpass-filter</i></span>\n",
       "<br>\n",
       "<code style=\"font-size: 90%\">  <span style=\"color:#A0A0A0;font-size:96%\">(routing=True, numouts=2, numsignals=1)\n",
       "</span></code>\n",
       "<ul style=\"line-height: 120%\">\n",
       "<li><span style=\"font-size:90%\"><strong>ktransp</strong></span>: <span style=\"font-size:90%\"><i>transposition interval</i></span></li>\n",
       "<li><span style=\"font-size:90%\"><strong>klag</strong></span>: <span style=\"font-size:90%\"><i>lag time when modifying pitch</i></span></li>\n",
       "<li><span style=\"font-size:90%\"><strong>kcutoffratio</strong></span>: <span style=\"font-size:90%\"><i>cutoff frequency of the filter as a factor of the osc frequency</i></span></li>\n",
       "<li><span style=\"font-size:90%\"><strong>kfilterq</strong></span>: <span style=\"font-size:90%\"><i>filter resonance</i></span></li>\n",
       "</ul>\n",
       "<span style=\"font-size:96%\"><strong>audiogen</strong></span>\n",
       "<span style=\"font-size:90%\"><div class=\"highlight\" style=\"background: #f8f8f8\"><pre style=\"line-height: 125%;\"><span></span><code><span style=\"color: #bbbbbb\">  </span><span style=\"color: #666666\">|</span><span style=\"color: #B00040\">k</span>transp<span style=\"color: #666666\">=0.0</span>,<span style=\"color: #bbbbbb\"> </span><span style=\"color: #B00040\">k</span>lag<span style=\"color: #666666\">=0.1</span>,<span style=\"color: #bbbbbb\"> </span><span style=\"color: #B00040\">k</span>cutoffratio<span style=\"color: #666666\">=0.0</span>,<span style=\"color: #bbbbbb\"> </span><span style=\"color: #B00040\">k</span>filterq<span style=\"color: #666666\">=3.0|</span>\n",
       "</code></pre></div>\n",
       "</span>\n",
       "<span style=\"font-size:90%\"><div class=\"highlight\" style=\"background: #f8f8f8\"><pre style=\"line-height: 125%;\"><span></span><code><span style=\"color: #bbbbbb\">  </span><span style=\"color: #3D7B7B; font-style: italic\">; transposable triangle wave with optional lowpass-filter</span>\n",
       "<span style=\"color: #bbbbbb\">  </span><span style=\"color: #3D7B7B; font-style: italic\">; Args:</span>\n",
       "<span style=\"color: #bbbbbb\">  </span><span style=\"color: #3D7B7B; font-style: italic\">;   ktransp: transposition interval</span>\n",
       "<span style=\"color: #bbbbbb\">  </span><span style=\"color: #3D7B7B; font-style: italic\">;   klag: lag time when modifying pitch</span>\n",
       "<span style=\"color: #bbbbbb\">  </span><span style=\"color: #3D7B7B; font-style: italic\">;   kcutoffratio: cutoff frequency of the filter as a factor of the osc frequency</span>\n",
       "<span style=\"color: #bbbbbb\">  </span><span style=\"color: #3D7B7B; font-style: italic\">;   kfilterq: filter resonance</span>\n",
       "<span style=\"color: #bbbbbb\">  </span><span style=\"color: #B00040\">k</span>freq<span style=\"color: #bbbbbb\"> </span><span style=\"color: #666666\">=</span><span style=\"color: #bbbbbb\"> </span><span style=\"color: #008000\">mtof</span>:<span style=\"color: #B00040\">k</span>(<span style=\"color: #008000\">lag</span>(<span style=\"color: #B00040\">k</span>pitch<span style=\"color: #bbbbbb\"> </span><span style=\"color: #666666\">+</span><span style=\"color: #bbbbbb\"> </span><span style=\"color: #B00040\">k</span>transp,<span style=\"color: #bbbbbb\"> </span><span style=\"color: #B00040\">k</span>lag))\n",
       "<span style=\"color: #bbbbbb\">  </span><span style=\"color: #B00040\">a</span>out1<span style=\"color: #bbbbbb\"> </span><span style=\"color: #666666\">=</span><span style=\"color: #bbbbbb\"> </span><span style=\"color: #008000\">vco2</span>(<span style=\"color: #666666\">1</span>,<span style=\"color: #bbbbbb\"> </span><span style=\"color: #B00040\">k</span>freq,<span style=\"color: #bbbbbb\">  </span><span style=\"color: #666666\">12</span>)<span style=\"color: #bbbbbb\"> </span><span style=\"color: #666666\">*</span><span style=\"color: #bbbbbb\"> </span><span style=\"color: #008000\">a</span>(<span style=\"color: #B00040\">k</span>amp)\n",
       "<span style=\"color: #bbbbbb\">  </span><span style=\"color: #008000; font-weight: bold\">if</span><span style=\"color: #bbbbbb\"> </span><span style=\"color: #B00040\">k</span>cutoffratio<span style=\"color: #bbbbbb\"> </span><span style=\"color: #666666\">&gt;</span><span style=\"color: #bbbbbb\"> </span><span style=\"color: #666666\">0</span><span style=\"color: #bbbbbb\"> </span><span style=\"color: #008000; font-weight: bold\">then</span>\n",
       "<span style=\"color: #bbbbbb\">     </span><span style=\"color: #B00040\">a</span>out1<span style=\"color: #bbbbbb\"> </span><span style=\"color: #666666\">=</span><span style=\"color: #bbbbbb\"> </span><span style=\"color: #008000\">K35_lpf</span>(<span style=\"color: #B00040\">a</span>out1,<span style=\"color: #bbbbbb\"> </span><span style=\"color: #B00040\">k</span>freq<span style=\"color: #666666\">*</span><span style=\"color: #B00040\">k</span>cutoffratio,<span style=\"color: #bbbbbb\"> </span><span style=\"color: #B00040\">k</span>filterq)\n",
       "<span style=\"color: #bbbbbb\">  </span><span style=\"color: #008000; font-weight: bold\">endif</span>\n",
       "</code></pre></div>\n",
       "</span>\n",
       "<hr>"
      ],
      "text/plain": [
       "<IPython.core.display.HTML object>"
      ]
     },
     "metadata": {},
     "output_type": "display_data"
    }
   ],
   "source": [
    "presetManager.showPresets('*', full=True)\n"
   ]
  },
  {
   "cell_type": "code",
   "execution_count": 3,
   "id": "7c60100b-f6de-438c-ad2a-c4102ba3751b",
   "metadata": {},
   "outputs": [
    {
     "data": {
      "text/plain": [
       "<maelzel.core.presetmanager.PresetManager at 0x7fc0f35a34d0>"
      ]
     },
     "execution_count": 3,
     "metadata": {},
     "output_type": "execute_result"
    }
   ],
   "source": [
    "presetManager"
   ]
  },
  {
   "cell_type": "code",
   "execution_count": 3,
   "id": "6d991f35-b48b-40d8-a49a-2a18b44619a1",
   "metadata": {},
   "outputs": [
    {
     "name": "stderr",
     "output_type": "stream",
     "text": [
      "\n",
      "\n",
      "\n",
      "--Csound version 6.19 (double samples) Oct 30 2023\n",
      "[commit: 79e5d31bea441e5289073319ab2b1e42d01814b9]\n",
      "\u001b[mlibsndfile-1.2.0\n",
      "\u001b[msr = 48000.0,\u001b[m kr = 750.000,\u001b[m ksmps = 64\n",
      "\u001b[m0dBFS level = 1.0,\u001b[m A4 tuning = 442.0\n",
      "\u001b[maudio buffered in 512 sample-frame blocks\n",
      "\u001b[mreading 4096-byte blks of shorts from adc:Built-in Audio Pro: (RAW)\n",
      "writing 1024 sample blks of 64-bit floats to dac:Built-in Audio Pro:\n",
      "SECTION 1:\n"
     ]
    }
   ],
   "source": [
    "s = playSession(latency=0)"
   ]
  },
  {
   "cell_type": "code",
   "execution_count": 4,
   "id": "9b400b32-0495-490b-8586-d3c54bd6b282",
   "metadata": {},
   "outputs": [],
   "source": [
    "foo = defPreset('foo', r'''\n",
    "|ibusL, ibusR|\n",
    "prints \"ibusL: %d, ibusR: %d\\n\", ibusL, ibusR\n",
    "aout1 vco2 kamp, kfreq\n",
    "aout2 vco2 kamp, kfreq+4\n",
    "\n",
    "busout ibusL, aout1\n",
    "busout ibusR, aout2\n",
    "''', output=False)"
   ]
  },
  {
   "cell_type": "code",
   "execution_count": 5,
   "id": "a9287dc4-7602-47d0-ae07-7860e7950b45",
   "metadata": {},
   "outputs": [
    {
     "data": {
      "text/html": [
       "Instr <strong style=\"color:MediumSeaGreen\">master</strong><br>\n",
       "&nbsp&nbsp&nbsp&nbsp<span style=\"font-size:90%\"><b>ibusL</b>:p5=<code>0</code></span>, <span style=\"font-size:90%\"><b>ibusR</b>:p6=<code>0</code></span><br>\n",
       "<hr style=\"width:38%;text-align:left;margin-left:0\">\n",
       "<span style=\"font-size:90%\"><div class=\"highlight\" style=\"background: #f8f8f8\"><pre style=\"line-height: 125%;\"><span></span><code><span style=\"color: #B00040\">a</span>L<span style=\"color: #bbbbbb\"> </span>busin<span style=\"color: #bbbbbb\"> </span><span style=\"color: #B00040\">i</span>busL\n",
       "<span style=\"color: #B00040\">a</span>R<span style=\"color: #bbbbbb\"> </span>busin<span style=\"color: #bbbbbb\"> </span><span style=\"color: #B00040\">i</span>busR\n",
       "<span style=\"color: #008000\">outch</span><span style=\"color: #bbbbbb\"> </span><span style=\"color: #666666\">1</span>,<span style=\"color: #bbbbbb\"> </span><span style=\"color: #B00040\">a</span>L,<span style=\"color: #bbbbbb\"> </span><span style=\"color: #666666\">2</span>,<span style=\"color: #bbbbbb\"> </span><span style=\"color: #B00040\">a</span>R\n",
       "</code></pre></div>\n",
       "</span>"
      ],
      "text/plain": [
       "Instr(master, ibusL:5=0, ibusR:6=0)"
      ]
     },
     "execution_count": 5,
     "metadata": {},
     "output_type": "execute_result"
    }
   ],
   "source": [
    "busL = s.assignBus()\n",
    "busR = s.assignBus()\n",
    "\n",
    "s.defInstr('master', r'''\n",
    "    |ibusL, ibusR|\n",
    "    aL busin ibusL\n",
    "    aR busin ibusR\n",
    "    outch 1, aL, 2, aR\n",
    "    ''')"
   ]
  },
  {
   "cell_type": "code",
   "execution_count": 6,
   "id": "a790ff94-593c-47c3-b904-87f27ee13200",
   "metadata": {},
   "outputs": [],
   "source": [
    "master = s.sched('master', args=dict(ibusL=busL, ibusR=busR), priority=2)"
   ]
  },
  {
   "cell_type": "code",
   "execution_count": 7,
   "id": "07923c11-5263-4a83-9cfc-baf6765cee26",
   "metadata": {},
   "outputs": [
    {
     "name": "stderr",
     "output_type": "stream",
     "text": [
      "\u001b[mibusL: 0, ibusR: 1\n"
     ]
    },
    {
     "data": {
      "application/vnd.jupyter.widget-view+json": {
       "model_id": "15da5487a5314e1f8e734b17b02a8b29",
       "version_major": 2,
       "version_minor": 0
      },
      "text/plain": [
       "Button(description='Stop', style=ButtonStyle())"
      ]
     },
     "metadata": {},
     "output_type": "display_data"
    },
    {
     "data": {
      "application/vnd.jupyter.widget-view+json": {
       "model_id": "db2b293d557c4e65b86370252b02379d",
       "version_major": 2,
       "version_minor": 0
      },
      "text/plain": [
       "Output()"
      ]
     },
     "metadata": {},
     "output_type": "display_data"
    },
    {
     "data": {
      "text/html": [
       "<small><span style=\"\"><b>SynthGroup</b></span>(synths=<code style=\"\">1</code>)</small>\n",
       "<p><small>Instr: <strong style=\"color:MediumSeaGreen\">preset:foo</strong> - <b>1</b> synths</small></p>\n",
       "<table style=\"font-size: smaller\"<thead><tr><th style=\"text-align:left\">p1</th><th style=\"text-align:left\">start</th><th style=\"text-align:left\">dur</th><th style=\"text-align:left\">4</th><th style=\"text-align:left\">5:kpos</th><th style=\"text-align:left\">6:kgain</th><th style=\"text-align:left\">7:idataidx_</th><th style=\"text-align:left\">8:inumbps</th><th style=\"text-align:left\">9:ibplen</th><th style=\"text-align:left\">10:ichan</th><th style=\"text-align:left\">...</th></tr></thead><tbody><tr><td style=\"text-align:left\">501.0002 <b>▶</b></td><td style=\"text-align:left\">-0.008</td><td style=\"text-align:left\">10.000</td><td style=\"text-align:left\">0</td><td style=\"text-align:left\">0.5</td><td style=\"text-align:left\">0.01</td><td style=\"text-align:left\">17</td><td style=\"text-align:left\">2</td><td style=\"text-align:left\">3</td><td style=\"text-align:left\">...</td></tr></tbody></table>"
      ],
      "text/plain": [
       "SynthGroup(n=1)\n",
       "    Synth(▶ preset:foo=501.0002 start=5.229 dur=10.000 p4=0 kpos=0.5 kgain=0.01 idataidx_=17 inumbps=2 ibplen=3 ichan=1 …)"
      ]
     },
     "execution_count": 7,
     "metadata": {},
     "output_type": "execute_result"
    }
   ],
   "source": [
    "Note(60.5, 10).play(instr='foo', gain=0.01, ibusL=busL, ibusR=busR)"
   ]
  },
  {
   "cell_type": "code",
   "execution_count": 8,
   "id": "9247b031-e1fd-4377-aa52-366fad3a18b7",
   "metadata": {},
   "outputs": [],
   "source": [
    "master.stop()"
   ]
  },
  {
   "cell_type": "code",
   "execution_count": 9,
   "id": "68ebdac5-107d-4ad4-90a5-05e9106e6ec3",
   "metadata": {},
   "outputs": [],
   "source": [
    "foo = s.defInstr('foo', r'''\n",
    "    |itime, Sfoo|\n",
    "    ielapsed times\n",
    "    prints \"Sfoo: %s, itime: %f, ielapsed: %f, diff: %f\\n\", Sfoo, itime, ielapsed, ielapsed - itime \n",
    "    turnoff\n",
    "''', priority=1)"
   ]
  },
  {
   "cell_type": "code",
   "execution_count": 12,
   "id": "a8aeb2e8-bf51-4766-9f5d-ef989c1a4c9b",
   "metadata": {},
   "outputs": [
    {
     "data": {
      "application/vnd.jupyter.widget-view+json": {
       "model_id": "aa0898b2d9134248b7379ba917521028",
       "version_major": 2,
       "version_minor": 0
      },
      "text/plain": [
       "Button(description='Stop', style=ButtonStyle())"
      ]
     },
     "metadata": {},
     "output_type": "display_data"
    },
    {
     "data": {
      "application/vnd.jupyter.widget-view+json": {
       "model_id": "c527bf7718ba478c89106c966b87c448",
       "version_major": 2,
       "version_minor": 0
      },
      "text/plain": [
       "Output()"
      ]
     },
     "metadata": {},
     "output_type": "display_data"
    },
    {
     "data": {
      "text/html": [
       "<p><span style=\"font-size:12px;\">Synth(▶ <strong style=\"color:MediumSeaGreen\">foo</strong>:502.0004, <span style=\"font-size:12px;\">5:<b>itime</b>=<code>16.556</code> 6:<b>Sfoo</b>=<code>bar</code></span>)</span></p>"
      ],
      "text/plain": [
       "Synth(▶ foo=502.0004 start=16.556 dur=1.000 p4=0 itime=16.556 Sfoo=bar)"
      ]
     },
     "execution_count": 12,
     "metadata": {},
     "output_type": "execute_result"
    },
    {
     "name": "stderr",
     "output_type": "stream",
     "text": [
      "\u001b[mSfoo: bar, itime: 16.556000, ielapsed: 16.556000, diff: 0.000000\n"
     ]
    }
   ],
   "source": [
    "s.sched(\"foo\", 0, 1, args={'Sfoo': 'bar', 'itime': s.engine.realElapsedTime()})"
   ]
  },
  {
   "cell_type": "code",
   "execution_count": 33,
   "id": "443b8a6b-44e7-4143-8cdc-016d4d28b3a0",
   "metadata": {},
   "outputs": [
    {
     "data": {
      "text/plain": [
       "0"
      ]
     },
     "execution_count": 33,
     "metadata": {},
     "output_type": "execute_result"
    }
   ],
   "source": [
    "s.engine.extraLatency"
   ]
  },
  {
   "cell_type": "code",
   "execution_count": 34,
   "id": "9300a34a-1632-472c-8a26-1599074e6729",
   "metadata": {},
   "outputs": [
    {
     "data": {
      "text/plain": [
       "{'cos': 20, 'linear': 21, 'smooth': 22, 'smoother': 23, 'bar': 24}"
      ]
     },
     "execution_count": 34,
     "metadata": {},
     "output_type": "execute_result"
    }
   ],
   "source": [
    "s.engine._strToIndex"
   ]
  },
  {
   "cell_type": "code",
   "execution_count": 13,
   "id": "a2298f94-93a8-4146-99c0-27b5cdaf39f3",
   "metadata": {},
   "outputs": [],
   "source": [
    "test = s.defInstr('test', r'''\n",
    "    |istrid|\n",
    "    S0 = strget(istrid)\n",
    "    prints \"S0: %s\\n\", S0\n",
    "    turnoff\n",
    "''')"
   ]
  },
  {
   "cell_type": "code",
   "execution_count": 14,
   "id": "dd5303ca-8e21-4c89-873a-4857a6658e02",
   "metadata": {},
   "outputs": [],
   "source": [
    "jiji = s.engine.strSet('jiji')"
   ]
  },
  {
   "cell_type": "code",
   "execution_count": 16,
   "id": "01916b33-6cb5-47c7-9c14-7f161429856e",
   "metadata": {},
   "outputs": [
    {
     "name": "stderr",
     "output_type": "stream",
     "text": [
      "\u001b[mS0: jiji\n"
     ]
    },
    {
     "data": {
      "application/vnd.jupyter.widget-view+json": {
       "model_id": "f60cfdf8740e412bb50ad35acd798b34",
       "version_major": 2,
       "version_minor": 0
      },
      "text/plain": [
       "Button(description='Stop', style=ButtonStyle())"
      ]
     },
     "metadata": {},
     "output_type": "display_data"
    },
    {
     "data": {
      "application/vnd.jupyter.widget-view+json": {
       "model_id": "fe8623a2d59447738521eb3c3691943f",
       "version_major": 2,
       "version_minor": 0
      },
      "text/plain": [
       "Output()"
      ]
     },
     "metadata": {},
     "output_type": "display_data"
    },
    {
     "data": {
      "text/html": [
       "<p><span style=\"font-size:12px;\">Synth(▶ <strong style=\"color:MediumSeaGreen\">test</strong>:503.0003, <span style=\"font-size:12px;\">5:<b>istrid</b>=<code>25</code></span>)</span></p>"
      ],
      "text/plain": [
       "Synth(▶ test=503.0003 start=26.753 dur=1.000 p4=0 istrid=25)"
      ]
     },
     "execution_count": 16,
     "metadata": {},
     "output_type": "execute_result"
    }
   ],
   "source": [
    "s.sched('test', 0, 1, args={'istrid': jiji})"
   ]
  },
  {
   "cell_type": "code",
   "execution_count": 18,
   "id": "1f3c0bf9-0b3e-41b6-a64e-60d90b2b9674",
   "metadata": {},
   "outputs": [],
   "source": [
    "test = s.defInstr('test', r'''\n",
    "    |ichan=0|\n",
    "    prints \"ichan: %d\\n\", ichan\n",
    "    Schan = \"bar\"\n",
    "    ; Schan strget ichan\n",
    "    prints \"Schan: %s\\n\", Schan\n",
    "    a0 oscili 0.1, 1000\n",
    "    ; chnset a0, Schan\n",
    "''')\n"
   ]
  },
  {
   "cell_type": "code",
   "execution_count": 19,
   "id": "7de85b31-1a61-499b-af93-9b322c562168",
   "metadata": {},
   "outputs": [
    {
     "name": "stdout",
     "output_type": "stream",
     "text": [
      "ichan = p5\n",
      "prints \"ichan: %d\\n\", ichan\n",
      "Schan = \"bar\"\n",
      "; Schan strget ichan\n",
      "prints \"Schan: %s\\n\", Schan\n",
      "a0 oscili 0.1, 1000\n",
      "; chnset a0, Schan\n",
      "atstop 1, 0.01, 0, p1\n"
     ]
    }
   ],
   "source": [
    "print(s.generateInstrBody(test))"
   ]
  },
  {
   "cell_type": "code",
   "execution_count": 20,
   "id": "b403462b-8394-4c56-96a4-954082efacd8",
   "metadata": {},
   "outputs": [
    {
     "data": {
      "text/plain": [
       "26"
      ]
     },
     "execution_count": 20,
     "metadata": {},
     "output_type": "execute_result"
    }
   ],
   "source": [
    "ichan = s.engine.strSet('foo')\n",
    "ichan"
   ]
  },
  {
   "cell_type": "code",
   "execution_count": 22,
   "id": "21a97a16-0c0b-458c-9fea-0c8736e9803f",
   "metadata": {},
   "outputs": [
    {
     "name": "stderr",
     "output_type": "stream",
     "text": [
      "\u001b[michan: 0\n",
      "\u001b[mSchan: bar\n"
     ]
    },
    {
     "data": {
      "application/vnd.jupyter.widget-view+json": {
       "model_id": "bbd94993760c4038be8b52ab87df1a3b",
       "version_major": 2,
       "version_minor": 0
      },
      "text/plain": [
       "Button(description='Stop', style=ButtonStyle())"
      ]
     },
     "metadata": {},
     "output_type": "display_data"
    },
    {
     "data": {
      "application/vnd.jupyter.widget-view+json": {
       "model_id": "b5550118717e448cbfc9d7ed909a906e",
       "version_major": 2,
       "version_minor": 0
      },
      "text/plain": [
       "Output()"
      ]
     },
     "metadata": {},
     "output_type": "display_data"
    },
    {
     "data": {
      "text/html": [
       "<p><span style=\"font-size:12px;\">Synth(▶ <strong style=\"color:MediumSeaGreen\">test</strong>:503.0004, <span style=\"font-size:12px;\">5:<b>ichan</b>=<code>0</code></span>)</span></p>"
      ],
      "text/plain": [
       "Synth(▶ test=503.0004 start=96.705 dur=-1.000 p4=0 ichan=0)"
      ]
     },
     "execution_count": 22,
     "metadata": {},
     "output_type": "execute_result"
    }
   ],
   "source": [
    "s.sched('test', args={'ichan': 0})"
   ]
  },
  {
   "cell_type": "code",
   "execution_count": 24,
   "id": "a2257f41-1a33-4d63-9f69-3565765980d7",
   "metadata": {},
   "outputs": [
    {
     "data": {
      "application/vnd.jupyter.widget-view+json": {
       "model_id": "0ab4c404f34c40ed8a748ade31963e35",
       "version_major": 2,
       "version_minor": 0
      },
      "text/plain": [
       "Button(description='Stop', style=ButtonStyle())"
      ]
     },
     "metadata": {},
     "output_type": "display_data"
    },
    {
     "data": {
      "application/vnd.jupyter.widget-view+json": {
       "model_id": "024a09f34f4743d197da00134cc40ace",
       "version_major": 2,
       "version_minor": 0
      },
      "text/plain": [
       "Output()"
      ]
     },
     "metadata": {},
     "output_type": "display_data"
    },
    {
     "data": {
      "text/html": [
       "<p><span style=\"font-size:12px;\">Synth(▶ <strong style=\"color:MediumSeaGreen\">.testAudio</strong>:504.0002, <span style=\"font-size:12px;\">5:<b>imode</b>=<code>0</code> 6:<b>iperiod</b>=<code>1</code> 7:<b>igain</b>=<code>0.1</code></span>)</span></p>"
      ],
      "text/plain": [
       "Synth(▶ .testAudio=504.0002 start=104.087 dur=20.000 p4=0 imode=0 iperiod=1 igain=0.1)"
      ]
     },
     "execution_count": 24,
     "metadata": {},
     "output_type": "execute_result"
    },
    {
     "name": "stderr",
     "output_type": "stream",
     "text": [
      "\u001b[m\n",
      "Testaudio: pink noise mode\n",
      "\u001b[mChannel: 1 / 2\n",
      "\u001b[mChannel: 2 / 2\n",
      "\u001b[mChannel: 1 / 2\n",
      "\u001b[mChannel: 2 / 2\n",
      "\u001b[mChannel: 1 / 2\n",
      "\u001b[mChannel: 2 / 2\n",
      "\u001b[mChannel: 1 / 2\n",
      "\u001b[mChannel: 2 / 2\n",
      "\u001b[mChannel: 1 / 2\n",
      "\u001b[mChannel: 2 / 2\n",
      "\u001b[mChannel: 1 / 2\n",
      "\u001b[mChannel: 2 / 2\n",
      "\u001b[mChannel: 1 / 2\n",
      "\u001b[mChannel: 2 / 2\n",
      "\u001b[mChannel: 1 / 2\n",
      "\u001b[mChannel: 2 / 2\n",
      "\u001b[mChannel: 1 / 2\n"
     ]
    }
   ],
   "source": [
    "s.testAudio()"
   ]
  },
  {
   "cell_type": "code",
   "execution_count": 27,
   "id": "c99ea0c3-23bc-4d3f-b451-0129aa747301",
   "metadata": {},
   "outputs": [
    {
     "data": {
      "text/plain": [
       "Bus('audio', token=3)"
      ]
     },
     "execution_count": 27,
     "metadata": {},
     "output_type": "execute_result"
    }
   ],
   "source": [
    "bus = s.assignBus()\n",
    "bus"
   ]
  },
  {
   "cell_type": "code",
   "execution_count": 30,
   "id": "4f01ccbb-2791-472c-9eb1-4fd5afec3b4c",
   "metadata": {},
   "outputs": [
    {
     "ename": "KeyError",
     "evalue": "\"pfield 'ibus' not known for instr 'preset:foo'.Defined named pargs: dict_keys(['kpos', 'kgain', 'idataidx_', 'inumbps', 'ibplen', 'ichan', 'ifadein', 'ifadeout', 'ipchintrp_', 'ifadekind', 'ibusL', 'ibusR']) Aliases: {'position': 'kpos', 'gain': 'kgain'}\"",
     "output_type": "error",
     "traceback": [
      "\u001b[0;31m---------------------------------------------------------------------------\u001b[0m",
      "\u001b[0;31mKeyError\u001b[0m                                  Traceback (most recent call last)",
      "Cell \u001b[0;32mIn[30], line 1\u001b[0m\n\u001b[0;32m----> 1\u001b[0m \u001b[43mNote\u001b[49m\u001b[43m(\u001b[49m\u001b[38;5;241;43m60\u001b[39;49m\u001b[43m,\u001b[49m\u001b[43m \u001b[49m\u001b[38;5;241;43m1000\u001b[39;49m\u001b[43m)\u001b[49m\u001b[38;5;241;43m.\u001b[39;49m\u001b[43mplay\u001b[49m\u001b[43m(\u001b[49m\u001b[43minstr\u001b[49m\u001b[38;5;241;43m=\u001b[39;49m\u001b[38;5;124;43m'\u001b[39;49m\u001b[38;5;124;43mfoo\u001b[39;49m\u001b[38;5;124;43m'\u001b[39;49m\u001b[43m,\u001b[49m\u001b[43m \u001b[49m\u001b[43mfade\u001b[49m\u001b[38;5;241;43m=\u001b[39;49m\u001b[38;5;241;43m0.05\u001b[39;49m\u001b[43m,\u001b[49m\u001b[43m \u001b[49m\u001b[43margs\u001b[49m\u001b[38;5;241;43m=\u001b[39;49m\u001b[43m{\u001b[49m\u001b[38;5;124;43m'\u001b[39;49m\u001b[38;5;124;43mibus\u001b[39;49m\u001b[38;5;124;43m'\u001b[39;49m\u001b[43m:\u001b[49m\u001b[43m \u001b[49m\u001b[43mbus\u001b[49m\u001b[43m}\u001b[49m\u001b[43m)\u001b[49m\n",
      "File \u001b[0;32m~/dev/python/maelzel/maelzel/core/mobj.py:1333\u001b[0m, in \u001b[0;36mMObj.play\u001b[0;34m(self, instr, delay, args, gain, chan, pitchinterpol, fade, fadeshape, position, skip, end, whenfinished, sustain, workspace, transpose, config, display, **kwargs)\u001b[0m\n\u001b[1;32m   1331\u001b[0m \u001b[38;5;28;01melse\u001b[39;00m:\n\u001b[1;32m   1332\u001b[0m     renderer \u001b[38;5;241m=\u001b[39m workspace\u001b[38;5;241m.\u001b[39mrenderer \u001b[38;5;129;01mor\u001b[39;00m playback\u001b[38;5;241m.\u001b[39mRealtimeRenderer()\n\u001b[0;32m-> 1333\u001b[0m     group \u001b[38;5;241m=\u001b[39m \u001b[43mrenderer\u001b[49m\u001b[38;5;241;43m.\u001b[39;49m\u001b[43mschedEvents\u001b[49m\u001b[43m(\u001b[49m\u001b[43mevents\u001b[49m\u001b[43m,\u001b[49m\u001b[43m \u001b[49m\u001b[43mwhenfinished\u001b[49m\u001b[38;5;241;43m=\u001b[39;49m\u001b[43mwhenfinished\u001b[49m\u001b[43m)\u001b[49m\n\u001b[1;32m   1334\u001b[0m     \u001b[38;5;28;01mif\u001b[39;00m display \u001b[38;5;129;01mand\u001b[39;00m environment\u001b[38;5;241m.\u001b[39minsideJupyter:\n\u001b[1;32m   1335\u001b[0m         \u001b[38;5;28;01mfrom\u001b[39;00m \u001b[38;5;21;01mIPython\u001b[39;00m\u001b[38;5;21;01m.\u001b[39;00m\u001b[38;5;21;01mdisplay\u001b[39;00m \u001b[38;5;28;01mimport\u001b[39;00m display\n",
      "File \u001b[0;32m~/dev/python/maelzel/maelzel/core/playback.py:142\u001b[0m, in \u001b[0;36mRealtimeRenderer.schedEvents\u001b[0;34m(self, coreevents, sessionevents, whenfinished)\u001b[0m\n\u001b[1;32m    137\u001b[0m \u001b[38;5;28;01mdef\u001b[39;00m \u001b[38;5;21mschedEvents\u001b[39m(\u001b[38;5;28mself\u001b[39m,\n\u001b[1;32m    138\u001b[0m                 coreevents: \u001b[38;5;28mlist\u001b[39m[SynthEvent],\n\u001b[1;32m    139\u001b[0m                 sessionevents: \u001b[38;5;28mlist\u001b[39m[csoundengine\u001b[38;5;241m.\u001b[39msession\u001b[38;5;241m.\u001b[39mSessionEvent] \u001b[38;5;241m=\u001b[39m \u001b[38;5;28;01mNone\u001b[39;00m,\n\u001b[1;32m    140\u001b[0m                 whenfinished: Callable \u001b[38;5;241m=\u001b[39m \u001b[38;5;28;01mNone\u001b[39;00m\n\u001b[1;32m    141\u001b[0m                 ) \u001b[38;5;241m-\u001b[39m\u001b[38;5;241m>\u001b[39m csoundengine\u001b[38;5;241m.\u001b[39msynth\u001b[38;5;241m.\u001b[39mSynthGroup:\n\u001b[0;32m--> 142\u001b[0m     synths \u001b[38;5;241m=\u001b[39m \u001b[43m_schedEvents\u001b[49m\u001b[43m(\u001b[49m\u001b[38;5;28;43mself\u001b[39;49m\u001b[43m,\u001b[49m\n\u001b[1;32m    143\u001b[0m \u001b[43m                          \u001b[49m\u001b[43mpresetManager\u001b[49m\u001b[38;5;241;43m=\u001b[39;49m\u001b[38;5;28;43mself\u001b[39;49m\u001b[38;5;241;43m.\u001b[39;49m\u001b[43mpresetManager\u001b[49m\u001b[43m,\u001b[49m\n\u001b[1;32m    144\u001b[0m \u001b[43m                          \u001b[49m\u001b[43mcoreevents\u001b[49m\u001b[38;5;241;43m=\u001b[39;49m\u001b[43mcoreevents\u001b[49m\u001b[43m,\u001b[49m\n\u001b[1;32m    145\u001b[0m \u001b[43m                          \u001b[49m\u001b[43msessionevents\u001b[49m\u001b[38;5;241;43m=\u001b[39;49m\u001b[43msessionevents\u001b[49m\u001b[43m,\u001b[49m\n\u001b[1;32m    146\u001b[0m \u001b[43m                          \u001b[49m\u001b[43mwhenfinished\u001b[49m\u001b[38;5;241;43m=\u001b[39;49m\u001b[43mwhenfinished\u001b[49m\u001b[43m)\u001b[49m\n\u001b[1;32m    147\u001b[0m     numevents \u001b[38;5;241m=\u001b[39m \u001b[38;5;28mlen\u001b[39m(coreevents) \u001b[38;5;241m+\u001b[39m (\u001b[38;5;28mlen\u001b[39m(sessionevents) \u001b[38;5;28;01mif\u001b[39;00m sessionevents \u001b[38;5;28;01melse\u001b[39;00m \u001b[38;5;241m0\u001b[39m)\n\u001b[1;32m    148\u001b[0m     \u001b[38;5;28;01massert\u001b[39;00m \u001b[38;5;28mlen\u001b[39m(synths) \u001b[38;5;241m==\u001b[39m numevents, \u001b[38;5;124mf\u001b[39m\u001b[38;5;124m\"\u001b[39m\u001b[38;5;132;01m{\u001b[39;00m\u001b[38;5;28mlen\u001b[39m(synths)\u001b[38;5;132;01m=}\u001b[39;00m\u001b[38;5;124m, \u001b[39m\u001b[38;5;132;01m{\u001b[39;00mnumevents\u001b[38;5;132;01m=}\u001b[39;00m\u001b[38;5;124m\"\u001b[39m\n",
      "File \u001b[0;32m~/dev/python/maelzel/maelzel/core/playback.py:512\u001b[0m, in \u001b[0;36m_schedEvents\u001b[0;34m(renderer, coreevents, presetManager, sessionevents, posthook, whenfinished, locked)\u001b[0m\n\u001b[1;32m    509\u001b[0m     synths\u001b[38;5;241m.\u001b[39mappend(renderer\u001b[38;5;241m.\u001b[39mdummy())\n\u001b[1;32m    510\u001b[0m     \u001b[38;5;28;01mcontinue\u001b[39;00m\n\u001b[0;32m--> 512\u001b[0m synth \u001b[38;5;241m=\u001b[39m \u001b[43mrenderer\u001b[49m\u001b[38;5;241;43m.\u001b[39;49m\u001b[43msched\u001b[49m\u001b[43m(\u001b[49m\u001b[43mPresetDef\u001b[49m\u001b[38;5;241;43m.\u001b[39;49m\u001b[43mpresetNameToInstrName\u001b[49m\u001b[43m(\u001b[49m\u001b[43mcoreevent\u001b[49m\u001b[38;5;241;43m.\u001b[39;49m\u001b[43minstr\u001b[49m\u001b[43m)\u001b[49m\u001b[43m,\u001b[49m\n\u001b[1;32m    513\u001b[0m \u001b[43m                       \u001b[49m\u001b[43mdelay\u001b[49m\u001b[38;5;241;43m=\u001b[39;49m\u001b[43mcoreevent\u001b[49m\u001b[38;5;241;43m.\u001b[39;49m\u001b[43mdelay\u001b[49m\u001b[43m,\u001b[49m\n\u001b[1;32m    514\u001b[0m \u001b[43m                       \u001b[49m\u001b[43mdur\u001b[49m\u001b[38;5;241;43m=\u001b[39;49m\u001b[43mcoreevent\u001b[49m\u001b[38;5;241;43m.\u001b[39;49m\u001b[43mdur\u001b[49m\u001b[43m,\u001b[49m\n\u001b[1;32m    515\u001b[0m \u001b[43m                       \u001b[49m\u001b[43margs\u001b[49m\u001b[38;5;241;43m=\u001b[39;49m\u001b[43mpfields5\u001b[49m\u001b[43m,\u001b[49m\n\u001b[1;32m    516\u001b[0m \u001b[43m                       \u001b[49m\u001b[43mpriority\u001b[49m\u001b[38;5;241;43m=\u001b[39;49m\u001b[43mcoreevent\u001b[49m\u001b[38;5;241;43m.\u001b[39;49m\u001b[43mpriority\u001b[49m\u001b[43m,\u001b[49m\n\u001b[1;32m    517\u001b[0m \u001b[43m                       \u001b[49m\u001b[43mwhenfinished\u001b[49m\u001b[38;5;241;43m=\u001b[39;49m\u001b[43mcoreevent\u001b[49m\u001b[38;5;241;43m.\u001b[39;49m\u001b[43mwhenfinished\u001b[49m\u001b[43m,\u001b[49m\n\u001b[1;32m    518\u001b[0m \u001b[43m                       \u001b[49m\u001b[38;5;241;43m*\u001b[39;49m\u001b[38;5;241;43m*\u001b[39;49m\u001b[43mdynargs\u001b[49m\u001b[43m)\u001b[49m\n\u001b[1;32m    519\u001b[0m synths\u001b[38;5;241m.\u001b[39mappend(synth)\n\u001b[1;32m    520\u001b[0m \u001b[38;5;28;01mif\u001b[39;00m coreevent\u001b[38;5;241m.\u001b[39mautomationSegments:\n",
      "File \u001b[0;32m~/dev/python/maelzel/maelzel/core/playback.py:172\u001b[0m, in \u001b[0;36mRealtimeRenderer.sched\u001b[0;34m(self, instrname, delay, dur, priority, args, whenfinished, **kws)\u001b[0m\n\u001b[1;32m    163\u001b[0m \u001b[38;5;28;01mdef\u001b[39;00m \u001b[38;5;21msched\u001b[39m(\u001b[38;5;28mself\u001b[39m,\n\u001b[1;32m    164\u001b[0m           instrname: \u001b[38;5;28mstr\u001b[39m,\n\u001b[1;32m    165\u001b[0m           delay: \u001b[38;5;28mfloat\u001b[39m \u001b[38;5;241m=\u001b[39m \u001b[38;5;241m0.\u001b[39m,\n\u001b[0;32m   (...)\u001b[0m\n\u001b[1;32m    170\u001b[0m           \u001b[38;5;241m*\u001b[39m\u001b[38;5;241m*\u001b[39mkws: \u001b[38;5;28mdict\u001b[39m[\u001b[38;5;28mstr\u001b[39m, \u001b[38;5;28mfloat\u001b[39m \u001b[38;5;241m|\u001b[39m \u001b[38;5;28mstr\u001b[39m],\n\u001b[1;32m    171\u001b[0m           ):\n\u001b[0;32m--> 172\u001b[0m     \u001b[38;5;28;01mreturn\u001b[39;00m \u001b[38;5;28;43mself\u001b[39;49m\u001b[38;5;241;43m.\u001b[39;49m\u001b[43msession\u001b[49m\u001b[38;5;241;43m.\u001b[39;49m\u001b[43msched\u001b[49m\u001b[43m(\u001b[49m\u001b[43minstrname\u001b[49m\u001b[38;5;241;43m=\u001b[39;49m\u001b[43minstrname\u001b[49m\u001b[43m,\u001b[49m\n\u001b[1;32m    173\u001b[0m \u001b[43m                              \u001b[49m\u001b[43mdelay\u001b[49m\u001b[38;5;241;43m=\u001b[39;49m\u001b[43mdelay\u001b[49m\u001b[43m,\u001b[49m\n\u001b[1;32m    174\u001b[0m \u001b[43m                              \u001b[49m\u001b[43mdur\u001b[49m\u001b[38;5;241;43m=\u001b[39;49m\u001b[43mdur\u001b[49m\u001b[43m,\u001b[49m\n\u001b[1;32m    175\u001b[0m \u001b[43m                              \u001b[49m\u001b[43margs\u001b[49m\u001b[38;5;241;43m=\u001b[39;49m\u001b[43margs\u001b[49m\u001b[43m,\u001b[49m\n\u001b[1;32m    176\u001b[0m \u001b[43m                              \u001b[49m\u001b[43mpriority\u001b[49m\u001b[38;5;241;43m=\u001b[39;49m\u001b[43mpriority\u001b[49m\u001b[43m,\u001b[49m\n\u001b[1;32m    177\u001b[0m \u001b[43m                              \u001b[49m\u001b[43mwhenfinished\u001b[49m\u001b[38;5;241;43m=\u001b[39;49m\u001b[43mwhenfinished\u001b[49m\u001b[43m,\u001b[49m\n\u001b[1;32m    178\u001b[0m \u001b[43m                              \u001b[49m\u001b[38;5;241;43m*\u001b[39;49m\u001b[38;5;241;43m*\u001b[39;49m\u001b[43mkws\u001b[49m\u001b[43m)\u001b[49m\n",
      "File \u001b[0;32m~/.virtualenvs/maelzel/lib/python3.11/site-packages/csoundengine/session.py:1334\u001b[0m, in \u001b[0;36mSession.sched\u001b[0;34m(self, instrname, delay, dur, priority, args, whenfinished, relative, syncifneeded, **kwargs)\u001b[0m\n\u001b[1;32m   1330\u001b[0m     \u001b[38;5;28;01mraise\u001b[39;00m \u001b[38;5;167;01mValueError\u001b[39;00m(\u001b[38;5;124mf\u001b[39m\u001b[38;5;124m\"\u001b[39m\u001b[38;5;124mInstrument \u001b[39m\u001b[38;5;124m'\u001b[39m\u001b[38;5;132;01m{\u001b[39;00minstrname\u001b[38;5;132;01m}\u001b[39;00m\u001b[38;5;124m'\u001b[39m\u001b[38;5;124m not defined. \u001b[39m\u001b[38;5;124m\"\u001b[39m\n\u001b[1;32m   1331\u001b[0m                      \u001b[38;5;124mf\u001b[39m\u001b[38;5;124m\"\u001b[39m\u001b[38;5;124mKnown instruments: \u001b[39m\u001b[38;5;132;01m{\u001b[39;00m\u001b[38;5;124m'\u001b[39m\u001b[38;5;124m, \u001b[39m\u001b[38;5;124m'\u001b[39m\u001b[38;5;241m.\u001b[39mjoin(\u001b[38;5;28mself\u001b[39m\u001b[38;5;241m.\u001b[39minstrs\u001b[38;5;241m.\u001b[39mkeys())\u001b[38;5;132;01m}\u001b[39;00m\u001b[38;5;124m\"\u001b[39m)\n\u001b[1;32m   1333\u001b[0m rinstr, needssync \u001b[38;5;241m=\u001b[39m \u001b[38;5;28mself\u001b[39m\u001b[38;5;241m.\u001b[39mprepareSched(instrname, priority, block\u001b[38;5;241m=\u001b[39m\u001b[38;5;28;01mTrue\u001b[39;00m)\n\u001b[0;32m-> 1334\u001b[0m pfields5, dynargs \u001b[38;5;241m=\u001b[39m \u001b[43minstr\u001b[49m\u001b[38;5;241;43m.\u001b[39;49m\u001b[43mparseSchedArgs\u001b[49m\u001b[43m(\u001b[49m\u001b[43margs\u001b[49m\u001b[38;5;241;43m=\u001b[39;49m\u001b[43margs\u001b[49m\u001b[43m,\u001b[49m\u001b[43m \u001b[49m\u001b[43mkws\u001b[49m\u001b[38;5;241;43m=\u001b[39;49m\u001b[43mkwargs\u001b[49m\u001b[43m)\u001b[49m\n\u001b[1;32m   1335\u001b[0m \u001b[38;5;28;01mif\u001b[39;00m instr\u001b[38;5;241m.\u001b[39mcontrols:\n\u001b[1;32m   1336\u001b[0m     slicenum \u001b[38;5;241m=\u001b[39m \u001b[38;5;28mself\u001b[39m\u001b[38;5;241m.\u001b[39m_dynargsAssignSlot()\n",
      "File \u001b[0;32m~/.virtualenvs/maelzel/lib/python3.11/site-packages/csoundengine/instr.py:800\u001b[0m, in \u001b[0;36mparseSchedArgs\u001b[0;34m(self, args, kws)\u001b[0m\n\u001b[1;32m    784\u001b[0m \u001b[38;5;28;01mdef\u001b[39;00m \u001b[38;5;21mparseSchedArgs\u001b[39m(\u001b[38;5;28mself\u001b[39m,\n\u001b[1;32m    785\u001b[0m                    args: \u001b[38;5;28mlist\u001b[39m[\u001b[38;5;28mfloat\u001b[39m \u001b[38;5;241m|\u001b[39m \u001b[38;5;28mstr\u001b[39m] \u001b[38;5;241m|\u001b[39m \u001b[38;5;28mdict\u001b[39m[\u001b[38;5;28mstr\u001b[39m, \u001b[38;5;28mfloat\u001b[39m \u001b[38;5;241m|\u001b[39m \u001b[38;5;28mstr\u001b[39m],\n\u001b[1;32m    786\u001b[0m                    kws: \u001b[38;5;28mdict\u001b[39m[\u001b[38;5;28mstr\u001b[39m, \u001b[38;5;28mfloat\u001b[39m \u001b[38;5;241m|\u001b[39m \u001b[38;5;28mstr\u001b[39m],\n\u001b[1;32m    787\u001b[0m                    ) \u001b[38;5;241m-\u001b[39m\u001b[38;5;241m>\u001b[39m \u001b[38;5;28mtuple\u001b[39m[\u001b[38;5;28mlist\u001b[39m[\u001b[38;5;28mfloat\u001b[39m\u001b[38;5;241m|\u001b[39m\u001b[38;5;28mstr\u001b[39m], \u001b[38;5;28mdict\u001b[39m[\u001b[38;5;28mstr\u001b[39m, \u001b[38;5;28mfloat\u001b[39m\u001b[38;5;241m|\u001b[39m\u001b[38;5;28mstr\u001b[39m]]:\n\u001b[1;32m    788\u001b[0m \u001b[38;5;250m    \u001b[39m\u001b[38;5;124;03m\"\"\"\u001b[39;00m\n\u001b[1;32m    789\u001b[0m \u001b[38;5;124;03m    Parse the arguments passed to sched\u001b[39;00m\n\u001b[1;32m    790\u001b[0m \n\u001b[1;32m    791\u001b[0m \u001b[38;5;124;03m    Args:\u001b[39;00m\n\u001b[1;32m    792\u001b[0m \u001b[38;5;124;03m        args: a list of values (starting with p5) or a dict mapping named\u001b[39;00m\n\u001b[1;32m    793\u001b[0m \u001b[38;5;124;03m            param to value\u001b[39;00m\n\u001b[1;32m    794\u001b[0m \u001b[38;5;124;03m        kws: a dict mapping named param to value\u001b[39;00m\n\u001b[1;32m    795\u001b[0m \n\u001b[1;32m    796\u001b[0m \u001b[38;5;124;03m    Returns:\u001b[39;00m\n\u001b[1;32m    797\u001b[0m \u001b[38;5;124;03m        a tuple (pfields5, dynargs), where pfields5 is a list of pfield\u001b[39;00m\n\u001b[1;32m    798\u001b[0m \u001b[38;5;124;03m        values starting at p5 and dynargs is a dict of dynamic\u001b[39;00m\n\u001b[1;32m    799\u001b[0m \u001b[38;5;124;03m        parameters mapping parameter name to the given value\u001b[39;00m\n\u001b[0;32m--> 800\u001b[0m \u001b[38;5;124;03m    \"\"\"\u001b[39;00m\n\u001b[1;32m    801\u001b[0m     \u001b[38;5;28;01mif\u001b[39;00m args \u001b[38;5;129;01mis\u001b[39;00m \u001b[38;5;28;01mNone\u001b[39;00m:\n\u001b[1;32m    802\u001b[0m         args \u001b[38;5;241m=\u001b[39m []\n",
      "File \u001b[0;32m~/.virtualenvs/maelzel/lib/python3.11/site-packages/csoundengine/instr.py:872\u001b[0m, in \u001b[0;36mpfieldsTranslate\u001b[0;34m(self, args, kws)\u001b[0m\n\u001b[1;32m    866\u001b[0m \u001b[38;5;28;01mdef\u001b[39;00m \u001b[38;5;21mpfieldsTranslate\u001b[39m(\u001b[38;5;28mself\u001b[39m,\n\u001b[1;32m    867\u001b[0m                      args: Sequence[\u001b[38;5;28mfloat\u001b[39m] \u001b[38;5;241m=\u001b[39m (),\n\u001b[1;32m    868\u001b[0m                      kws: \u001b[38;5;28mdict\u001b[39m[\u001b[38;5;28mstr\u001b[39m \u001b[38;5;241m|\u001b[39m \u001b[38;5;28mint\u001b[39m, \u001b[38;5;28mfloat\u001b[39m] \u001b[38;5;241m|\u001b[39m \u001b[38;5;28;01mNone\u001b[39;00m \u001b[38;5;241m=\u001b[39m \u001b[38;5;28;01mNone\u001b[39;00m\n\u001b[1;32m    869\u001b[0m                      ) \u001b[38;5;241m-\u001b[39m\u001b[38;5;241m>\u001b[39m \u001b[38;5;28mlist\u001b[39m[\u001b[38;5;28mfloat\u001b[39m]:\n\u001b[1;32m    870\u001b[0m \u001b[38;5;250m    \u001b[39m\u001b[38;5;124;03m\"\"\"\u001b[39;00m\n\u001b[1;32m    871\u001b[0m \u001b[38;5;124;03m    Given pfields as values and keyword arguments, generate a list of\u001b[39;00m\n\u001b[0;32m--> 872\u001b[0m \u001b[38;5;124;03m    values which can be passed to sched, starting with p5\u001b[39;00m\n\u001b[1;32m    873\u001b[0m \u001b[38;5;124;03m    (p4 is reserved)\u001b[39;00m\n\u001b[1;32m    874\u001b[0m \n\u001b[1;32m    875\u001b[0m \u001b[38;5;124;03m    Args:\u001b[39;00m\n\u001b[1;32m    876\u001b[0m \u001b[38;5;124;03m        args: pfield values, starting with p5\u001b[39;00m\n\u001b[1;32m    877\u001b[0m \u001b[38;5;124;03m        kws: named pfields (a name can also be 'p8' for example)\u001b[39;00m\n\u001b[1;32m    878\u001b[0m \n\u001b[1;32m    879\u001b[0m \u001b[38;5;124;03m    Returns:\u001b[39;00m\n\u001b[1;32m    880\u001b[0m \u001b[38;5;124;03m        a list of float values with 0 representing absent pfields\u001b[39;00m\n\u001b[1;32m    881\u001b[0m \n\u001b[1;32m    882\u001b[0m \u001b[38;5;124;03m    \"\"\"\u001b[39;00m\n\u001b[1;32m    883\u001b[0m     \u001b[38;5;28;01massert\u001b[39;00m \u001b[38;5;28misinstance\u001b[39m(args, (\u001b[38;5;28mlist\u001b[39m, \u001b[38;5;28mtuple\u001b[39m))\n\u001b[1;32m    884\u001b[0m     \u001b[38;5;28;01massert\u001b[39;00m \u001b[38;5;129;01mnot\u001b[39;00m kws \u001b[38;5;129;01mor\u001b[39;00m \u001b[38;5;28misinstance\u001b[39m(kws, \u001b[38;5;28mdict\u001b[39m)\n",
      "File \u001b[0;32m~/.virtualenvs/maelzel/lib/python3.11/site-packages/csoundengine/instr.py:872\u001b[0m, in \u001b[0;36m<listcomp>\u001b[0;34m(.0)\u001b[0m\n\u001b[1;32m    866\u001b[0m \u001b[38;5;28;01mdef\u001b[39;00m \u001b[38;5;21mpfieldsTranslate\u001b[39m(\u001b[38;5;28mself\u001b[39m,\n\u001b[1;32m    867\u001b[0m                      args: Sequence[\u001b[38;5;28mfloat\u001b[39m] \u001b[38;5;241m=\u001b[39m (),\n\u001b[1;32m    868\u001b[0m                      kws: \u001b[38;5;28mdict\u001b[39m[\u001b[38;5;28mstr\u001b[39m \u001b[38;5;241m|\u001b[39m \u001b[38;5;28mint\u001b[39m, \u001b[38;5;28mfloat\u001b[39m] \u001b[38;5;241m|\u001b[39m \u001b[38;5;28;01mNone\u001b[39;00m \u001b[38;5;241m=\u001b[39m \u001b[38;5;28;01mNone\u001b[39;00m\n\u001b[1;32m    869\u001b[0m                      ) \u001b[38;5;241m-\u001b[39m\u001b[38;5;241m>\u001b[39m \u001b[38;5;28mlist\u001b[39m[\u001b[38;5;28mfloat\u001b[39m]:\n\u001b[1;32m    870\u001b[0m \u001b[38;5;250m    \u001b[39m\u001b[38;5;124;03m\"\"\"\u001b[39;00m\n\u001b[1;32m    871\u001b[0m \u001b[38;5;124;03m    Given pfields as values and keyword arguments, generate a list of\u001b[39;00m\n\u001b[0;32m--> 872\u001b[0m \u001b[38;5;124;03m    values which can be passed to sched, starting with p5\u001b[39;00m\n\u001b[1;32m    873\u001b[0m \u001b[38;5;124;03m    (p4 is reserved)\u001b[39;00m\n\u001b[1;32m    874\u001b[0m \n\u001b[1;32m    875\u001b[0m \u001b[38;5;124;03m    Args:\u001b[39;00m\n\u001b[1;32m    876\u001b[0m \u001b[38;5;124;03m        args: pfield values, starting with p5\u001b[39;00m\n\u001b[1;32m    877\u001b[0m \u001b[38;5;124;03m        kws: named pfields (a name can also be 'p8' for example)\u001b[39;00m\n\u001b[1;32m    878\u001b[0m \n\u001b[1;32m    879\u001b[0m \u001b[38;5;124;03m    Returns:\u001b[39;00m\n\u001b[1;32m    880\u001b[0m \u001b[38;5;124;03m        a list of float values with 0 representing absent pfields\u001b[39;00m\n\u001b[1;32m    881\u001b[0m \n\u001b[1;32m    882\u001b[0m \u001b[38;5;124;03m    \"\"\"\u001b[39;00m\n\u001b[1;32m    883\u001b[0m     \u001b[38;5;28;01massert\u001b[39;00m \u001b[38;5;28misinstance\u001b[39m(args, (\u001b[38;5;28mlist\u001b[39m, \u001b[38;5;28mtuple\u001b[39m))\n\u001b[1;32m    884\u001b[0m     \u001b[38;5;28;01massert\u001b[39;00m \u001b[38;5;129;01mnot\u001b[39;00m kws \u001b[38;5;129;01mor\u001b[39;00m \u001b[38;5;28misinstance\u001b[39m(kws, \u001b[38;5;28mdict\u001b[39m)\n",
      "File \u001b[0;32m~/.virtualenvs/maelzel/lib/python3.11/site-packages/csoundengine/instr.py:767\u001b[0m, in \u001b[0;36mpfieldIndex\u001b[0;34m(self, name, default)\u001b[0m\n\u001b[1;32m    754\u001b[0m \u001b[38;5;28;01mdef\u001b[39;00m \u001b[38;5;21mpfieldIndex\u001b[39m(\u001b[38;5;28mself\u001b[39m, name: \u001b[38;5;28mstr\u001b[39m, default: \u001b[38;5;28mint\u001b[39m \u001b[38;5;241m|\u001b[39m \u001b[38;5;28;01mNone\u001b[39;00m \u001b[38;5;241m=\u001b[39m \u001b[38;5;28;01mNone\u001b[39;00m) \u001b[38;5;241m-\u001b[39m\u001b[38;5;241m>\u001b[39m \u001b[38;5;28mint\u001b[39m:\n\u001b[1;32m    755\u001b[0m \u001b[38;5;250m    \u001b[39m\u001b[38;5;124;03m\"\"\"\u001b[39;00m\n\u001b[1;32m    756\u001b[0m \u001b[38;5;124;03m    Pfield index corresponding to the given name.\u001b[39;00m\n\u001b[1;32m    757\u001b[0m \n\u001b[0;32m   (...)\u001b[0m\n\u001b[1;32m    765\u001b[0m \u001b[38;5;124;03m        the index of the parg\u001b[39;00m\n\u001b[1;32m    766\u001b[0m \u001b[38;5;124;03m    \"\"\"\u001b[39;00m\n\u001b[0;32m--> 767\u001b[0m     \u001b[38;5;28;01mif\u001b[39;00m name[\u001b[38;5;241m0\u001b[39m] \u001b[38;5;241m==\u001b[39m \u001b[38;5;124m'\u001b[39m\u001b[38;5;124mp\u001b[39m\u001b[38;5;124m'\u001b[39m \u001b[38;5;129;01mand\u001b[39;00m name[\u001b[38;5;241m1\u001b[39m:]\u001b[38;5;241m.\u001b[39misdigit():\n\u001b[1;32m    768\u001b[0m         \u001b[38;5;28;01mreturn\u001b[39;00m \u001b[38;5;28mint\u001b[39m(name[\u001b[38;5;241m1\u001b[39m:])\n\u001b[1;32m    770\u001b[0m     \u001b[38;5;28;01mif\u001b[39;00m \u001b[38;5;28mself\u001b[39m\u001b[38;5;241m.\u001b[39maliases \u001b[38;5;129;01mand\u001b[39;00m name \u001b[38;5;129;01min\u001b[39;00m \u001b[38;5;28mself\u001b[39m\u001b[38;5;241m.\u001b[39maliases:\n",
      "\u001b[0;31mKeyError\u001b[0m: \"pfield 'ibus' not known for instr 'preset:foo'.Defined named pargs: dict_keys(['kpos', 'kgain', 'idataidx_', 'inumbps', 'ibplen', 'ichan', 'ifadein', 'ifadeout', 'ipchintrp_', 'ifadekind', 'ibusL', 'ibusR']) Aliases: {'position': 'kpos', 'gain': 'kgain'}\""
     ]
    }
   ],
   "source": [
    "Note(60, 1000).play(instr='foo', fade=0.05, args={'ibus': bus})"
   ]
  },
  {
   "cell_type": "code",
   "execution_count": 31,
   "id": "bd12e2d0-4792-40cf-8d1f-aaf315674707",
   "metadata": {},
   "outputs": [
    {
     "data": {
      "text/html": [
       "Instr <strong style=\"color:MediumSeaGreen\">master</strong><br>\n",
       "&nbsp&nbsp&nbsp&nbsp<span style=\"font-size:90%\"><b>ibus</b>:p5=<code>0</code></span><br>\n",
       "<hr style=\"width:38%;text-align:left;margin-left:0\">\n",
       "<span style=\"font-size:90%\"><div class=\"highlight\" style=\"background: #f8f8f8\"><pre style=\"line-height: 125%;\"><span></span><code><span style=\"color: #B00040\">a</span>0<span style=\"color: #bbbbbb\"> </span><span style=\"color: #666666\">=</span><span style=\"color: #bbbbbb\"> </span>busin(<span style=\"color: #B00040\">i</span>bus)\n",
       "<span style=\"color: #008000\">outch</span><span style=\"color: #bbbbbb\"> </span><span style=\"color: #666666\">1</span>,<span style=\"color: #bbbbbb\"> </span><span style=\"color: #B00040\">a</span>0\n",
       "</code></pre></div>\n",
       "</span>"
      ],
      "text/plain": [
       "Instr(master, ibus:5=0)"
      ]
     },
     "execution_count": 31,
     "metadata": {},
     "output_type": "execute_result"
    }
   ],
   "source": [
    "s.defInstr('master', r'''\n",
    "    |ibus|\n",
    "    a0 = busin(ibus)\n",
    "    outch 1, a0\n",
    "''')"
   ]
  },
  {
   "cell_type": "code",
   "execution_count": 32,
   "id": "9c7bee2c-38d5-45c7-aac9-f07e9be84199",
   "metadata": {},
   "outputs": [
    {
     "name": "stderr",
     "output_type": "stream",
     "text": [
      "\u001b[mBus not found (token 0, kind=0). Assigned bus 2\n"
     ]
    },
    {
     "data": {
      "application/vnd.jupyter.widget-view+json": {
       "model_id": "074166a461644d23a31043126162a369",
       "version_major": 2,
       "version_minor": 0
      },
      "text/plain": [
       "Button(description='Stop', style=ButtonStyle())"
      ]
     },
     "metadata": {},
     "output_type": "display_data"
    },
    {
     "data": {
      "application/vnd.jupyter.widget-view+json": {
       "model_id": "49cd37eb5d1a407287b321acaeae5dab",
       "version_major": 2,
       "version_minor": 0
      },
      "text/plain": [
       "Output()"
      ]
     },
     "metadata": {},
     "output_type": "display_data"
    },
    {
     "data": {
      "text/html": [
       "<p><span style=\"font-size:12px;\">Synth(▶ <strong style=\"color:MediumSeaGreen\">master</strong>:1001.0003, <span style=\"font-size:12px;\">5:<b>ibus</b>=<code>0</code></span>)</span></p>"
      ],
      "text/plain": [
       "Synth(▶ master=1001.0003 start=245.505 dur=-1.000 p4=0 ibus=0)"
      ]
     },
     "execution_count": 32,
     "metadata": {},
     "output_type": "execute_result"
    },
    {
     "name": "stdout",
     "output_type": "stream",
     "text": [
      "Exiting python, closing all active engines\n",
      "... stopping maelzel.core\n"
     ]
    },
    {
     "name": "stderr",
     "output_type": "stream",
     "text": [
      "\u001b[mend of score.\t\t   overall amps:\u001b[m  0.07711  0.07887\n",
      "\t   overall samples out of range:\u001b[m        0\u001b[m        0\u001b[m\n",
      "0 errors in performance\n",
      "\u001b[m442323 1024 sample blks of 64-bit floats written to dac:Built-in Audio Pro:\n"
     ]
    }
   ],
   "source": [
    "s.sched('master', priority=2)"
   ]
  },
  {
   "cell_type": "code",
   "execution_count": 12,
   "id": "47532ed0-507a-4696-b88f-24a8553ee357",
   "metadata": {},
   "outputs": [
    {
     "data": {
      "application/vnd.jupyter.widget-view+json": {
       "model_id": "82627839e55743479f5e912e5bb9c914",
       "version_major": 2,
       "version_minor": 0
      },
      "text/plain": [
       "Button(description='Stop', style=ButtonStyle())"
      ]
     },
     "metadata": {},
     "output_type": "display_data"
    },
    {
     "data": {
      "application/vnd.jupyter.widget-view+json": {
       "model_id": "4cb64899eb7440988144f4456a5a0930",
       "version_major": 2,
       "version_minor": 0
      },
      "text/plain": [
       "Output()"
      ]
     },
     "metadata": {},
     "output_type": "display_data"
    },
    {
     "data": {
      "text/html": [
       "<p><span style=\"font-size:12px;\">Synth(▶ <strong style=\"color:MediumSeaGreen\">post</strong>:2001.0002, <span style=\"font-size:12px;\"><b>4</b>=<code>0</code> <b>ibus</b>:5=<code>0</code></span>)</span></p>"
      ],
      "text/plain": [
       "Synth(▶ post:2001.0002, p4=0 ibus:5=0)"
      ]
     },
     "execution_count": 12,
     "metadata": {},
     "output_type": "execute_result"
    }
   ],
   "source": [
    "post"
   ]
  },
  {
   "cell_type": "code",
   "execution_count": 15,
   "id": "03c6560c-6bdd-4400-8ce9-174b618362f3",
   "metadata": {},
   "outputs": [
    {
     "data": {
      "application/vnd.jupyter.widget-view+json": {
       "model_id": "865510b79db14cc7b56c151c739d0060",
       "version_major": 2,
       "version_minor": 0
      },
      "text/plain": [
       "Button(description='Stop', style=ButtonStyle())"
      ]
     },
     "metadata": {},
     "output_type": "display_data"
    },
    {
     "data": {
      "application/vnd.jupyter.widget-view+json": {
       "model_id": "299f1da1eaec4981808af0f3d0ab9a43",
       "version_major": 2,
       "version_minor": 0
      },
      "text/plain": [
       "Output()"
      ]
     },
     "metadata": {},
     "output_type": "display_data"
    },
    {
     "data": {
      "text/html": [
       "<small>SynthGroup - start: 0.154, dur: 10.000, synths: 1</small>\n",
       "<p>instr: <strong style=\"color:MediumSeaGreen\">preset.foo</strong> - <b>1</b> synths</p>\n",
       "<table><thead><tr><th style=\"text-align:left\">p1</th><th style=\"text-align:left\">start</th><th style=\"text-align:left\">dur</th><th style=\"text-align:left\">4</th><th style=\"text-align:left\">5:idataidx_</th><th style=\"text-align:left\">6:inumbps</th><th style=\"text-align:left\">7:ibplen</th><th style=\"text-align:left\">8:igain_</th><th style=\"text-align:left\">9:ichan_</th><th style=\"text-align:left\">10:ipos</th><th style=\"text-align:left\">11:ifade0</th><th style=\"text-align:left\">12:ifade1</th><th style=\"text-align:left\">13:ipchintrp_</th><th style=\"text-align:left\">14:ifadekind_</th><th style=\"text-align:left\">15:ibus</th><th style=\"text-align:left\">16</th><th style=\"text-align:left\">...</th></tr></thead><tbody><tr><td style=\"text-align:left\">1001.0002 <b>𝍪</b></td><td style=\"text-align:left\">0.154</td><td style=\"text-align:left\">10.000</td><td style=\"text-align:left\">0</td><td style=\"text-align:left\">16</td><td style=\"text-align:left\">2</td><td style=\"text-align:left\">3</td><td style=\"text-align:left\">1</td><td style=\"text-align:left\">1</td><td style=\"text-align:left\">-1</td><td style=\"text-align:left\">0.02</td><td style=\"text-align:left\">0.02</td><td style=\"text-align:left\">0</td><td style=\"text-align:left\">1</td><td style=\"text-align:left\">0</td><td style=\"text-align:left\">...</td></tr></tbody></table>"
      ],
      "text/plain": [
       "SynthGroup(n=1)\n",
       "    Synth(𝍪 preset.foo:1001.0002, p4=0 idataidx_:5=16 inumbps:6=2 ibplen:7=3 igain_:8=1 ichan_:9=1 ipos:10=-1 ifade0:11=0.02 ifade1:12=0.02 ipchintrp_:13=0 ifadekind_:14=1 ibus:15=0 p16=0 ...)"
      ]
     },
     "execution_count": 15,
     "metadata": {},
     "output_type": "execute_result"
    },
    {
     "name": "stderr",
     "output_type": "stream",
     "text": [
      "Csound tidy up: Segmentation fault\n"
     ]
    }
   ],
   "source": [
    "Note(72, dur=10).play(instr='foo', params=dict(ibus=busnum))\n"
   ]
  },
  {
   "cell_type": "code",
   "execution_count": null,
   "id": "8484f098-00ee-45ad-89bd-3376a427837a",
   "metadata": {},
   "outputs": [],
   "source": []
  }
 ],
 "metadata": {
  "kernelspec": {
   "display_name": "Python 3 (ipykernel)",
   "language": "python",
   "name": "python3"
  },
  "language_info": {
   "codemirror_mode": {
    "name": "ipython",
    "version": 3
   },
   "file_extension": ".py",
   "mimetype": "text/x-python",
   "name": "python",
   "nbconvert_exporter": "python",
   "pygments_lexer": "ipython3",
   "version": "3.11.4"
  }
 },
 "nbformat": 4,
 "nbformat_minor": 5
}
