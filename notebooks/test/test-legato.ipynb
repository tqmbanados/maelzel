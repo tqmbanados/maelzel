{
 "cells": [
  {
   "cell_type": "code",
   "execution_count": 1,
   "id": "447f27de-a9a4-4b87-9f10-fee45ca76f01",
   "metadata": {
    "tags": []
   },
   "outputs": [],
   "source": [
    "from maelzel.core import *\n",
    "from maelzel.core.shortcuts import *"
   ]
  },
  {
   "cell_type": "code",
   "execution_count": 5,
   "id": "9b074984-18f3-446f-b802-33d708529168",
   "metadata": {
    "tags": []
   },
   "outputs": [
    {
     "data": {
      "text/html": [
       "<code style=\"white-space: pre-line; font-size:0.9em;\">Chain([<span style=\"color:#6666E0\">4A:1♩</span>, <span style=\"color:#6666E0\">4F+:1♩</span>, <span style=\"color:#6666E0\">4G#:1♩</span>], dur=3)</code><br>\n",
       "        <img style=\"display:inline; padding:10px;\n",
       "margin-top:14px;\n",
       "width:229px\"\n",
       "             src=\"data:image/png;base64,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\"/>"
      ],
      "text/plain": [
       "Chain([4A:1♩, 4F+:1♩, 4G#:1♩])"
      ]
     },
     "execution_count": 5,
     "metadata": {},
     "output_type": "execute_result"
    }
   ],
   "source": [
    "ch = Chain([\n",
    "    N(\"4A\", 1), # .setPlay(glisstime=0.05),\n",
    "    N(\"4F+\", 1),\n",
    "    N(\"4Ab\", 1)\n",
    "])\n",
    "ch"
   ]
  },
  {
   "cell_type": "code",
   "execution_count": 8,
   "id": "cbd308fd-d3a1-4981-8b5f-88956cb729ea",
   "metadata": {
    "tags": []
   },
   "outputs": [
    {
     "data": {
      "application/vnd.jupyter.widget-view+json": {
       "model_id": "90979b2fcce44bf6b87288407f01428a",
       "version_major": 2,
       "version_minor": 0
      },
      "text/plain": [
       "Button(description='Stop', style=ButtonStyle())"
      ]
     },
     "metadata": {},
     "output_type": "display_data"
    },
    {
     "data": {
      "application/vnd.jupyter.widget-view+json": {
       "model_id": "42027ff418234613aff133e97b060c4c",
       "version_major": 2,
       "version_minor": 0
      },
      "text/plain": [
       "Output()"
      ]
     },
     "metadata": {},
     "output_type": "display_data"
    },
    {
     "data": {
      "text/html": [
       "<small><span style=\"\"><b>SynthGroup</b></span>(synths=<code style=\"\">3</code>)</small>\n",
       "<p><small>Instr: <strong style=\"color:MediumSeaGreen\">preset:sin</strong> - <b>3</b> synths</small></p>\n",
       "<table><thead><tr><th style=\"text-align:left\">p1</th><th style=\"text-align:left\">start</th><th style=\"text-align:left\">dur</th><th style=\"text-align:left\">4</th><th style=\"text-align:left\">5:kpos</th><th style=\"text-align:left\">6:kgain</th><th style=\"text-align:left\">7:idataidx_</th><th style=\"text-align:left\">8:inumbps</th><th style=\"text-align:left\">9:ibplen</th><th style=\"text-align:left\">10:ichan</th><th style=\"text-align:left\">11:ifadein</th><th style=\"text-align:left\">12:ifadeout</th><th style=\"text-align:left\">13:ipchintrp_</th><th style=\"text-align:left\">14:ifadekind</th><th style=\"text-align:left\">15:ktransp</th><th style=\"text-align:left\">16:klag</th><th style=\"text-align:left\">17</th><th style=\"text-align:left\">18</th><th style=\"text-align:left\">19</th><th style=\"text-align:left\">20</th><th style=\"text-align:left\">...</th></tr></thead><tbody><tr><td style=\"text-align:left\">501.0012 <b>▶</b></td><td style=\"text-align:left\">0.039</td><td style=\"text-align:left\">1.000</td><td style=\"text-align:left\">0</td><td style=\"text-align:left\">0.5</td><td style=\"text-align:left\">1</td><td style=\"text-align:left\">17</td><td style=\"text-align:left\">2</td><td style=\"text-align:left\">3</td><td style=\"text-align:left\">1</td><td style=\"text-align:left\">0.1</td><td style=\"text-align:left\">0.1</td><td style=\"text-align:left\">0</td><td style=\"text-align:left\">1</td><td style=\"text-align:left\">0</td><td style=\"text-align:left\">0.1</td><td style=\"text-align:left\">0</td><td style=\"text-align:left\">69</td><td style=\"text-align:left\">0.51518</td><td style=\"text-align:left\">...</td></tr><tr><td style=\"text-align:left\">501.0013 <b>▶</b></td><td style=\"text-align:left\">1.039</td><td style=\"text-align:left\">1.000</td><td style=\"text-align:left\">0</td><td style=\"text-align:left\">0.5</td><td style=\"text-align:left\">1</td><td style=\"text-align:left\">17</td><td style=\"text-align:left\">2</td><td style=\"text-align:left\">3</td><td style=\"text-align:left\">1</td><td style=\"text-align:left\">0.1</td><td style=\"text-align:left\">0.1</td><td style=\"text-align:left\">0</td><td style=\"text-align:left\">1</td><td style=\"text-align:left\">0</td><td style=\"text-align:left\">0.1</td><td style=\"text-align:left\">0</td><td style=\"text-align:left\">65.5</td><td style=\"text-align:left\">0.51518</td><td style=\"text-align:left\">...</td></tr><tr><td style=\"text-align:left\">501.0014 <b>▶</b></td><td style=\"text-align:left\">2.039</td><td style=\"text-align:left\">1.000</td><td style=\"text-align:left\">0</td><td style=\"text-align:left\">0.5</td><td style=\"text-align:left\">1</td><td style=\"text-align:left\">17</td><td style=\"text-align:left\">2</td><td style=\"text-align:left\">3</td><td style=\"text-align:left\">1</td><td style=\"text-align:left\">0.1</td><td style=\"text-align:left\">0.1</td><td style=\"text-align:left\">0</td><td style=\"text-align:left\">1</td><td style=\"text-align:left\">0</td><td style=\"text-align:left\">0.1</td><td style=\"text-align:left\">0</td><td style=\"text-align:left\">68</td><td style=\"text-align:left\">0.51518</td><td style=\"text-align:left\">...</td></tr></tbody></table>"
      ],
      "text/plain": [
       "SynthGroup(n=3)\n",
       "    Synth(▶ preset:sin=501.0012 start=48.723 dur=1.000 p4=0 kpos=0.5 kgain=1 idataidx_=17 inumbps=2 ibplen=3 ichan=1 ifadein=0.1 ifadeout=0.1 ipchintrp_=0 ifadekind=1 ktransp=0 klag=0.1 p17=0 p18=69 p19=0.515178 p20=1 …)\n",
       "    Synth(▶ preset:sin=501.0013 start=49.723 dur=1.000 p4=0 kpos=0.5 kgain=1 idataidx_=17 inumbps=2 ibplen=3 ichan=1 ifadein=0.1 ifadeout=0.1 ipchintrp_=0 ifadekind=1 ktransp=0 klag=0.1 p17=0 p18=65.5 p19=0.515178 p20=1 …)\n",
       "    Synth(▶ preset:sin=501.0014 start=50.723 dur=1.000 p4=0 kpos=0.5 kgain=1 idataidx_=17 inumbps=2 ibplen=3 ichan=1 ifadein=0.1 ifadeout=0.1 ipchintrp_=0 ifadekind=1 ktransp=0 klag=0.1 p17=0 p18=68 p19=0.515178 p20=1 …)"
      ]
     },
     "execution_count": 8,
     "metadata": {},
     "output_type": "execute_result"
    }
   ],
   "source": [
    "ch.play(instr='sin', fade=0.1)"
   ]
  },
  {
   "cell_type": "code",
   "execution_count": 10,
   "id": "dcdb4daa-0ed3-4007-a071-f7cc24b88860",
   "metadata": {},
   "outputs": [
    {
     "data": {
      "text/html": [
       "Instr <strong style=\"color:MediumSeaGreen\">preset:sin</strong><br>\n",
       "&nbsp&nbsp&nbsp&nbsp<span style=\"font-size:90%\"><b>position</b>:p5=<code>0</code></span>, <span style=\"font-size:90%\"><b>gain</b>:p6=<code>0</code></span>, <span style=\"font-size:90%\"><b>idataidx_</b>:p7=<code>0</code></span>, <span style=\"font-size:90%\"><b>inumbps</b>:p8=<code>0</code></span>, <span style=\"font-size:90%\"><b>ibplen</b>:p9=<code>0</code></span><br>\n",
       "&nbsp&nbsp&nbsp&nbsp<span style=\"font-size:90%\"><b>ichan</b>:p10=<code>0</code></span>, <span style=\"font-size:90%\"><b>ifadein</b>:p11=<code>0</code></span>, <span style=\"font-size:90%\"><b>ifadeout</b>:p12=<code>0</code></span>, <span style=\"font-size:90%\"><b>ipchintrp_</b>:p13=<code>0</code></span>, <span style=\"font-size:90%\"><b>ifadekind</b>:p14=<code>0</code></span><br>\n",
       "&nbsp&nbsp&nbsp&nbsp<span style=\"font-size:90%\"><b>ktransp</b>:p15=<code>0</code></span>, <span style=\"font-size:90%\"><b>klag</b>:p16=<code>0.1</code></span><br>\n",
       "<hr style=\"width:38%;text-align:left;margin-left:0\">\n",
       "<span style=\"font-size:90%\"><div class=\"highlight\" style=\"background: #f8f8f8\"><pre style=\"line-height: 125%;\"><span></span><code><span style=\"color: #B00040\">i</span>datalen_<span style=\"color: #bbbbbb\"> </span><span style=\"color: #666666\">=</span><span style=\"color: #bbbbbb\"> </span><span style=\"color: #B00040\">i</span>numbps<span style=\"color: #bbbbbb\"> </span><span style=\"color: #666666\">*</span><span style=\"color: #bbbbbb\"> </span><span style=\"color: #B00040\">i</span>bplen\n",
       "<span style=\"color: #B00040\">i</span>Args[]<span style=\"color: #bbbbbb\"> </span><span style=\"color: #008000\">passign</span><span style=\"color: #bbbbbb\"> </span><span style=\"color: #B00040\">i</span>dataidx_,<span style=\"color: #bbbbbb\"> </span><span style=\"color: #B00040\">i</span>dataidx_<span style=\"color: #bbbbbb\"> </span><span style=\"color: #666666\">+</span><span style=\"color: #bbbbbb\"> </span><span style=\"color: #B00040\">i</span>datalen_\n",
       "<span style=\"color: #B00040\">i</span>lastidx_<span style=\"color: #bbbbbb\"> </span><span style=\"color: #666666\">=</span><span style=\"color: #bbbbbb\"> </span><span style=\"color: #B00040\">i</span>datalen_<span style=\"color: #bbbbbb\"> </span><span style=\"color: #666666\">-</span><span style=\"color: #bbbbbb\"> </span><span style=\"color: #666666\">1</span>\n",
       "<span style=\"color: #B00040\">i</span>Times[]<span style=\"color: #bbbbbb\">     </span><span style=\"color: #008000\">slicearray</span><span style=\"color: #bbbbbb\"> </span><span style=\"color: #B00040\">i</span>Args,<span style=\"color: #bbbbbb\"> </span><span style=\"color: #666666\">0</span>,<span style=\"color: #bbbbbb\"> </span><span style=\"color: #B00040\">i</span>lastidx_,<span style=\"color: #bbbbbb\"> </span><span style=\"color: #B00040\">i</span>bplen\n",
       "<span style=\"color: #B00040\">i</span>Pitches[]<span style=\"color: #bbbbbb\">   </span><span style=\"color: #008000\">slicearray</span><span style=\"color: #bbbbbb\"> </span><span style=\"color: #B00040\">i</span>Args,<span style=\"color: #bbbbbb\"> </span><span style=\"color: #666666\">1</span>,<span style=\"color: #bbbbbb\"> </span><span style=\"color: #B00040\">i</span>lastidx_,<span style=\"color: #bbbbbb\"> </span><span style=\"color: #B00040\">i</span>bplen\n",
       "<span style=\"color: #B00040\">i</span>Amps[]<span style=\"color: #bbbbbb\">      </span><span style=\"color: #008000\">slicearray</span><span style=\"color: #bbbbbb\"> </span><span style=\"color: #B00040\">i</span>Args,<span style=\"color: #bbbbbb\"> </span><span style=\"color: #666666\">2</span>,<span style=\"color: #bbbbbb\"> </span><span style=\"color: #B00040\">i</span>lastidx_,<span style=\"color: #bbbbbb\"> </span><span style=\"color: #B00040\">i</span>bplen\n",
       "\n",
       "<span style=\"color: #B00040\">k</span>_time<span style=\"color: #bbbbbb\"> </span><span style=\"color: #666666\">=</span><span style=\"color: #bbbbbb\"> </span>(<span style=\"color: #008000\">timeinstk</span>()<span style=\"color: #bbbbbb\"> </span><span style=\"color: #666666\">-</span><span style=\"color: #bbbbbb\"> </span><span style=\"color: #666666\">1</span>)<span style=\"color: #bbbbbb\"> </span><span style=\"color: #666666\">*</span><span style=\"color: #bbbbbb\"> </span><span style=\"color: #19177C\">ksmps</span><span style=\"color: #666666\">/</span><span style=\"color: #19177C\">sr</span><span style=\"color: #bbbbbb\">  </span><span style=\"color: #3D7B7B; font-style: italic\">; use eventtime (csound 6.18)</span>\n",
       "\n",
       "<span style=\"color: #008000; font-weight: bold\">if</span><span style=\"color: #bbbbbb\"> </span><span style=\"color: #B00040\">i</span>pchintrp_<span style=\"color: #bbbbbb\"> </span><span style=\"color: #666666\">==</span><span style=\"color: #bbbbbb\"> </span><span style=\"color: #666666\">0</span><span style=\"color: #bbbbbb\"> </span><span style=\"color: #008000; font-weight: bold\">then</span><span style=\"color: #bbbbbb\">      </span>\n",
       "<span style=\"color: #bbbbbb\">    </span><span style=\"color: #3D7B7B; font-style: italic\">; linear midi interpolation    </span>\n",
       "<span style=\"color: #bbbbbb\">    </span><span style=\"color: #B00040\">k</span>pitch,<span style=\"color: #bbbbbb\"> </span><span style=\"color: #B00040\">k</span>amp<span style=\"color: #bbbbbb\"> </span><span style=\"color: #008000\">bpf</span><span style=\"color: #bbbbbb\"> </span><span style=\"color: #B00040\">k</span>_time,<span style=\"color: #bbbbbb\"> </span><span style=\"color: #B00040\">i</span>Times,<span style=\"color: #bbbbbb\"> </span><span style=\"color: #B00040\">i</span>Pitches,<span style=\"color: #bbbbbb\"> </span><span style=\"color: #B00040\">i</span>Amps\n",
       "<span style=\"color: #bbbbbb\">    </span><span style=\"color: #B00040\">k</span>freq<span style=\"color: #bbbbbb\"> </span><span style=\"color: #008000\">mtof</span><span style=\"color: #bbbbbb\"> </span><span style=\"color: #B00040\">k</span>pitch\n",
       "<span style=\"color: #008000; font-weight: bold\">elseif</span><span style=\"color: #bbbbbb\"> </span>(<span style=\"color: #B00040\">i</span>pchintrp_<span style=\"color: #bbbbbb\"> </span><span style=\"color: #666666\">==</span><span style=\"color: #bbbbbb\"> </span><span style=\"color: #666666\">1</span>)<span style=\"color: #bbbbbb\"> </span><span style=\"color: #008000; font-weight: bold\">then</span><span style=\"color: #bbbbbb\">  </span><span style=\"color: #3D7B7B; font-style: italic\">; cos midi interpolation</span>\n",
       "<span style=\"color: #bbbbbb\">    </span><span style=\"color: #B00040\">k</span>idx<span style=\"color: #bbbbbb\"> </span>bisect<span style=\"color: #bbbbbb\"> </span><span style=\"color: #B00040\">k</span>_time,<span style=\"color: #bbbbbb\"> </span><span style=\"color: #B00040\">i</span>Times\n",
       "<span style=\"color: #bbbbbb\">    </span><span style=\"color: #B00040\">k</span>pitch<span style=\"color: #bbbbbb\"> </span><span style=\"color: #B00040\">i</span>nterp1d<span style=\"color: #bbbbbb\"> </span><span style=\"color: #B00040\">k</span>idx,<span style=\"color: #bbbbbb\"> </span><span style=\"color: #B00040\">i</span>Pitches,<span style=\"color: #bbbbbb\"> </span><span style=\"color: #BA2121\">&quot;cos&quot;</span>\n",
       "<span style=\"color: #bbbbbb\">    </span><span style=\"color: #B00040\">k</span>amp<span style=\"color: #bbbbbb\"> </span><span style=\"color: #B00040\">i</span>nterp1d<span style=\"color: #bbbbbb\"> </span><span style=\"color: #B00040\">k</span>idx,<span style=\"color: #bbbbbb\"> </span><span style=\"color: #B00040\">i</span>Amps,<span style=\"color: #bbbbbb\"> </span><span style=\"color: #BA2121\">&quot;cos&quot;</span>\n",
       "<span style=\"color: #bbbbbb\">    </span><span style=\"color: #B00040\">k</span>freq<span style=\"color: #bbbbbb\"> </span><span style=\"color: #008000\">mtof</span><span style=\"color: #bbbbbb\"> </span><span style=\"color: #B00040\">k</span>pitch\n",
       "<span style=\"color: #008000; font-weight: bold\">elseif</span><span style=\"color: #bbbbbb\"> </span>(<span style=\"color: #B00040\">i</span>pchintrp_<span style=\"color: #bbbbbb\"> </span><span style=\"color: #666666\">==</span><span style=\"color: #bbbbbb\"> </span><span style=\"color: #666666\">2</span>)<span style=\"color: #bbbbbb\"> </span><span style=\"color: #008000; font-weight: bold\">then</span><span style=\"color: #bbbbbb\">  </span><span style=\"color: #3D7B7B; font-style: italic\">; linear freq interpolation</span>\n",
       "<span style=\"color: #bbbbbb\">    </span><span style=\"color: #B00040\">i</span>Freqs[]<span style=\"color: #bbbbbb\"> </span><span style=\"color: #008000\">mtof</span><span style=\"color: #bbbbbb\"> </span><span style=\"color: #B00040\">i</span>Pitches\n",
       "<span style=\"color: #bbbbbb\">    </span><span style=\"color: #B00040\">k</span>freq,<span style=\"color: #bbbbbb\"> </span><span style=\"color: #B00040\">k</span>amp<span style=\"color: #bbbbbb\"> </span><span style=\"color: #008000\">bpf</span><span style=\"color: #bbbbbb\"> </span><span style=\"color: #B00040\">k</span>_time,<span style=\"color: #bbbbbb\"> </span><span style=\"color: #B00040\">i</span>Times,<span style=\"color: #bbbbbb\"> </span><span style=\"color: #B00040\">i</span>Freqs,<span style=\"color: #bbbbbb\"> </span><span style=\"color: #B00040\">i</span>Amps\n",
       "<span style=\"color: #bbbbbb\">    </span><span style=\"color: #B00040\">k</span>pitch<span style=\"color: #bbbbbb\"> </span><span style=\"color: #008000\">ftom</span><span style=\"color: #bbbbbb\"> </span><span style=\"color: #B00040\">k</span>freq\n",
       "<span style=\"color: #008000; font-weight: bold\">elseif</span><span style=\"color: #bbbbbb\"> </span>(<span style=\"color: #B00040\">i</span>pchintrp_<span style=\"color: #bbbbbb\"> </span><span style=\"color: #666666\">==</span><span style=\"color: #bbbbbb\"> </span><span style=\"color: #666666\">3</span>)<span style=\"color: #bbbbbb\"> </span><span style=\"color: #008000; font-weight: bold\">then</span><span style=\"color: #bbbbbb\">  </span><span style=\"color: #3D7B7B; font-style: italic\">; cos freq interpolation</span>\n",
       "<span style=\"color: #bbbbbb\">    </span><span style=\"color: #B00040\">k</span>idx<span style=\"color: #bbbbbb\"> </span>bisect<span style=\"color: #bbbbbb\"> </span><span style=\"color: #B00040\">k</span>_time,<span style=\"color: #bbbbbb\"> </span><span style=\"color: #B00040\">i</span>Times\n",
       "<span style=\"color: #bbbbbb\">    </span><span style=\"color: #B00040\">k</span>freq<span style=\"color: #bbbbbb\"> </span><span style=\"color: #B00040\">i</span>nterp1d<span style=\"color: #bbbbbb\"> </span><span style=\"color: #B00040\">k</span>idx,<span style=\"color: #bbbbbb\"> </span><span style=\"color: #B00040\">i</span>Freqs,<span style=\"color: #bbbbbb\"> </span><span style=\"color: #BA2121\">&quot;cos&quot;</span>\n",
       "<span style=\"color: #bbbbbb\">    </span><span style=\"color: #B00040\">k</span>amp<span style=\"color: #bbbbbb\"> </span><span style=\"color: #B00040\">i</span>nterp1d<span style=\"color: #bbbbbb\"> </span><span style=\"color: #B00040\">k</span>idx,<span style=\"color: #bbbbbb\"> </span><span style=\"color: #B00040\">i</span>Amps,<span style=\"color: #bbbbbb\"> </span><span style=\"color: #BA2121\">&quot;cos&quot;</span>\n",
       "<span style=\"color: #bbbbbb\">    </span><span style=\"color: #B00040\">k</span>pitch<span style=\"color: #bbbbbb\"> </span><span style=\"color: #008000\">ftom</span><span style=\"color: #bbbbbb\"> </span><span style=\"color: #B00040\">k</span>freq\n",
       "<span style=\"color: #008000; font-weight: bold\">endif</span>\n",
       "\n",
       "<span style=\"color: #B00040\">i</span>fadein<span style=\"color: #bbbbbb\"> </span><span style=\"color: #666666\">=</span><span style=\"color: #bbbbbb\"> </span><span style=\"color: #008000\">max</span>:<span style=\"color: #B00040\">i</span>(<span style=\"color: #B00040\">i</span>fadein,<span style=\"color: #bbbbbb\"> </span><span style=\"color: #666666\">1/</span><span style=\"color: #19177C\">kr</span>)\n",
       "<span style=\"color: #B00040\">i</span>fadeout<span style=\"color: #bbbbbb\"> </span><span style=\"color: #666666\">=</span><span style=\"color: #bbbbbb\"> </span><span style=\"color: #008000\">max</span>:<span style=\"color: #B00040\">i</span>(<span style=\"color: #B00040\">i</span>fadeout,<span style=\"color: #bbbbbb\"> </span><span style=\"color: #666666\">1/</span><span style=\"color: #19177C\">kr</span>)\n",
       "<span style=\"color: #B00040\">a</span>env_<span style=\"color: #bbbbbb\"> </span><span style=\"color: #666666\">=</span><span style=\"color: #bbbbbb\"> </span>makePresetEnvelope(<span style=\"color: #B00040\">i</span>fadein,<span style=\"color: #bbbbbb\"> </span><span style=\"color: #B00040\">i</span>fadeout,<span style=\"color: #bbbbbb\"> </span><span style=\"color: #B00040\">i</span>fadekind)\n",
       "<span style=\"color: #B00040\">a</span>env_<span style=\"color: #bbbbbb\"> </span><span style=\"color: #666666\">*=</span><span style=\"color: #bbbbbb\"> </span><span style=\"color: #B00040\">k</span>gain\n",
       "<span style=\"color: #B00040\">a</span>out1<span style=\"color: #bbbbbb\"> </span><span style=\"color: #008000\">oscili</span><span style=\"color: #bbbbbb\"> </span><span style=\"color: #008000\">a</span>(<span style=\"color: #B00040\">k</span>amp),<span style=\"color: #bbbbbb\"> </span><span style=\"color: #008000\">mtof</span>(<span style=\"color: #008000\">lag</span>(<span style=\"color: #B00040\">k</span>pitch<span style=\"color: #666666\">+</span><span style=\"color: #B00040\">k</span>transp,<span style=\"color: #bbbbbb\"> </span><span style=\"color: #B00040\">k</span>lag))\n",
       "<span style=\"color: #B00040\">a</span>out1<span style=\"color: #bbbbbb\"> </span><span style=\"color: #666666\">*=</span><span style=\"color: #bbbbbb\"> </span><span style=\"color: #B00040\">a</span>env_\n",
       "<span style=\"color: #B00040\">a</span>L_,<span style=\"color: #bbbbbb\"> </span><span style=\"color: #B00040\">a</span>R_<span style=\"color: #bbbbbb\"> </span><span style=\"color: #008000\">pan2</span><span style=\"color: #bbbbbb\"> </span><span style=\"color: #B00040\">a</span>out1,<span style=\"color: #bbbbbb\"> </span><span style=\"color: #B00040\">k</span>pos\n",
       "<span style=\"color: #008000\">outch</span><span style=\"color: #bbbbbb\"> </span><span style=\"color: #B00040\">i</span>chan,<span style=\"color: #bbbbbb\"> </span><span style=\"color: #B00040\">a</span>L_,<span style=\"color: #bbbbbb\"> </span><span style=\"color: #B00040\">i</span>chan<span style=\"color: #666666\">+1</span>,<span style=\"color: #bbbbbb\"> </span><span style=\"color: #B00040\">a</span>R_\n",
       "</code></pre></div>\n",
       "</span>"
      ],
      "text/plain": [
       "Instr(preset:sin, position(kpos):5=0, gain(kgain):6=0, idataidx_:7=0, inumbps:8=0, ibplen:9=0, ichan:10=0, ifadein:11=0, ifadeout:12=0, ipchintrp_:13=0, ifadekind:14=0, ktransp:15=0, klag:16=0.1)"
      ]
     },
     "execution_count": 10,
     "metadata": {},
     "output_type": "execute_result"
    }
   ],
   "source": [
    "presetmanager.getPreset('sin').getInstr()"
   ]
  },
  {
   "cell_type": "code",
   "execution_count": 5,
   "id": "9967c861-7e1f-4df6-9cd1-649e4dabc91c",
   "metadata": {},
   "outputs": [
    {
     "data": {
      "text/plain": [
       "[SynthEvent(delay=0, dur=2, instr=sin, gain=1, chan=1, fade=(0.02, 0.02), sustain=1, position=0.5)\n",
       " bps       0s: 69       0.515178\n",
       "        0.95s: 69       0.515178\n",
       "           1s: 65.5     0.515178\n",
       "           2s: 65.5     0.515178,\n",
       " SynthEvent(delay=2, dur=1, instr=sin, gain=1, chan=1, fade=(0.02, 0.02), sustain=1, position=0.5)\n",
       " bps       0s: 68       0.515178\n",
       "           1s: 68       0.515178]"
      ]
     },
     "execution_count": 5,
     "metadata": {},
     "output_type": "execute_result"
    }
   ],
   "source": [
    "ch.events(instr='sin', sustain=1)"
   ]
  },
  {
   "cell_type": "code",
   "execution_count": null,
   "id": "bb61c8cf-45ea-4361-bbf7-2f86bf1c0214",
   "metadata": {},
   "outputs": [],
   "source": []
  }
 ],
 "metadata": {
  "kernelspec": {
   "display_name": "Python 3 (ipykernel)",
   "language": "python",
   "name": "python3"
  },
  "language_info": {
   "codemirror_mode": {
    "name": "ipython",
    "version": 3
   },
   "file_extension": ".py",
   "mimetype": "text/x-python",
   "name": "python",
   "nbconvert_exporter": "python",
   "pygments_lexer": "ipython3",
   "version": "3.11.4"
  }
 },
 "nbformat": 4,
 "nbformat_minor": 5
}
