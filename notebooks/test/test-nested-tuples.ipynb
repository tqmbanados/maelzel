{
 "cells": [
  {
   "cell_type": "code",
   "execution_count": 1,
   "id": "f38a2d43-8d64-4418-ab74-0a30d852d159",
   "metadata": {},
   "outputs": [],
   "source": [
    "from maelzel.core import *\n",
    "from maelzel import scoring"
   ]
  },
  {
   "cell_type": "code",
   "execution_count": 2,
   "id": "0d21c832-f0b9-43da-9b2a-e85da081e61f",
   "metadata": {},
   "outputs": [],
   "source": [
    "cfg = getConfig()\n",
    "cfg['.quant.debug'] = True\n",
    "cfg['quant.complexity'] = 'highest'\n",
    "scoring.logger.setLevel(\"DEBUG\")"
   ]
  },
  {
   "cell_type": "code",
   "execution_count": 3,
   "id": "6801b1f7-b59e-4f82-b746-c8429ee306d8",
   "metadata": {
    "tags": []
   },
   "outputs": [
    {
     "name": "stderr",
     "output_type": "stream",
     "text": [
      "[maelzel.scoring:quant.py:1410:quantizeMeasure:DEBUG] Measure (4, 4) is not filled (events=[«0.000:0.667 2/3♩ 4C#», «0.667:1.333 2/3♩ 4D», «1.333:2.000 2/3♩ 4E»]). Filling gaps with silences\n"
     ]
    },
    {
     "name": "stdout",
     "output_type": "stream",
     "text": [
      "Beat: 0 - 1 (dur: 1)\n",
      "Best 1 divisions: (quantized in 458.2µs)\n"
     ]
    },
    {
     "data": {
      "text/html": [
       "<table>\n",
       "<thead>\n",
       "<tr><th>error  </th><th>div  </th><th>snapped                                                 </th><th>slots  </th><th>info                                                                                                                                                           </th></tr>\n",
       "</thead>\n",
       "<tbody>\n",
       "<tr><td>0      </td><td>(3,) </td><td>[«0.000:0.667 2/3♩ 4C#», «0.667:1.000 1/3♩ 4D tiedNext»]</td><td>[0, 2] </td><td>gridError=0, rhythmComplexity=0 (numNotesAcrossSubdivs=0, numTies=0), divPenalty=0 (0, divPenalty=0, cardinalityPenalty=0, numSubdivsPenalty=0, levelPenalty=0)</td></tr>\n",
       "</tbody>\n",
       "</table>"
      ],
      "text/plain": [
       "<IPython.core.display.HTML object>"
      ]
     },
     "metadata": {},
     "output_type": "display_data"
    },
    {
     "name": "stdout",
     "output_type": "stream",
     "text": [
      "Beat: 1 - 2 (dur: 1)\n",
      "Best 1 divisions: (quantized in 191.9µs)\n"
     ]
    },
    {
     "data": {
      "text/html": [
       "<table>\n",
       "<thead>\n",
       "<tr><th>error  </th><th>div  </th><th>snapped                                                </th><th>slots  </th><th>info                                                                                                                                                           </th></tr>\n",
       "</thead>\n",
       "<tbody>\n",
       "<tr><td>0      </td><td>(3,) </td><td>[«0.000:0.333 1/3♩ 4D tiedPrev», «0.333:1.000 2/3♩ 4E»]</td><td>[0, 1] </td><td>gridError=0, rhythmComplexity=0 (numNotesAcrossSubdivs=0, numTies=0), divPenalty=0 (0, divPenalty=0, cardinalityPenalty=0, numSubdivsPenalty=0, levelPenalty=0)</td></tr>\n",
       "</tbody>\n",
       "</table>"
      ],
      "text/plain": [
       "<IPython.core.display.HTML object>"
      ]
     },
     "metadata": {},
     "output_type": "display_data"
    },
    {
     "name": "stderr",
     "output_type": "stream",
     "text": [
      "[maelzel.scoring:quant.py:1668:_mergeSiblings:DEBUG] Nodes can merge: \n",
      "    Node(3/2, \n",
      "  «0.000:0.667 2/3♩ 3/2 4C#»\n",
      "  «0.667:1.000 1/3♩ 3/2 4D tiedNext»\n",
      ")\n",
      "    Node(3/2, \n",
      "  «1.000:1.333 1/3♩ 3/2 4D tiedPrev»\n",
      "  «1.333:2.000 2/3♩ 3/2 4E»\n",
      ")\n",
      "[maelzel.scoring:quant.py:1671:_mergeSiblings:DEBUG] ---- Merged node:\n",
      "    Node(3/2, \n",
      "  «0.000:0.667 2/3♩ 3/2 4C#»\n",
      "  «0.667:1.333 2/3♩ 3/2 4D»\n",
      "  «1.333:2.000 2/3♩ 3/2 4E»\n",
      ")\n",
      "[maelzel.scoring:quant.py:1673:_mergeSiblings:DEBUG] Nodes cannot merge: \n",
      "Node(3/2, \n",
      "  «0.000:0.667 2/3♩ 3/2 4C#»\n",
      "  «0.667:1.333 2/3♩ 3/2 4D»\n",
      "  «1.333:2.000 2/3♩ 3/2 4E»\n",
      ")\n",
      "Node(1/1, \n",
      "  «2.000:3.000 1/1♩ rest»\n",
      ")\n",
      "----> not same durRatio\n",
      "[maelzel.scoring:quant.py:1668:_mergeSiblings:DEBUG] Nodes can merge: \n",
      "    Node(1/1, \n",
      "  «2.000:3.000 1/1♩ rest»\n",
      ")\n",
      "    Node(1/1, \n",
      "  «3.000:4.000 1/1♩ rest»\n",
      ")\n",
      "[maelzel.scoring:quant.py:1671:_mergeSiblings:DEBUG] ---- Merged node:\n",
      "    Node(1/1, \n",
      "  «2.000:4.000 2/1♩ rest»\n",
      ")\n",
      "[maelzel.scoring:node.py:550:_splitUnnecessaryNodes:DEBUG] Did not split node Node(1/1, \n",
      "  Node(3/2, \n",
      "    «0.000:0.667 2/3♩ 3/2 4C#»\n",
      "    «0.667:1.333 2/3♩ 3/2 4D»\n",
      "    «1.333:2.000 2/3♩ 3/2 4E»\n",
      "  )\n",
      "  Node(1/1, \n",
      "    «2.000:4.000 2/1♩ rest»\n",
      "  )\n",
      ") at 1\n",
      "[maelzel.scoring:node.py:550:_splitUnnecessaryNodes:DEBUG] Did not split node Node(1/1, \n",
      "  Node(3/2, \n",
      "    «0.000:0.667 2/3♩ 3/2 4C#»\n",
      "    «0.667:1.333 2/3♩ 3/2 4D»\n",
      "    «1.333:2.000 2/3♩ 3/2 4E»\n",
      "  )\n",
      "  Node(1/1, \n",
      "    «2.000:4.000 2/1♩ rest»\n",
      "  )\n",
      ") at 3\n",
      "[maelzel.scoring:renderlily.py:1082:write:DEBUG] Rendering lilypond '/tmp/tmpodbznotd.ly' to '/tmp/tmpodbznotd.png'\n",
      "[maelzel.scoring:renderlily.py:1095:write:DEBUG] Found crop file /tmp/tmpodbznotd.cropped.png, using that as output\n"
     ]
    },
    {
     "data": {
      "text/html": [
       "<code style=\"white-space: pre-line; font-size:0.9em;\">Voice([<span style=\"color:#6666E0\">4C#:0.667♩</span>, <span style=\"color:#6666E0\">4D:0.667♩</span>, <span style=\"color:#6666E0\">4E:0.667♩</span>], dur=2, offset=0)</code><br>\n",
       "        <img style=\"display:inline; padding:10px;\n",
       "margin-top:14px;\n",
       "width:233px\"\n",
       "             src=\"data:image/png;base64,iVBORw0KGgoAAAANSUhEUgAAATcAAAB9CAIAAABI9LPbAAAJLmlDQ1BJQ0MgUHJvZmlsZQAAeJyVlWdQk1kXx+/zPOmFQBJCh1BDkSolgJQQWijSq6hA6J1QRWyIuAIriog0RZBFARdclSJrRRQLi4ICFnSDLALKunEVUUFZcN8ZnfcdP7z/mXvPb/5z5t5zz/lwASCIg2XBy3tiUrrA28mOGRgUzATfKIyflsLx9HQD39W7EQCtxHu638/5rggRkWn85bi4vHL5KYJ0AKDsZdbMSk9Z4aPLTA+P/8JnV1iwXOAy31jh6H957EvOvyz6kuPrzV1+FQoAHCn6Gw7/hv9z74pUOIL02KjIbKZPclR6Vpggkpm20gkel8v0FCRHxSZEflPw/5X8HaVHZqevRG5yyiZBbHRMOvN/DjUyMDQEX2fxxutLjyFG/3/PZ0VfveR6ANhzACD7vnrhlQB07gJA+tFXT225r5R8ADru8DMEmf96qJUNDQiAAuhABigCVaAJdIERMAOWwBY4ABfgAXxBENgA+CAGJAIByAK5YAcoAEVgHzgIqkAtaABNoBWcBp3gPLgCroPb4C4YBo+BEEyCl0AE3oEFCIKwEBmiQTKQEqQO6UBGEBuyhhwgN8gbCoJCoWgoCcqAcqGdUBFUClVBdVAT9At0DroC3YQGoYfQODQD/Q19hBGYBNNhBVgD1ofZMAd2hX3h9XA0nArnwPnwXrgCrodPwh3wFfg2PAwL4ZfwHAIQIsJAlBFdhI1wEQ8kGIlCBMhWpBApR+qRVqQb6UPuIUJkFvmAwqBoKCZKF2WJckb5ofioVNRWVDGqCnUC1YHqRd1DjaNEqM9oMloerYO2QPPQgehodBa6AF2ObkS3o6+hh9GT6HcYDIaBYWHMMM6YIEwcZjOmGHMY04a5jBnETGDmsFisDFYHa4X1wIZh07EF2ErsSewl7BB2EvseR8Qp4YxwjrhgXBIuD1eOa8ZdxA3hpnALeHG8Ot4C74GPwG/Cl+Ab8N34O/hJ/AJBgsAiWBF8CXGEHYQKQivhGmGM8IZIJKoQzYlexFjidmIF8RTxBnGc+IFEJWmTuKQQUgZpL+k46TLpIekNmUzWINuSg8np5L3kJvJV8lPyezGamJ4YTyxCbJtYtViH2JDYKwqeok7hUDZQcijllDOUO5RZcby4hjhXPEx8q3i1+DnxUfE5CZqEoYSHRKJEsUSzxE2JaSqWqkF1oEZQ86nHqFepEzSEpkrj0vi0nbQG2jXaJB1DZ9F59Dh6Ef1n+gBdJEmVNJb0l8yWrJa8IClkIAwNBo+RwChhnGaMMD5KKUhxpCKl9ki1Sg1JzUvLSdtKR0oXSrdJD0t/lGHKOMjEy+yX6ZR5IouS1Zb1ks2SPSJ7TXZWji5nKceXK5Q7LfdIHpbXlveW3yx/TL5ffk5BUcFJIUWhUuGqwqwiQ9FWMU6xTPGi4owSTclaKVapTOmS0gumJJPDTGBWMHuZImV5ZWflDOU65QHlBRWWip9KnkqbyhNVgipbNUq1TLVHVaSmpOaulqvWovZIHa/OVo9RP6Tepz6vwdII0Nit0akxzZJm8Vg5rBbWmCZZ00YzVbNe874WRoutFa91WOuuNqxtoh2jXa19RwfWMdWJ1TmsM7gKvcp8VdKq+lWjuiRdjm6mbovuuB5Dz00vT69T75W+mn6w/n79Pv3PBiYGCQYNBo8NqYYuhnmG3YZ/G2kb8Y2qje6vJq92XL1tddfq18Y6xpHGR4wfmNBM3E12m/SYfDI1MxWYtprOmKmZhZrVmI2y6WxPdjH7hjna3M58m/l58w8WphbpFqct/rLUtYy3bLacXsNaE7mmYc2ElYpVmFWdldCaaR1qfdRaaKNsE2ZTb/PMVtU2wrbRdoqjxYnjnOS8sjOwE9i1281zLbhbuJftEXsn+0L7AQeqg59DlcNTRxXHaMcWR5GTidNmp8vOaGdX5/3OozwFHp/XxBO5mLlscel1Jbn6uFa5PnPTdhO4dbvD7i7uB9zH1qqvTVrb6QE8eB4HPJ54sjxTPX/1wnh5elV7Pfc29M717vOh+Wz0afZ552vnW+L72E/TL8Ovx5/iH+Lf5D8fYB9QGiAM1A/cEng7SDYoNqgrGBvsH9wYPLfOYd3BdZMhJiEFISPrWeuz19/cILshYcOFjZSNYRvPhKJDA0KbQxfDPMLqw+bCeeE14SI+l3+I/zLCNqIsYibSKrI0cirKKqo0ajraKvpA9EyMTUx5zGwsN7Yq9nWcc1xt3Hy8R/zx+KWEgIS2RFxiaOK5JGpSfFJvsmJydvJgik5KQYow1SL1YKpI4CpoTIPS1qd1pdOXP8X+DM2MXRnjmdaZ1Znvs/yzzmRLZCdl92/S3rRn01SOY85Pm1Gb+Zt7cpVzd+SOb+FsqdsKbQ3f2rNNdVv+tsntTttP7CDsiN/xW55BXmne250BO7vzFfK350/sctrVUiBWICgY3W25u/YH1A+xPwzsWb2ncs/nwojCW0UGReVFi8X84ls/Gv5Y8ePS3qi9AyWmJUf2YfYl7RvZb7P/RKlEaU7pxAH3Ax1lzLLCsrcHNx68WW5cXnuIcCjjkLDCraKrUq1yX+ViVUzVcLVddVuNfM2emvnDEYeHjtgeaa1VqC2q/Xg09uiDOqe6jnqN+vJjmGOZx543+Df0/cT+qalRtrGo8dPxpOPCE94nepvMmpqa5ZtLWuCWjJaZkyEn7/5s/3NXq25rXRujregUOJVx6sUvob+MnHY93XOGfab1rPrZmnZae2EH1LGpQ9QZ0ynsCuoaPOdyrqfbsrv9V71fj59XPl99QfJCyUXCxfyLS5dyLs1dTrk8eyX6ykTPxp7HVwOv3u/16h245nrtxnXH61f7OH2XbljdOH/T4ua5W+xbnbdNb3f0m/S3/2byW/uA6UDHHbM7XXfN73YPrhm8OGQzdOWe/b3r93n3bw+vHR4c8Rt5MBoyKnwQ8WD6YcLD148yHy083j6GHit8Iv6k/Kn80/rftX5vE5oKL4zbj/c/83n2eII/8fKPtD8WJ/Ofk5+XTylNNU0bTZ+fcZy5+2Ldi8mXKS8XZgv+lPiz5pXmq7N/2f7VLwoUTb4WvF76u/iNzJvjb43f9sx5zj19l/huYb7wvcz7Ex/YH/o+BnycWshaxC5WfNL61P3Z9fPYUuLS0j9CLJC+ERlPpwAAEW9JREFUeJztnc9v40QbxyevinYr0dYuEj/UQ9fugjjAoXa1V1bYkdBybbISEtzscoSLkz8hzgUurBSXC3urUwlx2FNciT/AbhFcWKlx2gNi20McqpVatIe8hwcGy04cJ7VjJ3k+h9XWmcQTx1/PzDPfeabQ7/cJgiA55n9ZVwBBkBHMvEqfPHlycnKSdS0QJEUKs97jLRQK5XL54OAg64ogSFrMfFuKIHMPqhRB8g6qFEHyDqoUQfIOqhRB8g6qFEHyDqoUQfIOqhRB8g6qFEHyDqoUQfIOqhRB8g6qFEHyDqoUQfIOqhRB8g6qFEHyDqoUQfIOqjQKx3FUVWVZtlAoFAoFWZYdxwmU8TyvUqlAGZZlK5VKJlVF5pn+jEMIKZfLaXxyo9EghAiC0G63+/1+u90mhDAMA38C3W5XEASO4+AgvEVRlDTqgywsqNLB2LZNCOE4rtvtwpFarQbPtUajQYtpmkYIabVagSO1Wi3xKiELC/Z4BwMd12q1yrIsHKH/EUUR/uO6br1eFwRBlmX6xnK5TAiBRhVBEgFVOgDHcY6OjgghqqrSg6qq2rbdbrepSkGKPM/73wuvdjqd8AgWQSZjJlWatgBM0ySESJIUOC6Kol+TUI2ASgkhHMfRD0GQ2zNLKjUMQxTFQqGws7NTKBR4nm82m2mcCOQHXVxd12VZlmVZVVXLsvzFoL0NA7p1XTeNuiELyGyo1HEcnuf39vaOj4/pwU6nA4PAgciyXIjEP5gMAPLjeV4URdM0oRO7v79fLBYNw4hZZ8/z4n49BIlkKesKjMZxHFmWe73eWO+io8eJC9TrdUVRqCx1Xa9Wq3t7ezzPRygcQZIn6yDzCNrtNsMw0V+BTpYkBXwswzCB4zDgpNOhUEzTtEAxGNBKkpRsrZCFJe893lqtFt2KMgxD50iSJdzYBgacgiAMfCMUGNlWI0hM8t7jDQRswpRKpYHHDcMAt9Awtra2/BMtfiRJGhYZ8iOK4vHxcThK1Ol04PNHfgKCxCLrxnwE0ZUP+PX8hOdRAkT0SMFmFC4AjSft4sJciyAI/jLdbhc+P/F+OLKw5L0t5TgOmqYwDMMYhhGergTK5XJ0nzOirVNVtVarHR0dua5LP991XYgw7+3twZFSqSQIAjSntBhMDmmallI/HFlEsn5MjGCYN4DjONu20zsv+Ip2d3fpkd3dXRKKFdm2zTAMLQZ/CoKADSmSIHlXab/fN00TgquAIAh+v3uq52UYhuM4SZI4jmMYZqCH3rZtjuOgGMMwkiRlJdF2u61pmiRJu7u707lEyHSYAZVSUm08h9H6l2jtQZlMakgrIAiCaZp9XEA3d8z8XuAIACvUXdeF8bAsy0dHR91uF4fHc0Ay86Wu61YqFfTEZQjLsr1eLzAthF7i+SCBtpQ6+ARBwOVaWeF5nuu6ENb2PI/neZZlUaXzwW1VGjDZapqm63oC9Zop6vX6u+++u7KyMrUzsiw7bJ7Jdd1SqeR5XrPZDJdxXXdq0j0+Pi6VSv7IHzIhtxnUdrvd8G8wzGYwr3zyySeZ/HDh66xpmiAI0XFmmE+aGhsbG+n/AvPPrcalqqqGLQc0P9CCsLq6Ov2TCoIQDgvpug4BJNd1h63aGWYCSYm7d+9O83Rzy8T6brVawz5zoZpTSEeW7QqYwAUHd6Q/Z9r0ycNlmRsmb0sj2sxFa06zRRTFra2tkcsSkNllQpXS/F1+NE2DZSjNZhNnZaaGP38FIcTzPMdxGIbBpXNzw4QqDTy5GYZptVq6rvM8L0lSr9dLKSMREobjuEajQQeilUql1+vpuo5+hrlhwjUx/kEpwzCWZdEntyiKR0dHrVZr2OpNJFmazaaqqtCLgeiRaZrDlt0is8iEKvW7FyC1X6DA4eHh5JVCxkEURcdxHMfxPG/kej1kFplQpdTGsLu7O+yxbVnWImTxgnWqmXcv8ybO9fV1MvWJn7llstAwffvAuXV4aXH2SslwKUyewcuSFLdyNUiSFPGwpLlF5p68tWM5AS9LUtxKpcViMXyQ2kTReY8giXArlQ58WKI4ESRZElap4zjDkokhCDIZS+QWq5nCzeb+/j79/xtvvIG2NQSZGJ7n/4n79Ke+mglBkDjcvXsXYryFfr8Pzs+x3q9p2snJia7r/l0YDg4Ovv/+e/rn06dP33nnncSqTAghZH9/P5z789GjR19//XWyJ0KQlDg+Poad5svlsqIocHBgIJYQ0u/3CfR4WZYd135QLBZPTk4YhqFv9DzPb28QBOHzzz8f/yuMICxRQRCePXuW+IkQJG3u3bsXU3cTRo92dnYIIf6NWALbLkXsLHobAuNnQRBw6IvMPROqFJ4BdOGLZVn1ep2+yjBMSlZ7f8+cYZhms8myLDrLkflmQpWyLCsIQqfTcV030NclhKiqmoav1XEc2lzDQhye5w3DQGd/fvA8r1Kp4Jx5skw+X0qb01Kp5O/rchyXUhpBf+cWFuLAPZHGuZDJcBynXq/jj5Isk6sURp7VajWQtIFucZ84NHTUaDRKpRLk4IregxhB5oDJVSqKYjjNp6ZpKa1WcxwHUodomqaqKrSlgWQiCDKXTL5/qWVZATOgIAjppcymOxTBKegmoggy//R9K0IRBMkV/3mPms2mbdvx33lzc/PDDz/89ddf/oPlcvnevXsJ1/FfDg4Obm5uHj9+TLMw+yd+CCH4oAGePn364sWLDK/G2dmZaZqbm5uPHz/Oqg45By4RIeTBgwcPHz6Eg4H7mQLeo7FzNXS7Xb8rEAjskJ0smqYxDBNIChH+Mki/39/e3s72akDaOkyWHQHN7OdXzTBJw6tjR48qlUo4ZpPeBkGO4xiGAVOjKZ0CQXLOeNEjXdf9a9MIIYqiNJvN9HwFsizzPG+aZtjB64dO0K2vr+Nk3Xyj63r8ZD3FYnEOUuSNoVLLsqrVqv8IBHU9zzs8PAR7Q9LVI6qqQhrL6GK0QOa5/JC0CdyEI1kglYZtgODRY1m2WCweHh7atp2GSodN7RQKhUCxzHNh6bperVZrtRo25kiyxB2Xqqrqd/lQiZKQ834KhM+VB+ModMMWJ3MiMjViqdSyrMDI09928TxPnffJV3AQ4HDwU6vVcP8oZF6JpdJAF05RlMDCNGhOp7DU03GcUqkU3u6t0+nIspyHFhVBEmeJEBLtavjll1/8Uy9ra2vLy8sB3f7++++EkCdPnvjXhSfOTz/99Pz587W1tc3NTYZh7ty5Q1+6uLhot9s7OzsZzqf//PPP8G+G49I//viDhJ6q0+Ts7IwQcnp6ml4d7ty58/fff8csnO3PMRC4RGSsuvXRIYggeeUfz0O0TyLQNiqK4n/Vtu3wsphA+W63m6BvY+ADJVCrrIC6pWrDGgl6j/JP8t6jQDTVP1VlGMbOzk50juz9/X2e5xMcLoZDRIIgpLeiFUHywAiV+ttSRVGoTc9xnJhrx3q9XoJxHcxOhiwgI1TqV4VflmEDQ0TXt9frlUqlRGZKMDsZsoCMUClVBcdxdIK02WzSji7DMJqmtdtt13UZhiGE9Pt927ZpOmCg0+nUarVb1hWzkyGLyQiVUlX4zZB0+AtS0XUdesIgY8uyRFE0DKPVaoFuAcMwbtmcYnYyZDEZoVLaj4V96QHaDQ64Z+H/tPmVZdmyLCrUXq93SxchZidDFpMRKqXhIr8awfoTTo0dTngviqLfLj9WRogAmJ0MWViWCCERuzlRf49fD9vb2ycnJxzHBeKrNzc3hBDbtv3HeZ5/++23X7x4EX5pLL755htCyKNHj4rFomVZgQhzHiK94Ck5OzvLsDJXV1ck06sB90m3283DL5JPqJTGuFX6uDMiguQVcDUU+v1+xC7Df/755xdffEEI+eqrrz799FM4+OzZs2+//ZYM2vsQdkz87rvv3nvvPXqQbgX3+uuv//jjjxPUVdO0ly9f6rq+srICRwI7ydGAVobAro3+7e6mz5dfftlutzO8GvBbb29vD0u3hUywM+JoNxnkIgu48CCqtLu7GygMLjnTNAdaoiYzjs1KdjJ0CPbRIRiDVLKTwQgwEJ4FU97h4WEggLS+vk6GR4kmyDCG2ckQZHRGFVVVa7Vap9OpVCo0YCvLcqPR2Nvb29/f9zzPMAzI2wCh4MC8KA1NDWvWI8DsZAgSK++RYRjFYtEwjHK5TKdkYPtDVVUPDw/L5TLY9KDFC4xyQWAcx01g5Zt+djLHcSzLQqnHwfM8WJwMv7goih988EHWlZpHYnamYdDFcVxgJVq32221Wv4jhBCGYeiftA0MDFZvSeBb2Lad1CdLkhT/svhZqHFpt9uNWJaM49IIUsyares6JDcSRdHfsrEsG8ikKAgC9QM5jgMDV0VREvTEJ5udDFvOcXEcRxTFiCju9fX1NOsz94yR296yLEmSOp3Ozs5OpVIZZsqFPqdlWZZlgYMv8SWgyWYnq9VqOG0QH8dxZFmOXld8eXk5tfosAmOolGVZy7Kgn1Ov13mer1QqlmUF5AFDU1VVi8Vir9dTFCXBVeCYnSxbPM+L453++OOPp1KdRaHQ7/crlcpY9/fV1dXp6enItmtlZeX+/fswN5MIv/322+Xl5d27d5eXl5eXl1977TV/la6vr29ubliWDW82Fc3x8bHneTAcDf8Zn9PT0/Pz883Nzfv374/73gl49erV5eUlfHFCyOrq6sbGxq+//vry5csJKh8T+I4ji73//vsbGxsp1WHW6Xa7JycnhBD/rRJueAAYsi4RQra2tsZS6erqqiAI19fXFxcX3W4X5EEIWVpaWllZgT/TuFk//PDDZD8wguvr66urq7feemtqZ4zPq1evzs/PA2rxPO/8/NyfVzENLi4uRpZZWlp68803U63GTLO+vh5+jA58sP63xCWlEFa2oc6x8Ad1A/s+1mq1+J8znRjvyIxwafymlDh34Qz99LPC2DsjzisQjuZ53r/6J2/bScSJ3KSKf1n/QBRFGba1DzIx4+2MOH+4rgsDbFgcm2diRm4++uij9OpQKpUCW2P6URQF8zmmwRhtqeu64DcqFAqiKE5z+6aUqFQqW1tbw5aSMwwTYWkEX6SqqrIsy7JcqVTSzhpRq9XinOKzzz5Lrw4wbR4+znGcaZoo0bSI2TO2bTvc2xloJ5qhcWnEZWk0GsPyfUfbbtL74iOHo4QQhmGSTVM+ENM0FUWRJEmSJE3TAuYzJHHiqnTgLcJxXLgkWAJnUaUcx2maBm3FsLeMDN6oqjqd2k75GYFkSNydEQdGLDqdTjglxG2SG2VIq9VyXVfX9Qi/fpzgzfPnz1OoHSEYuVlgko/xzkowhhDSarUajQY0niP3dY8ZvFlbW0uqegGijdAYuZln4jS4ERk6wqMgeOQHUivkmcAimPCamMnyQiXe+QzM5VIgcpPsuZBcEWsmxp/mM3AjBvqHhmH0ej1JkuYptcJkufMNw0i2/8myrOM4zWYTOueEEFEUi8XiyF4AMuvEUinLsru7u/6bFZLxBu5Cz/Ngm4mYGz3lGVgLDjNPpmnath1n3cyDBw8ePnwI/y+Xy2lUrFQq4b44C0fMNpfGhCRJGhZ5h4RoM7cC2N/FbbfbwxyCcYI3GX0DZM6JGz0SRRHayaOjI9M0AwtiXNcFV4ogCDPqdjAMo1QqBUwOfocgBm+QzBhL03TfNIZhFEXRNE3TNBpcEQRhhoJGQPT8pz8ChMEbJCsK/XjT5RTLsmq1WmA5HAxTq9Xq7ZODTZNSqRQRGeI4rtlsBiJnGLxBps/YKgVc13Ucx7bt9fV1URRn9E4tFArDXmq1WjP6pZD5Y0KVzgcBlQqCsLe312g0jo+PF/myIHljoVeuMQxDvUTtdhvmeKPTcyPI9FnoVeCWZZmmCTMx82TDQOaMhVapKIroEEDyz0KrFEFmAlQpguSdhY4eDaRareIYFckVqNIgkMco61ogyH+gSomu6+GMEwiSHxba1YAgM8H/AXnqLze7xAtaAAAAAElFTkSuQmCC\"/>"
      ],
      "text/plain": [
       "Voice([4C#:0.667♩, 4D:0.667♩, 4E:0.667♩], offset=0)"
      ]
     },
     "execution_count": 3,
     "metadata": {},
     "output_type": "execute_result"
    }
   ],
   "source": [
    "v1 = Voice([\n",
    "    Note(\"4C#\", F(2, 3)),\n",
    "    Note(\"4D\", F(2, 3)),\n",
    "    Note(\"4E\", F(2, 3)),\n",
    "])\n",
    "v1"
   ]
  },
  {
   "cell_type": "code",
   "execution_count": 4,
   "id": "b101979d-06bb-4f05-a4ea-7dbd0b24ff6f",
   "metadata": {},
   "outputs": [
    {
     "name": "stderr",
     "output_type": "stream",
     "text": [
      "[maelzel.scoring:quant.py:1410:quantizeMeasure:DEBUG] Measure (4, 4) is not filled (events=[«0.000:0.667 2/3♩ 4C#», «0.667:1.333 2/3♩ 4D», «1.333:1.556 2/9♩ 4E», «1.556:1.778 2/9♩ 4F», «1.778:2.000 2/9♩ 4G»]). Filling gaps with silences\n"
     ]
    },
    {
     "name": "stdout",
     "output_type": "stream",
     "text": [
      "Beat: 0 - 1 (dur: 1)\n",
      "Best 1 divisions: (quantized in 2.2ms)\n"
     ]
    },
    {
     "data": {
      "text/html": [
       "<table>\n",
       "<thead>\n",
       "<tr><th>error  </th><th>div  </th><th>snapped                                                 </th><th>slots  </th><th>info                                                                                                                                                           </th></tr>\n",
       "</thead>\n",
       "<tbody>\n",
       "<tr><td>0      </td><td>(3,) </td><td>[«0.000:0.667 2/3♩ 4C#», «0.667:1.000 1/3♩ 4D tiedNext»]</td><td>[0, 2] </td><td>gridError=0, rhythmComplexity=0 (numNotesAcrossSubdivs=0, numTies=0), divPenalty=0 (0, divPenalty=0, cardinalityPenalty=0, numSubdivsPenalty=0, levelPenalty=0)</td></tr>\n",
       "</tbody>\n",
       "</table>"
      ],
      "text/plain": [
       "<IPython.core.display.HTML object>"
      ]
     },
     "metadata": {},
     "output_type": "display_data"
    },
    {
     "name": "stdout",
     "output_type": "stream",
     "text": [
      "Beat: 1 - 2 (dur: 1)\n",
      "Best 3 divisions: (quantized in 64.0ms)\n"
     ]
    },
    {
     "data": {
      "text/html": [
       "<table>\n",
       "<thead>\n",
       "<tr><th>error    </th><th>div      </th><th>snapped                                                                                              </th><th>slots       </th><th>info                                                                                                                                                                         </th></tr>\n",
       "</thead>\n",
       "<tbody>\n",
       "<tr><td>0.001118 </td><td>(1, 3, 3)</td><td>[«0.000:0.333 1/3♩ 4D tiedPrev», «0.333:0.556 2/9♩ 4E», «0.556:0.778 2/9♩ 4F», «0.778:1.000 2/9♩ 4G»]</td><td>[0, 1, 3, 5]</td><td>gridError=0, rhythmComplexity=0.112 (numNotesAcrossSubdivs=1, numTies=0), divPenalty=0 (0, divPenalty=0, cardinalityPenalty=0, numSubdivsPenalty=0, levelPenalty=0)          </td></tr>\n",
       "<tr><td>0.0017889</td><td>(9,)     </td><td>[«0.000:0.333 1/3♩ 4D tiedPrev», «0.333:0.556 2/9♩ 4E», «0.556:0.778 2/9♩ 4F», «0.778:1.000 2/9♩ 4G»]</td><td>[0, 3, 5, 7]</td><td>gridError=0, rhythmComplexity=0 (numNotesAcrossSubdivs=0, numTies=0), divPenalty=0.04 (8e-05, divPenalty=0.04, cardinalityPenalty=0, numSubdivsPenalty=0, levelPenalty=0)    </td></tr>\n",
       "<tr><td>0.21813  </td><td>(6,)     </td><td>[«0.000:0.333 1/3♩ 4D tiedPrev», «0.333:0.500 1/6♩ 4E», «0.500:0.833 1/3♩ 4F», «0.833:1.000 1/6♩ 4G»]</td><td>[0, 2, 3, 5]</td><td>gridError=0.218, rhythmComplexity=0 (numNotesAcrossSubdivs=0, numTies=0), divPenalty=0.02 (4e-05, divPenalty=0.02, cardinalityPenalty=0, numSubdivsPenalty=0, levelPenalty=0)</td></tr>\n",
       "</tbody>\n",
       "</table>"
      ],
      "text/plain": [
       "<IPython.core.display.HTML object>"
      ]
     },
     "metadata": {},
     "output_type": "display_data"
    },
    {
     "name": "stderr",
     "output_type": "stream",
     "text": [
      "[maelzel.scoring:quant.py:1668:_mergeSiblings:DEBUG] Nodes can merge: \n",
      "    Node(3/2, \n",
      "  «1.333:1.556 2/9♩ 3/2,3/2 4E»\n",
      "  «1.556:1.667 1/9♩ 3/2,3/2 4F tiedNext»\n",
      ")\n",
      "    Node(3/2, \n",
      "  «1.667:1.778 1/9♩ 3/2,3/2 4F tiedPrev»\n",
      "  «1.778:2.000 2/9♩ 3/2,3/2 4G»\n",
      ")\n",
      "[maelzel.scoring:quant.py:1671:_mergeSiblings:DEBUG] ---- Merged node:\n",
      "    Node(3/2, \n",
      "  «1.333:1.556 2/9♩ 3/2,3/2 4E»\n",
      "  «1.556:1.778 2/9♩ 3/2,3/2 4F»\n",
      "  «1.778:2.000 2/9♩ 3/2,3/2 4G»\n",
      ")\n",
      "[maelzel.scoring:quant.py:1668:_mergeSiblings:DEBUG] Nodes can merge: \n",
      "    Node(3/2, \n",
      "  «0.000:0.667 2/3♩ 3/2 4C#»\n",
      "  «0.667:1.000 1/3♩ 3/2 4D tiedNext»\n",
      ")\n",
      "    Node(3/2, \n",
      "  «1.000:1.333 1/3♩ 3/2 4D tiedPrev»\n",
      "  Node(3/2, \n",
      "    «1.333:1.556 2/9♩ 3/2,3/2 4E»\n",
      "    «1.556:1.778 2/9♩ 3/2,3/2 4F»\n",
      "    «1.778:2.000 2/9♩ 3/2,3/2 4G»\n",
      "  )\n",
      ")\n",
      "[maelzel.scoring:quant.py:1671:_mergeSiblings:DEBUG] ---- Merged node:\n",
      "    Node(3/2, \n",
      "  «0.000:0.667 2/3♩ 3/2 4C#»\n",
      "  «0.667:1.333 2/3♩ 3/2 4D»\n",
      "  Node(3/2, \n",
      "    «1.333:1.556 2/9♩ 3/2,3/2 4E»\n",
      "    «1.556:1.778 2/9♩ 3/2,3/2 4F»\n",
      "    «1.778:2.000 2/9♩ 3/2,3/2 4G»\n",
      "  )\n",
      ")\n",
      "[maelzel.scoring:quant.py:1673:_mergeSiblings:DEBUG] Nodes cannot merge: \n",
      "Node(3/2, \n",
      "  «0.000:0.667 2/3♩ 3/2 4C#»\n",
      "  «0.667:1.333 2/3♩ 3/2 4D»\n",
      "  Node(3/2, \n",
      "    «1.333:1.556 2/9♩ 3/2,3/2 4E»\n",
      "    «1.556:1.778 2/9♩ 3/2,3/2 4F»\n",
      "    «1.778:2.000 2/9♩ 3/2,3/2 4G»\n",
      "  )\n",
      ")\n",
      "Node(1/1, \n",
      "  «2.000:3.000 1/1♩ rest»\n",
      ")\n",
      "----> not same durRatio\n",
      "[maelzel.scoring:quant.py:1668:_mergeSiblings:DEBUG] Nodes can merge: \n",
      "    Node(1/1, \n",
      "  «2.000:3.000 1/1♩ rest»\n",
      ")\n",
      "    Node(1/1, \n",
      "  «3.000:4.000 1/1♩ rest»\n",
      ")\n",
      "[maelzel.scoring:quant.py:1671:_mergeSiblings:DEBUG] ---- Merged node:\n",
      "    Node(1/1, \n",
      "  «2.000:4.000 2/1♩ rest»\n",
      ")\n",
      "[maelzel.scoring:node.py:550:_splitUnnecessaryNodes:DEBUG] Did not split node Node(1/1, \n",
      "  Node(3/2, \n",
      "    «0.000:0.667 2/3♩ 3/2 4C#»\n",
      "    «0.667:1.333 2/3♩ 3/2 4D»\n",
      "    Node(3/2, \n",
      "      «1.333:1.556 2/9♩ 3/2,3/2 4E»\n",
      "      «1.556:1.778 2/9♩ 3/2,3/2 4F»\n",
      "      «1.778:2.000 2/9♩ 3/2,3/2 4G»\n",
      "    )\n",
      "  )\n",
      "  Node(1/1, \n",
      "    «2.000:4.000 2/1♩ rest»\n",
      "  )\n",
      ") at 1\n",
      "[maelzel.scoring:node.py:550:_splitUnnecessaryNodes:DEBUG] Did not split node Node(1/1, \n",
      "  Node(3/2, \n",
      "    «0.000:0.667 2/3♩ 3/2 4C#»\n",
      "    «0.667:1.333 2/3♩ 3/2 4D»\n",
      "    Node(3/2, \n",
      "      «1.333:1.556 2/9♩ 3/2,3/2 4E»\n",
      "      «1.556:1.778 2/9♩ 3/2,3/2 4F»\n",
      "      «1.778:2.000 2/9♩ 3/2,3/2 4G»\n",
      "    )\n",
      "  )\n",
      "  Node(1/1, \n",
      "    «2.000:4.000 2/1♩ rest»\n",
      "  )\n",
      ") at 3\n",
      "[maelzel.scoring:renderlily.py:1082:write:DEBUG] Rendering lilypond '/tmp/tmp406337gv.ly' to '/tmp/tmp406337gv.png'\n",
      "[maelzel.scoring:renderlily.py:1095:write:DEBUG] Found crop file /tmp/tmp406337gv.cropped.png, using that as output\n"
     ]
    },
    {
     "data": {
      "text/html": [
       "<code style=\"white-space: pre-line; font-size:0.9em;\">Voice([<span style=\"color:#6666E0\">4C#:0.667♩</span>, <span style=\"color:#6666E0\">4D:0.667♩</span>, <span style=\"color:#6666E0\">4E:0.222♩</span>, <span style=\"color:#6666E0\">4F:0.222♩</span>, <span style=\"color:#6666E0\">4G:0.222♩</span>], dur=2, offset=0)</code><br>\n",
       "        <img style=\"display:inline; padding:10px;\n",
       "margin-top:14px;\n",
       "width:262px\"\n",
       "             src=\"data:image/png;base64,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\"/>"
      ],
      "text/plain": [
       "Voice([4C#:0.667♩, 4D:0.667♩, 4E:0.222♩, 4F:0.222♩, 4G:0.222♩], offset=0)"
      ]
     },
     "execution_count": 4,
     "metadata": {},
     "output_type": "execute_result"
    }
   ],
   "source": [
    "v1 = Voice([\n",
    "    Note(\"4C#\", F(2, 3)),\n",
    "    Note(\"4D\", F(2, 3)),\n",
    "    Note(\"4E\", F(2, 3)*F(1, 3)),\n",
    "    Note(\"4F\", F(2, 3)*F(1, 3)),\n",
    "    Note(\"4G\", F(2, 3)*F(1, 3)),\n",
    "])\n",
    "\n",
    "v1"
   ]
  },
  {
   "cell_type": "code",
   "execution_count": 5,
   "id": "240874c5-68b9-4621-bde0-106dea007139",
   "metadata": {},
   "outputs": [
    {
     "name": "stderr",
     "output_type": "stream",
     "text": [
      "[maelzel.scoring:quant.py:1410:quantizeMeasure:DEBUG] Measure (4, 4) is not filled (events=[«0.000:0.667 2/3♩ 4C#», «0.667:1.000 1/3♩ 4D», «1.000:1.333 1/3♩ 4D#», «1.333:1.556 2/9♩ 4E», «1.556:1.778 2/9♩ 4F», «1.778:2.000 2/9♩ 4G»]). Filling gaps with silences\n"
     ]
    },
    {
     "name": "stdout",
     "output_type": "stream",
     "text": [
      "Beat: 0 - 1 (dur: 1)\n",
      "Best 1 divisions: (quantized in 2.5ms)\n"
     ]
    },
    {
     "data": {
      "text/html": [
       "<table>\n",
       "<thead>\n",
       "<tr><th>error  </th><th>div  </th><th>snapped                                        </th><th>slots  </th><th>info                                                                                                                                                           </th></tr>\n",
       "</thead>\n",
       "<tbody>\n",
       "<tr><td>0      </td><td>(3,) </td><td>[«0.000:0.667 2/3♩ 4C#», «0.667:1.000 1/3♩ 4D»]</td><td>[0, 2] </td><td>gridError=0, rhythmComplexity=0 (numNotesAcrossSubdivs=0, numTies=0), divPenalty=0 (0, divPenalty=0, cardinalityPenalty=0, numSubdivsPenalty=0, levelPenalty=0)</td></tr>\n",
       "</tbody>\n",
       "</table>"
      ],
      "text/plain": [
       "<IPython.core.display.HTML object>"
      ]
     },
     "metadata": {},
     "output_type": "display_data"
    },
    {
     "name": "stdout",
     "output_type": "stream",
     "text": [
      "Beat: 1 - 2 (dur: 1)\n",
      "Best 3 divisions: (quantized in 43.1ms)\n"
     ]
    },
    {
     "data": {
      "text/html": [
       "<table>\n",
       "<thead>\n",
       "<tr><th>error    </th><th>div      </th><th>snapped                                                                                      </th><th>slots       </th><th>info                                                                                                                                                                         </th></tr>\n",
       "</thead>\n",
       "<tbody>\n",
       "<tr><td>0.001118 </td><td>(1, 3, 3)</td><td>[«0.000:0.333 1/3♩ 4D#», «0.333:0.556 2/9♩ 4E», «0.556:0.778 2/9♩ 4F», «0.778:1.000 2/9♩ 4G»]</td><td>[0, 1, 3, 5]</td><td>gridError=0, rhythmComplexity=0.112 (numNotesAcrossSubdivs=1, numTies=0), divPenalty=0 (0, divPenalty=0, cardinalityPenalty=0, numSubdivsPenalty=0, levelPenalty=0)          </td></tr>\n",
       "<tr><td>0.0017889</td><td>(9,)     </td><td>[«0.000:0.333 1/3♩ 4D#», «0.333:0.556 2/9♩ 4E», «0.556:0.778 2/9♩ 4F», «0.778:1.000 2/9♩ 4G»]</td><td>[0, 3, 5, 7]</td><td>gridError=0, rhythmComplexity=0 (numNotesAcrossSubdivs=0, numTies=0), divPenalty=0.04 (8e-05, divPenalty=0.04, cardinalityPenalty=0, numSubdivsPenalty=0, levelPenalty=0)    </td></tr>\n",
       "<tr><td>0.21813  </td><td>(6,)     </td><td>[«0.000:0.333 1/3♩ 4D#», «0.333:0.500 1/6♩ 4E», «0.500:0.833 1/3♩ 4F», «0.833:1.000 1/6♩ 4G»]</td><td>[0, 2, 3, 5]</td><td>gridError=0.218, rhythmComplexity=0 (numNotesAcrossSubdivs=0, numTies=0), divPenalty=0.02 (4e-05, divPenalty=0.02, cardinalityPenalty=0, numSubdivsPenalty=0, levelPenalty=0)</td></tr>\n",
       "</tbody>\n",
       "</table>"
      ],
      "text/plain": [
       "<IPython.core.display.HTML object>"
      ]
     },
     "metadata": {},
     "output_type": "display_data"
    },
    {
     "name": "stderr",
     "output_type": "stream",
     "text": [
      "[maelzel.scoring:quant.py:1668:_mergeSiblings:DEBUG] Nodes can merge: \n",
      "    Node(3/2, \n",
      "  «1.333:1.556 2/9♩ 3/2,3/2 4E»\n",
      "  «1.556:1.667 1/9♩ 3/2,3/2 4F tiedNext»\n",
      ")\n",
      "    Node(3/2, \n",
      "  «1.667:1.778 1/9♩ 3/2,3/2 4F tiedPrev»\n",
      "  «1.778:2.000 2/9♩ 3/2,3/2 4G»\n",
      ")\n",
      "[maelzel.scoring:quant.py:1671:_mergeSiblings:DEBUG] ---- Merged node:\n",
      "    Node(3/2, \n",
      "  «1.333:1.556 2/9♩ 3/2,3/2 4E»\n",
      "  «1.556:1.778 2/9♩ 3/2,3/2 4F»\n",
      "  «1.778:2.000 2/9♩ 3/2,3/2 4G»\n",
      ")\n",
      "[maelzel.scoring:quant.py:1673:_mergeSiblings:DEBUG] Nodes cannot merge: \n",
      "Node(3/2, \n",
      "  «0.000:0.667 2/3♩ 3/2 4C#»\n",
      "  «0.667:1.000 1/3♩ 3/2 4D»\n",
      ")\n",
      "Node(3/2, \n",
      "  «1.000:1.333 1/3♩ 3/2 4D#»\n",
      "  Node(3/2, \n",
      "    «1.333:1.556 2/9♩ 3/2,3/2 4E»\n",
      "    «1.556:1.778 2/9♩ 3/2,3/2 4F»\n",
      "    «1.778:2.000 2/9♩ 3/2,3/2 4G»\n",
      "  )\n",
      ")\n",
      "----> no need to extend node over beat\n",
      "[maelzel.scoring:quant.py:1673:_mergeSiblings:DEBUG] Nodes cannot merge: \n",
      "Node(3/2, \n",
      "  «1.000:1.333 1/3♩ 3/2 4D#»\n",
      "  Node(3/2, \n",
      "    «1.333:1.556 2/9♩ 3/2,3/2 4E»\n",
      "    «1.556:1.778 2/9♩ 3/2,3/2 4F»\n",
      "    «1.778:2.000 2/9♩ 3/2,3/2 4G»\n",
      "  )\n",
      ")\n",
      "Node(1/1, \n",
      "  «2.000:3.000 1/1♩ rest»\n",
      ")\n",
      "----> not same durRatio\n",
      "[maelzel.scoring:quant.py:1668:_mergeSiblings:DEBUG] Nodes can merge: \n",
      "    Node(1/1, \n",
      "  «2.000:3.000 1/1♩ rest»\n",
      ")\n",
      "    Node(1/1, \n",
      "  «3.000:4.000 1/1♩ rest»\n",
      ")\n",
      "[maelzel.scoring:quant.py:1671:_mergeSiblings:DEBUG] ---- Merged node:\n",
      "    Node(1/1, \n",
      "  «2.000:4.000 2/1♩ rest»\n",
      ")\n",
      "[maelzel.scoring:node.py:550:_splitUnnecessaryNodes:DEBUG] Did not split node Node(1/1, \n",
      "  Node(3/2, \n",
      "    «0.000:0.667 2/3♩ 3/2 4C#»\n",
      "    «0.667:1.000 1/3♩ 3/2 4D»\n",
      "  )\n",
      "  Node(3/2, \n",
      "    «1.000:1.333 1/3♩ 3/2 4D#»\n",
      "    Node(3/2, \n",
      "      «1.333:1.556 2/9♩ 3/2,3/2 4E»\n",
      "      «1.556:1.778 2/9♩ 3/2,3/2 4F»\n",
      "      «1.778:2.000 2/9♩ 3/2,3/2 4G»\n",
      "    )\n",
      "  )\n",
      "  Node(1/1, \n",
      "    «2.000:4.000 2/1♩ rest»\n",
      "  )\n",
      ") at 3\n",
      "[maelzel.scoring:renderlily.py:1082:write:DEBUG] Rendering lilypond '/tmp/tmpqemvzc98.ly' to '/tmp/tmpqemvzc98.png'\n",
      "[maelzel.scoring:renderlily.py:1095:write:DEBUG] Found crop file /tmp/tmpqemvzc98.cropped.png, using that as output\n"
     ]
    },
    {
     "data": {
      "image/png": "[encoded data removed]",
      "text/plain": [
       "<IPython.core.display.Image object>"
      ]
     },
     "metadata": {
      "image/png": {
       "width": 285.75
      }
     },
     "output_type": "display_data"
    }
   ],
   "source": [
    "v1 = Voice([\n",
    "    Note(\"4C#\", F(2, 3)),\n",
    "    Note(\"4D\", F(1, 3)),\n",
    "    Note(\"4D#\", F(1, 3)),\n",
    "    \n",
    "    Note(\"4E\", F(2, 3)*F(1, 3)),\n",
    "    Note(\"4F\", F(2, 3)*F(1, 3)),\n",
    "    Note(\"4G\", F(2, 3)*F(1, 3)),\n",
    "])\n",
    "v1.show()"
   ]
  },
  {
   "cell_type": "code",
   "execution_count": 13,
   "id": "c68e65f2-7566-4f14-88f4-6fe36f97c6d3",
   "metadata": {},
   "outputs": [
    {
     "name": "stderr",
     "output_type": "stream",
     "text": [
      "[maelzel.scoring:quant.py:1410:quantizeMeasure:DEBUG] Measure (4, 4) is not filled (events=[«0.000:0.333 1/3♩ 4C+20», «0.333:0.400 1/15♩ 4Eb<», «0.400:0.467 1/15♩ 4D», «0.467:0.667 1/5♩ 4F+», «0.667:1.000 1/3♩ 4G»]). Filling gaps with silences\n"
     ]
    },
    {
     "name": "stdout",
     "output_type": "stream",
     "text": [
      "Beat: 0 - 1 (dur: 1)\n",
      "Best 3 divisions: (quantized in 10.5ms)\n"
     ]
    },
    {
     "data": {
      "text/html": [
       "<table>\n",
       "<thead>\n",
       "<tr><th>error    </th><th>div  </th><th>snapped                                                                                                                                                                                         </th><th>slots           </th><th>info                                                                                                                                                                              </th></tr>\n",
       "</thead>\n",
       "<tbody>\n",
       "<tr><td>0.0097365</td><td>(15,)</td><td>[«0.000:0.333 1/3♩ 4C+20», «0.333:0.400 1/15♩ 4Eb&lt;», «0.400:0.467 1/15♩ 4D», «0.467:0.667 1/5♩ 4F+», «0.667:1.000 1/3♩ 4G»]                                                                     </td><td>[0, 5, 6, 7, 10]</td><td>gridError=0, rhythmComplexity=0.358 (numNotesAcrossSubdivs=0, numTies=2), divPenalty=0.202 (0.000405, divPenalty=0.2, cardinalityPenalty=0.1, numSubdivsPenalty=0, levelPenalty=0)</td></tr>\n",
       "<tr><td>0.11052  </td><td>(9,) </td><td>[«0.000:0.333 1/3♩ 4C+20», «0.333:0.444 1/9♩ 4Eb&lt;», «0.444:grace 4D properties={&#x27;.snappedGracenote&#x27;: True, &#x27;originalDuration&#x27;: Fraction(1, 15)}», «0.444:0.667 2/9♩ 4F+», «0.667:1.000 1/3♩ 4G»]</td><td>[0, 3, 4, 4, 6] </td><td>gridError=0.111, rhythmComplexity=0 (numNotesAcrossSubdivs=0, numTies=0), divPenalty=0.04 (8e-05, divPenalty=0.04, cardinalityPenalty=0, numSubdivsPenalty=0, levelPenalty=0)     </td></tr>\n",
       "<tr><td>0.18981  </td><td>(6,) </td><td>[«0.000:0.333 1/3♩ 4C+20», «0.333:grace 4Eb&lt; properties={&#x27;.snappedGracenote&#x27;: True, &#x27;originalDuration&#x27;: Fraction(1, 15)}», «0.333:0.500 1/6♩ 4D», «0.500:0.667 1/6♩ 4F+», «0.667:1.000 1/3♩ 4G»]</td><td>[0, 2, 2, 3, 4] </td><td>gridError=0.19, rhythmComplexity=0 (numNotesAcrossSubdivs=0, numTies=0), divPenalty=0.02 (4e-05, divPenalty=0.02, cardinalityPenalty=0, numSubdivsPenalty=0, levelPenalty=0)      </td></tr>\n",
       "</tbody>\n",
       "</table>"
      ],
      "text/plain": [
       "<IPython.core.display.HTML object>"
      ]
     },
     "metadata": {},
     "output_type": "display_data"
    },
    {
     "name": "stderr",
     "output_type": "stream",
     "text": [
      "[maelzel.scoring:quant.py:1673:_mergeSiblings:DEBUG] Nodes cannot merge: \n",
      "Node(15/8, \n",
      "  «0.000:0.267 4/15♩ 15/8 4C+20 tiedNext»\n",
      "  «0.267:0.333 1/15♩ 15/8 4C+20 tiedPrev»\n",
      "  «0.333:0.400 1/15♩ 15/8 4Eb<»\n",
      "  «0.400:0.467 1/15♩ 15/8 4D»\n",
      "  «0.467:0.667 1/5♩ 15/8 4F+»\n",
      "  «0.667:0.933 4/15♩ 15/8 4G tiedNext»\n",
      "  «0.933:1.000 1/15♩ 15/8 4G tiedPrev»\n",
      ")\n",
      "Node(1/1, \n",
      "  «1.000:2.000 1/1♩ rest»\n",
      ")\n",
      "----> not same durRatio\n",
      "[maelzel.scoring:quant.py:1668:_mergeSiblings:DEBUG] Nodes can merge: \n",
      "    Node(1/1, \n",
      "  «1.000:2.000 1/1♩ rest»\n",
      ")\n",
      "    Node(1/1, \n",
      "  «2.000:3.000 1/1♩ rest»\n",
      ")\n",
      "[maelzel.scoring:quant.py:1671:_mergeSiblings:DEBUG] ---- Merged node:\n",
      "    Node(1/1, \n",
      "  «1.000:3.000 2/1♩ rest»\n",
      ")\n",
      "[maelzel.scoring:quant.py:1668:_mergeSiblings:DEBUG] Nodes can merge: \n",
      "    Node(1/1, \n",
      "  «1.000:3.000 2/1♩ rest»\n",
      ")\n",
      "    Node(1/1, \n",
      "  «3.000:4.000 1/1♩ rest»\n",
      ")\n",
      "[maelzel.scoring:quant.py:1671:_mergeSiblings:DEBUG] ---- Merged node:\n",
      "    Node(1/1, \n",
      "  «1.000:4.000 3/1♩ rest»\n",
      ")\n",
      "[maelzel.scoring:rendermusicxml.py:740:_renderNode:DEBUG] Starting tuplet (15, 8) at «0.000:0.267 4/15♩ 15/8 4C+20 tiedNext attachments=[Clef(kind=treble)] properties={'clef': 'treble'}»\n",
      "[maelzel.scoring:rendermusicxml.py:1104:callMuseScore:DEBUG] Rendering musicxml via MuseScore. Args: ['/home/em/.local/bin/musescore', '-o', '/tmp/tmpt4j8u7z5.png', '--force', '--image-resolution', '200', '--trim-image', '20', '/tmp/tmp7ibpvb0u.musicxml']\n"
     ]
    },
    {
     "data": {
      "image/png": "[encoded data removed]",
      "text/plain": [
       "<IPython.core.display.Image object>"
      ]
     },
     "metadata": {
      "image/png": {
       "width": 821.4000000000001
      }
     },
     "output_type": "display_data"
    }
   ],
   "source": [
    "v = Voice([\n",
    "    \"4C+20:1/3\",\n",
    "    \"4Eb-25:1/15\",\n",
    "    \"4D:1/15\",\n",
    "    \"4F+:3/15\",\n",
    "    \"4G:1/3\",\n",
    "])\n",
    "v.show(backend='musicxml')"
   ]
  },
  {
   "cell_type": "code",
   "execution_count": 14,
   "id": "b2e387ba-bbc2-4efa-8257-b28cb2efc39e",
   "metadata": {
    "tags": []
   },
   "outputs": [
    {
     "data": {
      "application/vnd.jupyter.widget-view+json": {
       "model_id": "f53d612986c2463c8c18afc84b0e8e60",
       "version_major": 2,
       "version_minor": 0
      },
      "text/plain": [
       "Button(description='Stop', style=ButtonStyle())"
      ]
     },
     "metadata": {},
     "output_type": "display_data"
    },
    {
     "data": {
      "application/vnd.jupyter.widget-view+json": {
       "model_id": "010f747699b74c6191319dac2e831514",
       "version_major": 2,
       "version_minor": 0
      },
      "text/plain": [
       "Output()"
      ]
     },
     "metadata": {},
     "output_type": "display_data"
    },
    {
     "data": {
      "text/html": [
       "<small>SynthGroup - start: 0.050, dur: 1.000, synths: 5</small>\n",
       "<p>instr: <strong style=\"color:MediumSeaGreen\">preset:saw</strong> - <b>5</b> synths</p>\n",
       "<table><thead><tr><th style=\"text-align:left\">p1</th><th style=\"text-align:left\">start</th><th style=\"text-align:left\">dur</th><th style=\"text-align:left\">4</th><th style=\"text-align:left\">5:idataidx_</th><th style=\"text-align:left\">6:inumbps</th><th style=\"text-align:left\">7:ibplen</th><th style=\"text-align:left\">8:igain</th><th style=\"text-align:left\">9:ichan</th><th style=\"text-align:left\">10:ipos</th><th style=\"text-align:left\">11:ifadein</th><th style=\"text-align:left\">12:ifadeout</th><th style=\"text-align:left\">13:ipchintrp_</th><th style=\"text-align:left\">14:ifadekind</th><th style=\"text-align:left\">15:ktransp</th><th style=\"text-align:left\">16:klag</th><th style=\"text-align:left\">17:kcutoffratio</th><th style=\"text-align:left\">18:kfilterq</th><th style=\"text-align:left\">19</th><th style=\"text-align:left\">20</th><th style=\"text-align:left\">21</th><th style=\"text-align:left\">22</th><th style=\"text-align:left\">...</th></tr></thead><tbody><tr><td style=\"text-align:left\">502.0012 <b>𝍪</b></td><td style=\"text-align:left\">0.050</td><td style=\"text-align:left\">0.333</td><td style=\"text-align:left\">0</td><td style=\"text-align:left\">19</td><td style=\"text-align:left\">2</td><td style=\"text-align:left\">3</td><td style=\"text-align:left\">1</td><td style=\"text-align:left\">1</td><td style=\"text-align:left\">-1</td><td style=\"text-align:left\">0.02</td><td style=\"text-align:left\">0.02</td><td style=\"text-align:left\">0</td><td style=\"text-align:left\">1</td><td style=\"text-align:left\">0</td><td style=\"text-align:left\">0.1</td><td style=\"text-align:left\">0</td><td style=\"text-align:left\">3</td><td style=\"text-align:left\">0</td><td style=\"text-align:left\">60.2</td><td style=\"text-align:left\">0.51518</td><td style=\"text-align:left\">...</td></tr><tr><td style=\"text-align:left\">502.0013 <b>𝍪</b></td><td style=\"text-align:left\">0.383</td><td style=\"text-align:left\">0.067</td><td style=\"text-align:left\">0</td><td style=\"text-align:left\">19</td><td style=\"text-align:left\">2</td><td style=\"text-align:left\">3</td><td style=\"text-align:left\">1</td><td style=\"text-align:left\">1</td><td style=\"text-align:left\">-1</td><td style=\"text-align:left\">0.02</td><td style=\"text-align:left\">0.02</td><td style=\"text-align:left\">0</td><td style=\"text-align:left\">1</td><td style=\"text-align:left\">0</td><td style=\"text-align:left\">0.1</td><td style=\"text-align:left\">0</td><td style=\"text-align:left\">3</td><td style=\"text-align:left\">0</td><td style=\"text-align:left\">62.75</td><td style=\"text-align:left\">0.51518</td><td style=\"text-align:left\">...</td></tr><tr><td style=\"text-align:left\">502.0014 <b>𝍪</b></td><td style=\"text-align:left\">0.450</td><td style=\"text-align:left\">0.067</td><td style=\"text-align:left\">0</td><td style=\"text-align:left\">19</td><td style=\"text-align:left\">2</td><td style=\"text-align:left\">3</td><td style=\"text-align:left\">1</td><td style=\"text-align:left\">1</td><td style=\"text-align:left\">-1</td><td style=\"text-align:left\">0.02</td><td style=\"text-align:left\">0.02</td><td style=\"text-align:left\">0</td><td style=\"text-align:left\">1</td><td style=\"text-align:left\">0</td><td style=\"text-align:left\">0.1</td><td style=\"text-align:left\">0</td><td style=\"text-align:left\">3</td><td style=\"text-align:left\">0</td><td style=\"text-align:left\">62</td><td style=\"text-align:left\">0.51518</td><td style=\"text-align:left\">...</td></tr><tr><td style=\"text-align:left\">502.0015 <b>𝍪</b></td><td style=\"text-align:left\">0.517</td><td style=\"text-align:left\">0.200</td><td style=\"text-align:left\">0</td><td style=\"text-align:left\">19</td><td style=\"text-align:left\">2</td><td style=\"text-align:left\">3</td><td style=\"text-align:left\">1</td><td style=\"text-align:left\">1</td><td style=\"text-align:left\">-1</td><td style=\"text-align:left\">0.02</td><td style=\"text-align:left\">0.02</td><td style=\"text-align:left\">0</td><td style=\"text-align:left\">1</td><td style=\"text-align:left\">0</td><td style=\"text-align:left\">0.1</td><td style=\"text-align:left\">0</td><td style=\"text-align:left\">3</td><td style=\"text-align:left\">0</td><td style=\"text-align:left\">65.5</td><td style=\"text-align:left\">0.51518</td><td style=\"text-align:left\">...</td></tr><tr><td style=\"text-align:left\">...</td></tr></tbody></table>"
      ],
      "text/plain": [
       "SynthGroup(n=5)\n",
       "    Synth(𝍪 preset:saw:502.0012, p4=0 idataidx_:5=19 inumbps:6=2 ibplen:7=3 igain:8=1 ichan:9=1 ipos:10=-1 ifadein:11=0.02 ifadeout:12=0.02 ipchintrp_:13=0 ifadekind:14=1 ktransp:15=0 klag:16=0.1 kcutoffratio:17=0 kfilterq:18=3 p19=0 p20=60.2 p21=0.515178 p22=0.333333 ...)\n",
       "    Synth(𝍪 preset:saw:502.0013, p4=0 idataidx_:5=19 inumbps:6=2 ibplen:7=3 igain:8=1 ichan:9=1 ipos:10=-1 ifadein:11=0.02 ifadeout:12=0.02 ipchintrp_:13=0 ifadekind:14=1 ktransp:15=0 klag:16=0.1 kcutoffratio:17=0 kfilterq:18=3 p19=0 p20=62.75 p21=0.515178 p22=0.0666667 ...)\n",
       "    Synth(𝍪 preset:saw:502.0014, p4=0 idataidx_:5=19 inumbps:6=2 ibplen:7=3 igain:8=1 ichan:9=1 ipos:10=-1 ifadein:11=0.02 ifadeout:12=0.02 ipchintrp_:13=0 ifadekind:14=1 ktransp:15=0 klag:16=0.1 kcutoffratio:17=0 kfilterq:18=3 p19=0 p20=62 p21=0.515178 p22=0.0666667 ...)\n",
       "    Synth(𝍪 preset:saw:502.0015, p4=0 idataidx_:5=19 inumbps:6=2 ibplen:7=3 igain:8=1 ichan:9=1 ipos:10=-1 ifadein:11=0.02 ifadeout:12=0.02 ipchintrp_:13=0 ifadekind:14=1 ktransp:15=0 klag:16=0.1 kcutoffratio:17=0 kfilterq:18=3 p19=0 p20=65.5 p21=0.515178 p22=0.2 ...)\n",
       "    Synth(𝍪 preset:saw:502.0016, p4=0 idataidx_:5=19 inumbps:6=2 ibplen:7=3 igain:8=1 ichan:9=1 ipos:10=-1 ifadein:11=0.02 ifadeout:12=0.02 ipchintrp_:13=0 ifadekind:14=1 ktransp:15=0 klag:16=0.1 kcutoffratio:17=0 kfilterq:18=3 p19=0 p20=67 p21=0.515178 p22=0.333333 ...)"
      ]
     },
     "execution_count": 14,
     "metadata": {},
     "output_type": "execute_result"
    }
   ],
   "source": [
    "v.play(instr='saw')"
   ]
  },
  {
   "cell_type": "code",
   "execution_count": null,
   "id": "2888ec6b-7f2a-4bd7-a2d0-0208a7735710",
   "metadata": {},
   "outputs": [],
   "source": []
  }
 ],
 "metadata": {
  "kernelspec": {
   "display_name": "Python 3 (ipykernel)",
   "language": "python",
   "name": "python3"
  },
  "language_info": {
   "codemirror_mode": {
    "name": "ipython",
    "version": 3
   },
   "file_extension": ".py",
   "mimetype": "text/x-python",
   "name": "python",
   "nbconvert_exporter": "python",
   "pygments_lexer": "ipython3",
   "version": "3.9.15"
  }
 },
 "nbformat": 4,
 "nbformat_minor": 5
}
