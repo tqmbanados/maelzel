{
 "cells": [
  {
   "cell_type": "code",
   "execution_count": 1,
   "id": "f8c9d684-bb33-4aa8-8ace-715a663bba73",
   "metadata": {},
   "outputs": [],
   "source": [
    "from maelzel.core import *\n",
    "from maelzel import scoring\n",
    "from maelzel.scorestruct import ScoreStruct\n",
    "from maelzel.scoring import quantutils\n",
    "from maelzel import tui\n",
    "from maelzel.common import F\n",
    "import logging\n",
    "logging.getLogger('maelzel.scoring').setLevel('DEBUG')"
   ]
  },
  {
   "cell_type": "code",
   "execution_count": 2,
   "id": "9feb6be3-ad87-4d95-9c32-dc3b8844fbc2",
   "metadata": {},
   "outputs": [
    {
     "name": "stderr",
     "output_type": "stream",
     "text": [
      "[maelzel.scoring:quant.py:1410:quantizeMeasure:DEBUG] Measure (4, 4) is not filled (events=[«0.000:2.000 2/1♩ 4C», «2.000:2.143 1/7♩ 4C#», «2.143:3.333 25/21♩ 4D»]). Filling gaps with silences\n"
     ]
    },
    {
     "name": "stdout",
     "output_type": "stream",
     "text": [
      "Beat: 2 - 3 (dur: 1)\n",
      "Best 3 divisions: (quantized in 21.8ms)\n"
     ]
    },
    {
     "data": {
      "text/html": [
       "<table>\n",
       "<thead>\n",
       "<tr><th>error   </th><th>div  </th><th>snapped                                                 </th><th>slots  </th><th>info                                                                                                                                                                               </th></tr>\n",
       "</thead>\n",
       "<tbody>\n",
       "<tr><td>0.002   </td><td>(7,) </td><td>[«0.000:0.143 1/7♩ 4C#», «0.143:1.000 6/7♩ 4D tiedNext»]</td><td>[0, 1] </td><td>gridError=0, rhythmComplexity=0 (numNotesAcrossSubdivs=0, numTies=0), divPenalty=0.02 (0.0002, divPenalty=0.02, cardinalityPenalty=0, numSubdivsPenalty=0, levelPenalty=0)         </td></tr>\n",
       "<tr><td>0.055418</td><td>(6,) </td><td>[«0.000:0.167 1/6♩ 4C#», «0.167:1.000 5/6♩ 4D tiedNext»]</td><td>[0, 1] </td><td>gridError=0.0535, rhythmComplexity=0.447 (numNotesAcrossSubdivs=0, numTies=1), divPenalty=0.02 (0.0002, divPenalty=0.02, cardinalityPenalty=0, numSubdivsPenalty=0, levelPenalty=0)</td></tr>\n",
       "<tr><td>0.11271 </td><td>(5,) </td><td>[«0.000:0.200 1/5♩ 4C#», «0.200:1.000 4/5♩ 4D tiedNext»]</td><td>[0, 1] </td><td>gridError=0.113, rhythmComplexity=0 (numNotesAcrossSubdivs=0, numTies=0), divPenalty=0.02 (0.0002, divPenalty=0.02, cardinalityPenalty=0, numSubdivsPenalty=0, levelPenalty=0)     </td></tr>\n",
       "</tbody>\n",
       "</table>"
      ],
      "text/plain": [
       "<IPython.core.display.HTML object>"
      ]
     },
     "metadata": {},
     "output_type": "display_data"
    },
    {
     "name": "stdout",
     "output_type": "stream",
     "text": [
      "Beat: 3 - 4 (dur: 1)\n",
      "Best 2 divisions: (quantized in 993.7µs)\n"
     ]
    },
    {
     "data": {
      "text/html": [
       "<table>\n",
       "<thead>\n",
       "<tr><th>error  </th><th>div  </th><th>snapped                                                  </th><th>slots  </th><th>info                                                                                                                                                                          </th></tr>\n",
       "</thead>\n",
       "<tbody>\n",
       "<tr><td>0      </td><td>(3,) </td><td>[«0.000:0.333 1/3♩ 4D tiedPrev», «0.333:1.000 2/3♩ rest»]</td><td>[0, 1] </td><td>gridError=0, rhythmComplexity=0 (numNotesAcrossSubdivs=0, numTies=0), divPenalty=0 (0, divPenalty=0, cardinalityPenalty=0, numSubdivsPenalty=0, levelPenalty=0)               </td></tr>\n",
       "<tr><td>0.10219</td><td>(5,) </td><td>[«0.000:0.400 2/5♩ 4D tiedPrev», «0.400:1.000 3/5♩ rest»]</td><td>[0, 2] </td><td>gridError=0.102, rhythmComplexity=0 (numNotesAcrossSubdivs=0, numTies=0), divPenalty=0.02 (0.0002, divPenalty=0.02, cardinalityPenalty=0, numSubdivsPenalty=0, levelPenalty=0)</td></tr>\n",
       "</tbody>\n",
       "</table>"
      ],
      "text/plain": [
       "<IPython.core.display.HTML object>"
      ]
     },
     "metadata": {},
     "output_type": "display_data"
    },
    {
     "name": "stderr",
     "output_type": "stream",
     "text": [
      "[maelzel.scoring:quant.py:1668:_mergeSiblings:DEBUG] Nodes can merge: \n",
      "    Node(1/1, \n",
      "  «0.000:1.000 1/1♩ 4C tiedNext»\n",
      ")\n",
      "    Node(1/1, \n",
      "  «1.000:2.000 1/1♩ 4C tiedPrev»\n",
      ")\n",
      "[maelzel.scoring:quant.py:1671:_mergeSiblings:DEBUG] ---- Merged node:\n",
      "    Node(1/1, \n",
      "  «0.000:2.000 2/1♩ 4C»\n",
      ")\n",
      "[maelzel.scoring:quant.py:1673:_mergeSiblings:DEBUG] Nodes cannot merge: \n",
      "Node(1/1, \n",
      "  «0.000:2.000 2/1♩ 4C»\n",
      ")\n",
      "Node(7/4, \n",
      "  «2.000:2.143 1/7♩ 7/4 4C#»\n",
      "  «2.143:3.000 6/7♩ 7/4 4D tiedNext»\n",
      ")\n",
      "----> not same durRatio\n",
      "[maelzel.scoring:quant.py:1673:_mergeSiblings:DEBUG] Nodes cannot merge: \n",
      "Node(7/4, \n",
      "  «2.000:2.143 1/7♩ 7/4 4C#»\n",
      "  «2.143:3.000 6/7♩ 7/4 4D tiedNext»\n",
      ")\n",
      "Node(3/2, \n",
      "  «3.000:3.333 1/3♩ 3/2 4D tiedPrev»\n",
      "  «3.333:4.000 2/3♩ 3/2 rest»\n",
      ")\n",
      "----> not same durRatio\n",
      "[maelzel.scoring:node.py:550:_splitUnnecessaryNodes:DEBUG] Did not split node Node(1/1, \n",
      "  Node(1/1, \n",
      "    «0.000:2.000 2/1♩ 4C»\n",
      "  )\n",
      "  Node(7/4, \n",
      "    «2.000:2.143 1/7♩ 7/4 4C#»\n",
      "    «2.143:3.000 6/7♩ 7/4 4D tiedNext»\n",
      "  )\n",
      "  Node(3/2, \n",
      "    «3.000:3.333 1/3♩ 3/2 4D tiedPrev»\n",
      "    «3.333:4.000 2/3♩ 3/2 rest»\n",
      "  )\n",
      ") at 1\n",
      "[maelzel.scoring:renderlily.py:1082:write:DEBUG] Rendering lilypond '/tmp/tmpgm0madpj.ly' to '/tmp/tmpgm0madpj.png'\n",
      "[maelzel.scoring:renderlily.py:1095:write:DEBUG] Found crop file /tmp/tmpgm0madpj.cropped.png, using that as output\n"
     ]
    },
    {
     "data": {
      "text/html": [
       "<b>LilypondRenderer</b> (1 part)<br>\n",
       "        <img style=\"display:inline; padding:10px;\n",
       "margin-top:14px;\n",
       "width:440px\"\n",
       "             src=\"data:image/png;base64,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\"/>"
      ],
      "text/plain": [
       "<maelzel.scoring.renderlily.LilypondRenderer at 0x7f72a1e6cb20>"
      ]
     },
     "execution_count": 2,
     "metadata": {},
     "output_type": "execute_result"
    }
   ],
   "source": [
    "notes = [\n",
    "    (60, F(2, 1)),\n",
    "    (61, F(1, 7)),\n",
    "    (62, F(6, 7)+F(1, 3))\n",
    "]\n",
    "\n",
    "struct = ScoreStruct(timesig='4/4', tempo=70)\n",
    "\n",
    "notations = [scoring.makeNote(p, d) for p, d in notes]\n",
    "part = scoring.UnquantizedPart(notations)\n",
    "qprofile = scoring.quant.QuantizationProfile.fromPreset('high')\n",
    "qprofile.debug = True\n",
    "qpart = scoring.quant.quantizePart(part, struct=struct, quantprofile=qprofile)\n",
    "options = scoring.render.RenderOptions()\n",
    "score = scoring.quant.QuantizedScore([qpart])\n",
    "r = scoring.render.renderQuantizedScore(score, options)\n",
    "r"
   ]
  },
  {
   "cell_type": "code",
   "execution_count": 3,
   "id": "8126dfd3-b992-471f-b5ff-6caf769e7fa5",
   "metadata": {},
   "outputs": [
    {
     "name": "stderr",
     "output_type": "stream",
     "text": [
      "[maelzel.scoring:quant.py:1414:quantizeMeasure:DEBUG] Measure (4, 4) is not filled (events=[«0.000:2.000 2/1♩ 4C», «2.000:2.750 3/4♩ 4C#», «2.750:3.000 1/4♩ 4D#»]). Filling gaps with silences\n"
     ]
    },
    {
     "name": "stdout",
     "output_type": "stream",
     "text": [
      "Beat: 2 - 3 (dur: 1)\n",
      "Best 3 divisions: (quantized in 28.9ms)\n"
     ]
    },
    {
     "data": {
      "text/html": [
       "<table>\n",
       "<thead>\n",
       "<tr><th>error   </th><th>div  </th><th>snapped                                         </th><th>slots  </th><th>info                                                                                                                                                                              </th></tr>\n",
       "</thead>\n",
       "<tbody>\n",
       "<tr><td>0.002   </td><td>(4,) </td><td>[«0.000:0.750 3/4♩ 4C#», «0.750:1.000 1/4♩ 4D#»]</td><td>[0, 3] </td><td>gridError=0, rhythmComplexity=0 (numNotesAcrossSubdivs=0, numTies=0), divPenalty=0.02 (0.0002, divPenalty=0.02, cardinalityPenalty=0, numSubdivsPenalty=0, levelPenalty=0)        </td></tr>\n",
       "<tr><td>0.089132</td><td>(7,) </td><td>[«0.000:0.714 5/7♩ 4C#», «0.714:1.000 2/7♩ 4D#»]</td><td>[0, 5] </td><td>gridError=0.088, rhythmComplexity=0.447 (numNotesAcrossSubdivs=0, numTies=1), divPenalty=0.02 (0.0002, divPenalty=0.02, cardinalityPenalty=0, numSubdivsPenalty=0, levelPenalty=0)</td></tr>\n",
       "<tr><td>0.17329 </td><td>(3,) </td><td>[«0.000:0.667 2/3♩ 4C#», «0.667:1.000 1/3♩ 4D#»]</td><td>[0, 2] </td><td>gridError=0.173, rhythmComplexity=0 (numNotesAcrossSubdivs=0, numTies=0), divPenalty=0 (0, divPenalty=0, cardinalityPenalty=0, numSubdivsPenalty=0, levelPenalty=0)               </td></tr>\n",
       "</tbody>\n",
       "</table>"
      ],
      "text/plain": [
       "<IPython.core.display.HTML object>"
      ]
     },
     "metadata": {},
     "output_type": "display_data"
    },
    {
     "name": "stderr",
     "output_type": "stream",
     "text": [
      "[maelzel.scoring:quant.py:1672:_mergeSiblings:DEBUG] Nodes can merge: \n",
      "    Node(1/1, \n",
      "  «0.000:1.000 1/1♩ 4C tiedNext»\n",
      ")\n",
      "    Node(1/1, \n",
      "  «1.000:2.000 1/1♩ 4C tiedPrev»\n",
      ")\n",
      "[maelzel.scoring:quant.py:1676:_mergeSiblings:DEBUG] Nodes cannot merge: \n",
      "Node(1/1, \n",
      "  «0.000:2.000 2/1♩ 4C»\n",
      ")\n",
      "Node(1/1, \n",
      "  «2.000:2.750 3/4♩ 4C#»\n",
      "  «2.750:3.000 1/4♩ 4D#»\n",
      ")\n",
      "----> no need to extend node over beat\n",
      "[maelzel.scoring:quant.py:1676:_mergeSiblings:DEBUG] Nodes cannot merge: \n",
      "Node(1/1, \n",
      "  «2.000:2.750 3/4♩ 4C#»\n",
      "  «2.750:3.000 1/4♩ 4D#»\n",
      ")\n",
      "Node(1/1, \n",
      "  «3.000:4.000 1/1♩ rest»\n",
      ")\n",
      "----> no need to extend node over beat\n",
      "[maelzel.scoring:node.py:547:_splitUnnecessaryNodes:DEBUG] Did not split node Node(1/1, \n",
      "  Node(1/1, \n",
      "    «0.000:2.000 2/1♩ 4C»\n",
      "  )\n",
      "  Node(1/1, \n",
      "    «2.000:2.750 3/4♩ 4C#»\n",
      "    «2.750:3.000 1/4♩ 4D#»\n",
      "  )\n",
      "  Node(1/1, \n",
      "    «3.000:4.000 1/1♩ rest»\n",
      "  )\n",
      ") at 1\n",
      "[maelzel.scoring:renderlily.py:1082:write:DEBUG] Rendering lilypond '/tmp/tmpmdktcnoi.ly' to '/tmp/tmpmdktcnoi.png'\n",
      "[maelzel.scoring:renderlily.py:1095:write:DEBUG] Found crop file /tmp/tmpmdktcnoi.cropped.png, using that as output\n"
     ]
    },
    {
     "data": {
      "text/html": [
       "<b>LilypondRenderer</b> (1 part)<br>\n",
       "        <img style=\"display:inline; padding:10px;\n",
       "margin-top:14px;\n",
       "width:391px\"\n",
       "             src=\"data:image/png;base64,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\"/>"
      ],
      "text/plain": [
       "<maelzel.scoring.renderlily.LilypondRenderer at 0x7f79d473d250>"
      ]
     },
     "execution_count": 3,
     "metadata": {},
     "output_type": "execute_result"
    }
   ],
   "source": [
    "from maelzel import scoring\n",
    "from maelzel.scorestruct import ScoreStruct\n",
    "\n",
    "notes = [\n",
    "    (60, F(2, 1)),\n",
    "    (61, F(3, 4)),\n",
    "    (63, F(1, 4)),\n",
    "    \n",
    "]\n",
    "\n",
    "notations = [scoring.makeNote(p, d) for p, d in notes]\n",
    "struct = ScoreStruct(timesig='4/4', tempo=70)\n",
    "\n",
    "part = scoring.UnquantizedPart(notations)\n",
    "quantprofile = scoring.quant.QuantizationProfile.fromPreset('highest')\n",
    "quantprofile.debug = True\n",
    "quantprofile.debugMaxDivisions = 20\n",
    "quantprofile.rhythmComplexityWeight = 0.001\n",
    "quantprofile.divisionErrorWeight = 0.01\n",
    "qpart = scoring.quant.quantizePart(part, struct=struct, quantprofile=quantprofile)\n",
    "options = scoring.render.RenderOptions()\n",
    "score = scoring.quant.QuantizedScore([qpart])\n",
    "r = scoring.render.renderQuantizedScore(score, options)\n",
    "# qpart.dump()\n",
    "r"
   ]
  },
  {
   "cell_type": "code",
   "execution_count": 3,
   "id": "af4ba261-96fb-49d2-a151-66a7e3493b2b",
   "metadata": {},
   "outputs": [
    {
     "name": "stderr",
     "output_type": "stream",
     "text": [
      "[maelzel.scoring:quant.py:1410:quantizeMeasure:DEBUG] Measure (4, 4) is not filled (events=[«0.000:2.000 2/1♩ 4C», «2.000:2.750 3/4♩ 4C#», «2.750:2.792 1/24♩ 4D#», «2.792:3.000 5/24♩ 4E»]). Filling gaps with silences\n"
     ]
    },
    {
     "name": "stdout",
     "output_type": "stream",
     "text": [
      "Beat: 2 - 3 (dur: 1)\n",
      "Best 8 divisions: (quantized in 13.3ms)\n"
     ]
    },
    {
     "data": {
      "text/html": [
       "<table>\n",
       "<thead>\n",
       "<tr><th>error   </th><th>div         </th><th>snapped                                                                                                                                       </th><th>slots      </th><th>info                                                                                                                                                                                   </th></tr>\n",
       "</thead>\n",
       "<tbody>\n",
       "<tr><td>0.010242</td><td>(1, 1, 1, 6)</td><td>[«0.000:0.750 3/4♩ 4C#», «0.750:0.792 1/24♩ 4D#», «0.792:1.000 5/24♩ 4E»]                                                                     </td><td>[0, 3, 4]  </td><td>gridError=0, rhythmComplexity=0.298 (numNotesAcrossSubdivs=0, numTies=1), divPenalty=0.04 (0.0004, divPenalty=0.04, cardinalityPenalty=0, numSubdivsPenalty=0, levelPenalty=0)         </td></tr>\n",
       "<tr><td>0.010729</td><td>(1, 1, 8)   </td><td>[«0.000:0.750 3/4♩ 4C#», «0.750:0.792 1/24♩ 4D#», «0.792:1.000 5/24♩ 4E»]                                                                     </td><td>[0, 4, 5]  </td><td>gridError=0, rhythmComplexity=0.333 (numNotesAcrossSubdivs=1, numTies=1), divPenalty=0.02 (0.0002, divPenalty=0.02, cardinalityPenalty=0, numSubdivsPenalty=0, levelPenalty=0)         </td></tr>\n",
       "<tr><td>0.057392</td><td>(1, 8)      </td><td>[«0.000:0.750 3/4♩ 4C#», «0.750:0.812 1/16♩ 4D#», «0.812:1.000 3/16♩ 4E»]                                                                     </td><td>[0, 5, 6]  </td><td>gridError=0.0572, rhythmComplexity=0.149 (numNotesAcrossSubdivs=1, numTies=0), divPenalty=0.02 (0.0002, divPenalty=0.02, cardinalityPenalty=0, numSubdivsPenalty=0, levelPenalty=0)    </td></tr>\n",
       "<tr><td>0.069809</td><td>(15,)       </td><td>[«0.000:0.733 11/15♩ 4C#», «0.733:0.800 1/15♩ 4D#», «0.800:1.000 1/5♩ 4E»]                                                                    </td><td>[0, 11, 12]</td><td>gridError=0.0661, rhythmComplexity=0.298 (numNotesAcrossSubdivs=0, numTies=1), divPenalty=0.202 (0.002025, divPenalty=0.2, cardinalityPenalty=0.1, numSubdivsPenalty=0, levelPenalty=0)</td></tr>\n",
       "<tr><td>0.070495</td><td>(9,)        </td><td>[«0.000:0.778 7/9♩ 4C#», «0.778:grace 4D# properties={&#x27;.snappedGracenote&#x27;: True, &#x27;originalDuration&#x27;: Fraction(1, 24)}», «0.778:1.000 2/9♩ 4E»]</td><td>[0, 7, 7]  </td><td>gridError=0.0704, rhythmComplexity=0 (numNotesAcrossSubdivs=0, numTies=0), divPenalty=0.04 (0.0004, divPenalty=0.04, cardinalityPenalty=0, numSubdivsPenalty=0, levelPenalty=0)        </td></tr>\n",
       "<tr><td>0.087737</td><td>(4,)        </td><td>[«0.000:0.750 3/4♩ 4C#», «0.750:grace 4D# properties={&#x27;.snappedGracenote&#x27;: True, &#x27;originalDuration&#x27;: Fraction(1, 24)}», «0.750:1.000 1/4♩ 4E»]</td><td>[0, 3, 3]  </td><td>gridError=0.0877, rhythmComplexity=0 (numNotesAcrossSubdivs=0, numTies=0), divPenalty=0.02 (0.0002, divPenalty=0.02, cardinalityPenalty=0, numSubdivsPenalty=0, levelPenalty=0)        </td></tr>\n",
       "<tr><td>0.20263 </td><td>(7,)        </td><td>[«0.000:0.714 5/7♩ 4C#», «0.714:0.857 1/7♩ 4D#», «0.857:1.000 1/7♩ 4E»]                                                                       </td><td>[0, 5, 6]  </td><td>gridError=0.202, rhythmComplexity=0.298 (numNotesAcrossSubdivs=0, numTies=1), divPenalty=0.02 (0.0002, divPenalty=0.02, cardinalityPenalty=0, numSubdivsPenalty=0, levelPenalty=0)     </td></tr>\n",
       "<tr><td>0.23969 </td><td>(6,)        </td><td>[«0.000:0.667 2/3♩ 4C#», «0.667:0.833 1/6♩ 4D#», «0.833:1.000 1/6♩ 4E»]                                                                       </td><td>[0, 4, 5]  </td><td>gridError=0.24, rhythmComplexity=0 (numNotesAcrossSubdivs=0, numTies=0), divPenalty=0.02 (0.0002, divPenalty=0.02, cardinalityPenalty=0, numSubdivsPenalty=0, levelPenalty=0)          </td></tr>\n",
       "</tbody>\n",
       "</table>"
      ],
      "text/plain": [
       "<IPython.core.display.HTML object>"
      ]
     },
     "metadata": {},
     "output_type": "display_data"
    },
    {
     "name": "stderr",
     "output_type": "stream",
     "text": [
      "[maelzel.scoring:quant.py:1668:_mergeSiblings:DEBUG] Nodes can merge: \n",
      "    Node(1/1, \n",
      "  «0.000:1.000 1/1♩ 4C tiedNext»\n",
      ")\n",
      "    Node(1/1, \n",
      "  «1.000:2.000 1/1♩ 4C tiedPrev»\n",
      ")\n",
      "[maelzel.scoring:quant.py:1671:_mergeSiblings:DEBUG] ---- Merged node:\n",
      "    Node(1/1, \n",
      "  «0.000:2.000 2/1♩ 4C»\n",
      ")\n",
      "[maelzel.scoring:quant.py:1673:_mergeSiblings:DEBUG] Nodes cannot merge: \n",
      "Node(1/1, \n",
      "  «0.000:2.000 2/1♩ 4C»\n",
      ")\n",
      "Node(1/1, \n",
      "  «2.000:2.750 3/4♩ 4C#»\n",
      "  Node(3/2, \n",
      "    «2.750:2.792 1/24♩ 3/2 4D#»\n",
      "    «2.792:2.833 1/24♩ 3/2 4E tiedNext»\n",
      "    «2.833:3.000 1/6♩ 3/2 4E tiedPrev»\n",
      "  )\n",
      ")\n",
      "----> no need to extend node over beat\n",
      "[maelzel.scoring:quant.py:1673:_mergeSiblings:DEBUG] Nodes cannot merge: \n",
      "Node(1/1, \n",
      "  «2.000:2.750 3/4♩ 4C#»\n",
      "  Node(3/2, \n",
      "    «2.750:2.792 1/24♩ 3/2 4D#»\n",
      "    «2.792:2.833 1/24♩ 3/2 4E tiedNext»\n",
      "    «2.833:3.000 1/6♩ 3/2 4E tiedPrev»\n",
      "  )\n",
      ")\n",
      "Node(1/1, \n",
      "  «3.000:4.000 1/1♩ rest»\n",
      ")\n",
      "----> no need to extend node over beat\n",
      "[maelzel.scoring:node.py:550:_splitUnnecessaryNodes:DEBUG] Did not split node Node(1/1, \n",
      "  Node(1/1, \n",
      "    «0.000:2.000 2/1♩ 4C»\n",
      "  )\n",
      "  Node(1/1, \n",
      "    «2.000:2.750 3/4♩ 4C#»\n",
      "    Node(3/2, \n",
      "      «2.750:2.792 1/24♩ 3/2 4D#»\n",
      "      «2.792:2.833 1/24♩ 3/2 4E tiedNext»\n",
      "      «2.833:3.000 1/6♩ 3/2 4E tiedPrev»\n",
      "    )\n",
      "  )\n",
      "  Node(1/1, \n",
      "    «3.000:4.000 1/1♩ rest»\n",
      "  )\n",
      ") at 1\n",
      "[maelzel.scoring:renderlily.py:1082:write:DEBUG] Rendering lilypond '/tmp/tmpo5ya1rpm.ly' to '/tmp/tmpo5ya1rpm.png'\n",
      "[maelzel.scoring:renderlily.py:1095:write:DEBUG] Found crop file /tmp/tmpo5ya1rpm.cropped.png, using that as output\n"
     ]
    },
    {
     "data": {
      "text/html": [
       "<b>LilypondRenderer</b> (1 part)<br>\n",
       "        <img style=\"display:inline; padding:10px;\n",
       "margin-top:14px;\n",
       "width:546px\"\n",
       "             src=\"data:image/png;base64,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\"/>"
      ],
      "text/plain": [
       "<maelzel.scoring.renderlily.LilypondRenderer at 0x7f72e06f8700>"
      ]
     },
     "execution_count": 3,
     "metadata": {},
     "output_type": "execute_result"
    }
   ],
   "source": [
    "from maelzel import scoring\n",
    "from maelzel.scorestruct import ScoreStruct\n",
    "\n",
    "notes = [\n",
    "    (60, F(2, 1)),\n",
    "    (61, F(3, 4)),\n",
    "    (63, F(1, 4)*F(1, 6)),\n",
    "    (64, F(1, 4)*F(5, 6)),\n",
    "    # (62, F(3, 4))\n",
    "]\n",
    "\n",
    "notations = [scoring.makeNote(p, d) for p, d in notes]\n",
    "struct = ScoreStruct(timesig='4/4', tempo=70)\n",
    "\n",
    "part = scoring.UnquantizedPart(notations)\n",
    "quantprofile = scoring.quant.QuantizationProfile.fromPreset('highest')\n",
    "quantprofile.debug = True\n",
    "quantprofile.debugMaxDivisions = 20\n",
    "quantprofile.rhythmComplexityWeight = 0.001\n",
    "quantprofile.divisionErrorWeight = 0.01\n",
    "qpart = scoring.quant.quantizePart(part, struct=struct, quantprofile=quantprofile)\n",
    "options = scoring.render.RenderOptions()\n",
    "score = scoring.quant.QuantizedScore([qpart])\n",
    "r = scoring.render.renderQuantizedScore(score, options)\n",
    "# qpart.dump()\n",
    "r"
   ]
  },
  {
   "cell_type": "code",
   "execution_count": 1,
   "id": "89bb7327-f713-4518-90a8-c4ce42573972",
   "metadata": {},
   "outputs": [
    {
     "name": "stdout",
     "output_type": "stream",
     "text": [
      "Beat: 0 - 1 (dur: 1)\n",
      "Best 5 divisions: (quantized in 38.8ms)\n"
     ]
    },
    {
     "data": {
      "text/html": [
       "<table>\n",
       "<thead>\n",
       "<tr><th>error    </th><th>div      </th><th>snapped                                                                                                                                                                                                                     </th><th>slots              </th><th>info                                                                                                                                                                                    </th></tr>\n",
       "</thead>\n",
       "<tbody>\n",
       "<tr><td>0.0030258</td><td>(5, 5, 1)</td><td>[«0.000:0.133 2/15♩ 4C», «0.133:0.267 2/15♩ 4C#», «0.267:0.400 2/15♩ 4D», «0.400:0.533 2/15♩ 4D#», «0.533:0.667 2/15♩ 4E», «0.667:1.000 1/3♩ 4F tiedNext»]                                                                  </td><td>[0, 2, 4, 6, 8, 10]</td><td>gridError=0, rhythmComplexity=0.0745 (numNotesAcrossSubdivs=1, numTies=0), divPenalty=0.0424 (8.485e-05, divPenalty=0.0283, cardinalityPenalty=0.1, numSubdivsPenalty=0, levelPenalty=0)</td></tr>\n",
       "<tr><td>0.010209 </td><td>(15,)    </td><td>[«0.000:0.133 2/15♩ 4C», «0.133:0.267 2/15♩ 4C#», «0.267:0.400 2/15♩ 4D», «0.400:0.533 2/15♩ 4D#», «0.533:0.667 2/15♩ 4E», «0.667:1.000 1/3♩ 4F tiedNext»]                                                                  </td><td>[0, 2, 4, 6, 8, 10]</td><td>gridError=0, rhythmComplexity=0.149 (numNotesAcrossSubdivs=0, numTies=1), divPenalty=0.202 (0.000405, divPenalty=0.2, cardinalityPenalty=0.1, numSubdivsPenalty=0, levelPenalty=0)      </td></tr>\n",
       "<tr><td>0.19603  </td><td>(8,)     </td><td>[«0.000:0.125 1/8♩ 4C», «0.125:0.250 1/8♩ 4C#», «0.250:0.375 1/8♩ 4D», «0.375:0.500 1/8♩ 4D#», «0.500:0.625 1/8♩ 4E», «0.625:1.000 3/8♩ 4F tiedNext»]                                                                       </td><td>[0, 1, 2, 3, 4, 5] </td><td>gridError=0.196, rhythmComplexity=0 (numNotesAcrossSubdivs=0, numTies=0), divPenalty=0.02 (4e-05, divPenalty=0.02, cardinalityPenalty=0, numSubdivsPenalty=0, levelPenalty=0)           </td></tr>\n",
       "<tr><td>0.21813  </td><td>(7,)     </td><td>[«0.000:0.143 1/7♩ 4C», «0.143:0.286 1/7♩ 4C#», «0.286:0.429 1/7♩ 4D», «0.429:0.571 1/7♩ 4D#», «0.571:0.714 1/7♩ 4E», «0.714:1.000 2/7♩ 4F tiedNext»]                                                                       </td><td>[0, 1, 2, 3, 4, 5] </td><td>gridError=0.218, rhythmComplexity=0 (numNotesAcrossSubdivs=0, numTies=0), divPenalty=0.02 (4e-05, divPenalty=0.02, cardinalityPenalty=0, numSubdivsPenalty=0, levelPenalty=0)           </td></tr>\n",
       "<tr><td>0.27278  </td><td>(6,)     </td><td>[«0.000:0.167 1/6♩ 4C», «0.167:0.333 1/6♩ 4C#», «0.333:grace 4D properties={&#x27;.snappedGracenote&#x27;: True, &#x27;originalDuration&#x27;: Fraction(2, 15)}», «0.333:0.500 1/6♩ 4D#», «0.500:0.667 1/6♩ 4E», «0.667:1.000 1/3♩ 4F tiedNext»]</td><td>[0, 1, 2, 2, 3, 4] </td><td>gridError=0.273, rhythmComplexity=0 (numNotesAcrossSubdivs=0, numTies=0), divPenalty=0.02 (4e-05, divPenalty=0.02, cardinalityPenalty=0, numSubdivsPenalty=0, levelPenalty=0)           </td></tr>\n",
       "</tbody>\n",
       "</table>"
      ],
      "text/plain": [
       "<IPython.core.display.HTML object>"
      ]
     },
     "metadata": {},
     "output_type": "display_data"
    },
    {
     "name": "stdout",
     "output_type": "stream",
     "text": [
      "Beat: 1 - 2 (dur: 1)\n",
      "Best 1 divisions: (quantized in 232.0µs)\n"
     ]
    },
    {
     "data": {
      "text/html": [
       "<table>\n",
       "<thead>\n",
       "<tr><th>error  </th><th>div  </th><th>snapped                                                           </th><th>slots  </th><th>info                                                                                                                                                           </th></tr>\n",
       "</thead>\n",
       "<tbody>\n",
       "<tr><td>0      </td><td>(3,) </td><td>[«0.000:0.333 1/3♩ 4F tiedPrev», «0.333:1.000 2/3♩ rest tiedNext»]</td><td>[0, 1] </td><td>gridError=0, rhythmComplexity=0 (numNotesAcrossSubdivs=0, numTies=0), divPenalty=0 (0, divPenalty=0, cardinalityPenalty=0, numSubdivsPenalty=0, levelPenalty=0)</td></tr>\n",
       "</tbody>\n",
       "</table>"
      ],
      "text/plain": [
       "<IPython.core.display.HTML object>"
      ]
     },
     "metadata": {},
     "output_type": "display_data"
    },
    {
     "data": {
      "text/html": [
       "<b>LilypondRenderer</b> (1 part)<br>\n",
       "        <img style=\"display:inline; padding:10px;\n",
       "margin-top:14px;\n",
       "width:611px\"\n",
       "             src=\"data:image/png;base64,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\"/>"
      ],
      "text/plain": [
       "<maelzel.scoring.renderlily.LilypondRenderer at 0x7f197c5be9d0>"
      ]
     },
     "execution_count": 1,
     "metadata": {},
     "output_type": "execute_result"
    }
   ],
   "source": [
    "from maelzel import scoring\n",
    "from maelzel.scorestruct import ScoreStruct\n",
    "from maelzel.scoring import quantutils\n",
    "from maelzel.common import F\n",
    "\n",
    "notes = [\n",
    "    (60, F(2, 3)*F(1, 5)),\n",
    "    (61, F(2, 3)*F(1, 5)),\n",
    "    (62, F(2, 3)*F(1, 5)),\n",
    "    (63, F(2, 3)*F(1, 5)),\n",
    "    (64, F(2, 3)*F(1, 5)),\n",
    "    (65, F(2,3)),\n",
    "    #(60, F(2, 7)),\n",
    "    #(61, F(3, 7)),\n",
    "    #(62, F(4, 7))\n",
    "    \n",
    "    \n",
    "    ]\n",
    "\n",
    "struct = ScoreStruct(timesig='4/4', tempo=70)\n",
    "\n",
    "notations = [scoring.makeNote(p, d) for p, d in notes]\n",
    "part = scoring.UnquantizedPart(notations)\n",
    "quantprofile = scoring.quant.QuantizationProfile.fromPreset('highest')\n",
    "quantprofile.rhythmComplexityWeight  = 0.001\n",
    "quantprofile.debug=True\n",
    "qpart = scoring.quant.quantizePart(part, struct=struct, quantprofile=quantprofile)\n",
    "options = scoring.render.RenderOptions()\n",
    "score = scoring.quant.QuantizedScore([qpart])\n",
    "r = scoring.render.renderQuantizedScore(score, options)\n",
    "r.write('~/tmp/bigtriplet.ly')\n",
    "r"
   ]
  },
  {
   "cell_type": "code",
   "execution_count": 2,
   "id": "fc6ca75f-b392-4ab3-9c3c-822aff030289",
   "metadata": {},
   "outputs": [
    {
     "name": "stdout",
     "output_type": "stream",
     "text": [
      "Beat: 0 - 1 (dur: 1)\n",
      "Best 7 divisions: (quantized in 21.8ms)\n"
     ]
    },
    {
     "data": {
      "text/html": [
       "<table>\n",
       "<thead>\n",
       "<tr><th>error    </th><th>div            </th><th>snapped                                                                                                                                                                                                                                                            </th><th>slots           </th><th>info                                                                                                                                                                             </th></tr>\n",
       "</thead>\n",
       "<tbody>\n",
       "<tr><td>0.0063246</td><td>(1, 1, 1, 2, 2)</td><td>[«0.000:0.600 3/5♩ 4C#», «0.600:0.700 1/10♩ 4E», «0.700:0.800 1/10♩ 4F», «0.800:0.900 1/10♩ 4F#», «0.900:1.000 1/10♩ 4G»]                                                                                                                                          </td><td>[0, 3, 4, 5, 6] </td><td>gridError=0, rhythmComplexity=0 (numNotesAcrossSubdivs=0, numTies=0), divPenalty=0.02 (0.002, divPenalty=0.02, cardinalityPenalty=0, numSubdivsPenalty=0, levelPenalty=0)        </td></tr>\n",
       "<tr><td>0.010954 </td><td>(1, 5)         </td><td>[«0.000:0.600 3/5♩ 4C#», «0.600:0.700 1/10♩ 4E», «0.700:0.800 1/10♩ 4F», «0.800:0.900 1/10♩ 4F#», «0.900:1.000 1/10♩ 4G»]                                                                                                                                          </td><td>[0, 2, 3, 4, 5] </td><td>gridError=0, rhythmComplexity=0.0894 (numNotesAcrossSubdivs=1, numTies=0), divPenalty=0.02 (0.002, divPenalty=0.02, cardinalityPenalty=0, numSubdivsPenalty=0, levelPenalty=0)   </td></tr>\n",
       "<tr><td>0.15731  </td><td>(11,)          </td><td>[«0.000:0.636 7/11♩ 4C#», «0.636:0.727 1/11♩ 4E», «0.727:0.818 1/11♩ 4F», «0.818:0.909 1/11♩ 4F#», «0.909:1.000 1/11♩ 4G»]                                                                                                                                         </td><td>[0, 7, 8, 9, 10]</td><td>gridError=0.154, rhythmComplexity=0 (numNotesAcrossSubdivs=0, numTies=0), divPenalty=0.1 (0.01, divPenalty=0.1, cardinalityPenalty=0, numSubdivsPenalty=0, levelPenalty=0)       </td></tr>\n",
       "<tr><td>0.18226  </td><td>(9,)           </td><td>[«0.000:0.556 5/9♩ 4C#», «0.556:0.667 1/9♩ 4E», «0.667:0.778 1/9♩ 4F», «0.778:0.889 1/9♩ 4F#», «0.889:1.000 1/9♩ 4G»]                                                                                                                                              </td><td>[0, 5, 6, 7, 8] </td><td>gridError=0.181, rhythmComplexity=0.179 (numNotesAcrossSubdivs=0, numTies=1), divPenalty=0.04 (0.004, divPenalty=0.04, cardinalityPenalty=0, numSubdivsPenalty=0, levelPenalty=0)</td></tr>\n",
       "<tr><td>0.21538  </td><td>(8,)           </td><td>[«0.000:0.625 5/8♩ 4C#», «0.625:0.750 1/8♩ 4E», «0.750:grace 4F properties={&#x27;.snappedGracenote&#x27;: True, &#x27;originalDuration&#x27;: Fraction(1, 10)}», «0.750:0.875 1/8♩ 4F#», «0.875:1.000 1/8♩ 4G»]                                                                       </td><td>[0, 5, 6, 6, 7] </td><td>gridError=0.215, rhythmComplexity=0.179 (numNotesAcrossSubdivs=0, numTies=1), divPenalty=0.02 (0.002, divPenalty=0.02, cardinalityPenalty=0, numSubdivsPenalty=0, levelPenalty=0)</td></tr>\n",
       "<tr><td>0.22226  </td><td>(7,)           </td><td>[«0.000:0.571 4/7♩ 4C#», «0.571:0.714 1/7♩ 4E», «0.714:0.857 1/7♩ 4F», «0.857:grace 4F# properties={&#x27;.snappedGracenote&#x27;: True, &#x27;originalDuration&#x27;: Fraction(1, 10)}», «0.857:1.000 1/7♩ 4G»]                                                                       </td><td>[0, 4, 5, 6, 6] </td><td>gridError=0.222, rhythmComplexity=0 (numNotesAcrossSubdivs=0, numTies=0), divPenalty=0.02 (0.002, divPenalty=0.02, cardinalityPenalty=0, numSubdivsPenalty=0, levelPenalty=0)    </td></tr>\n",
       "<tr><td>0.29005  </td><td>(6,)           </td><td>[«0.000:0.667 2/3♩ 4C#», «0.667:grace 4E properties={&#x27;.snappedGracenote&#x27;: True, &#x27;originalDuration&#x27;: Fraction(1, 10)}», «0.667:0.833 1/6♩ 4F», «0.833:grace 4F# properties={&#x27;.snappedGracenote&#x27;: True, &#x27;originalDuration&#x27;: Fraction(1, 10)}», «0.833:1.000 1/6♩ 4G»]</td><td>[0, 4, 4, 5, 5] </td><td>gridError=0.29, rhythmComplexity=0 (numNotesAcrossSubdivs=0, numTies=0), divPenalty=0.02 (0.002, divPenalty=0.02, cardinalityPenalty=0, numSubdivsPenalty=0, levelPenalty=0)     </td></tr>\n",
       "</tbody>\n",
       "</table>"
      ],
      "text/plain": [
       "<IPython.core.display.HTML object>"
      ]
     },
     "metadata": {},
     "output_type": "display_data"
    },
    {
     "name": "stdout",
     "output_type": "stream",
     "text": [
      "Beat: 1 - 2 (dur: 1)\n",
      "Best 6 divisions: (quantized in 42.1ms)\n"
     ]
    },
    {
     "data": {
      "text/html": [
       "<table>\n",
       "<thead>\n",
       "<tr><th>error   </th><th>div      </th><th>snapped                                                                           </th><th>slots    </th><th>info                                                                                                                                                                                       </th></tr>\n",
       "</thead>\n",
       "<tbody>\n",
       "<tr><td>0.032694</td><td>(5, 5, 1)</td><td>[«0.000:0.200 1/5♩ 4C», «0.200:0.533 1/3♩ 4D», «0.533:1.000 7/15♩ rest tiedNext»] </td><td>[0, 3, 8]</td><td>gridError=0, rhythmComplexity=0.298 (numNotesAcrossSubdivs=2, numTies=0), divPenalty=0.0424 (0.004243, divPenalty=0.0283, cardinalityPenalty=0.1, numSubdivsPenalty=0, levelPenalty=0)     </td></tr>\n",
       "<tr><td>0.053631</td><td>(5, 9)   </td><td>[«0.000:0.200 1/5♩ 4C», «0.200:0.556 16/45♩ 4D», «0.556:1.000 4/9♩ rest tiedNext»]</td><td>[0, 2, 6]</td><td>gridError=0.0485, rhythmComplexity=0.149 (numNotesAcrossSubdivs=1, numTies=0), divPenalty=0.0548 (0.005477, divPenalty=0.0447, cardinalityPenalty=0.1, numSubdivsPenalty=0, levelPenalty=0)</td></tr>\n",
       "<tr><td>0.067406</td><td>(5, 1)   </td><td>[«0.000:0.200 1/5♩ 4C», «0.200:0.500 3/10♩ 4D», «0.500:1.000 1/2♩ rest tiedNext»] </td><td>[0, 2, 5]</td><td>gridError=0.0671, rhythmComplexity=0 (numNotesAcrossSubdivs=0, numTies=0), divPenalty=0.02 (0.002, divPenalty=0.02, cardinalityPenalty=0, numSubdivsPenalty=0, levelPenalty=0)             </td></tr>\n",
       "<tr><td>0.070632</td><td>(15,)    </td><td>[«0.000:0.200 1/5♩ 4C», «0.200:0.533 1/3♩ 4D», «0.533:1.000 7/15♩ rest tiedNext»] </td><td>[0, 3, 8]</td><td>gridError=0, rhythmComplexity=0.298 (numNotesAcrossSubdivs=0, numTies=1), divPenalty=0.202 (0.02025, divPenalty=0.2, cardinalityPenalty=0.1, numSubdivsPenalty=0, levelPenalty=0)          </td></tr>\n",
       "<tr><td>0.075396</td><td>(9,)     </td><td>[«0.000:0.222 2/9♩ 4C», «0.222:0.556 1/3♩ 4D», «0.556:1.000 4/9♩ rest tiedNext»]  </td><td>[0, 2, 5]</td><td>gridError=0.0743, rhythmComplexity=0 (numNotesAcrossSubdivs=0, numTies=0), divPenalty=0.04 (0.004, divPenalty=0.04, cardinalityPenalty=0, numSubdivsPenalty=0, levelPenalty=0)             </td></tr>\n",
       "<tr><td>0.103   </td><td>(6,)     </td><td>[«0.000:0.167 1/6♩ 4C», «0.167:0.500 1/3♩ 4D», «0.500:1.000 1/2♩ rest tiedNext»]  </td><td>[0, 1, 3]</td><td>gridError=0.103, rhythmComplexity=0 (numNotesAcrossSubdivs=0, numTies=0), divPenalty=0.02 (0.002, divPenalty=0.02, cardinalityPenalty=0, numSubdivsPenalty=0, levelPenalty=0)              </td></tr>\n",
       "</tbody>\n",
       "</table>"
      ],
      "text/plain": [
       "<IPython.core.display.HTML object>"
      ]
     },
     "metadata": {},
     "output_type": "display_data"
    },
    {
     "data": {
      "text/html": [
       "<b>LilypondRenderer</b> (1 part)<br>\n",
       "        <img style=\"display:inline; padding:10px;\n",
       "margin-top:14px;\n",
       "width:731px\"\n",
       "             src=\"data:image/png;base64,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\"/>"
      ],
      "text/plain": [
       "<maelzel.scoring.renderlily.LilypondRenderer at 0x7f197c5be700>"
      ]
     },
     "execution_count": 2,
     "metadata": {},
     "output_type": "execute_result"
    }
   ],
   "source": [
    "from maelzel import scoring\n",
    "from maelzel.scorestruct import ScoreStruct\n",
    "from maelzel.scoring import quantutils\n",
    "from maelzel.common import F\n",
    "\n",
    "notes = [\n",
    "    (61, F(1, 2)+F(1,10)),\n",
    "    (64, F(1, 10)),\n",
    "    (65, F(1, 10)),\n",
    "    (66, F(1, 10)),\n",
    "    (67, F(1, 10)),\n",
    "    \n",
    "    (60, F(1, 5)),\n",
    "    (62, F(1, 3)),\n",
    "    \n",
    "]\n",
    "struct = ScoreStruct(timesig='4/4', tempo=70)\n",
    "\n",
    "notations = [scoring.makeNote(p, d) for p, d in notes]\n",
    "part = scoring.UnquantizedPart(notations)\n",
    "quantprofile = scoring.quant.QuantizationProfile.fromPreset('highest', nestedTuplets=True)\n",
    "quantprofile.divisionErrorWeight = 0.1\n",
    "quantprofile.rhythmComplexityWeight = 0.01\n",
    "quantprofile.debug = True\n",
    "qpart = scoring.quant.quantizePart(part, struct=struct, quantprofile=quantprofile)\n",
    "options = scoring.render.RenderOptions()\n",
    "score = scoring.quant.QuantizedScore([qpart])\n",
    "r = scoring.render.renderQuantizedScore(score, options)\n",
    "r"
   ]
  },
  {
   "cell_type": "code",
   "execution_count": 3,
   "id": "c5d90c78-ca2d-49b1-85f6-25896c4e78cc",
   "metadata": {},
   "outputs": [
    {
     "name": "stdout",
     "output_type": "stream",
     "text": [
      "Beat: 0 - 1 (dur: 1)\n",
      "Best 2 divisions: (quantized in 750.8µs)\n"
     ]
    },
    {
     "data": {
      "text/html": [
       "<table>\n",
       "<thead>\n",
       "<tr><th>error  </th><th>div  </th><th>snapped                                                 </th><th>slots  </th><th>info                                                                                                                                                                         </th></tr>\n",
       "</thead>\n",
       "<tbody>\n",
       "<tr><td>0      </td><td>(3,) </td><td>[«0.000:0.667 2/3♩ 4C#», «0.667:1.000 1/3♩ 4E tiedNext»]</td><td>[0, 2] </td><td>gridError=0, rhythmComplexity=0 (numNotesAcrossSubdivs=0, numTies=0), divPenalty=0 (0, divPenalty=0, cardinalityPenalty=0, numSubdivsPenalty=0, levelPenalty=0)              </td></tr>\n",
       "<tr><td>0.12855</td><td>(5,) </td><td>[«0.000:0.600 3/5♩ 4C#», «0.600:1.000 2/5♩ 4E tiedNext»]</td><td>[0, 3] </td><td>gridError=0.128, rhythmComplexity=0 (numNotesAcrossSubdivs=0, numTies=0), divPenalty=0.02 (0.001, divPenalty=0.02, cardinalityPenalty=0, numSubdivsPenalty=0, levelPenalty=0)</td></tr>\n",
       "</tbody>\n",
       "</table>"
      ],
      "text/plain": [
       "<IPython.core.display.HTML object>"
      ]
     },
     "metadata": {},
     "output_type": "display_data"
    },
    {
     "name": "stdout",
     "output_type": "stream",
     "text": [
      "Beat: 1 - 2 (dur: 1)\n",
      "Best 2 divisions: (quantized in 195.3µs)\n"
     ]
    },
    {
     "data": {
      "text/html": [
       "<table>\n",
       "<thead>\n",
       "<tr><th>error  </th><th>div  </th><th>snapped                                                                        </th><th>slots    </th><th>info                                                                                                                                                                         </th></tr>\n",
       "</thead>\n",
       "<tbody>\n",
       "<tr><td>0      </td><td>(3,) </td><td>[«0.000:0.333 1/3♩ 4E tiedPrev», «0.333:0.667 1/3♩ 4F», «0.667:1.000 1/3♩ 4F+»]</td><td>[0, 1, 2]</td><td>gridError=0, rhythmComplexity=0 (numNotesAcrossSubdivs=0, numTies=0), divPenalty=0 (0, divPenalty=0, cardinalityPenalty=0, numSubdivsPenalty=0, levelPenalty=0)              </td></tr>\n",
       "<tr><td>0.23162</td><td>(5,) </td><td>[«0.000:0.400 2/5♩ 4E tiedPrev», «0.400:0.600 1/5♩ 4F», «0.600:1.000 2/5♩ 4F+»]</td><td>[0, 2, 3]</td><td>gridError=0.232, rhythmComplexity=0 (numNotesAcrossSubdivs=0, numTies=0), divPenalty=0.02 (0.001, divPenalty=0.02, cardinalityPenalty=0, numSubdivsPenalty=0, levelPenalty=0)</td></tr>\n",
       "</tbody>\n",
       "</table>"
      ],
      "text/plain": [
       "<IPython.core.display.HTML object>"
      ]
     },
     "metadata": {},
     "output_type": "display_data"
    },
    {
     "data": {
      "text/html": [
       "<b>LilypondRenderer</b> (1 part)<br>\n",
       "        <img style=\"display:inline; padding:10px;\n",
       "margin-top:14px;\n",
       "width:462px\"\n",
       "             src=\"data:image/png;base64,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\"/>"
      ],
      "text/plain": [
       "<maelzel.scoring.renderlily.LilypondRenderer at 0x7f197c5cd790>"
      ]
     },
     "execution_count": 3,
     "metadata": {},
     "output_type": "execute_result"
    }
   ],
   "source": [
    "from maelzel import scoring\n",
    "from maelzel.common import F\n",
    "from maelzel.scorestruct import ScoreStruct\n",
    "\n",
    "notes = [\n",
    "    (61, F(2, 3)),\n",
    "    (64, F(2, 3)),\n",
    "    (65, F(1, 3)),\n",
    "    (65.5, F(1, 3)),\n",
    "]\n",
    "\n",
    "notations = [scoring.makeNote(p, d) for p, d in notes]\n",
    "part = scoring.UnquantizedPart(notations)\n",
    "\n",
    "struct = ScoreStruct(timesig='4/4', tempo=60)\n",
    "\n",
    "quantprofile = scoring.quant.QuantizationProfile.fromPreset('high', divisionErrorWeight=0.05)\n",
    "quantprofile.debug= True\n",
    "\n",
    "qpart = scoring.quant.quantizePart(part, struct=struct, quantprofile=quantprofile)\n",
    "options = scoring.render.RenderOptions()\n",
    "score = scoring.quant.QuantizedScore([qpart])\n",
    "r = scoring.render.renderQuantizedScore(score, options)\n",
    "r"
   ]
  },
  {
   "cell_type": "code",
   "execution_count": 4,
   "id": "767db0c6-5ecd-4155-8f08-73046eb7ec26",
   "metadata": {},
   "outputs": [
    {
     "data": {
      "text/html": [
       "<code style=\"white-space: pre-line; font-size:0.9em;\">Score(1 voices)</code><br>\n",
       "        <img style=\"display:inline; padding:10px;\n",
       "margin-top:14px;\n",
       "width:248px\"\n",
       "             src=\"data:image/png;base64,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\"/>"
      ],
      "text/plain": [
       "Score(1 voices)"
      ]
     },
     "execution_count": 4,
     "metadata": {},
     "output_type": "execute_result"
    }
   ],
   "source": [
    "sco = r.quantizedScore.toCoreScore()\n",
    "sco"
   ]
  },
  {
   "cell_type": "markdown",
   "id": "29139f19-450a-4c33-b09e-9d11a579e547",
   "metadata": {},
   "source": [
    "# TODO"
   ]
  },
  {
   "cell_type": "code",
   "execution_count": 11,
   "id": "a85497e1-d11a-4b09-9d18-452cd920515f",
   "metadata": {},
   "outputs": [],
   "source": [
    "import logging\n",
    "logging.basicConfig(level=\"DEBUG\")\n",
    "logging.getLogger(\"maelzel.scoring\").setLevel(logging.DEBUG)"
   ]
  },
  {
   "cell_type": "code",
   "execution_count": 5,
   "id": "bc7cfedd-878d-4048-b138-26a61ca09a43",
   "metadata": {},
   "outputs": [
    {
     "data": {
      "text/html": [
       "<b>LilypondRenderer</b> (1 part)<br>\n",
       "        <img style=\"display:inline; padding:10px;\n",
       "margin-top:14px;\n",
       "width:782px\"\n",
       "             src=\"data:image/png;base64,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\"/>"
      ],
      "text/plain": [
       "<maelzel.scoring.renderlily.LilypondRenderer at 0x7f193bd6adf0>"
      ]
     },
     "execution_count": 5,
     "metadata": {},
     "output_type": "execute_result"
    }
   ],
   "source": [
    "from maelzel import scoring\n",
    "from maelzel.scorestruct import ScoreStruct\n",
    "from maelzel.common import F\n",
    "\n",
    "notes = [\n",
    "    (60, F(2, 3)),\n",
    "    (63, F(2, 3)*F(1, 5)),\n",
    "    (64, F(2, 3)*F(1, 5)),\n",
    "    (65, F(2, 3)*F(3, 10)),\n",
    "    (66, F(2, 3)*F(1, 5)),\n",
    "    # (67, F(2, 3)*F(1, 5)),  \n",
    "    (61, F(2, 3)),\n",
    "    \n",
    "]\n",
    "\n",
    "notations = [scoring.makeNote(p, d) for p, d in notes]\n",
    "struct = ScoreStruct(timesig='4/4', tempo=70)\n",
    "\n",
    "part = scoring.UnquantizedPart(notations)\n",
    "quantprofile = scoring.quant.QuantizationProfile.fromPreset('highest', debug=False, debugMaxDivisions=20, maxDivPenalty=0.1)\n",
    "quantprofile.debug = False\n",
    "\n",
    "# quantprofile.divisionErrorWeight = 0.01\n",
    "qpart = scoring.quant.quantizePart(part, struct=struct, quantprofile=quantprofile)\n",
    "options = scoring.render.RenderOptions()\n",
    "score = scoring.quant.QuantizedScore([qpart])\n",
    "r = scoring.render.renderQuantizedScore(score, options)\n",
    "# qpart.dump()\n",
    "# r.write('~/tmp/quant.ly')\n",
    "r"
   ]
  },
  {
   "cell_type": "code",
   "execution_count": 6,
   "id": "578fc4e1-97ec-4afd-8a04-7770244589f7",
   "metadata": {},
   "outputs": [
    {
     "name": "stdout",
     "output_type": "stream",
     "text": [
      "Beat: 0 - 1 (dur: 1)\n",
      "Best 4 divisions: (quantized in 13.2ms)\n"
     ]
    },
    {
     "data": {
      "text/html": [
       "<table>\n",
       "<thead>\n",
       "<tr><th>error    </th><th>div      </th><th>snapped                                                                                                                                                             </th><th>slots          </th><th>info                                                                                                                                                                              </th></tr>\n",
       "</thead>\n",
       "<tbody>\n",
       "<tr><td>0.0016733</td><td>(1, 1, 5)</td><td>[«0.000:0.667 2/3♩ 4C», «0.667:0.733 1/15♩ 4D#», «0.733:0.800 1/15♩ 4E», «0.800:1.000 1/5♩ 4F»]                                                                     </td><td>[0, 2, 3, 4]   </td><td>gridError=0, rhythmComplexity=0 (numNotesAcrossSubdivs=0, numTies=0), divPenalty=0.0374 (7.483e-05, divPenalty=0.02, cardinalityPenalty=0.1, numSubdivsPenalty=0, levelPenalty=0) </td></tr>\n",
       "<tr><td>0.0093274</td><td>(15,)    </td><td>[«0.000:0.667 2/3♩ 4C», «0.667:0.733 1/15♩ 4D#», «0.733:0.800 1/15♩ 4E», «0.800:1.000 1/5♩ 4F»]                                                                     </td><td>[0, 10, 11, 12]</td><td>gridError=0, rhythmComplexity=0.224 (numNotesAcrossSubdivs=0, numTies=1), divPenalty=0.202 (0.000405, divPenalty=0.2, cardinalityPenalty=0.1, numSubdivsPenalty=0, levelPenalty=0)</td></tr>\n",
       "<tr><td>0.11052  </td><td>(9,)     </td><td>[«0.000:0.667 2/3♩ 4C», «0.667:0.778 1/9♩ 4D#», «0.778:grace 4E properties={&#x27;.snappedGracenote&#x27;: True, &#x27;originalDuration&#x27;: Fraction(1, 15)}», «0.778:1.000 2/9♩ 4F»]</td><td>[0, 6, 7, 7]   </td><td>gridError=0.111, rhythmComplexity=0 (numNotesAcrossSubdivs=0, numTies=0), divPenalty=0.04 (8e-05, divPenalty=0.04, cardinalityPenalty=0, numSubdivsPenalty=0, levelPenalty=0)     </td></tr>\n",
       "<tr><td>0.18981  </td><td>(6,)     </td><td>[«0.000:0.667 2/3♩ 4C», «0.667:grace 4D# properties={&#x27;.snappedGracenote&#x27;: True, &#x27;originalDuration&#x27;: Fraction(1, 15)}», «0.667:0.833 1/6♩ 4E», «0.833:1.000 1/6♩ 4F»]</td><td>[0, 4, 4, 5]   </td><td>gridError=0.19, rhythmComplexity=0 (numNotesAcrossSubdivs=0, numTies=0), divPenalty=0.02 (4e-05, divPenalty=0.02, cardinalityPenalty=0, numSubdivsPenalty=0, levelPenalty=0)      </td></tr>\n",
       "</tbody>\n",
       "</table>"
      ],
      "text/plain": [
       "<IPython.core.display.HTML object>"
      ]
     },
     "metadata": {},
     "output_type": "display_data"
    },
    {
     "name": "stdout",
     "output_type": "stream",
     "text": [
      "Beat: 1 - 2 (dur: 1)\n",
      "Best 4 divisions: (quantized in 9.3ms)\n"
     ]
    },
    {
     "data": {
      "text/html": [
       "<table>\n",
       "<thead>\n",
       "<tr><th>error    </th><th>div      </th><th>snapped                                                                                                                                                                                                                                                             </th><th>slots          </th><th>info                                                                                                                                                                              </th></tr>\n",
       "</thead>\n",
       "<tbody>\n",
       "<tr><td>0.0016733</td><td>(5, 1, 1)</td><td>[«0.000:0.067 1/15♩ 4F#», «0.067:0.133 1/15♩ 4D#», «0.133:0.200 1/15♩ 4E», «0.200:0.333 2/15♩ 4F», «0.333:1.000 2/3♩ 4C#»]                                                                                                                                          </td><td>[0, 1, 2, 3, 5]</td><td>gridError=0, rhythmComplexity=0 (numNotesAcrossSubdivs=0, numTies=0), divPenalty=0.0374 (7.483e-05, divPenalty=0.02, cardinalityPenalty=0.1, numSubdivsPenalty=0, levelPenalty=0) </td></tr>\n",
       "<tr><td>0.0092304</td><td>(15,)    </td><td>[«0.000:0.067 1/15♩ 4F#», «0.067:0.133 1/15♩ 4D#», «0.133:0.200 1/15♩ 4E», «0.200:0.333 2/15♩ 4F», «0.333:1.000 2/3♩ 4C#»]                                                                                                                                          </td><td>[0, 1, 2, 3, 5]</td><td>gridError=0, rhythmComplexity=0.179 (numNotesAcrossSubdivs=0, numTies=1), divPenalty=0.202 (0.000405, divPenalty=0.2, cardinalityPenalty=0.1, numSubdivsPenalty=0, levelPenalty=0)</td></tr>\n",
       "<tr><td>0.15018  </td><td>(9,)     </td><td>[«0.000:0.111 1/9♩ 4F#», «0.111:grace 4D# properties={&#x27;.snappedGracenote&#x27;: True, &#x27;originalDuration&#x27;: Fraction(1, 15)}», «0.111:0.222 1/9♩ 4E», «0.222:0.333 1/9♩ 4F», «0.333:1.000 2/3♩ 4C#»]                                                                       </td><td>[0, 1, 1, 2, 3]</td><td>gridError=0.15, rhythmComplexity=0 (numNotesAcrossSubdivs=0, numTies=0), divPenalty=0.04 (8e-05, divPenalty=0.04, cardinalityPenalty=0, numSubdivsPenalty=0, levelPenalty=0)      </td></tr>\n",
       "<tr><td>0.21705  </td><td>(6,)     </td><td>[«0.000:grace 4F# properties={&#x27;.snappedGracenote&#x27;: True, &#x27;originalDuration&#x27;: Fraction(1, 15)}», «0.000:0.167 1/6♩ 4D#», «0.167:grace 4E properties={&#x27;.snappedGracenote&#x27;: True, &#x27;originalDuration&#x27;: Fraction(1, 15)}», «0.167:0.333 1/6♩ 4F», «0.333:1.000 2/3♩ 4C#»]</td><td>[0, 0, 1, 1, 2]</td><td>gridError=0.217, rhythmComplexity=0 (numNotesAcrossSubdivs=0, numTies=0), divPenalty=0.02 (4e-05, divPenalty=0.02, cardinalityPenalty=0, numSubdivsPenalty=0, levelPenalty=0)     </td></tr>\n",
       "</tbody>\n",
       "</table>"
      ],
      "text/plain": [
       "<IPython.core.display.HTML object>"
      ]
     },
     "metadata": {},
     "output_type": "display_data"
    },
    {
     "data": {
      "text/html": [
       "<b>LilypondRenderer</b> (1 part)<br>\n",
       "        <img style=\"display:inline; padding:10px;\n",
       "margin-top:14px;\n",
       "width:706px\"\n",
       "             src=\"data:image/png;base64,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\"/>"
      ],
      "text/plain": [
       "<maelzel.scoring.renderlily.LilypondRenderer at 0x7f197c5cd340>"
      ]
     },
     "execution_count": 6,
     "metadata": {},
     "output_type": "execute_result"
    }
   ],
   "source": [
    "from maelzel import scoring\n",
    "from maelzel.scorestruct import ScoreStruct\n",
    "from maelzel.common import F\n",
    "\n",
    "notes = [\n",
    "    (60, F(2, 3)),\n",
    "    (63, F(2, 3)*F(1, 10)),\n",
    "    (64, F(2, 3)*F(1, 10)),\n",
    "    (65, F(2, 3)*F(3, 10)),\n",
    "    \n",
    "    (66, F(2, 3)*F(1, 10)),\n",
    "    (63, F(2, 3)*F(1, 10)),\n",
    "    (64, F(2, 3)*F(1, 10)),\n",
    "    (65, F(2, 3)*F(2, 10)),\n",
    "    (61, F(2, 3)),\n",
    "    \n",
    "]\n",
    "\n",
    "notations = [scoring.makeNote(p, d) for p, d in notes]\n",
    "struct = ScoreStruct(timesig='4/4', tempo=70)\n",
    "\n",
    "part = scoring.UnquantizedPart(notations)\n",
    "quantprofile = scoring.quant.QuantizationProfile.fromPreset('highest', debug=True, debugMaxDivisions=20, maxDivPenalty=0.1)\n",
    "quantprofile.maxGridDensity = 32\n",
    "#quantprofile.rhythmComplexityWeight = 0.001\n",
    "#quantprofile.divisionErrorWeight = 0.01\n",
    "quantprofile.minBeatFractionAcrossBeats = F(1, 8)\n",
    "quantprofile.minSymbolicDurationAcrossBeat = F(1, 3)\n",
    "\n",
    "qpart = scoring.quant.quantizePart(part, struct=struct, quantprofile=quantprofile)\n",
    "options = scoring.render.RenderOptions()\n",
    "score = scoring.quant.QuantizedScore([qpart])\n",
    "r = scoring.render.renderQuantizedScore(score, options)\n",
    "# qpart.dump()\n",
    "# r.write('~/tmp/quant.ly')\n",
    "r"
   ]
  },
  {
   "cell_type": "code",
   "execution_count": 7,
   "id": "ef394c1d-6aee-487f-af01-2c82fd69626a",
   "metadata": {},
   "outputs": [
    {
     "name": "stdout",
     "output_type": "stream",
     "text": [
      "Beat: 0 - 1 (dur: 1)\n",
      "Best 8 divisions: (quantized in 70.5ms)\n"
     ]
    },
    {
     "data": {
      "text/html": [
       "<table>\n",
       "<thead>\n",
       "<tr><th>error    </th><th>div   </th><th>snapped                                                                                                                   </th><th>slots            </th><th>info                                                                                                                                                                                    </th></tr>\n",
       "</thead>\n",
       "<tbody>\n",
       "<tr><td>0.0015492</td><td>(8, 8)</td><td>[«0.000:0.250 1/4♩ 4C», «0.250:0.438 3/16♩ 4D#», «0.438:0.625 3/16♩ 4E», «0.625:0.812 3/16♩ 4F», «0.812:1.000 3/16♩ 4F#»] </td><td>[0, 4, 7, 10, 13]</td><td>gridError=0, rhythmComplexity=0.0894 (numNotesAcrossSubdivs=1, numTies=0), divPenalty=0.0283 (5.657e-05, divPenalty=0.0283, cardinalityPenalty=0, numSubdivsPenalty=0, levelPenalty=0)  </td></tr>\n",
       "<tr><td>0.057212 </td><td>(6, 8)</td><td>[«0.000:0.250 1/4♩ 4C», «0.250:0.417 1/6♩ 4D#», «0.417:0.625 5/24♩ 4E», «0.625:0.812 3/16♩ 4F», «0.812:1.000 3/16♩ 4F#»]  </td><td>[0, 3, 5, 8, 11] </td><td>gridError=0.0572, rhythmComplexity=0.2 (numNotesAcrossSubdivs=1, numTies=1), divPenalty=0.0283 (5.657e-05, divPenalty=0.0283, cardinalityPenalty=0, numSubdivsPenalty=0, levelPenalty=0)</td></tr>\n",
       "<tr><td>0.081706 </td><td>(8, 5)</td><td>[«0.000:0.250 1/4♩ 4C», «0.250:0.438 3/16♩ 4D#», «0.438:0.600 13/80♩ 4E», «0.600:0.800 1/5♩ 4F», «0.800:1.000 1/5♩ 4F#»]  </td><td>[0, 4, 7, 9, 11] </td><td>gridError=0.0817, rhythmComplexity=0.2 (numNotesAcrossSubdivs=1, numTies=1), divPenalty=0.0283 (5.657e-05, divPenalty=0.0283, cardinalityPenalty=0, numSubdivsPenalty=0, levelPenalty=0)</td></tr>\n",
       "<tr><td>0.1059   </td><td>(11,) </td><td>[«0.000:0.273 3/11♩ 4C», «0.273:0.455 2/11♩ 4D#», «0.455:0.636 2/11♩ 4E», «0.636:0.818 2/11♩ 4F», «0.818:1.000 2/11♩ 4F#»]</td><td>[0, 3, 5, 7, 9]  </td><td>gridError=0.106, rhythmComplexity=0 (numNotesAcrossSubdivs=0, numTies=0), divPenalty=0.1 (0.0002, divPenalty=0.1, cardinalityPenalty=0, numSubdivsPenalty=0, levelPenalty=0)            </td></tr>\n",
       "<tr><td>0.21336  </td><td>(9,)  </td><td>[«0.000:0.222 2/9♩ 4C», «0.222:0.444 2/9♩ 4D#», «0.444:0.667 2/9♩ 4E», «0.667:0.778 1/9♩ 4F», «0.778:1.000 2/9♩ 4F#»]     </td><td>[0, 2, 4, 6, 7]  </td><td>gridError=0.213, rhythmComplexity=0 (numNotesAcrossSubdivs=0, numTies=0), divPenalty=0.04 (8e-05, divPenalty=0.04, cardinalityPenalty=0, numSubdivsPenalty=0, levelPenalty=0)           </td></tr>\n",
       "<tr><td>0.23968  </td><td>(8,)  </td><td>[«0.000:0.250 1/4♩ 4C», «0.250:0.375 1/8♩ 4D#», «0.375:0.625 1/4♩ 4E», «0.625:0.750 1/8♩ 4F», «0.750:1.000 1/4♩ 4F#»]     </td><td>[0, 2, 3, 5, 6]  </td><td>gridError=0.24, rhythmComplexity=0 (numNotesAcrossSubdivs=0, numTies=0), divPenalty=0.02 (4e-05, divPenalty=0.02, cardinalityPenalty=0, numSubdivsPenalty=0, levelPenalty=0)            </td></tr>\n",
       "<tr><td>0.26087  </td><td>(7,)  </td><td>[«0.000:0.286 2/7♩ 4C», «0.286:0.429 1/7♩ 4D#», «0.429:0.571 1/7♩ 4E», «0.571:0.857 2/7♩ 4F», «0.857:1.000 1/7♩ 4F#»]     </td><td>[0, 2, 3, 4, 6]  </td><td>gridError=0.261, rhythmComplexity=0 (numNotesAcrossSubdivs=0, numTies=0), divPenalty=0.02 (4e-05, divPenalty=0.02, cardinalityPenalty=0, numSubdivsPenalty=0, levelPenalty=0)           </td></tr>\n",
       "<tr><td>0.29918  </td><td>(6,)  </td><td>[«0.000:0.333 1/3♩ 4C», «0.333:0.500 1/6♩ 4D#», «0.500:0.667 1/6♩ 4E», «0.667:0.833 1/6♩ 4F», «0.833:1.000 1/6♩ 4F#»]     </td><td>[0, 2, 3, 4, 5]  </td><td>gridError=0.299, rhythmComplexity=0 (numNotesAcrossSubdivs=0, numTies=0), divPenalty=0.02 (4e-05, divPenalty=0.02, cardinalityPenalty=0, numSubdivsPenalty=0, levelPenalty=0)           </td></tr>\n",
       "</tbody>\n",
       "</table>"
      ],
      "text/plain": [
       "<IPython.core.display.HTML object>"
      ]
     },
     "metadata": {},
     "output_type": "display_data"
    },
    {
     "name": "stdout",
     "output_type": "stream",
     "text": [
      "Beat: 1 - 2 (dur: 1)\n",
      "Best 3 divisions: (quantized in 15.1ms)\n"
     ]
    },
    {
     "data": {
      "text/html": [
       "<table>\n",
       "<thead>\n",
       "<tr><th>error    </th><th>div   </th><th>snapped                                                   </th><th>slots  </th><th>info                                                                                                                                                                              </th></tr>\n",
       "</thead>\n",
       "<tbody>\n",
       "<tr><td>0.0050794</td><td>(8, 1)</td><td>[«0.000:0.188 3/16♩ 4G», «0.188:1.000 13/16♩ 4C tiedNext»]</td><td>[0, 3] </td><td>gridError=0, rhythmComplexity=0.5 (numNotesAcrossSubdivs=1, numTies=1), divPenalty=0.02 (4e-05, divPenalty=0.02, cardinalityPenalty=0, numSubdivsPenalty=0, levelPenalty=0)       </td></tr>\n",
       "<tr><td>0.021182 </td><td>(11,) </td><td>[«0.000:0.182 2/11♩ 4G», «0.182:1.000 9/11♩ 4C tiedNext»] </td><td>[0, 2] </td><td>gridError=0.0202, rhythmComplexity=0.447 (numNotesAcrossSubdivs=0, numTies=1), divPenalty=0.1 (0.0002, divPenalty=0.1, cardinalityPenalty=0, numSubdivsPenalty=0, levelPenalty=0) </td></tr>\n",
       "<tr><td>0.057345 </td><td>(6,)  </td><td>[«0.000:0.167 1/6♩ 4G», «0.167:1.000 5/6♩ 4C tiedNext»]   </td><td>[0, 1] </td><td>gridError=0.0572, rhythmComplexity=0.447 (numNotesAcrossSubdivs=0, numTies=1), divPenalty=0.02 (4e-05, divPenalty=0.02, cardinalityPenalty=0, numSubdivsPenalty=0, levelPenalty=0)</td></tr>\n",
       "</tbody>\n",
       "</table>"
      ],
      "text/plain": [
       "<IPython.core.display.HTML object>"
      ]
     },
     "metadata": {},
     "output_type": "display_data"
    },
    {
     "name": "stdout",
     "output_type": "stream",
     "text": [
      "Beat: 2 - 3 (dur: 1)\n",
      "Best 3 divisions: (quantized in 15.4ms)\n"
     ]
    },
    {
     "data": {
      "text/html": [
       "<table>\n",
       "<thead>\n",
       "<tr><th>error    </th><th>div   </th><th>snapped                                                              </th><th>slots  </th><th>info                                                                                                                                                                              </th></tr>\n",
       "</thead>\n",
       "<tbody>\n",
       "<tr><td>0.0050794</td><td>(8, 1)</td><td>[«0.000:0.188 3/16♩ 4C tiedPrev», «0.188:1.000 13/16♩ rest tiedNext»]</td><td>[0, 3] </td><td>gridError=0, rhythmComplexity=0.5 (numNotesAcrossSubdivs=1, numTies=1), divPenalty=0.02 (4e-05, divPenalty=0.02, cardinalityPenalty=0, numSubdivsPenalty=0, levelPenalty=0)       </td></tr>\n",
       "<tr><td>0.01748  </td><td>(11,) </td><td>[«0.000:0.182 2/11♩ 4C tiedPrev», «0.182:1.000 9/11♩ rest tiedNext»] </td><td>[0, 2] </td><td>gridError=0.0163, rhythmComplexity=0.447 (numNotesAcrossSubdivs=0, numTies=1), divPenalty=0.1 (0.0002, divPenalty=0.1, cardinalityPenalty=0, numSubdivsPenalty=0, levelPenalty=0) </td></tr>\n",
       "<tr><td>0.046302 </td><td>(6,)  </td><td>[«0.000:0.167 1/6♩ 4C tiedPrev», «0.167:1.000 5/6♩ rest tiedNext»]   </td><td>[0, 1] </td><td>gridError=0.0461, rhythmComplexity=0.447 (numNotesAcrossSubdivs=0, numTies=1), divPenalty=0.02 (4e-05, divPenalty=0.02, cardinalityPenalty=0, numSubdivsPenalty=0, levelPenalty=0)</td></tr>\n",
       "</tbody>\n",
       "</table>"
      ],
      "text/plain": [
       "<IPython.core.display.HTML object>"
      ]
     },
     "metadata": {},
     "output_type": "display_data"
    },
    {
     "data": {
      "text/html": [
       "<b>LilypondRenderer</b> (1 part)<br>\n",
       "        <img style=\"display:inline; padding:10px;\n",
       "margin-top:14px;\n",
       "width:813px\"\n",
       "             src=\"data:image/png;base64,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\"/>"
      ],
      "text/plain": [
       "<maelzel.scoring.renderlily.LilypondRenderer at 0x7f197c5f82e0>"
      ]
     },
     "execution_count": 7,
     "metadata": {},
     "output_type": "execute_result"
    }
   ],
   "source": [
    "from maelzel import scoring\n",
    "from maelzel.scorestruct import ScoreStruct\n",
    "from maelzel.common import F\n",
    "\n",
    "notes = [\n",
    "    (60, F(1, 4)),\n",
    "    (63, F(1, 4)*F(3, 4)),\n",
    "    (64, F(1, 4)*F(3, 4)),\n",
    "    (65, F(1, 4)*F(3, 4)),\n",
    "    (66, F(1, 4)*F(3, 4)),\n",
    "    (67, F(1, 4)*F(3, 4)),\n",
    "    (60, F(1)),\n",
    "    \n",
    "]\n",
    "\n",
    "notations = [scoring.makeNote(p, d) for p, d in notes]\n",
    "struct = ScoreStruct(timesig='4/4', tempo=70)\n",
    "\n",
    "part = scoring.UnquantizedPart(notations)\n",
    "quantprofile = scoring.quant.QuantizationProfile.fromPreset('highest', debug=True, debugMaxDivisions=20, maxDivPenalty=0.1)\n",
    "quantprofile.maxGridDensity = 32\n",
    "qpart = scoring.quant.quantizePart(part, struct=struct, quantprofile=quantprofile)\n",
    "options = scoring.render.RenderOptions()\n",
    "score = scoring.quant.QuantizedScore([qpart])\n",
    "r = scoring.render.renderQuantizedScore(score, options)\n",
    "r"
   ]
  },
  {
   "cell_type": "code",
   "execution_count": 12,
   "id": "53f406f0-8d55-4f2e-8663-60c935e3e4ad",
   "metadata": {},
   "outputs": [
    {
     "name": "stderr",
     "output_type": "stream",
     "text": [
      "[maelzel.scoring:quant.py:1414:quantizeMeasure:DEBUG] Measure (4, 4) is not filled (events=[«0.000:0.250 1/4♩ 4C tiedNext spanners=[Slur(kind=start, linetype=solid, nestingLevel=1, uuid=4ta5lfw6)]», «0.250:0.500 1/4♩ 4C gliss tiedNext», «0.500:0.750 1/4♩ 4C gliss tiedPrev», «0.750:1.000 1/4♩ 4F spanners=[Slur(kind=end, linetype=solid, nestingLevel=1, uuid=4ta5lfw6)]»]). Filling gaps with silences\n",
      "[maelzel.scoring:quant.py:1676:_mergeSiblings:DEBUG] Nodes cannot merge: \n",
      "Node(1/1, \n",
      "  «0.000:0.250 1/4♩ 4C tiedNext spanners=[Slur(kind=start, linetype=solid, nestingLevel=1, uuid=4ta5lfw6)]»\n",
      "  «0.250:0.750 1/2♩ 4C gliss»\n",
      "  «0.750:1.000 1/4♩ 4F spanners=[Slur(kind=end, linetype=solid, nestingLevel=1, uuid=4ta5lfw6)]»\n",
      ")\n",
      "Node(1/1, \n",
      "  «1.000:2.000 1/1♩ rest»\n",
      ")\n",
      "----> no need to extend node over beat\n",
      "[maelzel.scoring:quant.py:1672:_mergeSiblings:DEBUG] Nodes can merge: \n",
      "    Node(1/1, \n",
      "  «1.000:2.000 1/1♩ rest»\n",
      ")\n",
      "    Node(1/1, \n",
      "  «2.000:3.000 1/1♩ rest»\n",
      ")\n",
      "[maelzel.scoring:quant.py:1672:_mergeSiblings:DEBUG] Nodes can merge: \n",
      "    Node(1/1, \n",
      "  «1.000:3.000 2/1♩ rest»\n",
      ")\n",
      "    Node(1/1, \n",
      "  «3.000:4.000 1/1♩ rest»\n",
      ")\n",
      "[maelzel.scoring:renderlily.py:1082:write:DEBUG] Rendering lilypond '/tmp/tmpw7ooelb6.ly' to '/tmp/tmpw7ooelb6.png'\n"
     ]
    },
    {
     "name": "stdout",
     "output_type": "stream",
     "text": [
      "UnquantizedPart #0:\n",
      "  Measure #0\n",
      "    Timesig: 4/4 (quarter=70)\n",
      "    Node ratio: 1/1, offset=0, end=4\n",
      "      Node ratio: 1/1, offset=0, end=1\n",
      "        «0.000:0.250 1/4♩ 4C tiedNext spanners=[Slur(kind=start, linetype=solid, nestingLevel=1,\n",
      "          uuid=4ta5lfw6)]»\n",
      "        «0.250:0.750 1/2♩ 4C gliss»\n",
      "        «0.750:1.000 1/4♩ 4F spanners=[Slur(kind=end, linetype=solid, nestingLevel=1,\n",
      "          uuid=4ta5lfw6)]»\n",
      "      Node ratio: 1/1, offset=1, end=4\n",
      "        «1.000:4.000 3/1♩ rest»\n"
     ]
    },
    {
     "name": "stderr",
     "output_type": "stream",
     "text": [
      "[maelzel.scoring:renderlily.py:1095:write:DEBUG] Found crop file /tmp/tmpw7ooelb6.cropped.png, using that as output\n"
     ]
    },
    {
     "data": {
      "text/html": [
       "<b>LilypondRenderer</b> (1 part)<br>\n",
       "        <img style=\"display:inline; padding:10px;\n",
       "margin-top:14px;\n",
       "width:375px\"\n",
       "             src=\"data:image/png;base64,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\"/>"
      ],
      "text/plain": [
       "<maelzel.scoring.renderlily.LilypondRenderer at 0x7f79941b4d30>"
      ]
     },
     "execution_count": 12,
     "metadata": {},
     "output_type": "execute_result"
    }
   ],
   "source": [
    "from maelzel import scoring\n",
    "from maelzel.scorestruct import ScoreStruct\n",
    "from maelzel.common import F\n",
    "from maelzel.scoring import makeNote\n",
    "from maelzel.scoring import spanner \n",
    "\n",
    "notes = [\n",
    "    makeNote(60, F(1, 4), tiedNext=True),\n",
    "    makeNote(60, F(1, 4), tiedNext=True, gliss=True),\n",
    "    makeNote(60, F(1, 4), tiedPrev=True),\n",
    "    makeNote(65, F(1, 4))\n",
    "]\n",
    "\n",
    "notes[0].addSpanner(spanner.Slur(), notes[-1])\n",
    "struct = ScoreStruct(timesig='4/4', tempo=70)\n",
    "\n",
    "part = scoring.UnquantizedPart(notes)\n",
    "quantprofile = scoring.quant.QuantizationProfile.fromPreset('highest', debug=False, debugMaxDivisions=20, maxDivPenalty=0.1)\n",
    "quantprofile.maxGridDensity = 32\n",
    "qpart = scoring.quant.quantizePart(part, struct=struct, quantprofile=quantprofile)\n",
    "options = scoring.render.RenderOptions()\n",
    "score = scoring.quant.QuantizedScore([qpart])\n",
    "r = scoring.render.renderQuantizedScore(score, options)\n",
    "score.dump()\n",
    "r # .write('~/tmp/quant.ly')"
   ]
  },
  {
   "cell_type": "code",
   "execution_count": 8,
   "id": "e3e19155-179f-496b-85f2-4220092cfb68",
   "metadata": {},
   "outputs": [
    {
     "name": "stdout",
     "output_type": "stream",
     "text": [
      "Beat: 0 - 1 (dur: 1)\n",
      "Best 2 divisions: (quantized in 22.1ms)\n"
     ]
    },
    {
     "data": {
      "text/html": [
       "<table>\n",
       "<thead>\n",
       "<tr><th>error  </th><th>div  </th><th>snapped                                                                       </th><th>slots    </th><th>info                                                                                                                                                                          </th></tr>\n",
       "</thead>\n",
       "<tbody>\n",
       "<tr><td>0.002  </td><td>(8,) </td><td>[«0.000:0.375 3/8♩ 4D», «0.375:0.750 3/8♩ 4C», «0.750:1.000 1/4♩ 4D tiedNext»]</td><td>[0, 3, 6]</td><td>gridError=0, rhythmComplexity=0 (numNotesAcrossSubdivs=0, numTies=0), divPenalty=0.02 (0.0002, divPenalty=0.02, cardinalityPenalty=0, numSubdivsPenalty=0, levelPenalty=0)    </td></tr>\n",
       "<tr><td>0.12589</td><td>(5,) </td><td>[«0.000:0.400 2/5♩ 4D», «0.400:0.800 2/5♩ 4C», «0.800:1.000 1/5♩ 4D tiedNext»]</td><td>[0, 2, 4]</td><td>gridError=0.126, rhythmComplexity=0 (numNotesAcrossSubdivs=0, numTies=0), divPenalty=0.02 (0.0002, divPenalty=0.02, cardinalityPenalty=0, numSubdivsPenalty=0, levelPenalty=0)</td></tr>\n",
       "</tbody>\n",
       "</table>"
      ],
      "text/plain": [
       "<IPython.core.display.HTML object>"
      ]
     },
     "metadata": {},
     "output_type": "display_data"
    },
    {
     "name": "stdout",
     "output_type": "stream",
     "text": [
      "Beat: 1 - 3/2 (dur: 1/2)\n",
      "Best 3 divisions: (quantized in 2.7ms)\n"
     ]
    },
    {
     "data": {
      "text/html": [
       "<table>\n",
       "<thead>\n",
       "<tr><th>error   </th><th>div  </th><th>snapped                                                 </th><th>slots  </th><th>info                                                                                                                                                                               </th></tr>\n",
       "</thead>\n",
       "<tbody>\n",
       "<tr><td>0.002   </td><td>(4,) </td><td>[«0.000:0.125 1/8♩ 4D tiedPrev», «0.125:0.500 3/8♩ 4C»] </td><td>[0, 1] </td><td>gridError=0, rhythmComplexity=0 (numNotesAcrossSubdivs=0, numTies=0), divPenalty=0.02 (0.0002, divPenalty=0.02, cardinalityPenalty=0, numSubdivsPenalty=0, levelPenalty=0)         </td></tr>\n",
       "<tr><td>0.076918</td><td>(7,) </td><td>[«0.000:0.143 1/7♩ 4D tiedPrev», «0.143:0.500 5/14♩ 4C»]</td><td>[0, 2] </td><td>gridError=0.0756, rhythmComplexity=0.447 (numNotesAcrossSubdivs=0, numTies=1), divPenalty=0.02 (0.0002, divPenalty=0.02, cardinalityPenalty=0, numSubdivsPenalty=0, levelPenalty=0)</td></tr>\n",
       "<tr><td>0.10062 </td><td>(5,) </td><td>[«0.000:0.100 1/10♩ 4D tiedPrev», «0.100:0.500 2/5♩ 4C»]</td><td>[0, 1] </td><td>gridError=0.101, rhythmComplexity=0 (numNotesAcrossSubdivs=0, numTies=0), divPenalty=0.02 (0.0002, divPenalty=0.02, cardinalityPenalty=0, numSubdivsPenalty=0, levelPenalty=0)     </td></tr>\n",
       "</tbody>\n",
       "</table>"
      ],
      "text/plain": [
       "<IPython.core.display.HTML object>"
      ]
     },
     "metadata": {},
     "output_type": "display_data"
    },
    {
     "name": "stdout",
     "output_type": "stream",
     "text": [
      "Beat: 3/2 - 5/2 (dur: 1)\n",
      "Best 9 divisions: (quantized in 146.9ms)\n"
     ]
    },
    {
     "data": {
      "text/html": [
       "<table>\n",
       "<thead>\n",
       "<tr><th>error    </th><th>div      </th><th>snapped                                                                                                                                                                                                                                                                                                           </th><th>slots                   </th><th>info                                                                                                                                                                                        </th></tr>\n",
       "</thead>\n",
       "<tbody>\n",
       "<tr><td>0.0045915</td><td>(5, 5, 2)</td><td>[«0.000:0.133 2/15♩ 4C#», «0.133:0.267 2/15♩ 4D», «0.267:0.400 2/15♩ 4D#», «0.400:0.533 2/15♩ 4E», «0.533:0.667 2/15♩ 4F», «0.667:0.833 1/6♩ 4F#», «0.833:1.000 1/6♩ 4G»]                                                                                                                                         </td><td>[0, 2, 4, 6, 8, 10, 11] </td><td>gridError=0, rhythmComplexity=0.0639 (numNotesAcrossSubdivs=1, numTies=0), divPenalty=0.0412 (0.0004123, divPenalty=0.0283, cardinalityPenalty=0.1, numSubdivsPenalty=0, levelPenalty=0.03) </td></tr>\n",
       "<tr><td>0.072636 </td><td>(11, 9)  </td><td>[«0.000:0.136 3/22♩ 4C#», «0.136:0.273 3/22♩ 4D», «0.273:0.409 3/22♩ 4D#», «0.409:0.556 0.146♩ 4E», «0.556:0.667 1/9♩ 4F», «0.667:0.833 1/6♩ 4F#», «0.833:1.000 1/6♩ 4G»]                                                                                                                                         </td><td>[0, 3, 6, 9, 12, 14, 17]</td><td>gridError=0.0717, rhythmComplexity=0.143 (numNotesAcrossSubdivs=1, numTies=1), divPenalty=0.108 (0.001077, divPenalty=0.108, cardinalityPenalty=0.1, numSubdivsPenalty=0, levelPenalty=0)   </td></tr>\n",
       "<tr><td>0.097154 </td><td>(11, 3)  </td><td>[«0.000:0.136 3/22♩ 4C#», «0.136:0.273 3/22♩ 4D», «0.273:0.409 3/22♩ 4D#», «0.409:0.500 1/11♩ 4E», «0.500:0.667 1/6♩ 4F», «0.667:0.833 1/6♩ 4F#», «0.833:1.000 1/6♩ 4G»]                                                                                                                                          </td><td>[0, 3, 6, 9, 11, 12, 13]</td><td>gridError=0.0966, rhythmComplexity=0 (numNotesAcrossSubdivs=0, numTies=0), divPenalty=0.1 (0.001, divPenalty=0.1, cardinalityPenalty=0.1, numSubdivsPenalty=0, levelPenalty=0)              </td></tr>\n",
       "<tr><td>0.12113  </td><td>(7, 9)   </td><td>[«0.000:0.143 1/7♩ 4C#», «0.143:0.286 1/7♩ 4D», «0.286:0.429 1/7♩ 4D#», «0.429:0.556 8/63♩ 4E», «0.556:0.667 1/9♩ 4F», «0.667:0.833 1/6♩ 4F#», «0.833:1.000 1/6♩ 4G»]                                                                                                                                             </td><td>[0, 2, 4, 6, 8, 10, 13] </td><td>gridError=0.121, rhythmComplexity=0.0639 (numNotesAcrossSubdivs=1, numTies=0), divPenalty=0.0447 (0.0004472, divPenalty=0.0447, cardinalityPenalty=0.1, numSubdivsPenalty=0, levelPenalty=0)</td></tr>\n",
       "<tr><td>0.12734  </td><td>(4, 3)   </td><td>[«0.000:0.125 1/8♩ 4C#», «0.125:0.250 1/8♩ 4D», «0.250:0.375 1/8♩ 4D#», «0.375:0.500 1/8♩ 4E», «0.500:0.667 1/6♩ 4F», «0.667:0.833 1/6♩ 4F#», «0.833:1.000 1/6♩ 4G»]                                                                                                                                              </td><td>[0, 1, 2, 3, 4, 5, 6]   </td><td>gridError=0.127, rhythmComplexity=0 (numNotesAcrossSubdivs=0, numTies=0), divPenalty=0.02 (0.0002, divPenalty=0.02, cardinalityPenalty=0, numSubdivsPenalty=0, levelPenalty=0)              </td></tr>\n",
       "<tr><td>0.18135  </td><td>(5, 3)   </td><td>[«0.000:0.100 1/10♩ 4C#», «0.100:0.300 1/5♩ 4D», «0.300:0.400 1/10♩ 4D#», «0.400:0.500 1/10♩ 4E», «0.500:0.667 1/6♩ 4F», «0.667:0.833 1/6♩ 4F#», «0.833:1.000 1/6♩ 4G»]                                                                                                                                           </td><td>[0, 1, 3, 4, 5, 6, 7]   </td><td>gridError=0.181, rhythmComplexity=0 (numNotesAcrossSubdivs=0, numTies=0), divPenalty=0.02 (0.0002, divPenalty=0.02, cardinalityPenalty=0.1, numSubdivsPenalty=0, levelPenalty=0)            </td></tr>\n",
       "<tr><td>0.22401  </td><td>(7,)     </td><td>[«0.000:0.143 1/7♩ 4C#», «0.143:0.286 1/7♩ 4D», «0.286:0.429 1/7♩ 4D#», «0.429:0.571 1/7♩ 4E», «0.571:0.714 1/7♩ 4F», «0.714:0.857 1/7♩ 4F#», «0.857:1.000 1/7♩ 4G»]                                                                                                                                              </td><td>[0, 1, 2, 3, 4, 5, 6]   </td><td>gridError=0.224, rhythmComplexity=0 (numNotesAcrossSubdivs=0, numTies=0), divPenalty=0.02 (0.0002, divPenalty=0.02, cardinalityPenalty=0, numSubdivsPenalty=0, levelPenalty=0)              </td></tr>\n",
       "<tr><td>0.25151  </td><td>(6,)     </td><td>[«0.000:0.167 1/6♩ 4C#», «0.167:0.333 1/6♩ 4D», «0.333:grace 4D# properties={&#x27;.snappedGracenote&#x27;: True, &#x27;originalDuration&#x27;: Fraction(2, 15)}», «0.333:0.500 1/6♩ 4E», «0.500:0.667 1/6♩ 4F», «0.667:0.833 1/6♩ 4F#», «0.833:1.000 1/6♩ 4G»]                                                                       </td><td>[0, 1, 2, 2, 3, 4, 5]   </td><td>gridError=0.252, rhythmComplexity=0 (numNotesAcrossSubdivs=0, numTies=0), divPenalty=0.02 (0.0002, divPenalty=0.02, cardinalityPenalty=0, numSubdivsPenalty=0, levelPenalty=0)              </td></tr>\n",
       "<tr><td>0.37389  </td><td>(5,)     </td><td>[«0.000:0.200 1/5♩ 4C#», «0.200:grace 4D properties={&#x27;.snappedGracenote&#x27;: True, &#x27;originalDuration&#x27;: Fraction(2, 15)}», «0.200:0.400 1/5♩ 4D#», «0.400:0.600 1/5♩ 4E», «0.600:grace 4F properties={&#x27;.snappedGracenote&#x27;: True, &#x27;originalDuration&#x27;: Fraction(2, 15)}», «0.600:0.800 1/5♩ 4F#», «0.800:1.000 1/5♩ 4G»]</td><td>[0, 1, 1, 2, 3, 3, 4]   </td><td>gridError=0.374, rhythmComplexity=0 (numNotesAcrossSubdivs=0, numTies=0), divPenalty=0.02 (0.0002, divPenalty=0.02, cardinalityPenalty=0, numSubdivsPenalty=0, levelPenalty=0)              </td></tr>\n",
       "</tbody>\n",
       "</table>"
      ],
      "text/plain": [
       "<IPython.core.display.HTML object>"
      ]
     },
     "metadata": {},
     "output_type": "display_data"
    },
    {
     "name": "stdout",
     "output_type": "stream",
     "text": [
      "Beat: 1 - 2 (dur: 1)\n",
      "Best 6 divisions: (quantized in 66.1ms)\n"
     ]
    },
    {
     "data": {
      "text/html": [
       "<table>\n",
       "<thead>\n",
       "<tr><th>error   </th><th>div    </th><th>snapped                                                                                                                                                                                                                              </th><th>slots                </th><th>info                                                                                                                                                                                    </th></tr>\n",
       "</thead>\n",
       "<tbody>\n",
       "<tr><td>0.037261</td><td>(4, 11)</td><td>[«0.000:0.125 1/8♩ 4D tiedPrev», «0.125:0.500 3/8♩ 4C», «0.500:0.636 3/22♩ 4C#», «0.636:0.773 3/22♩ 4D», «0.773:0.909 3/22♩ 4D#», «0.909:1.000 1/11♩ 4E tiedNext»]                                                                   </td><td>[0, 1, 4, 7, 10, 13] </td><td>gridError=0.0358, rhythmComplexity=0 (numNotesAcrossSubdivs=0, numTies=0), divPenalty=0.102 (0.00102, divPenalty=0.102, cardinalityPenalty=0, numSubdivsPenalty=0, levelPenalty=0)      </td></tr>\n",
       "<tr><td>0.070325</td><td>(7, 11)</td><td>[«0.000:0.143 1/7♩ 4D tiedPrev», «0.143:0.500 5/14♩ 4C», «0.500:0.636 3/22♩ 4C#», «0.636:0.773 3/22♩ 4D», «0.773:0.909 3/22♩ 4D#», «0.909:1.000 1/11♩ 4E tiedNext»]                                                                  </td><td>[0, 2, 7, 10, 13, 16]</td><td>gridError=0.0694, rhythmComplexity=0.149 (numNotesAcrossSubdivs=0, numTies=1), divPenalty=0.102 (0.00102, divPenalty=0.102, cardinalityPenalty=0.1, numSubdivsPenalty=0, levelPenalty=0)</td></tr>\n",
       "<tr><td>0.082793</td><td>(5, 11)</td><td>[«0.000:0.100 1/10♩ 4D tiedPrev», «0.100:0.500 2/5♩ 4C», «0.500:0.636 3/22♩ 4C#», «0.636:0.773 3/22♩ 4D», «0.773:0.909 3/22♩ 4D#», «0.909:1.000 1/11♩ 4E tiedNext»]                                                                  </td><td>[0, 1, 5, 8, 11, 14] </td><td>gridError=0.0822, rhythmComplexity=0 (numNotesAcrossSubdivs=0, numTies=0), divPenalty=0.102 (0.00102, divPenalty=0.102, cardinalityPenalty=0.1, numSubdivsPenalty=0, levelPenalty=0)    </td></tr>\n",
       "<tr><td>0.084703</td><td>(8,)   </td><td>[«0.000:0.125 1/8♩ 4D tiedPrev», «0.125:0.500 3/8♩ 4C», «0.500:0.625 1/8♩ 4C#», «0.625:0.750 1/8♩ 4D», «0.750:0.875 1/8♩ 4D#», «0.875:1.000 1/8♩ 4E tiedNext»]                                                                       </td><td>[0, 1, 4, 5, 6, 7]   </td><td>gridError=0.0847, rhythmComplexity=0 (numNotesAcrossSubdivs=0, numTies=0), divPenalty=0.02 (0.0002, divPenalty=0.02, cardinalityPenalty=0, numSubdivsPenalty=0, levelPenalty=0)         </td></tr>\n",
       "<tr><td>0.28218 </td><td>(6,)   </td><td>[«0.000:0.167 1/6♩ 4D tiedPrev», «0.167:0.500 1/3♩ 4C», «0.500:0.667 1/6♩ 4C#», «0.667:0.833 1/6♩ 4D», «0.833:grace 4D# properties={&#x27;.snappedGracenote&#x27;: True, &#x27;originalDuration&#x27;: Fraction(2, 15)}», «0.833:1.000 1/6♩ 4E tiedNext»]</td><td>[0, 1, 3, 4, 5, 5]   </td><td>gridError=0.282, rhythmComplexity=0 (numNotesAcrossSubdivs=0, numTies=0), divPenalty=0.02 (0.0002, divPenalty=0.02, cardinalityPenalty=0, numSubdivsPenalty=0, levelPenalty=0)          </td></tr>\n",
       "<tr><td>0.47579 </td><td>(5,)   </td><td>[«0.000:0.200 1/5♩ 4D tiedPrev», «0.200:0.400 1/5♩ 4C», «0.400:0.600 1/5♩ 4C#», «0.600:0.800 1/5♩ 4D», «0.800:grace 4D# properties={&#x27;.snappedGracenote&#x27;: True, &#x27;originalDuration&#x27;: Fraction(2, 15)}», «0.800:1.000 1/5♩ 4E tiedNext»]</td><td>[0, 1, 2, 3, 4, 4]   </td><td>gridError=0.476, rhythmComplexity=0 (numNotesAcrossSubdivs=0, numTies=0), divPenalty=0.02 (0.0002, divPenalty=0.02, cardinalityPenalty=0, numSubdivsPenalty=0, levelPenalty=0)          </td></tr>\n",
       "</tbody>\n",
       "</table>"
      ],
      "text/plain": [
       "<IPython.core.display.HTML object>"
      ]
     },
     "metadata": {},
     "output_type": "display_data"
    },
    {
     "name": "stdout",
     "output_type": "stream",
     "text": [
      "Beat: 2 - 5/2 (dur: 1/2)\n",
      "Best 5 divisions: (quantized in 2.2ms)\n"
     ]
    },
    {
     "data": {
      "text/html": [
       "<table>\n",
       "<thead>\n",
       "<tr><th>error   </th><th>div      </th><th>snapped                                                                                                                                                                       </th><th>slots       </th><th>info                                                                                                                                                                               </th></tr>\n",
       "</thead>\n",
       "<tbody>\n",
       "<tr><td>0.039593</td><td>(4, 1, 1)</td><td>[«0.000:0.042 1/24♩ 4E tiedPrev», «0.042:0.167 1/8♩ 4F», «0.167:0.333 1/6♩ 4F#», «0.333:0.500 1/6♩ 4G»]                                                                       </td><td>[0, 1, 4, 5]</td><td>gridError=0.0395, rhythmComplexity=0 (numNotesAcrossSubdivs=0, numTies=0), divPenalty=0.02 (0.0002, divPenalty=0.02, cardinalityPenalty=0, numSubdivsPenalty=0, levelPenalty=0)    </td></tr>\n",
       "<tr><td>0.03975 </td><td>(6, 3)   </td><td>[«0.000:0.042 1/24♩ 4E tiedPrev», «0.042:0.167 1/8♩ 4F», «0.167:0.333 1/6♩ 4F#», «0.333:0.500 1/6♩ 4G»]                                                                       </td><td>[0, 1, 4, 7]</td><td>gridError=0.0395, rhythmComplexity=0.112 (numNotesAcrossSubdivs=1, numTies=0), divPenalty=0.02 (0.0002, divPenalty=0.02, cardinalityPenalty=0, numSubdivsPenalty=0, levelPenalty=0)</td></tr>\n",
       "<tr><td>0.091108</td><td>(9,)     </td><td>[«0.000:0.056 1/18♩ 4E tiedPrev», «0.056:0.167 1/9♩ 4F», «0.167:0.333 1/6♩ 4F#», «0.333:0.500 1/6♩ 4G»]                                                                       </td><td>[0, 1, 3, 6]</td><td>gridError=0.091, rhythmComplexity=0 (numNotesAcrossSubdivs=0, numTies=0), divPenalty=0.04 (0.0004, divPenalty=0.04, cardinalityPenalty=0, numSubdivsPenalty=0, levelPenalty=0)     </td></tr>\n",
       "<tr><td>0.10912 </td><td>(3,)     </td><td>[«0.000:grace 4E tiedPrev properties={&#x27;.snappedGracenote&#x27;: True, &#x27;originalDuration&#x27;: Fraction(1, 30)}», «0.000:0.167 1/6♩ 4F», «0.167:0.333 1/6♩ 4F#», «0.333:0.500 1/6♩ 4G»] </td><td>[0, 0, 1, 2]</td><td>gridError=0.109, rhythmComplexity=0 (numNotesAcrossSubdivs=0, numTies=0), divPenalty=0 (0, divPenalty=0, cardinalityPenalty=0, numSubdivsPenalty=0, levelPenalty=0)                </td></tr>\n",
       "<tr><td>0.30838 </td><td>(5,)     </td><td>[«0.000:grace 4E tiedPrev properties={&#x27;.snappedGracenote&#x27;: True, &#x27;originalDuration&#x27;: Fraction(1, 30)}», «0.000:0.200 1/5♩ 4F», «0.200:0.300 1/10♩ 4F#», «0.300:0.500 1/5♩ 4G»]</td><td>[0, 0, 2, 3]</td><td>gridError=0.308, rhythmComplexity=0 (numNotesAcrossSubdivs=0, numTies=0), divPenalty=0.02 (0.0002, divPenalty=0.02, cardinalityPenalty=0, numSubdivsPenalty=0, levelPenalty=0)     </td></tr>\n",
       "</tbody>\n",
       "</table>"
      ],
      "text/plain": [
       "<IPython.core.display.HTML object>"
      ]
     },
     "metadata": {},
     "output_type": "display_data"
    },
    {
     "name": "stdout",
     "output_type": "stream",
     "text": [
      "Error: 0.005591473908568057, division: [Fraction(1, 2), Fraction(1, 1)]\n",
      "Error: 0.05705716955950854, division: [Fraction(1, 1), Fraction(1, 2)]\n"
     ]
    },
    {
     "data": {
      "text/html": [
       "<b>LilypondRenderer</b> (1 part)<br>\n",
       "        <img style=\"display:inline; padding:10px;\n",
       "margin-top:14px;\n",
       "width:822px\"\n",
       "             src=\"data:image/png;base64,iVBORw0KGgoAAAANSUhEUgAABAQAAAB9CAIAAAC6ZyaiAAAJLmlDQ1BJQ0MgUHJvZmlsZQAAeJyVlWdQk1kXx+/zPOmFQBJCh1BDkSolgJQQWijSq6hA6J1QRWyIuAIriog0RZBFARdclSJrRRQLi4ICFnSDLALKunEVUUFZcN8ZnfcdP7z/mXvPb/5z5t5zz/lwASCIg2XBy3tiUrrA28mOGRgUzATfKIyflsLx9HQD39W7EQCtxHu638/5rggRkWn85bi4vHL5KYJ0AKDsZdbMSk9Z4aPLTA+P/8JnV1iwXOAy31jh6H957EvOvyz6kuPrzV1+FQoAHCn6Gw7/hv9z74pUOIL02KjIbKZPclR6Vpggkpm20gkel8v0FCRHxSZEflPw/5X8HaVHZqevRG5yyiZBbHRMOvN/DjUyMDQEX2fxxutLjyFG/3/PZ0VfveR6ANhzACD7vnrhlQB07gJA+tFXT225r5R8ADru8DMEmf96qJUNDQiAAuhABigCVaAJdIERMAOWwBY4ABfgAXxBENgA+CAGJAIByAK5YAcoAEVgHzgIqkAtaABNoBWcBp3gPLgCroPb4C4YBo+BEEyCl0AE3oEFCIKwEBmiQTKQEqQO6UBGEBuyhhwgN8gbCoJCoWgoCcqAcqGdUBFUClVBdVAT9At0DroC3YQGoYfQODQD/Q19hBGYBNNhBVgD1ofZMAd2hX3h9XA0nArnwPnwXrgCrodPwh3wFfg2PAwL4ZfwHAIQIsJAlBFdhI1wEQ8kGIlCBMhWpBApR+qRVqQb6UPuIUJkFvmAwqBoKCZKF2WJckb5ofioVNRWVDGqCnUC1YHqRd1DjaNEqM9oMloerYO2QPPQgehodBa6AF2ObkS3o6+hh9GT6HcYDIaBYWHMMM6YIEwcZjOmGHMY04a5jBnETGDmsFisDFYHa4X1wIZh07EF2ErsSewl7BB2EvseR8Qp4YxwjrhgXBIuD1eOa8ZdxA3hpnALeHG8Ot4C74GPwG/Cl+Ab8N34O/hJ/AJBgsAiWBF8CXGEHYQKQivhGmGM8IZIJKoQzYlexFjidmIF8RTxBnGc+IFEJWmTuKQQUgZpL+k46TLpIekNmUzWINuSg8np5L3kJvJV8lPyezGamJ4YTyxCbJtYtViH2JDYKwqeok7hUDZQcijllDOUO5RZcby4hjhXPEx8q3i1+DnxUfE5CZqEoYSHRKJEsUSzxE2JaSqWqkF1oEZQ86nHqFepEzSEpkrj0vi0nbQG2jXaJB1DZ9F59Dh6Ef1n+gBdJEmVNJb0l8yWrJa8IClkIAwNBo+RwChhnGaMMD5KKUhxpCKl9ki1Sg1JzUvLSdtKR0oXSrdJD0t/lGHKOMjEy+yX6ZR5IouS1Zb1ks2SPSJ7TXZWji5nKceXK5Q7LfdIHpbXlveW3yx/TL5ffk5BUcFJIUWhUuGqwqwiQ9FWMU6xTPGi4owSTclaKVapTOmS0gumJJPDTGBWMHuZImV5ZWflDOU65QHlBRWWip9KnkqbyhNVgipbNUq1TLVHVaSmpOaulqvWovZIHa/OVo9RP6Tepz6vwdII0Nit0akxzZJm8Vg5rBbWmCZZ00YzVbNe874WRoutFa91WOuuNqxtoh2jXa19RwfWMdWJ1TmsM7gKvcp8VdKq+lWjuiRdjm6mbovuuB5Dz00vT69T75W+mn6w/n79Pv3PBiYGCQYNBo8NqYYuhnmG3YZ/G2kb8Y2qje6vJq92XL1tddfq18Y6xpHGR4wfmNBM3E12m/SYfDI1MxWYtprOmKmZhZrVmI2y6WxPdjH7hjna3M58m/l58w8WphbpFqct/rLUtYy3bLacXsNaE7mmYc2ElYpVmFWdldCaaR1qfdRaaKNsE2ZTb/PMVtU2wrbRdoqjxYnjnOS8sjOwE9i1281zLbhbuJftEXsn+0L7AQeqg59DlcNTRxXHaMcWR5GTidNmp8vOaGdX5/3OozwFHp/XxBO5mLlscel1Jbn6uFa5PnPTdhO4dbvD7i7uB9zH1qqvTVrb6QE8eB4HPJ54sjxTPX/1wnh5elV7Pfc29M717vOh+Wz0afZ552vnW+L72E/TL8Ovx5/iH+Lf5D8fYB9QGiAM1A/cEng7SDYoNqgrGBvsH9wYPLfOYd3BdZMhJiEFISPrWeuz19/cILshYcOFjZSNYRvPhKJDA0KbQxfDPMLqw+bCeeE14SI+l3+I/zLCNqIsYibSKrI0cirKKqo0ajraKvpA9EyMTUx5zGwsN7Yq9nWcc1xt3Hy8R/zx+KWEgIS2RFxiaOK5JGpSfFJvsmJydvJgik5KQYow1SL1YKpI4CpoTIPS1qd1pdOXP8X+DM2MXRnjmdaZ1Znvs/yzzmRLZCdl92/S3rRn01SOY85Pm1Gb+Zt7cpVzd+SOb+FsqdsKbQ3f2rNNdVv+tsntTttP7CDsiN/xW55BXmne250BO7vzFfK350/sctrVUiBWICgY3W25u/YH1A+xPwzsWb2ncs/nwojCW0UGReVFi8X84ls/Gv5Y8ePS3qi9AyWmJUf2YfYl7RvZb7P/RKlEaU7pxAH3Ax1lzLLCsrcHNx68WW5cXnuIcCjjkLDCraKrUq1yX+ViVUzVcLVddVuNfM2emvnDEYeHjtgeaa1VqC2q/Xg09uiDOqe6jnqN+vJjmGOZx543+Df0/cT+qalRtrGo8dPxpOPCE94nepvMmpqa5ZtLWuCWjJaZkyEn7/5s/3NXq25rXRujregUOJVx6sUvob+MnHY93XOGfab1rPrZmnZae2EH1LGpQ9QZ0ynsCuoaPOdyrqfbsrv9V71fj59XPl99QfJCyUXCxfyLS5dyLs1dTrk8eyX6ykTPxp7HVwOv3u/16h245nrtxnXH61f7OH2XbljdOH/T4ua5W+xbnbdNb3f0m/S3/2byW/uA6UDHHbM7XXfN73YPrhm8OGQzdOWe/b3r93n3bw+vHR4c8Rt5MBoyKnwQ8WD6YcLD148yHy083j6GHit8Iv6k/Kn80/rftX5vE5oKL4zbj/c/83n2eII/8fKPtD8WJ/Ofk5+XTylNNU0bTZ+fcZy5+2Ldi8mXKS8XZgv+lPiz5pXmq7N/2f7VLwoUTb4WvF76u/iNzJvjb43f9sx5zj19l/huYb7wvcz7Ex/YH/o+BnycWshaxC5WfNL61P3Z9fPYUuLS0j9CLJC+ERlPpwAAKTJJREFUeJzt3UuM29bZBuDjH+PGTm2HVABnUhfISGMnKYIgHXFq72oDotqFN0UxVLpqs+hQXQToTlTRbQuI2jTJKqJQIG2QRUWhi6ANkIoCnCzaxBDlFg3SXCzKXrgZu8BQ8SQdx06gf3ESgiUpjS6keNH7rMY0Z3goUuS5fOc7h4bDIUmcp59+utFotFotnufDLgsAAAAAQET9X9gFAAAAAACAcKAxAAAAAACwpNAYAAAAAABYUmgMAAAAAAAsKTQGAAAAAACWFBoDAAAAAABLCo0BAAAAAIAlhcYAAAAAAMCSWgm7AAAAABAtuq6bpsmyLMdxYZcFAIKFxgAAAAB8SVVVSZIymQwhRNd1lmVVVUWTIHkMwzAMw3N7r9dzbzdN0zCM/f39q1ev/uAHP6jVasGXERYEjQEAAAAghBBN0wqFQqvV4nmeEKLr+ubmpiAInrVGCJRpmrque27vdDqevzJq/26362/ZVFVFYyBJ0BgAAAAAQghptVqEkFqtRhsDHMflcrl2u61pGt0CdpqmeW6nH6ObZ2WdENJut30rk38YhnGPCF29evX69etra2thlAiCgsYAAAAAEEJIKpVybIn1mACd+eC5fXd3173dMIxR+w8GA9+LN79cLufeyLIsjfJySKVSnuFeU80MkSSpWq267xOINTQGAAAAgBBCJEnied6qGmqa1u/30+l0QMMCs4Wte+7f7/f9L9/cstksy7Lu7aMq3/l83nM7hmUgUGgMAAAAwJeseqphGJIkMQyjqqrnnpqmueNhFha27ot0Ou3ZiT6qsr65uTmqcu+5HSAW0BgAAACIq5nD1jOZjCzL7iosnTSczWa73W6pVCqXy6OquaO6sX3kGbZOCMlkMp6lWl9f96zcZzIZz+0AQNAYAAAACE5kw9bb7XahUHDHn3Ac1+l0OI6zosMlSfL8C3Ru8eLD1gHAX2gMAADA8lrasPV8Pj8qEp3Wy2VZrlar5XJZEATPmv2oQQkAiBc0BubCsizP85lMxh5H2Gq1NE1TFMXez2GaZqVS0TSNxk3S+VjlchkDlwAAY0Q527ovIhK2rqpqp9MpFAru4xqGgVcVQIKhMTCXwWDQbDbd27e3t+3PU13XeZ4XBEGWZZ7ndV2v1Wr1el1VVVmWRVFcYJEBAHy2hNnWSeLC1kVRHAwGhmFY04WtaCVMjQVLoVDQdb1QKIRdEPATGgM+YxhGFEVZlq0tpmnyPG/fyHGcoiiEkHq9XiwW6dhCOMUFgGV16dKlV155xTNfOLKtL6HBYMAwjL2SR1sF6XR6mT8WcOA4DuFhyYPGwOzo94GOU1svTncIpqIog8GgXC47theLxXq9TgipVCq0bQAAsDD5fP7zzz9fzLGQbT36crkcx3GCINB/6ro+Pq8oACQGGgPzOrDLhLYWaIyQfWd7LufgigcA4MneEhgVtj4qEgbZ1pNHVVVBEDiO43neMIxms5nL5RyvLQBIJDQGZuc5jO5GX43tdlsQBHu9f1TULADAwpRKJXtYIywtlmU1TbNyK8myjPhVgCWRhMYAnfDU6XRo7Tyfz3/yyScLOG6n08lms6ZpqqpKM9Ctr6+7JwAUCgUaDuRgRd3hgQsAAFEQ8VnOABAEnxsDdHHyhfUzGYZRqVQcVe12u3348OGFFSCVStFwWCvJtKOnjef5VqvVarWKxaL9d2u1Gv0Bs/IBAAAAIBT/5+PfUhQln89Xq9XF5MpUVZXjOM9O93v37hFC9vb2PH+R5/lDExg/X940TUVRMplMr9fTdZ2OrlYqFUKI+xPged4x5CpJktVywJQ4AAAAAAiFb40BRVGsnm+aQd+vvzzqcIVCYXySu9deey24AtAUe4VCwVHF397eJoTU6/UxbQlVVavVKiFke3sb0boAAAAAEBZ/GgP2lgAliuKE82tnYBiGJEkH7nb//fd7btc0bTiB8R32NPjHXQzrc2g0Gp6/qOs6HTcolUrIKAoAAAAAIfKhMeBZNR8MBjRmJgiVSmWShW+eeOKJgApAebYWxicMpUsRE0IajQbGBAAAAAAgXD40Buga5u7tiqIENDgw4ep31uIpQdB1nWZdmDxDKG0J0F+xyjbhKAcAgL/oqr2jlvcCX7hfEFhYBgCiZt5sQpqmtdttz/+igwNB9H/TqbfjlUqlUWvf8Dw/qsx2rVZrTKRQpVKhxWg0GpOsyWKaJm0JaJpmL5iqqlhwAAAWb8JeFZiZYRibm5vkq3YXIcQ0TZrOP9RyAQD8j3lHBkbFAqXTaUJIQDHxDMOM3yGbzQYdhGMNetBnvcWq2dv720a1BAghdIECAABIGE3T6Kuw3W63221d1zmOCzq7BgDAtOYaGTAMw93FzjCMLMuiKLIsOxgMFEXxPdOoKIo0G4+nra2t8Y0QWZYniV8a39+fyWTa7Xaj0XAEI9F5wwzD2M9aEIRut1sqldxtp3q9vrW1dWBhAAAgXlqtVrlcXkyu7bizVj520HV9d3fXc3/7e3xvb+/DDz+8ePHiyy+/HGApARLq0HA4nPmXZVkul8v2LdlsVlVVmm1TFEVa0/W9I8Q0TUEQ3O2QdDoty3KgUwXsZchkMoIgyLJsdfarqkpXEKvVatYLQJKkMU0X4lqkDAAAEoAuRjkqYDVeRlXWDcPwHN82TXPU/pME+s6GZVnPlgMAjDfXyECr1bL/M5vN2sNg6A/NZpNGSc5zIAcac6mqaqvVoo8bjuM2NzcX0wywl0GSpFQqReNB6TMul8vJsmwfVRjfEgAAgOShQUELawmYpuk5/cw0zU6n4/krnvsHWlmfRzqdtq/qY8lkMizLXrp06fLly6dPn158wQASYK6RARoIRH9mGMbRBaJpGo2bd8fSJImu67TLhOM4ml8o7BIBAEDIJEnSdd00zW63S76ayTYqKQVd0t7Rqz2qck//YNQwDOMZW8uyrOdrMZVKee4/22uUjsDncjlMzgaYwVwjA/aMooqijOoC6XQ6CW4McBw3STYhAACIslH1SMcYuMVeWS8Wi/bXnK7rdL5csVhkWVZRlHK5nM/nO52O5/uiUqksYAzZSmpkN21lnWVZvPIAEmbe1KJULpcbU91H6kwAAJgT7Wj33D7JHFP7/pMsWzktR2Mgk8lYk8EkSer1evV6vVareea32NzcHNWzTkZnsxi1RsSYpNgAAG7+NAYc04gp6yk8SVJ/AACItTkTwtj3D6KyPr9sNus5AM5xHE0dYRFF0ZFEiP7iqBXHBEFI8Pg5AEScD42BdDrt2Q9hn7Tk+xxiAACYx5UrV/72t789+uijkUoIM49Rc0xH9axvbm6OqtzP88IyTbNSqRQKBfdx8R4EgAjyoTEwZkaU9bOu6xi4BACIjrNnz37++eeLPOL4hDDu7evr66P2j3KqBpr5Wtd1+yQE+vOowB4AgBD50BgY1dWBSf0AAJHlbglMmxAmppX1oNFpcvZPUtf1brebzWaxABkARJAPjQHPrg5d1+3jyBgbBQCIICx66DtBEEzTtD5VwzAEQWAYxnPqMPiiWCwahuGYuQGeZsiatb+/v7+/Twj5xS9+gcktieTPBGK3RqNh/ycykQEAwDKQZVkURY7jeJ43TVNVVcda9eC7TCajqmrYpfDHbIs9u+fof/DBB59++qm/ZUt2pvhldmg4HKqqOmqFwvFqtdrHH39cKBTW1tYc//X8889/9tln9OcHHnigWCzOWdDxdnZ27ty5Qwg5cuTI6upqoMdyGwwG9sXXGIZZ5NHDPXcAiCma2P7s2bMXLlwIuywJZL0XVldXjxw5EnZxwE/Xrl2bavvNmzfv3bvnCMy7e/duNLNmjYHHRfKkUilJkshwOCyVSmEXBgAAAAAAFmo4HB4aDocz/z5dANwRcmqaJsdx9gkDtVotiFlTiqJIkjQYDLLZrKIoHMeZpilJUr1epztsbW2NWRd5TqZp8jzf7XZzuZyiKHS2nKZpgiBYbf3ggnHDPXcASIBDhw4RzBmAkMwTuW7Z29u7evWq/4WDEc6ePfv222+HXQo4GK2fE0JarZaVzJM+892Gw+FccwZSqRRxLTBcqVTsLQGGYYKIMNM0zQo9KpfLdE4CXfVd0zRagGazaRiGpmlB1IkFQeh2u/ToVt4MnudlWbYKVq1W19fXfW8IhX7uAACQbLMtIbeYyHUIy9GjR8MuAgRirsYAbW3YFxjWdZ22RSyCIARRH7XXsB0zWgRBsMrQ7XYlSfI9h4Ou69ZZS5KkqqrVHhAEwT5BolKp+N4YCPfcAQAgCnzpXP/oo492dnb8LxxExsbGhmPL8ePHT5486Zn/N5VKeWZ8efnll3//+9+fO3cukCJC2OZqDHAcxzDMYDDQNI02DNwV33K5PM8hPDnyllar1c3NTatOvLm5ad+5Xq/bO+99YV9PrdvtCoJgDY84Wj6+r9MZ+rkDQDJks9lut+t4aICP/Opcv3LlSiDlg2hYXV19+OGH7VtWVlZOnDgx7crZgS7tOqqFGQWmadLY6bALEmPzphbleb7ZbNKYJEmSaOSMpVQqBVETdQQmEUIkSbIqxO4viaqqk9wlsizTZHAH7uk4xPznOPmhAzp3AFg2mqYZhrHkeZ89O9dN0xyVYU/X9du3bzvSwqBzPfF86Vz/6KOPfvzjH29sbDhqSjAnRVHK5XKv10MoxMzmbQzk8/lms6mq6ubmpiNAiGGYIIYFiFeVd3wkkmcfjIMsy7S0vV7vwMo9x3GlUome7/ynOdWhgzh3AFhCLMtGvyUwQ+f6rVu39vb2HNvRuZ5s7s71o0ePHj16NFKd66PCuqLM+gLSrKk0j3nUSJLUaDTq9fr6+jp6P2czb2OAhsj3+313gFBw2WwEQaAD3NaW+Vsd1nvFMIxJevrpRGHDMMY/O7LZrL+HDuLcAQBmY5qme7iSoHMdXNyd66lUimXZqTrXM5mMfX/PlIbLZobRrZnzMr311luzFTJomqZxHEfjorEs2gzmbQywLLu1tdVsNh1rZ2xtbQV6PTRNozN3WZYtl8v2Y7nfTPl8PogyOJ5KnkcPoqYehXMHgLjQdd0+zcm+HZ3rYDl9+vTx48ffe++9/f399fX1EydOjO9cH/VyCbRzPY6sznXai3f79m1afcfUER/RhIr5fF4UxUwmE/0xz6iZtzFA18F2bEyn00FHbtEL73mURqNh/yfDMAt7NhmGYY2QMAyjqmoQh47muQPAbKbtXKdPXXSuL5uvf/3rjz76qGPjmM719fV1z+2e3ViWbDZ75cqVF198caneHb50rk/4Bez1euikCwLP8+l0ut/v05wuyKs+lXkbA+5Jw4QQ2mk951+ejaZpjvKM6ZsXRdFapctifUsZhlEUZfz4hqIo9kSijj8+5mE6/6Hdpjp3AJjctJ3ruq7fu3cPnevLhnau27ccPXr0r3/9KyGkVCq590fn+oRGTR2hC2BdunTJESmO0a3llMlk+v1+v9/ned6zhwVGGg6Hng8pAAAAAABIsOFweGg4HKqqOmosbIy///3vf/nLXxwbz549e+HCBX9KN6WdnZ3XX3/95s2b1pbz58+PXyDjvffe+8c//kF/HgwGH3/8MSHkoYceOnLkCCHkyJEj586dW11dnaoY165ds2J17rvvvqefftrzL/h76BnOPTgvvfTSrVu3Qjk0LEChUFhbWwu7FIG7dOnS5cuXwy7FMmIY5mtf+5p9y8rKyuHDhx966CH6z48//vj9998/ceLE448/TggZdTdG5y6leedC73Tb2dnxTAVz8+ZNe7jLO++889///vexxx67c+fOF198cffuXcf+eLwn26gv4N27dz/66KMnnnji4sWLYZXtQLVajdamqBArQqGzXmH2V7Yj56fly8bADIfRNM1zfHOS5JhB0DRNEARrEvP29va0i23RpASEELpmwjyFOXTokPUzwzC6ro8vyZyHnv/c/fXEE0+8++67YR0dgjb/FyQWfv7zn7/wwgthlyKKRkWuZzIZz+jQUZHrHMfNFk1K3z65XC4uiRrpG+HAVy3yMsEkFjN1xC36iZusLO12S/LCcvOsWNprp3bD4XCWOQO6ro8KZ9c0zZ1jNGjWOTMMI4pisVhcQFXYenCPf6UNBoNAl/0K5dzHo9mIIam63e4yPFsjm0FvEp6R62PSwtDxzEKhsL29bW2MxSoECzbb1BH6sz3NNCLXk23UF/DBBx9sNBonT5585pln7P+LqSPz03W9Uql4bsfHOImpGwOmaYqi6EgkSmui1Wq11WotsjFgGIYgCN1uN5vNFovFhR2a3l70Q2AYhia4HbVzq9UKojEQ1rkfaLaxJoDlEXrnugN9QK2trcX9rRnlvExoAERHWJ3rmqY1Go1Tp05FtnM9plRVdddLyVdV0zBKFD9TNwbc6YNobZgQUq1Wm82mb0U7iFUjZxgmk8n0ej1d12fuytrc3CSEMAwzyV+QJMm67QaDQaVSUVV1tuNOe2jK33P317Fjx/b3993ryySSPSd32GUJHD1ZxzKfSUUr2fYre/z48cOHD0+Vcx2d627z52W6ffs2IaTdbo8a8oYEmHB0iwZGnz179te//rXn34l7+xYONCqpI62aIsHohKZrDCiK4k6IqSgK/X7SDK+qqi5g+Td73/xgMKCNkGq1mk6nZVl2FECSpEKhMP6tLAhCr9djWXaSW6fdbtv/OWcTaKpDkwDO3V/f/OY3//Of/7gTzibSUuXkpie7JI2Bp5566vXXX1+SK2vnV+f6Bx988OmnnwZVSghbWJ3rDpIkXb58+cKFC8v2PQVqVEsgnU6rqoq+mMlN0RgwDMMd7lKpVKzaJ8/z9Xq90+kE3RgwTdM+Zdau3+8XCoWtra1yuUzvA03TqtXqJGt8TP5IYhjGfvRarWYvm2Nnfw8d0LkDQFyM6lxvtVqj9ncverC3t3f16lX7lmq1OirXBMTRtFNH6JviZz/7Wa/Xk2WZTnLA6BZElmEYni2BbDaLMYFpTdEYsMfGUFtbW/bmQT6fr9frC8jwoChKv98nhKTTaUII/dmu2Ww2m02GYViW7ff7uVzO324DQRCsEZJKpWIPSnOcvu8ha6GfOwCMN6pz3TCMXq/nub9hGO4gGXSuJ1vUpo5QNC4um83ixQER5xmejZbAbCZtDGia5giGyWaziqLYt9BnR7fbNU0z0CvRarUYhlFVlR7RkVvTMhgMaFS975N1ZFnWdZ1GwjieztYiA5SiKP5+FKGf+4FoYYJLoBQpN27cIITU6/VRnbJJQk/WvahnItH5o9aV1XV9f3/fno6deHWuQ8K4O9dnmDpCNyKzAoC/RFGs1WqOLlFZltESmMGkjQF397a7msuybDab7Xa7dGa3PwX00m63S6WS1W/B87ymaVYYvV1AcWMsy9JaeLvdFkXRMAx6iEajYTWZ0um0oii+d66Efu4HorWopYo3cLQAk+3DDz8MuwiL8N5775Elu7Jx5O5cX1lZOXHiRLid6wCwACzL0o5Rq/6TTqcxojWbFUKIYRiGYYzZqdvtOtpehULBNE13RNDp06e73e4rr7xCr83DDz8cxHTDY8eOPfLII46jv/DCC3/605/efPNNWhnd2Ng4f/78xYsXPcvpi3K5/L3vfe+NN9747W9/ay11cebMmTNnzmSz2fPnzxNX1ND8InLuY3zxxRcLPiIs0ocffhiXxZ7mYV/GEuaxvr7u2HL//fevrKycOXPGc3/P/otjx45Zlf5utytJ0sbGho89Dp5hXf6Ky7eGJmuKSwYIuqzNtWvXYvHx0k/19u3bsSitQ2Q/6mefffZXv/oV/dlKbgnWik+TfpeHw+HW1lZwBQIAAAAAgAgaDoeHhsPhqOlu1N7e3g9/+EP7FivPAPXBBx8899xzBwYPFAqFH/3oR474y7j785//3O1233zzTcd2q28+lFKF6+LFi3fv3g27FBCUn/70p08//XTYpQjcs88++/7774ddii9N1bl+4sQJz+32znWHer3uXoE4soIYGQgUnTMQl2lFjmxCEbfgW7dUKl25cmXmD4feuuvr6y+++KLvZQtaxJ8Sv/nNb1577TVCyB//+MeE1TNnQ68X+d8a+6jcksPhcIUQwrLsmCgrxyzhXC5XKpWsf+q6/stf/tIz06VDo9G4evVqYmZ50xSfdMEB+4xe0zRVVa1UKs8999w///lPVVWTcb6TW1lZQWMgwc6cObMMQZkPPPDA5Duvrq464iHHR65vbm56bg8rcp3WU+O1AnEqlYpRaUl8Vr+KVzahoG9dTdPs38pUKkXm/nBOnDgRi8/WIeJPCZ7nOY7rdrtvvfUWFngmtt6HCW/XgycQO3LhWcHxhBDDMDynro7S7XbphNe4149N0+R53orEos8L+jPLsqIoCoIgimKz2eR5fgHRqJGytrb27rvvxqUbbE7x6kWbEz3ZZThTQsi3v/3ty5cvO64scq4DLA+6oFWpVELlMpoMw1BVdXd3d3Nzk+M4WhOjaytFs8USZQc3Bux1WUcLQxTFyVsCVLfbFQQh7jM8KpWK1RLIZrPu+gHLsoqiNJtNmltpAUsyR8d9991H4tMNNqd49aLNiZ7skmAYhizNlQUAN89VQSA6OI6zV0HT6XQmk+n3+7SSiY6bqfzfVHsXCgXrZ03TaJCMZXt7u9FoWF3CrVarUqnQtbHs2u22I/QoduzlHzXKwbJsLpcjhHQ6nQUVCwAAAGA+NBWhJEmyLEe299bRGd3v92mldDAYiKLouUw7jHLwyIC9xm/vJLNn4KYLkLnbYZIkSZKkKIpj9WLHqr3xouu6/Vza7bau62iDAgAAQKwpilKr1Rz5KNPp9JNPPhlWkWZAg9KXLUh7HgePDNDhcvqDvcprNRZpYlf7f9EecesyiKKoaZr1dwgh/X4/7oMDdjzPu0/HNE3ajrIPpwAAAEB86bouSVLyKpq6rvM8XywW3Znp+/3+q6++GkqpxrBP6KpUKsPhcDgc9no9GpNCczeFWLx4ObgxYNXyHZ3f1jJk7sWf6Z72eDs6t8PeHojvBFOO4+wnQggZDAbFYtHRDK1UKoSQdDqNQQMAAIBYM02TRp6Uy+VqtZqwiqamaTzPO2K/I87qac1ms9blyGQytKlmz3sJB5puzoAn9+xYmhXbsaoxx3H20KDIRqFNwjPGqd1ub25u0kg1wzDoWEGSBkAAAACWjaqqoiimUqm4LMw8LV3X8/n8JPlgjhw5EnxxJmXVxNxpHliWlWUZaaAmN/vIgNU77p5BS/d0NzHL5bL1W9OmIYqUcrk8KsFivV7PZDI042qpVEIqEgAAgJiqVquFQqFer4ddkKDQRZMm3PknP/lJoIWZCsuy0VwBLY4ODYdDRVHss4Edbt68+c477xBCvvGNb3zrW9+ytne7XTpk9t3vfvfw4cOO36Itge985zuOdIT/+te//v3vf9OfNzY26BIecXTv3r3Lly/fuXNnzD6xPsGZvf3225988gmdN5J49GSX5EIv1clevXr1+vXrS3WyjzzyyOnTp8Muy8F2d3evXLnCsuxilry4ffv27u7u2trazH+Bvg3j8kiM8tf83r17e3t7u7u7dFG/VCoV0K178+bNGzdujE9Hc/LkyfFzat2lpbfusWPHzp0752Np53Tt2rUJk6iurKycP38+6PJMZX9///Lly8ePH1+SBXAmR78a5H8roqPCwL5cgXj8fWD9lf39fcd2+lW5devWqVOnHL91/Pjxvb29/f19R2Pg6NGj1s8rKwfnMoqsW7du3blzh57C559/7rnPlStXHn/8cfeHAwAAsXD16lXTNGllLuyyLK8bN27cuHFjb2/PvvHIkSPHjh0L4nC0A3SUI0eOnDp1asybfVRpV1dXfSuif27dujXhnidPngy0JDM4evToqVOnbty4EXZB4m84ga2tLUIIwzD2jbu7uzTmJ51Ou3+Fjt2USiXHdvu84UkOHU10IIVhmE6n0+v1xg9UNRqNsMu7UBsbG7G+uFOhJ9tqtcIuyCIs1cnSyWdLdbLux3U00ZdILpcL7u/v7u5a/6Q9+vPcCfF630Xta97pdA4cVPH91vU8CsMwtM4z5sOZpLQbGxv+lnZO40trP/1erxd2Yb1ls9larRZ2KaLFmj9tv11HXdzhcDjRBGI6ZXswGKiqam1kWbZcLhNC+v2+e0ItnUjgmENMCLHG3dyLkcWFaZr0fOnSCplMRlGUVqs1apQqYTkHAACSSlGUfD5Pc8FB6CKS4iaXy9VqNcMwxucGjEhpAyLLciaTCbsU3lRVrdVqYZci3iZqDAiCQOvujo9bkiTaKV6v1wVBsAfYbW5uElvV32ItxxvfmbV0AbVcLmefc0PzitZqNUfWUZK4RRUAAJJqwuBpWIAQU9zYOytLpZKmaaIounOl2E1e2qjFm9HQj/FqtVqUF4rNZDLJW/ZhwSZNLUqrs+122z44QLfTwYhms2lvNNMWpLuJbGUUje9SXPQUPMsviqJhGO6oIbxgAAAAJhRuihtN0zqdzuSJ6qcqbdQ6B2mIxyjpdLrVakW5JQC+mLQxwPM8bT6Kouhogcmy3Gg00um0vd1sNQzsgwOaptE0vblcLr4jA3S1tVHjZSzLKooSl8QRABB3uq4jnTbMxjRNTdMkSZJlOVKL/yiKYi1sOh7DML6Hr2QymalWCw23tHPiOK7T6bgjt9PpdKVSocsSh1IwWKQp8vkoimIYRrfb5Xle0zT7V0UQBHezOJ1O9/t9+51kRc/H+tVFz8s9HcKO4zj7qEjUhgUBIDEkSWq32xzH4Z0dHF3XW61WoVBIzIryiqLUajXHKlo0HUhYRbIbk+7cYfIu+eDEq7RuHMcZhqHruq7rvV4vn89nMpmoNVogUFOsQEz7vBmGGQwGtD0wfn96J1mVZlEU6XOnUqnE+nlK37jjv/yO2n80v/8AEEeapo3PgA5+MU2TftTlcrlarSYjGwTtoSsWi+71dPv9/rVr18IolNOEa/0yDDM+yiUgju9gxEs7IY7jRFGUZZnnebQEls0UjQFCCMdxmqal0+nBYJDP52mI/Kid6c3U6/UMw+B5ni7gt729HffnKV1Hud1uj4n8s2dQLZVK+F4BgC+Q7mYxVFUVRTGVSk1Yz4uLhGW8CSXFTT6fp/WfaX8xygl5YMlN1xgghHAcp+s6jYmv1+vr6+uiKKqq6u6polMIVFVdX1+nj55arRa1qTMzyGQymqYxDFMsFj0bNoqiWI/a7e3tWMdEAUCkIBvBAlSr1UKhQDuwkmTyjDcPPvhg8MUZJ1IpbkzTlGXZEf1rr/NEqrQAM5hlDWCWZTVNUxSlUqn0+/16vW49NGkjQdd163FDZ9Xkcjn6XfKn1GGjIySSJFWrVVVVBUHI5/P0vxqNBv00GIahI26hljRwpmnSaNpUKoWo5STBlYUoWNh9SFOVj+8yH59ckorsF2eqjDcPPPBAoIU5ULlcbjabo/43nU4rirKYz1ZV1Wq1On6f6JQWYEbDrxYYBgAAAACAJbGysjIcDlcIIeVyef44tsFgYB98XF1d3dnZaTQajzzyyNNPPz3nH4dI2dnZeeONN65fvz5mn8kzNMfaSy+9dOvWrUKhsLa2FnZZfDDJlU3MyY536dKly5cvR/BkacHOnj174cIFuuUPf/jD9evXz58/v7+///jjj6+urs7/N8M1yX3o+5vFs/f3vvvuI4R89tln4++EWDwSf/e73928eXOSPZ966qnvf//7QZdnQjs7Ozs7O4PBYG1tjWEY97KeQXj++ec/++yzMTs89thj586dc3/XQiktwDy+THgzDIw1iTa4Q8DitVqtSR5wYRdzQTY2NgghrVYr7IL4YMIrm4yTPRCtukXwZGnBSqUS/efu7m42m7WuTi6Xm/9vhmvC+3C2Mx3D/fdrtdru7i6NfR1zJ8TlkXhgCSmGYXq9XtiFDdn4jyiCjwWAOc0yZwCWFp1/Nsmepmk64mtVVe10OnTGeTCli5DYnezkV3Zvb8+xJXYnO4/onKyqqq1WK2GTXCe/D+/du+fvoekCMvTnUqk04XSveR6J0YSMN24MwwiCQFOGJCYRE4DdLI0BOkGKEIJlKZbKVPPPHG8+Otma/tzr9ZI9rzp2JzvVlXUES8TuZOcRnZM9cEZjHE11H/q+eAvNHN9oNCb/bOd5JC7e1tbWmEmuFDLeUHQ9Jfrz9vZ2ArIgAow3XWpR0zRp6mWaZ3d9fV0QBCx/syTmWXHd/jCNbz3GNE2aRUqW5TGL7sXuZKe6sjQyyv671s+xOFlPsbiyqqryPD/+uBOmu5nkZBdvqvvw2Wef9ffomUxm2nx38zwSF2/8clfpdLrVaqElQKmqWqlUtre3yWTfKYC4m2JkwDRNnucdK7DQngZVVX0uF0RP3Fdcn4eiKLVazXHzp9Pp4cSRuFGGK+u+sk8++WRYRRqlUCiM+d90Ol0sFsdX5iJ+srG7D+NVYI7jOp2OIAiOBox156DWa+F5nuf5uC+QCjC5KUYGJEnyXIux2WzSqCFItnlWXLfXUULPqjEVXdd5ni8Wi+7T7/f7165dc/9K7E4WV9bxX/1+/9VXX3X/SgRP1spYoiiKJEmj6nMznOzizXMfLgCNI7JviXiB3TiOMwyj0+nUarVSqdRqtXq9nmEYY+4cAFgGU4wMjOn+bzQa7gFW+ty0Z7qAZeA5/0yW5c3NzYjMvJycpmmCIEyyYKddTE/2QLiykTrZXC5XKBQEQRAEYfykxtlONrJCmeFKZwlvbW3NMAwetSm5HMclZgFQAPDFFI2BMe8Sz2kDnU6HIN4uQeacf0ZrLQGUKyjzJNiJ18niyo4SqSsbdLqbO3fuzF44P0RqhqtpmoqiNBoNe/e/400XqQLDAtD6DGo1kDzTTSAeZX193b2RTk1DD0RiLNX8s6nyhDz11FOBFiZouLKjRGrFMU3TOp3OVOFJU53sM888M0ux/BOd+1BV1VQqVS6XxwcCRafAsBiKonQ6HdRqIHmmaAyMCfhxv28Mw6CP0fGT3iBG6PyzdDrt2J5OpyuVCg1KDqVgfhEE4dBXUqnUhHlCCCHr6+v0t+LVQW5J/JWVJGm2K5vNZulvReH1P1W6G3ozz3yyoeSIC/c+pKHzNGHUhB9a4r84S+7LlVltWJaNwqMAwHdThAm5UwlRtVrNHRBZqVQIIblcDt+cJKHzz3Rd13W91+vl8/kkrTUxf5rFSCVqnEqyr+z8GQ4mnCoaHfPcit1u1zCMUB7dId6HHMeNn1axtbXlHgpI9hdnydFRHYztwDKYojFQLBatFNd0hfZMJlMsFt3vDE3T6LqYEUmhAP5K6vwzmniR/jzhMpMrKytnz549evQo/WexWAyqcAuR1Csry3KlUqG93Qm+spqmcRxHA5rpzTzbyYZ+G4RSgPEtgVarNaabP/RPDILAsiyyi8KyGE7DClfd3t4etU+n06Gp7sbsAxBxE359arVa2CWF6cT9ytKHcKlUsrbQrhlqa2vLvnPcT3aRHJ8JwzDb29udTod+vK1WK+wCAgAEZboJxLIs05kD9XpdEATDMNw78Dw/GAyy2eyEyS4AImhra+vAfZAnJI4Sc2VN05RlmeM4e/e/O93NgX8nFie7ALQPi9re3qbZhNDfDwDLYIowIUrTNFEUm1+xZgXQJe7pvKtcLqeqKtJvQXyVy+UxSQPT6bSiKJgdGEfJuLKqqlpBm2Mk42QXQ1VVGvdfr9fx8gKApTJ1alGWZVVVrdVqNIVCu92uVqvVarVer/f7/XQ6XavVNE3DwxRiDXlCkiq+VxbpbgLF8zwW4gWA5TT1yAAliqIoirquNxoNa2M+n8erBRIDeUKSKqZXFuluAAAgCDM2BiikUIDEw02eVLG7skh3AwAAQfBnBWIAAFgkR7obCAgNHEL4EAAkGBoDAAAxgHQ3oVAUpdPp4HMGgASbK0wIAAAWA+luFiCVSjm2sCyLlgAAJBsaAwAAMcDzPM14E3ZBkowuuYCFFwBgqaAxAAAAQAghLMuiuQUAywZzBgAAAAAAlhQaAwAAMYZ0NwAAMA80BgAAYgzpbgAAYB5oDAAAxAbS3QAAgL8wgRgAIDaQ7gYAAPx1aDgchl0GAAAAAAAIAcKEAAAAAACW1P8D/PPYJHYsFtkAAAAASUVORK5CYII=\"/>"
      ],
      "text/plain": [
       "<maelzel.scoring.renderlily.LilypondRenderer at 0x7f193bd67ca0>"
      ]
     },
     "execution_count": 8,
     "metadata": {},
     "output_type": "execute_result"
    }
   ],
   "source": [
    "from maelzel import scoring\n",
    "from maelzel.scorestruct import ScoreStruct\n",
    "from maelzel.common import F\n",
    "from maelzel.scoring import makeNote\n",
    "from maelzel.scoring import spanner \n",
    "\n",
    "notes = [\n",
    "    makeNote(62, F(3, 4)*F(1, 2)),\n",
    "    makeNote(60, F(3, 4)*F(1, 2)),\n",
    "    makeNote(62, F(3, 4)*F(1, 2)),\n",
    "    makeNote(60, F(3, 4)*F(1, 2)),\n",
    "    \n",
    "    makeNote(61, F(2, 3)*F(1, 5)),\n",
    "    makeNote(62, F(2, 3)*F(1, 5)),\n",
    "    makeNote(63, F(2, 3)*F(1, 5)),\n",
    "    makeNote(64, F(2, 3)*F(1, 5)),\n",
    "    makeNote(65, F(2, 3)*F(1, 5)),\n",
    "    makeNote(66, F(2, 3)*F(1, 4)),\n",
    "    makeNote(67, F(2, 3)*F(1, 4)), \n",
    "    \n",
    "]\n",
    "\n",
    "struct = ScoreStruct(timesig='7/8', tempo=52)\n",
    "struct.getMeasureDef(0).subdivisionStructure = (2, 3, 2)\n",
    "\n",
    "part = scoring.UnquantizedPart(notes)\n",
    "quantprofile = scoring.quant.QuantizationProfile.fromPreset('high', debug=True, debugMaxDivisions=20, maxDivPenalty=0.1)\n",
    "quantprofile.maxGridDensity = 32\n",
    "quantprofile.mergeTupletsOfDifferentDuration = True\n",
    "qpart = scoring.quant.quantizePart(part, struct=struct, quantprofile=quantprofile)\n",
    "options = scoring.render.RenderOptions()\n",
    "score = scoring.quant.QuantizedScore([qpart])\n",
    "r = scoring.render.renderQuantizedScore(score, options)\n",
    "#score.dump()\n",
    "r# .write('~/tmp/quant.ly')"
   ]
  },
  {
   "cell_type": "code",
   "execution_count": 9,
   "id": "486f546a-5b2d-4514-8c49-ad3b42a5b287",
   "metadata": {},
   "outputs": [
    {
     "name": "stdout",
     "output_type": "stream",
     "text": [
      "Beat: 0 - 1 (dur: 1)\n",
      "Best 5 divisions: (quantized in 23.0ms)\n"
     ]
    },
    {
     "data": {
      "text/html": [
       "<table>\n",
       "<thead>\n",
       "<tr><th>error  </th><th>div      </th><th>snapped                                                                        </th><th>slots    </th><th>info                                                                                                                                                                            </th></tr>\n",
       "</thead>\n",
       "<tbody>\n",
       "<tr><td>0.003  </td><td>(1, 1, 3)</td><td>[«0.000:0.667 2/3♩ 4C», «0.667:0.889 2/9♩ 4C#», «0.889:1.000 1/9♩ 4D tiedNext»]</td><td>[0, 2, 4]</td><td>gridError=0, rhythmComplexity=0 (numNotesAcrossSubdivs=0, numTies=0), divPenalty=0.03 (0.0003, divPenalty=0, cardinalityPenalty=0, numSubdivsPenalty=0, levelPenalty=0.03)      </td></tr>\n",
       "<tr><td>0.004  </td><td>(9,)     </td><td>[«0.000:0.667 2/3♩ 4C», «0.667:0.889 2/9♩ 4C#», «0.889:1.000 1/9♩ 4D tiedNext»]</td><td>[0, 6, 8]</td><td>gridError=0, rhythmComplexity=0 (numNotesAcrossSubdivs=0, numTies=0), divPenalty=0.04 (0.0004, divPenalty=0.04, cardinalityPenalty=0, numSubdivsPenalty=0, levelPenalty=0)      </td></tr>\n",
       "<tr><td>0.10083</td><td>(8,)     </td><td>[«0.000:0.625 5/8♩ 4C», «0.625:0.875 1/4♩ 4C#», «0.875:1.000 1/8♩ 4D tiedNext»]</td><td>[0, 5, 7]</td><td>gridError=0.1, rhythmComplexity=0.298 (numNotesAcrossSubdivs=0, numTies=1), divPenalty=0.02 (0.0002, divPenalty=0.02, cardinalityPenalty=0, numSubdivsPenalty=0, levelPenalty=0)</td></tr>\n",
       "<tr><td>0.11005</td><td>(6,)     </td><td>[«0.000:0.667 2/3♩ 4C», «0.667:0.833 1/6♩ 4C#», «0.833:1.000 1/6♩ 4D tiedNext»]</td><td>[0, 4, 5]</td><td>gridError=0.11, rhythmComplexity=0 (numNotesAcrossSubdivs=0, numTies=0), divPenalty=0.02 (0.0002, divPenalty=0.02, cardinalityPenalty=0, numSubdivsPenalty=0, levelPenalty=0)   </td></tr>\n",
       "<tr><td>0.22696</td><td>(5,)     </td><td>[«0.000:0.600 3/5♩ 4C», «0.600:0.800 1/5♩ 4C#», «0.800:1.000 1/5♩ 4D tiedNext»]</td><td>[0, 3, 4]</td><td>gridError=0.227, rhythmComplexity=0 (numNotesAcrossSubdivs=0, numTies=0), divPenalty=0.02 (0.0002, divPenalty=0.02, cardinalityPenalty=0, numSubdivsPenalty=0, levelPenalty=0)  </td></tr>\n",
       "</tbody>\n",
       "</table>"
      ],
      "text/plain": [
       "<IPython.core.display.HTML object>"
      ]
     },
     "metadata": {},
     "output_type": "display_data"
    },
    {
     "name": "stdout",
     "output_type": "stream",
     "text": [
      "Beat: 1 - 2 (dur: 1)\n",
      "Best 5 divisions: (quantized in 23.7ms)\n"
     ]
    },
    {
     "data": {
      "text/html": [
       "<table>\n",
       "<thead>\n",
       "<tr><th>error  </th><th>div      </th><th>snapped                                                                        </th><th>slots    </th><th>info                                                                                                                                                                            </th></tr>\n",
       "</thead>\n",
       "<tbody>\n",
       "<tr><td>0.003  </td><td>(3, 1, 1)</td><td>[«0.000:0.111 1/9♩ 4D tiedPrev», «0.111:0.333 2/9♩ 4D#», «0.333:1.000 2/3♩ 4E»]</td><td>[0, 1, 3]</td><td>gridError=0, rhythmComplexity=0 (numNotesAcrossSubdivs=0, numTies=0), divPenalty=0.03 (0.0003, divPenalty=0, cardinalityPenalty=0, numSubdivsPenalty=0, levelPenalty=0.03)      </td></tr>\n",
       "<tr><td>0.004  </td><td>(9,)     </td><td>[«0.000:0.111 1/9♩ 4D tiedPrev», «0.111:0.333 2/9♩ 4D#», «0.333:1.000 2/3♩ 4E»]</td><td>[0, 1, 3]</td><td>gridError=0, rhythmComplexity=0 (numNotesAcrossSubdivs=0, numTies=0), divPenalty=0.04 (0.0004, divPenalty=0.04, cardinalityPenalty=0, numSubdivsPenalty=0, levelPenalty=0)      </td></tr>\n",
       "<tr><td>0.10083</td><td>(8,)     </td><td>[«0.000:0.125 1/8♩ 4D tiedPrev», «0.125:0.375 1/4♩ 4D#», «0.375:1.000 5/8♩ 4E»]</td><td>[0, 1, 3]</td><td>gridError=0.1, rhythmComplexity=0.298 (numNotesAcrossSubdivs=0, numTies=1), divPenalty=0.02 (0.0002, divPenalty=0.02, cardinalityPenalty=0, numSubdivsPenalty=0, levelPenalty=0)</td></tr>\n",
       "<tr><td>0.11005</td><td>(6,)     </td><td>[«0.000:0.167 1/6♩ 4D tiedPrev», «0.167:0.333 1/6♩ 4D#», «0.333:1.000 2/3♩ 4E»]</td><td>[0, 1, 2]</td><td>gridError=0.11, rhythmComplexity=0 (numNotesAcrossSubdivs=0, numTies=0), divPenalty=0.02 (0.0002, divPenalty=0.02, cardinalityPenalty=0, numSubdivsPenalty=0, levelPenalty=0)   </td></tr>\n",
       "<tr><td>0.22696</td><td>(5,)     </td><td>[«0.000:0.200 1/5♩ 4D tiedPrev», «0.200:0.400 1/5♩ 4D#», «0.400:1.000 3/5♩ 4E»]</td><td>[0, 1, 2]</td><td>gridError=0.227, rhythmComplexity=0 (numNotesAcrossSubdivs=0, numTies=0), divPenalty=0.02 (0.0002, divPenalty=0.02, cardinalityPenalty=0, numSubdivsPenalty=0, levelPenalty=0)  </td></tr>\n",
       "</tbody>\n",
       "</table>"
      ],
      "text/plain": [
       "<IPython.core.display.HTML object>"
      ]
     },
     "metadata": {},
     "output_type": "display_data"
    },
    {
     "data": {
      "text/html": [
       "<b>LilypondRenderer</b> (1 part)<br>\n",
       "        <img style=\"display:inline; padding:10px;\n",
       "margin-top:14px;\n",
       "width:480px\"\n",
       "             src=\"data:image/png;base64,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\"/>"
      ],
      "text/plain": [
       "<maelzel.scoring.renderlily.LilypondRenderer at 0x7f193ba46b80>"
      ]
     },
     "execution_count": 9,
     "metadata": {},
     "output_type": "execute_result"
    }
   ],
   "source": [
    "from maelzel import scoring\n",
    "from maelzel.scorestruct import ScoreStruct\n",
    "from maelzel.common import F\n",
    "from maelzel.scoring import makeNote\n",
    "from maelzel.scoring import spanner \n",
    "\n",
    "notes = [\n",
    "    makeNote(60, F(2, 3)),\n",
    "    makeNote(61, F(2, 9)),\n",
    "    makeNote(62, F(2, 9)),\n",
    "    makeNote(63, F(2, 9)),\n",
    "    makeNote(64, F(2, 3)),\n",
    "    \n",
    "]\n",
    "\n",
    "struct = ScoreStruct(timesig='3/4', tempo=52)\n",
    "\n",
    "part = scoring.UnquantizedPart(notes)\n",
    "quantprofile = scoring.quant.QuantizationProfile.fromPreset('high', debug=True, debugMaxDivisions=20, maxDivPenalty=0.1)\n",
    "quantprofile.maxGridDensity = 32\n",
    "quantprofile.mergeTupletsOfDifferentDuration = True\n",
    "qpart = scoring.quant.quantizePart(part, struct=struct, quantprofile=quantprofile)\n",
    "options = scoring.render.RenderOptions()\n",
    "score = scoring.quant.QuantizedScore([qpart])\n",
    "r = scoring.render.renderQuantizedScore(score, options)\n",
    "#score.dump()\n",
    "r# .write('~/tmp/quant.ly')"
   ]
  },
  {
   "cell_type": "code",
   "execution_count": 10,
   "id": "e60f673d-d3d7-48c8-8cf4-b6fec35c6677",
   "metadata": {},
   "outputs": [
    {
     "name": "stdout",
     "output_type": "stream",
     "text": [
      "Beat: 0 - 1 (dur: 1)\n",
      "Best 5 divisions: (quantized in 29.8ms)\n"
     ]
    },
    {
     "data": {
      "text/html": [
       "<table>\n",
       "<thead>\n",
       "<tr><th>error  </th><th>div      </th><th>snapped                                                                        </th><th>slots    </th><th>info                                                                                                                                                                            </th></tr>\n",
       "</thead>\n",
       "<tbody>\n",
       "<tr><td>0.003  </td><td>(1, 1, 3)</td><td>[«0.000:0.667 2/3♩ 4C», «0.667:0.889 2/9♩ 4C#», «0.889:1.000 1/9♩ 4D tiedNext»]</td><td>[0, 2, 4]</td><td>gridError=0, rhythmComplexity=0 (numNotesAcrossSubdivs=0, numTies=0), divPenalty=0.03 (0.0003, divPenalty=0, cardinalityPenalty=0, numSubdivsPenalty=0, levelPenalty=0.03)      </td></tr>\n",
       "<tr><td>0.004  </td><td>(9,)     </td><td>[«0.000:0.667 2/3♩ 4C», «0.667:0.889 2/9♩ 4C#», «0.889:1.000 1/9♩ 4D tiedNext»]</td><td>[0, 6, 8]</td><td>gridError=0, rhythmComplexity=0 (numNotesAcrossSubdivs=0, numTies=0), divPenalty=0.04 (0.0004, divPenalty=0.04, cardinalityPenalty=0, numSubdivsPenalty=0, levelPenalty=0)      </td></tr>\n",
       "<tr><td>0.10083</td><td>(8,)     </td><td>[«0.000:0.625 5/8♩ 4C», «0.625:0.875 1/4♩ 4C#», «0.875:1.000 1/8♩ 4D tiedNext»]</td><td>[0, 5, 7]</td><td>gridError=0.1, rhythmComplexity=0.298 (numNotesAcrossSubdivs=0, numTies=1), divPenalty=0.02 (0.0002, divPenalty=0.02, cardinalityPenalty=0, numSubdivsPenalty=0, levelPenalty=0)</td></tr>\n",
       "<tr><td>0.11005</td><td>(6,)     </td><td>[«0.000:0.667 2/3♩ 4C», «0.667:0.833 1/6♩ 4C#», «0.833:1.000 1/6♩ 4D tiedNext»]</td><td>[0, 4, 5]</td><td>gridError=0.11, rhythmComplexity=0 (numNotesAcrossSubdivs=0, numTies=0), divPenalty=0.02 (0.0002, divPenalty=0.02, cardinalityPenalty=0, numSubdivsPenalty=0, levelPenalty=0)   </td></tr>\n",
       "<tr><td>0.22696</td><td>(5,)     </td><td>[«0.000:0.600 3/5♩ 4C», «0.600:0.800 1/5♩ 4C#», «0.800:1.000 1/5♩ 4D tiedNext»]</td><td>[0, 3, 4]</td><td>gridError=0.227, rhythmComplexity=0 (numNotesAcrossSubdivs=0, numTies=0), divPenalty=0.02 (0.0002, divPenalty=0.02, cardinalityPenalty=0, numSubdivsPenalty=0, levelPenalty=0)  </td></tr>\n",
       "</tbody>\n",
       "</table>"
      ],
      "text/plain": [
       "<IPython.core.display.HTML object>"
      ]
     },
     "metadata": {},
     "output_type": "display_data"
    },
    {
     "name": "stdout",
     "output_type": "stream",
     "text": [
      "Beat: 1 - 2 (dur: 1)\n",
      "Best 5 divisions: (quantized in 8.3ms)\n"
     ]
    },
    {
     "data": {
      "text/html": [
       "<table>\n",
       "<thead>\n",
       "<tr><th>error  </th><th>div      </th><th>snapped                                                                                                                                                                     </th><th>slots       </th><th>info                                                                                                                                                                              </th></tr>\n",
       "</thead>\n",
       "<tbody>\n",
       "<tr><td>0.003  </td><td>(3, 1, 1)</td><td>[«0.000:0.111 1/9♩ 4D tiedPrev», «0.111:0.222 1/9♩ 4D#», «0.222:0.333 1/9♩ 4E», «0.333:1.000 2/3♩ 4F»]                                                                      </td><td>[0, 1, 2, 3]</td><td>gridError=0, rhythmComplexity=0 (numNotesAcrossSubdivs=0, numTies=0), divPenalty=0.03 (0.0003, divPenalty=0, cardinalityPenalty=0, numSubdivsPenalty=0, levelPenalty=0.03)        </td></tr>\n",
       "<tr><td>0.004  </td><td>(9,)     </td><td>[«0.000:0.111 1/9♩ 4D tiedPrev», «0.111:0.222 1/9♩ 4D#», «0.222:0.333 1/9♩ 4E», «0.333:1.000 2/3♩ 4F»]                                                                      </td><td>[0, 1, 2, 3]</td><td>gridError=0, rhythmComplexity=0 (numNotesAcrossSubdivs=0, numTies=0), divPenalty=0.04 (0.0004, divPenalty=0.04, cardinalityPenalty=0, numSubdivsPenalty=0, levelPenalty=0)        </td></tr>\n",
       "<tr><td>0.13093</td><td>(8,)     </td><td>[«0.000:0.125 1/8♩ 4D tiedPrev», «0.125:0.250 1/8♩ 4D#», «0.250:0.375 1/8♩ 4E», «0.375:1.000 5/8♩ 4F»]                                                                      </td><td>[0, 1, 2, 3]</td><td>gridError=0.131, rhythmComplexity=0.224 (numNotesAcrossSubdivs=0, numTies=1), divPenalty=0.02 (0.0002, divPenalty=0.02, cardinalityPenalty=0, numSubdivsPenalty=0, levelPenalty=0)</td></tr>\n",
       "<tr><td>0.16416</td><td>(6,)     </td><td>[«0.000:0.167 1/6♩ 4D tiedPrev», «0.167:grace 4D# properties={&#x27;.snappedGracenote&#x27;: True, &#x27;originalDuration&#x27;: Fraction(1, 9)}», «0.167:0.333 1/6♩ 4E», «0.333:1.000 2/3♩ 4F»]</td><td>[0, 1, 1, 2]</td><td>gridError=0.164, rhythmComplexity=0 (numNotesAcrossSubdivs=0, numTies=0), divPenalty=0.02 (0.0002, divPenalty=0.02, cardinalityPenalty=0, numSubdivsPenalty=0, levelPenalty=0)    </td></tr>\n",
       "<tr><td>0.25138</td><td>(5,)     </td><td>[«0.000:0.200 1/5♩ 4D tiedPrev», «0.200:grace 4D# properties={&#x27;.snappedGracenote&#x27;: True, &#x27;originalDuration&#x27;: Fraction(1, 9)}», «0.200:0.400 1/5♩ 4E», «0.400:1.000 3/5♩ 4F»]</td><td>[0, 1, 1, 2]</td><td>gridError=0.251, rhythmComplexity=0 (numNotesAcrossSubdivs=0, numTies=0), divPenalty=0.02 (0.0002, divPenalty=0.02, cardinalityPenalty=0, numSubdivsPenalty=0, levelPenalty=0)    </td></tr>\n",
       "</tbody>\n",
       "</table>"
      ],
      "text/plain": [
       "<IPython.core.display.HTML object>"
      ]
     },
     "metadata": {},
     "output_type": "display_data"
    },
    {
     "data": {
      "text/html": [
       "<b>LilypondRenderer</b> (1 part)<br>\n",
       "        <img style=\"display:inline; padding:10px;\n",
       "margin-top:14px;\n",
       "width:524px\"\n",
       "             src=\"data:image/png;base64,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\"/>"
      ],
      "text/plain": [
       "<maelzel.scoring.renderlily.LilypondRenderer at 0x7f193b93f9a0>"
      ]
     },
     "execution_count": 10,
     "metadata": {},
     "output_type": "execute_result"
    }
   ],
   "source": [
    "from maelzel import scoring\n",
    "from maelzel.scorestruct import ScoreStruct\n",
    "from maelzel.common import F\n",
    "from maelzel.scoring import makeNote\n",
    "from maelzel.scoring import spanner \n",
    "\n",
    "notes = [\n",
    "    makeNote(60, F(2, 3)),\n",
    "    makeNote(61, F(2, 9)),\n",
    "    makeNote(62, F(2, 9)),\n",
    "    makeNote(63, F(1, 9)),\n",
    "    makeNote(64, F(1, 9)),\n",
    "    \n",
    "    makeNote(65, F(2, 3)),\n",
    "    \n",
    "]\n",
    "\n",
    "struct = ScoreStruct(timesig='3/4', tempo=52)\n",
    "\n",
    "part = scoring.UnquantizedPart(notes)\n",
    "quantprofile = scoring.quant.QuantizationProfile.fromPreset('high', debug=True, debugMaxDivisions=20, maxDivPenalty=0.1)\n",
    "quantprofile.maxGridDensity = 32\n",
    "quantprofile.mergeTupletsOfDifferentDuration = True\n",
    "qpart = scoring.quant.quantizePart(part, struct=struct, quantprofile=quantprofile)\n",
    "options = scoring.render.RenderOptions()\n",
    "score = scoring.quant.QuantizedScore([qpart])\n",
    "r = scoring.render.renderQuantizedScore(score, options)\n",
    "#score.dump()\n",
    "r# .write('~/tmp/quant.ly')"
   ]
  },
  {
   "cell_type": "code",
   "execution_count": 11,
   "id": "5d304887-fdfe-4def-963c-3226f7bd1280",
   "metadata": {},
   "outputs": [
    {
     "name": "stdout",
     "output_type": "stream",
     "text": [
      "Beat: 0 - 1 (dur: 1)\n",
      "Best 2 divisions: (quantized in 906.5µs)\n"
     ]
    },
    {
     "data": {
      "text/html": [
       "<table>\n",
       "<thead>\n",
       "<tr><th>error  </th><th>div  </th><th>snapped                                         </th><th>slots  </th><th>info                                                                                                                                                                          </th></tr>\n",
       "</thead>\n",
       "<tbody>\n",
       "<tr><td>0      </td><td>(3,) </td><td>[«0.000:0.333 1/3♩ rest», «0.333:1.000 2/3♩ 4C»]</td><td>[0, 1] </td><td>gridError=0, rhythmComplexity=0 (numNotesAcrossSubdivs=0, numTies=0), divPenalty=0 (0, divPenalty=0, cardinalityPenalty=0, numSubdivsPenalty=0, levelPenalty=0)               </td></tr>\n",
       "<tr><td>0.12849</td><td>(5,) </td><td>[«0.000:0.400 2/5♩ rest», «0.400:1.000 3/5♩ 4C»]</td><td>[0, 2] </td><td>gridError=0.128, rhythmComplexity=0 (numNotesAcrossSubdivs=0, numTies=0), divPenalty=0.02 (0.0002, divPenalty=0.02, cardinalityPenalty=0, numSubdivsPenalty=0, levelPenalty=0)</td></tr>\n",
       "</tbody>\n",
       "</table>"
      ],
      "text/plain": [
       "<IPython.core.display.HTML object>"
      ]
     },
     "metadata": {},
     "output_type": "display_data"
    },
    {
     "name": "stdout",
     "output_type": "stream",
     "text": [
      "Beat: 1 - 2 (dur: 1)\n",
      "Best 5 divisions: (quantized in 27.5ms)\n"
     ]
    },
    {
     "data": {
      "text/html": [
       "<table>\n",
       "<thead>\n",
       "<tr><th>error  </th><th>div      </th><th>snapped                                                                </th><th>slots    </th><th>info                                                                                                                                                                            </th></tr>\n",
       "</thead>\n",
       "<tbody>\n",
       "<tr><td>0.003  </td><td>(1, 1, 3)</td><td>[«0.000:0.667 2/3♩ 4C#», «0.667:0.889 2/9♩ 4D», «0.889:1.000 1/9♩ 4D#»]</td><td>[0, 2, 4]</td><td>gridError=0, rhythmComplexity=0 (numNotesAcrossSubdivs=0, numTies=0), divPenalty=0.03 (0.0003, divPenalty=0, cardinalityPenalty=0, numSubdivsPenalty=0, levelPenalty=0.03)      </td></tr>\n",
       "<tr><td>0.004  </td><td>(9,)     </td><td>[«0.000:0.667 2/3♩ 4C#», «0.667:0.889 2/9♩ 4D», «0.889:1.000 1/9♩ 4D#»]</td><td>[0, 6, 8]</td><td>gridError=0, rhythmComplexity=0 (numNotesAcrossSubdivs=0, numTies=0), divPenalty=0.04 (0.0004, divPenalty=0.04, cardinalityPenalty=0, numSubdivsPenalty=0, levelPenalty=0)      </td></tr>\n",
       "<tr><td>0.10083</td><td>(8,)     </td><td>[«0.000:0.625 5/8♩ 4C#», «0.625:0.875 1/4♩ 4D», «0.875:1.000 1/8♩ 4D#»]</td><td>[0, 5, 7]</td><td>gridError=0.1, rhythmComplexity=0.298 (numNotesAcrossSubdivs=0, numTies=1), divPenalty=0.02 (0.0002, divPenalty=0.02, cardinalityPenalty=0, numSubdivsPenalty=0, levelPenalty=0)</td></tr>\n",
       "<tr><td>0.11005</td><td>(6,)     </td><td>[«0.000:0.667 2/3♩ 4C#», «0.667:0.833 1/6♩ 4D», «0.833:1.000 1/6♩ 4D#»]</td><td>[0, 4, 5]</td><td>gridError=0.11, rhythmComplexity=0 (numNotesAcrossSubdivs=0, numTies=0), divPenalty=0.02 (0.0002, divPenalty=0.02, cardinalityPenalty=0, numSubdivsPenalty=0, levelPenalty=0)   </td></tr>\n",
       "<tr><td>0.22696</td><td>(5,)     </td><td>[«0.000:0.600 3/5♩ 4C#», «0.600:0.800 1/5♩ 4D», «0.800:1.000 1/5♩ 4D#»]</td><td>[0, 3, 4]</td><td>gridError=0.227, rhythmComplexity=0 (numNotesAcrossSubdivs=0, numTies=0), divPenalty=0.02 (0.0002, divPenalty=0.02, cardinalityPenalty=0, numSubdivsPenalty=0, levelPenalty=0)  </td></tr>\n",
       "</tbody>\n",
       "</table>"
      ],
      "text/plain": [
       "<IPython.core.display.HTML object>"
      ]
     },
     "metadata": {},
     "output_type": "display_data"
    },
    {
     "name": "stdout",
     "output_type": "stream",
     "text": [
      "Beat: 2 - 3 (dur: 1)\n",
      "Best 5 divisions: (quantized in 7.0ms)\n"
     ]
    },
    {
     "data": {
      "text/html": [
       "<table>\n",
       "<thead>\n",
       "<tr><th>error   </th><th>div  </th><th>snapped                                         </th><th>slots  </th><th>info                                                                                                                                                                               </th></tr>\n",
       "</thead>\n",
       "<tbody>\n",
       "<tr><td>0.004   </td><td>(9,) </td><td>[«0.000:0.111 1/9♩ 4E», «0.111:1.000 8/9♩ rest»]</td><td>[0, 1] </td><td>gridError=0, rhythmComplexity=0 (numNotesAcrossSubdivs=0, numTies=0), divPenalty=0.04 (0.0004, divPenalty=0.04, cardinalityPenalty=0, numSubdivsPenalty=0, levelPenalty=0)         </td></tr>\n",
       "<tr><td>0.027006</td><td>(8,) </td><td>[«0.000:0.125 1/8♩ 4E», «0.125:1.000 7/8♩ rest»]</td><td>[0, 1] </td><td>gridError=0.0269, rhythmComplexity=0 (numNotesAcrossSubdivs=0, numTies=0), divPenalty=0.02 (0.0002, divPenalty=0.02, cardinalityPenalty=0, numSubdivsPenalty=0, levelPenalty=0)    </td></tr>\n",
       "<tr><td>0.054417</td><td>(7,) </td><td>[«0.000:0.143 1/7♩ 4E», «0.143:1.000 6/7♩ rest»]</td><td>[0, 1] </td><td>gridError=0.0544, rhythmComplexity=0 (numNotesAcrossSubdivs=0, numTies=0), divPenalty=0.02 (0.0002, divPenalty=0.02, cardinalityPenalty=0, numSubdivsPenalty=0, levelPenalty=0)    </td></tr>\n",
       "<tr><td>0.088661</td><td>(6,) </td><td>[«0.000:0.167 1/6♩ 4E», «0.167:1.000 5/6♩ rest»]</td><td>[0, 1] </td><td>gridError=0.0875, rhythmComplexity=0.447 (numNotesAcrossSubdivs=0, numTies=1), divPenalty=0.02 (0.0002, divPenalty=0.02, cardinalityPenalty=0, numSubdivsPenalty=0, levelPenalty=0)</td></tr>\n",
       "<tr><td>0.13049 </td><td>(5,) </td><td>[«0.000:0.200 1/5♩ 4E», «0.200:1.000 4/5♩ rest»]</td><td>[0, 1] </td><td>gridError=0.13, rhythmComplexity=0 (numNotesAcrossSubdivs=0, numTies=0), divPenalty=0.02 (0.0002, divPenalty=0.02, cardinalityPenalty=0, numSubdivsPenalty=0, levelPenalty=0)      </td></tr>\n",
       "</tbody>\n",
       "</table>"
      ],
      "text/plain": [
       "<IPython.core.display.HTML object>"
      ]
     },
     "metadata": {},
     "output_type": "display_data"
    },
    {
     "data": {
      "text/html": [
       "<b>LilypondRenderer</b> (1 part)<br>\n",
       "        <img style=\"display:inline; padding:10px;\n",
       "margin-top:14px;\n",
       "width:526px\"\n",
       "             src=\"data:image/png;base64,iVBORw0KGgoAAAANSUhEUgAAApIAAACICAIAAADbOJzlAAAJLmlDQ1BJQ0MgUHJvZmlsZQAAeJyVlWdQk1kXx+/zPOmFQBJCh1BDkSolgJQQWijSq6hA6J1QRWyIuAIriog0RZBFARdclSJrRRQLi4ICFnSDLALKunEVUUFZcN8ZnfcdP7z/mXvPb/5z5t5zz/lwASCIg2XBy3tiUrrA28mOGRgUzATfKIyflsLx9HQD39W7EQCtxHu638/5rggRkWn85bi4vHL5KYJ0AKDsZdbMSk9Z4aPLTA+P/8JnV1iwXOAy31jh6H957EvOvyz6kuPrzV1+FQoAHCn6Gw7/hv9z74pUOIL02KjIbKZPclR6Vpggkpm20gkel8v0FCRHxSZEflPw/5X8HaVHZqevRG5yyiZBbHRMOvN/DjUyMDQEX2fxxutLjyFG/3/PZ0VfveR6ANhzACD7vnrhlQB07gJA+tFXT225r5R8ADru8DMEmf96qJUNDQiAAuhABigCVaAJdIERMAOWwBY4ABfgAXxBENgA+CAGJAIByAK5YAcoAEVgHzgIqkAtaABNoBWcBp3gPLgCroPb4C4YBo+BEEyCl0AE3oEFCIKwEBmiQTKQEqQO6UBGEBuyhhwgN8gbCoJCoWgoCcqAcqGdUBFUClVBdVAT9At0DroC3YQGoYfQODQD/Q19hBGYBNNhBVgD1ofZMAd2hX3h9XA0nArnwPnwXrgCrodPwh3wFfg2PAwL4ZfwHAIQIsJAlBFdhI1wEQ8kGIlCBMhWpBApR+qRVqQb6UPuIUJkFvmAwqBoKCZKF2WJckb5ofioVNRWVDGqCnUC1YHqRd1DjaNEqM9oMloerYO2QPPQgehodBa6AF2ObkS3o6+hh9GT6HcYDIaBYWHMMM6YIEwcZjOmGHMY04a5jBnETGDmsFisDFYHa4X1wIZh07EF2ErsSewl7BB2EvseR8Qp4YxwjrhgXBIuD1eOa8ZdxA3hpnALeHG8Ot4C74GPwG/Cl+Ab8N34O/hJ/AJBgsAiWBF8CXGEHYQKQivhGmGM8IZIJKoQzYlexFjidmIF8RTxBnGc+IFEJWmTuKQQUgZpL+k46TLpIekNmUzWINuSg8np5L3kJvJV8lPyezGamJ4YTyxCbJtYtViH2JDYKwqeok7hUDZQcijllDOUO5RZcby4hjhXPEx8q3i1+DnxUfE5CZqEoYSHRKJEsUSzxE2JaSqWqkF1oEZQ86nHqFepEzSEpkrj0vi0nbQG2jXaJB1DZ9F59Dh6Ef1n+gBdJEmVNJb0l8yWrJa8IClkIAwNBo+RwChhnGaMMD5KKUhxpCKl9ki1Sg1JzUvLSdtKR0oXSrdJD0t/lGHKOMjEy+yX6ZR5IouS1Zb1ks2SPSJ7TXZWji5nKceXK5Q7LfdIHpbXlveW3yx/TL5ffk5BUcFJIUWhUuGqwqwiQ9FWMU6xTPGi4owSTclaKVapTOmS0gumJJPDTGBWMHuZImV5ZWflDOU65QHlBRWWip9KnkqbyhNVgipbNUq1TLVHVaSmpOaulqvWovZIHa/OVo9RP6Tepz6vwdII0Nit0akxzZJm8Vg5rBbWmCZZ00YzVbNe874WRoutFa91WOuuNqxtoh2jXa19RwfWMdWJ1TmsM7gKvcp8VdKq+lWjuiRdjm6mbovuuB5Dz00vT69T75W+mn6w/n79Pv3PBiYGCQYNBo8NqYYuhnmG3YZ/G2kb8Y2qje6vJq92XL1tddfq18Y6xpHGR4wfmNBM3E12m/SYfDI1MxWYtprOmKmZhZrVmI2y6WxPdjH7hjna3M58m/l58w8WphbpFqct/rLUtYy3bLacXsNaE7mmYc2ElYpVmFWdldCaaR1qfdRaaKNsE2ZTb/PMVtU2wrbRdoqjxYnjnOS8sjOwE9i1281zLbhbuJftEXsn+0L7AQeqg59DlcNTRxXHaMcWR5GTidNmp8vOaGdX5/3OozwFHp/XxBO5mLlscel1Jbn6uFa5PnPTdhO4dbvD7i7uB9zH1qqvTVrb6QE8eB4HPJ54sjxTPX/1wnh5elV7Pfc29M717vOh+Wz0afZ552vnW+L72E/TL8Ovx5/iH+Lf5D8fYB9QGiAM1A/cEng7SDYoNqgrGBvsH9wYPLfOYd3BdZMhJiEFISPrWeuz19/cILshYcOFjZSNYRvPhKJDA0KbQxfDPMLqw+bCeeE14SI+l3+I/zLCNqIsYibSKrI0cirKKqo0ajraKvpA9EyMTUx5zGwsN7Yq9nWcc1xt3Hy8R/zx+KWEgIS2RFxiaOK5JGpSfFJvsmJydvJgik5KQYow1SL1YKpI4CpoTIPS1qd1pdOXP8X+DM2MXRnjmdaZ1Znvs/yzzmRLZCdl92/S3rRn01SOY85Pm1Gb+Zt7cpVzd+SOb+FsqdsKbQ3f2rNNdVv+tsntTttP7CDsiN/xW55BXmne250BO7vzFfK350/sctrVUiBWICgY3W25u/YH1A+xPwzsWb2ncs/nwojCW0UGReVFi8X84ls/Gv5Y8ePS3qi9AyWmJUf2YfYl7RvZb7P/RKlEaU7pxAH3Ax1lzLLCsrcHNx68WW5cXnuIcCjjkLDCraKrUq1yX+ViVUzVcLVddVuNfM2emvnDEYeHjtgeaa1VqC2q/Xg09uiDOqe6jnqN+vJjmGOZx543+Df0/cT+qalRtrGo8dPxpOPCE94nepvMmpqa5ZtLWuCWjJaZkyEn7/5s/3NXq25rXRujregUOJVx6sUvob+MnHY93XOGfab1rPrZmnZae2EH1LGpQ9QZ0ynsCuoaPOdyrqfbsrv9V71fj59XPl99QfJCyUXCxfyLS5dyLs1dTrk8eyX6ykTPxp7HVwOv3u/16h245nrtxnXH61f7OH2XbljdOH/T4ua5W+xbnbdNb3f0m/S3/2byW/uA6UDHHbM7XXfN73YPrhm8OGQzdOWe/b3r93n3bw+vHR4c8Rt5MBoyKnwQ8WD6YcLD148yHy083j6GHit8Iv6k/Kn80/rftX5vE5oKL4zbj/c/83n2eII/8fKPtD8WJ/Ofk5+XTylNNU0bTZ+fcZy5+2Ldi8mXKS8XZgv+lPiz5pXmq7N/2f7VLwoUTb4WvF76u/iNzJvjb43f9sx5zj19l/huYb7wvcz7Ex/YH/o+BnycWshaxC5WfNL61P3Z9fPYUuLS0j9CLJC+ERlPpwAAHzxJREFUeJzt3c2P29bVP/DrwEbsNk5ILfxSFxhLk8e1UaRpxbHdnQ2ISpFNuxnJizZGFxEH6KZAUYj6E0gVfQtQA6K6SYEuLA6CdtFFSwpwFy1gV1RstAs3tqgxUANjL0S5SeAxEmCexfmFD3+kpNELRYnU97OyOZrhJSXx8F6ee+6h/f19ljjXrl1rNBqGYYiiuOi2AAAAhOalRTcAAAAAxoWwDQAAEBsI2wAAALGBsA0AABAbCNsAAACxgbANAAAQGwjbAAAAsYGwDQAAEBsI2wAAALGBsA0AABAbCNsAAACxgbANAAAQGwjbAAAAsYGwDQAAEBsI2wAAALGBsA0AABAbCNsAAACxgbANAAAQG4cX3YB443leFMVMJrOxscHzPG00DMM0TU3TBEFwX+k4jqIopmm2223GWDqdFkWxUqlkMpnFNB0AAGIIYXsm/X5/e3s7uL1UKnljtmVZoigWCgVVVUVRtCyrVqvV63Vd11VVlSQpwiYDAECMYZA8ZBzHlctlTdPcLY7jiKIoSZKmaaIoMsYEQdA0rVQq9fv9ra0t27YX114AAIgT9LanZ5omY6zVajHGHMehjRSYvTRN6/f7lUrFt31ra6terzPGFEXxhnkAAIBhELZn5R0MH4jiOo2Qe1/s/hu9bQAAGBMGyafn9rBHo1S1ZrNZKBS82y3LmkuzAAAguZLQ27ZtW9f1VqtFcTSfz3/yyScR7LfVamWzWcdxdF3vdDqMsfX1dUos976sWCzSYLgPjbEzxpBMDgAAY4p32LZtW1EUX1BsNptHjhyJrAGpVCqbzfI8b9t2t9tljJXLZVVV3deIomgYhmEYW1tb3t+t1Wr0j2KxGE1rAebHsizHcXieP/CxEQDMZD+2Go0Gx3EjDu2DDz4Y+Iu5XG6cM2MYxoi993o9juOy2Wyn03E3KopCv1sqlUY3vlwu0yvL5fIUxw6wPBqNRjqdzuVyuVyO47h0Ot1qtRbdKIDEimvYdruqI7z77rsDfzeUsG0YBmNMURTf9lKpdOCvNxqNMaM7wJKjL4L7aacEzHQ6vdhWASRYLFPSbNuWZfnAl33pS18auN00zXFOTXAqlxcNfQeb4Y6Eu7HZx7Isqq/im94NEEcUtt3baEEQcrlct9t1UzcAIFyxfLatKEq/3z/wZV//+tfn2oyBcX30tC4ql8YYazQavsRygDhKpVK+LZjQCDBXsextj3kjP9e4aFlWJpPJZDLjz+OimE2/4rZtzJEDgOUky3Kr1dJ1nf5rmma326WS+4ttGEBSxbK3TQnbo5XLZXdtDx9RFJvN5oF/wTCMEZceRVGoGY1GY5zUWSpxmslkTNP0NkzXdUzgToYbN26cO3du0a2Yo2FZ4t4RJlmWOY5zo7iP4zhJ/bR/9NFHb7/9djqdXnRDIPliGbY5jhs9SJ7NZr1TsObBrbWysbHh3e5elfL5vPfFA2M2Y4wmfEPcffWrX338+PGiWzF3A+9lLcva2NjIZrPtdrtcLlcqlWF3zIIgjHPPHVNnzpz5z3/+s+hWQPLFMmxLklStVof9dHNzc3Sql6qq4xQ4G92HzmQyzWYz+IiaMtE4jvOu61UoFOiK5s4Qc9Xr9c3NzQMbA0vu8OFYfpVCIQhCq9USBEGW5Wq1mkqlhj334Xk+wWH7s88+W3QTYDXMO1V9Hnq93sBJXOl0utFoRNYGjuNKpVKv13M3utnjtVrN3ehO0R5miqnbrVbLMAzMjl0e9IHELHz6SHuLGawC+o7ncrlFNyQ6dAlatTd6ScSyi8DzvGmauq4bhkFpq4IgbGxsRJmbTW2QZTmVStElm6qk5XI535IhIwYGpqDruizLVA/Vsiye53VdR10qiB5VFC4Wi8GPn23bKNmbVKZpSpLE87woirquZzIZXdeHPRaBeYhl2CaFQmGxc6gEQTBN07Is27Zt2xYEgXLLfS/b/6ILMjvTNIvFovt8kZ4pFgoFTLmB6EmS1O/3aUUA2uI+e8JFPKl0XS8Wi6VSiR5EVioVQRAKhQKm6UcplhPAlgp9amVZDi4iEjqUtoDl0e/3OY7zVtSn+J1OpzH8k0iO40iSxHGcm/DL83yhUGg2m0mdILCcQg7bNG4c7t8EF0pbwPLI5XKSJLkjXpZljZ79BXGnaVq/36cRcnfj+vo6G7uWBoQizEFyTdOotKfjOCjbOQ/Up3e7MihtAQuk63qhUBAEQRRF27a3t7eDiR2QJFRw3oemsPZ6vcibs7pCC9tuzGaM1ev1fD6P4p3zMH5pC4C5oqxMSuxgjKmqijS0ZBs4bxbXn+iFE7a9MZtIkiSKYmIyU6rV6s9//vOzZ88eP348sp1ubW0Fb33GL21BcX2cGeozev78+cOHD7///e//4he/mPe+lha9C8GnGIk3MA1z1dD7voSXu5/85Ce///3vL1y4MF1dgUql4h3Jo2IV3kuKqqo0EZ+Gyn0sy1IUZaJL0Mcff/zgwYP33nvvBz/4wRQNXhWzzyHrdDoD171O0hzWhXwhh61+SNO1aapocOVQ14HzxcP10ksvzevsx0Gv1xu90iskm2EY3hIOS+Kll2bKXvLNRHcv9aVSqVwub25uuvUzBk7gdlcxnhTP81GdoVg6tD/z9KRhJb45jrNtewnvQKeQzWY//PDDtbW1119/PbKdDuxtex06dIgx1ul0BnZ3IuttP3z48NGjRyzUqW4AMDu6REx94fL1thljtm0rikIX9mKx6DjO1tZWNpsdmEk+RW+73W47jnPx4sU7d+5M0eBVMWPYpylJwySmw73wGliNRqNcLvvKotFJXngnz+3WL7YZAOAz7+swXRi9RSFD+YMrVW9uCrNOAAsW2Sa0Eg7yycNCZdi9ZxulLQAGsiyL6iAtuiGJQhP8vGfVtu1ms5nNZr3rL0AEZgrb9Lb5NnIcV6vVbNumdboQuUOB0hYAB6Jam7IsK4rirm2/6EYlBK0T4y3LQdEaV/jozRS2g6n/9JCD3k56Ljt6FB3GhNIWAKNR6V9N08wvdLtdTEMNl9tzkCSp2WzWajV0G6I3U9j2heRsNmuappseRYO329vbEWRFJZ6u65Zl0dqIhUJhY2ODKqLjOwNAUPp3rlRVpSUWaSkj27ZbrRaGxxdipnnb3gEojuNM0/Q+Z83n87T4lWmauOedEUpbAIyG0r9zJQiCbdt0D7S1tYXrzwLNFLb7/b77b03ThuVGtVothO1QoLQFwDAo/RsBnMxlEE6VtFwuNyIwJyArhJ7oeDPCwLW1tWVZVj6fX3RDYBnduHHj3Llzof/ZgfFjotK/lmWF+Pzuo48++tGPfhTWXwuLoiiGYfhKWC4zamqMGrwYs8wec//IwKnDjUYjlL0AQEydP39+TheugVN7aa2LbDbLGCuXyyPKlnmvTmE5c+bMPM8lwP8TwsKdw4ahvMvFICsNYAX997//jXJ3giC0Wi3LssrlcrVaHTE3aR5XpM8++yz0vwkQNFNxU6qcVyqVBn49JEmq1+v0b8Mw8FAEYNVQ5eNisTh1eephBEEYXWhodOlfFuogeb1ebzQauVwOWesQgRCebQ/78uATDACMsbNnz871rl3X9VarVSwWg/MhbdseFrZDnDy5/NUpHMexLAt9p2QIYZB8YC6SZVm0oBtBAU4AmBOU/j2Qoij5fF5V1UU3BEIQQtgeyJfxgaogADAnKP07JkxkT4j9yBdmBgAAgEl9+ctfbrfbhxljGxsb00XumzdvPnr06MqVK5cvX/Zuv3v37l/+8hf3v2+++eZ3vvOdGZs7zO3bt+/evfvs2TPvxpdffvn8+fOXL1+mRd0BYCHoEnHp0qWrV6/Oby97e3t//OMf9/b21tbWnj179u9//3ttbe3KlSunTp2a3069bt26defOnbW1tWvXrkWzx0lRC0+fPv3OO+8sui3gt7OzQ+PT3m8KfXd8r/z00093dnZmmlFNwd63mGuv16NVO10hrsbq2xFN0Mzlcp1OhzYahuEN1YlZ8BsgjqJcqL7T6RiGYRiGezWIDF0Jl3mVaGrha6+9tuiGwABuSqP3m0LfnSDDMGZ6tk1FgH1F0BRF8SajcRw3p8qmhUKh3W4zxiqVipssKoqiN+1i9NxNAJgryggLVgufh0wmI4oirdcZwe686ACXP/3t2bNnuB4mwExhm6YTeJfctiyLlg9xFQqFeXyaLcty9yvLsjfVwneX4M0vBYAoaZpmGIZ3keZEkmXZMIxYRERcDxNgprAtCAKNSLtTtIPruFUqlVl2MYy3TkK73faGat9dgrfrDwBR4nl+ReYKi6K4/L1txli3213s7YXjOJiHNqNZJ4DRd5KG5mVZplFrV7lcntOAle8bgnWxAADGIcvyAqtNa5pWqVSwUPcsZg3bVGtF13Vd133D4xzHzamrzRgTBMHNfp/rjgAAkqTf7y9wqFyW5Ww2W6/X0eee2qxhm0anu91u8O5pxArcoVBVlXJHHccZUVSBss0BAFacOxG3Wq0usPi0aZrpdLpSqYxYVhVGmDVs8zy/ubnJGOv3+97tm5ubc0og96LcUd9GX2Y7OuIAAIyxtbU1d5BSkqRFDZXzPE/P1yVJ8l2uYRyzhm3HcYIF89Lp9KKyHmzbdvv9HMcZhhHB3QMAwPJ78uSJqqq0Glu3213gULkoiul0ut/vFwoFLOs8qcOMMdu2p65V+8tf/tKXhsYY++lPfxrZPdSf/vSnX/3qVwN/9NZbbzEsRAawBD7++OMHDx4suhVz8T//8z/Hjx9fdCsOsLOzwxj75z//aZrm22+/fevWrQcPHlSr1bW1tXPnzi2kSTQLqdvtXr58+caNGwtpw5JwY+jOzo4bsHq93tBf2N/fp1FuAAAAWGaqqh7a39+npVgn/eWB3dxisUgjMAvUbrfd8g6vvPKKqqqLup0EAFKv132rAibGMlz0DuSef7e1N2/e/O1vf8sYU1V1IXm777zzzu7urvvfd999d2krus+bG7O8n6Vyufzhhx8GX2wYxpQ1yYctCx99NeCBvE3iOC70VnU6HUVRyuWyYRjh/mWARLp+/XrY17plcf369UWf3YN5p8v2ej3aSItHLKSU+sDH6it7OY2iJrllWcPyvKJ8kOw4jmmapmmOzmjo9/vhTjOwLEsQhEqlUq1W8/l84gs3Aszu/v37i27CvMTr0Pr9vpu0S7Nsms1mxOtwW5Y1MGwjq3xME4dtx3EkSfJN9+I4ju7mhvXCQ2dZViaTyefz+Xw+k8mMfr/DbVWhUPAevrfIjOM4PM8jkAPA0tre3qaejCRJ1OGOcv60ruuiKPoiCGOM4ziUThvT4Ul/IVjBlOM46mRXq9Xt7e3QmnZQM9w3nor+RPPJs207WOTcNE2aPk4fx42NjQhaAhAj3/72t+/cuTPvhbcjRotYnz9/ftENmZgkSYIgZDKZQqFQrVZbrVY0+9U0bWtrK7idgkgsirovhYmG4Gu1WvAvNBoN+induLn/navRB+L7UbgPb4K73tzc7PV6bkK+++go2RqNxsWLF6N5u2MEp2UgGo2LZuHtyMTooKipV65c8V0V6ZIezePtgeGDMZZOp1utVgQNWFpzfLZt23Zw+FdRFPc5N/U4o7lxozl/Lu8HIviomwqnhyWYNbq9vZ1KpWikIZfLrcg9Y6vV+sc//hHZfXpc4LTA0nrzzTfdS2Wz2ZRlmRZh8i6+PCe2bQ/sZ2ezWcoWmncDkmSCsO0dlyabm5veQE7RMZqsNG9OnKIo3ocivgaE/shEVdXgfVA6naZJFOHeIgAAhGV3d1eSJDdyV6tV6udFMAFs4EPMbDaLsfEpjPts2zRN33PrbDbrq2BKve12u02ZWWE1cSBVVS3LoqfsvlU7fdNDQ1/RhOd50zQty6IdbWxs0FMi9/F2iPsCgIXQdf1nP/vZ559/PuI1jx8/ZrHKJKdaadSNob4vZdRGEDjpdsGXGKSqKmL2FMYN2+Ms8MXzfDabbbfbuq7POyeQYmehUGg2m5Ik2bZNwyyNRsO9vaDS6HOKo4IgeAd2bNtuNpvpdBqjPQAJQA87xnmlt2bIkrt37x79Q5KkTqfjzoKJYIyQ53lfDnk6nUYnZzqH9vf3NU0bXcCo1+v5yrWsra29/vrrwVc+fPjw0aNHJ06cOHPmDGPs2LFjx44dC7fFwbY9efLk2bNnn376KW05fvz48ePHU6nUsWPHjhw5Mu8GkJ2dnU6n85WvfOXChQsR7G4Z0Hs97JOwsnBaBordaaEGj/PKV1999eLFi/Nuz4zcwzl//jxdnNkXI6OMsYsXL7766qsRNOPJkyf/+te/6N/UzYtgp8vPjbDeL4j77vh88MEHhxljnU5n9B+lsSDX8ePHg9+9x48fP3nyhHbz9OnTp0+f0vajR4+ePHnyzJkzcwqfqVQqlUr97W9/o33RXp4/f37//v3PP//8xIkTb7zxxjz260OnKJVKRbAvAIDpPHz48MSJE0eOHGGMXbhw4e9//ztj7OnTp9GE7ZMnTz5//vzAiAMjfPLJJwdPAAuuQ+IrQddqtca5aSqXy/ObGTVwj9lsNpq5WG7a8IpM/SIxmv0SJZyWgWJ3WtxqoAe6dOnSoht7MO/heN8FmheTTqejbIw7GWelLpgjhD8BzJcBmMvlvA8kLMsSRTG4dmdQtVoVRTGypVWjnL9PjxhWZ+oXQOKNP3IWzWO4EFWrVfeqTolp3W43yvqmmqZRT2+BC37H2sFh2zegQWVsiW3bA8vUDdNut+cRuYMfuIhr7lBGPaZ+ASSGLMsHdpKoC3v58uVFN3ZikiTRddhNoZ132LZtW1VVWZZ1Xbdt2zTNdDpdrVajXMYiMQ4O295y39ls1tvVDhYnP1C73R62DMnUggXJdV0XBIE+JeHuK0jXdToJyIoEgGV26dIl+ke/33evwzQYO++w7S6/VCwW19fXadIsY6xQKGAFkUlNtpRIsVh0/22apq+2TqlUajQa7jC9YRiKolDFU69ms+mb8D0jX0WqWq1GfXpFUSL4QNDxYuoXACy5q1ev+qqksS8Ctq/6Reh8Hbxut0vhg1Yki+zhaTIcHLa9sdnbofTOGctms61WS9O0QqHgfY0sy7Zt12o1Xy3ScB9peIdZyuUyTRlXFGXSkYApOI5Tr9fZ/1+1DQBgOfmqpJmmGVwbKWL08HSxbYiXg8O2G3E5jvN2KN1gSQ+SvT+iURe3pytJkmma3sjd7XbD6nDbtu0mxJVKJVVVGWOapnnX05wfN7MDq34BQCx4I7ebkTPvwOmdbaQoCiUHdDodGpFtt9tY73h8B4dtNx77BoHde7RggTp6pTeXTRAEX+QOaw1s9/OXy+XoVkCW5YE16+fBPQr0tgEgLryRmzHmrl44P+4D1mw260boTCYjy7JlWeNPtwM26bPtgYIRa319nQVyHARBGLHgx3Qcx6FQnc1mqeMrCEI0/WzGmG3bVEg1gg89AECIJEly509HMFjoXvyD3Xqe51VVpYFSGMf0vW236xycZ0WvDC4GV6lU3N8K5cEzPcD2TvcaZwZ5WDBCDgDxpaoqpQxHsM4sz/PBJY9hSvv7++gsAgAALL/f/OY3hxljlUplRPb/3t7ee++9xxhbW1u7du2au/327dt//etfGWNvvfXWN7/5Td9vvf/++0+ePPnud797/vx573b3txhj169fP3Xq1NSt//Of/3zv3j3fLnwj5L42h25nZ+fUqVNHjx6d3y6W1q1bt+7cuXPp0qWrV68uui1LBKdloCU8LTdv3nz06FGxWDx79ux0f2EJD2qYEU399a9//eLFi4GX8Xk04969ez/+8Y/nvaN42dnZoZlZ3jeIPp/BF58+ffrgmuRud5zjOO/GXq9HI94D69nSeEiwBLE3E22cXQ9DB1mr1XzbfUeYy+Vm2QuMELsq09HAaRloGU6LYRjeItg04cW3wsJEluGgxjSiqXR5j+wostls8Lq94sKvSc6+SALs9/ve+uQ8z1Oh0263G1xdm540ByvvuNPqg2VYxmfbtiRJ7hRtAIDRNE3L5/Mogh1EQ62R1STXdd2bxA5TODzOiwqFQjqd7na7tVrNmzcuy3Kn06nX6/V6nZK63fQ0ytIK1r5xcx9mmSZYKBQymUw+nz8wHd1xHPc1PM+jkBnAasJikaNFtoJDJpNBNdMZjRW22Rf3qs1mU9d1b+SmUF2tVre3ty3Lcm/Z6A4umEzuBlFvndRJOY7T7XbHWbqj3W67L+M4DiX0ACDxHMexLMswjFQqJQjC6D4SXRWxemGMjBu2RVHc3Nzc3t6WJCmTyXi7raqqbmxsyLLsfePdFziO4243TZMmaPlW/5wULSAz8Ee+WJ7NZt3pgPMuugsJYFmWaZoo2AQxpWlarVbzzYNNp9Pf+MY3hv0K9X3HX6gUFm7csM0Y0zSNKomKouirZlooFIJFV2hcnRbkpi3u1XD2mfUDo/7AsRdUu4XxybLcbDYP7KBAYlCvtFgsxv0JmmVZ9OkN/qjb7Q4rPO44DsX4uB/+SpmgShrP85qmcRzX7/cpco9+vS/TQZIk+nwoijKnj4h3dRPSbrejXP4dYsc0TTw6WUGO49D7TqtJxn18xTRNURQHxuzR3Cxj3KfGyGTFTam0eDqd7vf7+XxekqQRQZHCdqfTsW1bFEVaKatUKs3pG2JZ1sDlSZBtDsMgu3gF6bouSVIqlYqyouJcWZaVz+fHqTu5t7fn20JdHVTcipeJa5ILgmBZFk0pq9fr6+vrkiTpuh7sstAjbV3X19fX6TawVquFu9I2MU1TVVVRFAd+cGnMU9d1dLvBB9nFq6ZarRaLRepCJIPjOOOvY/TDH/7Q+1/TNOnKPE56LyyPQ/v7+5ZlBYeXD3T37t3bt28/e/bMu3FtbY0xtru7++LFC9/2K1euzFITbZjd3d3f/e53jLGTJ08ePXr05MmT3p++ePGi3+/3+/1nz57Nu2LaqolRiahhgoewUpWz5mdvb293d3dnZ+fYsWMnT548e/bsAk/L/fv37927N7DglOtrX/va9773vdF/Z6kOyuWtOznayy+/7CtPRr/72muvRbZkIgw0UZU0wzBQkxwAACAe/vCHP8xUYdSr0+kYHr1ejwq2obxoUsWosuMwwUOgpz+KopTL5VarFcrfXBGtVmtYOUbXQk7LwJZwHEe1mUcXN13ag3KNea3nOK7T6SywnRCiCSaAjZbJZAZOjJ4iuRFgIbzZxeyLOdyLblQ8mKZZKBRCWY133nK5XLFYpDmro69OMTqoA6mqisIViTFxShpA8iQvuzhKs2QyR8C7/EG5XDZNU5KkA4uCLflBucZ5xFmr1TChJkmm6W1T5Tw2vIcNECO+xV5hIrNkMkeDpuY3Go3x3+jlPyhXpVLZ3t4e9tN0Oq1pGuZkJ8xkYdtxHFmWvdMnNjc3vSuIQFJNVOV4+dEyRKPHSMf5VCfstExB07RhFbh8OI771re+Ne/2BFHXYqLJMst/UC5BEFqtVqFQ8DU4nU5vbW2NM64AsTNB2HYcRxRF3ygi3eh5F/SEhBlW5fiNN95YVJNmN3olG/eSN+I1iTwtUxg/HI7ff124eB2UIAi2bVuWZVlWp9PJ5/MYB022CcK2LMsDn/zR2l8oaZs801U5ji9KLe73+6PHFVfttIw2ZjYAx3GU6LeEaIUFb680jgclCAIuwitigpS0EV3qgTenlJSbzWanaBYs3NRVjuMol8vVajXbtg+88K3UaQnR0mYy5/N5qtM8xe8u7UFBsk0QtkckVQ5cjKHVajEs4xpP46fRHj16dP7NCd+8s4tjelqmELtMZsdxVFUVBMF77+W7gsXuoGClhDNve319PbiR5rxi3CYuVFXt9XqMsb29vffff3/M39rd3aW1YfL5fIwSsibKLnYcR1GUVTgtU4hXJrOu6+O84/E6KFg541dmGTHcHay/4y7SMF2pKYgY1faaUeze62FV0nyVs2as/hu70zKpVqvlHb0g6XRaUZRer7fo1u13Op1yuUyJC8MEizku+UHBKpugtx1MIye1Wi34gIcWQ8zlcuhtrw48EFlNS57JLAjC6Ocam5ubwcyyJT8oWGWH9seuamvbtjsYTp2STCaztbUVDMymadJKcIZhYCgpLtxCnmOu4vfKK6/cuHHj9OnT9F+e52N3iybLcrVaLZfLqqrSFko3o3L6bnYxTc5endOSMIcOHRrxU1yjIH4m6pu7Q6mlUmnYa1qtFo1HjXgNLLMxPzm1Wm3RLZ3VsEFysrm56X3x6pyWhPG9QRzHlUold42Q0UuJACyhyWqSq6pKT7jr9XqhULBtO/gCURT7/X42m3V7MBAvK5hGi+ziBPM+1S6VSo7jaJqGIRCIr4kzyWmqzPYX3KfXjuOYpkm1JnK5nK7reNIZU6uWRovs4mTTdZ2eT9frdVyUIAmm66TXarVgmiVjLJ1OY5AwARKfRovs4lUz5qwBgOU35bxtSZIkSbIsy1sfLfFTVFdH4tNokV0MADE1U7kVVMFNtgS/v6Nj9ujs4gSfFgBYfpOlpAEkki+7GFYBPefG026IHYRtWEXILgZN01qtFt50iJ1wapIDxAuyi1dNKpXybUElHIgphG1YRaIoiqJIq33AKqD59JhVDwmAsA0AycfzPO7SIBnwbBsAACA2ELYB/g+yiwFgySFsA/wfZBcDwJJD2IbVhexiAIgdpKTB6kJ2MQDEzv8CpOJS91tZbSYAAAAASUVORK5CYII=\"/>"
      ],
      "text/plain": [
       "<maelzel.scoring.renderlily.LilypondRenderer at 0x7f193b93daf0>"
      ]
     },
     "execution_count": 11,
     "metadata": {},
     "output_type": "execute_result"
    }
   ],
   "source": [
    "from maelzel import scoring\n",
    "from maelzel.scorestruct import ScoreStruct\n",
    "from maelzel.common import F\n",
    "from maelzel.scoring import makeNote\n",
    "from maelzel.scoring import spanner \n",
    "\n",
    "notes = [\n",
    "    makeNote(60, F(2, 3), offset=F(1, 3)),\n",
    "    makeNote(61, F(2, 3)),\n",
    "    makeNote(62, F(2, 9)),\n",
    "    makeNote(63, F(1, 9)),\n",
    "    makeNote(64, F(1, 9)),\n",
    "    \n",
    "    \n",
    "]\n",
    "\n",
    "struct = ScoreStruct(timesig='3/4', tempo=52)\n",
    "\n",
    "part = scoring.UnquantizedPart(notes)\n",
    "quantprofile = scoring.quant.QuantizationProfile.fromPreset('high', debug=True, debugMaxDivisions=20, maxDivPenalty=0.1)\n",
    "#quantprofile.maxGridDensity = 32\n",
    "#quantprofile.mergeTupletsOfDifferentDuration = True\n",
    "qpart = scoring.quant.quantizePart(part, struct=struct, quantprofile=quantprofile)\n",
    "options = scoring.render.RenderOptions()\n",
    "score = scoring.quant.QuantizedScore([qpart])\n",
    "r = scoring.render.renderQuantizedScore(score, options)\n",
    "#score.dump()\n",
    "r# .write('~/tmp/quant.ly')"
   ]
  },
  {
   "cell_type": "code",
   "execution_count": null,
   "id": "98054ef7-2ab4-4732-93c1-d2feb062f569",
   "metadata": {},
   "outputs": [],
   "source": []
  }
 ],
 "metadata": {
  "kernelspec": {
   "display_name": "Python 3 (ipykernel)",
   "language": "python",
   "name": "python3"
  },
  "language_info": {
   "codemirror_mode": {
    "name": "ipython",
    "version": 3
   },
   "file_extension": ".py",
   "mimetype": "text/x-python",
   "name": "python",
   "nbconvert_exporter": "python",
   "pygments_lexer": "ipython3",
   "version": "3.9.15"
  }
 },
 "nbformat": 4,
 "nbformat_minor": 5
}
