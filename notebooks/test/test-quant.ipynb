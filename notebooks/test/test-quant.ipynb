{
 "cells": [
  {
   "cell_type": "code",
   "execution_count": 1,
   "id": "f8c9d684-bb33-4aa8-8ace-715a663bba73",
   "metadata": {},
   "outputs": [],
   "source": [
    "from maelzel.core import *\n",
    "from maelzel import scoring\n",
    "from maelzel.scorestruct import ScoreStruct\n",
    "from maelzel.scoring import quantutils\n",
    "from maelzel import tui\n",
    "from maelzel.common import F\n",
    "import logging\n",
    "logging.getLogger('maelzel.scoring').setLevel('DEBUG')"
   ]
  },
  {
   "cell_type": "code",
   "execution_count": 2,
   "id": "9feb6be3-ad87-4d95-9c32-dc3b8844fbc2",
   "metadata": {},
   "outputs": [
    {
     "name": "stderr",
     "output_type": "stream",
     "text": [
      "[maelzel.scoring:quant.py:1334:quantizeMeasure:DEBUG] Measure 4/4 is not filled (events=[«4C 0:2 2♩», «4C# 2:2.143 1/7♩», «4D 2.143:3.333 25/21♩»]). Filling gaps with silences\n",
      "[maelzel.scoring:quant.py:917:quantizeBeatBinary:DEBUG] Skipping (8,), gridError=0.04193059177308341 * 1.0 > minError=0.002\n",
      "[maelzel.scoring:quant.py:908:quantizeBeatBinary:DEBUG] Skipping (9,), divPenalty=0.04 * 0.1 > minError=0.002\n",
      "[maelzel.scoring:quant.py:908:quantizeBeatBinary:DEBUG] Skipping (11,), divPenalty=0.1 * 0.1 > minError=0.002\n",
      "[maelzel.scoring:quant.py:917:quantizeBeatBinary:DEBUG] Skipping (5, 1), gridError=0.08824915327867663 * 1.0 > minError=0.002\n",
      "[maelzel.scoring:quant.py:917:quantizeBeatBinary:DEBUG] Skipping (3, 1), gridError=0.05354623230801119 * 1.0 > minError=0.002\n",
      "[maelzel.scoring:quant.py:917:quantizeBeatBinary:DEBUG] Skipping (4, 1), gridError=0.04193059177308341 * 1.0 > minError=0.002\n",
      "[maelzel.scoring:quant.py:934:quantizeBeatBinary:DEBUG] Skipping (7, 1), totalError=0.007348469228349534 > minError=0.002\n",
      "[maelzel.scoring:quant.py:908:quantizeBeatBinary:DEBUG] Skipping (11, 1), divPenalty=0.1 * 0.1 > minError=0.002\n",
      "[maelzel.scoring:quant.py:908:quantizeBeatBinary:DEBUG] Skipping (5, 1, 1), divPenalty=0.03605551275463989 * 0.1 > minError=0.002\n",
      "[maelzel.scoring:quant.py:908:quantizeBeatBinary:DEBUG] Skipping (3, 1, 1), divPenalty=0.03 * 0.1 > minError=0.002\n",
      "[maelzel.scoring:quant.py:917:quantizeBeatBinary:DEBUG] Skipping (2, 1, 1), gridError=0.05354623230801119 * 1.0 > minError=0.002\n",
      "[maelzel.scoring:quant.py:908:quantizeBeatBinary:DEBUG] Skipping (7, 1, 1), divPenalty=0.03605551275463989 * 0.1 > minError=0.002\n",
      "[maelzel.scoring:quant.py:917:quantizeBeatBinary:DEBUG] Skipping (8, 1, 1), gridError=0.04193059177308341 * 1.0 > minError=0.002\n",
      "[maelzel.scoring:quant.py:917:quantizeBeatBinary:DEBUG] Skipping (3, 1, 1, 1), gridError=0.05354623230801119 * 1.0 > minError=0.002\n",
      "[maelzel.scoring:quant.py:917:quantizeBeatBinary:DEBUG] Skipping (2, 1, 1, 1), gridError=0.04193059177308341 * 1.0 > minError=0.002\n",
      "[maelzel.scoring:quant.py:908:quantizeBeatBinary:DEBUG] Skipping (5, 1, 1, 1), divPenalty=0.03 * 0.1 > minError=0.002\n",
      "[maelzel.scoring:quant.py:917:quantizeBeatBinary:DEBUG] Skipping (2, 1, 1, 1, 1), gridError=0.08824915327867663 * 1.0 > minError=0.002\n",
      "[maelzel.scoring:quant.py:908:quantizeBeatBinary:DEBUG] Skipping (3, 1, 1, 1, 1), divPenalty=0.0648999229583518 * 0.1 > minError=0.002\n",
      "[maelzel.scoring:quant.py:908:quantizeBeatBinary:DEBUG] Skipping (4, 1, 1, 1, 1), divPenalty=0.03 * 0.1 > minError=0.002\n"
     ]
    },
    {
     "name": "stdout",
     "output_type": "stream",
     "text": [
      "Beat: 2 - 3 (dur: 1)\n",
      "Best 3 divisions: (quantized in 23.2ms)\n"
     ]
    },
    {
     "data": {
      "text/html": [
       "<table>\n",
       "<thead>\n",
       "<tr><th style=\"text-align: right;\">  error</th><th>div  </th><th>snapped                                 </th><th>slots  </th><th>info                                                                                                                                                                               </th></tr>\n",
       "</thead>\n",
       "<tbody>\n",
       "<tr><td style=\"text-align: right;\"> 0.0020</td><td>(7,) </td><td>[«4C# 0:0.143 1/7♩», «4D~ 0.143:1 6/7♩»]</td><td>[0, 1] </td><td>gridError=0, rhythmComplexity=0 (numNotesAcrossSubdivs=0, numTies=0), divPenalty=0.02 (0.0002, divPenalty=0.02, cardinalityPenalty=0, numSubdivsPenalty=0, levelPenalty=0)         </td></tr>\n",
       "<tr><td style=\"text-align: right;\"> 0.0554</td><td>(6,) </td><td>[«4C# 0:0.167 1/6♩», «4D~ 0.167:1 5/6♩»]</td><td>[0, 1] </td><td>gridError=0.0535, rhythmComplexity=0.447 (numNotesAcrossSubdivs=0, numTies=1), divPenalty=0.01 (0.0001, divPenalty=0.01, cardinalityPenalty=0, numSubdivsPenalty=0, levelPenalty=0)</td></tr>\n",
       "<tr><td style=\"text-align: right;\"> 0.1127</td><td>(5,) </td><td>[«4C# 0:0.2 1/5♩», «4D~ 0.2:1 4/5♩»]    </td><td>[0, 1] </td><td>gridError=0.113, rhythmComplexity=0 (numNotesAcrossSubdivs=0, numTies=0), divPenalty=0.02 (0.0002, divPenalty=0.02, cardinalityPenalty=0, numSubdivsPenalty=0, levelPenalty=0)     </td></tr>\n",
       "</tbody>\n",
       "</table>"
      ],
      "text/plain": [
       "<IPython.core.display.HTML object>"
      ]
     },
     "metadata": {},
     "output_type": "display_data"
    },
    {
     "name": "stdout",
     "output_type": "stream",
     "text": [
      "Beat: 3 - 4 (dur: 1)\n",
      "Best 2 divisions: (quantized in 215.1µs)\n"
     ]
    },
    {
     "data": {
      "text/html": [
       "<table>\n",
       "<thead>\n",
       "<tr><th style=\"text-align: right;\">  error</th><th>div  </th><th>snapped                                  </th><th>slots  </th><th>info                                                                                                                                                                          </th></tr>\n",
       "</thead>\n",
       "<tbody>\n",
       "<tr><td style=\"text-align: right;\"> 0.0000</td><td>(3,) </td><td>[«~4D 0:0.333 1/3♩», «rest 0.333:1 2/3♩»]</td><td>[0, 1] </td><td>gridError=0, rhythmComplexity=0 (numNotesAcrossSubdivs=0, numTies=0), divPenalty=0 (0, divPenalty=0, cardinalityPenalty=0, numSubdivsPenalty=0, levelPenalty=0)               </td></tr>\n",
       "<tr><td style=\"text-align: right;\"> 0.1022</td><td>(5,) </td><td>[«~4D 0:0.4 2/5♩», «rest 0.4:1 3/5♩»]    </td><td>[0, 2] </td><td>gridError=0.102, rhythmComplexity=0 (numNotesAcrossSubdivs=0, numTies=0), divPenalty=0.02 (0.0002, divPenalty=0.02, cardinalityPenalty=0, numSubdivsPenalty=0, levelPenalty=0)</td></tr>\n",
       "</tbody>\n",
       "</table>"
      ],
      "text/plain": [
       "<IPython.core.display.HTML object>"
      ]
     },
     "metadata": {},
     "output_type": "display_data"
    },
    {
     "name": "stderr",
     "output_type": "stream",
     "text": [
      "[maelzel.scoring:quant.py:1605:_mergeSiblings:DEBUG] Nodes can merge: \n",
      "    Node(1/1, \n",
      "  «4C~ 0:1 1♩»\n",
      ")\n",
      "    Node(1/1, \n",
      "  «~4C 1:2 1♩»\n",
      ")\n",
      "[maelzel.scoring:quant.py:1608:_mergeSiblings:DEBUG] ---- Merged node:\n",
      "    Node(1/1, \n",
      "  «4C 0:2 2♩»\n",
      ")\n",
      "[maelzel.scoring:node.py:647:_splitUnnecessaryNodes:DEBUG] Did not split node Node(1/1, \n",
      "  Node(1/1, \n",
      "    «4C 0:2 2♩»\n",
      "  )\n",
      "  Node(7/4, \n",
      "    «4C# 2:2.143 1/7♩ 7/4»\n",
      "    «4D~ 2.143:3 6/7♩ 7/4»\n",
      "  )\n",
      "  Node(3/2, \n",
      "    «~4D 3:3.333 1/3♩ 3/2»\n",
      "    «rest 3.333:4 2/3♩ 3/2»\n",
      "  )\n",
      ") at 1\n",
      "[maelzel.scoring:renderlily.py:1116:write:DEBUG] Rendering lilypond '/tmp/tmp4eltqikq.ly' to '/tmp/tmp4eltqikq.png'\n",
      "[maelzel.scoring:renderlily.py:1129:write:DEBUG] Found crop file /tmp/tmp4eltqikq.cropped.png, using that as output\n"
     ]
    },
    {
     "data": {
      "text/html": [
       "<b>LilypondRenderer</b> (1 part)<br>\n",
       "        <img style=\"display:inline; padding:10px;\n",
       "margin-top:14px;\n",
       "width:440px\"\n",
       "             src=\"data:image/png;base64,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\"/>"
      ],
      "text/plain": [
       "<maelzel.scoring.renderlily.LilypondRenderer at 0x7fb74d8efcd0>"
      ]
     },
     "execution_count": 2,
     "metadata": {},
     "output_type": "execute_result"
    }
   ],
   "source": [
    "notes = [\n",
    "    (60, F(2, 1)),\n",
    "    (61, F(1, 7)),\n",
    "    (62, F(6, 7)+F(1, 3))\n",
    "]\n",
    "\n",
    "struct = ScoreStruct(timesig='4/4', tempo=70)\n",
    "\n",
    "notations = [scoring.makeNote(p, d) for p, d in notes]\n",
    "part = scoring.UnquantizedPart(notations)\n",
    "qprofile = scoring.quant.QuantizationProfile.fromPreset('high')\n",
    "qprofile.debug = True\n",
    "qpart = scoring.quant.quantizePart(part, struct=struct, quantprofile=qprofile)\n",
    "options = scoring.render.RenderOptions()\n",
    "score = scoring.quant.QuantizedScore([qpart])\n",
    "r = scoring.render.renderQuantizedScore(score, options)\n",
    "r"
   ]
  },
  {
   "cell_type": "code",
   "execution_count": 3,
   "id": "8126dfd3-b992-471f-b5ff-6caf769e7fa5",
   "metadata": {},
   "outputs": [
    {
     "name": "stderr",
     "output_type": "stream",
     "text": [
      "[maelzel.scoring:quant.py:1334:quantizeMeasure:DEBUG] Measure 4/4 is not filled (events=[«4C 0:2 2♩», «4C# 2:2.75 3/4♩», «4D# 2.75:3 1/4♩»]). Filling gaps with silences\n",
      "[maelzel.scoring:quant.py:908:quantizeBeatBinary:DEBUG] Skipping (9,), divPenalty=0.04 * 0.1 > minError=0.001\n",
      "[maelzel.scoring:quant.py:908:quantizeBeatBinary:DEBUG] Skipping (11,), divPenalty=0.1 * 0.1 > minError=0.001\n",
      "[maelzel.scoring:quant.py:908:quantizeBeatBinary:DEBUG] Skipping (15,), divPenalty=0.2024845673131659 * 0.1 > minError=0.001\n",
      "[maelzel.scoring:quant.py:917:quantizeBeatBinary:DEBUG] Skipping (1, 3), gridError=0.1732862107887866 * 1.0 > minError=0.001\n",
      "[maelzel.scoring:quant.py:908:quantizeBeatBinary:DEBUG] Skipping (1, 5), divPenalty=0.02 * 0.1 > minError=0.001\n",
      "[maelzel.scoring:quant.py:934:quantizeBeatBinary:DEBUG] Skipping (1, 2), totalError=0.007071067811865475 > minError=0.001\n",
      "[maelzel.scoring:quant.py:908:quantizeBeatBinary:DEBUG] Skipping (1, 7), divPenalty=0.02 * 0.1 > minError=0.001\n",
      "[maelzel.scoring:quant.py:908:quantizeBeatBinary:DEBUG] Skipping (1, 9), divPenalty=0.04 * 0.1 > minError=0.001\n",
      "[maelzel.scoring:quant.py:908:quantizeBeatBinary:DEBUG] Skipping (1, 11), divPenalty=0.1 * 0.1 > minError=0.001\n",
      "[maelzel.scoring:quant.py:908:quantizeBeatBinary:DEBUG] Skipping (1, 1, 5), divPenalty=0.03741657386773942 * 0.1 > minError=0.001\n",
      "[maelzel.scoring:quant.py:917:quantizeBeatBinary:DEBUG] Skipping (1, 1, 3), gridError=0.07195599806277589 * 1.0 > minError=0.001\n",
      "[maelzel.scoring:quant.py:934:quantizeBeatBinary:DEBUG] Skipping (1, 1, 4), totalError=0.00714142842854285 > minError=0.001\n",
      "[maelzel.scoring:quant.py:908:quantizeBeatBinary:DEBUG] Skipping (1, 1, 6), divPenalty=0.02 * 0.1 > minError=0.001\n",
      "[maelzel.scoring:quant.py:908:quantizeBeatBinary:DEBUG] Skipping (1, 1, 7), divPenalty=0.03741657386773942 * 0.1 > minError=0.001\n",
      "[maelzel.scoring:quant.py:908:quantizeBeatBinary:DEBUG] Skipping (1, 1, 9), divPenalty=0.04 * 0.1 > minError=0.001\n",
      "[maelzel.scoring:quant.py:908:quantizeBeatBinary:DEBUG] Skipping (1, 1, 1, 2, 1), divPenalty=0.02 * 0.1 > minError=0.001\n",
      "[maelzel.scoring:quant.py:908:quantizeBeatBinary:DEBUG] Skipping (1, 1, 1, 3, 1), divPenalty=0.06734983296193095 * 0.1 > minError=0.001\n",
      "[maelzel.scoring:quant.py:908:quantizeBeatBinary:DEBUG] Skipping (1, 1, 1, 4, 1), divPenalty=0.03 * 0.1 > minError=0.001\n",
      "[maelzel.scoring:quant.py:908:quantizeBeatBinary:DEBUG] Skipping (1, 1, 1, 5, 1), divPenalty=0.07200000000000001 * 0.1 > minError=0.001\n"
     ]
    },
    {
     "name": "stdout",
     "output_type": "stream",
     "text": [
      "Beat: 2 - 3 (dur: 1)\n",
      "Best 3 divisions: (quantized in 25.6ms)\n"
     ]
    },
    {
     "data": {
      "text/html": [
       "<table>\n",
       "<thead>\n",
       "<tr><th style=\"text-align: right;\">  error</th><th>div  </th><th>snapped                                 </th><th>slots  </th><th>info                                                                                                                                                                              </th></tr>\n",
       "</thead>\n",
       "<tbody>\n",
       "<tr><td style=\"text-align: right;\"> 0.0010</td><td>(4,) </td><td>[«4C# 0:0.75 3/4♩», «4D# 0.75:1 1/4♩»]  </td><td>[0, 3] </td><td>gridError=0, rhythmComplexity=0 (numNotesAcrossSubdivs=0, numTies=0), divPenalty=0.01 (0.0001, divPenalty=0.01, cardinalityPenalty=0, numSubdivsPenalty=0, levelPenalty=0)        </td></tr>\n",
       "<tr><td style=\"text-align: right;\"> 0.0891</td><td>(7,) </td><td>[«4C# 0:0.714 5/7♩», «4D# 0.714:1 2/7♩»]</td><td>[0, 5] </td><td>gridError=0.088, rhythmComplexity=0.447 (numNotesAcrossSubdivs=0, numTies=1), divPenalty=0.02 (0.0002, divPenalty=0.02, cardinalityPenalty=0, numSubdivsPenalty=0, levelPenalty=0)</td></tr>\n",
       "<tr><td style=\"text-align: right;\"> 0.1733</td><td>(3,) </td><td>[«4C# 0:0.667 2/3♩», «4D# 0.667:1 1/3♩»]</td><td>[0, 2] </td><td>gridError=0.173, rhythmComplexity=0 (numNotesAcrossSubdivs=0, numTies=0), divPenalty=0 (0, divPenalty=0, cardinalityPenalty=0, numSubdivsPenalty=0, levelPenalty=0)               </td></tr>\n",
       "</tbody>\n",
       "</table>"
      ],
      "text/plain": [
       "<IPython.core.display.HTML object>"
      ]
     },
     "metadata": {},
     "output_type": "display_data"
    },
    {
     "name": "stderr",
     "output_type": "stream",
     "text": [
      "[maelzel.scoring:quant.py:1605:_mergeSiblings:DEBUG] Nodes can merge: \n",
      "    Node(1/1, \n",
      "  «4C~ 0:1 1♩»\n",
      ")\n",
      "    Node(1/1, \n",
      "  «~4C 1:2 1♩»\n",
      ")\n",
      "[maelzel.scoring:quant.py:1608:_mergeSiblings:DEBUG] ---- Merged node:\n",
      "    Node(1/1, \n",
      "  «4C 0:2 2♩»\n",
      ")\n",
      "[maelzel.scoring:quant.py:1611:_mergeSiblings:DEBUG] Nodes cannot merge: \n",
      "Node(1/1, \n",
      "  «4C 0:2 2♩»\n",
      ")\n",
      "Node(1/1, \n",
      "  «4C# 2:2.75 3/4♩»\n",
      "  «4D# 2.75:3 1/4♩»\n",
      ")\n",
      "----> no need to extend node over beat\n",
      "[maelzel.scoring:quant.py:1611:_mergeSiblings:DEBUG] Nodes cannot merge: \n",
      "Node(1/1, \n",
      "  «4C# 2:2.75 3/4♩»\n",
      "  «4D# 2.75:3 1/4♩»\n",
      ")\n",
      "Node(1/1, \n",
      "  «rest 3:4 1♩»\n",
      ")\n",
      "----> no need to extend node over beat\n",
      "[maelzel.scoring:node.py:647:_splitUnnecessaryNodes:DEBUG] Did not split node Node(1/1, \n",
      "  Node(1/1, \n",
      "    «4C 0:2 2♩»\n",
      "  )\n",
      "  Node(1/1, \n",
      "    «4C# 2:2.75 3/4♩»\n",
      "    «4D# 2.75:3 1/4♩»\n",
      "  )\n",
      "  Node(1/1, \n",
      "    «rest 3:4 1♩»\n",
      "  )\n",
      ") at 1\n",
      "[maelzel.scoring:renderlily.py:1116:write:DEBUG] Rendering lilypond '/tmp/tmp1a5ck8tg.ly' to '/tmp/tmp1a5ck8tg.png'\n",
      "[maelzel.scoring:renderlily.py:1129:write:DEBUG] Found crop file /tmp/tmp1a5ck8tg.cropped.png, using that as output\n"
     ]
    },
    {
     "data": {
      "text/html": [
       "<b>LilypondRenderer</b> (1 part)<br>\n",
       "        <img style=\"display:inline; padding:10px;\n",
       "margin-top:14px;\n",
       "width:391px\"\n",
       "             src=\"data:image/png;base64,iVBORw0KGgoAAAANSUhEUgAAAekAAAB9CAIAAAAJLAwhAAAJLmlDQ1BJQ0MgUHJvZmlsZQAAeJyVlWdQk1kXx+/zPOmFQBJCh1BDkSolgJQQWijSq6hA6J1QRWyIuAIriog0RZBFARdclSJrRRQLi4ICFnSDLALKunEVUUFZcN8ZnfcdP7z/mXvPb/5z5t5zz/lwASCIg2XBy3tiUrrA28mOGRgUzATfKIyflsLx9HQD39W7EQCtxHu638/5rggRkWn85bi4vHL5KYJ0AKDsZdbMSk9Z4aPLTA+P/8JnV1iwXOAy31jh6H957EvOvyz6kuPrzV1+FQoAHCn6Gw7/hv9z74pUOIL02KjIbKZPclR6Vpggkpm20gkel8v0FCRHxSZEflPw/5X8HaVHZqevRG5yyiZBbHRMOvN/DjUyMDQEX2fxxutLjyFG/3/PZ0VfveR6ANhzACD7vnrhlQB07gJA+tFXT225r5R8ADru8DMEmf96qJUNDQiAAuhABigCVaAJdIERMAOWwBY4ABfgAXxBENgA+CAGJAIByAK5YAcoAEVgHzgIqkAtaABNoBWcBp3gPLgCroPb4C4YBo+BEEyCl0AE3oEFCIKwEBmiQTKQEqQO6UBGEBuyhhwgN8gbCoJCoWgoCcqAcqGdUBFUClVBdVAT9At0DroC3YQGoYfQODQD/Q19hBGYBNNhBVgD1ofZMAd2hX3h9XA0nArnwPnwXrgCrodPwh3wFfg2PAwL4ZfwHAIQIsJAlBFdhI1wEQ8kGIlCBMhWpBApR+qRVqQb6UPuIUJkFvmAwqBoKCZKF2WJckb5ofioVNRWVDGqCnUC1YHqRd1DjaNEqM9oMloerYO2QPPQgehodBa6AF2ObkS3o6+hh9GT6HcYDIaBYWHMMM6YIEwcZjOmGHMY04a5jBnETGDmsFisDFYHa4X1wIZh07EF2ErsSewl7BB2EvseR8Qp4YxwjrhgXBIuD1eOa8ZdxA3hpnALeHG8Ot4C74GPwG/Cl+Ab8N34O/hJ/AJBgsAiWBF8CXGEHYQKQivhGmGM8IZIJKoQzYlexFjidmIF8RTxBnGc+IFEJWmTuKQQUgZpL+k46TLpIekNmUzWINuSg8np5L3kJvJV8lPyezGamJ4YTyxCbJtYtViH2JDYKwqeok7hUDZQcijllDOUO5RZcby4hjhXPEx8q3i1+DnxUfE5CZqEoYSHRKJEsUSzxE2JaSqWqkF1oEZQ86nHqFepEzSEpkrj0vi0nbQG2jXaJB1DZ9F59Dh6Ef1n+gBdJEmVNJb0l8yWrJa8IClkIAwNBo+RwChhnGaMMD5KKUhxpCKl9ki1Sg1JzUvLSdtKR0oXSrdJD0t/lGHKOMjEy+yX6ZR5IouS1Zb1ks2SPSJ7TXZWji5nKceXK5Q7LfdIHpbXlveW3yx/TL5ffk5BUcFJIUWhUuGqwqwiQ9FWMU6xTPGi4owSTclaKVapTOmS0gumJJPDTGBWMHuZImV5ZWflDOU65QHlBRWWip9KnkqbyhNVgipbNUq1TLVHVaSmpOaulqvWovZIHa/OVo9RP6Tepz6vwdII0Nit0akxzZJm8Vg5rBbWmCZZ00YzVbNe874WRoutFa91WOuuNqxtoh2jXa19RwfWMdWJ1TmsM7gKvcp8VdKq+lWjuiRdjm6mbovuuB5Dz00vT69T75W+mn6w/n79Pv3PBiYGCQYNBo8NqYYuhnmG3YZ/G2kb8Y2qje6vJq92XL1tddfq18Y6xpHGR4wfmNBM3E12m/SYfDI1MxWYtprOmKmZhZrVmI2y6WxPdjH7hjna3M58m/l58w8WphbpFqct/rLUtYy3bLacXsNaE7mmYc2ElYpVmFWdldCaaR1qfdRaaKNsE2ZTb/PMVtU2wrbRdoqjxYnjnOS8sjOwE9i1281zLbhbuJftEXsn+0L7AQeqg59DlcNTRxXHaMcWR5GTidNmp8vOaGdX5/3OozwFHp/XxBO5mLlscel1Jbn6uFa5PnPTdhO4dbvD7i7uB9zH1qqvTVrb6QE8eB4HPJ54sjxTPX/1wnh5elV7Pfc29M717vOh+Wz0afZ552vnW+L72E/TL8Ovx5/iH+Lf5D8fYB9QGiAM1A/cEng7SDYoNqgrGBvsH9wYPLfOYd3BdZMhJiEFISPrWeuz19/cILshYcOFjZSNYRvPhKJDA0KbQxfDPMLqw+bCeeE14SI+l3+I/zLCNqIsYibSKrI0cirKKqo0ajraKvpA9EyMTUx5zGwsN7Yq9nWcc1xt3Hy8R/zx+KWEgIS2RFxiaOK5JGpSfFJvsmJydvJgik5KQYow1SL1YKpI4CpoTIPS1qd1pdOXP8X+DM2MXRnjmdaZ1Znvs/yzzmRLZCdl92/S3rRn01SOY85Pm1Gb+Zt7cpVzd+SOb+FsqdsKbQ3f2rNNdVv+tsntTttP7CDsiN/xW55BXmne250BO7vzFfK350/sctrVUiBWICgY3W25u/YH1A+xPwzsWb2ncs/nwojCW0UGReVFi8X84ls/Gv5Y8ePS3qi9AyWmJUf2YfYl7RvZb7P/RKlEaU7pxAH3Ax1lzLLCsrcHNx68WW5cXnuIcCjjkLDCraKrUq1yX+ViVUzVcLVddVuNfM2emvnDEYeHjtgeaa1VqC2q/Xg09uiDOqe6jnqN+vJjmGOZx543+Df0/cT+qalRtrGo8dPxpOPCE94nepvMmpqa5ZtLWuCWjJaZkyEn7/5s/3NXq25rXRujregUOJVx6sUvob+MnHY93XOGfab1rPrZmnZae2EH1LGpQ9QZ0ynsCuoaPOdyrqfbsrv9V71fj59XPl99QfJCyUXCxfyLS5dyLs1dTrk8eyX6ykTPxp7HVwOv3u/16h245nrtxnXH61f7OH2XbljdOH/T4ua5W+xbnbdNb3f0m/S3/2byW/uA6UDHHbM7XXfN73YPrhm8OGQzdOWe/b3r93n3bw+vHR4c8Rt5MBoyKnwQ8WD6YcLD148yHy083j6GHit8Iv6k/Kn80/rftX5vE5oKL4zbj/c/83n2eII/8fKPtD8WJ/Ofk5+XTylNNU0bTZ+fcZy5+2Ldi8mXKS8XZgv+lPiz5pXmq7N/2f7VLwoUTb4WvF76u/iNzJvjb43f9sx5zj19l/huYb7wvcz7Ex/YH/o+BnycWshaxC5WfNL61P3Z9fPYUuLS0j9CLJC+ERlPpwAAFoZJREFUeJzt3T+M2+T/B/CnX6WC8te+AbXqQJMD1LXO6ZAQohVxJCYqUJIiISQY4gywwBBnQSwMThZgjMMIEo1PjCCIIyHGKg4wIbXEaQegIBQHruhA/Mlv+AjLPztx7MSJ49z7NfV8yeW5NPfJk8/zeT7PiclkwrbOlStX2u12p9MRRTHusQAARO9/cQ8AAABCQ+wGAEgexG4AgORB7AYASB7EbgCA5EHsBgBIHsRuAIDkQewGAEgexG4AgORB7AYASB7EbgCA5EHsBgBIHsRuAIDkQewGAEgexG4AgORB7AYASB7EbgCA5EHsBgBInlTcA0gwURS73W46nc5kMt7vmqZpmqbriizLuq6Px2NBECqViiRJ6xosAGwVxO7FGYbBGBsOh8Ph0PvdQqHg/FLTNEmSMpmMrus8zyuKUqlUer2eqqprGi4AbBHE7sXR9HnqccaNRqNSqdhfmqYpSRLP8xS4GWOqqpqm2Wq1dnd3ZVle36ABYCsgdi+IJt21Wq1YLLq+JctyLpdzxnRFUcbjca1Wo8BNKpVKt9tVFIXC+nqGDQDbAWuVC7IsizHmnXRblqWqqmvS3Wq1vDemoD8ejzVNW/lwAWC7IHYvyDAMQRC882VFUXied07G7dCczWZdNxYEgTHW6XRWOVIA2ELbkDMxTVPTtF6vR3PhfD5/586dVT9osVicNemu1+vOi71eb9YPodCv6/oqRggAWyzi2K3reqfTcQWv1TFNU1EUykjYut3uyZMnV/3QU+sCFUVh/yVDbPSO4mM8Hkc3LgA4FqLMmaiqms/nG43GesqWdV3PZrOuwE3++usvxtjh4eHUO4qieCKAsNNhmnQXi0VXIqXb7c69r6sSHADAX2Sx27lA12q1Vr3+put6Pp/3n7F++eWXKx2DCxWT5PP5Be6L2A0AoUQTu12VFYwxWZbn5goWZlmWtzLP699//516Xdf1SQBTC7d9hkS7bLwDS6fTc+/uXcYEAPARQeymrd6ui8PhkJK/q0Az3Lk3e/LJJ1c0AC9VVcfjcS6X835rambcBfXdABBKBLFbkqSpkVRV1RVNvYMkZDiOCzVxXlKz2WQzps9z59RUKQgAENyysVvX9VlrcePxeEVT76n9Q1x8NitGvlZpGIbPkPb29ugf3qQ2PXXrfI8BgO2wbOyeFZ0pybuiFUuO4/xvUC6X11anyOYVaBeLRXo2XDezQ3mpVFrd2ABgKy1V322apnfSzXFcvV6nae9wONQ0Lci6YiiSJDUajVnfLZfL/s356vV6kGRO8PVDn903pFarVSqVdrvtrJ6kNEuhUMBCJQCEFqTiYhbvpFsQhMFgQN+lJqiFQmGZh5hqNBpNXRVMp9Ptdjvyh5vLHky1Wp11m3K57LwBBW5BEEaj0bqGCQDbY6l5t6sRhyAIdo9T9l99xcHBgWVZ0dZRUDNVTdM6nQ5lHrLZ7N7eXuQT/ICy2Sx9/vDJfqiqyvN8o9GgzEm/38/lcpqmocIEABZwYjKZLHxnnuftChOO40zTdEYi2j7DGGu323FF1bWhN6252Q/TNA3DsCxLFMUgtYMAAFMtNe92lgbSvHLqzXq93tbH7oC1IplMBiEbAJYXzb7KXC7nE53pmAIAAIhKNLG7Vqt5L9q1HEGaMQEAQHARxO50Oj01Y+CsnFtdbxMAgGMogtg9K9XrjNdImwAARCiC2D1riRLHwQAArEgEsXtqx2pXiw9UMQMARGip2O3TV6Tdbju/xLZvAIAIpRhjdFDvAnd+8MEHx+Nxq9XynnT+3nvvOW/mbfAdLao0d72X3L59++67757buAoAIFlKpRKbTCbVajXukQAAQFCXL19eqhcVBf1yuey8OBqNXKd8NZvNZR4liKm/Hjo9AUCCUODK5XL2lalN9xhj1Wp1qXz37u4u89T/KYriXKXkOC6WDfEcxzkbYwEAbJOlYjetQPb7fbuU2zAMV2ftYrG46gDqPY8GgRsAttuysZtWAu1SbufZAmTqdvloeWO3pmnZbLZer696jRQAFmBZ1jpPttpKy9Z306ZKKlORZbnf7zu/W61W19A2z1Xl0mw2RVG0LEtRFOznBNhAqqrWajXvVA+CWzZ208YcTdM0TXNlSziOW8Okm/3/DZzVapVeEIqiTD29HgBiJ8uyIAitVguz74UtG7tpHXI4HHrfQn06ekfINE17sm8fMayqqs+BlgAQO13X0+l0rVZb0YnkW2/Z2M3zPJ1L6ZrkFgqF9ZSX0MGPjLFcLqeqqmVZsixXKpU1PDQALIzneToTXJIk5DYXsNS5OYwxy7K8S4XpdNr/pPaoWJZFDyQIAr17i6LoyrkDrBqdY+d/g9Fo5HMD0zQtyzo6Ojo6Opp6g+vXr//+++8+P+GZZ5759NNPg4x2c4iimE6nh8NhsVg0DAOFYaEsG7u965OMsbUdoUtJbWdFIAL3cbMJcXMT/PTTT3EPYRGZTGY4HA6HQ1EUMfsOZ4I98QAAiXL58uUUY2xvb2+B8P31119//vnnrov7+/uXLl2KZHBzffbZZ998882zzz57/vx5+6JrifLhhx++cuXKesYDq3bz5k1Xf0qwpVKpN954I+5RhNZsNn/99Vf7y4sXLz7++OMxjideFL6cUevq1au3bt3y3vLBBx9csJ+Jt3EgGQwG0WzsDzYAb6cU13icnQEg6Wa96oAxdurUqbj/f0JTFMX7i3Q6nbjHFRt6BgL2M1kk320YxqwaEl3X11Bvb1lWsVi0S7nhmMBiBmPs3nvvfeyxx5xXfvvtt8FgsLOzE9eQFmMYxtTYbRjGrGMUwSl07LYsS5IkV0Ugx3GSJDUajU6ns4Z4WiwWM5lMPp+fe6yaZVn2bXiexxEQsKQLFy5MvX7q1KlTp06xAMeMTD1nyils5NJ1PZ/PP/TQQ6HuFS8K0N7dc3G1rkui0LHbW1hCZR6MsUajcXBwENnQZjNNczgczv0bYIz1+337ZhzH4bj6RDtz5gxj7P7773/kkUec11Op1AMPPMDiiJuwAFVVp+7AoEiyhi4a2yFc7FZVtdVqeS/S3wyVamqatup3TtM0Z824XX+cgiDYm27X/5qgh0Y/rKhQ7N7f38cx1sk1K3ALgmBHEggiROw2TdMbhhRFsSO1KIqtVqvX663hU8/U+dHU+tAYZ1LUzgWxG5ZBb1Q+Veo3b95kjP3yyy/rHNViDMOYFbjRtDmsELFblmXvxndnYMrn861WK8Y5kbeArN/vm6aJT2GQUJTLDnLLRMTuqcEBgXsxQfuZ6LruymXTZxznFZrhOo9iWCfDMKZuxEctCsCGkCTJdSAiY6xeryNwLyBo7A7SJpDneUEQGGNrbgym63q9Xp+6bM0Y63a72WxW0zRv3xUAWCee5zVNowNbSDqdxvrwYlKMMdM0/eNav993HkHJGCuVSs7yO9sjjzzS7/c//PBDCqNnzpyh9aXVuX79+quvvsoYe/TRR9Pp9KOPPur87p07d3788ccffvihVCpduHAhlsawWFiLChU4jUaj4/OUBi9p/+eff5LytLz22mtvv/02/duuUgOb8xU+a5Hjjz/+YJPJhJq4AgBAIly8ePHEZDKxLMung9fh4eHzzz/vvFKv1yk3Qq5fv/7uu+/euHHD/8FKpdILL7xw//33LznoqV566aXbt2+fPn3anubfuHHjzp07Tz311JtvvrmKRwyCVpmwkzsq/X5fluW4Pj/F4vDw8KOPPnJeeeCBB1wfLm/cuPH++++fO3fOW7+7yd55551PPvmEMfbxxx+vKCwkDkUM5yu8Wq1+9dVX3ltWq9X5/Uzsww2Iq0NIr9dzZq/8CYIwGo2i7gEwmXjamKz64UKNKsYBbBl6F0SPGhd6Wi5cuBD3QEKjKWC1Wo17IJvCG2N9+pnMX6scDAbOL51HUJqmOWuFcKp+v0+nAAe8/TKcTb0BYBPQHhFZlql2gI49azQaSHkvYH59tzOdIgiCc1HY29hkrn6/XywWo/2v8i60InADbKBsNuuMGOl0ms5eoJiATZWhhDuvslQq2f/Wdb3b7Tq/Wy6X2+22nd7tdDqKonjLObvdbrQnonljt6Zp2Wy2Xq9jTyPA5nBN9YbDIcWQ8XgsSRLaDYUyP3Y7A7Rz0u3cxCgIQq/XU1W1WCw6byPLsmmazWbTlROf2vtxYa7FwGazSZkZRVFwihJAIlBCNe5RJMn82G2HXY7jnB9q7LwHJSic36L8uh03JUnSdd0ZvofDYYRTb2cGxm7qTUdZRvUQALA8Z32aoii0HDcYDBRF4TiO6ohiHF6yzI/ddlB2ZaPs3TreLa10S+ciZzabdYXvqCrnTNO09y+Uy2Vq3aeq6vEpIwNICjvpKgiCHaYzmQx9QC+Xy/ENLXnC5bun8nYN3N3dZZ40dDabdW6sj2q50i5hzOVyqqpaliXL8tReZQAQLzsCeNMjPM+rqmp3bIa5Fp9327zlHHRL10omY6xWq9lT70gSGpZlUe5FEARqoiKKImbcAJuJ53lMrqOSYoypqupz/PZPP/1E//jggw+cS388z9O68MWLF0+ePDn1vvv7+3Sgie2ee+6xo7YgCEsesvfdd9+Nx+NUKnXffffR9N/V/2ETFkBiH8DWoN4Om/B/Gq3ffvttNBqdO3dusbvT03Ljxo1EPC1HR0epVKrVaqGOYBbnK3xWQ5vbt2//j3l237jY4fXo6Gjq9Z9//tl7L9rk6roLY4zO9COp1CInHdv++uuv77//PpVKXbhwYdabB8Dm++677waDwayuQ1vm1KlTZ8+ePTw8jHsgyfbrr78G2rFNzao4jnNeHI1GlABJp9Oz7uLd7epcogy3XdSDPny1223nRddvGO/+6Uh+TbBtzZ74Tqfj7NZAdVmdTmfhn8aStideEIRmsxn3KDaON2ottSeeMUZLf+Px2NmYm+d52h8/HA693b3pqBqf1rLePTuh6LrearWazSZOlYZkUVU1n89Hu8UhcTRNczVKgrACxW5RFCn8u55uWZZp8ttqtYrFonNb1N7eHmPMu1HKnncvk5uzLKtYLNql3AAJ4p+iPCYymQzy3UsKmnGu1Wrdbrfb7bqOgacyj1ardXBwYBiGPdGm4hNvqYldGujcXh9WsVjMZDL5fH5uoaHzgAie59EwAQC2Q9DYLYpitVptNBqSJGUyGWcQpM+Asiw7iwXtabVlWfZ1wzBo2TSXyy0z7zZNczgcBjmDtd/v2zfjOA4NE+JlGIau69g7B7C8EJUetVpN13WqX3Ftgi8Wi968M8dx4/HYMAw7TNt/tEtW4FP3yKnfcgV0QRDsx8Jp8bGTZZmOD01ENduaGYbR6XRKpRI+HUIQIWI3nRNKXRxFUdQ0zf8vMJvNdrtdO4siSRKlUBRFWf7VOfWhp2bQECZiRO/xaMbrw7Is+jhIK//00STuQUEChNsTn8lkdF0XBGE8HufzeUmSfCpJaJ47GAzoiAY6kKlcLq/uI7N3h1G/38fx8HFBQYU/TdMkSdrZ2Ql+oDCALXQ/E+oqReXbrVZrd3dXkiRN07ypZJptaZq2u7trz7ij7dztZBjG1B+OWpS4oKDCR6PRKJVKyTphEjbKIjsbKXmiqqqiKMPhsNVq2S9BKiWktUS6Qv/I5XL1en1FiTxd1w3DmNX0lRKstVotm80i5Q0xoqJmb/GV09z8Ep0M3ul0dnZ2sHJwrE3+2wMJAACJ8Nxzz52YTCaGYfj0ogpoPB47p72nT5++fft2u91++OGHr1y5suQPTyjqaFitVuMeSDy++OKLa9eu7e/vX7p0ia5cvXr11q1bFy9ePDo6On/+/OnTp0P9wJs3byb6FTW1w+Vdd93FGPvzzz9LpdKsdlTj8fizzz67deuWzw9/6KGHXn755QhGCUlQq9VW2G3D3kK5uofYcMf816c3LbunzWg0ch6bskBbkqT3M3H9+eVyuWazORqN/PuZ9Ho915GBUyWrnwksb6lOfgBBaJrW6XRWui6naVqv16OV89U9ypLS6bS9DlStVoPscqDtEUGa3f/9999LDg+SZZHYTasljLFMJoPVP/C3hqMwZFm2H2UwGGzs2Su6rluW1W63gz8nxWIx4Cklr7/++uIjgwQKF7vpRDHnBKpQKKiqis0XjDHzP4PBgGoA4h5RbNZcUOGsDW00Ghsbu2miE3xtSVVVe57uj+O4V155ZfGRQQKFiN2WZYmi6NpHcHBwwBhz9oY9bighoGkajqW3+TcaS6fTlUrFJ7lBBzm5Qn86nX7xxRcjG2ISBI/ym5wpglUJnhr3OWiu1+t5b7/1a5WdTsfbhZzjuGq12ul07PKSuIcZg6kvEo7jaM3N55CBwWAwq9m8zbtW6azk8R73sWlcS7gTx9kLrjMZ/J8H5xPrvBccEyHm3T6T63a77U0R0E5LZ2nBNlFV1XUaPcdxkiTVajXKBuDUY1sulyuVStSwzCeREnxdzqVer+/t7W3+WqU/aqNWKBTCfopF0vJ4ChG7ff6opvZW7fV6LEBaM4l0XXcF7kKhUK/XXSu3+/v7165dc3bBPSbWX1AxtZPlhrMsi7JDzjyk80+pUChQTtIHjo46tkL3M5lqd3fXe5HaoW3lkp1zcsdxXLvd1jTNFbgNw7h+/Trb0ncvf7qu93q9UJuSghdUvPXWWwsOa5Nomrazs1Or1XwaUdVqNZ/KbkEQer1ecj9nwJJCxG6f7If3nd80TXpRLnM+zobQdZ3n+RMOztX/8XhcKpVOeOzt7VEwsq8cnz8z1+kcPur1uvcp9ff000/TXXieT1a7VNM0ZVmmqpggv282m9U0zbumQgf1GoaxlRMjCChEzsRbZEKazaa3yps6f+ZyuS14eRmGEUkNCTXwWv7nbBNKrC3GdbLH5qPe9z43KBQK1MXbJoqiaZqGYRiGMRgM9vb20FINSIjYXalU7MU3WhnPZDKVSsUbnekQd/ZfO/mkkySJupDTl9euXTs8PDx//vzZs2ddtxyNRt9+++0ff/xBX6ZSqSeeeOLkyZP0pStFfpzZZzLQK2RuVpe4ns9MJpOsjzL+gbvT6cx6H8pms1swB4KIhapKsTOY5XJ51m3s9gs+t0k0Nq1MbTQaedO77XY7lhFuiFnFcKRQKNjXA75Wk/58un4djuPK5XKv1/PvZwIwVejqYzvrXSgUBoOB67uKolDgFgRhW2tO6bdzXmk2m941pW196wrOjt2j0UhRFNd6ifP9L0gX4mazGePvEgnni8T58kDshgWE7mei67okSQf/sTPalmXpum6ftKBp2rbWV5TL5VarJctyPp83DKPZbLrWndLpdL1eR+UW0TRtbp07HWM9K6UgCIKqqluQNNA0jdLWrVZrW/86YH0WC/nNZtO7/M0YS6fTWzA/8ufqZWrjOK5QKGz9rx/EYDCoVqv+nUtdeaepm1SpoCKu32JFfPZVxjgqSJwFe8BKkiRJkuvQhnw+n6BF/4XxPE/r/rquj0aj3d3dTCbD8/wWTAyjgoIKgFVbqn/3cV7+Ps6/+1woqABYtWj2VQL4cBVUgAvlvpEBh1AQuyF6roIKatyBCfUsqqr2ej08PxAKzjyD6KGgwsfOzo7rChZLYAGI3RA9URRFUZRlOe6BbCLaC5qsHaGwgRC7AdaK53m8q8HykO8GAEgexG5YHxRUAEQFsRvWBwUVAFFB7IZVQUEFwOpgrRJWBQUVAKtzYhK4ezIAAGwI5EwAAJLn/wDH1ksZRyzUIQAAAABJRU5ErkJggg==\"/>"
      ],
      "text/plain": [
       "<maelzel.scoring.renderlily.LilypondRenderer at 0x7fb74d8ee810>"
      ]
     },
     "execution_count": 3,
     "metadata": {},
     "output_type": "execute_result"
    }
   ],
   "source": [
    "from maelzel import scoring\n",
    "from maelzel.scorestruct import ScoreStruct\n",
    "\n",
    "notes = [\n",
    "    (60, F(2, 1)),\n",
    "    (61, F(3, 4)),\n",
    "    (63, F(1, 4)),\n",
    "    \n",
    "]\n",
    "\n",
    "notations = [scoring.makeNote(p, d) for p, d in notes]\n",
    "struct = ScoreStruct(timesig='4/4', tempo=70)\n",
    "\n",
    "part = scoring.UnquantizedPart(notations)\n",
    "quantprofile = scoring.quant.QuantizationProfile.fromPreset('highest')\n",
    "quantprofile.debug = True\n",
    "quantprofile.debugMaxDivisions = 20\n",
    "quantprofile.rhythmComplexityWeight = 0.001\n",
    "quantprofile.divisionErrorWeight = 0.01\n",
    "qpart = scoring.quant.quantizePart(part, struct=struct, quantprofile=quantprofile)\n",
    "options = scoring.render.RenderOptions()\n",
    "score = scoring.quant.QuantizedScore([qpart])\n",
    "r = scoring.render.renderQuantizedScore(score, options)\n",
    "# qpart.dump()\n",
    "r"
   ]
  },
  {
   "cell_type": "code",
   "execution_count": 4,
   "id": "af4ba261-96fb-49d2-a151-66a7e3493b2b",
   "metadata": {},
   "outputs": [
    {
     "name": "stderr",
     "output_type": "stream",
     "text": [
      "[maelzel.scoring:quant.py:1334:quantizeMeasure:DEBUG] Measure 4/4 is not filled (events=[«4C 0:2 2♩», «4C# 2:2.75 3/4♩», «4D# 2.75:2.792 1/24♩», «4E 2.792:3 5/24♩»]). Filling gaps with silences\n",
      "[maelzel.scoring:quant.py:917:quantizeBeatBinary:DEBUG] Skipping (11,), gridError=0.11375763180767479 * 1.0 > minError=0.07049476564334764\n",
      "[maelzel.scoring:quant.py:917:quantizeBeatBinary:DEBUG] Skipping (1, 3), gridError=0.23968287887854567 * 1.0 > minError=0.06980919993130813\n",
      "[maelzel.scoring:quant.py:917:quantizeBeatBinary:DEBUG] Skipping (1, 5), gridError=0.13026940730569272 * 1.0 > minError=0.06980919993130813\n",
      "[maelzel.scoring:quant.py:917:quantizeBeatBinary:DEBUG] Skipping (1, 2), gridError=0.0877143665698259 * 1.0 > minError=0.06980919993130813\n",
      "[maelzel.scoring:quant.py:917:quantizeBeatBinary:DEBUG] Skipping (1, 7), gridError=0.09465518604187771 * 1.0 > minError=0.06980919993130813\n",
      "[maelzel.scoring:quant.py:917:quantizeBeatBinary:DEBUG] Skipping (1, 9), gridError=0.08885419469545926 * 1.0 > minError=0.05736589425843504\n",
      "[maelzel.scoring:quant.py:917:quantizeBeatBinary:DEBUG] Skipping (1, 11), gridError=0.08568831125674155 * 1.0 > minError=0.05736589425843504\n",
      "[maelzel.scoring:quant.py:917:quantizeBeatBinary:DEBUG] Skipping (1, 1, 2), gridError=0.23968287887854567 * 1.0 > minError=0.05736589425843504\n",
      "[maelzel.scoring:quant.py:917:quantizeBeatBinary:DEBUG] Skipping (1, 1, 5), gridError=0.06613951546662904 * 1.0 > minError=0.05736589425843504\n",
      "[maelzel.scoring:quant.py:917:quantizeBeatBinary:DEBUG] Skipping (1, 1, 3), gridError=0.07038119054911267 * 1.0 > minError=0.05736589425843504\n",
      "[maelzel.scoring:quant.py:917:quantizeBeatBinary:DEBUG] Skipping (1, 1, 4), gridError=0.0877143665698259 * 1.0 > minError=0.05736589425843504\n",
      "[maelzel.scoring:quant.py:917:quantizeBeatBinary:DEBUG] Skipping (1, 1, 6), gridError=0.08885419469545926 * 1.0 > minError=0.05736589425843504\n",
      "[maelzel.scoring:quant.py:917:quantizeBeatBinary:DEBUG] Skipping (1, 1, 7), gridError=0.06651122141304937 * 1.0 > minError=0.05736589425843504\n",
      "[maelzel.scoring:quant.py:917:quantizeBeatBinary:DEBUG] Skipping (1, 1, 9), gridError=0.05439755096675024 * 1.0 > minError=0.010588253449512395\n",
      "[maelzel.scoring:quant.py:917:quantizeBeatBinary:DEBUG] Skipping (1, 1, 1, 4), gridError=0.057163131490915786 * 1.0 > minError=0.010588253449512395\n",
      "[maelzel.scoring:quant.py:917:quantizeBeatBinary:DEBUG] Skipping (1, 1, 1, 5), gridError=0.02746401358265294 * 1.0 > minError=0.010588253449512395\n",
      "[maelzel.scoring:quant.py:917:quantizeBeatBinary:DEBUG] Skipping (1, 1, 1, 7), gridError=0.02098270991932843 * 1.0 > minError=0.009893881386437221\n",
      "[maelzel.scoring:quant.py:917:quantizeBeatBinary:DEBUG] Skipping (1, 1, 1, 2, 1), gridError=0.13026940730569272 * 1.0 > minError=0.009893881386437221\n",
      "[maelzel.scoring:quant.py:917:quantizeBeatBinary:DEBUG] Skipping (1, 1, 1, 3, 1), gridError=0.06613951546662904 * 1.0 > minError=0.009893881386437221\n",
      "[maelzel.scoring:quant.py:917:quantizeBeatBinary:DEBUG] Skipping (1, 1, 1, 4, 1), gridError=0.02746401358265294 * 1.0 > minError=0.009893881386437221\n",
      "[maelzel.scoring:quant.py:917:quantizeBeatBinary:DEBUG] Skipping (1, 1, 1, 5, 1), gridError=0.04443075826194166 * 1.0 > minError=0.009893881386437221\n"
     ]
    },
    {
     "name": "stdout",
     "output_type": "stream",
     "text": [
      "Beat: 2 - 3 (dur: 1)\n",
      "Best 8 divisions: (quantized in 34.0ms)\n"
     ]
    },
    {
     "data": {
      "text/html": [
       "<table>\n",
       "<thead>\n",
       "<tr><th style=\"text-align: right;\">  error</th><th>div         </th><th>snapped                                                                                                                               </th><th>slots      </th><th>info                                                                                                                                                                                   </th></tr>\n",
       "</thead>\n",
       "<tbody>\n",
       "<tr><td style=\"text-align: right;\"> 0.0099</td><td>(1, 1, 1, 6)</td><td>[«4C# 0:0.75 3/4♩», «4D# 0.75:0.792 1/24♩», «4E 0.792:1 5/24♩»]                                                                       </td><td>[0, 3, 4]  </td><td>gridError=0, rhythmComplexity=0.298 (numNotesAcrossSubdivs=0, numTies=1), divPenalty=0.03 (0.0003, divPenalty=0.03, cardinalityPenalty=0, numSubdivsPenalty=0, levelPenalty=0)         </td></tr>\n",
       "<tr><td style=\"text-align: right;\"> 0.0106</td><td>(1, 1, 8)   </td><td>[«4C# 0:0.75 3/4♩», «4D# 0.75:0.792 1/24♩», «4E 0.792:1 5/24♩»]                                                                       </td><td>[0, 4, 5]  </td><td>gridError=0, rhythmComplexity=0.333 (numNotesAcrossSubdivs=1, numTies=1), divPenalty=0.01 (0.0001, divPenalty=0.01, cardinalityPenalty=0, numSubdivsPenalty=0, levelPenalty=0)         </td></tr>\n",
       "<tr><td style=\"text-align: right;\"> 0.0574</td><td>(1, 8)      </td><td>[«4C# 0:0.75 3/4♩», «4D# 0.75:0.812 1/16♩», «4E 0.812:1 3/16♩»]                                                                       </td><td>[0, 5, 6]  </td><td>gridError=0.0572, rhythmComplexity=0.149 (numNotesAcrossSubdivs=1, numTies=0), divPenalty=0.01 (0.0001, divPenalty=0.01, cardinalityPenalty=0, numSubdivsPenalty=0, levelPenalty=0)    </td></tr>\n",
       "<tr><td style=\"text-align: right;\"> 0.0698</td><td>(15,)       </td><td>[«4C# 0:0.733 11/15♩», «4D# 0.733:0.8 1/15♩», «4E 0.8:1 1/5♩»]                                                                        </td><td>[0, 11, 12]</td><td>gridError=0.0661, rhythmComplexity=0.298 (numNotesAcrossSubdivs=0, numTies=1), divPenalty=0.202 (0.002025, divPenalty=0.2, cardinalityPenalty=0.1, numSubdivsPenalty=0, levelPenalty=0)</td></tr>\n",
       "<tr><td style=\"text-align: right;\"> 0.0705</td><td>(9,)        </td><td>[«4C# 0:0.778 7/9♩», «4D# 0.778:grace properties={&#x27;.snappedGracenote&#x27;: True, &#x27;originalDuration&#x27;: Fraction(1, 24)}», «4E 0.778:1 2/9♩»]</td><td>[0, 7, 7]  </td><td>gridError=0.0704, rhythmComplexity=0 (numNotesAcrossSubdivs=0, numTies=0), divPenalty=0.04 (0.0004, divPenalty=0.04, cardinalityPenalty=0, numSubdivsPenalty=0, levelPenalty=0)        </td></tr>\n",
       "<tr><td style=\"text-align: right;\"> 0.0877</td><td>(4,)        </td><td>[«4C# 0:0.75 3/4♩», «4D# 0.75:grace properties={&#x27;.snappedGracenote&#x27;: True, &#x27;originalDuration&#x27;: Fraction(1, 24)}», «4E 0.75:1 1/4♩»]   </td><td>[0, 3, 3]  </td><td>gridError=0.0877, rhythmComplexity=0 (numNotesAcrossSubdivs=0, numTies=0), divPenalty=0.01 (0.0001, divPenalty=0.01, cardinalityPenalty=0, numSubdivsPenalty=0, levelPenalty=0)        </td></tr>\n",
       "<tr><td style=\"text-align: right;\"> 0.2026</td><td>(7,)        </td><td>[«4C# 0:0.714 5/7♩», «4D# 0.714:0.857 1/7♩», «4E 0.857:1 1/7♩»]                                                                       </td><td>[0, 5, 6]  </td><td>gridError=0.202, rhythmComplexity=0.298 (numNotesAcrossSubdivs=0, numTies=1), divPenalty=0.02 (0.0002, divPenalty=0.02, cardinalityPenalty=0, numSubdivsPenalty=0, levelPenalty=0)     </td></tr>\n",
       "<tr><td style=\"text-align: right;\"> 0.2397</td><td>(6,)        </td><td>[«4C# 0:0.667 2/3♩», «4D# 0.667:0.833 1/6♩», «4E 0.833:1 1/6♩»]                                                                       </td><td>[0, 4, 5]  </td><td>gridError=0.24, rhythmComplexity=0 (numNotesAcrossSubdivs=0, numTies=0), divPenalty=0.02 (0.0002, divPenalty=0.02, cardinalityPenalty=0, numSubdivsPenalty=0, levelPenalty=0)          </td></tr>\n",
       "</tbody>\n",
       "</table>"
      ],
      "text/plain": [
       "<IPython.core.display.HTML object>"
      ]
     },
     "metadata": {},
     "output_type": "display_data"
    },
    {
     "name": "stderr",
     "output_type": "stream",
     "text": [
      "[maelzel.scoring:quant.py:1605:_mergeSiblings:DEBUG] Nodes can merge: \n",
      "    Node(1/1, \n",
      "  «4C~ 0:1 1♩»\n",
      ")\n",
      "    Node(1/1, \n",
      "  «~4C 1:2 1♩»\n",
      ")\n",
      "[maelzel.scoring:quant.py:1608:_mergeSiblings:DEBUG] ---- Merged node:\n",
      "    Node(1/1, \n",
      "  «4C 0:2 2♩»\n",
      ")\n",
      "[maelzel.scoring:quant.py:1611:_mergeSiblings:DEBUG] Nodes cannot merge: \n",
      "Node(1/1, \n",
      "  «4C 0:2 2♩»\n",
      ")\n",
      "Node(1/1, \n",
      "  «4C# 2:2.75 3/4♩»\n",
      "  Node(3/2, \n",
      "    «4D# 2.75:2.792 1/24♩ 3/2»\n",
      "    «4E~ 2.792:2.833 1/24♩ 3/2»\n",
      "    «~4E 2.833:3 1/6♩ 3/2»\n",
      "  )\n",
      ")\n",
      "----> no need to extend node over beat\n",
      "[maelzel.scoring:quant.py:1611:_mergeSiblings:DEBUG] Nodes cannot merge: \n",
      "Node(1/1, \n",
      "  «4C# 2:2.75 3/4♩»\n",
      "  Node(3/2, \n",
      "    «4D# 2.75:2.792 1/24♩ 3/2»\n",
      "    «4E~ 2.792:2.833 1/24♩ 3/2»\n",
      "    «~4E 2.833:3 1/6♩ 3/2»\n",
      "  )\n",
      ")\n",
      "Node(1/1, \n",
      "  «rest 3:4 1♩»\n",
      ")\n",
      "----> no need to extend node over beat\n",
      "[maelzel.scoring:node.py:647:_splitUnnecessaryNodes:DEBUG] Did not split node Node(1/1, \n",
      "  Node(1/1, \n",
      "    «4C 0:2 2♩»\n",
      "  )\n",
      "  Node(1/1, \n",
      "    «4C# 2:2.75 3/4♩»\n",
      "    Node(3/2, \n",
      "      «4D# 2.75:2.792 1/24♩ 3/2»\n",
      "      «4E~ 2.792:2.833 1/24♩ 3/2»\n",
      "      «~4E 2.833:3 1/6♩ 3/2»\n",
      "    )\n",
      "  )\n",
      "  Node(1/1, \n",
      "    «rest 3:4 1♩»\n",
      "  )\n",
      ") at 1\n",
      "[maelzel.scoring:renderlily.py:1116:write:DEBUG] Rendering lilypond '/tmp/tmpsyxikita.ly' to '/tmp/tmpsyxikita.png'\n",
      "[maelzel.scoring:renderlily.py:1129:write:DEBUG] Found crop file /tmp/tmpsyxikita.cropped.png, using that as output\n"
     ]
    },
    {
     "data": {
      "text/html": [
       "<b>LilypondRenderer</b> (1 part)<br>\n",
       "        <img style=\"display:inline; padding:10px;\n",
       "margin-top:14px;\n",
       "width:546px\"\n",
       "             src=\"data:image/png;base64,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\"/>"
      ],
      "text/plain": [
       "<maelzel.scoring.renderlily.LilypondRenderer at 0x7fb7a5a5c750>"
      ]
     },
     "execution_count": 4,
     "metadata": {},
     "output_type": "execute_result"
    }
   ],
   "source": [
    "from maelzel import scoring\n",
    "from maelzel.scorestruct import ScoreStruct\n",
    "\n",
    "notes = [\n",
    "    (60, F(2, 1)),\n",
    "    (61, F(3, 4)),\n",
    "    (63, F(1, 4)*F(1, 6)),\n",
    "    (64, F(1, 4)*F(5, 6)),\n",
    "    # (62, F(3, 4))\n",
    "]\n",
    "\n",
    "notations = [scoring.makeNote(p, d) for p, d in notes]\n",
    "struct = ScoreStruct(timesig='4/4', tempo=70)\n",
    "\n",
    "part = scoring.UnquantizedPart(notations)\n",
    "quantprofile = scoring.quant.QuantizationProfile.fromPreset('highest')\n",
    "quantprofile.debug = True\n",
    "quantprofile.debugMaxDivisions = 20\n",
    "quantprofile.rhythmComplexityWeight = 0.001\n",
    "quantprofile.divisionErrorWeight = 0.01\n",
    "qpart = scoring.quant.quantizePart(part, struct=struct, quantprofile=quantprofile)\n",
    "options = scoring.render.RenderOptions()\n",
    "score = scoring.quant.QuantizedScore([qpart])\n",
    "r = scoring.render.renderQuantizedScore(score, options)\n",
    "# qpart.dump()\n",
    "r"
   ]
  },
  {
   "cell_type": "code",
   "execution_count": 5,
   "id": "89bb7327-f713-4518-90a8-c4ce42573972",
   "metadata": {},
   "outputs": [
    {
     "name": "stderr",
     "output_type": "stream",
     "text": [
      "[maelzel.scoring:quant.py:1334:quantizeMeasure:DEBUG] Measure 4/4 is not filled (events=[«4C 0:0.133 2/15♩», «4C# 0.133:0.267 2/15♩», «4D 0.267:0.4 2/15♩», «4D# 0.4:0.533 2/15♩», «4E 0.533:0.667 2/15♩», «4F 0.667:1.333 2/3♩»]). Filling gaps with silences\n",
      "[maelzel.scoring:quant.py:917:quantizeBeatBinary:DEBUG] Skipping (9,), gridError=0.22531905327111643 * 1.0 > minError=0.19603001225655553\n",
      "[maelzel.scoring:quant.py:917:quantizeBeatBinary:DEBUG] Skipping (11,), gridError=0.24316288222191995 * 1.0 > minError=0.19603001225655553\n",
      "[maelzel.scoring:quant.py:917:quantizeBeatBinary:DEBUG] Skipping (5, 3), gridError=0.20049751858748066 * 1.0 > minError=0.010208928554075705\n",
      "[maelzel.scoring:quant.py:917:quantizeBeatBinary:DEBUG] Skipping (3, 5), gridError=0.3207162465990675 * 1.0 > minError=0.010208928554075705\n",
      "[maelzel.scoring:quant.py:917:quantizeBeatBinary:DEBUG] Skipping (4, 5), gridError=0.19673172035269532 * 1.0 > minError=0.010208928554075705\n",
      "[maelzel.scoring:quant.py:917:quantizeBeatBinary:DEBUG] Skipping (5, 4), gridError=0.2441649207312312 * 1.0 > minError=0.010208928554075705\n",
      "[maelzel.scoring:quant.py:917:quantizeBeatBinary:DEBUG] Skipping (4, 3), gridError=0.14374033180143142 * 1.0 > minError=0.010208928554075705\n",
      "[maelzel.scoring:quant.py:917:quantizeBeatBinary:DEBUG] Skipping (6, 4), gridError=0.24416492073123122 * 1.0 > minError=0.010208928554075705\n",
      "[maelzel.scoring:quant.py:917:quantizeBeatBinary:DEBUG] Skipping (5, 5), gridError=0.25238293779207727 * 1.0 > minError=0.010208928554075705\n",
      "[maelzel.scoring:quant.py:917:quantizeBeatBinary:DEBUG] Skipping (7, 4), gridError=0.2148988360766373 * 1.0 > minError=0.010208928554075705\n",
      "[maelzel.scoring:quant.py:917:quantizeBeatBinary:DEBUG] Skipping (4, 7), gridError=0.17255460053449845 * 1.0 > minError=0.010208928554075705\n",
      "[maelzel.scoring:quant.py:917:quantizeBeatBinary:DEBUG] Skipping (6, 5), gridError=0.25238293779207727 * 1.0 > minError=0.010208928554075705\n",
      "[maelzel.scoring:quant.py:917:quantizeBeatBinary:DEBUG] Skipping (7, 5), gridError=0.21954740063873274 * 1.0 > minError=0.010208928554075705\n",
      "[maelzel.scoring:quant.py:917:quantizeBeatBinary:DEBUG] Skipping (5, 7), gridError=0.22241135012335242 * 1.0 > minError=0.010208928554075705\n",
      "[maelzel.scoring:quant.py:917:quantizeBeatBinary:DEBUG] Skipping (6, 3), gridError=0.20049751858748066 * 1.0 > minError=0.010208928554075705\n",
      "[maelzel.scoring:quant.py:917:quantizeBeatBinary:DEBUG] Skipping (5, 8), gridError=0.2130800045260752 * 1.0 > minError=0.010208928554075705\n",
      "[maelzel.scoring:quant.py:917:quantizeBeatBinary:DEBUG] Skipping (6, 7), gridError=0.22241135012335242 * 1.0 > minError=0.010208928554075705\n",
      "[maelzel.scoring:quant.py:917:quantizeBeatBinary:DEBUG] Skipping (7, 3), gridError=0.1661449969849082 * 1.0 > minError=0.010208928554075705\n",
      "[maelzel.scoring:quant.py:917:quantizeBeatBinary:DEBUG] Skipping (9, 5), gridError=0.21056630459159945 * 1.0 > minError=0.010208928554075705\n",
      "[maelzel.scoring:quant.py:917:quantizeBeatBinary:DEBUG] Skipping (5, 9), gridError=0.18246811437830174 * 1.0 > minError=0.010208928554075705\n",
      "[maelzel.scoring:quant.py:917:quantizeBeatBinary:DEBUG] Skipping (6, 8), gridError=0.20325372452281723 * 1.0 > minError=0.010208928554075705\n",
      "[maelzel.scoring:quant.py:917:quantizeBeatBinary:DEBUG] Skipping (7, 7), gridError=0.1918762682493161 * 1.0 > minError=0.010208928554075705\n",
      "[maelzel.scoring:quant.py:917:quantizeBeatBinary:DEBUG] Skipping (9, 3), gridError=0.15595447148400104 * 1.0 > minError=0.010208928554075705\n",
      "[maelzel.scoring:quant.py:917:quantizeBeatBinary:DEBUG] Skipping (6, 9), gridError=0.1708997920853549 * 1.0 > minError=0.010208928554075705\n",
      "[maelzel.scoring:quant.py:917:quantizeBeatBinary:DEBUG] Skipping (7, 8), gridError=0.17138607607107947 * 1.0 > minError=0.010208928554075705\n",
      "[maelzel.scoring:quant.py:917:quantizeBeatBinary:DEBUG] Skipping (5, 11), gridError=0.18225114578654036 * 1.0 > minError=0.010208928554075705\n",
      "[maelzel.scoring:quant.py:917:quantizeBeatBinary:DEBUG] Skipping (11, 5), gridError=0.16928358884915948 * 1.0 > minError=0.010208928554075705\n",
      "[maelzel.scoring:quant.py:917:quantizeBeatBinary:DEBUG] Skipping (7, 9), gridError=0.13703794360783345 * 1.0 > minError=0.010208928554075705\n",
      "[maelzel.scoring:quant.py:917:quantizeBeatBinary:DEBUG] Skipping (9, 7), gridError=0.18067576402406885 * 1.0 > minError=0.010208928554075705\n",
      "[maelzel.scoring:quant.py:917:quantizeBeatBinary:DEBUG] Skipping (4, 8), gridError=0.1724359070316154 * 1.0 > minError=0.010208928554075705\n",
      "[maelzel.scoring:quant.py:917:quantizeBeatBinary:DEBUG] Skipping (6, 11), gridError=0.17444896055045422 * 1.0 > minError=0.010208928554075705\n",
      "[maelzel.scoring:quant.py:917:quantizeBeatBinary:DEBUG] Skipping (11, 3), gridError=0.11087786983302392 * 1.0 > minError=0.010208928554075705\n",
      "[maelzel.scoring:quant.py:917:quantizeBeatBinary:DEBUG] Skipping (4, 9), gridError=0.13741660541180073 * 1.0 > minError=0.010208928554075705\n",
      "[maelzel.scoring:quant.py:917:quantizeBeatBinary:DEBUG] Skipping (9, 8), gridError=0.1773973135597837 * 1.0 > minError=0.010208928554075705\n",
      "[maelzel.scoring:quant.py:917:quantizeBeatBinary:DEBUG] Skipping (11, 7), gridError=0.1383047947467907 * 1.0 > minError=0.010208928554075705\n",
      "[maelzel.scoring:quant.py:917:quantizeBeatBinary:DEBUG] Skipping (7, 11), gridError=0.14441027532569373 * 1.0 > minError=0.010208928554075705\n",
      "[maelzel.scoring:quant.py:917:quantizeBeatBinary:DEBUG] Skipping (9, 9), gridError=0.14495593273553908 * 1.0 > minError=0.010208928554075705\n",
      "[maelzel.scoring:quant.py:917:quantizeBeatBinary:DEBUG] Skipping (11, 8), gridError=0.12321641966708485 * 1.0 > minError=0.010208928554075705\n",
      "[maelzel.scoring:quant.py:917:quantizeBeatBinary:DEBUG] Skipping (4, 11), gridError=0.1394419808753821 * 1.0 > minError=0.010208928554075705\n",
      "[maelzel.scoring:quant.py:917:quantizeBeatBinary:DEBUG] Skipping (9, 11), gridError=0.14484494466469303 * 1.0 > minError=0.010208928554075705\n",
      "[maelzel.scoring:quant.py:917:quantizeBeatBinary:DEBUG] Skipping (11, 9), gridError=0.08371214605916864 * 1.0 > minError=0.010208928554075705\n",
      "[maelzel.scoring:quant.py:917:quantizeBeatBinary:DEBUG] Skipping (11, 11), gridError=0.08726805202062994 * 1.0 > minError=0.010208928554075705\n",
      "[maelzel.scoring:quant.py:917:quantizeBeatBinary:DEBUG] Skipping (5, 3, 1), gridError=0.12941181292101037 * 1.0 > minError=0.010208928554075705\n",
      "[maelzel.scoring:quant.py:917:quantizeBeatBinary:DEBUG] Skipping (3, 2, 1), gridError=0.2502664536362158 * 1.0 > minError=0.010208928554075705\n",
      "[maelzel.scoring:quant.py:917:quantizeBeatBinary:DEBUG] Skipping (2, 3, 1), gridError=0.25026645363621586 * 1.0 > minError=0.010208928554075705\n",
      "[maelzel.scoring:quant.py:917:quantizeBeatBinary:DEBUG] Skipping (3, 5, 1), gridError=0.12941181292101037 * 1.0 > minError=0.010208928554075705\n",
      "[maelzel.scoring:quant.py:917:quantizeBeatBinary:DEBUG] Skipping (2, 5, 1), gridError=0.1789974848004854 * 1.0 > minError=0.010208928554075705\n",
      "[maelzel.scoring:quant.py:917:quantizeBeatBinary:DEBUG] Skipping (5, 2, 1), gridError=0.1789974848004854 * 1.0 > minError=0.010208928554075705\n",
      "[maelzel.scoring:quant.py:917:quantizeBeatBinary:DEBUG] Skipping (3, 3, 1), gridError=0.22531905327111643 * 1.0 > minError=0.010208928554075705\n",
      "[maelzel.scoring:quant.py:917:quantizeBeatBinary:DEBUG] Skipping (4, 3, 1), gridError=0.21221760021727193 * 1.0 > minError=0.010208928554075705\n",
      "[maelzel.scoring:quant.py:917:quantizeBeatBinary:DEBUG] Skipping (4, 5, 1), gridError=0.11515558489121323 * 1.0 > minError=0.010208928554075705\n",
      "[maelzel.scoring:quant.py:917:quantizeBeatBinary:DEBUG] Skipping (3, 4, 1), gridError=0.2122176002172719 * 1.0 > minError=0.010208928554075705\n",
      "[maelzel.scoring:quant.py:917:quantizeBeatBinary:DEBUG] Skipping (5, 4, 1), gridError=0.11515558489121323 * 1.0 > minError=0.010208928554075705\n",
      "[maelzel.scoring:quant.py:917:quantizeBeatBinary:DEBUG] Skipping (3, 6, 1), gridError=0.1789974848004854 * 1.0 > minError=0.010208928554075705\n",
      "[maelzel.scoring:quant.py:917:quantizeBeatBinary:DEBUG] Skipping (6, 4, 1), gridError=0.16534820297586375 * 1.0 > minError=0.010208928554075705\n",
      "[maelzel.scoring:quant.py:917:quantizeBeatBinary:DEBUG] Skipping (6, 3, 1), gridError=0.1789974848004854 * 1.0 > minError=0.010208928554075705\n",
      "[maelzel.scoring:quant.py:917:quantizeBeatBinary:DEBUG] Skipping (4, 6, 1), gridError=0.16534820297586375 * 1.0 > minError=0.010208928554075705\n",
      "[maelzel.scoring:quant.py:917:quantizeBeatBinary:DEBUG] Skipping (4, 4, 1), gridError=0.20049751858748066 * 1.0 > minError=0.003025814858109391\n",
      "[maelzel.scoring:quant.py:917:quantizeBeatBinary:DEBUG] Skipping (3, 7, 1), gridError=0.1625356673719714 * 1.0 > minError=0.003025814858109391\n",
      "[maelzel.scoring:quant.py:917:quantizeBeatBinary:DEBUG] Skipping (7, 3, 1), gridError=0.16253566737197142 * 1.0 > minError=0.003025814858109391\n",
      "[maelzel.scoring:quant.py:917:quantizeBeatBinary:DEBUG] Skipping (7, 4, 1), gridError=0.14759058293750735 * 1.0 > minError=0.003025814858109391\n",
      "[maelzel.scoring:quant.py:917:quantizeBeatBinary:DEBUG] Skipping (4, 7, 1), gridError=0.14759058293750735 * 1.0 > minError=0.003025814858109391\n",
      "[maelzel.scoring:quant.py:917:quantizeBeatBinary:DEBUG] Skipping (6, 5, 1), gridError=0.08325532074018731 * 1.0 > minError=0.003025814858109391\n",
      "[maelzel.scoring:quant.py:917:quantizeBeatBinary:DEBUG] Skipping (5, 6, 1), gridError=0.08325532074018731 * 1.0 > minError=0.003025814858109391\n",
      "[maelzel.scoring:quant.py:908:quantizeBeatBinary:DEBUG] Skipping (7, 5, 1), divPenalty=0.12961481396815722 * 0.044721359549995794 > minError=0.003025814858109391\n",
      "[maelzel.scoring:quant.py:908:quantizeBeatBinary:DEBUG] Skipping (5, 7, 1), divPenalty=0.12961481396815722 * 0.044721359549995794 > minError=0.003025814858109391\n",
      "[maelzel.scoring:quant.py:917:quantizeBeatBinary:DEBUG] Skipping (5, 8, 1), gridError=0.05904714930067285 * 1.0 > minError=0.003025814858109391\n",
      "[maelzel.scoring:quant.py:917:quantizeBeatBinary:DEBUG] Skipping (8, 3, 1), gridError=0.16696140079818064 * 1.0 > minError=0.003025814858109391\n",
      "[maelzel.scoring:quant.py:917:quantizeBeatBinary:DEBUG] Skipping (3, 8, 1), gridError=0.16696140079818061 * 1.0 > minError=0.003025814858109391\n",
      "[maelzel.scoring:quant.py:917:quantizeBeatBinary:DEBUG] Skipping (8, 5, 1), gridError=0.05904714930067285 * 1.0 > minError=0.003025814858109391\n",
      "[maelzel.scoring:quant.py:917:quantizeBeatBinary:DEBUG] Skipping (6, 6, 1), gridError=0.14495593273553908 * 1.0 > minError=0.003025814858109391\n",
      "[maelzel.scoring:quant.py:917:quantizeBeatBinary:DEBUG] Skipping (9, 5, 1), gridError=0.06019203009649561 * 1.0 > minError=0.003025814858109391\n",
      "[maelzel.scoring:quant.py:917:quantizeBeatBinary:DEBUG] Skipping (3, 9, 1), gridError=0.16734979432320285 * 1.0 > minError=0.003025814858109391\n",
      "[maelzel.scoring:quant.py:917:quantizeBeatBinary:DEBUG] Skipping (5, 9, 1), gridError=0.06019203009649561 * 1.0 > minError=0.003025814858109391\n",
      "[maelzel.scoring:quant.py:917:quantizeBeatBinary:DEBUG] Skipping (9, 3, 1), gridError=0.16734979432320285 * 1.0 > minError=0.003025814858109391\n",
      "[maelzel.scoring:quant.py:917:quantizeBeatBinary:DEBUG] Skipping (4, 8, 1), gridError=0.1531607855771824 * 1.0 > minError=0.003025814858109391\n",
      "[maelzel.scoring:quant.py:917:quantizeBeatBinary:DEBUG] Skipping (8, 4, 1), gridError=0.1531607855771824 * 1.0 > minError=0.003025814858109391\n",
      "[maelzel.scoring:quant.py:917:quantizeBeatBinary:DEBUG] Skipping (7, 6, 1), gridError=0.12943345821718513 * 1.0 > minError=0.003025814858109391\n",
      "[maelzel.scoring:quant.py:917:quantizeBeatBinary:DEBUG] Skipping (6, 7, 1), gridError=0.1294334582171851 * 1.0 > minError=0.003025814858109391\n",
      "[maelzel.scoring:quant.py:917:quantizeBeatBinary:DEBUG] Skipping (4, 9, 1), gridError=0.1545416980476535 * 1.0 > minError=0.003025814858109391\n",
      "[maelzel.scoring:quant.py:917:quantizeBeatBinary:DEBUG] Skipping (9, 4, 1), gridError=0.1545416980476535 * 1.0 > minError=0.003025814858109391\n",
      "[maelzel.scoring:quant.py:917:quantizeBeatBinary:DEBUG] Skipping (6, 8, 1), gridError=0.11630017377993117 * 1.0 > minError=0.003025814858109391\n",
      "[maelzel.scoring:quant.py:917:quantizeBeatBinary:DEBUG] Skipping (8, 6, 1), gridError=0.11630017377993117 * 1.0 > minError=0.003025814858109391\n",
      "[maelzel.scoring:quant.py:917:quantizeBeatBinary:DEBUG] Skipping (7, 7, 1), gridError=0.11439748838175595 * 1.0 > minError=0.003025814858109391\n",
      "[maelzel.scoring:quant.py:917:quantizeBeatBinary:DEBUG] Skipping (6, 9, 1), gridError=0.11954363903039435 * 1.0 > minError=0.003025814858109391\n",
      "[maelzel.scoring:quant.py:917:quantizeBeatBinary:DEBUG] Skipping (9, 6, 1), gridError=0.11954363903039435 * 1.0 > minError=0.003025814858109391\n",
      "[maelzel.scoring:quant.py:917:quantizeBeatBinary:DEBUG] Skipping (8, 7, 1), gridError=0.09997304855830841 * 1.0 > minError=0.003025814858109391\n",
      "[maelzel.scoring:quant.py:917:quantizeBeatBinary:DEBUG] Skipping (7, 8, 1), gridError=0.09997304855830841 * 1.0 > minError=0.003025814858109391\n",
      "[maelzel.scoring:quant.py:917:quantizeBeatBinary:DEBUG] Skipping (7, 9, 1), gridError=0.10411048546481155 * 1.0 > minError=0.003025814858109391\n",
      "[maelzel.scoring:quant.py:917:quantizeBeatBinary:DEBUG] Skipping (9, 7, 1), gridError=0.10411048546481155 * 1.0 > minError=0.003025814858109391\n",
      "[maelzel.scoring:quant.py:917:quantizeBeatBinary:DEBUG] Skipping (8, 8, 1), gridError=0.10280705816946219 * 1.0 > minError=0.003025814858109391\n",
      "[maelzel.scoring:quant.py:917:quantizeBeatBinary:DEBUG] Skipping (8, 9, 1), gridError=0.10342226029306646 * 1.0 > minError=0.003025814858109391\n",
      "[maelzel.scoring:quant.py:917:quantizeBeatBinary:DEBUG] Skipping (9, 8, 1), gridError=0.10342226029306645 * 1.0 > minError=0.003025814858109391\n",
      "[maelzel.scoring:quant.py:917:quantizeBeatBinary:DEBUG] Skipping (9, 9, 1), gridError=0.10480041141288302 * 1.0 > minError=0.003025814858109391\n",
      "[maelzel.scoring:quant.py:917:quantizeBeatBinary:DEBUG] Skipping (3, 2, 2, 1), gridError=0.23580092567898683 * 1.0 > minError=0.003025814858109391\n",
      "[maelzel.scoring:quant.py:917:quantizeBeatBinary:DEBUG] Skipping (2, 2, 3, 1), gridError=0.14374033180143142 * 1.0 > minError=0.003025814858109391\n",
      "[maelzel.scoring:quant.py:917:quantizeBeatBinary:DEBUG] Skipping (2, 2, 2, 1), gridError=0.19602950212992257 * 1.0 > minError=0.003025814858109391\n",
      "[maelzel.scoring:quant.py:917:quantizeBeatBinary:DEBUG] Skipping (2, 3, 2, 1), gridError=0.20099166042541416 * 1.0 > minError=0.003025814858109391\n",
      "[maelzel.scoring:quant.py:917:quantizeBeatBinary:DEBUG] Skipping (2, 2, 4, 1), gridError=0.1724359070316154 * 1.0 > minError=0.003025814858109391\n",
      "[maelzel.scoring:quant.py:917:quantizeBeatBinary:DEBUG] Skipping (3, 2, 4, 1), gridError=0.21626373762917472 * 1.0 > minError=0.003025814858109391\n",
      "[maelzel.scoring:quant.py:917:quantizeBeatBinary:DEBUG] Skipping (2, 3, 4, 1), gridError=0.15901630207097328 * 1.0 > minError=0.003025814858109391\n",
      "[maelzel.scoring:quant.py:917:quantizeBeatBinary:DEBUG] Skipping (5, 2, 3, 1), gridError=0.16101255015017535 * 1.0 > minError=0.003025814858109391\n",
      "[maelzel.scoring:quant.py:917:quantizeBeatBinary:DEBUG] Skipping (5, 2, 2, 1), gridError=0.21120371081975076 * 1.0 > minError=0.003025814858109391\n",
      "[maelzel.scoring:quant.py:917:quantizeBeatBinary:DEBUG] Skipping (2, 2, 5, 1), gridError=0.1563546123950303 * 1.0 > minError=0.003025814858109391\n",
      "[maelzel.scoring:quant.py:917:quantizeBeatBinary:DEBUG] Skipping (2, 5, 2, 1), gridError=0.1745119578494455 * 1.0 > minError=0.003025814858109391\n",
      "[maelzel.scoring:quant.py:917:quantizeBeatBinary:DEBUG] Skipping (3, 5, 2, 1), gridError=0.2186197629535503 * 1.0 > minError=0.003025814858109391\n",
      "[maelzel.scoring:quant.py:917:quantizeBeatBinary:DEBUG] Skipping (3, 2, 5, 1), gridError=0.20252423193584485 * 1.0 > minError=0.003025814858109391\n",
      "[maelzel.scoring:quant.py:917:quantizeBeatBinary:DEBUG] Skipping (2, 5, 3, 1), gridError=0.12389302073551581 * 1.0 > minError=0.003025814858109391\n",
      "[maelzel.scoring:quant.py:917:quantizeBeatBinary:DEBUG] Skipping (2, 3, 5, 1), gridError=0.1421988025413349 * 1.0 > minError=0.003025814858109391\n",
      "[maelzel.scoring:quant.py:917:quantizeBeatBinary:DEBUG] Skipping (5, 3, 2, 1), gridError=0.2186197629535503 * 1.0 > minError=0.003025814858109391\n",
      "[maelzel.scoring:quant.py:917:quantizeBeatBinary:DEBUG] Skipping (3, 2, 3, 1), gridError=0.18783733979723768 * 1.0 > minError=0.003025814858109391\n",
      "[maelzel.scoring:quant.py:917:quantizeBeatBinary:DEBUG] Skipping (3, 3, 2, 1), gridError=0.24416492073123122 * 1.0 > minError=0.003025814858109391\n",
      "[maelzel.scoring:quant.py:917:quantizeBeatBinary:DEBUG] Skipping (2, 3, 3, 1), gridError=0.1531607855771824 * 1.0 > minError=0.003025814858109391\n",
      "[maelzel.scoring:quant.py:917:quantizeBeatBinary:DEBUG] Skipping (3, 3, 4, 1), gridError=0.20325372452281723 * 1.0 > minError=0.003025814858109391\n",
      "[maelzel.scoring:quant.py:917:quantizeBeatBinary:DEBUG] Skipping (3, 5, 3, 1), gridError=0.1732862107887866 * 1.0 > minError=0.003025814858109391\n",
      "[maelzel.scoring:quant.py:917:quantizeBeatBinary:DEBUG] Skipping (3, 3, 5, 1), gridError=0.1891272947413045 * 1.0 > minError=0.003025814858109391\n",
      "[maelzel.scoring:quant.py:917:quantizeBeatBinary:DEBUG] Skipping (5, 3, 3, 1), gridError=0.1732862107887866 * 1.0 > minError=0.003025814858109391\n",
      "[maelzel.scoring:quant.py:917:quantizeBeatBinary:DEBUG] Skipping (3, 3, 3, 1), gridError=0.20049751858748066 * 1.0 > minError=0.003025814858109391\n",
      "[maelzel.scoring:quant.py:917:quantizeBeatBinary:DEBUG] Skipping (5, 3, 4, 1), gridError=0.17670129193876957 * 1.0 > minError=0.003025814858109391\n",
      "[maelzel.scoring:quant.py:917:quantizeBeatBinary:DEBUG] Skipping (5, 2, 4, 1), gridError=0.19006940852877638 * 1.0 > minError=0.003025814858109391\n",
      "[maelzel.scoring:quant.py:917:quantizeBeatBinary:DEBUG] Skipping (2, 5, 4, 1), gridError=0.1397852344157577 * 1.0 > minError=0.003025814858109391\n",
      "[maelzel.scoring:quant.py:917:quantizeBeatBinary:DEBUG] Skipping (3, 5, 4, 1), gridError=0.18646498003458842 * 1.0 > minError=0.003025814858109391\n",
      "[maelzel.scoring:quant.py:917:quantizeBeatBinary:DEBUG] Skipping (2, 2, 6, 1), gridError=0.1129927017724389 * 1.0 > minError=0.003025814858109391\n",
      "[maelzel.scoring:quant.py:917:quantizeBeatBinary:DEBUG] Skipping (2, 3, 6, 1), gridError=0.10280705816946219 * 1.0 > minError=0.003025814858109391\n",
      "[maelzel.scoring:quant.py:917:quantizeBeatBinary:DEBUG] Skipping (3, 2, 6, 1), gridError=0.16161278697136935 * 1.0 > minError=0.003025814858109391\n",
      "[maelzel.scoring:quant.py:917:quantizeBeatBinary:DEBUG] Skipping (5, 3, 5, 1), gridError=0.16161278697136935 * 1.0 > minError=0.003025814858109391\n",
      "[maelzel.scoring:quant.py:917:quantizeBeatBinary:DEBUG] Skipping (2, 5, 5, 1), gridError=0.12389302073551581 * 1.0 > minError=0.003025814858109391\n",
      "[maelzel.scoring:quant.py:917:quantizeBeatBinary:DEBUG] Skipping (5, 2, 5, 1), gridError=0.17549845076347237 * 1.0 > minError=0.003025814858109391\n",
      "[maelzel.scoring:quant.py:917:quantizeBeatBinary:DEBUG] Skipping (3, 5, 5, 1), gridError=0.1732862107887866 * 1.0 > minError=0.003025814858109391\n",
      "[maelzel.scoring:quant.py:917:quantizeBeatBinary:DEBUG] Skipping (5, 5, 2, 1), gridError=0.19239456788203682 * 1.0 > minError=0.003025814858109391\n",
      "[maelzel.scoring:quant.py:917:quantizeBeatBinary:DEBUG] Skipping (5, 5, 3, 1), gridError=0.14495593273553908 * 1.0 > minError=0.003025814858109391\n",
      "[maelzel.scoring:quant.py:917:quantizeBeatBinary:DEBUG] Skipping (2, 7, 3, 1), gridError=0.1270761314578222 * 1.0 > minError=0.003025814858109391\n",
      "[maelzel.scoring:quant.py:917:quantizeBeatBinary:DEBUG] Skipping (7, 3, 2, 1), gridError=0.20746897829072736 * 1.0 > minError=0.003025814858109391\n",
      "[maelzel.scoring:quant.py:917:quantizeBeatBinary:DEBUG] Skipping (3, 7, 2, 1), gridError=0.2218319230178591 * 1.0 > minError=0.003025814858109391\n",
      "[maelzel.scoring:quant.py:917:quantizeBeatBinary:DEBUG] Skipping (7, 2, 3, 1), gridError=0.14930526857893991 * 1.0 > minError=0.003025814858109391\n",
      "[maelzel.scoring:quant.py:917:quantizeBeatBinary:DEBUG] Skipping (2, 3, 7, 1), gridError=0.11617301845407055 * 1.0 > minError=0.003025814858109391\n",
      "[maelzel.scoring:quant.py:917:quantizeBeatBinary:DEBUG] Skipping (2, 7, 2, 1), gridError=0.17910522988841807 * 1.0 > minError=0.003025814858109391\n",
      "[maelzel.scoring:quant.py:917:quantizeBeatBinary:DEBUG] Skipping (7, 2, 4, 1), gridError=0.17862261238716196 * 1.0 > minError=0.003025814858109391\n",
      "[maelzel.scoring:quant.py:917:quantizeBeatBinary:DEBUG] Skipping (7, 2, 2, 1), gridError=0.20058841625793852 * 1.0 > minError=0.003025814858109391\n",
      "[maelzel.scoring:quant.py:917:quantizeBeatBinary:DEBUG] Skipping (2, 2, 7, 1), gridError=0.12221996060508408 * 1.0 > minError=0.003025814858109391\n",
      "[maelzel.scoring:quant.py:917:quantizeBeatBinary:DEBUG] Skipping (3, 7, 4, 1), gridError=0.19360872587719213 * 1.0 > minError=0.003025814858109391\n",
      "[maelzel.scoring:quant.py:917:quantizeBeatBinary:DEBUG] Skipping (3, 2, 7, 1), gridError=0.17001640869043785 * 1.0 > minError=0.003025814858109391\n",
      "[maelzel.scoring:quant.py:917:quantizeBeatBinary:DEBUG] Skipping (7, 3, 4, 1), gridError=0.16509027369520463 * 1.0 > minError=0.003025814858109391\n",
      "[maelzel.scoring:quant.py:917:quantizeBeatBinary:DEBUG] Skipping (2, 7, 4, 1), gridError=0.14800960658384935 * 1.0 > minError=0.003025814858109391\n",
      "[maelzel.scoring:quant.py:917:quantizeBeatBinary:DEBUG] Skipping (5, 3, 6, 1), gridError=0.12389302073551581 * 1.0 > minError=0.003025814858109391\n",
      "[maelzel.scoring:quant.py:917:quantizeBeatBinary:DEBUG] Skipping (5, 2, 6, 1), gridError=0.13294566895631374 * 1.0 > minError=0.003025814858109391\n",
      "[maelzel.scoring:quant.py:917:quantizeBeatBinary:DEBUG] Skipping (2, 5, 6, 1), gridError=0.07635723561704898 * 1.0 > minError=0.003025814858109391\n",
      "[maelzel.scoring:quant.py:917:quantizeBeatBinary:DEBUG] Skipping (3, 5, 6, 1), gridError=0.13026940730569272 * 1.0 > minError=0.003025814858109391\n",
      "[maelzel.scoring:quant.py:917:quantizeBeatBinary:DEBUG] Skipping (3, 3, 6, 1), gridError=0.1531607855771824 * 1.0 > minError=0.003025814858109391\n",
      "[maelzel.scoring:quant.py:917:quantizeBeatBinary:DEBUG] Skipping (7, 5, 2, 1), gridError=0.18092369520154203 * 1.0 > minError=0.003025814858109391\n",
      "[maelzel.scoring:quant.py:917:quantizeBeatBinary:DEBUG] Skipping (2, 5, 7, 1), gridError=0.08643444222545968 * 1.0 > minError=0.003025814858109391\n",
      "[maelzel.scoring:quant.py:908:quantizeBeatBinary:DEBUG] Skipping (3, 5, 7, 1), divPenalty=0.1321578050095765 * 0.044721359549995794 > minError=0.003025814858109391\n",
      "[maelzel.scoring:quant.py:908:quantizeBeatBinary:DEBUG] Skipping (7, 3, 5, 1), divPenalty=0.1321578050095765 * 0.044721359549995794 > minError=0.003025814858109391\n",
      "[maelzel.scoring:quant.py:917:quantizeBeatBinary:DEBUG] Skipping (2, 7, 5, 1), gridError=0.1316379220373743 * 1.0 > minError=0.003025814858109391\n",
      "[maelzel.scoring:quant.py:908:quantizeBeatBinary:DEBUG] Skipping (3, 7, 5, 1), divPenalty=0.1321578050095765 * 0.044721359549995794 > minError=0.003025814858109391\n",
      "[maelzel.scoring:quant.py:908:quantizeBeatBinary:DEBUG] Skipping (5, 7, 3, 1), divPenalty=0.1321578050095765 * 0.044721359549995794 > minError=0.003025814858109391\n",
      "[maelzel.scoring:quant.py:917:quantizeBeatBinary:DEBUG] Skipping (5, 7, 2, 1), gridError=0.19605040156353506 * 1.0 > minError=0.003025814858109391\n",
      "[maelzel.scoring:quant.py:908:quantizeBeatBinary:DEBUG] Skipping (7, 5, 3, 1), divPenalty=0.1321578050095765 * 0.044721359549995794 > minError=0.003025814858109391\n",
      "[maelzel.scoring:quant.py:917:quantizeBeatBinary:DEBUG] Skipping (7, 2, 5, 1), gridError=0.16361324645522807 * 1.0 > minError=0.003025814858109391\n",
      "[maelzel.scoring:quant.py:917:quantizeBeatBinary:DEBUG] Skipping (5, 2, 7, 1), gridError=0.14178347042290693 * 1.0 > minError=0.003025814858109391\n",
      "[maelzel.scoring:quant.py:908:quantizeBeatBinary:DEBUG] Skipping (5, 3, 7, 1), divPenalty=0.1321578050095765 * 0.044721359549995794 > minError=0.003025814858109391\n",
      "[maelzel.scoring:quant.py:917:quantizeBeatBinary:DEBUG] Skipping (3, 7, 3, 1), gridError=0.17510144959995166 * 1.0 > minError=0.003025814858109391\n",
      "[maelzel.scoring:quant.py:917:quantizeBeatBinary:DEBUG] Skipping (3, 3, 7, 1), gridError=0.1658230880091364 * 1.0 > minError=0.003025814858109391\n",
      "[maelzel.scoring:quant.py:917:quantizeBeatBinary:DEBUG] Skipping (7, 3, 3, 1), gridError=0.16129821168159955 * 1.0 > minError=0.003025814858109391\n",
      "[maelzel.scoring:quant.py:917:quantizeBeatBinary:DEBUG] Skipping (5, 5, 4, 1), gridError=0.1589286535532867 * 1.0 > minError=0.003025814858109391\n",
      "[maelzel.scoring:quant.py:917:quantizeBeatBinary:DEBUG] Skipping (5, 5, 5, 1), gridError=0.14495593273553908 * 1.0 > minError=0.003025814858109391\n",
      "[maelzel.scoring:quant.py:917:quantizeBeatBinary:DEBUG] Skipping (7, 5, 4, 1), gridError=0.14679754736765874 * 1.0 > minError=0.003025814858109391\n",
      "[maelzel.scoring:quant.py:917:quantizeBeatBinary:DEBUG] Skipping (5, 7, 4, 1), gridError=0.1664943481605467 * 1.0 > minError=0.003025814858109391\n",
      "[maelzel.scoring:quant.py:917:quantizeBeatBinary:DEBUG] Skipping (5, 5, 6, 1), gridError=0.0995267926383743 * 1.0 > minError=0.003025814858109391\n",
      "[maelzel.scoring:quant.py:917:quantizeBeatBinary:DEBUG] Skipping (7, 3, 6, 1), gridError=0.1108365662591099 * 1.0 > minError=0.003025814858109391\n",
      "[maelzel.scoring:quant.py:917:quantizeBeatBinary:DEBUG] Skipping (3, 7, 6, 1), gridError=0.13749002509770214 * 1.0 > minError=0.003025814858109391\n",
      "[maelzel.scoring:quant.py:917:quantizeBeatBinary:DEBUG] Skipping (7, 2, 6, 1), gridError=0.12023219392057813 * 1.0 > minError=0.003025814858109391\n",
      "[maelzel.scoring:quant.py:917:quantizeBeatBinary:DEBUG] Skipping (2, 7, 6, 1), gridError=0.08551242869772423 * 1.0 > minError=0.003025814858109391\n",
      "[maelzel.scoring:quant.py:917:quantizeBeatBinary:DEBUG] Skipping (7, 5, 5, 1), gridError=0.13239194930697679 * 1.0 > minError=0.003025814858109391\n",
      "[maelzel.scoring:quant.py:917:quantizeBeatBinary:DEBUG] Skipping (5, 7, 5, 1), gridError=0.151971672955625 * 1.0 > minError=0.003025814858109391\n",
      "[maelzel.scoring:quant.py:917:quantizeBeatBinary:DEBUG] Skipping (5, 5, 7, 1), gridError=0.10880223660106296 * 1.0 > minError=0.003025814858109391\n",
      "[maelzel.scoring:quant.py:917:quantizeBeatBinary:DEBUG] Skipping (7, 3, 7, 1), gridError=0.12441912914953883 * 1.0 > minError=0.003025814858109391\n",
      "[maelzel.scoring:quant.py:917:quantizeBeatBinary:DEBUG] Skipping (7, 7, 3, 1), gridError=0.13454048631529322 * 1.0 > minError=0.003025814858109391\n",
      "[maelzel.scoring:quant.py:917:quantizeBeatBinary:DEBUG] Skipping (7, 7, 4, 1), gridError=0.15458834299406585 * 1.0 > minError=0.003025814858109391\n",
      "[maelzel.scoring:quant.py:917:quantizeBeatBinary:DEBUG] Skipping (3, 7, 7, 1), gridError=0.14616454790275657 * 1.0 > minError=0.003025814858109391\n",
      "[maelzel.scoring:quant.py:917:quantizeBeatBinary:DEBUG] Skipping (7, 2, 7, 1), gridError=0.12929944068961371 * 1.0 > minError=0.003025814858109391\n",
      "[maelzel.scoring:quant.py:917:quantizeBeatBinary:DEBUG] Skipping (2, 7, 7, 1), gridError=0.09536752256480831 * 1.0 > minError=0.003025814858109391\n",
      "[maelzel.scoring:quant.py:908:quantizeBeatBinary:DEBUG] Skipping (7, 5, 6, 1), divPenalty=0.13413731890502192 * 0.044721359549995794 > minError=0.003025814858109391\n",
      "[maelzel.scoring:quant.py:908:quantizeBeatBinary:DEBUG] Skipping (5, 7, 6, 1), divPenalty=0.13413731890502192 * 0.044721359549995794 > minError=0.003025814858109391\n",
      "[maelzel.scoring:quant.py:917:quantizeBeatBinary:DEBUG] Skipping (7, 5, 7, 1), gridError=0.09524035420831177 * 1.0 > minError=0.003025814858109391\n",
      "[maelzel.scoring:quant.py:917:quantizeBeatBinary:DEBUG] Skipping (7, 7, 5, 1), gridError=0.13958108734236813 * 1.0 > minError=0.003025814858109391\n",
      "[maelzel.scoring:quant.py:917:quantizeBeatBinary:DEBUG] Skipping (5, 7, 7, 1), gridError=0.11653581295821248 * 1.0 > minError=0.003025814858109391\n",
      "[maelzel.scoring:quant.py:917:quantizeBeatBinary:DEBUG] Skipping (7, 7, 6, 1), gridError=0.0937295966403476 * 1.0 > minError=0.003025814858109391\n",
      "[maelzel.scoring:quant.py:917:quantizeBeatBinary:DEBUG] Skipping (7, 7, 7, 1), gridError=0.1032869089781215 * 1.0 > minError=0.003025814858109391\n",
      "[maelzel.scoring:quant.py:917:quantizeBeatBinary:DEBUG] Skipping (2, 3, 2, 2, 1), gridError=0.20049751858748066 * 1.0 > minError=0.003025814858109391\n",
      "[maelzel.scoring:quant.py:917:quantizeBeatBinary:DEBUG] Skipping (2, 2, 3, 2, 1), gridError=0.20049751858748066 * 1.0 > minError=0.003025814858109391\n",
      "[maelzel.scoring:quant.py:917:quantizeBeatBinary:DEBUG] Skipping (2, 2, 2, 2, 1), gridError=0.25238293779207727 * 1.0 > minError=0.003025814858109391\n",
      "[maelzel.scoring:quant.py:917:quantizeBeatBinary:DEBUG] Skipping (3, 2, 2, 2, 1), gridError=0.20049751858748066 * 1.0 > minError=0.003025814858109391\n",
      "[maelzel.scoring:quant.py:917:quantizeBeatBinary:DEBUG] Skipping (2, 2, 2, 3, 1), gridError=0.20049751858748066 * 1.0 > minError=0.003025814858109391\n",
      "[maelzel.scoring:quant.py:908:quantizeBeatBinary:DEBUG] Skipping (3, 3, 2, 2, 1), divPenalty=0.12122969933147572 * 0.044721359549995794 > minError=0.003025814858109391\n",
      "[maelzel.scoring:quant.py:908:quantizeBeatBinary:DEBUG] Skipping (3, 2, 2, 3, 1), divPenalty=0.12122969933147572 * 0.044721359549995794 > minError=0.003025814858109391\n",
      "[maelzel.scoring:quant.py:908:quantizeBeatBinary:DEBUG] Skipping (2, 3, 2, 3, 1), divPenalty=0.12122969933147572 * 0.044721359549995794 > minError=0.003025814858109391\n",
      "[maelzel.scoring:quant.py:908:quantizeBeatBinary:DEBUG] Skipping (2, 3, 3, 2, 1), divPenalty=0.12122969933147572 * 0.044721359549995794 > minError=0.003025814858109391\n",
      "[maelzel.scoring:quant.py:908:quantizeBeatBinary:DEBUG] Skipping (3, 2, 3, 2, 1), divPenalty=0.12122969933147572 * 0.044721359549995794 > minError=0.003025814858109391\n",
      "[maelzel.scoring:quant.py:908:quantizeBeatBinary:DEBUG] Skipping (2, 2, 3, 3, 1), divPenalty=0.12122969933147572 * 0.044721359549995794 > minError=0.003025814858109391\n",
      "[maelzel.scoring:quant.py:908:quantizeBeatBinary:DEBUG] Skipping (3, 2, 4, 2, 1), divPenalty=0.07846018098373213 * 0.044721359549995794 > minError=0.003025814858109391\n",
      "[maelzel.scoring:quant.py:908:quantizeBeatBinary:DEBUG] Skipping (4, 3, 2, 2, 1), divPenalty=0.07846018098373213 * 0.044721359549995794 > minError=0.003025814858109391\n",
      "[maelzel.scoring:quant.py:908:quantizeBeatBinary:DEBUG] Skipping (2, 3, 4, 2, 1), divPenalty=0.07846018098373213 * 0.044721359549995794 > minError=0.003025814858109391\n",
      "[maelzel.scoring:quant.py:908:quantizeBeatBinary:DEBUG] Skipping (2, 2, 4, 3, 1), divPenalty=0.07846018098373213 * 0.044721359549995794 > minError=0.003025814858109391\n",
      "[maelzel.scoring:quant.py:908:quantizeBeatBinary:DEBUG] Skipping (4, 2, 2, 3, 1), divPenalty=0.07846018098373213 * 0.044721359549995794 > minError=0.003025814858109391\n",
      "[maelzel.scoring:quant.py:917:quantizeBeatBinary:DEBUG] Skipping (2, 2, 2, 4, 1), gridError=0.2157102779795233 * 1.0 > minError=0.003025814858109391\n",
      "[maelzel.scoring:quant.py:908:quantizeBeatBinary:DEBUG] Skipping (2, 2, 3, 4, 1), divPenalty=0.07846018098373213 * 0.044721359549995794 > minError=0.003025814858109391\n",
      "[maelzel.scoring:quant.py:908:quantizeBeatBinary:DEBUG] Skipping (4, 2, 3, 2, 1), divPenalty=0.07846018098373213 * 0.044721359549995794 > minError=0.003025814858109391\n",
      "[maelzel.scoring:quant.py:917:quantizeBeatBinary:DEBUG] Skipping (2, 2, 4, 2, 1), gridError=0.2157102779795233 * 1.0 > minError=0.003025814858109391\n",
      "[maelzel.scoring:quant.py:917:quantizeBeatBinary:DEBUG] Skipping (4, 2, 2, 2, 1), gridError=0.21571027797952336 * 1.0 > minError=0.003025814858109391\n",
      "[maelzel.scoring:quant.py:908:quantizeBeatBinary:DEBUG] Skipping (2, 3, 2, 4, 1), divPenalty=0.07846018098373213 * 0.044721359549995794 > minError=0.003025814858109391\n",
      "[maelzel.scoring:quant.py:908:quantizeBeatBinary:DEBUG] Skipping (3, 2, 2, 4, 1), divPenalty=0.07846018098373213 * 0.044721359549995794 > minError=0.003025814858109391\n",
      "[maelzel.scoring:quant.py:908:quantizeBeatBinary:DEBUG] Skipping (3, 4, 2, 2, 1), divPenalty=0.07846018098373213 * 0.044721359549995794 > minError=0.003025814858109391\n",
      "[maelzel.scoring:quant.py:908:quantizeBeatBinary:DEBUG] Skipping (2, 4, 3, 2, 1), divPenalty=0.07846018098373213 * 0.044721359549995794 > minError=0.003025814858109391\n",
      "[maelzel.scoring:quant.py:917:quantizeBeatBinary:DEBUG] Skipping (2, 4, 2, 2, 1), gridError=0.21571027797952336 * 1.0 > minError=0.003025814858109391\n",
      "[maelzel.scoring:quant.py:908:quantizeBeatBinary:DEBUG] Skipping (2, 4, 2, 3, 1), divPenalty=0.07846018098373213 * 0.044721359549995794 > minError=0.003025814858109391\n",
      "[maelzel.scoring:quant.py:908:quantizeBeatBinary:DEBUG] Skipping (3, 3, 2, 3, 1), divPenalty=0.2182134587966563 * 0.044721359549995794 > minError=0.003025814858109391\n",
      "[maelzel.scoring:quant.py:908:quantizeBeatBinary:DEBUG] Skipping (3, 3, 3, 2, 1), divPenalty=0.2182134587966563 * 0.044721359549995794 > minError=0.003025814858109391\n",
      "[maelzel.scoring:quant.py:908:quantizeBeatBinary:DEBUG] Skipping (2, 3, 3, 3, 1), divPenalty=0.2182134587966563 * 0.044721359549995794 > minError=0.003025814858109391\n",
      "[maelzel.scoring:quant.py:908:quantizeBeatBinary:DEBUG] Skipping (3, 2, 3, 3, 1), divPenalty=0.2182134587966563 * 0.044721359549995794 > minError=0.003025814858109391\n",
      "[maelzel.scoring:quant.py:908:quantizeBeatBinary:DEBUG] Skipping (5, 2, 3, 2, 1), divPenalty=0.16520823224040626 * 0.044721359549995794 > minError=0.003025814858109391\n",
      "[maelzel.scoring:quant.py:908:quantizeBeatBinary:DEBUG] Skipping (2, 2, 5, 2, 1), divPenalty=0.07200000000000001 * 0.044721359549995794 > minError=0.003025814858109391\n",
      "[maelzel.scoring:quant.py:908:quantizeBeatBinary:DEBUG] Skipping (2, 3, 2, 5, 1), divPenalty=0.16520823224040626 * 0.044721359549995794 > minError=0.003025814858109391\n",
      "[maelzel.scoring:quant.py:908:quantizeBeatBinary:DEBUG] Skipping (2, 2, 5, 3, 1), divPenalty=0.16520823224040626 * 0.044721359549995794 > minError=0.003025814858109391\n",
      "[maelzel.scoring:quant.py:908:quantizeBeatBinary:DEBUG] Skipping (3, 2, 2, 5, 1), divPenalty=0.16520823224040626 * 0.044721359549995794 > minError=0.003025814858109391\n",
      "[maelzel.scoring:quant.py:908:quantizeBeatBinary:DEBUG] Skipping (3, 2, 5, 2, 1), divPenalty=0.16520823224040626 * 0.044721359549995794 > minError=0.003025814858109391\n",
      "[maelzel.scoring:quant.py:908:quantizeBeatBinary:DEBUG] Skipping (3, 5, 2, 2, 1), divPenalty=0.16520823224040626 * 0.044721359549995794 > minError=0.003025814858109391\n",
      "[maelzel.scoring:quant.py:908:quantizeBeatBinary:DEBUG] Skipping (5, 2, 2, 3, 1), divPenalty=0.16520823224040626 * 0.044721359549995794 > minError=0.003025814858109391\n",
      "[maelzel.scoring:quant.py:908:quantizeBeatBinary:DEBUG] Skipping (2, 5, 2, 3, 1), divPenalty=0.16520823224040626 * 0.044721359549995794 > minError=0.003025814858109391\n",
      "[maelzel.scoring:quant.py:908:quantizeBeatBinary:DEBUG] Skipping (5, 2, 2, 2, 1), divPenalty=0.07200000000000001 * 0.044721359549995794 > minError=0.003025814858109391\n",
      "[maelzel.scoring:quant.py:908:quantizeBeatBinary:DEBUG] Skipping (5, 3, 2, 2, 1), divPenalty=0.16520823224040626 * 0.044721359549995794 > minError=0.003025814858109391\n",
      "[maelzel.scoring:quant.py:908:quantizeBeatBinary:DEBUG] Skipping (2, 5, 3, 2, 1), divPenalty=0.16520823224040626 * 0.044721359549995794 > minError=0.003025814858109391\n",
      "[maelzel.scoring:quant.py:908:quantizeBeatBinary:DEBUG] Skipping (2, 5, 2, 2, 1), divPenalty=0.07200000000000001 * 0.044721359549995794 > minError=0.003025814858109391\n",
      "[maelzel.scoring:quant.py:908:quantizeBeatBinary:DEBUG] Skipping (2, 3, 5, 2, 1), divPenalty=0.16520823224040626 * 0.044721359549995794 > minError=0.003025814858109391\n",
      "[maelzel.scoring:quant.py:908:quantizeBeatBinary:DEBUG] Skipping (2, 2, 3, 5, 1), divPenalty=0.16520823224040626 * 0.044721359549995794 > minError=0.003025814858109391\n",
      "[maelzel.scoring:quant.py:908:quantizeBeatBinary:DEBUG] Skipping (2, 2, 2, 5, 1), divPenalty=0.07200000000000001 * 0.044721359549995794 > minError=0.003025814858109391\n",
      "[maelzel.scoring:quant.py:908:quantizeBeatBinary:DEBUG] Skipping (3, 3, 2, 4, 1), divPenalty=0.14122832577071784 * 0.044721359549995794 > minError=0.003025814858109391\n",
      "[maelzel.scoring:quant.py:908:quantizeBeatBinary:DEBUG] Skipping (4, 2, 3, 3, 1), divPenalty=0.14122832577071784 * 0.044721359549995794 > minError=0.003025814858109391\n",
      "[maelzel.scoring:quant.py:908:quantizeBeatBinary:DEBUG] Skipping (3, 4, 2, 3, 1), divPenalty=0.14122832577071784 * 0.044721359549995794 > minError=0.003025814858109391\n",
      "[maelzel.scoring:quant.py:908:quantizeBeatBinary:DEBUG] Skipping (2, 3, 3, 4, 1), divPenalty=0.14122832577071784 * 0.044721359549995794 > minError=0.003025814858109391\n",
      "[maelzel.scoring:quant.py:908:quantizeBeatBinary:DEBUG] Skipping (3, 2, 3, 4, 1), divPenalty=0.14122832577071784 * 0.044721359549995794 > minError=0.003025814858109391\n",
      "[maelzel.scoring:quant.py:908:quantizeBeatBinary:DEBUG] Skipping (4, 3, 3, 2, 1), divPenalty=0.14122832577071784 * 0.044721359549995794 > minError=0.003025814858109391\n",
      "[maelzel.scoring:quant.py:908:quantizeBeatBinary:DEBUG] Skipping (2, 4, 3, 3, 1), divPenalty=0.14122832577071784 * 0.044721359549995794 > minError=0.003025814858109391\n",
      "[maelzel.scoring:quant.py:908:quantizeBeatBinary:DEBUG] Skipping (3, 3, 4, 2, 1), divPenalty=0.14122832577071784 * 0.044721359549995794 > minError=0.003025814858109391\n",
      "[maelzel.scoring:quant.py:908:quantizeBeatBinary:DEBUG] Skipping (3, 4, 3, 2, 1), divPenalty=0.14122832577071784 * 0.044721359549995794 > minError=0.003025814858109391\n",
      "[maelzel.scoring:quant.py:908:quantizeBeatBinary:DEBUG] Skipping (2, 3, 4, 3, 1), divPenalty=0.14122832577071784 * 0.044721359549995794 > minError=0.003025814858109391\n",
      "[maelzel.scoring:quant.py:908:quantizeBeatBinary:DEBUG] Skipping (3, 2, 4, 3, 1), divPenalty=0.14122832577071784 * 0.044721359549995794 > minError=0.003025814858109391\n",
      "[maelzel.scoring:quant.py:908:quantizeBeatBinary:DEBUG] Skipping (4, 3, 2, 3, 1), divPenalty=0.14122832577071784 * 0.044721359549995794 > minError=0.003025814858109391\n",
      "[maelzel.scoring:quant.py:908:quantizeBeatBinary:DEBUG] Skipping (3, 3, 3, 3, 1), divPenalty=0.3927842258339813 * 0.044721359549995794 > minError=0.003025814858109391\n",
      "[maelzel.scoring:quant.py:908:quantizeBeatBinary:DEBUG] Skipping (3, 3, 5, 2, 1), divPenalty=0.2973748180327313 * 0.044721359549995794 > minError=0.003025814858109391\n",
      "[maelzel.scoring:quant.py:908:quantizeBeatBinary:DEBUG] Skipping (3, 5, 2, 3, 1), divPenalty=0.2973748180327313 * 0.044721359549995794 > minError=0.003025814858109391\n",
      "[maelzel.scoring:quant.py:908:quantizeBeatBinary:DEBUG] Skipping (5, 3, 2, 3, 1), divPenalty=0.2973748180327313 * 0.044721359549995794 > minError=0.003025814858109391\n",
      "[maelzel.scoring:quant.py:908:quantizeBeatBinary:DEBUG] Skipping (2, 5, 3, 3, 1), divPenalty=0.2973748180327313 * 0.044721359549995794 > minError=0.003025814858109391\n",
      "[maelzel.scoring:quant.py:908:quantizeBeatBinary:DEBUG] Skipping (3, 5, 3, 2, 1), divPenalty=0.2973748180327313 * 0.044721359549995794 > minError=0.003025814858109391\n",
      "[maelzel.scoring:quant.py:908:quantizeBeatBinary:DEBUG] Skipping (2, 3, 5, 3, 1), divPenalty=0.2973748180327313 * 0.044721359549995794 > minError=0.003025814858109391\n",
      "[maelzel.scoring:quant.py:908:quantizeBeatBinary:DEBUG] Skipping (5, 3, 3, 2, 1), divPenalty=0.2973748180327313 * 0.044721359549995794 > minError=0.003025814858109391\n",
      "[maelzel.scoring:quant.py:908:quantizeBeatBinary:DEBUG] Skipping (3, 3, 2, 5, 1), divPenalty=0.2973748180327313 * 0.044721359549995794 > minError=0.003025814858109391\n",
      "[maelzel.scoring:quant.py:908:quantizeBeatBinary:DEBUG] Skipping (5, 2, 3, 3, 1), divPenalty=0.2973748180327313 * 0.044721359549995794 > minError=0.003025814858109391\n",
      "[maelzel.scoring:quant.py:908:quantizeBeatBinary:DEBUG] Skipping (2, 3, 3, 5, 1), divPenalty=0.2973748180327313 * 0.044721359549995794 > minError=0.003025814858109391\n",
      "[maelzel.scoring:quant.py:908:quantizeBeatBinary:DEBUG] Skipping (3, 2, 5, 3, 1), divPenalty=0.2973748180327313 * 0.044721359549995794 > minError=0.003025814858109391\n",
      "[maelzel.scoring:quant.py:908:quantizeBeatBinary:DEBUG] Skipping (3, 2, 3, 5, 1), divPenalty=0.2973748180327313 * 0.044721359549995794 > minError=0.003025814858109391\n",
      "[maelzel.scoring:quant.py:917:quantizeBeatBinary:DEBUG] Skipping (2, 4, 2, 4, 1), gridError=0.1789974848004854 * 1.0 > minError=0.003025814858109391\n",
      "[maelzel.scoring:quant.py:908:quantizeBeatBinary:DEBUG] Skipping (4, 2, 4, 3, 1), divPenalty=0.08376646570576757 * 0.044721359549995794 > minError=0.003025814858109391\n",
      "[maelzel.scoring:quant.py:908:quantizeBeatBinary:DEBUG] Skipping (2, 3, 4, 4, 1), divPenalty=0.08376646570576757 * 0.044721359549995794 > minError=0.003025814858109391\n",
      "[maelzel.scoring:quant.py:917:quantizeBeatBinary:DEBUG] Skipping (2, 4, 4, 2, 1), gridError=0.1789974848004854 * 1.0 > minError=0.003025814858109391\n",
      "[maelzel.scoring:quant.py:908:quantizeBeatBinary:DEBUG] Skipping (2, 4, 4, 3, 1), divPenalty=0.08376646570576757 * 0.044721359549995794 > minError=0.003025814858109391\n",
      "[maelzel.scoring:quant.py:917:quantizeBeatBinary:DEBUG] Skipping (4, 2, 4, 2, 1), gridError=0.1789974848004854 * 1.0 > minError=0.003025814858109391\n",
      "[maelzel.scoring:quant.py:908:quantizeBeatBinary:DEBUG] Skipping (3, 2, 4, 4, 1), divPenalty=0.08376646570576757 * 0.044721359549995794 > minError=0.003025814858109391\n",
      "[maelzel.scoring:quant.py:908:quantizeBeatBinary:DEBUG] Skipping (4, 3, 4, 2, 1), divPenalty=0.08376646570576757 * 0.044721359549995794 > minError=0.003025814858109391\n",
      "[maelzel.scoring:quant.py:908:quantizeBeatBinary:DEBUG] Skipping (4, 3, 2, 4, 1), divPenalty=0.08376646570576757 * 0.044721359549995794 > minError=0.003025814858109391\n",
      "[maelzel.scoring:quant.py:917:quantizeBeatBinary:DEBUG] Skipping (2, 2, 4, 4, 1), gridError=0.20049751858748063 * 1.0 > minError=0.003025814858109391\n",
      "[maelzel.scoring:quant.py:908:quantizeBeatBinary:DEBUG] Skipping (4, 4, 2, 3, 1), divPenalty=0.08376646570576757 * 0.044721359549995794 > minError=0.003025814858109391\n",
      "[maelzel.scoring:quant.py:908:quantizeBeatBinary:DEBUG] Skipping (4, 4, 3, 2, 1), divPenalty=0.08376646570576757 * 0.044721359549995794 > minError=0.003025814858109391\n",
      "[maelzel.scoring:quant.py:908:quantizeBeatBinary:DEBUG] Skipping (4, 2, 3, 4, 1), divPenalty=0.08376646570576757 * 0.044721359549995794 > minError=0.003025814858109391\n",
      "[maelzel.scoring:quant.py:908:quantizeBeatBinary:DEBUG] Skipping (3, 4, 2, 4, 1), divPenalty=0.08376646570576757 * 0.044721359549995794 > minError=0.003025814858109391\n",
      "[maelzel.scoring:quant.py:917:quantizeBeatBinary:DEBUG] Skipping (4, 4, 2, 2, 1), gridError=0.20049751858748066 * 1.0 > minError=0.003025814858109391\n",
      "[maelzel.scoring:quant.py:917:quantizeBeatBinary:DEBUG] Skipping (4, 2, 2, 4, 1), gridError=0.1789974848004854 * 1.0 > minError=0.003025814858109391\n",
      "[maelzel.scoring:quant.py:908:quantizeBeatBinary:DEBUG] Skipping (3, 4, 4, 2, 1), divPenalty=0.08376646570576757 * 0.044721359549995794 > minError=0.003025814858109391\n",
      "[maelzel.scoring:quant.py:908:quantizeBeatBinary:DEBUG] Skipping (2, 4, 3, 4, 1), divPenalty=0.08376646570576757 * 0.044721359549995794 > minError=0.003025814858109391\n",
      "[maelzel.scoring:quant.py:908:quantizeBeatBinary:DEBUG] Skipping (3, 3, 3, 4, 1), divPenalty=0.2542109863872921 * 0.044721359549995794 > minError=0.003025814858109391\n",
      "[maelzel.scoring:quant.py:908:quantizeBeatBinary:DEBUG] Skipping (3, 4, 3, 3, 1), divPenalty=0.2542109863872921 * 0.044721359549995794 > minError=0.003025814858109391\n",
      "[maelzel.scoring:quant.py:908:quantizeBeatBinary:DEBUG] Skipping (4, 3, 3, 3, 1), divPenalty=0.2542109863872921 * 0.044721359549995794 > minError=0.003025814858109391\n",
      "[maelzel.scoring:quant.py:908:quantizeBeatBinary:DEBUG] Skipping (3, 3, 4, 3, 1), divPenalty=0.2542109863872921 * 0.044721359549995794 > minError=0.003025814858109391\n",
      "[maelzel.scoring:quant.py:908:quantizeBeatBinary:DEBUG] Skipping (5, 2, 3, 4, 1), divPenalty=0.1712739877513241 * 0.044721359549995794 > minError=0.003025814858109391\n",
      "[maelzel.scoring:quant.py:908:quantizeBeatBinary:DEBUG] Skipping (2, 5, 4, 2, 1), divPenalty=0.07624922359499622 * 0.044721359549995794 > minError=0.003025814858109391\n",
      "[maelzel.scoring:quant.py:908:quantizeBeatBinary:DEBUG] Skipping (3, 5, 4, 2, 1), divPenalty=0.1712739877513241 * 0.044721359549995794 > minError=0.003025814858109391\n",
      "[maelzel.scoring:quant.py:908:quantizeBeatBinary:DEBUG] Skipping (4, 2, 2, 5, 1), divPenalty=0.07624922359499622 * 0.044721359549995794 > minError=0.003025814858109391\n",
      "[maelzel.scoring:quant.py:908:quantizeBeatBinary:DEBUG] Skipping (2, 2, 5, 4, 1), divPenalty=0.07624922359499622 * 0.044721359549995794 > minError=0.003025814858109391\n",
      "[maelzel.scoring:quant.py:908:quantizeBeatBinary:DEBUG] Skipping (4, 2, 3, 5, 1), divPenalty=0.1712739877513241 * 0.044721359549995794 > minError=0.003025814858109391\n",
      "[maelzel.scoring:quant.py:908:quantizeBeatBinary:DEBUG] Skipping (2, 2, 4, 5, 1), divPenalty=0.07624922359499622 * 0.044721359549995794 > minError=0.003025814858109391\n",
      "[maelzel.scoring:quant.py:908:quantizeBeatBinary:DEBUG] Skipping (3, 4, 2, 5, 1), divPenalty=0.1712739877513241 * 0.044721359549995794 > minError=0.003025814858109391\n",
      "[maelzel.scoring:quant.py:908:quantizeBeatBinary:DEBUG] Skipping (4, 5, 2, 3, 1), divPenalty=0.1712739877513241 * 0.044721359549995794 > minError=0.003025814858109391\n",
      "[maelzel.scoring:quant.py:908:quantizeBeatBinary:DEBUG] Skipping (5, 2, 4, 3, 1), divPenalty=0.1712739877513241 * 0.044721359549995794 > minError=0.003025814858109391\n",
      "[maelzel.scoring:quant.py:908:quantizeBeatBinary:DEBUG] Skipping (3, 2, 5, 4, 1), divPenalty=0.1712739877513241 * 0.044721359549995794 > minError=0.003025814858109391\n",
      "[maelzel.scoring:quant.py:908:quantizeBeatBinary:DEBUG] Skipping (4, 5, 3, 2, 1), divPenalty=0.1712739877513241 * 0.044721359549995794 > minError=0.003025814858109391\n",
      "[maelzel.scoring:quant.py:908:quantizeBeatBinary:DEBUG] Skipping (5, 2, 4, 2, 1), divPenalty=0.07624922359499622 * 0.044721359549995794 > minError=0.003025814858109391\n",
      "[maelzel.scoring:quant.py:908:quantizeBeatBinary:DEBUG] Skipping (3, 4, 5, 2, 1), divPenalty=0.1712739877513241 * 0.044721359549995794 > minError=0.003025814858109391\n",
      "[maelzel.scoring:quant.py:908:quantizeBeatBinary:DEBUG] Skipping (4, 5, 2, 2, 1), divPenalty=0.07624922359499622 * 0.044721359549995794 > minError=0.003025814858109391\n",
      "[maelzel.scoring:quant.py:908:quantizeBeatBinary:DEBUG] Skipping (3, 5, 2, 4, 1), divPenalty=0.1712739877513241 * 0.044721359549995794 > minError=0.003025814858109391\n",
      "[maelzel.scoring:quant.py:908:quantizeBeatBinary:DEBUG] Skipping (5, 3, 4, 2, 1), divPenalty=0.1712739877513241 * 0.044721359549995794 > minError=0.003025814858109391\n",
      "[maelzel.scoring:quant.py:908:quantizeBeatBinary:DEBUG] Skipping (2, 4, 2, 5, 1), divPenalty=0.07624922359499622 * 0.044721359549995794 > minError=0.003025814858109391\n",
      "[maelzel.scoring:quant.py:908:quantizeBeatBinary:DEBUG] Skipping (2, 4, 5, 2, 1), divPenalty=0.07624922359499622 * 0.044721359549995794 > minError=0.003025814858109391\n",
      "[maelzel.scoring:quant.py:908:quantizeBeatBinary:DEBUG] Skipping (2, 4, 5, 3, 1), divPenalty=0.1712739877513241 * 0.044721359549995794 > minError=0.003025814858109391\n",
      "[maelzel.scoring:quant.py:908:quantizeBeatBinary:DEBUG] Skipping (5, 4, 2, 3, 1), divPenalty=0.1712739877513241 * 0.044721359549995794 > minError=0.003025814858109391\n",
      "[maelzel.scoring:quant.py:908:quantizeBeatBinary:DEBUG] Skipping (2, 4, 3, 5, 1), divPenalty=0.1712739877513241 * 0.044721359549995794 > minError=0.003025814858109391\n",
      "[maelzel.scoring:quant.py:908:quantizeBeatBinary:DEBUG] Skipping (5, 2, 2, 4, 1), divPenalty=0.07624922359499622 * 0.044721359549995794 > minError=0.003025814858109391\n",
      "[maelzel.scoring:quant.py:908:quantizeBeatBinary:DEBUG] Skipping (5, 4, 3, 2, 1), divPenalty=0.1712739877513241 * 0.044721359549995794 > minError=0.003025814858109391\n",
      "[maelzel.scoring:quant.py:908:quantizeBeatBinary:DEBUG] Skipping (4, 2, 5, 3, 1), divPenalty=0.1712739877513241 * 0.044721359549995794 > minError=0.003025814858109391\n",
      "[maelzel.scoring:quant.py:908:quantizeBeatBinary:DEBUG] Skipping (2, 5, 4, 3, 1), divPenalty=0.1712739877513241 * 0.044721359549995794 > minError=0.003025814858109391\n",
      "[maelzel.scoring:quant.py:908:quantizeBeatBinary:DEBUG] Skipping (2, 3, 4, 5, 1), divPenalty=0.1712739877513241 * 0.044721359549995794 > minError=0.003025814858109391\n",
      "[maelzel.scoring:quant.py:908:quantizeBeatBinary:DEBUG] Skipping (2, 5, 3, 4, 1), divPenalty=0.1712739877513241 * 0.044721359549995794 > minError=0.003025814858109391\n",
      "[maelzel.scoring:quant.py:908:quantizeBeatBinary:DEBUG] Skipping (4, 3, 2, 5, 1), divPenalty=0.1712739877513241 * 0.044721359549995794 > minError=0.003025814858109391\n",
      "[maelzel.scoring:quant.py:908:quantizeBeatBinary:DEBUG] Skipping (5, 3, 2, 4, 1), divPenalty=0.1712739877513241 * 0.044721359549995794 > minError=0.003025814858109391\n",
      "[maelzel.scoring:quant.py:908:quantizeBeatBinary:DEBUG] Skipping (2, 5, 2, 4, 1), divPenalty=0.07624922359499622 * 0.044721359549995794 > minError=0.003025814858109391\n",
      "[maelzel.scoring:quant.py:908:quantizeBeatBinary:DEBUG] Skipping (2, 3, 5, 4, 1), divPenalty=0.1712739877513241 * 0.044721359549995794 > minError=0.003025814858109391\n",
      "[maelzel.scoring:quant.py:908:quantizeBeatBinary:DEBUG] Skipping (4, 3, 5, 2, 1), divPenalty=0.1712739877513241 * 0.044721359549995794 > minError=0.003025814858109391\n",
      "[maelzel.scoring:quant.py:908:quantizeBeatBinary:DEBUG] Skipping (5, 4, 2, 2, 1), divPenalty=0.07624922359499622 * 0.044721359549995794 > minError=0.003025814858109391\n",
      "[maelzel.scoring:quant.py:908:quantizeBeatBinary:DEBUG] Skipping (3, 2, 4, 5, 1), divPenalty=0.1712739877513241 * 0.044721359549995794 > minError=0.003025814858109391\n",
      "[maelzel.scoring:quant.py:908:quantizeBeatBinary:DEBUG] Skipping (4, 2, 5, 2, 1), divPenalty=0.07624922359499622 * 0.044721359549995794 > minError=0.003025814858109391\n",
      "[maelzel.scoring:quant.py:908:quantizeBeatBinary:DEBUG] Skipping (3, 3, 3, 5, 1), divPenalty=0.5352746724589162 * 0.044721359549995794 > minError=0.003025814858109391\n",
      "[maelzel.scoring:quant.py:908:quantizeBeatBinary:DEBUG] Skipping (3, 3, 5, 3, 1), divPenalty=0.5352746724589162 * 0.044721359549995794 > minError=0.003025814858109391\n",
      "[maelzel.scoring:quant.py:908:quantizeBeatBinary:DEBUG] Skipping (3, 5, 3, 3, 1), divPenalty=0.5352746724589162 * 0.044721359549995794 > minError=0.003025814858109391\n",
      "[maelzel.scoring:quant.py:908:quantizeBeatBinary:DEBUG] Skipping (5, 3, 3, 3, 1), divPenalty=0.5352746724589162 * 0.044721359549995794 > minError=0.003025814858109391\n",
      "[maelzel.scoring:quant.py:908:quantizeBeatBinary:DEBUG] Skipping (4, 4, 3, 3, 1), divPenalty=0.15077963827038163 * 0.044721359549995794 > minError=0.003025814858109391\n",
      "[maelzel.scoring:quant.py:908:quantizeBeatBinary:DEBUG] Skipping (3, 4, 4, 3, 1), divPenalty=0.15077963827038163 * 0.044721359549995794 > minError=0.003025814858109391\n",
      "[maelzel.scoring:quant.py:908:quantizeBeatBinary:DEBUG] Skipping (4, 3, 3, 4, 1), divPenalty=0.15077963827038163 * 0.044721359549995794 > minError=0.003025814858109391\n",
      "[maelzel.scoring:quant.py:908:quantizeBeatBinary:DEBUG] Skipping (3, 4, 3, 4, 1), divPenalty=0.15077963827038163 * 0.044721359549995794 > minError=0.003025814858109391\n",
      "[maelzel.scoring:quant.py:908:quantizeBeatBinary:DEBUG] Skipping (3, 3, 4, 4, 1), divPenalty=0.15077963827038163 * 0.044721359549995794 > minError=0.003025814858109391\n",
      "[maelzel.scoring:quant.py:908:quantizeBeatBinary:DEBUG] Skipping (4, 3, 4, 3, 1), divPenalty=0.15077963827038163 * 0.044721359549995794 > minError=0.003025814858109391\n",
      "[maelzel.scoring:quant.py:908:quantizeBeatBinary:DEBUG] Skipping (3, 2, 5, 5, 1), divPenalty=0.3366115440293416 * 0.044721359549995794 > minError=0.003025814858109391\n",
      "[maelzel.scoring:quant.py:908:quantizeBeatBinary:DEBUG] Skipping (5, 2, 2, 5, 1), divPenalty=0.15644103884177657 * 0.044721359549995794 > minError=0.003025814858109391\n",
      "[maelzel.scoring:quant.py:908:quantizeBeatBinary:DEBUG] Skipping (2, 5, 2, 5, 1), divPenalty=0.15644103884177657 * 0.044721359549995794 > minError=0.003025814858109391\n",
      "[maelzel.scoring:quant.py:908:quantizeBeatBinary:DEBUG] Skipping (2, 5, 3, 5, 1), divPenalty=0.3366115440293416 * 0.044721359549995794 > minError=0.003025814858109391\n",
      "[maelzel.scoring:quant.py:908:quantizeBeatBinary:DEBUG] Skipping (5, 2, 5, 3, 1), divPenalty=0.3366115440293416 * 0.044721359549995794 > minError=0.003025814858109391\n",
      "[maelzel.scoring:quant.py:908:quantizeBeatBinary:DEBUG] Skipping (2, 3, 5, 5, 1), divPenalty=0.3366115440293416 * 0.044721359549995794 > minError=0.003025814858109391\n",
      "[maelzel.scoring:quant.py:908:quantizeBeatBinary:DEBUG] Skipping (5, 2, 5, 2, 1), divPenalty=0.15644103884177657 * 0.044721359549995794 > minError=0.003025814858109391\n",
      "[maelzel.scoring:quant.py:908:quantizeBeatBinary:DEBUG] Skipping (5, 3, 2, 5, 1), divPenalty=0.3366115440293416 * 0.044721359549995794 > minError=0.003025814858109391\n",
      "[maelzel.scoring:quant.py:908:quantizeBeatBinary:DEBUG] Skipping (5, 5, 2, 3, 1), divPenalty=0.3366115440293416 * 0.044721359549995794 > minError=0.003025814858109391\n",
      "[maelzel.scoring:quant.py:908:quantizeBeatBinary:DEBUG] Skipping (5, 3, 5, 2, 1), divPenalty=0.3366115440293416 * 0.044721359549995794 > minError=0.003025814858109391\n",
      "[maelzel.scoring:quant.py:908:quantizeBeatBinary:DEBUG] Skipping (5, 5, 2, 2, 1), divPenalty=0.15644103884177657 * 0.044721359549995794 > minError=0.003025814858109391\n",
      "[maelzel.scoring:quant.py:908:quantizeBeatBinary:DEBUG] Skipping (3, 5, 5, 2, 1), divPenalty=0.3366115440293416 * 0.044721359549995794 > minError=0.003025814858109391\n",
      "[maelzel.scoring:quant.py:908:quantizeBeatBinary:DEBUG] Skipping (5, 2, 3, 5, 1), divPenalty=0.3366115440293416 * 0.044721359549995794 > minError=0.003025814858109391\n",
      "[maelzel.scoring:quant.py:908:quantizeBeatBinary:DEBUG] Skipping (2, 2, 5, 5, 1), divPenalty=0.15644103884177657 * 0.044721359549995794 > minError=0.003025814858109391\n",
      "[maelzel.scoring:quant.py:908:quantizeBeatBinary:DEBUG] Skipping (2, 5, 5, 3, 1), divPenalty=0.3366115440293416 * 0.044721359549995794 > minError=0.003025814858109391\n",
      "[maelzel.scoring:quant.py:908:quantizeBeatBinary:DEBUG] Skipping (5, 5, 3, 2, 1), divPenalty=0.3366115440293416 * 0.044721359549995794 > minError=0.003025814858109391\n",
      "[maelzel.scoring:quant.py:908:quantizeBeatBinary:DEBUG] Skipping (2, 5, 5, 2, 1), divPenalty=0.15644103884177657 * 0.044721359549995794 > minError=0.003025814858109391\n",
      "[maelzel.scoring:quant.py:908:quantizeBeatBinary:DEBUG] Skipping (3, 5, 2, 5, 1), divPenalty=0.3366115440293416 * 0.044721359549995794 > minError=0.003025814858109391\n",
      "[maelzel.scoring:quant.py:908:quantizeBeatBinary:DEBUG] Skipping (3, 3, 5, 4, 1), divPenalty=0.3082931779523834 * 0.044721359549995794 > minError=0.003025814858109391\n",
      "[maelzel.scoring:quant.py:908:quantizeBeatBinary:DEBUG] Skipping (5, 3, 4, 3, 1), divPenalty=0.3082931779523834 * 0.044721359549995794 > minError=0.003025814858109391\n",
      "[maelzel.scoring:quant.py:908:quantizeBeatBinary:DEBUG] Skipping (4, 5, 3, 3, 1), divPenalty=0.3082931779523834 * 0.044721359549995794 > minError=0.003025814858109391\n",
      "[maelzel.scoring:quant.py:908:quantizeBeatBinary:DEBUG] Skipping (4, 3, 3, 5, 1), divPenalty=0.3082931779523834 * 0.044721359549995794 > minError=0.003025814858109391\n",
      "[maelzel.scoring:quant.py:908:quantizeBeatBinary:DEBUG] Skipping (5, 4, 3, 3, 1), divPenalty=0.3082931779523834 * 0.044721359549995794 > minError=0.003025814858109391\n",
      "[maelzel.scoring:quant.py:908:quantizeBeatBinary:DEBUG] Skipping (3, 3, 4, 5, 1), divPenalty=0.3082931779523834 * 0.044721359549995794 > minError=0.003025814858109391\n",
      "[maelzel.scoring:quant.py:908:quantizeBeatBinary:DEBUG] Skipping (3, 4, 3, 5, 1), divPenalty=0.3082931779523834 * 0.044721359549995794 > minError=0.003025814858109391\n",
      "[maelzel.scoring:quant.py:908:quantizeBeatBinary:DEBUG] Skipping (5, 3, 3, 4, 1), divPenalty=0.3082931779523834 * 0.044721359549995794 > minError=0.003025814858109391\n",
      "[maelzel.scoring:quant.py:908:quantizeBeatBinary:DEBUG] Skipping (3, 5, 3, 4, 1), divPenalty=0.3082931779523834 * 0.044721359549995794 > minError=0.003025814858109391\n",
      "[maelzel.scoring:quant.py:908:quantizeBeatBinary:DEBUG] Skipping (4, 3, 5, 3, 1), divPenalty=0.3082931779523834 * 0.044721359549995794 > minError=0.003025814858109391\n",
      "[maelzel.scoring:quant.py:908:quantizeBeatBinary:DEBUG] Skipping (3, 5, 4, 3, 1), divPenalty=0.3082931779523834 * 0.044721359549995794 > minError=0.003025814858109391\n",
      "[maelzel.scoring:quant.py:908:quantizeBeatBinary:DEBUG] Skipping (3, 4, 5, 3, 1), divPenalty=0.3082931779523834 * 0.044721359549995794 > minError=0.003025814858109391\n",
      "[maelzel.scoring:quant.py:917:quantizeBeatBinary:DEBUG] Skipping (2, 4, 4, 4, 1), gridError=0.16161278697136935 * 1.0 > minError=0.003025814858109391\n",
      "[maelzel.scoring:quant.py:908:quantizeBeatBinary:DEBUG] Skipping (4, 4, 4, 3, 1), divPenalty=0.08804963285902598 * 0.044721359549995794 > minError=0.003025814858109391\n",
      "[maelzel.scoring:quant.py:917:quantizeBeatBinary:DEBUG] Skipping (4, 4, 4, 2, 1), gridError=0.16161278697136935 * 1.0 > minError=0.003025814858109391\n",
      "[maelzel.scoring:quant.py:917:quantizeBeatBinary:DEBUG] Skipping (4, 2, 4, 4, 1), gridError=0.16161278697136935 * 1.0 > minError=0.003025814858109391\n",
      "[maelzel.scoring:quant.py:908:quantizeBeatBinary:DEBUG] Skipping (4, 3, 4, 4, 1), divPenalty=0.08804963285902598 * 0.044721359549995794 > minError=0.003025814858109391\n",
      "[maelzel.scoring:quant.py:908:quantizeBeatBinary:DEBUG] Skipping (4, 4, 3, 4, 1), divPenalty=0.08804963285902598 * 0.044721359549995794 > minError=0.003025814858109391\n",
      "[maelzel.scoring:quant.py:908:quantizeBeatBinary:DEBUG] Skipping (3, 4, 4, 4, 1), divPenalty=0.08804963285902598 * 0.044721359549995794 > minError=0.003025814858109391\n",
      "[maelzel.scoring:quant.py:917:quantizeBeatBinary:DEBUG] Skipping (4, 4, 2, 4, 1), gridError=0.16161278697136935 * 1.0 > minError=0.003025814858109391\n",
      "[maelzel.scoring:quant.py:908:quantizeBeatBinary:DEBUG] Skipping (3, 5, 3, 5, 1), divPenalty=0.6059007792528148 * 0.044721359549995794 > minError=0.003025814858109391\n",
      "[maelzel.scoring:quant.py:908:quantizeBeatBinary:DEBUG] Skipping (3, 5, 5, 3, 1), divPenalty=0.6059007792528148 * 0.044721359549995794 > minError=0.003025814858109391\n",
      "[maelzel.scoring:quant.py:908:quantizeBeatBinary:DEBUG] Skipping (5, 5, 3, 3, 1), divPenalty=0.6059007792528148 * 0.044721359549995794 > minError=0.003025814858109391\n",
      "[maelzel.scoring:quant.py:908:quantizeBeatBinary:DEBUG] Skipping (3, 3, 5, 5, 1), divPenalty=0.6059007792528148 * 0.044721359549995794 > minError=0.003025814858109391\n",
      "[maelzel.scoring:quant.py:908:quantizeBeatBinary:DEBUG] Skipping (5, 3, 5, 3, 1), divPenalty=0.6059007792528148 * 0.044721359549995794 > minError=0.003025814858109391\n",
      "[maelzel.scoring:quant.py:908:quantizeBeatBinary:DEBUG] Skipping (5, 3, 3, 5, 1), divPenalty=0.6059007792528148 * 0.044721359549995794 > minError=0.003025814858109391\n",
      "[maelzel.scoring:quant.py:908:quantizeBeatBinary:DEBUG] Skipping (4, 3, 4, 5, 1), divPenalty=0.17686352198668973 * 0.044721359549995794 > minError=0.003025814858109391\n",
      "[maelzel.scoring:quant.py:908:quantizeBeatBinary:DEBUG] Skipping (4, 2, 5, 4, 1), divPenalty=0.08009081537009721 * 0.044721359549995794 > minError=0.003025814858109391\n",
      "[maelzel.scoring:quant.py:908:quantizeBeatBinary:DEBUG] Skipping (4, 3, 5, 4, 1), divPenalty=0.17686352198668973 * 0.044721359549995794 > minError=0.003025814858109391\n",
      "[maelzel.scoring:quant.py:908:quantizeBeatBinary:DEBUG] Skipping (2, 5, 4, 4, 1), divPenalty=0.08009081537009721 * 0.044721359549995794 > minError=0.003025814858109391\n",
      "[maelzel.scoring:quant.py:908:quantizeBeatBinary:DEBUG] Skipping (3, 5, 4, 4, 1), divPenalty=0.17686352198668973 * 0.044721359549995794 > minError=0.003025814858109391\n",
      "[maelzel.scoring:quant.py:908:quantizeBeatBinary:DEBUG] Skipping (4, 4, 2, 5, 1), divPenalty=0.08009081537009721 * 0.044721359549995794 > minError=0.003025814858109391\n",
      "[maelzel.scoring:quant.py:908:quantizeBeatBinary:DEBUG] Skipping (4, 4, 5, 3, 1), divPenalty=0.17686352198668973 * 0.044721359549995794 > minError=0.003025814858109391\n",
      "[maelzel.scoring:quant.py:908:quantizeBeatBinary:DEBUG] Skipping (4, 4, 3, 5, 1), divPenalty=0.17686352198668973 * 0.044721359549995794 > minError=0.003025814858109391\n",
      "[maelzel.scoring:quant.py:908:quantizeBeatBinary:DEBUG] Skipping (3, 4, 4, 5, 1), divPenalty=0.17686352198668973 * 0.044721359549995794 > minError=0.003025814858109391\n",
      "[maelzel.scoring:quant.py:908:quantizeBeatBinary:DEBUG] Skipping (4, 5, 4, 3, 1), divPenalty=0.17686352198668973 * 0.044721359549995794 > minError=0.003025814858109391\n",
      "[maelzel.scoring:quant.py:908:quantizeBeatBinary:DEBUG] Skipping (5, 2, 4, 4, 1), divPenalty=0.08009081537009721 * 0.044721359549995794 > minError=0.003025814858109391\n",
      "[maelzel.scoring:quant.py:908:quantizeBeatBinary:DEBUG] Skipping (4, 5, 4, 2, 1), divPenalty=0.08009081537009721 * 0.044721359549995794 > minError=0.003025814858109391\n",
      "[maelzel.scoring:quant.py:908:quantizeBeatBinary:DEBUG] Skipping (4, 4, 5, 2, 1), divPenalty=0.08009081537009721 * 0.044721359549995794 > minError=0.003025814858109391\n",
      "[maelzel.scoring:quant.py:908:quantizeBeatBinary:DEBUG] Skipping (4, 5, 2, 4, 1), divPenalty=0.08009081537009721 * 0.044721359549995794 > minError=0.003025814858109391\n",
      "[maelzel.scoring:quant.py:908:quantizeBeatBinary:DEBUG] Skipping (5, 3, 4, 4, 1), divPenalty=0.17686352198668973 * 0.044721359549995794 > minError=0.003025814858109391\n",
      "[maelzel.scoring:quant.py:908:quantizeBeatBinary:DEBUG] Skipping (4, 5, 3, 4, 1), divPenalty=0.17686352198668973 * 0.044721359549995794 > minError=0.003025814858109391\n",
      "[maelzel.scoring:quant.py:908:quantizeBeatBinary:DEBUG] Skipping (3, 4, 5, 4, 1), divPenalty=0.17686352198668973 * 0.044721359549995794 > minError=0.003025814858109391\n",
      "[maelzel.scoring:quant.py:908:quantizeBeatBinary:DEBUG] Skipping (2, 4, 5, 4, 1), divPenalty=0.08009081537009721 * 0.044721359549995794 > minError=0.003025814858109391\n",
      "[maelzel.scoring:quant.py:908:quantizeBeatBinary:DEBUG] Skipping (5, 4, 4, 3, 1), divPenalty=0.17686352198668973 * 0.044721359549995794 > minError=0.003025814858109391\n",
      "[maelzel.scoring:quant.py:908:quantizeBeatBinary:DEBUG] Skipping (5, 4, 2, 4, 1), divPenalty=0.08009081537009721 * 0.044721359549995794 > minError=0.003025814858109391\n",
      "[maelzel.scoring:quant.py:908:quantizeBeatBinary:DEBUG] Skipping (5, 4, 3, 4, 1), divPenalty=0.17686352198668973 * 0.044721359549995794 > minError=0.003025814858109391\n",
      "[maelzel.scoring:quant.py:908:quantizeBeatBinary:DEBUG] Skipping (4, 2, 4, 5, 1), divPenalty=0.08009081537009721 * 0.044721359549995794 > minError=0.003025814858109391\n",
      "[maelzel.scoring:quant.py:908:quantizeBeatBinary:DEBUG] Skipping (2, 4, 4, 5, 1), divPenalty=0.08009081537009721 * 0.044721359549995794 > minError=0.003025814858109391\n",
      "[maelzel.scoring:quant.py:908:quantizeBeatBinary:DEBUG] Skipping (5, 4, 4, 2, 1), divPenalty=0.08009081537009721 * 0.044721359549995794 > minError=0.003025814858109391\n",
      "[maelzel.scoring:quant.py:908:quantizeBeatBinary:DEBUG] Skipping (5, 5, 4, 3, 1), divPenalty=0.3450257729503697 * 0.044721359549995794 > minError=0.003025814858109391\n",
      "[maelzel.scoring:quant.py:908:quantizeBeatBinary:DEBUG] Skipping (5, 3, 4, 5, 1), divPenalty=0.3450257729503697 * 0.044721359549995794 > minError=0.003025814858109391\n",
      "[maelzel.scoring:quant.py:908:quantizeBeatBinary:DEBUG] Skipping (4, 5, 3, 5, 1), divPenalty=0.3450257729503697 * 0.044721359549995794 > minError=0.003025814858109391\n",
      "[maelzel.scoring:quant.py:908:quantizeBeatBinary:DEBUG] Skipping (5, 5, 3, 4, 1), divPenalty=0.3450257729503697 * 0.044721359549995794 > minError=0.003025814858109391\n",
      "[maelzel.scoring:quant.py:908:quantizeBeatBinary:DEBUG] Skipping (4, 5, 2, 5, 1), divPenalty=0.16200000000000003 * 0.044721359549995794 > minError=0.003025814858109391\n",
      "[maelzel.scoring:quant.py:908:quantizeBeatBinary:DEBUG] Skipping (2, 5, 5, 4, 1), divPenalty=0.16200000000000003 * 0.044721359549995794 > minError=0.003025814858109391\n",
      "[maelzel.scoring:quant.py:908:quantizeBeatBinary:DEBUG] Skipping (4, 5, 5, 3, 1), divPenalty=0.3450257729503697 * 0.044721359549995794 > minError=0.003025814858109391\n",
      "[maelzel.scoring:quant.py:908:quantizeBeatBinary:DEBUG] Skipping (5, 4, 3, 5, 1), divPenalty=0.3450257729503697 * 0.044721359549995794 > minError=0.003025814858109391\n",
      "[maelzel.scoring:quant.py:908:quantizeBeatBinary:DEBUG] Skipping (5, 2, 4, 5, 1), divPenalty=0.16200000000000003 * 0.044721359549995794 > minError=0.003025814858109391\n",
      "[maelzel.scoring:quant.py:908:quantizeBeatBinary:DEBUG] Skipping (5, 5, 4, 2, 1), divPenalty=0.16200000000000003 * 0.044721359549995794 > minError=0.003025814858109391\n",
      "[maelzel.scoring:quant.py:908:quantizeBeatBinary:DEBUG] Skipping (5, 2, 5, 4, 1), divPenalty=0.16200000000000003 * 0.044721359549995794 > minError=0.003025814858109391\n",
      "[maelzel.scoring:quant.py:908:quantizeBeatBinary:DEBUG] Skipping (4, 5, 5, 2, 1), divPenalty=0.16200000000000003 * 0.044721359549995794 > minError=0.003025814858109391\n",
      "[maelzel.scoring:quant.py:908:quantizeBeatBinary:DEBUG] Skipping (2, 4, 5, 5, 1), divPenalty=0.16200000000000003 * 0.044721359549995794 > minError=0.003025814858109391\n",
      "[maelzel.scoring:quant.py:908:quantizeBeatBinary:DEBUG] Skipping (5, 4, 2, 5, 1), divPenalty=0.16200000000000003 * 0.044721359549995794 > minError=0.003025814858109391\n",
      "[maelzel.scoring:quant.py:908:quantizeBeatBinary:DEBUG] Skipping (4, 2, 5, 5, 1), divPenalty=0.16200000000000003 * 0.044721359549995794 > minError=0.003025814858109391\n",
      "[maelzel.scoring:quant.py:908:quantizeBeatBinary:DEBUG] Skipping (5, 3, 5, 4, 1), divPenalty=0.3450257729503697 * 0.044721359549995794 > minError=0.003025814858109391\n",
      "[maelzel.scoring:quant.py:908:quantizeBeatBinary:DEBUG] Skipping (2, 5, 4, 5, 1), divPenalty=0.16200000000000003 * 0.044721359549995794 > minError=0.003025814858109391\n",
      "[maelzel.scoring:quant.py:908:quantizeBeatBinary:DEBUG] Skipping (3, 5, 4, 5, 1), divPenalty=0.3450257729503697 * 0.044721359549995794 > minError=0.003025814858109391\n",
      "[maelzel.scoring:quant.py:908:quantizeBeatBinary:DEBUG] Skipping (5, 5, 2, 4, 1), divPenalty=0.16200000000000003 * 0.044721359549995794 > minError=0.003025814858109391\n",
      "[maelzel.scoring:quant.py:908:quantizeBeatBinary:DEBUG] Skipping (4, 3, 5, 5, 1), divPenalty=0.3450257729503697 * 0.044721359549995794 > minError=0.003025814858109391\n",
      "[maelzel.scoring:quant.py:908:quantizeBeatBinary:DEBUG] Skipping (5, 4, 5, 3, 1), divPenalty=0.3450257729503697 * 0.044721359549995794 > minError=0.003025814858109391\n",
      "[maelzel.scoring:quant.py:908:quantizeBeatBinary:DEBUG] Skipping (3, 5, 5, 4, 1), divPenalty=0.3450257729503697 * 0.044721359549995794 > minError=0.003025814858109391\n",
      "[maelzel.scoring:quant.py:908:quantizeBeatBinary:DEBUG] Skipping (5, 4, 5, 2, 1), divPenalty=0.16200000000000003 * 0.044721359549995794 > minError=0.003025814858109391\n",
      "[maelzel.scoring:quant.py:908:quantizeBeatBinary:DEBUG] Skipping (3, 4, 5, 5, 1), divPenalty=0.3450257729503697 * 0.044721359549995794 > minError=0.003025814858109391\n",
      "[maelzel.scoring:quant.py:917:quantizeBeatBinary:DEBUG] Skipping (4, 4, 4, 4, 1), gridError=0.14495593273553908 * 1.0 > minError=0.003025814858109391\n",
      "[maelzel.scoring:quant.py:908:quantizeBeatBinary:DEBUG] Skipping (5, 2, 5, 5, 1), divPenalty=0.3186664061948339 * 0.044721359549995794 > minError=0.003025814858109391\n",
      "[maelzel.scoring:quant.py:908:quantizeBeatBinary:DEBUG] Skipping (5, 3, 5, 5, 1), divPenalty=0.6627337534004919 * 0.044721359549995794 > minError=0.003025814858109391\n",
      "[maelzel.scoring:quant.py:908:quantizeBeatBinary:DEBUG] Skipping (5, 5, 2, 5, 1), divPenalty=0.3186664061948339 * 0.044721359549995794 > minError=0.003025814858109391\n",
      "[maelzel.scoring:quant.py:908:quantizeBeatBinary:DEBUG] Skipping (3, 5, 5, 5, 1), divPenalty=0.6627337534004919 * 0.044721359549995794 > minError=0.003025814858109391\n",
      "[maelzel.scoring:quant.py:908:quantizeBeatBinary:DEBUG] Skipping (5, 5, 5, 3, 1), divPenalty=0.6627337534004919 * 0.044721359549995794 > minError=0.003025814858109391\n",
      "[maelzel.scoring:quant.py:908:quantizeBeatBinary:DEBUG] Skipping (5, 5, 3, 5, 1), divPenalty=0.6627337534004919 * 0.044721359549995794 > minError=0.003025814858109391\n",
      "[maelzel.scoring:quant.py:908:quantizeBeatBinary:DEBUG] Skipping (2, 5, 5, 5, 1), divPenalty=0.3186664061948339 * 0.044721359549995794 > minError=0.003025814858109391\n",
      "[maelzel.scoring:quant.py:908:quantizeBeatBinary:DEBUG] Skipping (5, 5, 5, 2, 1), divPenalty=0.3186664061948339 * 0.044721359549995794 > minError=0.003025814858109391\n",
      "[maelzel.scoring:quant.py:908:quantizeBeatBinary:DEBUG] Skipping (5, 4, 4, 4, 1), divPenalty=0.08362352359916264 * 0.044721359549995794 > minError=0.003025814858109391\n",
      "[maelzel.scoring:quant.py:908:quantizeBeatBinary:DEBUG] Skipping (4, 5, 4, 4, 1), divPenalty=0.08362352359916264 * 0.044721359549995794 > minError=0.003025814858109391\n",
      "[maelzel.scoring:quant.py:908:quantizeBeatBinary:DEBUG] Skipping (4, 4, 5, 4, 1), divPenalty=0.08362352359916264 * 0.044721359549995794 > minError=0.003025814858109391\n",
      "[maelzel.scoring:quant.py:908:quantizeBeatBinary:DEBUG] Skipping (4, 4, 4, 5, 1), divPenalty=0.08362352359916264 * 0.044721359549995794 > minError=0.003025814858109391\n",
      "[maelzel.scoring:quant.py:908:quantizeBeatBinary:DEBUG] Skipping (5, 4, 5, 4, 1), divPenalty=0.16725779618945552 * 0.044721359549995794 > minError=0.003025814858109391\n",
      "[maelzel.scoring:quant.py:908:quantizeBeatBinary:DEBUG] Skipping (4, 4, 5, 5, 1), divPenalty=0.16725779618945552 * 0.044721359549995794 > minError=0.003025814858109391\n",
      "[maelzel.scoring:quant.py:908:quantizeBeatBinary:DEBUG] Skipping (4, 5, 5, 4, 1), divPenalty=0.16725779618945552 * 0.044721359549995794 > minError=0.003025814858109391\n",
      "[maelzel.scoring:quant.py:908:quantizeBeatBinary:DEBUG] Skipping (4, 5, 4, 5, 1), divPenalty=0.16725779618945552 * 0.044721359549995794 > minError=0.003025814858109391\n",
      "[maelzel.scoring:quant.py:908:quantizeBeatBinary:DEBUG] Skipping (5, 5, 4, 4, 1), divPenalty=0.16725779618945552 * 0.044721359549995794 > minError=0.003025814858109391\n",
      "[maelzel.scoring:quant.py:908:quantizeBeatBinary:DEBUG] Skipping (5, 4, 4, 5, 1), divPenalty=0.16725779618945552 * 0.044721359549995794 > minError=0.003025814858109391\n",
      "[maelzel.scoring:quant.py:908:quantizeBeatBinary:DEBUG] Skipping (5, 4, 5, 5, 1), divPenalty=0.3269157503850599 * 0.044721359549995794 > minError=0.003025814858109391\n",
      "[maelzel.scoring:quant.py:908:quantizeBeatBinary:DEBUG] Skipping (4, 5, 5, 5, 1), divPenalty=0.3269157503850599 * 0.044721359549995794 > minError=0.003025814858109391\n",
      "[maelzel.scoring:quant.py:908:quantizeBeatBinary:DEBUG] Skipping (5, 5, 5, 4, 1), divPenalty=0.3269157503850599 * 0.044721359549995794 > minError=0.003025814858109391\n",
      "[maelzel.scoring:quant.py:908:quantizeBeatBinary:DEBUG] Skipping (5, 5, 4, 5, 1), divPenalty=0.3269157503850599 * 0.044721359549995794 > minError=0.003025814858109391\n",
      "[maelzel.scoring:quant.py:908:quantizeBeatBinary:DEBUG] Skipping (5, 5, 5, 5, 1), divPenalty=0.629856 * 0.044721359549995794 > minError=0.003025814858109391\n"
     ]
    },
    {
     "name": "stdout",
     "output_type": "stream",
     "text": [
      "Beat: 0 - 1 (dur: 1)\n",
      "Best 5 divisions: (quantized in 441.9ms)\n"
     ]
    },
    {
     "data": {
      "text/html": [
       "<table>\n",
       "<thead>\n",
       "<tr><th style=\"text-align: right;\">  error</th><th>div      </th><th>snapped                                                                                                                                                                                                 </th><th>slots              </th><th>info                                                                                                                                                                                    </th></tr>\n",
       "</thead>\n",
       "<tbody>\n",
       "<tr><td style=\"text-align: right;\"> 0.0030</td><td>(5, 5, 1)</td><td>[«4C 0:0.133 2/15♩», «4C# 0.133:0.267 2/15♩», «4D 0.267:0.4 2/15♩», «4D# 0.4:0.533 2/15♩», «4E 0.533:0.667 2/15♩», «4F~ 0.667:1 1/3♩»]                                                                  </td><td>[0, 2, 4, 6, 8, 10]</td><td>gridError=0, rhythmComplexity=0.0745 (numNotesAcrossSubdivs=1, numTies=0), divPenalty=0.0424 (8.485e-05, divPenalty=0.0283, cardinalityPenalty=0.1, numSubdivsPenalty=0, levelPenalty=0)</td></tr>\n",
       "<tr><td style=\"text-align: right;\"> 0.0102</td><td>(15,)    </td><td>[«4C 0:0.133 2/15♩», «4C# 0.133:0.267 2/15♩», «4D 0.267:0.4 2/15♩», «4D# 0.4:0.533 2/15♩», «4E 0.533:0.667 2/15♩», «4F~ 0.667:1 1/3♩»]                                                                  </td><td>[0, 2, 4, 6, 8, 10]</td><td>gridError=0, rhythmComplexity=0.149 (numNotesAcrossSubdivs=0, numTies=1), divPenalty=0.202 (0.000405, divPenalty=0.2, cardinalityPenalty=0.1, numSubdivsPenalty=0, levelPenalty=0)      </td></tr>\n",
       "<tr><td style=\"text-align: right;\"> 0.1960</td><td>(8,)     </td><td>[«4C 0:0.125 1/8♩», «4C# 0.125:0.25 1/8♩», «4D 0.25:0.375 1/8♩», «4D# 0.375:0.5 1/8♩», «4E 0.5:0.625 1/8♩», «4F~ 0.625:1 3/8♩»]                                                                         </td><td>[0, 1, 2, 3, 4, 5] </td><td>gridError=0.196, rhythmComplexity=0 (numNotesAcrossSubdivs=0, numTies=0), divPenalty=0.01 (2e-05, divPenalty=0.01, cardinalityPenalty=0, numSubdivsPenalty=0, levelPenalty=0)           </td></tr>\n",
       "<tr><td style=\"text-align: right;\"> 0.2181</td><td>(7,)     </td><td>[«4C 0:0.143 1/7♩», «4C# 0.143:0.286 1/7♩», «4D 0.286:0.429 1/7♩», «4D# 0.429:0.571 1/7♩», «4E 0.571:0.714 1/7♩», «4F~ 0.714:1 2/7♩»]                                                                   </td><td>[0, 1, 2, 3, 4, 5] </td><td>gridError=0.218, rhythmComplexity=0 (numNotesAcrossSubdivs=0, numTies=0), divPenalty=0.02 (4e-05, divPenalty=0.02, cardinalityPenalty=0, numSubdivsPenalty=0, levelPenalty=0)           </td></tr>\n",
       "<tr><td style=\"text-align: right;\"> 0.2728</td><td>(6,)     </td><td>[«4C 0:0.167 1/6♩», «4C# 0.167:0.333 1/6♩», «4D 0.333:grace properties={&#x27;.snappedGracenote&#x27;: True, &#x27;originalDuration&#x27;: Fraction(2, 15)}», «4D# 0.333:0.5 1/6♩», «4E 0.5:0.667 1/6♩», «4F~ 0.667:1 1/3♩»]</td><td>[0, 1, 2, 2, 3, 4] </td><td>gridError=0.273, rhythmComplexity=0 (numNotesAcrossSubdivs=0, numTies=0), divPenalty=0.02 (4e-05, divPenalty=0.02, cardinalityPenalty=0, numSubdivsPenalty=0, levelPenalty=0)           </td></tr>\n",
       "</tbody>\n",
       "</table>"
      ],
      "text/plain": [
       "<IPython.core.display.HTML object>"
      ]
     },
     "metadata": {},
     "output_type": "display_data"
    },
    {
     "name": "stdout",
     "output_type": "stream",
     "text": [
      "Beat: 1 - 2 (dur: 1)\n",
      "Best 1 divisions: (quantized in 188.6µs)\n"
     ]
    },
    {
     "data": {
      "text/html": [
       "<table>\n",
       "<thead>\n",
       "<tr><th style=\"text-align: right;\">  error</th><th>div  </th><th>snapped                                  </th><th>slots  </th><th>info                                                                                                                                                           </th></tr>\n",
       "</thead>\n",
       "<tbody>\n",
       "<tr><td style=\"text-align: right;\">      0</td><td>(3,) </td><td>[«~4F 0:0.333 1/3♩», «rest 0.333:1 2/3♩»]</td><td>[0, 1] </td><td>gridError=0, rhythmComplexity=0 (numNotesAcrossSubdivs=0, numTies=0), divPenalty=0 (0, divPenalty=0, cardinalityPenalty=0, numSubdivsPenalty=0, levelPenalty=0)</td></tr>\n",
       "</tbody>\n",
       "</table>"
      ],
      "text/plain": [
       "<IPython.core.display.HTML object>"
      ]
     },
     "metadata": {},
     "output_type": "display_data"
    },
    {
     "name": "stderr",
     "output_type": "stream",
     "text": [
      "[maelzel.scoring:quant.py:1605:_mergeSiblings:DEBUG] Nodes can merge: \n",
      "    Node(5/4, \n",
      "  «4C 0:0.133 2/15♩ 3/2,5/4»\n",
      "  «4C# 0.133:0.267 2/15♩ 3/2,5/4»\n",
      "  «4D~ 0.267:0.333 1/15♩ 3/2,5/4»\n",
      ")\n",
      "    Node(5/4, \n",
      "  «~4D 0.333:0.4 1/15♩ 3/2,5/4»\n",
      "  «4D# 0.4:0.533 2/15♩ 3/2,5/4»\n",
      "  «4E 0.533:0.667 2/15♩ 3/2,5/4»\n",
      ")\n",
      "[maelzel.scoring:quant.py:1608:_mergeSiblings:DEBUG] ---- Merged node:\n",
      "    Node(5/4, \n",
      "  «4C 0:0.133 2/15♩ 3/2,5/4»\n",
      "  «4C# 0.133:0.267 2/15♩ 3/2,5/4»\n",
      "  «4D 0.267:0.4 2/15♩ 3/2,5/4»\n",
      "  «4D# 0.4:0.533 2/15♩ 3/2,5/4»\n",
      "  «4E 0.533:0.667 2/15♩ 3/2,5/4»\n",
      ")\n",
      "[maelzel.scoring:quant.py:1611:_mergeSiblings:DEBUG] Nodes cannot merge: \n",
      "Node(3/2, \n",
      "  Node(5/4, \n",
      "    «4C 0:0.133 2/15♩ 3/2,5/4»\n",
      "    «4C# 0.133:0.267 2/15♩ 3/2,5/4»\n",
      "    «4D 0.267:0.4 2/15♩ 3/2,5/4»\n",
      "    «4D# 0.4:0.533 2/15♩ 3/2,5/4»\n",
      "    «4E 0.533:0.667 2/15♩ 3/2,5/4»\n",
      "  )\n",
      "  «4F~ 0.667:1 1/3♩ 3/2»\n",
      ")\n",
      "Node(3/2, \n",
      "  «~4F 1:1.333 1/3♩ 3/2»\n",
      "  «rest 1.333:2 2/3♩ 3/2»\n",
      ")\n",
      "----> Cannot merge nested tuples 1\n",
      "[maelzel.scoring:quant.py:1605:_mergeSiblings:DEBUG] Nodes can merge: \n",
      "    Node(1/1, \n",
      "  «rest 2:3 1♩»\n",
      ")\n",
      "    Node(1/1, \n",
      "  «rest 3:4 1♩»\n",
      ")\n",
      "[maelzel.scoring:quant.py:1608:_mergeSiblings:DEBUG] ---- Merged node:\n",
      "    Node(1/1, \n",
      "  «rest 2:4 2♩»\n",
      ")\n",
      "[maelzel.scoring:node.py:647:_splitUnnecessaryNodes:DEBUG] Did not split node Node(1/1, \n",
      "  Node(3/2, \n",
      "    Node(5/4, \n",
      "      «4C 0:0.133 2/15♩ 3/2,5/4»\n",
      "      «4C# 0.133:0.267 2/15♩ 3/2,5/4»\n",
      "      «4D 0.267:0.4 2/15♩ 3/2,5/4»\n",
      "      «4D# 0.4:0.533 2/15♩ 3/2,5/4»\n",
      "      «4E 0.533:0.667 2/15♩ 3/2,5/4»\n",
      "    )\n",
      "    «4F~ 0.667:1 1/3♩ 3/2»\n",
      "  )\n",
      "  Node(3/2, \n",
      "    «~4F 1:1.333 1/3♩ 3/2»\n",
      "    «rest 1.333:2 2/3♩ 3/2»\n",
      "  )\n",
      "  Node(1/1, \n",
      "    «rest 2:4 2♩»\n",
      "  )\n",
      ") at 3\n",
      "[maelzel.scoring:renderlily.py:1116:write:DEBUG] Rendering lilypond '/tmp/tmptedjvhav.ly' to '/tmp/tmptedjvhav.png'\n",
      "[maelzel.scoring:renderlily.py:1129:write:DEBUG] Found crop file /tmp/tmptedjvhav.cropped.png, using that as output\n"
     ]
    },
    {
     "data": {
      "text/html": [
       "<b>LilypondRenderer</b> (1 part)<br>\n",
       "        <img style=\"display:inline; padding:10px;\n",
       "margin-top:14px;\n",
       "width:611px\"\n",
       "             src=\"data:image/png;base64,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\"/>"
      ],
      "text/plain": [
       "<maelzel.scoring.renderlily.LilypondRenderer at 0x7fb74dbc3f90>"
      ]
     },
     "execution_count": 5,
     "metadata": {},
     "output_type": "execute_result"
    }
   ],
   "source": [
    "from maelzel import scoring\n",
    "from maelzel.scorestruct import ScoreStruct\n",
    "from maelzel.scoring import quantutils\n",
    "from maelzel.common import F\n",
    "\n",
    "notes = [\n",
    "    (60, F(2, 3)*F(1, 5)),\n",
    "    (61, F(2, 3)*F(1, 5)),\n",
    "    (62, F(2, 3)*F(1, 5)),\n",
    "    (63, F(2, 3)*F(1, 5)),\n",
    "    (64, F(2, 3)*F(1, 5)),\n",
    "    (65, F(2,3)),\n",
    "    #(60, F(2, 7)),\n",
    "    #(61, F(3, 7)),\n",
    "    #(62, F(4, 7))\n",
    "    \n",
    "    \n",
    "    ]\n",
    "\n",
    "struct = ScoreStruct(timesig='4/4', tempo=70)\n",
    "\n",
    "notations = [scoring.makeNote(p, d) for p, d in notes]\n",
    "part = scoring.UnquantizedPart(notations)\n",
    "quantprofile = scoring.quant.QuantizationProfile.fromPreset('highest')\n",
    "quantprofile.rhythmComplexityWeight  = 0.001\n",
    "quantprofile.debug=True\n",
    "qpart = scoring.quant.quantizePart(part, struct=struct, quantprofile=quantprofile)\n",
    "options = scoring.render.RenderOptions()\n",
    "score = scoring.quant.QuantizedScore([qpart])\n",
    "r = scoring.render.renderQuantizedScore(score, options)\n",
    "r.write('~/tmp/bigtriplet.ly')\n",
    "r"
   ]
  },
  {
   "cell_type": "code",
   "execution_count": 6,
   "id": "fc6ca75f-b392-4ab3-9c3c-822aff030289",
   "metadata": {},
   "outputs": [
    {
     "name": "stderr",
     "output_type": "stream",
     "text": [
      "[maelzel.scoring:quant.py:1334:quantizeMeasure:DEBUG] Measure 4/4 is not filled (events=[«4C# 0:0.6 3/5♩», «4E 0.6:0.7 1/10♩», «4F 0.7:0.8 1/10♩», «4F# 0.8:0.9 1/10♩», «4G 0.9:1 1/10♩», «4C 1:1.2 1/5♩», «4D 1.2:1.533 1/3♩»]). Filling gaps with silences\n",
      "[maelzel.scoring:quant.py:934:quantizeBeatBinary:DEBUG] Skipping (15,), totalError=0.15947483323468356 > minError=0.15731357043948346\n",
      "[maelzel.scoring:quant.py:917:quantizeBeatBinary:DEBUG] Skipping (1, 3), gridError=0.2899795441844549 * 1.0 > minError=0.15731357043948346\n",
      "[maelzel.scoring:quant.py:917:quantizeBeatBinary:DEBUG] Skipping (1, 4), gridError=0.21454452017703698 * 1.0 > minError=0.010954451150103323\n",
      "[maelzel.scoring:quant.py:917:quantizeBeatBinary:DEBUG] Skipping (1, 6), gridError=0.1789974848004854 * 1.0 > minError=0.010954451150103323\n",
      "[maelzel.scoring:quant.py:917:quantizeBeatBinary:DEBUG] Skipping (1, 7), gridError=0.17723584915066454 * 1.0 > minError=0.010954451150103323\n",
      "[maelzel.scoring:quant.py:917:quantizeBeatBinary:DEBUG] Skipping (1, 8), gridError=0.15927881381924017 * 1.0 > minError=0.010954451150103323\n",
      "[maelzel.scoring:quant.py:908:quantizeBeatBinary:DEBUG] Skipping (1, 9), divPenalty=0.04 * 0.31622776601683794 > minError=0.010954451150103323\n",
      "[maelzel.scoring:quant.py:908:quantizeBeatBinary:DEBUG] Skipping (1, 11), divPenalty=0.1 * 0.31622776601683794 > minError=0.010954451150103323\n",
      "[maelzel.scoring:quant.py:917:quantizeBeatBinary:DEBUG] Skipping (1, 3, 2), gridError=0.27381530980163143 * 1.0 > minError=0.010954451150103323\n",
      "[maelzel.scoring:quant.py:908:quantizeBeatBinary:DEBUG] Skipping (1, 1, 5), divPenalty=0.03741657386773942 * 0.31622776601683794 > minError=0.010954451150103323\n",
      "[maelzel.scoring:quant.py:908:quantizeBeatBinary:DEBUG] Skipping (1, 3, 5), divPenalty=0.03741657386773942 * 0.31622776601683794 > minError=0.010954451150103323\n",
      "[maelzel.scoring:quant.py:908:quantizeBeatBinary:DEBUG] Skipping (1, 5, 2), divPenalty=0.03741657386773942 * 0.31622776601683794 > minError=0.010954451150103323\n",
      "[maelzel.scoring:quant.py:908:quantizeBeatBinary:DEBUG] Skipping (1, 5, 3), divPenalty=0.03741657386773942 * 0.31622776601683794 > minError=0.010954451150103323\n",
      "[maelzel.scoring:quant.py:917:quantizeBeatBinary:DEBUG] Skipping (1, 1, 3), gridError=0.18980514774409332 * 1.0 > minError=0.010954451150103323\n",
      "[maelzel.scoring:quant.py:917:quantizeBeatBinary:DEBUG] Skipping (1, 3, 3), gridError=0.1809379361641558 * 1.0 > minError=0.010954451150103323\n",
      "[maelzel.scoring:quant.py:908:quantizeBeatBinary:DEBUG] Skipping (1, 4, 5), divPenalty=0.03872983346207417 * 0.31622776601683794 > minError=0.010954451150103323\n",
      "[maelzel.scoring:quant.py:917:quantizeBeatBinary:DEBUG] Skipping (1, 4, 3), gridError=0.14374033180143142 * 1.0 > minError=0.010954451150103323\n",
      "[maelzel.scoring:quant.py:917:quantizeBeatBinary:DEBUG] Skipping (1, 3, 4), gridError=0.21392472788273367 * 1.0 > minError=0.010954451150103323\n",
      "[maelzel.scoring:quant.py:908:quantizeBeatBinary:DEBUG] Skipping (1, 5, 4), divPenalty=0.03872983346207417 * 0.31622776601683794 > minError=0.010954451150103323\n",
      "[maelzel.scoring:quant.py:917:quantizeBeatBinary:DEBUG] Skipping (1, 6, 4), gridError=0.18006861391097476 * 1.0 > minError=0.010954451150103323\n",
      "[maelzel.scoring:quant.py:917:quantizeBeatBinary:DEBUG] Skipping (1, 4, 6), gridError=0.14642120834527947 * 1.0 > minError=0.010954451150103323\n",
      "[maelzel.scoring:quant.py:917:quantizeBeatBinary:DEBUG] Skipping (1, 3, 6), gridError=0.192796246511379 * 1.0 > minError=0.010954451150103323\n",
      "[maelzel.scoring:quant.py:917:quantizeBeatBinary:DEBUG] Skipping (1, 6, 3), gridError=0.14223333148110523 * 1.0 > minError=0.010954451150103323\n",
      "[maelzel.scoring:quant.py:908:quantizeBeatBinary:DEBUG] Skipping (1, 5, 5), divPenalty=0.042426406871192854 * 0.31622776601683794 > minError=0.010954451150103323\n",
      "[maelzel.scoring:quant.py:917:quantizeBeatBinary:DEBUG] Skipping (1, 4, 4), gridError=0.1789974848004854 * 1.0 > minError=0.010954451150103323\n",
      "[maelzel.scoring:quant.py:908:quantizeBeatBinary:DEBUG] Skipping (1, 7, 4), divPenalty=0.03872983346207417 * 0.31622776601683794 > minError=0.010954451150103323\n",
      "[maelzel.scoring:quant.py:908:quantizeBeatBinary:DEBUG] Skipping (1, 3, 7), divPenalty=0.03741657386773942 * 0.31622776601683794 > minError=0.010954451150103323\n",
      "[maelzel.scoring:quant.py:908:quantizeBeatBinary:DEBUG] Skipping (1, 7, 3), divPenalty=0.03741657386773942 * 0.31622776601683794 > minError=0.010954451150103323\n",
      "[maelzel.scoring:quant.py:908:quantizeBeatBinary:DEBUG] Skipping (1, 4, 7), divPenalty=0.03872983346207417 * 0.31622776601683794 > minError=0.010954451150103323\n",
      "[maelzel.scoring:quant.py:908:quantizeBeatBinary:DEBUG] Skipping (1, 5, 6), divPenalty=0.042426406871192854 * 0.31622776601683794 > minError=0.010954451150103323\n",
      "[maelzel.scoring:quant.py:908:quantizeBeatBinary:DEBUG] Skipping (1, 6, 5), divPenalty=0.042426406871192854 * 0.31622776601683794 > minError=0.010954451150103323\n",
      "[maelzel.scoring:quant.py:908:quantizeBeatBinary:DEBUG] Skipping (1, 5, 7), divPenalty=0.12961481396815722 * 0.31622776601683794 > minError=0.010954451150103323\n",
      "[maelzel.scoring:quant.py:908:quantizeBeatBinary:DEBUG] Skipping (1, 7, 5), divPenalty=0.12961481396815722 * 0.31622776601683794 > minError=0.010954451150103323\n",
      "[maelzel.scoring:quant.py:917:quantizeBeatBinary:DEBUG] Skipping (1, 3, 8), gridError=0.16398096072145782 * 1.0 > minError=0.010954451150103323\n",
      "[maelzel.scoring:quant.py:908:quantizeBeatBinary:DEBUG] Skipping (1, 5, 8), divPenalty=0.03872983346207417 * 0.31622776601683794 > minError=0.010954451150103323\n",
      "[maelzel.scoring:quant.py:917:quantizeBeatBinary:DEBUG] Skipping (1, 6, 6), gridError=0.12941181292101037 * 1.0 > minError=0.010954451150103323\n",
      "[maelzel.scoring:quant.py:908:quantizeBeatBinary:DEBUG] Skipping (1, 3, 9), divPenalty=0.04 * 0.31622776601683794 > minError=0.010954451150103323\n",
      "[maelzel.scoring:quant.py:908:quantizeBeatBinary:DEBUG] Skipping (1, 5, 9), divPenalty=0.05477225575051661 * 0.31622776601683794 > minError=0.010954451150103323\n",
      "[maelzel.scoring:quant.py:908:quantizeBeatBinary:DEBUG] Skipping (1, 9, 5), divPenalty=0.05477225575051661 * 0.31622776601683794 > minError=0.010954451150103323\n",
      "[maelzel.scoring:quant.py:908:quantizeBeatBinary:DEBUG] Skipping (1, 9, 3), divPenalty=0.04 * 0.31622776601683794 > minError=0.010954451150103323\n",
      "[maelzel.scoring:quant.py:917:quantizeBeatBinary:DEBUG] Skipping (1, 4, 8), gridError=0.11515558489121323 * 1.0 > minError=0.010954451150103323\n",
      "[maelzel.scoring:quant.py:908:quantizeBeatBinary:DEBUG] Skipping (1, 7, 6), divPenalty=0.042426406871192854 * 0.31622776601683794 > minError=0.010954451150103323\n",
      "[maelzel.scoring:quant.py:908:quantizeBeatBinary:DEBUG] Skipping (1, 6, 7), divPenalty=0.042426406871192854 * 0.31622776601683794 > minError=0.010954451150103323\n",
      "[maelzel.scoring:quant.py:908:quantizeBeatBinary:DEBUG] Skipping (1, 9, 4), divPenalty=0.04123105625617661 * 0.31622776601683794 > minError=0.010954451150103323\n",
      "[maelzel.scoring:quant.py:908:quantizeBeatBinary:DEBUG] Skipping (1, 4, 9), divPenalty=0.04123105625617661 * 0.31622776601683794 > minError=0.010954451150103323\n",
      "[maelzel.scoring:quant.py:917:quantizeBeatBinary:DEBUG] Skipping (1, 6, 8), gridError=0.09815615501889124 * 1.0 > minError=0.010954451150103323\n",
      "[maelzel.scoring:quant.py:908:quantizeBeatBinary:DEBUG] Skipping (1, 7, 7), divPenalty=0.042426406871192854 * 0.31622776601683794 > minError=0.010954451150103323\n",
      "[maelzel.scoring:quant.py:908:quantizeBeatBinary:DEBUG] Skipping (1, 6, 9), divPenalty=0.044721359549995794 * 0.31622776601683794 > minError=0.010954451150103323\n",
      "[maelzel.scoring:quant.py:908:quantizeBeatBinary:DEBUG] Skipping (1, 9, 6), divPenalty=0.044721359549995794 * 0.31622776601683794 > minError=0.010954451150103323\n",
      "[maelzel.scoring:quant.py:908:quantizeBeatBinary:DEBUG] Skipping (1, 7, 8), divPenalty=0.03872983346207417 * 0.31622776601683794 > minError=0.010954451150103323\n",
      "[maelzel.scoring:quant.py:908:quantizeBeatBinary:DEBUG] Skipping (1, 9, 7), divPenalty=0.05477225575051661 * 0.31622776601683794 > minError=0.010954451150103323\n",
      "[maelzel.scoring:quant.py:908:quantizeBeatBinary:DEBUG] Skipping (1, 7, 9), divPenalty=0.05477225575051661 * 0.31622776601683794 > minError=0.010954451150103323\n",
      "[maelzel.scoring:quant.py:908:quantizeBeatBinary:DEBUG] Skipping (1, 9, 8), divPenalty=0.04123105625617661 * 0.31622776601683794 > minError=0.010954451150103323\n",
      "[maelzel.scoring:quant.py:908:quantizeBeatBinary:DEBUG] Skipping (1, 9, 9), divPenalty=0.0565685424949238 * 0.31622776601683794 > minError=0.010954451150103323\n",
      "[maelzel.scoring:quant.py:917:quantizeBeatBinary:DEBUG] Skipping (1, 1, 2, 4), gridError=0.19668396123988943 * 1.0 > minError=0.010954451150103323\n",
      "[maelzel.scoring:quant.py:917:quantizeBeatBinary:DEBUG] Skipping (1, 1, 3, 4), gridError=0.16858945623022498 * 1.0 > minError=0.010954451150103323\n",
      "[maelzel.scoring:quant.py:917:quantizeBeatBinary:DEBUG] Skipping (1, 1, 2, 2), gridError=0.21454452017703698 * 1.0 > minError=0.010954451150103323\n",
      "[maelzel.scoring:quant.py:917:quantizeBeatBinary:DEBUG] Skipping (1, 1, 2, 3), gridError=0.19881614572966275 * 1.0 > minError=0.010954451150103323\n",
      "[maelzel.scoring:quant.py:917:quantizeBeatBinary:DEBUG] Skipping (1, 1, 4, 3), gridError=0.16858945623022498 * 1.0 > minError=0.010954451150103323\n",
      "[maelzel.scoring:quant.py:917:quantizeBeatBinary:DEBUG] Skipping (1, 1, 4, 2), gridError=0.19668396123988943 * 1.0 > minError=0.010954451150103323\n",
      "[maelzel.scoring:quant.py:917:quantizeBeatBinary:DEBUG] Skipping (1, 1, 3, 2), gridError=0.19881614572966275 * 1.0 > minError=0.010954451150103323\n",
      "[maelzel.scoring:quant.py:917:quantizeBeatBinary:DEBUG] Skipping (1, 1, 2, 5), gridError=0.1421988025413349 * 1.0 > minError=0.010954451150103323\n",
      "[maelzel.scoring:quant.py:908:quantizeBeatBinary:DEBUG] Skipping (1, 1, 5, 3), divPenalty=0.04358898943540674 * 0.31622776601683794 > minError=0.010954451150103323\n",
      "[maelzel.scoring:quant.py:917:quantizeBeatBinary:DEBUG] Skipping (1, 1, 5, 2), gridError=0.1421988025413349 * 1.0 > minError=0.010954451150103323\n",
      "[maelzel.scoring:quant.py:908:quantizeBeatBinary:DEBUG] Skipping (1, 1, 3, 5), divPenalty=0.04358898943540674 * 0.31622776601683794 > minError=0.010954451150103323\n",
      "[maelzel.scoring:quant.py:917:quantizeBeatBinary:DEBUG] Skipping (1, 1, 3, 3), gridError=0.1789974848004854 * 1.0 > minError=0.010954451150103323\n",
      "[maelzel.scoring:quant.py:917:quantizeBeatBinary:DEBUG] Skipping (1, 1, 4, 4), gridError=0.15927881381924017 * 1.0 > minError=0.010954451150103323\n",
      "[maelzel.scoring:quant.py:917:quantizeBeatBinary:DEBUG] Skipping (1, 1, 4, 5), gridError=0.0914816557100201 * 1.0 > minError=0.010954451150103323\n",
      "[maelzel.scoring:quant.py:917:quantizeBeatBinary:DEBUG] Skipping (1, 1, 5, 4), gridError=0.0914816557100201 * 1.0 > minError=0.010954451150103323\n",
      "[maelzel.scoring:quant.py:917:quantizeBeatBinary:DEBUG] Skipping (1, 1, 6, 3), gridError=0.1421988025413349 * 1.0 > minError=0.010954451150103323\n",
      "[maelzel.scoring:quant.py:917:quantizeBeatBinary:DEBUG] Skipping (1, 1, 6, 2), gridError=0.18388537971277144 * 1.0 > minError=0.010954451150103323\n",
      "[maelzel.scoring:quant.py:917:quantizeBeatBinary:DEBUG] Skipping (1, 1, 4, 6), gridError=0.1313555689999598 * 1.0 > minError=0.010954451150103323\n",
      "[maelzel.scoring:quant.py:917:quantizeBeatBinary:DEBUG] Skipping (1, 1, 3, 6), gridError=0.1421988025413349 * 1.0 > minError=0.010954451150103323\n",
      "[maelzel.scoring:quant.py:917:quantizeBeatBinary:DEBUG] Skipping (1, 1, 6, 4), gridError=0.1313555689999598 * 1.0 > minError=0.010954451150103323\n",
      "[maelzel.scoring:quant.py:917:quantizeBeatBinary:DEBUG] Skipping (1, 1, 2, 6), gridError=0.18388537971277144 * 1.0 > minError=0.010954451150103323\n",
      "[maelzel.scoring:quant.py:908:quantizeBeatBinary:DEBUG] Skipping (1, 1, 5, 5), divPenalty=0.0382842712474619 * 0.31622776601683794 > minError=0.010954451150103323\n",
      "[maelzel.scoring:quant.py:908:quantizeBeatBinary:DEBUG] Skipping (1, 1, 3, 7), divPenalty=0.04358898943540674 * 0.31622776601683794 > minError=0.010954451150103323\n",
      "[maelzel.scoring:quant.py:917:quantizeBeatBinary:DEBUG] Skipping (1, 1, 2, 7), gridError=0.17386473972473826 * 1.0 > minError=0.010954451150103323\n",
      "[maelzel.scoring:quant.py:917:quantizeBeatBinary:DEBUG] Skipping (1, 1, 7, 4), gridError=0.11724859812127487 * 1.0 > minError=0.010954451150103323\n",
      "[maelzel.scoring:quant.py:917:quantizeBeatBinary:DEBUG] Skipping (1, 1, 4, 7), gridError=0.11724859812127487 * 1.0 > minError=0.010954451150103323\n",
      "[maelzel.scoring:quant.py:908:quantizeBeatBinary:DEBUG] Skipping (1, 1, 7, 3), divPenalty=0.04358898943540674 * 0.31622776601683794 > minError=0.010954451150103323\n",
      "[maelzel.scoring:quant.py:917:quantizeBeatBinary:DEBUG] Skipping (1, 1, 7, 2), gridError=0.17386473972473823 * 1.0 > minError=0.010954451150103323\n",
      "[maelzel.scoring:quant.py:908:quantizeBeatBinary:DEBUG] Skipping (1, 1, 6, 5), divPenalty=0.049655668608420106 * 0.31622776601683794 > minError=0.010954451150103323\n",
      "[maelzel.scoring:quant.py:908:quantizeBeatBinary:DEBUG] Skipping (1, 1, 5, 6), divPenalty=0.049655668608420106 * 0.31622776601683794 > minError=0.010954451150103323\n",
      "[maelzel.scoring:quant.py:908:quantizeBeatBinary:DEBUG] Skipping (1, 1, 5, 7), divPenalty=0.049655668608420106 * 0.31622776601683794 > minError=0.010954451150103323\n",
      "[maelzel.scoring:quant.py:908:quantizeBeatBinary:DEBUG] Skipping (1, 1, 7, 5), divPenalty=0.049655668608420106 * 0.31622776601683794 > minError=0.010954451150103323\n",
      "[maelzel.scoring:quant.py:908:quantizeBeatBinary:DEBUG] Skipping (1, 1, 6, 6), divPenalty=0.0382842712474619 * 0.31622776601683794 > minError=0.010954451150103323\n",
      "[maelzel.scoring:quant.py:908:quantizeBeatBinary:DEBUG] Skipping (1, 1, 7, 6), divPenalty=0.049655668608420106 * 0.31622776601683794 > minError=0.010954451150103323\n",
      "[maelzel.scoring:quant.py:908:quantizeBeatBinary:DEBUG] Skipping (1, 1, 6, 7), divPenalty=0.049655668608420106 * 0.31622776601683794 > minError=0.010954451150103323\n",
      "[maelzel.scoring:quant.py:908:quantizeBeatBinary:DEBUG] Skipping (1, 1, 7, 7), divPenalty=0.0382842712474619 * 0.31622776601683794 > minError=0.010954451150103323\n",
      "[maelzel.scoring:quant.py:908:quantizeBeatBinary:DEBUG] Skipping (1, 1, 1, 2, 3), divPenalty=0.06734983296193095 * 0.31622776601683794 > minError=0.006324555320336759\n",
      "[maelzel.scoring:quant.py:908:quantizeBeatBinary:DEBUG] Skipping (1, 1, 1, 3, 2), divPenalty=0.06734983296193095 * 0.31622776601683794 > minError=0.006324555320336759\n",
      "[maelzel.scoring:quant.py:908:quantizeBeatBinary:DEBUG] Skipping (1, 1, 1, 3, 3), divPenalty=0.12122969933147572 * 0.31622776601683794 > minError=0.006324555320336759\n",
      "[maelzel.scoring:quant.py:908:quantizeBeatBinary:DEBUG] Skipping (1, 1, 1, 5, 2), divPenalty=0.07200000000000001 * 0.31622776601683794 > minError=0.006324555320336759\n",
      "[maelzel.scoring:quant.py:908:quantizeBeatBinary:DEBUG] Skipping (1, 1, 1, 3, 5), divPenalty=0.16520823224040626 * 0.31622776601683794 > minError=0.006324555320336759\n",
      "[maelzel.scoring:quant.py:908:quantizeBeatBinary:DEBUG] Skipping (1, 1, 1, 2, 5), divPenalty=0.07200000000000001 * 0.31622776601683794 > minError=0.006324555320336759\n",
      "[maelzel.scoring:quant.py:908:quantizeBeatBinary:DEBUG] Skipping (1, 1, 1, 5, 3), divPenalty=0.16520823224040626 * 0.31622776601683794 > minError=0.006324555320336759\n",
      "[maelzel.scoring:quant.py:908:quantizeBeatBinary:DEBUG] Skipping (1, 1, 1, 5, 5), divPenalty=0.15644103884177657 * 0.31622776601683794 > minError=0.006324555320336759\n"
     ]
    },
    {
     "name": "stdout",
     "output_type": "stream",
     "text": [
      "Beat: 0 - 1 (dur: 1)\n",
      "Best 7 divisions: (quantized in 125.1ms)\n"
     ]
    },
    {
     "data": {
      "text/html": [
       "<table>\n",
       "<thead>\n",
       "<tr><th style=\"text-align: right;\">  error</th><th>div            </th><th>snapped                                                                                                                                                                                                                                                    </th><th>slots           </th><th>info                                                                                                                                                                             </th></tr>\n",
       "</thead>\n",
       "<tbody>\n",
       "<tr><td style=\"text-align: right;\"> 0.0063</td><td>(1, 1, 1, 2, 2)</td><td>[«4C# 0:0.6 3/5♩», «4E 0.6:0.7 1/10♩», «4F 0.7:0.8 1/10♩», «4F# 0.8:0.9 1/10♩», «4G 0.9:1 1/10♩»]                                                                                                                                                          </td><td>[0, 3, 4, 5, 6] </td><td>gridError=0, rhythmComplexity=0 (numNotesAcrossSubdivs=0, numTies=0), divPenalty=0.02 (0.002, divPenalty=0.02, cardinalityPenalty=0, numSubdivsPenalty=0, levelPenalty=0)        </td></tr>\n",
       "<tr><td style=\"text-align: right;\"> 0.0110</td><td>(1, 5)         </td><td>[«4C# 0:0.6 3/5♩», «4E 0.6:0.7 1/10♩», «4F 0.7:0.8 1/10♩», «4F# 0.8:0.9 1/10♩», «4G 0.9:1 1/10♩»]                                                                                                                                                          </td><td>[0, 2, 3, 4, 5] </td><td>gridError=0, rhythmComplexity=0.0894 (numNotesAcrossSubdivs=1, numTies=0), divPenalty=0.02 (0.002, divPenalty=0.02, cardinalityPenalty=0, numSubdivsPenalty=0, levelPenalty=0)   </td></tr>\n",
       "<tr><td style=\"text-align: right;\"> 0.1573</td><td>(11,)          </td><td>[«4C# 0:0.636 7/11♩», «4E 0.636:0.727 1/11♩», «4F 0.727:0.818 1/11♩», «4F# 0.818:0.909 1/11♩», «4G 0.909:1 1/11♩»]                                                                                                                                         </td><td>[0, 7, 8, 9, 10]</td><td>gridError=0.154, rhythmComplexity=0 (numNotesAcrossSubdivs=0, numTies=0), divPenalty=0.1 (0.01, divPenalty=0.1, cardinalityPenalty=0, numSubdivsPenalty=0, levelPenalty=0)       </td></tr>\n",
       "<tr><td style=\"text-align: right;\"> 0.1823</td><td>(9,)           </td><td>[«4C# 0:0.556 5/9♩», «4E 0.556:0.667 1/9♩», «4F 0.667:0.778 1/9♩», «4F# 0.778:0.889 1/9♩», «4G 0.889:1 1/9♩»]                                                                                                                                              </td><td>[0, 5, 6, 7, 8] </td><td>gridError=0.181, rhythmComplexity=0.179 (numNotesAcrossSubdivs=0, numTies=1), divPenalty=0.04 (0.004, divPenalty=0.04, cardinalityPenalty=0, numSubdivsPenalty=0, levelPenalty=0)</td></tr>\n",
       "<tr><td style=\"text-align: right;\"> 0.2153</td><td>(8,)           </td><td>[«4C# 0:0.625 5/8♩», «4E 0.625:0.75 1/8♩», «4F 0.75:grace properties={&#x27;.snappedGracenote&#x27;: True, &#x27;originalDuration&#x27;: Fraction(1, 10)}», «4F# 0.75:0.875 1/8♩», «4G 0.875:1 1/8♩»]                                                                          </td><td>[0, 5, 6, 6, 7] </td><td>gridError=0.215, rhythmComplexity=0.179 (numNotesAcrossSubdivs=0, numTies=1), divPenalty=0.01 (0.001, divPenalty=0.01, cardinalityPenalty=0, numSubdivsPenalty=0, levelPenalty=0)</td></tr>\n",
       "<tr><td style=\"text-align: right;\"> 0.2223</td><td>(7,)           </td><td>[«4C# 0:0.571 4/7♩», «4E 0.571:0.714 1/7♩», «4F 0.714:0.857 1/7♩», «4F# 0.857:grace properties={&#x27;.snappedGracenote&#x27;: True, &#x27;originalDuration&#x27;: Fraction(1, 10)}», «4G 0.857:1 1/7♩»]                                                                       </td><td>[0, 4, 5, 6, 6] </td><td>gridError=0.222, rhythmComplexity=0 (numNotesAcrossSubdivs=0, numTies=0), divPenalty=0.02 (0.002, divPenalty=0.02, cardinalityPenalty=0, numSubdivsPenalty=0, levelPenalty=0)    </td></tr>\n",
       "<tr><td style=\"text-align: right;\"> 0.2900</td><td>(6,)           </td><td>[«4C# 0:0.667 2/3♩», «4E 0.667:grace properties={&#x27;.snappedGracenote&#x27;: True, &#x27;originalDuration&#x27;: Fraction(1, 10)}», «4F 0.667:0.833 1/6♩», «4F# 0.833:grace properties={&#x27;.snappedGracenote&#x27;: True, &#x27;originalDuration&#x27;: Fraction(1, 10)}», «4G 0.833:1 1/6♩»]</td><td>[0, 4, 4, 5, 5] </td><td>gridError=0.29, rhythmComplexity=0 (numNotesAcrossSubdivs=0, numTies=0), divPenalty=0.02 (0.002, divPenalty=0.02, cardinalityPenalty=0, numSubdivsPenalty=0, levelPenalty=0)     </td></tr>\n",
       "</tbody>\n",
       "</table>"
      ],
      "text/plain": [
       "<IPython.core.display.HTML object>"
      ]
     },
     "metadata": {},
     "output_type": "display_data"
    },
    {
     "name": "stderr",
     "output_type": "stream",
     "text": [
      "[maelzel.scoring:quant.py:917:quantizeBeatBinary:DEBUG] Skipping (7,), gridError=0.17635734724753555 * 1.0 > minError=0.10300141362845067\n",
      "[maelzel.scoring:quant.py:917:quantizeBeatBinary:DEBUG] Skipping (4,), gridError=0.15848931924611134 * 1.0 > minError=0.10300141362845067\n",
      "[maelzel.scoring:quant.py:934:quantizeBeatBinary:DEBUG] Skipping (11,), totalError=0.08286757858515804 > minError=0.07539620289407264\n",
      "[maelzel.scoring:quant.py:917:quantizeBeatBinary:DEBUG] Skipping (3, 1), gridError=0.10280705816946219 * 1.0 > minError=0.06740604818968841\n",
      "[maelzel.scoring:quant.py:917:quantizeBeatBinary:DEBUG] Skipping (2, 1), gridError=0.15848931924611134 * 1.0 > minError=0.06740604818968841\n",
      "[maelzel.scoring:quant.py:917:quantizeBeatBinary:DEBUG] Skipping (7, 1), gridError=0.09486895381217367 * 1.0 > minError=0.06740604818968841\n",
      "[maelzel.scoring:quant.py:917:quantizeBeatBinary:DEBUG] Skipping (8, 1), gridError=0.07873686071872314 * 1.0 > minError=0.06740604818968841\n",
      "[maelzel.scoring:quant.py:934:quantizeBeatBinary:DEBUG] Skipping (5, 8), totalError=0.06927003218841972 > minError=0.06740604818968841\n",
      "[maelzel.scoring:quant.py:917:quantizeBeatBinary:DEBUG] Skipping (9, 1), gridError=0.10965233394161775 * 1.0 > minError=0.06740604818968841\n",
      "[maelzel.scoring:quant.py:917:quantizeBeatBinary:DEBUG] Skipping (3, 8), gridError=0.12406005959420131 * 1.0 > minError=0.053630673126371486\n",
      "[maelzel.scoring:quant.py:917:quantizeBeatBinary:DEBUG] Skipping (3, 9), gridError=0.11458479517249857 * 1.0 > minError=0.053630673126371486\n",
      "[maelzel.scoring:quant.py:917:quantizeBeatBinary:DEBUG] Skipping (7, 8), gridError=0.07448138853449747 * 1.0 > minError=0.053630673126371486\n",
      "[maelzel.scoring:quant.py:934:quantizeBeatBinary:DEBUG] Skipping (5, 11), totalError=0.05606822483064949 > minError=0.053630673126371486\n",
      "[maelzel.scoring:quant.py:917:quantizeBeatBinary:DEBUG] Skipping (11, 1), gridError=0.08494952729099821 * 1.0 > minError=0.053630673126371486\n",
      "[maelzel.scoring:quant.py:917:quantizeBeatBinary:DEBUG] Skipping (7, 9), gridError=0.06409489433156498 * 1.0 > minError=0.053630673126371486\n",
      "[maelzel.scoring:quant.py:917:quantizeBeatBinary:DEBUG] Skipping (8, 8), gridError=0.08525709953086345 * 1.0 > minError=0.053630673126371486\n",
      "[maelzel.scoring:quant.py:917:quantizeBeatBinary:DEBUG] Skipping (3, 11), gridError=0.10053540201182505 * 1.0 > minError=0.053630673126371486\n",
      "[maelzel.scoring:quant.py:917:quantizeBeatBinary:DEBUG] Skipping (8, 9), gridError=0.07463882675599745 * 1.0 > minError=0.053630673126371486\n",
      "[maelzel.scoring:quant.py:917:quantizeBeatBinary:DEBUG] Skipping (9, 8), gridError=0.08383844596137352 * 1.0 > minError=0.053630673126371486\n",
      "[maelzel.scoring:quant.py:934:quantizeBeatBinary:DEBUG] Skipping (7, 11), totalError=0.06939806197867177 > minError=0.053630673126371486\n",
      "[maelzel.scoring:quant.py:917:quantizeBeatBinary:DEBUG] Skipping (9, 9), gridError=0.07432756830977433 * 1.0 > minError=0.053630673126371486\n",
      "[maelzel.scoring:quant.py:917:quantizeBeatBinary:DEBUG] Skipping (11, 8), gridError=0.09615560699929304 * 1.0 > minError=0.053630673126371486\n",
      "[maelzel.scoring:quant.py:917:quantizeBeatBinary:DEBUG] Skipping (8, 11), gridError=0.05854880646216624 * 1.0 > minError=0.053630673126371486\n",
      "[maelzel.scoring:quant.py:917:quantizeBeatBinary:DEBUG] Skipping (9, 11), gridError=0.06775545558529594 * 1.0 > minError=0.053630673126371486\n",
      "[maelzel.scoring:quant.py:917:quantizeBeatBinary:DEBUG] Skipping (11, 9), gridError=0.08592273879043746 * 1.0 > minError=0.053630673126371486\n",
      "[maelzel.scoring:quant.py:917:quantizeBeatBinary:DEBUG] Skipping (11, 11), gridError=0.07055598267814328 * 1.0 > minError=0.053630673126371486\n",
      "[maelzel.scoring:quant.py:934:quantizeBeatBinary:DEBUG] Skipping (5, 3, 1), totalError=0.05816283836483886 > minError=0.053630673126371486\n",
      "[maelzel.scoring:quant.py:917:quantizeBeatBinary:DEBUG] Skipping (3, 2, 1), gridError=0.10965233394161775 * 1.0 > minError=0.053630673126371486\n",
      "[maelzel.scoring:quant.py:917:quantizeBeatBinary:DEBUG] Skipping (2, 3, 1), gridError=0.11458479517249857 * 1.0 > minError=0.053630673126371486\n",
      "[maelzel.scoring:quant.py:917:quantizeBeatBinary:DEBUG] Skipping (3, 5, 1), gridError=0.06019203009649561 * 1.0 > minError=0.053630673126371486\n",
      "[maelzel.scoring:quant.py:917:quantizeBeatBinary:DEBUG] Skipping (2, 5, 1), gridError=0.08325532074018731 * 1.0 > minError=0.053630673126371486\n",
      "[maelzel.scoring:quant.py:917:quantizeBeatBinary:DEBUG] Skipping (5, 2, 1), gridError=0.06710868298924214 * 1.0 > minError=0.053630673126371486\n",
      "[maelzel.scoring:quant.py:917:quantizeBeatBinary:DEBUG] Skipping (3, 3, 1), gridError=0.07432756830977433 * 1.0 > minError=0.053630673126371486\n",
      "[maelzel.scoring:quant.py:917:quantizeBeatBinary:DEBUG] Skipping (2, 2, 1), gridError=0.10280705816946219 * 1.0 > minError=0.03269386622730461\n",
      "[maelzel.scoring:quant.py:917:quantizeBeatBinary:DEBUG] Skipping (3, 7, 1), gridError=0.07488149000613994 * 1.0 > minError=0.03269386622730461\n",
      "[maelzel.scoring:quant.py:917:quantizeBeatBinary:DEBUG] Skipping (7, 3, 1), gridError=0.06858846824824043 * 1.0 > minError=0.03269386622730461\n",
      "[maelzel.scoring:quant.py:917:quantizeBeatBinary:DEBUG] Skipping (7, 2, 1), gridError=0.07566472608936059 * 1.0 > minError=0.03269386622730461\n",
      "[maelzel.scoring:quant.py:917:quantizeBeatBinary:DEBUG] Skipping (2, 7, 1), gridError=0.08865361372308214 * 1.0 > minError=0.03269386622730461\n",
      "[maelzel.scoring:quant.py:908:quantizeBeatBinary:DEBUG] Skipping (7, 5, 1), divPenalty=0.12961481396815722 * 0.31622776601683794 > minError=0.03269386622730461\n",
      "[maelzel.scoring:quant.py:908:quantizeBeatBinary:DEBUG] Skipping (5, 7, 1), divPenalty=0.12961481396815722 * 0.31622776601683794 > minError=0.03269386622730461\n",
      "[maelzel.scoring:quant.py:934:quantizeBeatBinary:DEBUG] Skipping (5, 8, 1), totalError=0.0491716537560268 > minError=0.03269386622730461\n",
      "[maelzel.scoring:quant.py:917:quantizeBeatBinary:DEBUG] Skipping (8, 3, 1), gridError=0.056925268534786785 * 1.0 > minError=0.03269386622730461\n",
      "[maelzel.scoring:quant.py:917:quantizeBeatBinary:DEBUG] Skipping (3, 8, 1), gridError=0.06534301660495496 * 1.0 > minError=0.03269386622730461\n",
      "[maelzel.scoring:quant.py:934:quantizeBeatBinary:DEBUG] Skipping (8, 5, 1), totalError=0.07313491974776885 > minError=0.03269386622730461\n",
      "[maelzel.scoring:quant.py:917:quantizeBeatBinary:DEBUG] Skipping (9, 5, 1), gridError=0.04351770499382118 * 1.0 > minError=0.03269386622730461\n",
      "[maelzel.scoring:quant.py:917:quantizeBeatBinary:DEBUG] Skipping (3, 9, 1), gridError=0.08284265051536335 * 1.0 > minError=0.03269386622730461\n",
      "[maelzel.scoring:quant.py:917:quantizeBeatBinary:DEBUG] Skipping (5, 9, 1), gridError=0.03507782857462492 * 1.0 > minError=0.03269386622730461\n",
      "[maelzel.scoring:quant.py:917:quantizeBeatBinary:DEBUG] Skipping (9, 3, 1), gridError=0.07927657387041848 * 1.0 > minError=0.03269386622730461\n",
      "[maelzel.scoring:quant.py:917:quantizeBeatBinary:DEBUG] Skipping (2, 8, 1), gridError=0.09518343135885024 * 1.0 > minError=0.03269386622730461\n",
      "[maelzel.scoring:quant.py:917:quantizeBeatBinary:DEBUG] Skipping (8, 2, 1), gridError=0.08348610549483222 * 1.0 > minError=0.03269386622730461\n",
      "[maelzel.scoring:quant.py:917:quantizeBeatBinary:DEBUG] Skipping (2, 9, 1), gridError=0.09173335396822184 * 1.0 > minError=0.03269386622730461\n",
      "[maelzel.scoring:quant.py:917:quantizeBeatBinary:DEBUG] Skipping (9, 2, 1), gridError=0.08121955480392667 * 1.0 > minError=0.03269386622730461\n",
      "[maelzel.scoring:quant.py:917:quantizeBeatBinary:DEBUG] Skipping (7, 7, 1), gridError=0.03773709772306931 * 1.0 > minError=0.03269386622730461\n",
      "[maelzel.scoring:quant.py:917:quantizeBeatBinary:DEBUG] Skipping (8, 7, 1), gridError=0.04487486647927427 * 1.0 > minError=0.03269386622730461\n",
      "[maelzel.scoring:quant.py:917:quantizeBeatBinary:DEBUG] Skipping (7, 8, 1), gridError=0.04553837718728557 * 1.0 > minError=0.03269386622730461\n",
      "[maelzel.scoring:quant.py:917:quantizeBeatBinary:DEBUG] Skipping (7, 9, 1), gridError=0.04633940238698774 * 1.0 > minError=0.03269386622730461\n",
      "[maelzel.scoring:quant.py:917:quantizeBeatBinary:DEBUG] Skipping (9, 7, 1), gridError=0.049993342843818366 * 1.0 > minError=0.03269386622730461\n",
      "[maelzel.scoring:quant.py:917:quantizeBeatBinary:DEBUG] Skipping (8, 8, 1), gridError=0.033913681634473614 * 1.0 > minError=0.03269386622730461\n",
      "[maelzel.scoring:quant.py:917:quantizeBeatBinary:DEBUG] Skipping (8, 9, 1), gridError=0.05396246710146315 * 1.0 > minError=0.03269386622730461\n",
      "[maelzel.scoring:quant.py:917:quantizeBeatBinary:DEBUG] Skipping (9, 8, 1), gridError=0.05738829552342515 * 1.0 > minError=0.03269386622730461\n",
      "[maelzel.scoring:quant.py:917:quantizeBeatBinary:DEBUG] Skipping (9, 9, 1), gridError=0.05373743310247926 * 1.0 > minError=0.03269386622730461\n",
      "[maelzel.scoring:quant.py:917:quantizeBeatBinary:DEBUG] Skipping (3, 1, 1, 1), gridError=0.10280705816946219 * 1.0 > minError=0.03269386622730461\n",
      "[maelzel.scoring:quant.py:917:quantizeBeatBinary:DEBUG] Skipping (4, 1, 1, 1), gridError=0.07873686071872314 * 1.0 > minError=0.03269386622730461\n",
      "[maelzel.scoring:quant.py:917:quantizeBeatBinary:DEBUG] Skipping (1, 1, 4, 1), gridError=0.13065992785559613 * 1.0 > minError=0.03269386622730461\n",
      "[maelzel.scoring:quant.py:917:quantizeBeatBinary:DEBUG] Skipping (3, 1, 4, 1), gridError=0.12406005959420131 * 1.0 > minError=0.03269386622730461\n",
      "[maelzel.scoring:quant.py:917:quantizeBeatBinary:DEBUG] Skipping (5, 1, 1, 1), gridError=0.06710868298924214 * 1.0 > minError=0.03269386622730461\n",
      "[maelzel.scoring:quant.py:917:quantizeBeatBinary:DEBUG] Skipping (1, 1, 5, 1), gridError=0.12389302073551581 * 1.0 > minError=0.03269386622730461\n",
      "[maelzel.scoring:quant.py:917:quantizeBeatBinary:DEBUG] Skipping (3, 1, 5, 1), gridError=0.10689758981621912 * 1.0 > minError=0.03269386622730461\n",
      "[maelzel.scoring:quant.py:917:quantizeBeatBinary:DEBUG] Skipping (4, 1, 4, 1), gridError=0.08525709953086345 * 1.0 > minError=0.03269386622730461\n",
      "[maelzel.scoring:quant.py:917:quantizeBeatBinary:DEBUG] Skipping (5, 1, 4, 1), gridError=0.06030942089154557 * 1.0 > minError=0.03269386622730461\n",
      "[maelzel.scoring:quant.py:917:quantizeBeatBinary:DEBUG] Skipping (4, 1, 5, 1), gridError=0.0658938704699492 * 1.0 > minError=0.03269386622730461\n",
      "[maelzel.scoring:quant.py:917:quantizeBeatBinary:DEBUG] Skipping (4, 1, 6, 1), gridError=0.05228197762956366 * 1.0 > minError=0.03269386622730461\n",
      "[maelzel.scoring:quant.py:917:quantizeBeatBinary:DEBUG] Skipping (1, 1, 6, 1), gridError=0.11947598950913277 * 1.0 > minError=0.03269386622730461\n",
      "[maelzel.scoring:quant.py:917:quantizeBeatBinary:DEBUG] Skipping (3, 1, 6, 1), gridError=0.09518343135885024 * 1.0 > minError=0.03269386622730461\n",
      "[maelzel.scoring:quant.py:917:quantizeBeatBinary:DEBUG] Skipping (6, 1, 1, 1), gridError=0.08348610549483222 * 1.0 > minError=0.03269386622730461\n",
      "[maelzel.scoring:quant.py:917:quantizeBeatBinary:DEBUG] Skipping (6, 1, 4, 1), gridError=0.06799858988587629 * 1.0 > minError=0.03269386622730461\n",
      "[maelzel.scoring:quant.py:917:quantizeBeatBinary:DEBUG] Skipping (5, 1, 5, 1), gridError=0.03854381687787997 * 1.0 > minError=0.03269386622730461\n",
      "[maelzel.scoring:quant.py:917:quantizeBeatBinary:DEBUG] Skipping (7, 1, 1, 1), gridError=0.09486895381217367 * 1.0 > minError=0.03269386622730461\n",
      "[maelzel.scoring:quant.py:917:quantizeBeatBinary:DEBUG] Skipping (1, 1, 7, 1), gridError=0.11637890546900671 * 1.0 > minError=0.03269386622730461\n",
      "[maelzel.scoring:quant.py:917:quantizeBeatBinary:DEBUG] Skipping (7, 1, 4, 1), gridError=0.07448138853449747 * 1.0 > minError=0.03269386622730461\n",
      "[maelzel.scoring:quant.py:917:quantizeBeatBinary:DEBUG] Skipping (4, 1, 7, 1), gridError=0.042142347559288765 * 1.0 > minError=0.03269386622730461\n",
      "[maelzel.scoring:quant.py:917:quantizeBeatBinary:DEBUG] Skipping (3, 1, 7, 1), gridError=0.08668375827059006 * 1.0 > minError=0.03269386622730461\n",
      "[maelzel.scoring:quant.py:917:quantizeBeatBinary:DEBUG] Skipping (6, 1, 5, 1), gridError=0.047817624989501845 * 1.0 > minError=0.03269386622730461\n",
      "[maelzel.scoring:quant.py:934:quantizeBeatBinary:DEBUG] Skipping (5, 1, 6, 1), totalError=0.05014399341493962 > minError=0.03269386622730461\n",
      "[maelzel.scoring:quant.py:917:quantizeBeatBinary:DEBUG] Skipping (7, 1, 5, 1), gridError=0.05574955300381103 * 1.0 > minError=0.03269386622730461\n",
      "[maelzel.scoring:quant.py:934:quantizeBeatBinary:DEBUG] Skipping (5, 1, 7, 1), totalError=0.04572065217053712 > minError=0.03269386622730461\n",
      "[maelzel.scoring:quant.py:917:quantizeBeatBinary:DEBUG] Skipping (6, 1, 6, 1), gridError=0.033913681634473614 * 1.0 > minError=0.03269386622730461\n",
      "[maelzel.scoring:quant.py:917:quantizeBeatBinary:DEBUG] Skipping (7, 1, 6, 1), gridError=0.047960972269513284 * 1.0 > minError=0.03269386622730461\n",
      "[maelzel.scoring:quant.py:934:quantizeBeatBinary:DEBUG] Skipping (6, 1, 7, 1), totalError=0.07447328718595597 > minError=0.03269386622730461\n",
      "[maelzel.scoring:quant.py:917:quantizeBeatBinary:DEBUG] Skipping (7, 1, 7, 1), gridError=0.04385571547271259 * 1.0 > minError=0.03269386622730461\n",
      "[maelzel.scoring:quant.py:917:quantizeBeatBinary:DEBUG] Skipping (1, 1, 2, 1, 1), gridError=0.06710868298924214 * 1.0 > minError=0.03269386622730461\n",
      "[maelzel.scoring:quant.py:934:quantizeBeatBinary:DEBUG] Skipping (1, 1, 3, 1, 1), totalError=0.03663999029597155 > minError=0.03269386622730461\n",
      "[maelzel.scoring:quant.py:917:quantizeBeatBinary:DEBUG] Skipping (1, 1, 4, 1, 1), gridError=0.03854381687787997 * 1.0 > minError=0.03269386622730461\n",
      "[maelzel.scoring:quant.py:934:quantizeBeatBinary:DEBUG] Skipping (1, 1, 5, 1, 1), totalError=0.049465726743388456 > minError=0.03269386622730461\n"
     ]
    },
    {
     "name": "stdout",
     "output_type": "stream",
     "text": [
      "Beat: 1 - 2 (dur: 1)\n",
      "Best 6 divisions: (quantized in 131.7ms)\n"
     ]
    },
    {
     "data": {
      "text/html": [
       "<table>\n",
       "<thead>\n",
       "<tr><th style=\"text-align: right;\">  error</th><th>div      </th><th>snapped                                                        </th><th>slots    </th><th>info                                                                                                                                                                                       </th></tr>\n",
       "</thead>\n",
       "<tbody>\n",
       "<tr><td style=\"text-align: right;\"> 0.0327</td><td>(5, 5, 1)</td><td>[«4C 0:0.2 1/5♩», «4D 0.2:0.533 1/3♩», «rest 0.533:1 7/15♩»]   </td><td>[0, 3, 8]</td><td>gridError=0, rhythmComplexity=0.298 (numNotesAcrossSubdivs=2, numTies=0), divPenalty=0.0424 (0.004243, divPenalty=0.0283, cardinalityPenalty=0.1, numSubdivsPenalty=0, levelPenalty=0)     </td></tr>\n",
       "<tr><td style=\"text-align: right;\"> 0.0536</td><td>(5, 9)   </td><td>[«4C 0:0.2 1/5♩», «4D 0.2:0.556 16/45♩», «rest 0.556:1 4/9♩»]  </td><td>[0, 2, 6]</td><td>gridError=0.0485, rhythmComplexity=0.149 (numNotesAcrossSubdivs=1, numTies=0), divPenalty=0.0548 (0.005477, divPenalty=0.0447, cardinalityPenalty=0.1, numSubdivsPenalty=0, levelPenalty=0)</td></tr>\n",
       "<tr><td style=\"text-align: right;\"> 0.0674</td><td>(5, 1)   </td><td>[«4C 0:0.2 1/5♩», «4D 0.2:0.5 3/10♩», «rest 0.5:1 1/2♩»]       </td><td>[0, 2, 5]</td><td>gridError=0.0671, rhythmComplexity=0 (numNotesAcrossSubdivs=0, numTies=0), divPenalty=0.02 (0.002, divPenalty=0.02, cardinalityPenalty=0, numSubdivsPenalty=0, levelPenalty=0)             </td></tr>\n",
       "<tr><td style=\"text-align: right;\"> 0.0706</td><td>(15,)    </td><td>[«4C 0:0.2 1/5♩», «4D 0.2:0.533 1/3♩», «rest 0.533:1 7/15♩»]   </td><td>[0, 3, 8]</td><td>gridError=0, rhythmComplexity=0.298 (numNotesAcrossSubdivs=0, numTies=1), divPenalty=0.202 (0.02025, divPenalty=0.2, cardinalityPenalty=0.1, numSubdivsPenalty=0, levelPenalty=0)          </td></tr>\n",
       "<tr><td style=\"text-align: right;\"> 0.0754</td><td>(9,)     </td><td>[«4C 0:0.222 2/9♩», «4D 0.222:0.556 1/3♩», «rest 0.556:1 4/9♩»]</td><td>[0, 2, 5]</td><td>gridError=0.0743, rhythmComplexity=0 (numNotesAcrossSubdivs=0, numTies=0), divPenalty=0.04 (0.004, divPenalty=0.04, cardinalityPenalty=0, numSubdivsPenalty=0, levelPenalty=0)             </td></tr>\n",
       "<tr><td style=\"text-align: right;\"> 0.1030</td><td>(6,)     </td><td>[«4C 0:0.167 1/6♩», «4D 0.167:0.5 1/3♩», «rest 0.5:1 1/2♩»]    </td><td>[0, 1, 3]</td><td>gridError=0.103, rhythmComplexity=0 (numNotesAcrossSubdivs=0, numTies=0), divPenalty=0.02 (0.002, divPenalty=0.02, cardinalityPenalty=0, numSubdivsPenalty=0, levelPenalty=0)              </td></tr>\n",
       "</tbody>\n",
       "</table>"
      ],
      "text/plain": [
       "<IPython.core.display.HTML object>"
      ]
     },
     "metadata": {},
     "output_type": "display_data"
    },
    {
     "name": "stderr",
     "output_type": "stream",
     "text": [
      "[maelzel.scoring:quant.py:1605:_mergeSiblings:DEBUG] Nodes can merge: \n",
      "    Node(1/1, \n",
      "  «4E 0.6:0.7 1/10♩ 5/4»\n",
      "  «4F 0.7:0.8 1/10♩ 5/4»\n",
      ")\n",
      "    Node(1/1, \n",
      "  «4F# 0.8:0.9 1/10♩ 5/4»\n",
      "  «4G 0.9:1 1/10♩ 5/4»\n",
      ")\n",
      "[maelzel.scoring:quant.py:1608:_mergeSiblings:DEBUG] ---- Merged node:\n",
      "    Node(1/1, \n",
      "  «4E 0.6:0.7 1/10♩ 5/4»\n",
      "  «4F 0.7:0.8 1/10♩ 5/4»\n",
      "  «4F# 0.8:0.9 1/10♩ 5/4»\n",
      "  «4G 0.9:1 1/10♩ 5/4»\n",
      ")\n",
      "[maelzel.scoring:quant.py:1605:_mergeSiblings:DEBUG] Nodes can merge: \n",
      "    Node(5/4, \n",
      "  «4C 1:1.2 1/5♩ 3/2,5/4»\n",
      "  «4D~ 1.2:1.333 2/15♩ 3/2,5/4»\n",
      ")\n",
      "    Node(5/4, \n",
      "  «~4D 1.333:1.533 1/5♩ 3/2,5/4»\n",
      "  «rest 1.533:1.667 2/15♩ 3/2,5/4»\n",
      ")\n",
      "[maelzel.scoring:quant.py:1608:_mergeSiblings:DEBUG] ---- Merged node:\n",
      "    Node(5/4, \n",
      "  «4C 1:1.2 1/5♩ 3/2,5/4»\n",
      "  «4D~ 1.2:1.333 2/15♩ 3/2,5/4»\n",
      "  «~4D 1.333:1.533 1/5♩ 3/2,5/4»\n",
      "  «rest 1.533:1.667 2/15♩ 3/2,5/4»\n",
      ")\n",
      "[maelzel.scoring:quant.py:1605:_mergeSiblings:DEBUG] Nodes can merge: \n",
      "    Node(1/1, \n",
      "  «rest 2:3 1♩»\n",
      ")\n",
      "    Node(1/1, \n",
      "  «rest 3:4 1♩»\n",
      ")\n",
      "[maelzel.scoring:quant.py:1608:_mergeSiblings:DEBUG] ---- Merged node:\n",
      "    Node(1/1, \n",
      "  «rest 2:4 2♩»\n",
      ")\n",
      "[maelzel.scoring:node.py:647:_splitUnnecessaryNodes:DEBUG] Did not split node Node(1/1, \n",
      "  Node(5/4, \n",
      "    «4C# 0:0.6 3/5♩ 5/4»\n",
      "    Node(1/1, \n",
      "      «4E 0.6:0.7 1/10♩ 5/4»\n",
      "      «4F 0.7:0.8 1/10♩ 5/4»\n",
      "      «4F# 0.8:0.9 1/10♩ 5/4»\n",
      "      «4G 0.9:1 1/10♩ 5/4»\n",
      "    )\n",
      "  )\n",
      "  Node(3/2, \n",
      "    Node(5/4, \n",
      "      «4C 1:1.2 1/5♩ 3/2,5/4»\n",
      "      «4D~ 1.2:1.333 2/15♩ 3/2,5/4»\n",
      "      «~4D 1.333:1.533 1/5♩ 3/2,5/4»\n",
      "      «rest 1.533:1.667 2/15♩ 3/2,5/4»\n",
      "    )\n",
      "    «rest 1.667:2 1/3♩ 3/2»\n",
      "  )\n",
      "  Node(1/1, \n",
      "    «rest 2:4 2♩»\n",
      "  )\n",
      ") at 3\n",
      "[maelzel.scoring:renderlily.py:1116:write:DEBUG] Rendering lilypond '/tmp/tmpb_07k_9s.ly' to '/tmp/tmpb_07k_9s.png'\n",
      "[maelzel.scoring:renderlily.py:1129:write:DEBUG] Found crop file /tmp/tmpb_07k_9s.cropped.png, using that as output\n"
     ]
    },
    {
     "data": {
      "text/html": [
       "<b>LilypondRenderer</b> (1 part)<br>\n",
       "        <img style=\"display:inline; padding:10px;\n",
       "margin-top:14px;\n",
       "width:731px\"\n",
       "             src=\"data:image/png;base64,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\"/>"
      ],
      "text/plain": [
       "<maelzel.scoring.renderlily.LilypondRenderer at 0x7fb74dd0fcd0>"
      ]
     },
     "execution_count": 6,
     "metadata": {},
     "output_type": "execute_result"
    }
   ],
   "source": [
    "from maelzel import scoring\n",
    "from maelzel.scorestruct import ScoreStruct\n",
    "from maelzel.scoring import quantutils\n",
    "from maelzel.common import F\n",
    "\n",
    "notes = [\n",
    "    (61, F(1, 2)+F(1,10)),\n",
    "    (64, F(1, 10)),\n",
    "    (65, F(1, 10)),\n",
    "    (66, F(1, 10)),\n",
    "    (67, F(1, 10)),\n",
    "    \n",
    "    (60, F(1, 5)),\n",
    "    (62, F(1, 3)),\n",
    "    \n",
    "]\n",
    "struct = ScoreStruct(timesig='4/4', tempo=70)\n",
    "\n",
    "notations = [scoring.makeNote(p, d) for p, d in notes]\n",
    "part = scoring.UnquantizedPart(notations)\n",
    "quantprofile = scoring.quant.QuantizationProfile.fromPreset('highest', nestedTuplets=True)\n",
    "quantprofile.divisionErrorWeight = 0.1\n",
    "quantprofile.rhythmComplexityWeight = 0.01\n",
    "quantprofile.debug = True\n",
    "qpart = scoring.quant.quantizePart(part, struct=struct, quantprofile=quantprofile)\n",
    "options = scoring.render.RenderOptions()\n",
    "score = scoring.quant.QuantizedScore([qpart])\n",
    "r = scoring.render.renderQuantizedScore(score, options)\n",
    "r"
   ]
  },
  {
   "cell_type": "code",
   "execution_count": 7,
   "id": "c5d90c78-ca2d-49b1-85f6-25896c4e78cc",
   "metadata": {},
   "outputs": [
    {
     "name": "stderr",
     "output_type": "stream",
     "text": [
      "[maelzel.scoring:quant.py:1334:quantizeMeasure:DEBUG] Measure 4/4 is not filled (events=[«4C# 0:0.667 2/3♩», «4E 0.667:1.333 2/3♩», «4F 1.333:1.667 1/3♩», «4F+ 1.667:2 1/3♩»]). Filling gaps with silences\n"
     ]
    },
    {
     "name": "stdout",
     "output_type": "stream",
     "text": [
      "Beat: 0 - 1 (dur: 1)\n",
      "Best 2 divisions: (quantized in 291.3µs)\n"
     ]
    },
    {
     "data": {
      "text/html": [
       "<table>\n",
       "<thead>\n",
       "<tr><th style=\"text-align: right;\">  error</th><th>div  </th><th>snapped                                 </th><th>slots  </th><th>info                                                                                                                                                                         </th></tr>\n",
       "</thead>\n",
       "<tbody>\n",
       "<tr><td style=\"text-align: right;\"> 0.0000</td><td>(3,) </td><td>[«4C# 0:0.667 2/3♩», «4E~ 0.667:1 1/3♩»]</td><td>[0, 2] </td><td>gridError=0, rhythmComplexity=0 (numNotesAcrossSubdivs=0, numTies=0), divPenalty=0 (0, divPenalty=0, cardinalityPenalty=0, numSubdivsPenalty=0, levelPenalty=0)              </td></tr>\n",
       "<tr><td style=\"text-align: right;\"> 0.1285</td><td>(5,) </td><td>[«4C# 0:0.6 3/5♩», «4E~ 0.6:1 2/5♩»]    </td><td>[0, 3] </td><td>gridError=0.128, rhythmComplexity=0 (numNotesAcrossSubdivs=0, numTies=0), divPenalty=0.02 (0.001, divPenalty=0.02, cardinalityPenalty=0, numSubdivsPenalty=0, levelPenalty=0)</td></tr>\n",
       "</tbody>\n",
       "</table>"
      ],
      "text/plain": [
       "<IPython.core.display.HTML object>"
      ]
     },
     "metadata": {},
     "output_type": "display_data"
    },
    {
     "name": "stdout",
     "output_type": "stream",
     "text": [
      "Beat: 1 - 2 (dur: 1)\n",
      "Best 2 divisions: (quantized in 180.2µs)\n"
     ]
    },
    {
     "data": {
      "text/html": [
       "<table>\n",
       "<thead>\n",
       "<tr><th style=\"text-align: right;\">  error</th><th>div  </th><th>snapped                                                        </th><th>slots    </th><th>info                                                                                                                                                                         </th></tr>\n",
       "</thead>\n",
       "<tbody>\n",
       "<tr><td style=\"text-align: right;\"> 0.0000</td><td>(3,) </td><td>[«~4E 0:0.333 1/3♩», «4F 0.333:0.667 1/3♩», «4F+ 0.667:1 1/3♩»]</td><td>[0, 1, 2]</td><td>gridError=0, rhythmComplexity=0 (numNotesAcrossSubdivs=0, numTies=0), divPenalty=0 (0, divPenalty=0, cardinalityPenalty=0, numSubdivsPenalty=0, levelPenalty=0)              </td></tr>\n",
       "<tr><td style=\"text-align: right;\"> 0.2316</td><td>(5,) </td><td>[«~4E 0:0.4 2/5♩», «4F 0.4:0.6 1/5♩», «4F+ 0.6:1 2/5♩»]        </td><td>[0, 2, 3]</td><td>gridError=0.232, rhythmComplexity=0 (numNotesAcrossSubdivs=0, numTies=0), divPenalty=0.02 (0.001, divPenalty=0.02, cardinalityPenalty=0, numSubdivsPenalty=0, levelPenalty=0)</td></tr>\n",
       "</tbody>\n",
       "</table>"
      ],
      "text/plain": [
       "<IPython.core.display.HTML object>"
      ]
     },
     "metadata": {},
     "output_type": "display_data"
    },
    {
     "name": "stderr",
     "output_type": "stream",
     "text": [
      "[maelzel.scoring:quant.py:1605:_mergeSiblings:DEBUG] Nodes can merge: \n",
      "    Node(3/2, \n",
      "  «4C# 0:0.667 2/3♩ 3/2»\n",
      "  «4E~ 0.667:1 1/3♩ 3/2»\n",
      ")\n",
      "    Node(3/2, \n",
      "  «~4E 1:1.333 1/3♩ 3/2»\n",
      "  «4F 1.333:1.667 1/3♩ 3/2»\n",
      "  «4F+ 1.667:2 1/3♩ 3/2»\n",
      ")\n",
      "[maelzel.scoring:quant.py:1608:_mergeSiblings:DEBUG] ---- Merged node:\n",
      "    Node(3/2, \n",
      "  «4C# 0:0.667 2/3♩ 3/2»\n",
      "  «4E 0.667:1.333 2/3♩ 3/2»\n",
      "  «4F 1.333:1.667 1/3♩ 3/2»\n",
      "  «4F+ 1.667:2 1/3♩ 3/2»\n",
      ")\n",
      "[maelzel.scoring:quant.py:1605:_mergeSiblings:DEBUG] Nodes can merge: \n",
      "    Node(1/1, \n",
      "  «rest 2:3 1♩»\n",
      ")\n",
      "    Node(1/1, \n",
      "  «rest 3:4 1♩»\n",
      ")\n",
      "[maelzel.scoring:quant.py:1608:_mergeSiblings:DEBUG] ---- Merged node:\n",
      "    Node(1/1, \n",
      "  «rest 2:4 2♩»\n",
      ")\n",
      "[maelzel.scoring:node.py:647:_splitUnnecessaryNodes:DEBUG] Did not split node Node(1/1, \n",
      "  Node(3/2, \n",
      "    «4C# 0:0.667 2/3♩ 3/2»\n",
      "    «4E 0.667:1.333 2/3♩ 3/2»\n",
      "    «4F 1.333:1.667 1/3♩ 3/2»\n",
      "    «4F+ 1.667:2 1/3♩ 3/2»\n",
      "  )\n",
      "  Node(1/1, \n",
      "    «rest 2:4 2♩»\n",
      "  )\n",
      ") at 1\n",
      "[maelzel.scoring:node.py:647:_splitUnnecessaryNodes:DEBUG] Did not split node Node(1/1, \n",
      "  Node(3/2, \n",
      "    «4C# 0:0.667 2/3♩ 3/2»\n",
      "    «4E 0.667:1.333 2/3♩ 3/2»\n",
      "    «4F 1.333:1.667 1/3♩ 3/2»\n",
      "    «4F+ 1.667:2 1/3♩ 3/2»\n",
      "  )\n",
      "  Node(1/1, \n",
      "    «rest 2:4 2♩»\n",
      "  )\n",
      ") at 3\n",
      "[maelzel.scoring:renderlily.py:1116:write:DEBUG] Rendering lilypond '/tmp/tmpcz5vmkjg.ly' to '/tmp/tmpcz5vmkjg.png'\n",
      "[maelzel.scoring:renderlily.py:1129:write:DEBUG] Found crop file /tmp/tmpcz5vmkjg.cropped.png, using that as output\n"
     ]
    },
    {
     "data": {
      "text/html": [
       "<b>LilypondRenderer</b> (1 part)<br>\n",
       "        <img style=\"display:inline; padding:10px;\n",
       "margin-top:14px;\n",
       "width:462px\"\n",
       "             src=\"data:image/png;base64,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\"/>"
      ],
      "text/plain": [
       "<maelzel.scoring.renderlily.LilypondRenderer at 0x7fb74d8e61d0>"
      ]
     },
     "execution_count": 7,
     "metadata": {},
     "output_type": "execute_result"
    }
   ],
   "source": [
    "from maelzel import scoring\n",
    "from maelzel.common import F\n",
    "from maelzel.scorestruct import ScoreStruct\n",
    "\n",
    "notes = [\n",
    "    (61, F(2, 3)),\n",
    "    (64, F(2, 3)),\n",
    "    (65, F(1, 3)),\n",
    "    (65.5, F(1, 3)),\n",
    "]\n",
    "\n",
    "notations = [scoring.makeNote(p, d) for p, d in notes]\n",
    "part = scoring.UnquantizedPart(notations)\n",
    "\n",
    "struct = ScoreStruct(timesig='4/4', tempo=60)\n",
    "\n",
    "quantprofile = scoring.quant.QuantizationProfile.fromPreset('high', divisionErrorWeight=0.05)\n",
    "quantprofile.debug= True\n",
    "\n",
    "qpart = scoring.quant.quantizePart(part, struct=struct, quantprofile=quantprofile)\n",
    "options = scoring.render.RenderOptions()\n",
    "score = scoring.quant.QuantizedScore([qpart])\n",
    "r = scoring.render.renderQuantizedScore(score, options)\n",
    "r"
   ]
  },
  {
   "cell_type": "code",
   "execution_count": 8,
   "id": "767db0c6-5ecd-4155-8f08-73046eb7ec26",
   "metadata": {},
   "outputs": [
    {
     "name": "stderr",
     "output_type": "stream",
     "text": [
      "[maelzel.scoring:quant.py:1605:_mergeSiblings:DEBUG] Nodes can merge: \n",
      "    Node(3/2, \n",
      "  «4C# 0:0.667 2/3♩ 3/2»\n",
      "  «4E~ 0.667:1 1/3♩ 3/2»\n",
      ")\n",
      "    Node(3/2, \n",
      "  «~4E 1:1.333 1/3♩ 3/2»\n",
      "  «4F 1.333:1.667 1/3♩ 3/2»\n",
      "  «4F+ 1.667:2 1/3♩ 3/2»\n",
      ")\n",
      "[maelzel.scoring:quant.py:1608:_mergeSiblings:DEBUG] ---- Merged node:\n",
      "    Node(3/2, \n",
      "  «4C# 0:0.667 2/3♩ 3/2»\n",
      "  «4E 0.667:1.333 2/3♩ 3/2»\n",
      "  «4F 1.333:1.667 1/3♩ 3/2»\n",
      "  «4F+ 1.667:2 1/3♩ 3/2»\n",
      ")\n",
      "[maelzel.scoring:quant.py:1605:_mergeSiblings:DEBUG] Nodes can merge: \n",
      "    Node(1/1, \n",
      "  «rest 2:3 1♩»\n",
      ")\n",
      "    Node(1/1, \n",
      "  «rest 3:4 1♩»\n",
      ")\n",
      "[maelzel.scoring:quant.py:1608:_mergeSiblings:DEBUG] ---- Merged node:\n",
      "    Node(1/1, \n",
      "  «rest 2:4 2♩»\n",
      ")\n",
      "[maelzel.scoring:node.py:647:_splitUnnecessaryNodes:DEBUG] Did not split node Node(1/1, \n",
      "  Node(3/2, \n",
      "    «4C# 0:0.667 2/3♩ 3/2»\n",
      "    «4E 0.667:1.333 2/3♩ 3/2»\n",
      "    «4F 1.333:1.667 1/3♩ 3/2»\n",
      "    «4F+ 1.667:2 1/3♩ 3/2»\n",
      "  )\n",
      "  Node(1/1, \n",
      "    «rest 2:4 2♩»\n",
      "  )\n",
      ") at 1\n",
      "[maelzel.scoring:node.py:647:_splitUnnecessaryNodes:DEBUG] Did not split node Node(1/1, \n",
      "  Node(3/2, \n",
      "    «4C# 0:0.667 2/3♩ 3/2»\n",
      "    «4E 0.667:1.333 2/3♩ 3/2»\n",
      "    «4F 1.333:1.667 1/3♩ 3/2»\n",
      "    «4F+ 1.667:2 1/3♩ 3/2»\n",
      "  )\n",
      "  Node(1/1, \n",
      "    «rest 2:4 2♩»\n",
      "  )\n",
      ") at 3\n",
      "[maelzel.scoring:renderlily.py:1116:write:DEBUG] Rendering lilypond '/tmp/tmpw7d49igu.ly' to '/tmp/tmpw7d49igu.png'\n",
      "[maelzel.scoring:renderlily.py:1129:write:DEBUG] Found crop file /tmp/tmpw7d49igu.cropped.png, using that as output\n"
     ]
    },
    {
     "data": {
      "text/html": [
       "<code style=\"white-space: pre-line; font-size:0.9em;\">Score(1 voices)</code><br>\n",
       "        <img style=\"display:inline; padding:10px;\n",
       "margin-top:14px;\n",
       "width:248px\"\n",
       "             src=\"data:image/png;base64,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\"/>"
      ],
      "text/plain": [
       "Score(1 voices)"
      ]
     },
     "execution_count": 8,
     "metadata": {},
     "output_type": "execute_result"
    }
   ],
   "source": [
    "sco = r.quantizedScore.toCoreScore()\n",
    "sco"
   ]
  },
  {
   "cell_type": "markdown",
   "id": "29139f19-450a-4c33-b09e-9d11a579e547",
   "metadata": {},
   "source": [
    "# TODO"
   ]
  },
  {
   "cell_type": "code",
   "execution_count": 9,
   "id": "a85497e1-d11a-4b09-9d18-452cd920515f",
   "metadata": {},
   "outputs": [],
   "source": [
    "import logging\n",
    "logging.basicConfig(level=\"DEBUG\")\n",
    "logging.getLogger(\"maelzel.scoring\").setLevel(logging.DEBUG)"
   ]
  },
  {
   "cell_type": "code",
   "execution_count": 10,
   "id": "bc7cfedd-878d-4048-b138-26a61ca09a43",
   "metadata": {},
   "outputs": [
    {
     "name": "stderr",
     "output_type": "stream",
     "text": [
      "[maelzel.scoring:quant.py:1334:quantizeMeasure:DEBUG] Measure 4/4 is not filled (events=[«4C 0:0.667 2/3♩», «4D# 0.667:0.8 2/15♩», «4E 0.8:0.933 2/15♩», «4F 0.933:1.133 1/5♩», «4F# 1.133:1.267 2/15♩», «4C# 1.267:1.933 2/3♩»]). Filling gaps with silences\n",
      "[maelzel.scoring:quant.py:1611:_mergeSiblings:DEBUG] Nodes cannot merge: \n",
      "Node(3/2, \n",
      "  «4C 0:0.667 2/3♩ 3/2»\n",
      "  Node(5/4, \n",
      "    «4D# 0.667:0.8 2/15♩ 3/2,5/4»\n",
      "    «4E 0.8:0.933 2/15♩ 3/2,5/4»\n",
      "    «4F~ 0.933:1 1/15♩ 3/2,5/4»\n",
      "  )\n",
      ")\n",
      "Node(3/2, \n",
      "  Node(5/4, \n",
      "    «~4F 1:1.133 2/15♩ 3/2,5/4»\n",
      "    «4F# 1.133:1.267 2/15♩ 3/2,5/4»\n",
      "    «4C#~ 1.267:1.333 1/15♩ 3/2,5/4»\n",
      "  )\n",
      "  «~4C#~ 1.333:1.667 1/3♩ 3/2»\n",
      "  Node(5/4, \n",
      "    «~4C# 1.667:1.933 4/15♩ 3/2,5/4»\n",
      "    «rest 1.933:2 1/15♩ 3/2,5/4»\n",
      "  )\n",
      ")\n",
      "----> complex nested tuplets cannot merge: (3, 5)\n",
      "[maelzel.scoring:quant.py:1605:_mergeSiblings:DEBUG] Nodes can merge: \n",
      "    Node(1/1, \n",
      "  «rest 2:3 1♩»\n",
      ")\n",
      "    Node(1/1, \n",
      "  «rest 3:4 1♩»\n",
      ")\n",
      "[maelzel.scoring:quant.py:1608:_mergeSiblings:DEBUG] ---- Merged node:\n",
      "    Node(1/1, \n",
      "  «rest 2:4 2♩»\n",
      ")\n",
      "[maelzel.scoring:node.py:647:_splitUnnecessaryNodes:DEBUG] Did not split node Node(1/1, \n",
      "  Node(3/2, \n",
      "    «4C 0:0.667 2/3♩ 3/2»\n",
      "    Node(5/4, \n",
      "      «4D# 0.667:0.8 2/15♩ 3/2,5/4»\n",
      "      «4E 0.8:0.933 2/15♩ 3/2,5/4»\n",
      "      «4F~ 0.933:1 1/15♩ 3/2,5/4»\n",
      "    )\n",
      "  )\n",
      "  Node(3/2, \n",
      "    Node(5/4, \n",
      "      «~4F 1:1.133 2/15♩ 3/2,5/4»\n",
      "      «4F# 1.133:1.267 2/15♩ 3/2,5/4»\n",
      "      «4C#~ 1.267:1.333 1/15♩ 3/2,5/4»\n",
      "    )\n",
      "    «~4C#~ 1.333:1.667 1/3♩ 3/2»\n",
      "    Node(5/4, \n",
      "      «~4C# 1.667:1.933 4/15♩ 3/2,5/4»\n",
      "      «rest 1.933:2 1/15♩ 3/2,5/4»\n",
      "    )\n",
      "  )\n",
      "  Node(1/1, \n",
      "    «rest 2:4 2♩»\n",
      "  )\n",
      ") at 3\n",
      "[maelzel.scoring:renderlily.py:1116:write:DEBUG] Rendering lilypond '/tmp/tmpsac7ytxt.ly' to '/tmp/tmpsac7ytxt.png'\n",
      "[maelzel.scoring:renderlily.py:1129:write:DEBUG] Found crop file /tmp/tmpsac7ytxt.cropped.png, using that as output\n"
     ]
    },
    {
     "data": {
      "text/html": [
       "<b>LilypondRenderer</b> (1 part)<br>\n",
       "        <img style=\"display:inline; padding:10px;\n",
       "margin-top:14px;\n",
       "width:782px\"\n",
       "             src=\"data:image/png;base64,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\"/>"
      ],
      "text/plain": [
       "<maelzel.scoring.renderlily.LilypondRenderer at 0x7fb74dcba990>"
      ]
     },
     "execution_count": 10,
     "metadata": {},
     "output_type": "execute_result"
    }
   ],
   "source": [
    "from maelzel import scoring\n",
    "from maelzel.scorestruct import ScoreStruct\n",
    "from maelzel.common import F\n",
    "\n",
    "notes = [\n",
    "    (60, F(2, 3)),\n",
    "    (63, F(2, 3)*F(1, 5)),\n",
    "    (64, F(2, 3)*F(1, 5)),\n",
    "    (65, F(2, 3)*F(3, 10)),\n",
    "    (66, F(2, 3)*F(1, 5)),\n",
    "    # (67, F(2, 3)*F(1, 5)),  \n",
    "    (61, F(2, 3)),\n",
    "    \n",
    "]\n",
    "\n",
    "notations = [scoring.makeNote(p, d) for p, d in notes]\n",
    "struct = ScoreStruct(timesig='4/4', tempo=70)\n",
    "\n",
    "part = scoring.UnquantizedPart(notations)\n",
    "quantprofile = scoring.quant.QuantizationProfile.fromPreset('highest', debug=False, debugMaxDivisions=20, maxDivPenalty=0.1)\n",
    "quantprofile.debug = False\n",
    "\n",
    "# quantprofile.divisionErrorWeight = 0.01\n",
    "qpart = scoring.quant.quantizePart(part, struct=struct, quantprofile=quantprofile)\n",
    "options = scoring.render.RenderOptions()\n",
    "score = scoring.quant.QuantizedScore([qpart])\n",
    "r = scoring.render.renderQuantizedScore(score, options)\n",
    "# qpart.dump()\n",
    "# r.write('~/tmp/quant.ly')\n",
    "r"
   ]
  },
  {
   "cell_type": "code",
   "execution_count": 11,
   "id": "578fc4e1-97ec-4afd-8a04-7770244589f7",
   "metadata": {},
   "outputs": [
    {
     "name": "stderr",
     "output_type": "stream",
     "text": [
      "[maelzel.scoring:quant.py:1334:quantizeMeasure:DEBUG] Measure 4/4 is not filled (events=[«4C 0:0.667 2/3♩», «4D# 0.667:0.733 1/15♩», «4E 0.733:0.8 1/15♩», «4F 0.8:1 1/5♩», «4F# 1:1.067 1/15♩», «4D# 1.067:1.133 1/15♩», «4E 1.133:1.2 1/15♩», «4F 1.2:1.333 2/15♩», «4C# 1.333:2 2/3♩»]). Filling gaps with silences\n",
      "[maelzel.scoring:quant.py:917:quantizeBeatBinary:DEBUG] Skipping (7,), gridError=0.20643820375256142 * 1.0 > minError=0.1898072551567961\n",
      "[maelzel.scoring:quant.py:917:quantizeBeatBinary:DEBUG] Skipping (8,), gridError=0.19539185161600903 * 1.0 > minError=0.1898072551567961\n",
      "[maelzel.scoring:quant.py:917:quantizeBeatBinary:DEBUG] Skipping (11,), gridError=0.11871495348741289 * 1.0 > minError=0.11052139089580214\n",
      "[maelzel.scoring:quant.py:917:quantizeBeatBinary:DEBUG] Skipping (1, 3), gridError=0.18980514774409332 * 1.0 > minError=0.009327379053088817\n",
      "[maelzel.scoring:quant.py:917:quantizeBeatBinary:DEBUG] Skipping (1, 5), gridError=0.1160126842335892 * 1.0 > minError=0.009327379053088817\n",
      "[maelzel.scoring:quant.py:917:quantizeBeatBinary:DEBUG] Skipping (1, 4), gridError=0.19539185161600903 * 1.0 > minError=0.009327379053088817\n",
      "[maelzel.scoring:quant.py:917:quantizeBeatBinary:DEBUG] Skipping (1, 6), gridError=0.10280705816946219 * 1.0 > minError=0.009327379053088817\n",
      "[maelzel.scoring:quant.py:917:quantizeBeatBinary:DEBUG] Skipping (1, 7), gridError=0.10669943099497245 * 1.0 > minError=0.009327379053088817\n",
      "[maelzel.scoring:quant.py:917:quantizeBeatBinary:DEBUG] Skipping (1, 8), gridError=0.09588894620083331 * 1.0 > minError=0.009327379053088817\n",
      "[maelzel.scoring:quant.py:917:quantizeBeatBinary:DEBUG] Skipping (1, 9), gridError=0.07432756830977433 * 1.0 > minError=0.009327379053088817\n",
      "[maelzel.scoring:quant.py:917:quantizeBeatBinary:DEBUG] Skipping (1, 11), gridError=0.0951595833817759 * 1.0 > minError=0.009327379053088817\n",
      "[maelzel.scoring:quant.py:917:quantizeBeatBinary:DEBUG] Skipping (1, 1, 2), gridError=0.18980514774409332 * 1.0 > minError=0.009327379053088817\n",
      "[maelzel.scoring:quant.py:917:quantizeBeatBinary:DEBUG] Skipping (1, 1, 3), gridError=0.11050691311199809 * 1.0 > minError=0.0016733200530681513\n",
      "[maelzel.scoring:quant.py:917:quantizeBeatBinary:DEBUG] Skipping (1, 1, 4), gridError=0.10280705816946219 * 1.0 > minError=0.0016733200530681513\n",
      "[maelzel.scoring:quant.py:917:quantizeBeatBinary:DEBUG] Skipping (1, 1, 6), gridError=0.07432756830977433 * 1.0 > minError=0.0016733200530681513\n",
      "[maelzel.scoring:quant.py:917:quantizeBeatBinary:DEBUG] Skipping (1, 1, 7), gridError=0.07359606029867047 * 1.0 > minError=0.0016733200530681513\n",
      "[maelzel.scoring:quant.py:917:quantizeBeatBinary:DEBUG] Skipping (1, 1, 8), gridError=0.06613951546662904 * 1.0 > minError=0.0016733200530681513\n",
      "[maelzel.scoring:quant.py:908:quantizeBeatBinary:DEBUG] Skipping (1, 1, 9), divPenalty=0.04 * 0.044721359549995794 > minError=0.0016733200530681513\n",
      "[maelzel.scoring:quant.py:917:quantizeBeatBinary:DEBUG] Skipping (1, 1, 2, 4), gridError=0.14304972665933868 * 1.0 > minError=0.0016733200530681513\n",
      "[maelzel.scoring:quant.py:917:quantizeBeatBinary:DEBUG] Skipping (1, 1, 3, 4), gridError=0.06489726532633557 * 1.0 > minError=0.0016733200530681513\n",
      "[maelzel.scoring:quant.py:917:quantizeBeatBinary:DEBUG] Skipping (1, 1, 2, 1), gridError=0.19539185161600903 * 1.0 > minError=0.0016733200530681513\n",
      "[maelzel.scoring:quant.py:917:quantizeBeatBinary:DEBUG] Skipping (1, 1, 2, 3), gridError=0.1754984507634724 * 1.0 > minError=0.0016733200530681513\n",
      "[maelzel.scoring:quant.py:917:quantizeBeatBinary:DEBUG] Skipping (1, 1, 4, 3), gridError=0.1304169796425975 * 1.0 > minError=0.0016733200530681513\n",
      "[maelzel.scoring:quant.py:917:quantizeBeatBinary:DEBUG] Skipping (1, 1, 4, 1), gridError=0.14994157240613115 * 1.0 > minError=0.0016733200530681513\n",
      "[maelzel.scoring:quant.py:917:quantizeBeatBinary:DEBUG] Skipping (1, 1, 3, 1), gridError=0.12466178021923813 * 1.0 > minError=0.0016733200530681513\n",
      "[maelzel.scoring:quant.py:917:quantizeBeatBinary:DEBUG] Skipping (1, 1, 2, 5), gridError=0.13026940730569272 * 1.0 > minError=0.0016733200530681513\n",
      "[maelzel.scoring:quant.py:908:quantizeBeatBinary:DEBUG] Skipping (1, 1, 5, 3), divPenalty=0.04358898943540674 * 0.044721359549995794 > minError=0.0016733200530681513\n",
      "[maelzel.scoring:quant.py:917:quantizeBeatBinary:DEBUG] Skipping (1, 1, 5, 1), gridError=0.1539053358750035 * 1.0 > minError=0.0016733200530681513\n",
      "[maelzel.scoring:quant.py:908:quantizeBeatBinary:DEBUG] Skipping (1, 1, 3, 5), divPenalty=0.04358898943540674 * 0.044721359549995794 > minError=0.0016733200530681513\n",
      "[maelzel.scoring:quant.py:917:quantizeBeatBinary:DEBUG] Skipping (1, 1, 3, 3), gridError=0.10280705816946219 * 1.0 > minError=0.0016733200530681513\n",
      "[maelzel.scoring:quant.py:917:quantizeBeatBinary:DEBUG] Skipping (1, 1, 4, 4), gridError=0.09588894620083331 * 1.0 > minError=0.0016733200530681513\n",
      "[maelzel.scoring:quant.py:917:quantizeBeatBinary:DEBUG] Skipping (1, 1, 4, 5), gridError=0.07898771602680103 * 1.0 > minError=0.0016733200530681513\n",
      "[maelzel.scoring:quant.py:917:quantizeBeatBinary:DEBUG] Skipping (1, 1, 5, 4), gridError=0.09777870148587063 * 1.0 > minError=0.0016733200530681513\n",
      "[maelzel.scoring:quant.py:917:quantizeBeatBinary:DEBUG] Skipping (1, 1, 4, 6), gridError=0.09499396413511585 * 1.0 > minError=0.0016733200530681513\n",
      "[maelzel.scoring:quant.py:917:quantizeBeatBinary:DEBUG] Skipping (1, 1, 3, 6), gridError=0.06613951546662904 * 1.0 > minError=0.0016733200530681513\n",
      "[maelzel.scoring:quant.py:917:quantizeBeatBinary:DEBUG] Skipping (1, 1, 2, 6), gridError=0.14495593273553908 * 1.0 > minError=0.0016733200530681513\n",
      "[maelzel.scoring:quant.py:908:quantizeBeatBinary:DEBUG] Skipping (1, 1, 5, 5), divPenalty=0.0382842712474619 * 0.044721359549995794 > minError=0.0016733200530681513\n",
      "[maelzel.scoring:quant.py:908:quantizeBeatBinary:DEBUG] Skipping (1, 1, 3, 7), divPenalty=0.04358898943540674 * 0.044721359549995794 > minError=0.0016733200530681513\n",
      "[maelzel.scoring:quant.py:917:quantizeBeatBinary:DEBUG] Skipping (1, 1, 2, 7), gridError=0.1552206297886943 * 1.0 > minError=0.0016733200530681513\n",
      "[maelzel.scoring:quant.py:917:quantizeBeatBinary:DEBUG] Skipping (1, 1, 7, 4), gridError=0.08172031982503192 * 1.0 > minError=0.0016733200530681513\n",
      "[maelzel.scoring:quant.py:917:quantizeBeatBinary:DEBUG] Skipping (1, 1, 4, 7), gridError=0.1061188373792445 * 1.0 > minError=0.0016733200530681513\n",
      "[maelzel.scoring:quant.py:908:quantizeBeatBinary:DEBUG] Skipping (1, 1, 7, 3), divPenalty=0.04358898943540674 * 0.044721359549995794 > minError=0.0016733200530681513\n",
      "[maelzel.scoring:quant.py:917:quantizeBeatBinary:DEBUG] Skipping (1, 1, 7, 1), gridError=0.13755463581271182 * 1.0 > minError=0.0016733200530681513\n",
      "[maelzel.scoring:quant.py:908:quantizeBeatBinary:DEBUG] Skipping (1, 1, 5, 6), divPenalty=0.049655668608420106 * 0.044721359549995794 > minError=0.0016733200530681513\n",
      "[maelzel.scoring:quant.py:908:quantizeBeatBinary:DEBUG] Skipping (1, 1, 5, 7), divPenalty=0.049655668608420106 * 0.044721359549995794 > minError=0.0016733200530681513\n",
      "[maelzel.scoring:quant.py:908:quantizeBeatBinary:DEBUG] Skipping (1, 1, 7, 5), divPenalty=0.049655668608420106 * 0.044721359549995794 > minError=0.0016733200530681513\n",
      "[maelzel.scoring:quant.py:908:quantizeBeatBinary:DEBUG] Skipping (1, 1, 7, 6), divPenalty=0.049655668608420106 * 0.044721359549995794 > minError=0.0016733200530681513\n",
      "[maelzel.scoring:quant.py:908:quantizeBeatBinary:DEBUG] Skipping (1, 1, 7, 7), divPenalty=0.0382842712474619 * 0.044721359549995794 > minError=0.0016733200530681513\n",
      "[maelzel.scoring:quant.py:917:quantizeBeatBinary:DEBUG] Skipping (1, 1, 1, 2, 1), gridError=0.1160126842335892 * 1.0 > minError=0.0016733200530681513\n",
      "[maelzel.scoring:quant.py:908:quantizeBeatBinary:DEBUG] Skipping (1, 1, 1, 3, 1), divPenalty=0.06734983296193095 * 0.044721359549995794 > minError=0.0016733200530681513\n",
      "[maelzel.scoring:quant.py:917:quantizeBeatBinary:DEBUG] Skipping (1, 1, 1, 4, 1), gridError=0.08325532074018731 * 1.0 > minError=0.0016733200530681513\n",
      "[maelzel.scoring:quant.py:908:quantizeBeatBinary:DEBUG] Skipping (1, 1, 1, 5, 1), divPenalty=0.07200000000000001 * 0.044721359549995794 > minError=0.0016733200530681513\n"
     ]
    },
    {
     "name": "stdout",
     "output_type": "stream",
     "text": [
      "Beat: 0 - 1 (dur: 1)\n",
      "Best 4 divisions: (quantized in 57.7ms)\n"
     ]
    },
    {
     "data": {
      "text/html": [
       "<table>\n",
       "<thead>\n",
       "<tr><th style=\"text-align: right;\">  error</th><th>div      </th><th>snapped                                                                                                                                                     </th><th>slots          </th><th>info                                                                                                                                                                              </th></tr>\n",
       "</thead>\n",
       "<tbody>\n",
       "<tr><td style=\"text-align: right;\"> 0.0017</td><td>(1, 1, 5)</td><td>[«4C 0:0.667 2/3♩», «4D# 0.667:0.733 1/15♩», «4E 0.733:0.8 1/15♩», «4F 0.8:1 1/5♩»]                                                                         </td><td>[0, 2, 3, 4]   </td><td>gridError=0, rhythmComplexity=0 (numNotesAcrossSubdivs=0, numTies=0), divPenalty=0.0374 (7.483e-05, divPenalty=0.02, cardinalityPenalty=0.1, numSubdivsPenalty=0, levelPenalty=0) </td></tr>\n",
       "<tr><td style=\"text-align: right;\"> 0.0093</td><td>(15,)    </td><td>[«4C 0:0.667 2/3♩», «4D# 0.667:0.733 1/15♩», «4E 0.733:0.8 1/15♩», «4F 0.8:1 1/5♩»]                                                                         </td><td>[0, 10, 11, 12]</td><td>gridError=0, rhythmComplexity=0.224 (numNotesAcrossSubdivs=0, numTies=1), divPenalty=0.202 (0.000405, divPenalty=0.2, cardinalityPenalty=0.1, numSubdivsPenalty=0, levelPenalty=0)</td></tr>\n",
       "<tr><td style=\"text-align: right;\"> 0.1105</td><td>(9,)     </td><td>[«4C 0:0.667 2/3♩», «4D# 0.667:0.778 1/9♩», «4E 0.778:grace properties={&#x27;.snappedGracenote&#x27;: True, &#x27;originalDuration&#x27;: Fraction(1, 15)}», «4F 0.778:1 2/9♩»]</td><td>[0, 6, 7, 7]   </td><td>gridError=0.111, rhythmComplexity=0 (numNotesAcrossSubdivs=0, numTies=0), divPenalty=0.04 (8e-05, divPenalty=0.04, cardinalityPenalty=0, numSubdivsPenalty=0, levelPenalty=0)     </td></tr>\n",
       "<tr><td style=\"text-align: right;\"> 0.1898</td><td>(6,)     </td><td>[«4C 0:0.667 2/3♩», «4D# 0.667:grace properties={&#x27;.snappedGracenote&#x27;: True, &#x27;originalDuration&#x27;: Fraction(1, 15)}», «4E 0.667:0.833 1/6♩», «4F 0.833:1 1/6♩»]</td><td>[0, 4, 4, 5]   </td><td>gridError=0.19, rhythmComplexity=0 (numNotesAcrossSubdivs=0, numTies=0), divPenalty=0.02 (4e-05, divPenalty=0.02, cardinalityPenalty=0, numSubdivsPenalty=0, levelPenalty=0)      </td></tr>\n",
       "</tbody>\n",
       "</table>"
      ],
      "text/plain": [
       "<IPython.core.display.HTML object>"
      ]
     },
     "metadata": {},
     "output_type": "display_data"
    },
    {
     "name": "stderr",
     "output_type": "stream",
     "text": [
      "[maelzel.scoring:quant.py:917:quantizeBeatBinary:DEBUG] Skipping (7,), gridError=0.2742267376400073 * 1.0 > minError=0.21705060887870725\n",
      "[maelzel.scoring:quant.py:917:quantizeBeatBinary:DEBUG] Skipping (8,), gridError=0.22810850583212117 * 1.0 > minError=0.21705060887870725\n",
      "[maelzel.scoring:quant.py:917:quantizeBeatBinary:DEBUG] Skipping (11,), gridError=0.19083370858553728 * 1.0 > minError=0.15017789521994934\n",
      "[maelzel.scoring:quant.py:917:quantizeBeatBinary:DEBUG] Skipping (5, 1), gridError=0.17405860122637887 * 1.0 > minError=0.009230384607371462\n",
      "[maelzel.scoring:quant.py:917:quantizeBeatBinary:DEBUG] Skipping (3, 1), gridError=0.21704876598271078 * 1.0 > minError=0.009230384607371462\n",
      "[maelzel.scoring:quant.py:917:quantizeBeatBinary:DEBUG] Skipping (4, 1), gridError=0.22810850583212117 * 1.0 > minError=0.009230384607371462\n",
      "[maelzel.scoring:quant.py:917:quantizeBeatBinary:DEBUG] Skipping (6, 1), gridError=0.13363777733523685 * 1.0 > minError=0.009230384607371462\n",
      "[maelzel.scoring:quant.py:917:quantizeBeatBinary:DEBUG] Skipping (7, 1), gridError=0.1004412732126331 * 1.0 > minError=0.009230384607371462\n",
      "[maelzel.scoring:quant.py:917:quantizeBeatBinary:DEBUG] Skipping (8, 1), gridError=0.09026484727817514 * 1.0 > minError=0.009230384607371462\n",
      "[maelzel.scoring:quant.py:917:quantizeBeatBinary:DEBUG] Skipping (9, 1), gridError=0.11684300355669151 * 1.0 > minError=0.009230384607371462\n",
      "[maelzel.scoring:quant.py:917:quantizeBeatBinary:DEBUG] Skipping (11, 1), gridError=0.11772092516222174 * 1.0 > minError=0.009230384607371462\n",
      "[maelzel.scoring:quant.py:917:quantizeBeatBinary:DEBUG] Skipping (3, 1, 1), gridError=0.15016724081068442 * 1.0 > minError=0.0016733200530681513\n",
      "[maelzel.scoring:quant.py:917:quantizeBeatBinary:DEBUG] Skipping (2, 1, 1), gridError=0.21704876598271078 * 1.0 > minError=0.0016733200530681513\n",
      "[maelzel.scoring:quant.py:917:quantizeBeatBinary:DEBUG] Skipping (4, 1, 1), gridError=0.13363777733523685 * 1.0 > minError=0.0016733200530681513\n",
      "[maelzel.scoring:quant.py:917:quantizeBeatBinary:DEBUG] Skipping (6, 1, 1), gridError=0.11684300355669151 * 1.0 > minError=0.0016733200530681513\n",
      "[maelzel.scoring:quant.py:917:quantizeBeatBinary:DEBUG] Skipping (7, 1, 1), gridError=0.09264149521130847 * 1.0 > minError=0.0016733200530681513\n",
      "[maelzel.scoring:quant.py:917:quantizeBeatBinary:DEBUG] Skipping (8, 1, 1), gridError=0.08325532074018731 * 1.0 > minError=0.0016733200530681513\n",
      "[maelzel.scoring:quant.py:908:quantizeBeatBinary:DEBUG] Skipping (9, 1, 1), divPenalty=0.04 * 0.044721359549995794 > minError=0.0016733200530681513\n",
      "[maelzel.scoring:quant.py:917:quantizeBeatBinary:DEBUG] Skipping (3, 2, 1, 1), gridError=0.20319687430773284 * 1.0 > minError=0.0016733200530681513\n",
      "[maelzel.scoring:quant.py:917:quantizeBeatBinary:DEBUG] Skipping (2, 2, 1, 1), gridError=0.22810850583212117 * 1.0 > minError=0.0016733200530681513\n",
      "[maelzel.scoring:quant.py:917:quantizeBeatBinary:DEBUG] Skipping (3, 4, 1, 1), gridError=0.15683089948639037 * 1.0 > minError=0.0016733200530681513\n",
      "[maelzel.scoring:quant.py:917:quantizeBeatBinary:DEBUG] Skipping (4, 2, 1, 1), gridError=0.13576585065531976 * 1.0 > minError=0.0016733200530681513\n",
      "[maelzel.scoring:quant.py:917:quantizeBeatBinary:DEBUG] Skipping (2, 3, 1, 1), gridError=0.19042507983403448 * 1.0 > minError=0.0016733200530681513\n",
      "[maelzel.scoring:quant.py:917:quantizeBeatBinary:DEBUG] Skipping (2, 4, 1, 1), gridError=0.22351364482247743 * 1.0 > minError=0.0016733200530681513\n",
      "[maelzel.scoring:quant.py:917:quantizeBeatBinary:DEBUG] Skipping (4, 3, 1, 1), gridError=0.05623730565710473 * 1.0 > minError=0.0016733200530681513\n",
      "[maelzel.scoring:quant.py:917:quantizeBeatBinary:DEBUG] Skipping (5, 2, 1, 1), gridError=0.15927881381924017 * 1.0 > minError=0.0016733200530681513\n",
      "[maelzel.scoring:quant.py:917:quantizeBeatBinary:DEBUG] Skipping (2, 5, 1, 1), gridError=0.20495948941531308 * 1.0 > minError=0.0016733200530681513\n",
      "[maelzel.scoring:quant.py:908:quantizeBeatBinary:DEBUG] Skipping (3, 5, 1, 1), divPenalty=0.04358898943540674 * 0.044721359549995794 > minError=0.0016733200530681513\n",
      "[maelzel.scoring:quant.py:908:quantizeBeatBinary:DEBUG] Skipping (5, 3, 1, 1), divPenalty=0.04358898943540674 * 0.044721359549995794 > minError=0.0016733200530681513\n",
      "[maelzel.scoring:quant.py:917:quantizeBeatBinary:DEBUG] Skipping (3, 3, 1, 1), gridError=0.13363777733523685 * 1.0 > minError=0.0016733200530681513\n",
      "[maelzel.scoring:quant.py:917:quantizeBeatBinary:DEBUG] Skipping (4, 4, 1, 1), gridError=0.09026484727817514 * 1.0 > minError=0.0016733200530681513\n",
      "[maelzel.scoring:quant.py:917:quantizeBeatBinary:DEBUG] Skipping (4, 5, 1, 1), gridError=0.08980214302718517 * 1.0 > minError=0.0016733200530681513\n",
      "[maelzel.scoring:quant.py:917:quantizeBeatBinary:DEBUG] Skipping (5, 4, 1, 1), gridError=0.12277068825618094 * 1.0 > minError=0.0016733200530681513\n",
      "[maelzel.scoring:quant.py:917:quantizeBeatBinary:DEBUG] Skipping (6, 4, 1, 1), gridError=0.12277068825618094 * 1.0 > minError=0.0016733200530681513\n",
      "[maelzel.scoring:quant.py:917:quantizeBeatBinary:DEBUG] Skipping (6, 2, 1, 1), gridError=0.1531607855771824 * 1.0 > minError=0.0016733200530681513\n",
      "[maelzel.scoring:quant.py:917:quantizeBeatBinary:DEBUG] Skipping (6, 3, 1, 1), gridError=0.08325532074018731 * 1.0 > minError=0.0016733200530681513\n",
      "[maelzel.scoring:quant.py:908:quantizeBeatBinary:DEBUG] Skipping (5, 5, 1, 1), divPenalty=0.0382842712474619 * 0.044721359549995794 > minError=0.0016733200530681513\n",
      "[maelzel.scoring:quant.py:917:quantizeBeatBinary:DEBUG] Skipping (4, 7, 1, 1), gridError=0.07394688496271953 * 1.0 > minError=0.0016733200530681513\n",
      "[maelzel.scoring:quant.py:908:quantizeBeatBinary:DEBUG] Skipping (7, 3, 1, 1), divPenalty=0.04358898943540674 * 0.044721359549995794 > minError=0.0016733200530681513\n",
      "[maelzel.scoring:quant.py:908:quantizeBeatBinary:DEBUG] Skipping (3, 7, 1, 1), divPenalty=0.04358898943540674 * 0.044721359549995794 > minError=0.0016733200530681513\n",
      "[maelzel.scoring:quant.py:917:quantizeBeatBinary:DEBUG] Skipping (7, 4, 1, 1), gridError=0.10327409939021673 * 1.0 > minError=0.0016733200530681513\n",
      "[maelzel.scoring:quant.py:917:quantizeBeatBinary:DEBUG] Skipping (7, 2, 1, 1), gridError=0.1319317917096784 * 1.0 > minError=0.0016733200530681513\n",
      "[maelzel.scoring:quant.py:917:quantizeBeatBinary:DEBUG] Skipping (2, 7, 1, 1), gridError=0.209490582055585 * 1.0 > minError=0.0016733200530681513\n",
      "[maelzel.scoring:quant.py:908:quantizeBeatBinary:DEBUG] Skipping (6, 5, 1, 1), divPenalty=0.049655668608420106 * 0.044721359549995794 > minError=0.0016733200530681513\n",
      "[maelzel.scoring:quant.py:908:quantizeBeatBinary:DEBUG] Skipping (7, 5, 1, 1), divPenalty=0.049655668608420106 * 0.044721359549995794 > minError=0.0016733200530681513\n",
      "[maelzel.scoring:quant.py:908:quantizeBeatBinary:DEBUG] Skipping (5, 7, 1, 1), divPenalty=0.049655668608420106 * 0.044721359549995794 > minError=0.0016733200530681513\n",
      "[maelzel.scoring:quant.py:908:quantizeBeatBinary:DEBUG] Skipping (6, 7, 1, 1), divPenalty=0.049655668608420106 * 0.044721359549995794 > minError=0.0016733200530681513\n",
      "[maelzel.scoring:quant.py:908:quantizeBeatBinary:DEBUG] Skipping (7, 7, 1, 1), divPenalty=0.0382842712474619 * 0.044721359549995794 > minError=0.0016733200530681513\n",
      "[maelzel.scoring:quant.py:908:quantizeBeatBinary:DEBUG] Skipping (2, 3, 1, 1, 1), divPenalty=0.06734983296193095 * 0.044721359549995794 > minError=0.0016733200530681513\n",
      "[maelzel.scoring:quant.py:917:quantizeBeatBinary:DEBUG] Skipping (2, 2, 1, 1, 1), gridError=0.17405860122637887 * 1.0 > minError=0.0016733200530681513\n",
      "[maelzel.scoring:quant.py:908:quantizeBeatBinary:DEBUG] Skipping (3, 2, 1, 1, 1), divPenalty=0.06734983296193095 * 0.044721359549995794 > minError=0.0016733200530681513\n",
      "[maelzel.scoring:quant.py:908:quantizeBeatBinary:DEBUG] Skipping (3, 3, 1, 1, 1), divPenalty=0.12122969933147572 * 0.044721359549995794 > minError=0.0016733200530681513\n",
      "[maelzel.scoring:quant.py:908:quantizeBeatBinary:DEBUG] Skipping (4, 3, 1, 1, 1), divPenalty=0.07846018098373213 * 0.044721359549995794 > minError=0.0016733200530681513\n",
      "[maelzel.scoring:quant.py:917:quantizeBeatBinary:DEBUG] Skipping (4, 2, 1, 1, 1), gridError=0.14495593273553908 * 1.0 > minError=0.0016733200530681513\n",
      "[maelzel.scoring:quant.py:908:quantizeBeatBinary:DEBUG] Skipping (3, 4, 1, 1, 1), divPenalty=0.07846018098373213 * 0.044721359549995794 > minError=0.0016733200530681513\n",
      "[maelzel.scoring:quant.py:917:quantizeBeatBinary:DEBUG] Skipping (2, 4, 1, 1, 1), gridError=0.145764152081007 * 1.0 > minError=0.0016733200530681513\n",
      "[maelzel.scoring:quant.py:908:quantizeBeatBinary:DEBUG] Skipping (5, 2, 1, 1, 1), divPenalty=0.07200000000000001 * 0.044721359549995794 > minError=0.0016733200530681513\n",
      "[maelzel.scoring:quant.py:908:quantizeBeatBinary:DEBUG] Skipping (3, 5, 1, 1, 1), divPenalty=0.16520823224040626 * 0.044721359549995794 > minError=0.0016733200530681513\n",
      "[maelzel.scoring:quant.py:908:quantizeBeatBinary:DEBUG] Skipping (2, 5, 1, 1, 1), divPenalty=0.07200000000000001 * 0.044721359549995794 > minError=0.0016733200530681513\n",
      "[maelzel.scoring:quant.py:908:quantizeBeatBinary:DEBUG] Skipping (5, 3, 1, 1, 1), divPenalty=0.16520823224040626 * 0.044721359549995794 > minError=0.0016733200530681513\n",
      "[maelzel.scoring:quant.py:917:quantizeBeatBinary:DEBUG] Skipping (4, 4, 1, 1, 1), gridError=0.11515558489121323 * 1.0 > minError=0.0016733200530681513\n",
      "[maelzel.scoring:quant.py:908:quantizeBeatBinary:DEBUG] Skipping (4, 5, 1, 1, 1), divPenalty=0.07624922359499622 * 0.044721359549995794 > minError=0.0016733200530681513\n",
      "[maelzel.scoring:quant.py:908:quantizeBeatBinary:DEBUG] Skipping (5, 4, 1, 1, 1), divPenalty=0.07624922359499622 * 0.044721359549995794 > minError=0.0016733200530681513\n",
      "[maelzel.scoring:quant.py:908:quantizeBeatBinary:DEBUG] Skipping (5, 5, 1, 1, 1), divPenalty=0.15644103884177657 * 0.044721359549995794 > minError=0.0016733200530681513\n"
     ]
    },
    {
     "name": "stdout",
     "output_type": "stream",
     "text": [
      "Beat: 1 - 2 (dur: 1)\n",
      "Best 4 divisions: (quantized in 76.5ms)\n"
     ]
    },
    {
     "data": {
      "text/html": [
       "<table>\n",
       "<thead>\n",
       "<tr><th style=\"text-align: right;\">  error</th><th>div      </th><th>snapped                                                                                                                                                                                                                                                 </th><th>slots          </th><th>info                                                                                                                                                                              </th></tr>\n",
       "</thead>\n",
       "<tbody>\n",
       "<tr><td style=\"text-align: right;\"> 0.0017</td><td>(5, 1, 1)</td><td>[«4F# 0:0.067 1/15♩», «4D# 0.067:0.133 1/15♩», «4E 0.133:0.2 1/15♩», «4F 0.2:0.333 2/15♩», «4C# 0.333:1 2/3♩»]                                                                                                                                          </td><td>[0, 1, 2, 3, 5]</td><td>gridError=0, rhythmComplexity=0 (numNotesAcrossSubdivs=0, numTies=0), divPenalty=0.0374 (7.483e-05, divPenalty=0.02, cardinalityPenalty=0.1, numSubdivsPenalty=0, levelPenalty=0) </td></tr>\n",
       "<tr><td style=\"text-align: right;\"> 0.0092</td><td>(15,)    </td><td>[«4F# 0:0.067 1/15♩», «4D# 0.067:0.133 1/15♩», «4E 0.133:0.2 1/15♩», «4F 0.2:0.333 2/15♩», «4C# 0.333:1 2/3♩»]                                                                                                                                          </td><td>[0, 1, 2, 3, 5]</td><td>gridError=0, rhythmComplexity=0.179 (numNotesAcrossSubdivs=0, numTies=1), divPenalty=0.202 (0.000405, divPenalty=0.2, cardinalityPenalty=0.1, numSubdivsPenalty=0, levelPenalty=0)</td></tr>\n",
       "<tr><td style=\"text-align: right;\"> 0.1502</td><td>(9,)     </td><td>[«4F# 0:0.111 1/9♩», «4D# 0.111:grace properties={&#x27;.snappedGracenote&#x27;: True, &#x27;originalDuration&#x27;: Fraction(1, 15)}», «4E 0.111:0.222 1/9♩», «4F 0.222:0.333 1/9♩», «4C# 0.333:1 2/3♩»]                                                                   </td><td>[0, 1, 1, 2, 3]</td><td>gridError=0.15, rhythmComplexity=0 (numNotesAcrossSubdivs=0, numTies=0), divPenalty=0.04 (8e-05, divPenalty=0.04, cardinalityPenalty=0, numSubdivsPenalty=0, levelPenalty=0)      </td></tr>\n",
       "<tr><td style=\"text-align: right;\"> 0.2170</td><td>(6,)     </td><td>[«4F# 0:grace properties={&#x27;.snappedGracenote&#x27;: True, &#x27;originalDuration&#x27;: Fraction(1, 15)}», «4D# 0:0.167 1/6♩», «4E 0.167:grace properties={&#x27;.snappedGracenote&#x27;: True, &#x27;originalDuration&#x27;: Fraction(1, 15)}», «4F 0.167:0.333 1/6♩», «4C# 0.333:1 2/3♩»]</td><td>[0, 0, 1, 1, 2]</td><td>gridError=0.217, rhythmComplexity=0 (numNotesAcrossSubdivs=0, numTies=0), divPenalty=0.02 (4e-05, divPenalty=0.02, cardinalityPenalty=0, numSubdivsPenalty=0, levelPenalty=0)     </td></tr>\n",
       "</tbody>\n",
       "</table>"
      ],
      "text/plain": [
       "<IPython.core.display.HTML object>"
      ]
     },
     "metadata": {},
     "output_type": "display_data"
    },
    {
     "name": "stderr",
     "output_type": "stream",
     "text": [
      "[maelzel.scoring:quant.py:1611:_mergeSiblings:DEBUG] Nodes cannot merge: \n",
      "Node(3/2, \n",
      "  «4C 0:0.667 2/3♩ 3/2»\n",
      "  Node(5/4, \n",
      "    «4D# 0.667:0.733 1/15♩ 3/2,5/4»\n",
      "    «4E 0.733:0.8 1/15♩ 3/2,5/4»\n",
      "    «4F 0.8:1 1/5♩ 3/2,5/4»\n",
      "  )\n",
      ")\n",
      "Node(3/2, \n",
      "  Node(5/4, \n",
      "    «4F# 1:1.067 1/15♩ 3/2,5/4»\n",
      "    «4D# 1.067:1.133 1/15♩ 3/2,5/4»\n",
      "    «4E 1.133:1.2 1/15♩ 3/2,5/4»\n",
      "    «4F 1.2:1.333 2/15♩ 3/2,5/4»\n",
      "  )\n",
      "  «4C# 1.333:2 2/3♩ 3/2»\n",
      ")\n",
      "----> no need to extend node over beat\n",
      "[maelzel.scoring:quant.py:1605:_mergeSiblings:DEBUG] Nodes can merge: \n",
      "    Node(1/1, \n",
      "  «rest 2:3 1♩»\n",
      ")\n",
      "    Node(1/1, \n",
      "  «rest 3:4 1♩»\n",
      ")\n",
      "[maelzel.scoring:quant.py:1608:_mergeSiblings:DEBUG] ---- Merged node:\n",
      "    Node(1/1, \n",
      "  «rest 2:4 2♩»\n",
      ")\n",
      "[maelzel.scoring:node.py:647:_splitUnnecessaryNodes:DEBUG] Did not split node Node(1/1, \n",
      "  Node(3/2, \n",
      "    «4C 0:0.667 2/3♩ 3/2»\n",
      "    Node(5/4, \n",
      "      «4D# 0.667:0.733 1/15♩ 3/2,5/4»\n",
      "      «4E 0.733:0.8 1/15♩ 3/2,5/4»\n",
      "      «4F 0.8:1 1/5♩ 3/2,5/4»\n",
      "    )\n",
      "  )\n",
      "  Node(3/2, \n",
      "    Node(5/4, \n",
      "      «4F# 1:1.067 1/15♩ 3/2,5/4»\n",
      "      «4D# 1.067:1.133 1/15♩ 3/2,5/4»\n",
      "      «4E 1.133:1.2 1/15♩ 3/2,5/4»\n",
      "      «4F 1.2:1.333 2/15♩ 3/2,5/4»\n",
      "    )\n",
      "    «4C# 1.333:2 2/3♩ 3/2»\n",
      "  )\n",
      "  Node(1/1, \n",
      "    «rest 2:4 2♩»\n",
      "  )\n",
      ") at 3\n",
      "[maelzel.scoring:renderlily.py:1116:write:DEBUG] Rendering lilypond '/tmp/tmplce1iz71.ly' to '/tmp/tmplce1iz71.png'\n",
      "[maelzel.scoring:renderlily.py:1129:write:DEBUG] Found crop file /tmp/tmplce1iz71.cropped.png, using that as output\n"
     ]
    },
    {
     "data": {
      "text/html": [
       "<b>LilypondRenderer</b> (1 part)<br>\n",
       "        <img style=\"display:inline; padding:10px;\n",
       "margin-top:14px;\n",
       "width:706px\"\n",
       "             src=\"data:image/png;base64,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\"/>"
      ],
      "text/plain": [
       "<maelzel.scoring.renderlily.LilypondRenderer at 0x7fb74dead150>"
      ]
     },
     "execution_count": 11,
     "metadata": {},
     "output_type": "execute_result"
    }
   ],
   "source": [
    "from maelzel import scoring\n",
    "from maelzel.scorestruct import ScoreStruct\n",
    "from maelzel.common import F\n",
    "\n",
    "notes = [\n",
    "    (60, F(2, 3)),\n",
    "    (63, F(2, 3)*F(1, 10)),\n",
    "    (64, F(2, 3)*F(1, 10)),\n",
    "    (65, F(2, 3)*F(3, 10)),\n",
    "    \n",
    "    (66, F(2, 3)*F(1, 10)),\n",
    "    (63, F(2, 3)*F(1, 10)),\n",
    "    (64, F(2, 3)*F(1, 10)),\n",
    "    (65, F(2, 3)*F(2, 10)),\n",
    "    (61, F(2, 3)),\n",
    "    \n",
    "]\n",
    "\n",
    "notations = [scoring.makeNote(p, d) for p, d in notes]\n",
    "struct = ScoreStruct(timesig='4/4', tempo=70)\n",
    "\n",
    "part = scoring.UnquantizedPart(notations)\n",
    "quantprofile = scoring.quant.QuantizationProfile.fromPreset('highest', debug=True, debugMaxDivisions=20, maxDivPenalty=0.1)\n",
    "quantprofile.maxGridDensity = 32\n",
    "#quantprofile.rhythmComplexityWeight = 0.001\n",
    "#quantprofile.divisionErrorWeight = 0.01\n",
    "quantprofile.minBeatFractionAcrossBeats = F(1, 8)\n",
    "quantprofile.minSymbolicDurationAcrossBeat = F(1, 3)\n",
    "\n",
    "qpart = scoring.quant.quantizePart(part, struct=struct, quantprofile=quantprofile)\n",
    "options = scoring.render.RenderOptions()\n",
    "score = scoring.quant.QuantizedScore([qpart])\n",
    "r = scoring.render.renderQuantizedScore(score, options)\n",
    "# qpart.dump()\n",
    "# r.write('~/tmp/quant.ly')\n",
    "r"
   ]
  },
  {
   "cell_type": "code",
   "execution_count": 1,
   "id": "ef394c1d-6aee-487f-af01-2c82fd69626a",
   "metadata": {},
   "outputs": [
    {
     "name": "stdout",
     "output_type": "stream",
     "text": [
      "Beat: 0 - 1 (dur: 1)\n",
      "Best 8 divisions: (quantized in 83.2ms)\n"
     ]
    },
    {
     "data": {
      "text/html": [
       "<table>\n",
       "<thead>\n",
       "<tr><th style=\"text-align: right;\">  error</th><th>div   </th><th>snapped                                                                                                           </th><th>slots            </th><th>info                                                                                                                                                                                    </th></tr>\n",
       "</thead>\n",
       "<tbody>\n",
       "<tr><td style=\"text-align: right;\"> 0.0011</td><td>(8, 8)</td><td>[«4C 0:0.25 1/4♩», «4D# 0.25:0.438 3/16♩», «4E 0.438:0.625 3/16♩», «4F 0.625:0.812 3/16♩», «4F# 0.812:1 3/16♩»]   </td><td>[0, 4, 7, 10, 13]</td><td>gridError=0, rhythmComplexity=0.0894 (numNotesAcrossSubdivs=1, numTies=0), divPenalty=0.0141 (2.828e-05, divPenalty=0.0141, cardinalityPenalty=0, numSubdivsPenalty=0, levelPenalty=0)  </td></tr>\n",
       "<tr><td style=\"text-align: right;\"> 0.0572</td><td>(6, 8)</td><td>[«4C 0:0.25 1/4♩», «4D# 0.25:0.417 1/6♩», «4E 0.417:0.625 5/24♩», «4F 0.625:0.812 3/16♩», «4F# 0.812:1 3/16♩»]    </td><td>[0, 3, 5, 8, 11] </td><td>gridError=0.0572, rhythmComplexity=0.2 (numNotesAcrossSubdivs=1, numTies=1), divPenalty=0.0224 (4.472e-05, divPenalty=0.0224, cardinalityPenalty=0, numSubdivsPenalty=0, levelPenalty=0)</td></tr>\n",
       "<tr><td style=\"text-align: right;\"> 0.0817</td><td>(8, 5)</td><td>[«4C 0:0.25 1/4♩», «4D# 0.25:0.438 3/16♩», «4E 0.438:0.6 13/80♩», «4F 0.6:0.8 1/5♩», «4F# 0.8:1 1/5♩»]            </td><td>[0, 4, 7, 9, 11] </td><td>gridError=0.0817, rhythmComplexity=0.2 (numNotesAcrossSubdivs=1, numTies=1), divPenalty=0.0224 (4.472e-05, divPenalty=0.0224, cardinalityPenalty=0, numSubdivsPenalty=0, levelPenalty=0)</td></tr>\n",
       "<tr><td style=\"text-align: right;\"> 0.1059</td><td>(11,) </td><td>[«4C 0:0.273 3/11♩», «4D# 0.273:0.455 2/11♩», «4E 0.455:0.636 2/11♩», «4F 0.636:0.818 2/11♩», «4F# 0.818:1 2/11♩»]</td><td>[0, 3, 5, 7, 9]  </td><td>gridError=0.106, rhythmComplexity=0 (numNotesAcrossSubdivs=0, numTies=0), divPenalty=0.1 (0.0002, divPenalty=0.1, cardinalityPenalty=0, numSubdivsPenalty=0, levelPenalty=0)            </td></tr>\n",
       "<tr><td style=\"text-align: right;\"> 0.2134</td><td>(9,)  </td><td>[«4C 0:0.222 2/9♩», «4D# 0.222:0.444 2/9♩», «4E 0.444:0.667 2/9♩», «4F 0.667:0.778 1/9♩», «4F# 0.778:1 2/9♩»]     </td><td>[0, 2, 4, 6, 7]  </td><td>gridError=0.213, rhythmComplexity=0 (numNotesAcrossSubdivs=0, numTies=0), divPenalty=0.04 (8e-05, divPenalty=0.04, cardinalityPenalty=0, numSubdivsPenalty=0, levelPenalty=0)           </td></tr>\n",
       "<tr><td style=\"text-align: right;\"> 0.2397</td><td>(8,)  </td><td>[«4C 0:0.25 1/4♩», «4D# 0.25:0.375 1/8♩», «4E 0.375:0.625 1/4♩», «4F 0.625:0.75 1/8♩», «4F# 0.75:1 1/4♩»]         </td><td>[0, 2, 3, 5, 6]  </td><td>gridError=0.24, rhythmComplexity=0 (numNotesAcrossSubdivs=0, numTies=0), divPenalty=0.01 (2e-05, divPenalty=0.01, cardinalityPenalty=0, numSubdivsPenalty=0, levelPenalty=0)            </td></tr>\n",
       "<tr><td style=\"text-align: right;\"> 0.2609</td><td>(7,)  </td><td>[«4C 0:0.286 2/7♩», «4D# 0.286:0.429 1/7♩», «4E 0.429:0.571 1/7♩», «4F 0.571:0.857 2/7♩», «4F# 0.857:1 1/7♩»]     </td><td>[0, 2, 3, 4, 6]  </td><td>gridError=0.261, rhythmComplexity=0 (numNotesAcrossSubdivs=0, numTies=0), divPenalty=0.02 (4e-05, divPenalty=0.02, cardinalityPenalty=0, numSubdivsPenalty=0, levelPenalty=0)           </td></tr>\n",
       "<tr><td style=\"text-align: right;\"> 0.2992</td><td>(6,)  </td><td>[«4C 0:0.333 1/3♩», «4D# 0.333:0.5 1/6♩», «4E 0.5:0.667 1/6♩», «4F 0.667:0.833 1/6♩», «4F# 0.833:1 1/6♩»]         </td><td>[0, 2, 3, 4, 5]  </td><td>gridError=0.299, rhythmComplexity=0 (numNotesAcrossSubdivs=0, numTies=0), divPenalty=0.02 (4e-05, divPenalty=0.02, cardinalityPenalty=0, numSubdivsPenalty=0, levelPenalty=0)           </td></tr>\n",
       "</tbody>\n",
       "</table>"
      ],
      "text/plain": [
       "<IPython.core.display.HTML object>"
      ]
     },
     "metadata": {},
     "output_type": "display_data"
    },
    {
     "name": "stdout",
     "output_type": "stream",
     "text": [
      "Beat: 1 - 2 (dur: 1)\n",
      "Best 3 divisions: (quantized in 19.0ms)\n"
     ]
    },
    {
     "data": {
      "text/html": [
       "<table>\n",
       "<thead>\n",
       "<tr><th style=\"text-align: right;\">  error</th><th>div   </th><th>snapped                                   </th><th>slots  </th><th>info                                                                                                                                                                              </th></tr>\n",
       "</thead>\n",
       "<tbody>\n",
       "<tr><td style=\"text-align: right;\"> 0.0050</td><td>(8, 1)</td><td>[«4G 0:0.188 3/16♩», «4C~ 0.188:1 13/16♩»]</td><td>[0, 3] </td><td>gridError=0, rhythmComplexity=0.5 (numNotesAcrossSubdivs=1, numTies=1), divPenalty=0.01 (2e-05, divPenalty=0.01, cardinalityPenalty=0, numSubdivsPenalty=0, levelPenalty=0)       </td></tr>\n",
       "<tr><td style=\"text-align: right;\"> 0.0212</td><td>(11,) </td><td>[«4G 0:0.182 2/11♩», «4C~ 0.182:1 9/11♩»] </td><td>[0, 2] </td><td>gridError=0.0202, rhythmComplexity=0.447 (numNotesAcrossSubdivs=0, numTies=1), divPenalty=0.1 (0.0002, divPenalty=0.1, cardinalityPenalty=0, numSubdivsPenalty=0, levelPenalty=0) </td></tr>\n",
       "<tr><td style=\"text-align: right;\"> 0.0573</td><td>(6,)  </td><td>[«4G 0:0.167 1/6♩», «4C~ 0.167:1 5/6♩»]   </td><td>[0, 1] </td><td>gridError=0.0572, rhythmComplexity=0.447 (numNotesAcrossSubdivs=0, numTies=1), divPenalty=0.02 (4e-05, divPenalty=0.02, cardinalityPenalty=0, numSubdivsPenalty=0, levelPenalty=0)</td></tr>\n",
       "</tbody>\n",
       "</table>"
      ],
      "text/plain": [
       "<IPython.core.display.HTML object>"
      ]
     },
     "metadata": {},
     "output_type": "display_data"
    },
    {
     "name": "stdout",
     "output_type": "stream",
     "text": [
      "Beat: 2 - 3 (dur: 1)\n",
      "Best 3 divisions: (quantized in 23.3ms)\n"
     ]
    },
    {
     "data": {
      "text/html": [
       "<table>\n",
       "<thead>\n",
       "<tr><th style=\"text-align: right;\">  error</th><th>div   </th><th>snapped                                     </th><th>slots  </th><th>info                                                                                                                                                                              </th></tr>\n",
       "</thead>\n",
       "<tbody>\n",
       "<tr><td style=\"text-align: right;\"> 0.0023</td><td>(8, 1)</td><td>[«~4C 0:0.188 3/16♩», «rest 0.188:1 13/16♩»]</td><td>[0, 3] </td><td>gridError=0, rhythmComplexity=0.224 (numNotesAcrossSubdivs=1, numTies=0), divPenalty=0.01 (2e-05, divPenalty=0.01, cardinalityPenalty=0, numSubdivsPenalty=0, levelPenalty=0)     </td></tr>\n",
       "<tr><td style=\"text-align: right;\"> 0.0175</td><td>(11,) </td><td>[«~4C 0:0.182 2/11♩», «rest 0.182:1 9/11♩»] </td><td>[0, 2] </td><td>gridError=0.0163, rhythmComplexity=0.447 (numNotesAcrossSubdivs=0, numTies=1), divPenalty=0.1 (0.0002, divPenalty=0.1, cardinalityPenalty=0, numSubdivsPenalty=0, levelPenalty=0) </td></tr>\n",
       "<tr><td style=\"text-align: right;\"> 0.0463</td><td>(6,)  </td><td>[«~4C 0:0.167 1/6♩», «rest 0.167:1 5/6♩»]   </td><td>[0, 1] </td><td>gridError=0.0461, rhythmComplexity=0.447 (numNotesAcrossSubdivs=0, numTies=1), divPenalty=0.02 (4e-05, divPenalty=0.02, cardinalityPenalty=0, numSubdivsPenalty=0, levelPenalty=0)</td></tr>\n",
       "</tbody>\n",
       "</table>"
      ],
      "text/plain": [
       "<IPython.core.display.HTML object>"
      ]
     },
     "metadata": {},
     "output_type": "display_data"
    },
    {
     "data": {
      "text/html": [
       "<b>LilypondRenderer</b> (1 part)<br>\n",
       "        <img style=\"display:inline; padding:10px;\n",
       "margin-top:14px;\n",
       "width:813px\"\n",
       "             src=\"data:image/png;base64,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\"/>"
      ],
      "text/plain": [
       "<maelzel.scoring.renderlily.LilypondRenderer at 0x7f08719b5cd0>"
      ]
     },
     "execution_count": 1,
     "metadata": {},
     "output_type": "execute_result"
    }
   ],
   "source": [
    "from maelzel import scoring\n",
    "from maelzel.scorestruct import ScoreStruct\n",
    "from maelzel.common import F\n",
    "\n",
    "notes = [\n",
    "    (60, F(1, 4)),\n",
    "    (63, F(1, 4)*F(3, 4)),\n",
    "    (64, F(1, 4)*F(3, 4)),\n",
    "    (65, F(1, 4)*F(3, 4)),\n",
    "    (66, F(1, 4)*F(3, 4)),\n",
    "    (67, F(1, 4)*F(3, 4)),\n",
    "    (60, F(1)),\n",
    "    \n",
    "]\n",
    "\n",
    "notations = [scoring.makeNote(p, d) for p, d in notes]\n",
    "struct = ScoreStruct(timesig='4/4', tempo=70)\n",
    "\n",
    "part = scoring.UnquantizedPart(notations)\n",
    "quantprofile = scoring.quant.QuantizationProfile.fromPreset('highest', debug=True, debugMaxDivisions=20, maxDivPenalty=0.1)\n",
    "quantprofile.maxGridDensity = 32\n",
    "qpart = scoring.quant.quantizePart(part, struct=struct, quantprofile=quantprofile)\n",
    "options = scoring.render.RenderOptions()\n",
    "score = scoring.quant.QuantizedScore([qpart])\n",
    "r = scoring.render.renderQuantizedScore(score, options)\n",
    "r"
   ]
  },
  {
   "cell_type": "code",
   "execution_count": 2,
   "id": "53f406f0-8d55-4f2e-8663-60c935e3e4ad",
   "metadata": {},
   "outputs": [
    {
     "name": "stdout",
     "output_type": "stream",
     "text": [
      "UnquantizedPart #0:\n",
      "  Measure #0\n",
      "    Timesig: 4/4(quarter=70)\n",
      "    Node ratio: 1/1, offset=0, end=4\n",
      "      Node ratio: 1/1, offset=0, end=1\n",
      "        «4C~ 0:0.25 1/4♩ spanners=[Slur(kind=start, linetype=solid, nestingLevel=1,\n",
      "          uuid=60vmpdlg)]»\n",
      "        «4Cgliss 0.25:0.75 1/2♩»\n",
      "        «4F 0.75:1 1/4♩ spanners=[Slur(kind=end, linetype=solid, nestingLevel=1, uuid=60vmpdlg)]»\n",
      "      Node ratio: 1/1, offset=1, end=4\n",
      "        «rest 1:4 3♩»\n"
     ]
    },
    {
     "data": {
      "text/html": [
       "<b>LilypondRenderer</b> (1 part)<br>\n",
       "        <img style=\"display:inline; padding:10px;\n",
       "margin-top:14px;\n",
       "width:375px\"\n",
       "             src=\"data:image/png;base64,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\"/>"
      ],
      "text/plain": [
       "<maelzel.scoring.renderlily.LilypondRenderer at 0x7f081ce54110>"
      ]
     },
     "execution_count": 2,
     "metadata": {},
     "output_type": "execute_result"
    }
   ],
   "source": [
    "from maelzel import scoring\n",
    "from maelzel.scorestruct import ScoreStruct\n",
    "from maelzel.common import F\n",
    "from maelzel.scoring import makeNote\n",
    "from maelzel.scoring import spanner \n",
    "\n",
    "notes = [\n",
    "    makeNote(60, F(1, 4), tiedNext=True),\n",
    "    makeNote(60, F(1, 4), tiedNext=True, gliss=True),\n",
    "    makeNote(60, F(1, 4), tiedPrev=True),\n",
    "    makeNote(65, F(1, 4))\n",
    "]\n",
    "\n",
    "notes[0].addSpanner(spanner.Slur(), notes[-1])\n",
    "struct = ScoreStruct(timesig='4/4', tempo=70)\n",
    "\n",
    "part = scoring.UnquantizedPart(notes)\n",
    "quantprofile = scoring.quant.QuantizationProfile.fromPreset('highest', debug=False, debugMaxDivisions=20, maxDivPenalty=0.1)\n",
    "quantprofile.maxGridDensity = 32\n",
    "qpart = scoring.quant.quantizePart(part, struct=struct, quantprofile=quantprofile)\n",
    "options = scoring.render.RenderOptions()\n",
    "score = scoring.quant.QuantizedScore([qpart])\n",
    "r = scoring.render.renderQuantizedScore(score, options)\n",
    "score.dump()\n",
    "r # .write('~/tmp/quant.ly')"
   ]
  },
  {
   "cell_type": "code",
   "execution_count": 2,
   "id": "e3e19155-179f-496b-85f2-4220092cfb68",
   "metadata": {},
   "outputs": [
    {
     "data": {
      "text/html": [
       "<p><strong>ScoreStruct</strong></p><table><thead><tr><th style=\"text-align:left\">Meas. Index</th><th style=\"text-align:left\">Timesig</th><th style=\"text-align:left\">Tempo (quarter note)</th><th style=\"text-align:left\">Label</th><th style=\"text-align:left\">Rehearsal</th><th style=\"text-align:left\">Barline</th></tr></thead><tbody><tr><td style=\"text-align:left\"><span style=\"font-size: small;\">0</span></td><td style=\"text-align:left\"><span style=\"font-size: small;\">7/8([Fraction(1, 1), Fraction(3, 2), Fraction(1, 1)])</span></td><td style=\"text-align:left\"><span style=\"font-size: small;\">52</span></td><td style=\"text-align:left\"><span style=\"font-size: small;\"></span></td><td style=\"text-align:left\"><span style=\"font-size: small;\"></span></td><td style=\"text-align:left\"><span style=\"font-size: small;\"></span></td></tr><tr><td style=\"text-align:left\"><span style=\"font-size: small;\">1</span></td><td style=\"text-align:left\"><span style=\"font-size: small;\">7/8</span></td><td style=\"text-align:left\"><span style=\"font-size: small;\"></span></td><td style=\"text-align:left\"><span style=\"font-size: small;\"></span></td><td style=\"text-align:left\"><span style=\"font-size: small;\"></span></td><td style=\"text-align:left\"><span style=\"font-size: small;\"></span></td></tr><tr><td style=\"text-align:left\"><span style=\"font-size: small;\">...</span></td><td style=\"text-align:left\"><span style=\"font-size: small;\"></span></td><td style=\"text-align:left\"><span style=\"font-size: small;\"></span></td><td style=\"text-align:left\"><span style=\"font-size: small;\"></span></td><td style=\"text-align:left\"><span style=\"font-size: small;\"></span></td><td style=\"text-align:left\"><span style=\"font-size: small;\"></span></td></tr></tbody></table>"
      ],
      "text/plain": [
       "<IPython.core.display.HTML object>"
      ]
     },
     "metadata": {},
     "output_type": "display_data"
    },
    {
     "name": "stdout",
     "output_type": "stream",
     "text": [
      "Beat: 0 - 1 (dur: 1)\n",
      "Best 2 divisions: (quantized in 14.8ms)\n"
     ]
    },
    {
     "data": {
      "text/html": [
       "<table>\n",
       "<thead>\n",
       "<tr><th style=\"text-align: right;\">  error</th><th>div  </th><th>snapped                                                     </th><th>slots    </th><th>info                                                                                                                                                                          </th></tr>\n",
       "</thead>\n",
       "<tbody>\n",
       "<tr><td style=\"text-align: right;\"> 0.0010</td><td>(8,) </td><td>[«4D 0:0.375 3/8♩», «4C 0.375:0.75 3/8♩», «4D~ 0.75:1 1/4♩»]</td><td>[0, 3, 6]</td><td>gridError=0, rhythmComplexity=0 (numNotesAcrossSubdivs=0, numTies=0), divPenalty=0.01 (0.0001, divPenalty=0.01, cardinalityPenalty=0, numSubdivsPenalty=0, levelPenalty=0)    </td></tr>\n",
       "<tr><td style=\"text-align: right;\"> 0.1259</td><td>(5,) </td><td>[«4D 0:0.4 2/5♩», «4C 0.4:0.8 2/5♩», «4D~ 0.8:1 1/5♩»]      </td><td>[0, 2, 4]</td><td>gridError=0.126, rhythmComplexity=0 (numNotesAcrossSubdivs=0, numTies=0), divPenalty=0.02 (0.0002, divPenalty=0.02, cardinalityPenalty=0, numSubdivsPenalty=0, levelPenalty=0)</td></tr>\n",
       "</tbody>\n",
       "</table>"
      ],
      "text/plain": [
       "<IPython.core.display.HTML object>"
      ]
     },
     "metadata": {},
     "output_type": "display_data"
    },
    {
     "name": "stdout",
     "output_type": "stream",
     "text": [
      "Beat: 1 - 3/2 (dur: 1/2)\n",
      "Best 3 divisions: (quantized in 2.6ms)\n"
     ]
    },
    {
     "data": {
      "text/html": [
       "<table>\n",
       "<thead>\n",
       "<tr><th style=\"text-align: right;\">  error</th><th>div  </th><th>snapped                                   </th><th>slots  </th><th>info                                                                                                                                                                               </th></tr>\n",
       "</thead>\n",
       "<tbody>\n",
       "<tr><td style=\"text-align: right;\"> 0.0010</td><td>(4,) </td><td>[«~4D 0:0.125 1/8♩», «4C 0.125:0.5 3/8♩»] </td><td>[0, 1] </td><td>gridError=0, rhythmComplexity=0 (numNotesAcrossSubdivs=0, numTies=0), divPenalty=0.01 (0.0001, divPenalty=0.01, cardinalityPenalty=0, numSubdivsPenalty=0, levelPenalty=0)         </td></tr>\n",
       "<tr><td style=\"text-align: right;\"> 0.0769</td><td>(7,) </td><td>[«~4D 0:0.143 1/7♩», «4C 0.143:0.5 5/14♩»]</td><td>[0, 2] </td><td>gridError=0.0756, rhythmComplexity=0.447 (numNotesAcrossSubdivs=0, numTies=1), divPenalty=0.02 (0.0002, divPenalty=0.02, cardinalityPenalty=0, numSubdivsPenalty=0, levelPenalty=0)</td></tr>\n",
       "<tr><td style=\"text-align: right;\"> 0.1006</td><td>(5,) </td><td>[«~4D 0:0.1 1/10♩», «4C 0.1:0.5 2/5♩»]    </td><td>[0, 1] </td><td>gridError=0.101, rhythmComplexity=0 (numNotesAcrossSubdivs=0, numTies=0), divPenalty=0.02 (0.0002, divPenalty=0.02, cardinalityPenalty=0, numSubdivsPenalty=0, levelPenalty=0)     </td></tr>\n",
       "</tbody>\n",
       "</table>"
      ],
      "text/plain": [
       "<IPython.core.display.HTML object>"
      ]
     },
     "metadata": {},
     "output_type": "display_data"
    },
    {
     "name": "stdout",
     "output_type": "stream",
     "text": [
      "Beat: 3/2 - 5/2 (dur: 1)\n",
      "Best 12 divisions: (quantized in 62.7ms)\n"
     ]
    },
    {
     "data": {
      "text/html": [
       "<table>\n",
       "<thead>\n",
       "<tr><th style=\"text-align: right;\">  error</th><th>div      </th><th>snapped                                                                                                                                                                                                                                                                               </th><th>slots                   </th><th>info                                                                                                                                                                                            </th></tr>\n",
       "</thead>\n",
       "<tbody>\n",
       "<tr><td style=\"text-align: right;\"> 0.0046</td><td>(5, 5, 2)</td><td>[«4C# 0:0.133 2/15♩», «4D 0.133:0.267 2/15♩», «4D# 0.267:0.4 2/15♩», «4E 0.4:0.533 2/15♩», «4F 0.533:0.667 2/15♩», «4F# 0.667:0.833 1/6♩», «4G 0.833:1 1/6♩»]                                                                                                                         </td><td>[0, 2, 4, 6, 8, 10, 11] </td><td>gridError=0, rhythmComplexity=0.0639 (numNotesAcrossSubdivs=1, numTies=0), divPenalty=0.0412 (0.0004123, divPenalty=0.0283, cardinalityPenalty=0.1, numSubdivsPenalty=0, levelPenalty=0.03)     </td></tr>\n",
       "<tr><td style=\"text-align: right;\"> 0.0715</td><td>(5, 5, 5)</td><td>[«4C# 0:0.133 2/15♩», «4D 0.133:0.267 2/15♩», «4D# 0.267:0.4 2/15♩», «4E 0.4:0.533 2/15♩», «4F 0.533:0.667 2/15♩», «4F# 0.667:0.8 2/15♩», «4G 0.8:1 1/5♩»]                                                                                                                            </td><td>[0, 2, 4, 6, 8, 10, 12] </td><td>gridError=0.0713, rhythmComplexity=0.0639 (numNotesAcrossSubdivs=1, numTies=0), divPenalty=0.0458 (0.0004583, divPenalty=0.0346, cardinalityPenalty=0.1, numSubdivsPenalty=0, levelPenalty=0.03)</td></tr>\n",
       "<tr><td style=\"text-align: right;\"> 0.0726</td><td>(11, 9)  </td><td>[«4C# 0:0.136 3/22♩», «4D 0.136:0.273 3/22♩», «4D# 0.273:0.409 3/22♩», «4E 0.409:0.556 0.146♩», «4F 0.556:0.667 1/9♩», «4F# 0.667:0.833 1/6♩», «4G 0.833:1 1/6♩»]                                                                                                                     </td><td>[0, 3, 6, 9, 12, 14, 17]</td><td>gridError=0.0717, rhythmComplexity=0.143 (numNotesAcrossSubdivs=1, numTies=1), divPenalty=0.108 (0.001077, divPenalty=0.108, cardinalityPenalty=0.1, numSubdivsPenalty=0, levelPenalty=0)       </td></tr>\n",
       "<tr><td style=\"text-align: right;\"> 0.0972</td><td>(11, 3)  </td><td>[«4C# 0:0.136 3/22♩», «4D 0.136:0.273 3/22♩», «4D# 0.273:0.409 3/22♩», «4E 0.409:0.5 1/11♩», «4F 0.5:0.667 1/6♩», «4F# 0.667:0.833 1/6♩», «4G 0.833:1 1/6♩»]                                                                                                                          </td><td>[0, 3, 6, 9, 11, 12, 13]</td><td>gridError=0.0966, rhythmComplexity=0 (numNotesAcrossSubdivs=0, numTies=0), divPenalty=0.1 (0.001, divPenalty=0.1, cardinalityPenalty=0.1, numSubdivsPenalty=0, levelPenalty=0)                  </td></tr>\n",
       "<tr><td style=\"text-align: right;\"> 0.1211</td><td>(7, 9)   </td><td>[«4C# 0:0.143 1/7♩», «4D 0.143:0.286 1/7♩», «4D# 0.286:0.429 1/7♩», «4E 0.429:0.556 8/63♩», «4F 0.556:0.667 1/9♩», «4F# 0.667:0.833 1/6♩», «4G 0.833:1 1/6♩»]                                                                                                                         </td><td>[0, 2, 4, 6, 8, 10, 13] </td><td>gridError=0.121, rhythmComplexity=0.0639 (numNotesAcrossSubdivs=1, numTies=0), divPenalty=0.0447 (0.0004472, divPenalty=0.0447, cardinalityPenalty=0.1, numSubdivsPenalty=0, levelPenalty=0)    </td></tr>\n",
       "<tr><td style=\"text-align: right;\"> 0.1273</td><td>(4, 3)   </td><td>[«4C# 0:0.125 1/8♩», «4D 0.125:0.25 1/8♩», «4D# 0.25:0.375 1/8♩», «4E 0.375:0.5 1/8♩», «4F 0.5:0.667 1/6♩», «4F# 0.667:0.833 1/6♩», «4G 0.833:1 1/6♩»]                                                                                                                                </td><td>[0, 1, 2, 3, 4, 5, 6]   </td><td>gridError=0.127, rhythmComplexity=0 (numNotesAcrossSubdivs=0, numTies=0), divPenalty=0.01 (0.0001, divPenalty=0.01, cardinalityPenalty=0, numSubdivsPenalty=0, levelPenalty=0)                  </td></tr>\n",
       "<tr><td style=\"text-align: right;\"> 0.1485</td><td>(7, 3)   </td><td>[«4C# 0:0.143 1/7♩», «4D 0.143:0.286 1/7♩», «4D# 0.286:0.429 1/7♩», «4E 0.429:0.5 1/14♩», «4F 0.5:0.667 1/6♩», «4F# 0.667:0.833 1/6♩», «4G 0.833:1 1/6♩»]                                                                                                                             </td><td>[0, 2, 4, 6, 7, 8, 9]   </td><td>gridError=0.149, rhythmComplexity=0 (numNotesAcrossSubdivs=0, numTies=0), divPenalty=0.02 (0.0002, divPenalty=0.02, cardinalityPenalty=0.1, numSubdivsPenalty=0, levelPenalty=0)                </td></tr>\n",
       "<tr><td style=\"text-align: right;\"> 0.1813</td><td>(6, 3)   </td><td>[«4C# 0:0.167 1/6♩», «4D 0.167:0.25 1/12♩», «4D# 0.25:0.417 1/6♩», «4E 0.417:0.5 1/12♩», «4F 0.5:0.667 1/6♩», «4F# 0.667:0.833 1/6♩», «4G 0.833:1 1/6♩»]                                                                                                                              </td><td>[0, 2, 3, 5, 6, 7, 8]   </td><td>gridError=0.181, rhythmComplexity=0 (numNotesAcrossSubdivs=0, numTies=0), divPenalty=0.01 (0.0001, divPenalty=0.01, cardinalityPenalty=0, numSubdivsPenalty=0, levelPenalty=0)                  </td></tr>\n",
       "<tr><td style=\"text-align: right;\"> 0.1814</td><td>(5, 3)   </td><td>[«4C# 0:0.1 1/10♩», «4D 0.1:0.3 1/5♩», «4D# 0.3:0.4 1/10♩», «4E 0.4:0.5 1/10♩», «4F 0.5:0.667 1/6♩», «4F# 0.667:0.833 1/6♩», «4G 0.833:1 1/6♩»]                                                                                                                                       </td><td>[0, 1, 3, 4, 5, 6, 7]   </td><td>gridError=0.181, rhythmComplexity=0 (numNotesAcrossSubdivs=0, numTies=0), divPenalty=0.02 (0.0002, divPenalty=0.02, cardinalityPenalty=0.1, numSubdivsPenalty=0, levelPenalty=0)                </td></tr>\n",
       "<tr><td style=\"text-align: right;\"> 0.2240</td><td>(7,)     </td><td>[«4C# 0:0.143 1/7♩», «4D 0.143:0.286 1/7♩», «4D# 0.286:0.429 1/7♩», «4E 0.429:0.571 1/7♩», «4F 0.571:0.714 1/7♩», «4F# 0.714:0.857 1/7♩», «4G 0.857:1 1/7♩»]                                                                                                                          </td><td>[0, 1, 2, 3, 4, 5, 6]   </td><td>gridError=0.224, rhythmComplexity=0 (numNotesAcrossSubdivs=0, numTies=0), divPenalty=0.02 (0.0002, divPenalty=0.02, cardinalityPenalty=0, numSubdivsPenalty=0, levelPenalty=0)                  </td></tr>\n",
       "<tr><td style=\"text-align: right;\"> 0.2515</td><td>(6,)     </td><td>[«4C# 0:0.167 1/6♩», «4D 0.167:0.333 1/6♩», «4D# 0.333:grace properties={&#x27;.snappedGracenote&#x27;: True, &#x27;originalDuration&#x27;: Fraction(2, 15)}», «4E 0.333:0.5 1/6♩», «4F 0.5:0.667 1/6♩», «4F# 0.667:0.833 1/6♩», «4G 0.833:1 1/6♩»]                                                       </td><td>[0, 1, 2, 2, 3, 4, 5]   </td><td>gridError=0.252, rhythmComplexity=0 (numNotesAcrossSubdivs=0, numTies=0), divPenalty=0.01 (0.0001, divPenalty=0.01, cardinalityPenalty=0, numSubdivsPenalty=0, levelPenalty=0)                  </td></tr>\n",
       "<tr><td style=\"text-align: right;\"> 0.3739</td><td>(5,)     </td><td>[«4C# 0:0.2 1/5♩», «4D 0.2:grace properties={&#x27;.snappedGracenote&#x27;: True, &#x27;originalDuration&#x27;: Fraction(2, 15)}», «4D# 0.2:0.4 1/5♩», «4E 0.4:0.6 1/5♩», «4F 0.6:grace properties={&#x27;.snappedGracenote&#x27;: True, &#x27;originalDuration&#x27;: Fraction(2, 15)}», «4F# 0.6:0.8 1/5♩», «4G 0.8:1 1/5♩»]</td><td>[0, 1, 1, 2, 3, 3, 4]   </td><td>gridError=0.374, rhythmComplexity=0 (numNotesAcrossSubdivs=0, numTies=0), divPenalty=0.02 (0.0002, divPenalty=0.02, cardinalityPenalty=0, numSubdivsPenalty=0, levelPenalty=0)                  </td></tr>\n",
       "</tbody>\n",
       "</table>"
      ],
      "text/plain": [
       "<IPython.core.display.HTML object>"
      ]
     },
     "metadata": {},
     "output_type": "display_data"
    },
    {
     "name": "stdout",
     "output_type": "stream",
     "text": [
      "Beat: 1 - 2 (dur: 1)\n",
      "Best 6 divisions: (quantized in 44.5ms)\n"
     ]
    },
    {
     "data": {
      "text/html": [
       "<table>\n",
       "<thead>\n",
       "<tr><th style=\"text-align: right;\">  error</th><th>div    </th><th>snapped                                                                                                                                                                                                  </th><th>slots                </th><th>info                                                                                                                                                                                    </th></tr>\n",
       "</thead>\n",
       "<tbody>\n",
       "<tr><td style=\"text-align: right;\"> 0.0372</td><td>(4, 11)</td><td>[«~4D 0:0.125 1/8♩», «4C 0.125:0.5 3/8♩», «4C# 0.5:0.636 3/22♩», «4D 0.636:0.773 3/22♩», «4D# 0.773:0.909 3/22♩», «4E~ 0.909:1 1/11♩»]                                                                   </td><td>[0, 1, 4, 7, 10, 13] </td><td>gridError=0.0358, rhythmComplexity=0 (numNotesAcrossSubdivs=0, numTies=0), divPenalty=0.1 (0.001005, divPenalty=0.1, cardinalityPenalty=0, numSubdivsPenalty=0, levelPenalty=0)         </td></tr>\n",
       "<tr><td style=\"text-align: right;\"> 0.0703</td><td>(7, 11)</td><td>[«~4D 0:0.143 1/7♩», «4C 0.143:0.5 5/14♩», «4C# 0.5:0.636 3/22♩», «4D 0.636:0.773 3/22♩», «4D# 0.773:0.909 3/22♩», «4E~ 0.909:1 1/11♩»]                                                                  </td><td>[0, 2, 7, 10, 13, 16]</td><td>gridError=0.0694, rhythmComplexity=0.149 (numNotesAcrossSubdivs=0, numTies=1), divPenalty=0.102 (0.00102, divPenalty=0.102, cardinalityPenalty=0.1, numSubdivsPenalty=0, levelPenalty=0)</td></tr>\n",
       "<tr><td style=\"text-align: right;\"> 0.0828</td><td>(5, 11)</td><td>[«~4D 0:0.1 1/10♩», «4C 0.1:0.5 2/5♩», «4C# 0.5:0.636 3/22♩», «4D 0.636:0.773 3/22♩», «4D# 0.773:0.909 3/22♩», «4E~ 0.909:1 1/11♩»]                                                                      </td><td>[0, 1, 5, 8, 11, 14] </td><td>gridError=0.0822, rhythmComplexity=0 (numNotesAcrossSubdivs=0, numTies=0), divPenalty=0.102 (0.00102, divPenalty=0.102, cardinalityPenalty=0.1, numSubdivsPenalty=0, levelPenalty=0)    </td></tr>\n",
       "<tr><td style=\"text-align: right;\"> 0.0847</td><td>(8,)   </td><td>[«~4D 0:0.125 1/8♩», «4C 0.125:0.5 3/8♩», «4C# 0.5:0.625 1/8♩», «4D 0.625:0.75 1/8♩», «4D# 0.75:0.875 1/8♩», «4E~ 0.875:1 1/8♩»]                                                                         </td><td>[0, 1, 4, 5, 6, 7]   </td><td>gridError=0.0847, rhythmComplexity=0 (numNotesAcrossSubdivs=0, numTies=0), divPenalty=0.01 (0.0001, divPenalty=0.01, cardinalityPenalty=0, numSubdivsPenalty=0, levelPenalty=0)         </td></tr>\n",
       "<tr><td style=\"text-align: right;\"> 0.2822</td><td>(6,)   </td><td>[«~4D 0:0.167 1/6♩», «4C 0.167:0.5 1/3♩», «4C# 0.5:0.667 1/6♩», «4D 0.667:0.833 1/6♩», «4D# 0.833:grace properties={&#x27;.snappedGracenote&#x27;: True, &#x27;originalDuration&#x27;: Fraction(2, 15)}», «4E~ 0.833:1 1/6♩»]</td><td>[0, 1, 3, 4, 5, 5]   </td><td>gridError=0.282, rhythmComplexity=0 (numNotesAcrossSubdivs=0, numTies=0), divPenalty=0.01 (0.0001, divPenalty=0.01, cardinalityPenalty=0, numSubdivsPenalty=0, levelPenalty=0)          </td></tr>\n",
       "<tr><td style=\"text-align: right;\"> 0.4758</td><td>(5,)   </td><td>[«~4D 0:0.2 1/5♩», «4C 0.2:0.4 1/5♩», «4C# 0.4:0.6 1/5♩», «4D 0.6:0.8 1/5♩», «4D# 0.8:grace properties={&#x27;.snappedGracenote&#x27;: True, &#x27;originalDuration&#x27;: Fraction(2, 15)}», «4E~ 0.8:1 1/5♩»]              </td><td>[0, 1, 2, 3, 4, 4]   </td><td>gridError=0.476, rhythmComplexity=0 (numNotesAcrossSubdivs=0, numTies=0), divPenalty=0.02 (0.0002, divPenalty=0.02, cardinalityPenalty=0, numSubdivsPenalty=0, levelPenalty=0)          </td></tr>\n",
       "</tbody>\n",
       "</table>"
      ],
      "text/plain": [
       "<IPython.core.display.HTML object>"
      ]
     },
     "metadata": {},
     "output_type": "display_data"
    },
    {
     "name": "stdout",
     "output_type": "stream",
     "text": [
      "Beat: 2 - 5/2 (dur: 1/2)\n",
      "Best 5 divisions: (quantized in 116.1ms)\n"
     ]
    },
    {
     "data": {
      "text/html": [
       "<table>\n",
       "<thead>\n",
       "<tr><th style=\"text-align: right;\">  error</th><th>div      </th><th>snapped                                                                                                                                                    </th><th>slots       </th><th>info                                                                                                                                                                               </th></tr>\n",
       "</thead>\n",
       "<tbody>\n",
       "<tr><td style=\"text-align: right;\"> 0.0396</td><td>(4, 1, 1)</td><td>[«~4E 0:0.042 1/24♩», «4F 0.042:0.167 1/8♩», «4F# 0.167:0.333 1/6♩», «4G 0.333:0.5 1/6♩»]                                                                  </td><td>[0, 1, 4, 5]</td><td>gridError=0.0395, rhythmComplexity=0 (numNotesAcrossSubdivs=0, numTies=0), divPenalty=0.01 (0.0001, divPenalty=0.01, cardinalityPenalty=0, numSubdivsPenalty=0, levelPenalty=0)    </td></tr>\n",
       "<tr><td style=\"text-align: right;\"> 0.0397</td><td>(6, 3)   </td><td>[«~4E 0:0.042 1/24♩», «4F 0.042:0.167 1/8♩», «4F# 0.167:0.333 1/6♩», «4G 0.333:0.5 1/6♩»]                                                                  </td><td>[0, 1, 4, 7]</td><td>gridError=0.0395, rhythmComplexity=0.112 (numNotesAcrossSubdivs=1, numTies=0), divPenalty=0.01 (0.0001, divPenalty=0.01, cardinalityPenalty=0, numSubdivsPenalty=0, levelPenalty=0)</td></tr>\n",
       "<tr><td style=\"text-align: right;\"> 0.0911</td><td>(9,)     </td><td>[«~4E 0:0.056 1/18♩», «4F 0.056:0.167 1/9♩», «4F# 0.167:0.333 1/6♩», «4G 0.333:0.5 1/6♩»]                                                                  </td><td>[0, 1, 3, 6]</td><td>gridError=0.091, rhythmComplexity=0 (numNotesAcrossSubdivs=0, numTies=0), divPenalty=0.04 (0.0004, divPenalty=0.04, cardinalityPenalty=0, numSubdivsPenalty=0, levelPenalty=0)     </td></tr>\n",
       "<tr><td style=\"text-align: right;\"> 0.1091</td><td>(3,)     </td><td>[«~4E 0:grace properties={&#x27;.snappedGracenote&#x27;: True, &#x27;originalDuration&#x27;: Fraction(1, 30)}», «4F 0:0.167 1/6♩», «4F# 0.167:0.333 1/6♩», «4G 0.333:0.5 1/6♩»]</td><td>[0, 0, 1, 2]</td><td>gridError=0.109, rhythmComplexity=0 (numNotesAcrossSubdivs=0, numTies=0), divPenalty=0 (0, divPenalty=0, cardinalityPenalty=0, numSubdivsPenalty=0, levelPenalty=0)                </td></tr>\n",
       "<tr><td style=\"text-align: right;\"> 0.3084</td><td>(5,)     </td><td>[«~4E 0:grace properties={&#x27;.snappedGracenote&#x27;: True, &#x27;originalDuration&#x27;: Fraction(1, 30)}», «4F 0:0.2 1/5♩», «4F# 0.2:0.3 1/10♩», «4G 0.3:0.5 1/5♩»]       </td><td>[0, 0, 2, 3]</td><td>gridError=0.308, rhythmComplexity=0 (numNotesAcrossSubdivs=0, numTies=0), divPenalty=0.02 (0.0002, divPenalty=0.02, cardinalityPenalty=0, numSubdivsPenalty=0, levelPenalty=0)     </td></tr>\n",
       "</tbody>\n",
       "</table>"
      ],
      "text/plain": [
       "<IPython.core.display.HTML object>"
      ]
     },
     "metadata": {},
     "output_type": "display_data"
    },
    {
     "name": "stdout",
     "output_type": "stream",
     "text": [
      "Error: 0.005091473908568057, division: [Fraction(1, 2), Fraction(1, 1)]\n",
      "Error: 0.056997939057074905, division: [Fraction(1, 1), Fraction(1, 2)]\n"
     ]
    },
    {
     "data": {
      "text/html": [
       "<b>LilypondRenderer</b> (1 part)<br>\n",
       "        <img style=\"display:inline; padding:10px;\n",
       "margin-top:14px;\n",
       "width:755px\"\n",
       "             src=\"data:image/png;base64,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\"/>"
      ],
      "text/plain": [
       "<maelzel.scoring.renderlily.LilypondRenderer at 0x7f15702e32d0>"
      ]
     },
     "execution_count": 2,
     "metadata": {},
     "output_type": "execute_result"
    }
   ],
   "source": [
    "from maelzel import scoring\n",
    "from maelzel.scorestruct import ScoreStruct\n",
    "from maelzel.common import F\n",
    "from maelzel.scoring import makeNote\n",
    "from maelzel.scoring import spanner \n",
    "\n",
    "notes = [\n",
    "    makeNote(62, F(3, 4)*F(1, 2)),\n",
    "    makeNote(60, F(3, 4)*F(1, 2)),\n",
    "    makeNote(62, F(3, 4)*F(1, 2)),\n",
    "    makeNote(60, F(3, 4)*F(1, 2)),\n",
    "    \n",
    "    makeNote(61, F(2, 3)*F(1, 5)),\n",
    "    makeNote(62, F(2, 3)*F(1, 5)),\n",
    "    makeNote(63, F(2, 3)*F(1, 5)),\n",
    "    makeNote(64, F(2, 3)*F(1, 5)),\n",
    "    makeNote(65, F(2, 3)*F(1, 5)),\n",
    "    makeNote(66, F(2, 3)*F(1, 4)),\n",
    "    makeNote(67, F(2, 3)*F(1, 4)), \n",
    "    \n",
    "]\n",
    "\n",
    "struct = ScoreStruct(timesig='7/8', tempo=52)\n",
    "struct = ScoreStruct(r'''\n",
    "7/8(2-3-2), 52\n",
    "7/8\n",
    "''')\n",
    "struct.dump()\n",
    "part = scoring.UnquantizedPart(notes)\n",
    "quantprofile = scoring.quant.QuantizationProfile.fromPreset('high', debug=True, debugMaxDivisions=20, maxDivPenalty=0.1)\n",
    "quantprofile.maxGridDensity = 32\n",
    "quantprofile.mergeTupletsOfDifferentDuration = True\n",
    "qpart = scoring.quant.quantizePart(part, struct=struct, quantprofile=quantprofile)\n",
    "options = scoring.render.RenderOptions()\n",
    "score = scoring.quant.QuantizedScore([qpart])\n",
    "r = scoring.render.renderQuantizedScore(score, options)\n",
    "r"
   ]
  },
  {
   "cell_type": "code",
   "execution_count": 3,
   "id": "486f546a-5b2d-4514-8c49-ad3b42a5b287",
   "metadata": {},
   "outputs": [
    {
     "name": "stdout",
     "output_type": "stream",
     "text": [
      "Beat: 0 - 1 (dur: 1)\n",
      "Best 5 divisions: (quantized in 9.1ms)\n"
     ]
    },
    {
     "data": {
      "text/html": [
       "<table>\n",
       "<thead>\n",
       "<tr><th style=\"text-align: right;\">  error</th><th>div      </th><th>snapped                                                        </th><th>slots    </th><th>info                                                                                                                                                                            </th></tr>\n",
       "</thead>\n",
       "<tbody>\n",
       "<tr><td style=\"text-align: right;\"> 0.0030</td><td>(1, 1, 3)</td><td>[«4C 0:0.667 2/3♩», «4C# 0.667:0.889 2/9♩», «4D~ 0.889:1 1/9♩»]</td><td>[0, 2, 4]</td><td>gridError=0, rhythmComplexity=0 (numNotesAcrossSubdivs=0, numTies=0), divPenalty=0.03 (0.0003, divPenalty=0, cardinalityPenalty=0, numSubdivsPenalty=0, levelPenalty=0.03)      </td></tr>\n",
       "<tr><td style=\"text-align: right;\"> 0.0040</td><td>(9,)     </td><td>[«4C 0:0.667 2/3♩», «4C# 0.667:0.889 2/9♩», «4D~ 0.889:1 1/9♩»]</td><td>[0, 6, 8]</td><td>gridError=0, rhythmComplexity=0 (numNotesAcrossSubdivs=0, numTies=0), divPenalty=0.04 (0.0004, divPenalty=0.04, cardinalityPenalty=0, numSubdivsPenalty=0, levelPenalty=0)      </td></tr>\n",
       "<tr><td style=\"text-align: right;\"> 0.1008</td><td>(8,)     </td><td>[«4C 0:0.625 5/8♩», «4C# 0.625:0.875 1/4♩», «4D~ 0.875:1 1/8♩»]</td><td>[0, 5, 7]</td><td>gridError=0.1, rhythmComplexity=0.298 (numNotesAcrossSubdivs=0, numTies=1), divPenalty=0.01 (0.0001, divPenalty=0.01, cardinalityPenalty=0, numSubdivsPenalty=0, levelPenalty=0)</td></tr>\n",
       "<tr><td style=\"text-align: right;\"> 0.1100</td><td>(6,)     </td><td>[«4C 0:0.667 2/3♩», «4C# 0.667:0.833 1/6♩», «4D~ 0.833:1 1/6♩»]</td><td>[0, 4, 5]</td><td>gridError=0.11, rhythmComplexity=0 (numNotesAcrossSubdivs=0, numTies=0), divPenalty=0.01 (0.0001, divPenalty=0.01, cardinalityPenalty=0, numSubdivsPenalty=0, levelPenalty=0)   </td></tr>\n",
       "<tr><td style=\"text-align: right;\"> 0.2270</td><td>(5,)     </td><td>[«4C 0:0.6 3/5♩», «4C# 0.6:0.8 1/5♩», «4D~ 0.8:1 1/5♩»]        </td><td>[0, 3, 4]</td><td>gridError=0.227, rhythmComplexity=0 (numNotesAcrossSubdivs=0, numTies=0), divPenalty=0.02 (0.0002, divPenalty=0.02, cardinalityPenalty=0, numSubdivsPenalty=0, levelPenalty=0)  </td></tr>\n",
       "</tbody>\n",
       "</table>"
      ],
      "text/plain": [
       "<IPython.core.display.HTML object>"
      ]
     },
     "metadata": {},
     "output_type": "display_data"
    },
    {
     "name": "stdout",
     "output_type": "stream",
     "text": [
      "Beat: 1 - 2 (dur: 1)\n",
      "Best 5 divisions: (quantized in 7.9ms)\n"
     ]
    },
    {
     "data": {
      "text/html": [
       "<table>\n",
       "<thead>\n",
       "<tr><th style=\"text-align: right;\">  error</th><th>div      </th><th>snapped                                                        </th><th>slots    </th><th>info                                                                                                                                                                            </th></tr>\n",
       "</thead>\n",
       "<tbody>\n",
       "<tr><td style=\"text-align: right;\"> 0.0030</td><td>(3, 1, 1)</td><td>[«~4D 0:0.111 1/9♩», «4D# 0.111:0.333 2/9♩», «4E 0.333:1 2/3♩»]</td><td>[0, 1, 3]</td><td>gridError=0, rhythmComplexity=0 (numNotesAcrossSubdivs=0, numTies=0), divPenalty=0.03 (0.0003, divPenalty=0, cardinalityPenalty=0, numSubdivsPenalty=0, levelPenalty=0.03)      </td></tr>\n",
       "<tr><td style=\"text-align: right;\"> 0.0040</td><td>(9,)     </td><td>[«~4D 0:0.111 1/9♩», «4D# 0.111:0.333 2/9♩», «4E 0.333:1 2/3♩»]</td><td>[0, 1, 3]</td><td>gridError=0, rhythmComplexity=0 (numNotesAcrossSubdivs=0, numTies=0), divPenalty=0.04 (0.0004, divPenalty=0.04, cardinalityPenalty=0, numSubdivsPenalty=0, levelPenalty=0)      </td></tr>\n",
       "<tr><td style=\"text-align: right;\"> 0.1008</td><td>(8,)     </td><td>[«~4D 0:0.125 1/8♩», «4D# 0.125:0.375 1/4♩», «4E 0.375:1 5/8♩»]</td><td>[0, 1, 3]</td><td>gridError=0.1, rhythmComplexity=0.298 (numNotesAcrossSubdivs=0, numTies=1), divPenalty=0.01 (0.0001, divPenalty=0.01, cardinalityPenalty=0, numSubdivsPenalty=0, levelPenalty=0)</td></tr>\n",
       "<tr><td style=\"text-align: right;\"> 0.1100</td><td>(6,)     </td><td>[«~4D 0:0.167 1/6♩», «4D# 0.167:0.333 1/6♩», «4E 0.333:1 2/3♩»]</td><td>[0, 1, 2]</td><td>gridError=0.11, rhythmComplexity=0 (numNotesAcrossSubdivs=0, numTies=0), divPenalty=0.01 (0.0001, divPenalty=0.01, cardinalityPenalty=0, numSubdivsPenalty=0, levelPenalty=0)   </td></tr>\n",
       "<tr><td style=\"text-align: right;\"> 0.2270</td><td>(5,)     </td><td>[«~4D 0:0.2 1/5♩», «4D# 0.2:0.4 1/5♩», «4E 0.4:1 3/5♩»]        </td><td>[0, 1, 2]</td><td>gridError=0.227, rhythmComplexity=0 (numNotesAcrossSubdivs=0, numTies=0), divPenalty=0.02 (0.0002, divPenalty=0.02, cardinalityPenalty=0, numSubdivsPenalty=0, levelPenalty=0)  </td></tr>\n",
       "</tbody>\n",
       "</table>"
      ],
      "text/plain": [
       "<IPython.core.display.HTML object>"
      ]
     },
     "metadata": {},
     "output_type": "display_data"
    },
    {
     "data": {
      "text/html": [
       "<b>LilypondRenderer</b> (1 part)<br>\n",
       "        <img style=\"display:inline; padding:10px;\n",
       "margin-top:14px;\n",
       "width:480px\"\n",
       "             src=\"data:image/png;base64,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\"/>"
      ],
      "text/plain": [
       "<maelzel.scoring.renderlily.LilypondRenderer at 0x7f157029cf10>"
      ]
     },
     "execution_count": 3,
     "metadata": {},
     "output_type": "execute_result"
    }
   ],
   "source": [
    "from maelzel import scoring\n",
    "from maelzel.scorestruct import ScoreStruct\n",
    "from maelzel.common import F\n",
    "from maelzel.scoring import makeNote\n",
    "from maelzel.scoring import spanner \n",
    "\n",
    "notes = [\n",
    "    makeNote(60, F(2, 3)),\n",
    "    makeNote(61, F(2, 9)),\n",
    "    makeNote(62, F(2, 9)),\n",
    "    makeNote(63, F(2, 9)),\n",
    "    makeNote(64, F(2, 3)),\n",
    "    \n",
    "]\n",
    "\n",
    "struct = ScoreStruct(timesig='3/4', tempo=52)\n",
    "\n",
    "part = scoring.UnquantizedPart(notes)\n",
    "quantprofile = scoring.quant.QuantizationProfile.fromPreset('high', debug=True, debugMaxDivisions=20, maxDivPenalty=0.1)\n",
    "quantprofile.maxGridDensity = 32\n",
    "quantprofile.mergeTupletsOfDifferentDuration = True\n",
    "qpart = scoring.quant.quantizePart(part, struct=struct, quantprofile=quantprofile)\n",
    "options = scoring.render.RenderOptions()\n",
    "score = scoring.quant.QuantizedScore([qpart])\n",
    "r = scoring.render.renderQuantizedScore(score, options)\n",
    "#score.dump()\n",
    "r# .write('~/tmp/quant.ly')"
   ]
  },
  {
   "cell_type": "code",
   "execution_count": 4,
   "id": "e60f673d-d3d7-48c8-8cf4-b6fec35c6677",
   "metadata": {},
   "outputs": [
    {
     "name": "stdout",
     "output_type": "stream",
     "text": [
      "Beat: 0 - 1 (dur: 1)\n",
      "Best 5 divisions: (quantized in 10.2ms)\n"
     ]
    },
    {
     "data": {
      "text/html": [
       "<table>\n",
       "<thead>\n",
       "<tr><th style=\"text-align: right;\">  error</th><th>div      </th><th>snapped                                                        </th><th>slots    </th><th>info                                                                                                                                                                            </th></tr>\n",
       "</thead>\n",
       "<tbody>\n",
       "<tr><td style=\"text-align: right;\"> 0.0030</td><td>(1, 1, 3)</td><td>[«4C 0:0.667 2/3♩», «4C# 0.667:0.889 2/9♩», «4D~ 0.889:1 1/9♩»]</td><td>[0, 2, 4]</td><td>gridError=0, rhythmComplexity=0 (numNotesAcrossSubdivs=0, numTies=0), divPenalty=0.03 (0.0003, divPenalty=0, cardinalityPenalty=0, numSubdivsPenalty=0, levelPenalty=0.03)      </td></tr>\n",
       "<tr><td style=\"text-align: right;\"> 0.0040</td><td>(9,)     </td><td>[«4C 0:0.667 2/3♩», «4C# 0.667:0.889 2/9♩», «4D~ 0.889:1 1/9♩»]</td><td>[0, 6, 8]</td><td>gridError=0, rhythmComplexity=0 (numNotesAcrossSubdivs=0, numTies=0), divPenalty=0.04 (0.0004, divPenalty=0.04, cardinalityPenalty=0, numSubdivsPenalty=0, levelPenalty=0)      </td></tr>\n",
       "<tr><td style=\"text-align: right;\"> 0.1008</td><td>(8,)     </td><td>[«4C 0:0.625 5/8♩», «4C# 0.625:0.875 1/4♩», «4D~ 0.875:1 1/8♩»]</td><td>[0, 5, 7]</td><td>gridError=0.1, rhythmComplexity=0.298 (numNotesAcrossSubdivs=0, numTies=1), divPenalty=0.01 (0.0001, divPenalty=0.01, cardinalityPenalty=0, numSubdivsPenalty=0, levelPenalty=0)</td></tr>\n",
       "<tr><td style=\"text-align: right;\"> 0.1100</td><td>(6,)     </td><td>[«4C 0:0.667 2/3♩», «4C# 0.667:0.833 1/6♩», «4D~ 0.833:1 1/6♩»]</td><td>[0, 4, 5]</td><td>gridError=0.11, rhythmComplexity=0 (numNotesAcrossSubdivs=0, numTies=0), divPenalty=0.01 (0.0001, divPenalty=0.01, cardinalityPenalty=0, numSubdivsPenalty=0, levelPenalty=0)   </td></tr>\n",
       "<tr><td style=\"text-align: right;\"> 0.2270</td><td>(5,)     </td><td>[«4C 0:0.6 3/5♩», «4C# 0.6:0.8 1/5♩», «4D~ 0.8:1 1/5♩»]        </td><td>[0, 3, 4]</td><td>gridError=0.227, rhythmComplexity=0 (numNotesAcrossSubdivs=0, numTies=0), divPenalty=0.02 (0.0002, divPenalty=0.02, cardinalityPenalty=0, numSubdivsPenalty=0, levelPenalty=0)  </td></tr>\n",
       "</tbody>\n",
       "</table>"
      ],
      "text/plain": [
       "<IPython.core.display.HTML object>"
      ]
     },
     "metadata": {},
     "output_type": "display_data"
    },
    {
     "name": "stdout",
     "output_type": "stream",
     "text": [
      "Beat: 1 - 2 (dur: 1)\n",
      "Best 5 divisions: (quantized in 7.7ms)\n"
     ]
    },
    {
     "data": {
      "text/html": [
       "<table>\n",
       "<thead>\n",
       "<tr><th style=\"text-align: right;\">  error</th><th>div      </th><th>snapped                                                                                                                                                     </th><th>slots       </th><th>info                                                                                                                                                                              </th></tr>\n",
       "</thead>\n",
       "<tbody>\n",
       "<tr><td style=\"text-align: right;\"> 0.0030</td><td>(3, 1, 1)</td><td>[«~4D 0:0.111 1/9♩», «4D# 0.111:0.222 1/9♩», «4E 0.222:0.333 1/9♩», «4F 0.333:1 2/3♩»]                                                                      </td><td>[0, 1, 2, 3]</td><td>gridError=0, rhythmComplexity=0 (numNotesAcrossSubdivs=0, numTies=0), divPenalty=0.03 (0.0003, divPenalty=0, cardinalityPenalty=0, numSubdivsPenalty=0, levelPenalty=0.03)        </td></tr>\n",
       "<tr><td style=\"text-align: right;\"> 0.0040</td><td>(9,)     </td><td>[«~4D 0:0.111 1/9♩», «4D# 0.111:0.222 1/9♩», «4E 0.222:0.333 1/9♩», «4F 0.333:1 2/3♩»]                                                                      </td><td>[0, 1, 2, 3]</td><td>gridError=0, rhythmComplexity=0 (numNotesAcrossSubdivs=0, numTies=0), divPenalty=0.04 (0.0004, divPenalty=0.04, cardinalityPenalty=0, numSubdivsPenalty=0, levelPenalty=0)        </td></tr>\n",
       "<tr><td style=\"text-align: right;\"> 0.1309</td><td>(8,)     </td><td>[«~4D 0:0.125 1/8♩», «4D# 0.125:0.25 1/8♩», «4E 0.25:0.375 1/8♩», «4F 0.375:1 5/8♩»]                                                                        </td><td>[0, 1, 2, 3]</td><td>gridError=0.131, rhythmComplexity=0.224 (numNotesAcrossSubdivs=0, numTies=1), divPenalty=0.01 (0.0001, divPenalty=0.01, cardinalityPenalty=0, numSubdivsPenalty=0, levelPenalty=0)</td></tr>\n",
       "<tr><td style=\"text-align: right;\"> 0.1641</td><td>(6,)     </td><td>[«~4D 0:0.167 1/6♩», «4D# 0.167:grace properties={&#x27;.snappedGracenote&#x27;: True, &#x27;originalDuration&#x27;: Fraction(1, 9)}», «4E 0.167:0.333 1/6♩», «4F 0.333:1 2/3♩»]</td><td>[0, 1, 1, 2]</td><td>gridError=0.164, rhythmComplexity=0 (numNotesAcrossSubdivs=0, numTies=0), divPenalty=0.01 (0.0001, divPenalty=0.01, cardinalityPenalty=0, numSubdivsPenalty=0, levelPenalty=0)    </td></tr>\n",
       "<tr><td style=\"text-align: right;\"> 0.2514</td><td>(5,)     </td><td>[«~4D 0:0.2 1/5♩», «4D# 0.2:grace properties={&#x27;.snappedGracenote&#x27;: True, &#x27;originalDuration&#x27;: Fraction(1, 9)}», «4E 0.2:0.4 1/5♩», «4F 0.4:1 3/5♩»]          </td><td>[0, 1, 1, 2]</td><td>gridError=0.251, rhythmComplexity=0 (numNotesAcrossSubdivs=0, numTies=0), divPenalty=0.02 (0.0002, divPenalty=0.02, cardinalityPenalty=0, numSubdivsPenalty=0, levelPenalty=0)    </td></tr>\n",
       "</tbody>\n",
       "</table>"
      ],
      "text/plain": [
       "<IPython.core.display.HTML object>"
      ]
     },
     "metadata": {},
     "output_type": "display_data"
    },
    {
     "data": {
      "text/html": [
       "<b>LilypondRenderer</b> (1 part)<br>\n",
       "        <img style=\"display:inline; padding:10px;\n",
       "margin-top:14px;\n",
       "width:524px\"\n",
       "             src=\"data:image/png;base64,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\"/>"
      ],
      "text/plain": [
       "<maelzel.scoring.renderlily.LilypondRenderer at 0x7f15c8220650>"
      ]
     },
     "execution_count": 4,
     "metadata": {},
     "output_type": "execute_result"
    }
   ],
   "source": [
    "from maelzel import scoring\n",
    "from maelzel.scorestruct import ScoreStruct\n",
    "from maelzel.common import F\n",
    "from maelzel.scoring import makeNote\n",
    "from maelzel.scoring import spanner \n",
    "\n",
    "notes = [\n",
    "    makeNote(60, F(2, 3)),\n",
    "    makeNote(61, F(2, 9)),\n",
    "    makeNote(62, F(2, 9)),\n",
    "    makeNote(63, F(1, 9)),\n",
    "    makeNote(64, F(1, 9)),\n",
    "    \n",
    "    makeNote(65, F(2, 3)),\n",
    "    \n",
    "]\n",
    "\n",
    "struct = ScoreStruct(timesig='3/4', tempo=52)\n",
    "\n",
    "part = scoring.UnquantizedPart(notes)\n",
    "quantprofile = scoring.quant.QuantizationProfile.fromPreset('high', debug=True, debugMaxDivisions=20, maxDivPenalty=0.1)\n",
    "quantprofile.maxGridDensity = 32\n",
    "quantprofile.mergeTupletsOfDifferentDuration = True\n",
    "qpart = scoring.quant.quantizePart(part, struct=struct, quantprofile=quantprofile)\n",
    "options = scoring.render.RenderOptions()\n",
    "score = scoring.quant.QuantizedScore([qpart])\n",
    "r = scoring.render.renderQuantizedScore(score, options)\n",
    "#score.dump()\n",
    "r# .write('~/tmp/quant.ly')"
   ]
  },
  {
   "cell_type": "code",
   "execution_count": 5,
   "id": "5d304887-fdfe-4def-963c-3226f7bd1280",
   "metadata": {},
   "outputs": [
    {
     "name": "stdout",
     "output_type": "stream",
     "text": [
      "Beat: 0 - 1 (dur: 1)\n",
      "Best 2 divisions: (quantized in 600.8µs)\n"
     ]
    },
    {
     "data": {
      "text/html": [
       "<table>\n",
       "<thead>\n",
       "<tr><th style=\"text-align: right;\">  error</th><th>div  </th><th>snapped                                 </th><th>slots  </th><th>info                                                                                                                                                                          </th></tr>\n",
       "</thead>\n",
       "<tbody>\n",
       "<tr><td style=\"text-align: right;\"> 0.0000</td><td>(3,) </td><td>[«rest 0:0.333 1/3♩», «4C 0.333:1 2/3♩»]</td><td>[0, 1] </td><td>gridError=0, rhythmComplexity=0 (numNotesAcrossSubdivs=0, numTies=0), divPenalty=0 (0, divPenalty=0, cardinalityPenalty=0, numSubdivsPenalty=0, levelPenalty=0)               </td></tr>\n",
       "<tr><td style=\"text-align: right;\"> 0.1285</td><td>(5,) </td><td>[«rest 0:0.4 2/5♩», «4C 0.4:1 3/5♩»]    </td><td>[0, 2] </td><td>gridError=0.128, rhythmComplexity=0 (numNotesAcrossSubdivs=0, numTies=0), divPenalty=0.02 (0.0002, divPenalty=0.02, cardinalityPenalty=0, numSubdivsPenalty=0, levelPenalty=0)</td></tr>\n",
       "</tbody>\n",
       "</table>"
      ],
      "text/plain": [
       "<IPython.core.display.HTML object>"
      ]
     },
     "metadata": {},
     "output_type": "display_data"
    },
    {
     "name": "stdout",
     "output_type": "stream",
     "text": [
      "Beat: 1 - 2 (dur: 1)\n",
      "Best 5 divisions: (quantized in 8.8ms)\n"
     ]
    },
    {
     "data": {
      "text/html": [
       "<table>\n",
       "<thead>\n",
       "<tr><th style=\"text-align: right;\">  error</th><th>div      </th><th>snapped                                                        </th><th>slots    </th><th>info                                                                                                                                                                            </th></tr>\n",
       "</thead>\n",
       "<tbody>\n",
       "<tr><td style=\"text-align: right;\"> 0.0030</td><td>(1, 1, 3)</td><td>[«4C# 0:0.667 2/3♩», «4D 0.667:0.889 2/9♩», «4D# 0.889:1 1/9♩»]</td><td>[0, 2, 4]</td><td>gridError=0, rhythmComplexity=0 (numNotesAcrossSubdivs=0, numTies=0), divPenalty=0.03 (0.0003, divPenalty=0, cardinalityPenalty=0, numSubdivsPenalty=0, levelPenalty=0.03)      </td></tr>\n",
       "<tr><td style=\"text-align: right;\"> 0.0040</td><td>(9,)     </td><td>[«4C# 0:0.667 2/3♩», «4D 0.667:0.889 2/9♩», «4D# 0.889:1 1/9♩»]</td><td>[0, 6, 8]</td><td>gridError=0, rhythmComplexity=0 (numNotesAcrossSubdivs=0, numTies=0), divPenalty=0.04 (0.0004, divPenalty=0.04, cardinalityPenalty=0, numSubdivsPenalty=0, levelPenalty=0)      </td></tr>\n",
       "<tr><td style=\"text-align: right;\"> 0.1008</td><td>(8,)     </td><td>[«4C# 0:0.625 5/8♩», «4D 0.625:0.875 1/4♩», «4D# 0.875:1 1/8♩»]</td><td>[0, 5, 7]</td><td>gridError=0.1, rhythmComplexity=0.298 (numNotesAcrossSubdivs=0, numTies=1), divPenalty=0.01 (0.0001, divPenalty=0.01, cardinalityPenalty=0, numSubdivsPenalty=0, levelPenalty=0)</td></tr>\n",
       "<tr><td style=\"text-align: right;\"> 0.1100</td><td>(6,)     </td><td>[«4C# 0:0.667 2/3♩», «4D 0.667:0.833 1/6♩», «4D# 0.833:1 1/6♩»]</td><td>[0, 4, 5]</td><td>gridError=0.11, rhythmComplexity=0 (numNotesAcrossSubdivs=0, numTies=0), divPenalty=0.01 (0.0001, divPenalty=0.01, cardinalityPenalty=0, numSubdivsPenalty=0, levelPenalty=0)   </td></tr>\n",
       "<tr><td style=\"text-align: right;\"> 0.2270</td><td>(5,)     </td><td>[«4C# 0:0.6 3/5♩», «4D 0.6:0.8 1/5♩», «4D# 0.8:1 1/5♩»]        </td><td>[0, 3, 4]</td><td>gridError=0.227, rhythmComplexity=0 (numNotesAcrossSubdivs=0, numTies=0), divPenalty=0.02 (0.0002, divPenalty=0.02, cardinalityPenalty=0, numSubdivsPenalty=0, levelPenalty=0)  </td></tr>\n",
       "</tbody>\n",
       "</table>"
      ],
      "text/plain": [
       "<IPython.core.display.HTML object>"
      ]
     },
     "metadata": {},
     "output_type": "display_data"
    },
    {
     "name": "stdout",
     "output_type": "stream",
     "text": [
      "Beat: 2 - 3 (dur: 1)\n",
      "Best 5 divisions: (quantized in 6.4ms)\n"
     ]
    },
    {
     "data": {
      "text/html": [
       "<table>\n",
       "<thead>\n",
       "<tr><th style=\"text-align: right;\">  error</th><th>div  </th><th>snapped                                 </th><th>slots  </th><th>info                                                                                                                                                                               </th></tr>\n",
       "</thead>\n",
       "<tbody>\n",
       "<tr><td style=\"text-align: right;\"> 0.0040</td><td>(9,) </td><td>[«4E 0:0.111 1/9♩», «rest 0.111:1 8/9♩»]</td><td>[0, 1] </td><td>gridError=0, rhythmComplexity=0 (numNotesAcrossSubdivs=0, numTies=0), divPenalty=0.04 (0.0004, divPenalty=0.04, cardinalityPenalty=0, numSubdivsPenalty=0, levelPenalty=0)         </td></tr>\n",
       "<tr><td style=\"text-align: right;\"> 0.0270</td><td>(8,) </td><td>[«4E 0:0.125 1/8♩», «rest 0.125:1 7/8♩»]</td><td>[0, 1] </td><td>gridError=0.0269, rhythmComplexity=0 (numNotesAcrossSubdivs=0, numTies=0), divPenalty=0.01 (0.0001, divPenalty=0.01, cardinalityPenalty=0, numSubdivsPenalty=0, levelPenalty=0)    </td></tr>\n",
       "<tr><td style=\"text-align: right;\"> 0.0544</td><td>(7,) </td><td>[«4E 0:0.143 1/7♩», «rest 0.143:1 6/7♩»]</td><td>[0, 1] </td><td>gridError=0.0544, rhythmComplexity=0 (numNotesAcrossSubdivs=0, numTies=0), divPenalty=0.02 (0.0002, divPenalty=0.02, cardinalityPenalty=0, numSubdivsPenalty=0, levelPenalty=0)    </td></tr>\n",
       "<tr><td style=\"text-align: right;\"> 0.0886</td><td>(6,) </td><td>[«4E 0:0.167 1/6♩», «rest 0.167:1 5/6♩»]</td><td>[0, 1] </td><td>gridError=0.0875, rhythmComplexity=0.447 (numNotesAcrossSubdivs=0, numTies=1), divPenalty=0.01 (0.0001, divPenalty=0.01, cardinalityPenalty=0, numSubdivsPenalty=0, levelPenalty=0)</td></tr>\n",
       "<tr><td style=\"text-align: right;\"> 0.1305</td><td>(5,) </td><td>[«4E 0:0.2 1/5♩», «rest 0.2:1 4/5♩»]    </td><td>[0, 1] </td><td>gridError=0.13, rhythmComplexity=0 (numNotesAcrossSubdivs=0, numTies=0), divPenalty=0.02 (0.0002, divPenalty=0.02, cardinalityPenalty=0, numSubdivsPenalty=0, levelPenalty=0)      </td></tr>\n",
       "</tbody>\n",
       "</table>"
      ],
      "text/plain": [
       "<IPython.core.display.HTML object>"
      ]
     },
     "metadata": {},
     "output_type": "display_data"
    },
    {
     "data": {
      "text/html": [
       "<b>LilypondRenderer</b> (1 part)<br>\n",
       "        <img style=\"display:inline; padding:10px;\n",
       "margin-top:14px;\n",
       "width:526px\"\n",
       "             src=\"data:image/png;base64,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\"/>"
      ],
      "text/plain": [
       "<maelzel.scoring.renderlily.LilypondRenderer at 0x7f15c4032810>"
      ]
     },
     "execution_count": 5,
     "metadata": {},
     "output_type": "execute_result"
    }
   ],
   "source": [
    "from maelzel import scoring\n",
    "from maelzel.scorestruct import ScoreStruct\n",
    "from maelzel.common import F\n",
    "from maelzel.scoring import makeNote\n",
    "from maelzel.scoring import spanner \n",
    "\n",
    "notes = [\n",
    "    makeNote(60, F(2, 3), offset=F(1, 3)),\n",
    "    makeNote(61, F(2, 3)),\n",
    "    makeNote(62, F(2, 9)),\n",
    "    makeNote(63, F(1, 9)),\n",
    "    makeNote(64, F(1, 9)),\n",
    "    \n",
    "    \n",
    "]\n",
    "\n",
    "struct = ScoreStruct(timesig='3/4', tempo=52)\n",
    "\n",
    "part = scoring.UnquantizedPart(notes)\n",
    "quantprofile = scoring.quant.QuantizationProfile.fromPreset('high', debug=True, debugMaxDivisions=20, maxDivPenalty=0.1)\n",
    "#quantprofile.maxGridDensity = 32\n",
    "#quantprofile.mergeTupletsOfDifferentDuration = True\n",
    "qpart = scoring.quant.quantizePart(part, struct=struct, quantprofile=quantprofile)\n",
    "options = scoring.render.RenderOptions()\n",
    "score = scoring.quant.QuantizedScore([qpart])\n",
    "r = scoring.render.renderQuantizedScore(score, options)\n",
    "#score.dump()\n",
    "r# .write('~/tmp/quant.ly')"
   ]
  },
  {
   "cell_type": "code",
   "execution_count": null,
   "id": "98054ef7-2ab4-4732-93c1-d2feb062f569",
   "metadata": {},
   "outputs": [],
   "source": []
  }
 ],
 "metadata": {
  "kernelspec": {
   "display_name": "Python 3 (ipykernel)",
   "language": "python",
   "name": "python3"
  },
  "language_info": {
   "codemirror_mode": {
    "name": "ipython",
    "version": 3
   },
   "file_extension": ".py",
   "mimetype": "text/x-python",
   "name": "python",
   "nbconvert_exporter": "python",
   "pygments_lexer": "ipython3",
   "version": "3.11.4"
  }
 },
 "nbformat": 4,
 "nbformat_minor": 5
}
