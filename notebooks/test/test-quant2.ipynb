{
 "cells": [
  {
   "cell_type": "code",
   "execution_count": 1,
   "id": "1b5028ca-b904-445b-8b58-3b40c3f2e9c2",
   "metadata": {},
   "outputs": [],
   "source": [
    "from maelzel.core import *\n",
    "from maelzel.music import lilytools\n",
    "import logging\n",
    "logging.getLogger(\"maelzel\").setLevel(\"DEBUG\")"
   ]
  },
  {
   "cell_type": "code",
   "execution_count": 2,
   "id": "15e183e7-eba4-4bba-b98b-e024472ccd99",
   "metadata": {},
   "outputs": [
    {
     "name": "stderr",
     "output_type": "stream",
     "text": [
      "[maelzel.core:mobj.py:1755:resetImageCache:INFO] Resetting image cache\n"
     ]
    }
   ],
   "source": [
    "cfg = getConfig()\n",
    "cfg['.quant.debug'] = True\n",
    "cfg['quant.nestedTuplets'] = True\n"
   ]
  },
  {
   "cell_type": "code",
   "execution_count": 3,
   "id": "46be2d56-5b17-48c5-a51c-c0eb31591c46",
   "metadata": {},
   "outputs": [
    {
     "name": "stdout",
     "output_type": "stream",
     "text": [
      "Beat: 0 - 1/2 (dur: 1/2)\n",
      "Best 2 divisions: (quantized in 351.7µs)\n"
     ]
    },
    {
     "data": {
      "text/html": [
       "<table>\n",
       "<thead>\n",
       "<tr><th style=\"text-align: right;\">  error</th><th>div  </th><th>snapped                                   </th><th>slots  </th><th>info                                                                                                                                                                          </th></tr>\n",
       "</thead>\n",
       "<tbody>\n",
       "<tr><td style=\"text-align: right;\"> 0.0000</td><td>(3,) </td><td>[«4C# 0:0.333 1/3♩», «4D~ 0.333:0.5 1/6♩»]</td><td>[0, 2] </td><td>gridError=0, rhythmComplexity=0 (numNotesAcrossSubdivs=0, numTies=0), divPenalty=0 (0, divPenalty=0, cardinalityPenalty=0, numSubdivsPenalty=0, levelPenalty=0)               </td></tr>\n",
       "<tr><td style=\"text-align: right;\"> 0.1636</td><td>(5,) </td><td>[«4C# 0:0.3 3/10♩», «4D~ 0.3:0.5 1/5♩»]   </td><td>[0, 3] </td><td>gridError=0.164, rhythmComplexity=0 (numNotesAcrossSubdivs=0, numTies=0), divPenalty=0.02 (0.0002, divPenalty=0.02, cardinalityPenalty=0, numSubdivsPenalty=0, levelPenalty=0)</td></tr>\n",
       "</tbody>\n",
       "</table>"
      ],
      "text/plain": [
       "<IPython.core.display.HTML object>"
      ]
     },
     "metadata": {},
     "output_type": "display_data"
    },
    {
     "name": "stdout",
     "output_type": "stream",
     "text": [
      "Beat: 1/2 - 1 (dur: 1/2)\n",
      "Best 2 divisions: (quantized in 332.6µs)\n"
     ]
    },
    {
     "data": {
      "text/html": [
       "<table>\n",
       "<thead>\n",
       "<tr><th style=\"text-align: right;\">  error</th><th>div  </th><th>snapped                                  </th><th>slots  </th><th>info                                                                                                                                                                          </th></tr>\n",
       "</thead>\n",
       "<tbody>\n",
       "<tr><td style=\"text-align: right;\"> 0.0000</td><td>(3,) </td><td>[«~4D 0:0.167 1/6♩», «4E 0.167:0.5 1/3♩»]</td><td>[0, 1] </td><td>gridError=0, rhythmComplexity=0 (numNotesAcrossSubdivs=0, numTies=0), divPenalty=0 (0, divPenalty=0, cardinalityPenalty=0, numSubdivsPenalty=0, levelPenalty=0)               </td></tr>\n",
       "<tr><td style=\"text-align: right;\"> 0.1636</td><td>(5,) </td><td>[«~4D 0:0.2 1/5♩», «4E 0.2:0.5 3/10♩»]   </td><td>[0, 2] </td><td>gridError=0.164, rhythmComplexity=0 (numNotesAcrossSubdivs=0, numTies=0), divPenalty=0.02 (0.0002, divPenalty=0.02, cardinalityPenalty=0, numSubdivsPenalty=0, levelPenalty=0)</td></tr>\n",
       "</tbody>\n",
       "</table>"
      ],
      "text/plain": [
       "<IPython.core.display.HTML object>"
      ]
     },
     "metadata": {},
     "output_type": "display_data"
    },
    {
     "name": "stderr",
     "output_type": "stream",
     "text": [
      "[maelzel.scoring:quant.py:1654:_mergeSiblings:DEBUG] Nodes can merge: \n",
      "    Node(3/2, \n",
      "  «4C# 0:0.333 1/3♩ 3/2»\n",
      "  «4D~ 0.333:0.5 1/6♩ 3/2»\n",
      ")\n",
      "    Node(3/2, \n",
      "  «~4D 0.5:0.667 1/6♩ 3/2»\n",
      "  «4E 0.667:1 1/3♩ 3/2»\n",
      ")\n",
      "[maelzel.scoring:quant.py:1657:_mergeSiblings:DEBUG] ---- Merged node:\n",
      "    Node(3/2, \n",
      "  «4C# 0:0.333 1/3♩ 3/2»\n",
      "  «4D 0.333:0.667 1/3♩ 3/2»\n",
      "  «4E 0.667:1 1/3♩ 3/2»\n",
      ")\n",
      "DEBUG:maelzel:findLilypond: searching via shutil.which\n",
      "DEBUG:maelzel:... found! lilypond path: /home/em/.local/bin/lilypond\n",
      "[maelzel.scoring:renderlily.py:1116:write:DEBUG] Rendering lilypond '/tmp/tmplwxhe1ip.ly' to '/tmp/tmplwxhe1ip.png'\n",
      "DEBUG:maelzel:Rendering lilypond '/tmp/tmplwxhe1ip.ly' to '/tmp/tmplwxhe1ip.png'\n",
      "DEBUG:maelzel:Calling lilypond subprocess: ['/home/em/.local/bin/lilypond', '--png', '-o', '/tmp/tmplwxhe1ip', '-dresolution=200', '/tmp/tmpzz9536ry.ly']\n",
      "DEBUG:maelzel:lilypond executed OK\n",
      "DEBUG:maelzel:stderr: \n",
      "DEBUG:maelzel: Changing working directory to: `/tmp'\n",
      " Processing `/tmp/tmpzz9536ry.ly'\n",
      " Parsing...\n",
      " Interpreting music...\n",
      " Preprocessing graphical objects...\n",
      " Finding the ideal number of pages...\n",
      " Fitting music on 1 page...\n",
      " Drawing systems...\n",
      " Converting to PNG...\n",
      " Layout output to `tmplwxhe1ip.cropped.eps'...\n",
      " Converting to PNG...\n",
      " Success: compilation successfully completed\n",
      "\n",
      "[maelzel.scoring:renderlily.py:1129:write:DEBUG] Found crop file /tmp/tmplwxhe1ip.cropped.png, using that as output\n"
     ]
    },
    {
     "data": {
      "image/png": "[encoded data removed]",
      "text/plain": [
       "<IPython.core.display.Image object>"
      ]
     },
     "metadata": {
      "image/png": {
       "width": 164.25
      }
     },
     "output_type": "display_data"
    }
   ],
   "source": [
    "v1 = Voice([\n",
    "    Note(\"4C#\", F(1, 3)),\n",
    "    Note(\"4D\", F(1, 3)),\n",
    "    Note(\"4E\", F(1, 3)),\n",
    "])\n",
    "\n",
    "with ScoreStruct(timesig=(4, 16)):\n",
    "    v1.show()"
   ]
  },
  {
   "cell_type": "code",
   "execution_count": 4,
   "id": "30a2567c-b519-4e26-87b6-70018bee5188",
   "metadata": {},
   "outputs": [
    {
     "name": "stderr",
     "output_type": "stream",
     "text": [
      "[maelzel.scoring:quant.py:1341:quantizeMeasure:DEBUG] Measure 4/4 is not filled (events=[«4C 0:0.111 1/9♩», «4C# 0.111:0.222 1/9♩», «4D 0.222:0.333 1/9♩», «4D# 0.333:0.444 1/9♩», «4E 0.444:0.556 1/9♩», «4F 0.556:0.667 1/9♩», «4F# 0.667:0.778 1/9♩», «4G 0.778:0.889 1/9♩», «4G# 0.889:1 1/9♩», «4A 1:1.111 1/9♩», «4A# 1.111:1.222 1/9♩», «4B 1.222:1.333 1/9♩»]). Filling gaps with silences\n",
      "[maelzel.scoring:quant.py:919:quantizeBeatBinary:DEBUG] Skipping (9, 6), divPenalty=0.0509902 * 0.1 > minError=0.005\n",
      "[maelzel.scoring:quant.py:919:quantizeBeatBinary:DEBUG] Skipping (6, 9), divPenalty=0.0509902 * 0.1 > minError=0.005\n",
      "[maelzel.scoring:quant.py:919:quantizeBeatBinary:DEBUG] Skipping (8, 9), divPenalty=0.0509902 * 0.1 > minError=0.005\n",
      "[maelzel.scoring:quant.py:919:quantizeBeatBinary:DEBUG] Skipping (9, 8), divPenalty=0.0509902 * 0.1 > minError=0.005\n"
     ]
    },
    {
     "name": "stdout",
     "output_type": "stream",
     "text": [
      "Beat: 0 - 1 (dur: 1)\n",
      "Best 6 divisions: (quantized in 62.8ms)\n"
     ]
    },
    {
     "data": {
      "text/html": [
       "<table>\n",
       "<thead>\n",
       "<tr><th style=\"text-align: right;\">  error</th><th>div      </th><th>snapped                                                                                                                                                                                                                                                                                                                                                                                                                                                                    </th><th>slots                      </th><th>info                                                                                                                                                                          </th></tr>\n",
       "</thead>\n",
       "<tbody>\n",
       "<tr><td style=\"text-align: right;\"> 0.0030</td><td>(3, 3, 3)</td><td>[«4C 0:0.111 1/9♩», «4C# 0.111:0.222 1/9♩», «4D 0.222:0.333 1/9♩», «4D# 0.333:0.444 1/9♩», «4E 0.444:0.556 1/9♩», «4F 0.556:0.667 1/9♩», «4F# 0.667:0.778 1/9♩», «4G 0.778:0.889 1/9♩», «4G# 0.889:1 1/9♩»]                                                                                                                                                                                                                                                                </td><td>[0, 1, 2, 3, 4, 5, 6, 7, 8]</td><td>gridError=0, rhythmComplexity=0 (numNotesAcrossSubdivs=0, numTies=0), divPenalty=0.03 (0.0003, divPenalty=0, cardinalityPenalty=0, numSubdivsPenalty=0, levelPenalty=0.03)    </td></tr>\n",
       "<tr><td style=\"text-align: right;\"> 0.0050</td><td>(9,)     </td><td>[«4C 0:0.111 1/9♩», «4C# 0.111:0.222 1/9♩», «4D 0.222:0.333 1/9♩», «4D# 0.333:0.444 1/9♩», «4E 0.444:0.556 1/9♩», «4F 0.556:0.667 1/9♩», «4F# 0.667:0.778 1/9♩», «4G 0.778:0.889 1/9♩», «4G# 0.889:1 1/9♩»]                                                                                                                                                                                                                                                                </td><td>[0, 1, 2, 3, 4, 5, 6, 7, 8]</td><td>gridError=0, rhythmComplexity=0 (numNotesAcrossSubdivs=0, numTies=0), divPenalty=0.05 (0.0005, divPenalty=0.05, cardinalityPenalty=0, numSubdivsPenalty=0, levelPenalty=0)    </td></tr>\n",
       "<tr><td style=\"text-align: right;\"> 0.3685</td><td>(8,)     </td><td>[«4C 0:0.125 1/8♩», «4C# 0.125:0.25 1/8♩», «4D 0.25:0.375 1/8♩», «4D# 0.375:0.5 1/8♩», «4E 0.5:grace properties={&#x27;.snappedGracenote&#x27;: True, &#x27;originalDuration&#x27;: Fraction(1, 9)}», «4F 0.5:0.625 1/8♩», «4F# 0.625:0.75 1/8♩», «4G 0.75:0.875 1/8♩», «4G# 0.875:1 1/8♩»]                                                                                                                                                                                                    </td><td>[0, 1, 2, 3, 4, 4, 5, 6, 7]</td><td>gridError=0.368, rhythmComplexity=0 (numNotesAcrossSubdivs=0, numTies=0), divPenalty=0.01 (0.0001, divPenalty=0.01, cardinalityPenalty=0, numSubdivsPenalty=0, levelPenalty=0)</td></tr>\n",
       "<tr><td style=\"text-align: right;\"> 0.4182</td><td>(7,)     </td><td>[«4C 0:0.143 1/7♩», «4C# 0.143:0.286 1/7♩», «4D 0.286:grace properties={&#x27;.snappedGracenote&#x27;: True, &#x27;originalDuration&#x27;: Fraction(1, 9)}», «4D# 0.286:0.429 1/7♩», «4E 0.429:0.571 1/7♩», «4F 0.571:0.714 1/7♩», «4F# 0.714:grace properties={&#x27;.snappedGracenote&#x27;: True, &#x27;originalDuration&#x27;: Fraction(1, 9)}», «4G 0.714:0.857 1/7♩», «4G# 0.857:1 1/7♩»]                                                                                                                    </td><td>[0, 1, 2, 2, 3, 4, 5, 5, 6]</td><td>gridError=0.418, rhythmComplexity=0 (numNotesAcrossSubdivs=0, numTies=0), divPenalty=0.02 (0.0002, divPenalty=0.02, cardinalityPenalty=0, numSubdivsPenalty=0, levelPenalty=0)</td></tr>\n",
       "<tr><td style=\"text-align: right;\"> 0.4628</td><td>(6,)     </td><td>[«4C 0:0.167 1/6♩», «4C# 0.167:grace properties={&#x27;.snappedGracenote&#x27;: True, &#x27;originalDuration&#x27;: Fraction(1, 9)}», «4D 0.167:0.333 1/6♩», «4D# 0.333:0.5 1/6♩», «4E 0.5:grace properties={&#x27;.snappedGracenote&#x27;: True, &#x27;originalDuration&#x27;: Fraction(1, 9)}», «4F 0.5:0.667 1/6♩», «4F# 0.667:0.833 1/6♩», «4G 0.833:grace properties={&#x27;.snappedGracenote&#x27;: True, &#x27;originalDuration&#x27;: Fraction(1, 9)}», «4G# 0.833:1 1/6♩»]                                                    </td><td>[0, 1, 1, 2, 3, 3, 4, 5, 5]</td><td>gridError=0.463, rhythmComplexity=0 (numNotesAcrossSubdivs=0, numTies=0), divPenalty=0.01 (0.0001, divPenalty=0.01, cardinalityPenalty=0, numSubdivsPenalty=0, levelPenalty=0)</td></tr>\n",
       "<tr><td style=\"text-align: right;\"> 0.5742</td><td>(5,)     </td><td>[«4C 0:0.2 1/5♩», «4C# 0.2:grace properties={&#x27;.snappedGracenote&#x27;: True, &#x27;originalDuration&#x27;: Fraction(1, 9)}», «4D 0.2:0.4 1/5♩», «4D# 0.4:grace properties={&#x27;.snappedGracenote&#x27;: True, &#x27;originalDuration&#x27;: Fraction(1, 9)}», «4E 0.4:0.6 1/5♩», «4F 0.6:grace properties={&#x27;.snappedGracenote&#x27;: True, &#x27;originalDuration&#x27;: Fraction(1, 9)}», «4F# 0.6:0.8 1/5♩», «4G 0.8:grace properties={&#x27;.snappedGracenote&#x27;: True, &#x27;originalDuration&#x27;: Fraction(1, 9)}», «4G# 0.8:1 1/5♩»]</td><td>[0, 1, 1, 2, 2, 3, 3, 4, 4]</td><td>gridError=0.574, rhythmComplexity=0 (numNotesAcrossSubdivs=0, numTies=0), divPenalty=0.02 (0.0002, divPenalty=0.02, cardinalityPenalty=0, numSubdivsPenalty=0, levelPenalty=0)</td></tr>\n",
       "</tbody>\n",
       "</table>"
      ],
      "text/plain": [
       "<IPython.core.display.HTML object>"
      ]
     },
     "metadata": {},
     "output_type": "display_data"
    },
    {
     "name": "stderr",
     "output_type": "stream",
     "text": [
      "[maelzel.scoring:quant.py:928:quantizeBeatBinary:DEBUG] Skipping (7,), gridError=0.20659307755092535 * 1.0 > minError=0.2030273816864749\n",
      "[maelzel.scoring:quant.py:919:quantizeBeatBinary:DEBUG] Skipping (9, 1), divPenalty=0.05 * 0.1 > minError=0.005\n"
     ]
    },
    {
     "name": "stdout",
     "output_type": "stream",
     "text": [
      "Beat: 1 - 2 (dur: 1)\n",
      "Best 5 divisions: (quantized in 13.9ms)\n"
     ]
    },
    {
     "data": {
      "text/html": [
       "<table>\n",
       "<thead>\n",
       "<tr><th style=\"text-align: right;\">  error</th><th>div      </th><th>snapped                                                                                                                                                      </th><th>slots       </th><th>info                                                                                                                                                                             </th></tr>\n",
       "</thead>\n",
       "<tbody>\n",
       "<tr><td style=\"text-align: right;\"> 0.0030</td><td>(3, 1, 1)</td><td>[«4A 0:0.111 1/9♩», «4A# 0.111:0.222 1/9♩», «4B 0.222:0.333 1/9♩», «rest 0.333:1 2/3♩»]                                                                      </td><td>[0, 1, 2, 3]</td><td>gridError=0, rhythmComplexity=0 (numNotesAcrossSubdivs=0, numTies=0), divPenalty=0.03 (0.0003, divPenalty=0, cardinalityPenalty=0, numSubdivsPenalty=0, levelPenalty=0.03)       </td></tr>\n",
       "<tr><td style=\"text-align: right;\"> 0.0050</td><td>(9,)     </td><td>[«4A 0:0.111 1/9♩», «4A# 0.111:0.222 1/9♩», «4B 0.222:0.333 1/9♩», «rest 0.333:1 2/3♩»]                                                                      </td><td>[0, 1, 2, 3]</td><td>gridError=0, rhythmComplexity=0 (numNotesAcrossSubdivs=0, numTies=0), divPenalty=0.05 (0.0005, divPenalty=0.05, cardinalityPenalty=0, numSubdivsPenalty=0, levelPenalty=0)       </td></tr>\n",
       "<tr><td style=\"text-align: right;\"> 0.1403</td><td>(8,)     </td><td>[«4A 0:0.125 1/8♩», «4A# 0.125:0.25 1/8♩», «4B 0.25:0.375 1/8♩», «rest 0.375:1 5/8♩»]                                                                        </td><td>[0, 1, 2, 3]</td><td>gridError=0.14, rhythmComplexity=0.224 (numNotesAcrossSubdivs=0, numTies=1), divPenalty=0.01 (0.0001, divPenalty=0.01, cardinalityPenalty=0, numSubdivsPenalty=0, levelPenalty=0)</td></tr>\n",
       "<tr><td style=\"text-align: right;\"> 0.2030</td><td>(6,)     </td><td>[«4A 0:0.167 1/6♩», «4A# 0.167:grace properties={&#x27;.snappedGracenote&#x27;: True, &#x27;originalDuration&#x27;: Fraction(1, 9)}», «4B 0.167:0.333 1/6♩», «rest 0.333:1 2/3♩»]</td><td>[0, 1, 1, 2]</td><td>gridError=0.203, rhythmComplexity=0 (numNotesAcrossSubdivs=0, numTies=0), divPenalty=0.01 (0.0001, divPenalty=0.01, cardinalityPenalty=0, numSubdivsPenalty=0, levelPenalty=0)   </td></tr>\n",
       "<tr><td style=\"text-align: right;\"> 0.2719</td><td>(5,)     </td><td>[«4A 0:0.2 1/5♩», «4A# 0.2:grace properties={&#x27;.snappedGracenote&#x27;: True, &#x27;originalDuration&#x27;: Fraction(1, 9)}», «4B 0.2:0.4 1/5♩», «rest 0.4:1 3/5♩»]          </td><td>[0, 1, 1, 2]</td><td>gridError=0.272, rhythmComplexity=0 (numNotesAcrossSubdivs=0, numTies=0), divPenalty=0.02 (0.0002, divPenalty=0.02, cardinalityPenalty=0, numSubdivsPenalty=0, levelPenalty=0)   </td></tr>\n",
       "</tbody>\n",
       "</table>"
      ],
      "text/plain": [
       "<IPython.core.display.HTML object>"
      ]
     },
     "metadata": {},
     "output_type": "display_data"
    },
    {
     "name": "stderr",
     "output_type": "stream",
     "text": [
      "[maelzel.scoring:quant.py:1660:_mergeSiblings:DEBUG] Nodes cannot merge: \n",
      "Node(3/2, \n",
      "  «4C 0:0.111 1/9♩ 3/2,3/2»\n",
      "  «4C# 0.111:0.222 1/9♩ 3/2,3/2»\n",
      "  «4D 0.222:0.333 1/9♩ 3/2,3/2»\n",
      ")\n",
      "Node(3/2, \n",
      "  «4D# 0.333:0.444 1/9♩ 3/2,3/2»\n",
      "  «4E 0.444:0.556 1/9♩ 3/2,3/2»\n",
      "  «4F 0.556:0.667 1/9♩ 3/2,3/2»\n",
      ")\n",
      "----> Merging these tuplets is not needed\n",
      "[maelzel.scoring:quant.py:1660:_mergeSiblings:DEBUG] Nodes cannot merge: \n",
      "Node(3/2, \n",
      "  «4D# 0.333:0.444 1/9♩ 3/2,3/2»\n",
      "  «4E 0.444:0.556 1/9♩ 3/2,3/2»\n",
      "  «4F 0.556:0.667 1/9♩ 3/2,3/2»\n",
      ")\n",
      "Node(3/2, \n",
      "  «4F# 0.667:0.778 1/9♩ 3/2,3/2»\n",
      "  «4G 0.778:0.889 1/9♩ 3/2,3/2»\n",
      "  «4G# 0.889:1 1/9♩ 3/2,3/2»\n",
      ")\n",
      "----> Merging these tuplets is not needed\n",
      "[maelzel.scoring:quant.py:1660:_mergeSiblings:DEBUG] Nodes cannot merge: \n",
      "Node(3/2, \n",
      "  Node(3/2, \n",
      "    «4C 0:0.111 1/9♩ 3/2,3/2»\n",
      "    «4C# 0.111:0.222 1/9♩ 3/2,3/2»\n",
      "    «4D 0.222:0.333 1/9♩ 3/2,3/2»\n",
      "  )\n",
      "  Node(3/2, \n",
      "    «4D# 0.333:0.444 1/9♩ 3/2,3/2»\n",
      "    «4E 0.444:0.556 1/9♩ 3/2,3/2»\n",
      "    «4F 0.556:0.667 1/9♩ 3/2,3/2»\n",
      "  )\n",
      "  Node(3/2, \n",
      "    «4F# 0.667:0.778 1/9♩ 3/2,3/2»\n",
      "    «4G 0.778:0.889 1/9♩ 3/2,3/2»\n",
      "    «4G# 0.889:1 1/9♩ 3/2,3/2»\n",
      "  )\n",
      ")\n",
      "Node(3/2, \n",
      "  Node(3/2, \n",
      "    «4A 1:1.111 1/9♩ 3/2,3/2»\n",
      "    «4A# 1.111:1.222 1/9♩ 3/2,3/2»\n",
      "    «4B 1.222:1.333 1/9♩ 3/2,3/2»\n",
      "  )\n",
      "  «rest 1.333:2 2/3♩ 3/2»\n",
      ")\n",
      "----> no need to extend node over beat\n",
      "[maelzel.scoring:quant.py:1654:_mergeSiblings:DEBUG] Nodes can merge: \n",
      "    Node(1/1, \n",
      "  «rest 2:3 1♩»\n",
      ")\n",
      "    Node(1/1, \n",
      "  «rest 3:4 1♩»\n",
      ")\n",
      "[maelzel.scoring:quant.py:1657:_mergeSiblings:DEBUG] ---- Merged node:\n",
      "    Node(1/1, \n",
      "  «rest 2:4 2♩»\n",
      ")\n",
      "[maelzel.scoring:node.py:685:_splitUnnecessaryNodes:DEBUG] Did not split node Node(1/1, \n",
      "  Node(3/2, \n",
      "    Node(3/2, \n",
      "      «4C 0:0.111 1/9♩ 3/2,3/2»\n",
      "      «4C# 0.111:0.222 1/9♩ 3/2,3/2»\n",
      "      «4D 0.222:0.333 1/9♩ 3/2,3/2»\n",
      "    )\n",
      "    Node(3/2, \n",
      "      «4D# 0.333:0.444 1/9♩ 3/2,3/2»\n",
      "      «4E 0.444:0.556 1/9♩ 3/2,3/2»\n",
      "      «4F 0.556:0.667 1/9♩ 3/2,3/2»\n",
      "    )\n",
      "    Node(3/2, \n",
      "      «4F# 0.667:0.778 1/9♩ 3/2,3/2»\n",
      "      «4G 0.778:0.889 1/9♩ 3/2,3/2»\n",
      "      «4G# 0.889:1 1/9♩ 3/2,3/2»\n",
      "    )\n",
      "  )\n",
      "  Node(3/2, \n",
      "    Node(3/2, \n",
      "      «4A 1:1.111 1/9♩ 3/2,3/2»\n",
      "      «4A# 1.111:1.222 1/9♩ 3/2,3/2»\n",
      "      «4B 1.222:1.333 1/9♩ 3/2,3/2»\n",
      "    )\n",
      "    «rest 1.333:2 2/3♩ 3/2»\n",
      "  )\n",
      "  Node(1/1, \n",
      "    «rest 2:4 2♩»\n",
      "  )\n",
      ") at 3\n",
      "[maelzel.scoring:renderlily.py:1116:write:DEBUG] Rendering lilypond '/tmp/tmpvgbztl1s.ly' to '/tmp/tmpvgbztl1s.png'\n",
      "DEBUG:maelzel:Rendering lilypond '/tmp/tmpvgbztl1s.ly' to '/tmp/tmpvgbztl1s.png'\n",
      "DEBUG:maelzel:Calling lilypond subprocess: ['/home/em/.local/bin/lilypond', '--png', '-o', '/tmp/tmpvgbztl1s', '-dresolution=200', '/tmp/tmptiq1didh.ly']\n",
      "DEBUG:maelzel:lilypond executed OK\n",
      "DEBUG:maelzel:stderr: \n",
      "DEBUG:maelzel: Changing working directory to: `/tmp'\n",
      " Processing `/tmp/tmptiq1didh.ly'\n",
      " Parsing...\n",
      " Interpreting music...\n",
      " Preprocessing graphical objects...\n",
      " Finding the ideal number of pages...\n",
      " Fitting music on 1 page...\n",
      " Drawing systems...\n",
      " Converting to PNG...\n",
      " Layout output to `tmpvgbztl1s.cropped.eps'...\n",
      " Converting to PNG...\n",
      " Success: compilation successfully completed\n",
      "\n",
      "[maelzel.scoring:renderlily.py:1129:write:DEBUG] Found crop file /tmp/tmpvgbztl1s.cropped.png, using that as output\n"
     ]
    },
    {
     "data": {
      "image/png": "[encoded data removed]",
      "text/plain": [
       "<IPython.core.display.Image object>"
      ]
     },
     "metadata": {
      "image/png": {
       "width": 452.25
      }
     },
     "output_type": "display_data"
    }
   ],
   "source": [
    "v1 = Voice([Note(m, F(1, 9)) for m in range(60, 72)])\n",
    "v1.show()"
   ]
  },
  {
   "cell_type": "markdown",
   "id": "6bde69ec-3628-4988-b7bc-944020ef3e93",
   "metadata": {},
   "source": [
    "El resultado deberia ser el siguiente"
   ]
  },
  {
   "cell_type": "code",
   "execution_count": 5,
   "id": "eef9687a-f0d4-421a-ba77-eea650ab5bf5",
   "metadata": {},
   "outputs": [
    {
     "name": "stderr",
     "output_type": "stream",
     "text": [
      "DEBUG:maelzel:Rendering lilypond '/tmp/tmph4ukvvd2.ly' to '/tmp/tmpb1sejjvd.png'\n",
      "DEBUG:maelzel:Calling lilypond subprocess: ['/home/em/.local/bin/lilypond', '--png', '-o', '/tmp/tmpb1sejjvd', '/tmp/tmpul73p0dr.ly']\n",
      "DEBUG:maelzel:lilypond executed OK\n",
      "DEBUG:maelzel:stderr: \n",
      "DEBUG:maelzel: Changing working directory to: `/tmp'\n",
      " Processing `/tmp/tmpul73p0dr.ly'\n",
      " Parsing...\n",
      " /tmp/tmpul73p0dr.ly:1: warning: no \\version statement found, please add\n",
      "\n",
      " \\version \"2.25.11\"\n",
      "\n",
      " for future compatibility\n",
      " Interpreting music...\n",
      " Preprocessing graphical objects...\n",
      " Finding the ideal number of pages...\n",
      " Fitting music on 1 page...\n",
      " Drawing systems...\n",
      " Converting to PNG...\n",
      " Success: compilation successfully completed\n",
      "\n"
     ]
    },
    {
     "data": {
      "image/png": "[encoded data removed]",
      "text/plain": [
       "<IPython.core.display.Image object>"
      ]
     },
     "metadata": {
      "image/png": {
       "width": 228
      }
     },
     "output_type": "display_data"
    }
   ],
   "source": [
    "from maelzel.music import lilytools\n",
    "lilytools.show(r\"\\tuplet 3/2 { cis'4 d'4 \\tuplet 3/2 { e'8 f'8 g'8} } r2\")\n"
   ]
  },
  {
   "cell_type": "code",
   "execution_count": 6,
   "id": "32529e68-7f19-4f77-8d75-59acbb064f6c",
   "metadata": {
    "tags": []
   },
   "outputs": [
    {
     "name": "stderr",
     "output_type": "stream",
     "text": [
      "[maelzel.scoring:quant.py:1341:quantizeMeasure:DEBUG] Measure 4/4 is not filled (events=[«4C# 0:0.667 2/3♩», «4D 0.667:1.333 2/3♩», «4E 1.333:1.556 2/9♩», «4F 1.556:1.778 2/9♩», «4G 1.778:2 2/9♩»]). Filling gaps with silences\n"
     ]
    },
    {
     "name": "stdout",
     "output_type": "stream",
     "text": [
      "Beat: 0 - 1 (dur: 1)\n",
      "Best 2 divisions: (quantized in 548.4µs)\n"
     ]
    },
    {
     "data": {
      "text/html": [
       "<table>\n",
       "<thead>\n",
       "<tr><th style=\"text-align: right;\">  error</th><th>div  </th><th>snapped                                 </th><th>slots  </th><th>info                                                                                                                                                                          </th></tr>\n",
       "</thead>\n",
       "<tbody>\n",
       "<tr><td style=\"text-align: right;\"> 0.0000</td><td>(3,) </td><td>[«4C# 0:0.667 2/3♩», «4D~ 0.667:1 1/3♩»]</td><td>[0, 2] </td><td>gridError=0, rhythmComplexity=0 (numNotesAcrossSubdivs=0, numTies=0), divPenalty=0 (0, divPenalty=0, cardinalityPenalty=0, numSubdivsPenalty=0, levelPenalty=0)               </td></tr>\n",
       "<tr><td style=\"text-align: right;\"> 0.1636</td><td>(5,) </td><td>[«4C# 0:0.6 3/5♩», «4D~ 0.6:1 2/5♩»]    </td><td>[0, 3] </td><td>gridError=0.164, rhythmComplexity=0 (numNotesAcrossSubdivs=0, numTies=0), divPenalty=0.02 (0.0002, divPenalty=0.02, cardinalityPenalty=0, numSubdivsPenalty=0, levelPenalty=0)</td></tr>\n",
       "</tbody>\n",
       "</table>"
      ],
      "text/plain": [
       "<IPython.core.display.HTML object>"
      ]
     },
     "metadata": {},
     "output_type": "display_data"
    },
    {
     "name": "stderr",
     "output_type": "stream",
     "text": [
      "[maelzel.scoring:quant.py:928:quantizeBeatBinary:DEBUG] Skipping (6,), gridError=0.23990831879010924 * 1.0 > minError=0.23627217518696303\n",
      "[maelzel.scoring:quant.py:928:quantizeBeatBinary:DEBUG] Skipping (8,), gridError=0.24376132565106126 * 1.0 > minError=0.23627217518696303\n",
      "[maelzel.scoring:quant.py:919:quantizeBeatBinary:DEBUG] Skipping (3, 9), divPenalty=0.05 * 0.1 > minError=0.005\n",
      "[maelzel.scoring:quant.py:919:quantizeBeatBinary:DEBUG] Skipping (8, 9), divPenalty=0.0509902 * 0.1 > minError=0.005\n"
     ]
    },
    {
     "name": "stdout",
     "output_type": "stream",
     "text": [
      "Beat: 1 - 2 (dur: 1)\n",
      "Best 3 divisions: (quantized in 36.1ms)\n"
     ]
    },
    {
     "data": {
      "text/html": [
       "<table>\n",
       "<thead>\n",
       "<tr><th style=\"text-align: right;\">  error</th><th>div      </th><th>snapped                                                                              </th><th>slots       </th><th>info                                                                                                                                                                          </th></tr>\n",
       "</thead>\n",
       "<tbody>\n",
       "<tr><td style=\"text-align: right;\"> 0.0046</td><td>(1, 3, 3)</td><td>[«~4D 0:0.333 1/3♩», «4E 0.333:0.556 2/9♩», «4F 0.556:0.778 2/9♩», «4G 0.778:1 2/9♩»]</td><td>[0, 1, 3, 5]</td><td>gridError=0, rhythmComplexity=0.112 (numNotesAcrossSubdivs=1, numTies=0), divPenalty=0.03 (0.0003, divPenalty=0, cardinalityPenalty=0, numSubdivsPenalty=0, levelPenalty=0.03)</td></tr>\n",
       "<tr><td style=\"text-align: right;\"> 0.0050</td><td>(9,)     </td><td>[«~4D 0:0.333 1/3♩», «4E 0.333:0.556 2/9♩», «4F 0.556:0.778 2/9♩», «4G 0.778:1 2/9♩»]</td><td>[0, 3, 5, 7]</td><td>gridError=0, rhythmComplexity=0 (numNotesAcrossSubdivs=0, numTies=0), divPenalty=0.05 (0.0005, divPenalty=0.05, cardinalityPenalty=0, numSubdivsPenalty=0, levelPenalty=0)    </td></tr>\n",
       "<tr><td style=\"text-align: right;\"> 0.2363</td><td>(5,)     </td><td>[«~4D 0:0.4 2/5♩», «4E 0.4:0.6 1/5♩», «4F 0.6:0.8 1/5♩», «4G 0.8:1 1/5♩»]            </td><td>[0, 2, 3, 4]</td><td>gridError=0.236, rhythmComplexity=0 (numNotesAcrossSubdivs=0, numTies=0), divPenalty=0.02 (0.0002, divPenalty=0.02, cardinalityPenalty=0, numSubdivsPenalty=0, levelPenalty=0)</td></tr>\n",
       "</tbody>\n",
       "</table>"
      ],
      "text/plain": [
       "<IPython.core.display.HTML object>"
      ]
     },
     "metadata": {},
     "output_type": "display_data"
    },
    {
     "name": "stderr",
     "output_type": "stream",
     "text": [
      "[maelzel.scoring:quant.py:1654:_mergeSiblings:DEBUG] Nodes can merge: \n",
      "    Node(3/2, \n",
      "  «4E 1.333:1.556 2/9♩ 3/2,3/2»\n",
      "  «4F~ 1.556:1.667 1/9♩ 3/2,3/2»\n",
      ")\n",
      "    Node(3/2, \n",
      "  «~4F 1.667:1.778 1/9♩ 3/2,3/2»\n",
      "  «4G 1.778:2 2/9♩ 3/2,3/2»\n",
      ")\n",
      "[maelzel.scoring:quant.py:1657:_mergeSiblings:DEBUG] ---- Merged node:\n",
      "    Node(3/2, \n",
      "  «4E 1.333:1.556 2/9♩ 3/2,3/2»\n",
      "  «4F 1.556:1.778 2/9♩ 3/2,3/2»\n",
      "  «4G 1.778:2 2/9♩ 3/2,3/2»\n",
      ")\n",
      "[maelzel.scoring:quant.py:1654:_mergeSiblings:DEBUG] Nodes can merge: \n",
      "    Node(3/2, \n",
      "  «4C# 0:0.667 2/3♩ 3/2»\n",
      "  «4D~ 0.667:1 1/3♩ 3/2»\n",
      ")\n",
      "    Node(3/2, \n",
      "  «~4D 1:1.333 1/3♩ 3/2»\n",
      "  Node(3/2, \n",
      "    «4E 1.333:1.556 2/9♩ 3/2,3/2»\n",
      "    «4F 1.556:1.778 2/9♩ 3/2,3/2»\n",
      "    «4G 1.778:2 2/9♩ 3/2,3/2»\n",
      "  )\n",
      ")\n",
      "[maelzel.scoring:quant.py:1657:_mergeSiblings:DEBUG] ---- Merged node:\n",
      "    Node(3/2, \n",
      "  «4C# 0:0.667 2/3♩ 3/2»\n",
      "  «4D 0.667:1.333 2/3♩ 3/2»\n",
      "  Node(3/2, \n",
      "    «4E 1.333:1.556 2/9♩ 3/2,3/2»\n",
      "    «4F 1.556:1.778 2/9♩ 3/2,3/2»\n",
      "    «4G 1.778:2 2/9♩ 3/2,3/2»\n",
      "  )\n",
      ")\n",
      "[maelzel.scoring:quant.py:1654:_mergeSiblings:DEBUG] Nodes can merge: \n",
      "    Node(1/1, \n",
      "  «rest 2:3 1♩»\n",
      ")\n",
      "    Node(1/1, \n",
      "  «rest 3:4 1♩»\n",
      ")\n",
      "[maelzel.scoring:quant.py:1657:_mergeSiblings:DEBUG] ---- Merged node:\n",
      "    Node(1/1, \n",
      "  «rest 2:4 2♩»\n",
      ")\n",
      "[maelzel.scoring:node.py:685:_splitUnnecessaryNodes:DEBUG] Did not split node Node(1/1, \n",
      "  Node(3/2, \n",
      "    «4C# 0:0.667 2/3♩ 3/2»\n",
      "    «4D 0.667:1.333 2/3♩ 3/2»\n",
      "    Node(3/2, \n",
      "      «4E 1.333:1.556 2/9♩ 3/2,3/2»\n",
      "      «4F 1.556:1.778 2/9♩ 3/2,3/2»\n",
      "      «4G 1.778:2 2/9♩ 3/2,3/2»\n",
      "    )\n",
      "  )\n",
      "  Node(1/1, \n",
      "    «rest 2:4 2♩»\n",
      "  )\n",
      ") at 1\n",
      "[maelzel.scoring:node.py:685:_splitUnnecessaryNodes:DEBUG] Did not split node Node(1/1, \n",
      "  Node(3/2, \n",
      "    «4C# 0:0.667 2/3♩ 3/2»\n",
      "    «4D 0.667:1.333 2/3♩ 3/2»\n",
      "    Node(3/2, \n",
      "      «4E 1.333:1.556 2/9♩ 3/2,3/2»\n",
      "      «4F 1.556:1.778 2/9♩ 3/2,3/2»\n",
      "      «4G 1.778:2 2/9♩ 3/2,3/2»\n",
      "    )\n",
      "  )\n",
      "  Node(1/1, \n",
      "    «rest 2:4 2♩»\n",
      "  )\n",
      ") at 3\n",
      "[maelzel.scoring:renderlily.py:1116:write:DEBUG] Rendering lilypond '/tmp/tmp1y80b_s2.ly' to '/tmp/tmp1y80b_s2.png'\n",
      "DEBUG:maelzel:Rendering lilypond '/tmp/tmp1y80b_s2.ly' to '/tmp/tmp1y80b_s2.png'\n",
      "DEBUG:maelzel:Calling lilypond subprocess: ['/home/em/.local/bin/lilypond', '--png', '-o', '/tmp/tmp1y80b_s2', '-dresolution=200', '/tmp/tmp7otcvhiz.ly']\n",
      "DEBUG:maelzel:lilypond executed OK\n",
      "DEBUG:maelzel:stderr: \n",
      "DEBUG:maelzel: Changing working directory to: `/tmp'\n",
      " Processing `/tmp/tmp7otcvhiz.ly'\n",
      " Parsing...\n",
      " Interpreting music...\n",
      " Preprocessing graphical objects...\n",
      " Finding the ideal number of pages...\n",
      " Fitting music on 1 page...\n",
      " Drawing systems...\n",
      " Converting to PNG...\n",
      " Layout output to `tmp1y80b_s2.cropped.eps'...\n",
      " Converting to PNG...\n",
      " Success: compilation successfully completed\n",
      "\n",
      "[maelzel.scoring:renderlily.py:1129:write:DEBUG] Found crop file /tmp/tmp1y80b_s2.cropped.png, using that as output\n"
     ]
    },
    {
     "data": {
      "text/html": [
       "<code style=\"white-space: pre-line; font-size:0.9em;\">Voice([<span style=\"color:#6666E0\">4C#:0.667♩</span>, <span style=\"color:#6666E0\">4D:0.667♩</span>, <span style=\"color:#6666E0\">4E:0.222♩</span>, <span style=\"color:#6666E0\">4F:0.222♩</span>, <span style=\"color:#6666E0\">4G:0.222♩</span>], dur=2, offset=0)</code><br>\n",
       "        <img style=\"display:inline; padding:10px;\n",
       "margin-top:14px;\n",
       "width:262px\"\n",
       "             src=\"data:image/png;base64,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\"/>"
      ],
      "text/plain": [
       "Voice([4C#:0.667♩, 4D:0.667♩, 4E:0.222♩, 4F:0.222♩, 4G:0.222♩], offset=0)"
      ]
     },
     "execution_count": 6,
     "metadata": {},
     "output_type": "execute_result"
    }
   ],
   "source": [
    "from maelzel.core import *\n",
    "\n",
    "v1 = Voice([\n",
    "    Note(\"4C#\", F(2, 3)),\n",
    "    Note(\"4D\", F(2, 3)),\n",
    "    Note(\"4E\", F(2, 3)*F(1, 3)),\n",
    "    Note(\"4F\", F(2, 3)*F(1, 3)),\n",
    "    Note(\"4G\", F(2, 3)*F(1, 3)),\n",
    "])\n",
    "v1"
   ]
  },
  {
   "cell_type": "code",
   "execution_count": 7,
   "id": "5f2b05eb-b11d-41e7-87e4-6a653fd3937b",
   "metadata": {},
   "outputs": [
    {
     "name": "stderr",
     "output_type": "stream",
     "text": [
      "DEBUG:maelzel:Rendering lilypond '/tmp/tmpkf_ky3ue.ly' to '/tmp/tmpwo0m2wez.png'\n",
      "DEBUG:maelzel:Calling lilypond subprocess: ['/home/em/.local/bin/lilypond', '--png', '-o', '/tmp/tmpwo0m2wez', '/tmp/tmpjy71riqf.ly']\n",
      "DEBUG:maelzel:lilypond executed OK\n",
      "DEBUG:maelzel:stderr: \n",
      "DEBUG:maelzel: Changing working directory to: `/tmp'\n",
      " Processing `/tmp/tmpjy71riqf.ly'\n",
      " Parsing...\n",
      " /tmp/tmpjy71riqf.ly:1: warning: no \\version statement found, please add\n",
      "\n",
      " \\version \"2.25.11\"\n",
      "\n",
      " for future compatibility\n",
      " Interpreting music...\n",
      " Preprocessing graphical objects...\n",
      " Finding the ideal number of pages...\n",
      " Fitting music on 1 page...\n",
      " Drawing systems...\n",
      " Converting to PNG...\n",
      " Success: compilation successfully completed\n",
      "\n"
     ]
    },
    {
     "data": {
      "image/png": "[encoded data removed]",
      "text/plain": [
       "<IPython.core.display.Image object>"
      ]
     },
     "metadata": {
      "image/png": {
       "width": 228
      }
     },
     "output_type": "display_data"
    }
   ],
   "source": [
    "from maelzel.music import lilytools\n",
    "lilytools.show(r\"\\tuplet 3/2 { cis'4 \\tuplet 3/2 { e'8 f'8 g'8} d'4  } r2\")\n"
   ]
  },
  {
   "cell_type": "code",
   "execution_count": 9,
   "id": "17adb5f4-de3d-4bcd-a827-8d27767ef060",
   "metadata": {},
   "outputs": [
    {
     "data": {
      "text/html": [
       "<code style=\"white-space: pre-line; font-size:0.9em;\">Voice([<span style=\"color:#6666E0\">4C#:0.667♩</span>, <span style=\"color:#6666E0\">4E:0.222♩</span>, <span style=\"color:#6666E0\">4F:0.222♩</span>, <span style=\"color:#6666E0\">4G:0.222♩</span>, <span style=\"color:#6666E0\">4D:0.667♩</span>], dur=2, offset=0)</code><br>\n",
       "        <img style=\"display:inline; padding:10px;\n",
       "margin-top:14px;\n",
       "width:329px\"\n",
       "             src=\"data:image/png;base64,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\"/>"
      ],
      "text/plain": [
       "Voice([4C#:0.667♩, 4E:0.222♩, 4F:0.222♩, 4G:0.222♩, 4D:0.667♩], offset=0)"
      ]
     },
     "execution_count": 9,
     "metadata": {},
     "output_type": "execute_result"
    }
   ],
   "source": [
    "from maelzel.core import *\n",
    "cfg = getConfig()\n",
    "\n",
    "# The value of the min beat syncopation determines which tuplets can be merged across the beat. Set it\n",
    "# low to allow more syncopations, set it high to only allow long duration syncopations\n",
    "cfg['quant.syncopationMinBeatFraction'] = F(1, 4)\n",
    "\n",
    "v1 = Voice([\n",
    "    Note(\"4C#\", F(2, 3)),\n",
    "    Note(\"4E\", F(2, 3)*F(1, 3)),\n",
    "    Note(\"4F\", F(2, 3)*F(1, 3)),\n",
    "    Note(\"4G\", F(2, 3)*F(1, 3)),\n",
    "    Note(\"4D\", F(2, 3)),\n",
    "])\n",
    "v1"
   ]
  },
  {
   "cell_type": "code",
   "execution_count": 10,
   "id": "e51277d3-f798-40d7-80a2-eb5180d5e84c",
   "metadata": {},
   "outputs": [
    {
     "name": "stderr",
     "output_type": "stream",
     "text": [
      "[maelzel.scoring:quant.py:1341:quantizeMeasure:DEBUG] Measure 4/4 is not filled (events=[«4C# 0:0.667 2/3♩», «4D 0.667:1.333 2/3♩», «4E 1.333:2 2/3♩», «4D# 2:2.222 2/9♩», «4F 2.222:2.444 2/9♩», «4G 2.444:2.667 2/9♩», «4A 2.667:3 1/3♩»]). Filling gaps with silences\n"
     ]
    },
    {
     "name": "stdout",
     "output_type": "stream",
     "text": [
      "Beat: 0 - 1 (dur: 1)\n",
      "Best 2 divisions: (quantized in 1.0ms)\n"
     ]
    },
    {
     "data": {
      "text/html": [
       "<table>\n",
       "<thead>\n",
       "<tr><th style=\"text-align: right;\">  error</th><th>div  </th><th>snapped                                 </th><th>slots  </th><th>info                                                                                                                                                                          </th></tr>\n",
       "</thead>\n",
       "<tbody>\n",
       "<tr><td style=\"text-align: right;\"> 0.0000</td><td>(3,) </td><td>[«4C# 0:0.667 2/3♩», «4D~ 0.667:1 1/3♩»]</td><td>[0, 2] </td><td>gridError=0, rhythmComplexity=0 (numNotesAcrossSubdivs=0, numTies=0), divPenalty=0 (0, divPenalty=0, cardinalityPenalty=0, numSubdivsPenalty=0, levelPenalty=0)               </td></tr>\n",
       "<tr><td style=\"text-align: right;\"> 0.1636</td><td>(5,) </td><td>[«4C# 0:0.6 3/5♩», «4D~ 0.6:1 2/5♩»]    </td><td>[0, 3] </td><td>gridError=0.164, rhythmComplexity=0 (numNotesAcrossSubdivs=0, numTies=0), divPenalty=0.02 (0.0002, divPenalty=0.02, cardinalityPenalty=0, numSubdivsPenalty=0, levelPenalty=0)</td></tr>\n",
       "</tbody>\n",
       "</table>"
      ],
      "text/plain": [
       "<IPython.core.display.HTML object>"
      ]
     },
     "metadata": {},
     "output_type": "display_data"
    },
    {
     "name": "stdout",
     "output_type": "stream",
     "text": [
      "Beat: 1 - 2 (dur: 1)\n",
      "Best 2 divisions: (quantized in 201.7µs)\n"
     ]
    },
    {
     "data": {
      "text/html": [
       "<table>\n",
       "<thead>\n",
       "<tr><th style=\"text-align: right;\">  error</th><th>div  </th><th>snapped                                </th><th>slots  </th><th>info                                                                                                                                                                          </th></tr>\n",
       "</thead>\n",
       "<tbody>\n",
       "<tr><td style=\"text-align: right;\"> 0.0000</td><td>(3,) </td><td>[«~4D 0:0.333 1/3♩», «4E 0.333:1 2/3♩»]</td><td>[0, 1] </td><td>gridError=0, rhythmComplexity=0 (numNotesAcrossSubdivs=0, numTies=0), divPenalty=0 (0, divPenalty=0, cardinalityPenalty=0, numSubdivsPenalty=0, levelPenalty=0)               </td></tr>\n",
       "<tr><td style=\"text-align: right;\"> 0.1636</td><td>(5,) </td><td>[«~4D 0:0.4 2/5♩», «4E 0.4:1 3/5♩»]    </td><td>[0, 2] </td><td>gridError=0.164, rhythmComplexity=0 (numNotesAcrossSubdivs=0, numTies=0), divPenalty=0.02 (0.0002, divPenalty=0.02, cardinalityPenalty=0, numSubdivsPenalty=0, levelPenalty=0)</td></tr>\n",
       "</tbody>\n",
       "</table>"
      ],
      "text/plain": [
       "<IPython.core.display.HTML object>"
      ]
     },
     "metadata": {},
     "output_type": "display_data"
    },
    {
     "name": "stderr",
     "output_type": "stream",
     "text": [
      "[maelzel.scoring:quant.py:928:quantizeBeatBinary:DEBUG] Skipping (6,), gridError=0.23990831879010924 * 1.0 > minError=0.23627217518696303\n",
      "[maelzel.scoring:quant.py:928:quantizeBeatBinary:DEBUG] Skipping (8,), gridError=0.24376132565106126 * 1.0 > minError=0.23627217518696303\n",
      "[maelzel.scoring:quant.py:919:quantizeBeatBinary:DEBUG] Skipping (9, 3), divPenalty=0.05 * 0.1 > minError=0.005\n",
      "[maelzel.scoring:quant.py:919:quantizeBeatBinary:DEBUG] Skipping (9, 8), divPenalty=0.0509902 * 0.1 > minError=0.005\n"
     ]
    },
    {
     "name": "stdout",
     "output_type": "stream",
     "text": [
      "Beat: 2 - 3 (dur: 1)\n",
      "Best 3 divisions: (quantized in 97.6ms)\n"
     ]
    },
    {
     "data": {
      "text/html": [
       "<table>\n",
       "<thead>\n",
       "<tr><th style=\"text-align: right;\">  error</th><th>div      </th><th>snapped                                                                              </th><th>slots       </th><th>info                                                                                                                                                                          </th></tr>\n",
       "</thead>\n",
       "<tbody>\n",
       "<tr><td style=\"text-align: right;\"> 0.0046</td><td>(3, 3, 1)</td><td>[«4D# 0:0.222 2/9♩», «4F 0.222:0.444 2/9♩», «4G 0.444:0.667 2/9♩», «4A 0.667:1 1/3♩»]</td><td>[0, 2, 4, 6]</td><td>gridError=0, rhythmComplexity=0.112 (numNotesAcrossSubdivs=1, numTies=0), divPenalty=0.03 (0.0003, divPenalty=0, cardinalityPenalty=0, numSubdivsPenalty=0, levelPenalty=0.03)</td></tr>\n",
       "<tr><td style=\"text-align: right;\"> 0.0050</td><td>(9,)     </td><td>[«4D# 0:0.222 2/9♩», «4F 0.222:0.444 2/9♩», «4G 0.444:0.667 2/9♩», «4A 0.667:1 1/3♩»]</td><td>[0, 2, 4, 6]</td><td>gridError=0, rhythmComplexity=0 (numNotesAcrossSubdivs=0, numTies=0), divPenalty=0.05 (0.0005, divPenalty=0.05, cardinalityPenalty=0, numSubdivsPenalty=0, levelPenalty=0)    </td></tr>\n",
       "<tr><td style=\"text-align: right;\"> 0.2363</td><td>(5,)     </td><td>[«4D# 0:0.2 1/5♩», «4F 0.2:0.4 1/5♩», «4G 0.4:0.6 1/5♩», «4A 0.6:1 2/5♩»]            </td><td>[0, 1, 2, 3]</td><td>gridError=0.236, rhythmComplexity=0 (numNotesAcrossSubdivs=0, numTies=0), divPenalty=0.02 (0.0002, divPenalty=0.02, cardinalityPenalty=0, numSubdivsPenalty=0, levelPenalty=0)</td></tr>\n",
       "</tbody>\n",
       "</table>"
      ],
      "text/plain": [
       "<IPython.core.display.HTML object>"
      ]
     },
     "metadata": {},
     "output_type": "display_data"
    },
    {
     "name": "stderr",
     "output_type": "stream",
     "text": [
      "[maelzel.scoring:quant.py:1654:_mergeSiblings:DEBUG] Nodes can merge: \n",
      "    Node(3/2, \n",
      "  «4C# 0:0.667 2/3♩ 3/2»\n",
      "  «4D~ 0.667:1 1/3♩ 3/2»\n",
      ")\n",
      "    Node(3/2, \n",
      "  «~4D 1:1.333 1/3♩ 3/2»\n",
      "  «4E 1.333:2 2/3♩ 3/2»\n",
      ")\n",
      "[maelzel.scoring:quant.py:1657:_mergeSiblings:DEBUG] ---- Merged node:\n",
      "    Node(3/2, \n",
      "  «4C# 0:0.667 2/3♩ 3/2»\n",
      "  «4D 0.667:1.333 2/3♩ 3/2»\n",
      "  «4E 1.333:2 2/3♩ 3/2»\n",
      ")\n",
      "[maelzel.scoring:quant.py:1654:_mergeSiblings:DEBUG] Nodes can merge: \n",
      "    Node(3/2, \n",
      "  «4D# 2:2.222 2/9♩ 3/2,3/2»\n",
      "  «4F~ 2.222:2.333 1/9♩ 3/2,3/2»\n",
      ")\n",
      "    Node(3/2, \n",
      "  «~4F 2.333:2.444 1/9♩ 3/2,3/2»\n",
      "  «4G 2.444:2.667 2/9♩ 3/2,3/2»\n",
      ")\n",
      "[maelzel.scoring:quant.py:1657:_mergeSiblings:DEBUG] ---- Merged node:\n",
      "    Node(3/2, \n",
      "  «4D# 2:2.222 2/9♩ 3/2,3/2»\n",
      "  «4F 2.222:2.444 2/9♩ 3/2,3/2»\n",
      "  «4G 2.444:2.667 2/9♩ 3/2,3/2»\n",
      ")\n",
      "[maelzel.scoring:quant.py:1660:_mergeSiblings:DEBUG] Nodes cannot merge: \n",
      "Node(3/2, \n",
      "  «4C# 0:0.667 2/3♩ 3/2»\n",
      "  «4D 0.667:1.333 2/3♩ 3/2»\n",
      "  «4E 1.333:2 2/3♩ 3/2»\n",
      ")\n",
      "Node(3/2, \n",
      "  Node(3/2, \n",
      "    «4D# 2:2.222 2/9♩ 3/2,3/2»\n",
      "    «4F 2.222:2.444 2/9♩ 3/2,3/2»\n",
      "    «4G 2.444:2.667 2/9♩ 3/2,3/2»\n",
      "  )\n",
      "  «4A 2.667:3 1/3♩ 3/2»\n",
      ")\n",
      "----> Don't merge 3/2 when the merged Notation results in dotted quarter\n",
      "[maelzel.scoring:node.py:685:_splitUnnecessaryNodes:DEBUG] Did not split node Node(1/1, \n",
      "  Node(3/2, \n",
      "    «4C# 0:0.667 2/3♩ 3/2»\n",
      "    «4D 0.667:1.333 2/3♩ 3/2»\n",
      "    «4E 1.333:2 2/3♩ 3/2»\n",
      "  )\n",
      "  Node(3/2, \n",
      "    Node(3/2, \n",
      "      «4D# 2:2.222 2/9♩ 3/2,3/2»\n",
      "      «4F 2.222:2.444 2/9♩ 3/2,3/2»\n",
      "      «4G 2.444:2.667 2/9♩ 3/2,3/2»\n",
      "    )\n",
      "    «4A 2.667:3 1/3♩ 3/2»\n",
      "  )\n",
      "  Node(1/1, \n",
      "    «rest 3:4 1♩»\n",
      "  )\n",
      ") at 1\n",
      "[maelzel.scoring:renderlily.py:1116:write:DEBUG] Rendering lilypond '/tmp/tmp1pplkqi8.ly' to '/tmp/tmp1pplkqi8.png'\n",
      "DEBUG:maelzel:Rendering lilypond '/tmp/tmp1pplkqi8.ly' to '/tmp/tmp1pplkqi8.png'\n",
      "DEBUG:maelzel:Calling lilypond subprocess: ['/home/em/.local/bin/lilypond', '--png', '-o', '/tmp/tmp1pplkqi8', '-dresolution=200', '/tmp/tmpn_z_ie97.ly']\n",
      "DEBUG:maelzel:lilypond executed OK\n",
      "DEBUG:maelzel:stderr: \n",
      "DEBUG:maelzel: Changing working directory to: `/tmp'\n",
      " Processing `/tmp/tmpn_z_ie97.ly'\n",
      " Parsing...\n",
      " Interpreting music...\n",
      " Preprocessing graphical objects...\n",
      " Finding the ideal number of pages...\n",
      " Fitting music on 1 page...\n",
      " Drawing systems...\n",
      " Converting to PNG...\n",
      " Layout output to `tmp1pplkqi8.cropped.eps'...\n",
      " Converting to PNG...\n",
      " Success: compilation successfully completed\n",
      "\n",
      "[maelzel.scoring:renderlily.py:1129:write:DEBUG] Found crop file /tmp/tmp1pplkqi8.cropped.png, using that as output\n"
     ]
    },
    {
     "data": {
      "text/html": [
       "<code style=\"white-space: pre-line; font-size:0.9em;\">Voice([<span style=\"color:#6666E0\">4C#:0.667♩</span>, <span style=\"color:#6666E0\">4D:0.667♩</span>, <span style=\"color:#6666E0\">4E:0.667♩</span>, <span style=\"color:#6666E0\">4D#:0.222♩</span>, <span style=\"color:#6666E0\">4F:0.222♩</span>, <span style=\"color:#6666E0\">4G:0.222♩</span>, <span style=\"color:#6666E0\">4A:0.333♩</span>], dur=3, offset=0)</code><br>\n",
       "        <img style=\"display:inline; padding:10px;\n",
       "margin-top:14px;\n",
       "width:308px\"\n",
       "             src=\"data:image/png;base64,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\"/>"
      ],
      "text/plain": [
       "Voice([4C#:0.667♩, 4D:0.667♩, 4E:0.667♩, 4D#:0.222♩, 4F:0.222♩, 4G:0.222♩, 4A:0.333♩], offset=0)"
      ]
     },
     "execution_count": 10,
     "metadata": {},
     "output_type": "execute_result"
    }
   ],
   "source": [
    "v1 = Voice([\n",
    "    Note(\"4C#\", F(2, 3)),\n",
    "    Note(\"4D\",  F(2, 3)),\n",
    "    Note(\"4E\",  F(2, 3)),\n",
    "    Note(\"4D#\", F(2,3)*F(1,3)),\n",
    "    Note(\"4F\",  F(2,3)*F(1,3)),\n",
    "    Note(\"4G\",  F(2,3)*F(1,3)),\n",
    "    Note(\"4A\", F(1, 3))\n",
    "])\n",
    "v1"
   ]
  },
  {
   "cell_type": "code",
   "execution_count": 11,
   "id": "3f847ff6-bcc0-4d5d-8671-1af78aff4072",
   "metadata": {},
   "outputs": [
    {
     "name": "stderr",
     "output_type": "stream",
     "text": [
      "[maelzel.scoring:quant.py:1341:quantizeMeasure:DEBUG] Measure 4/4 is not filled (events=[«4C 0:1 1♩», «4D 1:2.016 65/64♩», «4E 2.016:3.031 65/64♩»]). Filling gaps with silences\n",
      "[maelzel.scoring:quant.py:945:quantizeBeatBinary:DEBUG] Skipping (7,), totalError=0.05512875622241527 > minError=0.05509246557044339\n",
      "[maelzel.scoring:quant.py:945:quantizeBeatBinary:DEBUG] Skipping (11,), totalError=0.05775101525194592 > minError=0.05509246557044339\n",
      "[maelzel.scoring:quant.py:945:quantizeBeatBinary:DEBUG] Skipping (4,), totalError=0.055101540474205346 > minError=0.05509246557044339\n",
      "[maelzel.scoring:quant.py:945:quantizeBeatBinary:DEBUG] Skipping (6,), totalError=0.055101540474205346 > minError=0.05509246557044339\n"
     ]
    },
    {
     "name": "stdout",
     "output_type": "stream",
     "text": [
      "Beat: 2 - 3 (dur: 1)\n",
      "Best 4 divisions: (quantized in 31.7ms)\n"
     ]
    },
    {
     "data": {
      "text/html": [
       "<table>\n",
       "<thead>\n",
       "<tr><th style=\"text-align: right;\">  error</th><th>div  </th><th>snapped                                                                                                  </th><th>slots  </th><th>info                                                                                                                                                                               </th></tr>\n",
       "</thead>\n",
       "<tbody>\n",
       "<tr><td style=\"text-align: right;\"> 0.0551</td><td>(1,) </td><td>[«~4D 0:grace properties={&#x27;.snappedGracenote&#x27;: True, &#x27;originalDuration&#x27;: Fraction(1, 64)}», «4E~ 0:1 1♩»]</td><td>[0, 0] </td><td>gridError=0.0551, rhythmComplexity=0 (numNotesAcrossSubdivs=0, numTies=0), divPenalty=0 (0, divPenalty=0, cardinalityPenalty=0, numSubdivsPenalty=0, levelPenalty=0)               </td></tr>\n",
       "<tr><td style=\"text-align: right;\"> 0.0551</td><td>(2,) </td><td>[«~4D 0:grace properties={&#x27;.snappedGracenote&#x27;: True, &#x27;originalDuration&#x27;: Fraction(1, 64)}», «4E~ 0:1 1♩»]</td><td>[0, 0] </td><td>gridError=0.0551, rhythmComplexity=0 (numNotesAcrossSubdivs=0, numTies=0), divPenalty=0 (0, divPenalty=0, cardinalityPenalty=0, numSubdivsPenalty=0, levelPenalty=0)               </td></tr>\n",
       "<tr><td style=\"text-align: right;\"> 0.0551</td><td>(3,) </td><td>[«~4D 0:grace properties={&#x27;.snappedGracenote&#x27;: True, &#x27;originalDuration&#x27;: Fraction(1, 64)}», «4E~ 0:1 1♩»]</td><td>[0, 0] </td><td>gridError=0.0551, rhythmComplexity=0 (numNotesAcrossSubdivs=0, numTies=0), divPenalty=0 (0, divPenalty=0, cardinalityPenalty=0, numSubdivsPenalty=0, levelPenalty=0)               </td></tr>\n",
       "<tr><td style=\"text-align: right;\"> 0.0569</td><td>(5,) </td><td>[«~4D 0:grace properties={&#x27;.snappedGracenote&#x27;: True, &#x27;originalDuration&#x27;: Fraction(1, 64)}», «4E~ 0:1 1♩»]</td><td>[0, 0] </td><td>gridError=0.0551, rhythmComplexity=0.447 (numNotesAcrossSubdivs=0, numTies=1), divPenalty=0.02 (0.0002, divPenalty=0.02, cardinalityPenalty=0, numSubdivsPenalty=0, levelPenalty=0)</td></tr>\n",
       "</tbody>\n",
       "</table>"
      ],
      "text/plain": [
       "<IPython.core.display.HTML object>"
      ]
     },
     "metadata": {},
     "output_type": "display_data"
    },
    {
     "name": "stderr",
     "output_type": "stream",
     "text": [
      "[maelzel.scoring:quant.py:945:quantizeBeatBinary:DEBUG] Skipping (7,), totalError=0.05512875622241527 > minError=0.05509246557044339\n",
      "[maelzel.scoring:quant.py:945:quantizeBeatBinary:DEBUG] Skipping (11,), totalError=0.05775101525194592 > minError=0.05509246557044339\n"
     ]
    },
    {
     "name": "stdout",
     "output_type": "stream",
     "text": [
      "Beat: 3 - 4 (dur: 1)\n",
      "Best 7 divisions: (quantized in 7.2ms)\n"
     ]
    },
    {
     "data": {
      "text/html": [
       "<table>\n",
       "<thead>\n",
       "<tr><th style=\"text-align: right;\">  error</th><th>div         </th><th>snapped                                                                                                   </th><th>slots  </th><th>info                                                                                                                                                                                       </th></tr>\n",
       "</thead>\n",
       "<tbody>\n",
       "<tr><td style=\"text-align: right;\"> 0.0192</td><td>(7, 1, 1, 1)</td><td>[«~4E 0:0.036 1/28♩», «rest 0.036:1 27/28♩»]                                                              </td><td>[0, 1] </td><td>gridError=0.0176, rhythmComplexity=0.224 (numNotesAcrossSubdivs=1, numTies=0), divPenalty=0.03 (0.0003, divPenalty=0.03, cardinalityPenalty=0, numSubdivsPenalty=0, levelPenalty=0)        </td></tr>\n",
       "<tr><td style=\"text-align: right;\"> 0.0233</td><td>(9, 1, 1)   </td><td>[«~4E 0:0.037 1/27♩», «rest 0.037:1 26/27♩»]                                                              </td><td>[0, 1] </td><td>gridError=0.0214, rhythmComplexity=0.224 (numNotesAcrossSubdivs=1, numTies=0), divPenalty=0.0583 (0.0005831, divPenalty=0.05, cardinalityPenalty=0, numSubdivsPenalty=0, levelPenalty=0.03)</td></tr>\n",
       "<tr><td style=\"text-align: right;\"> 0.0340</td><td>(8, 1, 1)   </td><td>[«~4E 0:0.042 1/24♩», «rest 0.042:1 23/24♩»]                                                              </td><td>[0, 1] </td><td>gridError=0.0332, rhythmComplexity=0.224 (numNotesAcrossSubdivs=1, numTies=0), divPenalty=0.01 (0.0001, divPenalty=0.01, cardinalityPenalty=0, numSubdivsPenalty=0, levelPenalty=0)        </td></tr>\n",
       "<tr><td style=\"text-align: right;\"> 0.0437</td><td>(11, 1)     </td><td>[«~4E 0:0.045 1/22♩», «rest 0.045:1 21/22♩»]                                                              </td><td>[0, 1] </td><td>gridError=0.0419, rhythmComplexity=0.224 (numNotesAcrossSubdivs=1, numTies=0), divPenalty=0.1 (0.001, divPenalty=0.1, cardinalityPenalty=0, numSubdivsPenalty=0, levelPenalty=0)           </td></tr>\n",
       "<tr><td style=\"text-align: right;\"> 0.0551</td><td>(1,)        </td><td>[«~4E 0:grace properties={&#x27;.snappedGracenote&#x27;: True, &#x27;originalDuration&#x27;: Fraction(1, 32)}», «rest 0:1 1♩»]</td><td>[0, 0] </td><td>gridError=0.0551, rhythmComplexity=0 (numNotesAcrossSubdivs=0, numTies=0), divPenalty=0 (0, divPenalty=0, cardinalityPenalty=0, numSubdivsPenalty=0, levelPenalty=0)                       </td></tr>\n",
       "<tr><td style=\"text-align: right;\"> 0.0551</td><td>(2,)        </td><td>[«~4E 0:grace properties={&#x27;.snappedGracenote&#x27;: True, &#x27;originalDuration&#x27;: Fraction(1, 32)}», «rest 0:1 1♩»]</td><td>[0, 0] </td><td>gridError=0.0551, rhythmComplexity=0 (numNotesAcrossSubdivs=0, numTies=0), divPenalty=0 (0, divPenalty=0, cardinalityPenalty=0, numSubdivsPenalty=0, levelPenalty=0)                       </td></tr>\n",
       "<tr><td style=\"text-align: right;\"> 0.0569</td><td>(5,)        </td><td>[«~4E 0:grace properties={&#x27;.snappedGracenote&#x27;: True, &#x27;originalDuration&#x27;: Fraction(1, 32)}», «rest 0:1 1♩»]</td><td>[0, 0] </td><td>gridError=0.0551, rhythmComplexity=0.447 (numNotesAcrossSubdivs=0, numTies=1), divPenalty=0.02 (0.0002, divPenalty=0.02, cardinalityPenalty=0, numSubdivsPenalty=0, levelPenalty=0)        </td></tr>\n",
       "</tbody>\n",
       "</table>"
      ],
      "text/plain": [
       "<IPython.core.display.HTML object>"
      ]
     },
     "metadata": {},
     "output_type": "display_data"
    },
    {
     "name": "stderr",
     "output_type": "stream",
     "text": [
      "[maelzel.scoring:quant.py:1654:_mergeSiblings:DEBUG] Nodes can merge: \n",
      "    Node(1/1, \n",
      "  «4C 0:1 1♩»\n",
      ")\n",
      "    Node(1/1, \n",
      "  «4D~ 1:2 1♩»\n",
      ")\n",
      "[maelzel.scoring:quant.py:1657:_mergeSiblings:DEBUG] ---- Merged node:\n",
      "    Node(1/1, \n",
      "  «4C 0:1 1♩»\n",
      "  «4D~ 1:2 1♩»\n",
      ")\n",
      "[maelzel.scoring:quant.py:1660:_mergeSiblings:DEBUG] Nodes cannot merge: \n",
      "Node(1/1, \n",
      "  «4C 0:1 1♩»\n",
      "  «4D~ 1:2 1♩»\n",
      ")\n",
      "Node(1/1, \n",
      "  «~4D 2:grace properties={'.snappedGracenote': True, 'originalDuration': Fraction(1, 64)}»\n",
      "  «4E~ 2:3 1♩»\n",
      ")\n",
      "----> Rel. duration of «~4D 2:grace properties={'.snappedGracenote': True, 'originalDuration': Fraction(1, 64)}» too short to merge with «4D~ 1:2 1♩». Min side duration: 0.125\n",
      "[maelzel.scoring:quant.py:1660:_mergeSiblings:DEBUG] Nodes cannot merge: \n",
      "Node(1/1, \n",
      "  «~4D 2:grace properties={'.snappedGracenote': True, 'originalDuration': Fraction(1, 64)}»\n",
      "  «4E~ 2:3 1♩»\n",
      ")\n",
      "Node(1/1, \n",
      "  Node(7/4, \n",
      "    «~4E 3:3.036 1/28♩ 7/4»\n",
      "    «rest 3.036:3.25 3/14♩ 7/4»\n",
      "  )\n",
      "  «rest 3.25:4 3/4♩»\n",
      ")\n",
      "----> A Node cannot merge with a single item\n",
      "[maelzel.scoring:node.py:679:_splitUnnecessaryNodes:DEBUG] Splitting node Node(1/1, \n",
      "  Node(1/1, \n",
      "    «4C 0:1 1♩»\n",
      "    «4D~ 1:2 1♩»\n",
      "  )\n",
      "  Node(1/1, \n",
      "    «~4D 2:grace properties={'.snappedGracenote': True, 'originalDuration': Fraction(1, 64)}»\n",
      "    «4E~ 2:3 1♩»\n",
      "  )\n",
      "  Node(1/1, \n",
      "    Node(7/4, \n",
      "      «~4E 3:3.036 1/28♩ 7/4»\n",
      "      «rest 3.036:3.25 3/14♩ 7/4»\n",
      "    )\n",
      "    «rest 3.25:4 3/4♩»\n",
      "  )\n",
      ") at 1\n",
      "[maelzel.scoring:node.py:547:removeUnnecessaryGracenotes:DEBUG] Removing gracenote «~4D 2:grace properties={'.snappedGracenote': True, 'originalDuration': Fraction(1, 64)}» from node Node(1/1, \n",
      "  «~4D 2:grace properties={'.snappedGracenote': True, 'originalDuration': Fraction(1, 64)}»\n",
      "  «4E~ 2:3 1♩»\n",
      ")\n",
      "[maelzel.scoring:quant.py:1654:_mergeSiblings:DEBUG] Nodes can merge: \n",
      "    Node(1/1, \n",
      "  «4C 0:1 1♩»\n",
      ")\n",
      "    Node(1/1, \n",
      "  «4D 1:2 1♩»\n",
      ")\n",
      "[maelzel.scoring:quant.py:1657:_mergeSiblings:DEBUG] ---- Merged node:\n",
      "    Node(1/1, \n",
      "  «4C 0:1 1♩»\n",
      "  «4D 1:2 1♩»\n",
      ")\n",
      "[maelzel.scoring:quant.py:1660:_mergeSiblings:DEBUG] Nodes cannot merge: \n",
      "Node(1/1, \n",
      "  «4C 0:1 1♩»\n",
      "  «4D 1:2 1♩»\n",
      ")\n",
      "Node(1/1, \n",
      "  «4E 2:3 1♩»\n",
      ")\n",
      "----> no need to extend node over beat\n",
      "[maelzel.scoring:quant.py:1654:_mergeSiblings:DEBUG] Nodes can merge: \n",
      "    Node(1/1, \n",
      "  «4E 2:3 1♩»\n",
      ")\n",
      "    Node(1/1, \n",
      "  «4F 3:4 1♩»\n",
      ")\n",
      "[maelzel.scoring:quant.py:1657:_mergeSiblings:DEBUG] ---- Merged node:\n",
      "    Node(1/1, \n",
      "  «4E 2:3 1♩»\n",
      "  «4F 3:4 1♩»\n",
      ")\n",
      "[maelzel.scoring:node.py:679:_splitUnnecessaryNodes:DEBUG] Splitting node Node(1/1, \n",
      "  Node(1/1, \n",
      "    «4C 0:1 1♩»\n",
      "    «4D 1:2 1♩»\n",
      "  )\n",
      "  Node(1/1, \n",
      "    «4E 2:3 1♩»\n",
      "    «4F 3:4 1♩»\n",
      "  )\n",
      ") at 1\n",
      "[maelzel.scoring:node.py:679:_splitUnnecessaryNodes:DEBUG] Splitting node Node(1/1, \n",
      "  Node(1/1, \n",
      "    «4C 0:1 1♩»\n",
      "    «4D 1:2 1♩»\n",
      "  )\n",
      "  Node(1/1, \n",
      "    «4E 2:3 1♩»\n",
      "    «4F 3:4 1♩»\n",
      "  )\n",
      ") at 3\n",
      "[maelzel.scoring:renderlily.py:1116:write:DEBUG] Rendering lilypond '/tmp/tmpnuvwhujp.ly' to '/tmp/tmpnuvwhujp.png'\n",
      "DEBUG:maelzel:Rendering lilypond '/tmp/tmpnuvwhujp.ly' to '/tmp/tmpnuvwhujp.png'\n",
      "DEBUG:maelzel:Calling lilypond subprocess: ['/home/em/.local/bin/lilypond', '--png', '-o', '/tmp/tmpnuvwhujp', '-dresolution=200', '/tmp/tmpym5f5tbc.ly']\n",
      "DEBUG:maelzel:lilypond executed OK\n",
      "DEBUG:maelzel:stderr: \n",
      "DEBUG:maelzel: Changing working directory to: `/tmp'\n",
      " Processing `/tmp/tmpym5f5tbc.ly'\n",
      " Parsing...\n",
      " Interpreting music...\n",
      " Preprocessing graphical objects...\n",
      " Finding the ideal number of pages...\n",
      " Fitting music on 1 page...\n",
      " Drawing systems...\n",
      " Converting to PNG...\n",
      " Layout output to `tmpnuvwhujp.cropped.eps'...\n",
      " Converting to PNG...\n",
      " Success: compilation successfully completed\n",
      "\n",
      "[maelzel.scoring:renderlily.py:1129:write:DEBUG] Found crop file /tmp/tmpnuvwhujp.cropped.png, using that as output\n"
     ]
    },
    {
     "data": {
      "text/html": [
       "<code style=\"white-space: pre-line; font-size:0.9em;\">Score(2 voices)</code><br>\n",
       "        <img style=\"display:inline; padding:10px;\n",
       "margin-top:14px;\n",
       "width:393px\"\n",
       "             src=\"data:image/png;base64,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\"/>"
      ],
      "text/plain": [
       "Score(2 voices)"
      ]
     },
     "execution_count": 11,
     "metadata": {},
     "output_type": "execute_result"
    }
   ],
   "source": [
    "v1 = Voice([\n",
    "    \"4C:1\",\n",
    "    \"4D:1+1/64\",\n",
    "    \"4E:1+1/64\"\n",
    "])\n",
    "v2 = Voice([\n",
    "    \"4C:1\",\n",
    "    \"4D:1\",\n",
    "    \"4E:1\",\n",
    "    \"4F:1\"\n",
    "])\n",
    "sc = Score([v1, v2])\n",
    "sc"
   ]
  },
  {
   "cell_type": "code",
   "execution_count": 12,
   "id": "0a0c0a3a-de7d-4bc7-a0f6-5a58f311f7b7",
   "metadata": {},
   "outputs": [
    {
     "name": "stderr",
     "output_type": "stream",
     "text": [
      "[maelzel.scoring:quant.py:1654:_mergeSiblings:DEBUG] Nodes can merge: \n",
      "    Node(1/1, \n",
      "  «rest 0:1 1♩»\n",
      ")\n",
      "    Node(1/1, \n",
      "  «rest 1:1.5 1/2♩»\n",
      "  «[4G 4B]~ 1.5:2 1/2♩»\n",
      ")\n",
      "[maelzel.scoring:quant.py:1657:_mergeSiblings:DEBUG] ---- Merged node:\n",
      "    Node(1/1, \n",
      "  «rest 0:1.5 3/2♩»\n",
      "  «[4G 4B]~ 1.5:2 1/2♩»\n",
      ")\n",
      "[maelzel.scoring:quant.py:1654:_mergeSiblings:DEBUG] Nodes can merge: \n",
      "    Node(1/1, \n",
      "  «rest 0:1.5 3/2♩»\n",
      "  «[4G 4B]~ 1.5:2 1/2♩»\n",
      ")\n",
      "    Node(1/1, \n",
      "  «~[4G 4B]~ 2:3 1♩»\n",
      ")\n",
      "[maelzel.scoring:quant.py:1657:_mergeSiblings:DEBUG] ---- Merged node:\n",
      "    Node(1/1, \n",
      "  «rest 0:1.5 3/2♩»\n",
      "  «[4G 4B]~ 1.5:3 3/2♩»\n",
      ")\n",
      "[maelzel.scoring:quant.py:1654:_mergeSiblings:DEBUG] Nodes can merge: \n",
      "    Node(1/1, \n",
      "  «rest 0:1.5 3/2♩»\n",
      "  «[4G 4B]~ 1.5:3 3/2♩»\n",
      ")\n",
      "    Node(1/1, \n",
      "  «~[4G 4B] 3:4 1♩»\n",
      ")\n",
      "[maelzel.scoring:quant.py:1657:_mergeSiblings:DEBUG] ---- Merged node:\n",
      "    Node(1/1, \n",
      "  «rest 0:1.5 3/2♩»\n",
      "  «[4G 4B]~ 1.5:3 3/2♩»\n",
      "  «~[4G 4B] 3:4 1♩»\n",
      ")\n",
      "[maelzel.scoring:node.py:786:_splitNotationAtBoundary:DEBUG] Splitting node (offset=0, end=4) at offset=Fraction(2, 1)\n",
      "[maelzel.scoring:quant.py:665:breakSyncopations:DEBUG] Splitting syncopation if needed at BeatStructure(offset=Fraction(2, 1), duration=Fraction(1, 1), weight=1), minWeight=1\n"
     ]
    }
   ],
   "source": [
    "from maelzel.core import *\n",
    "from maelzel.scoring import logger as sclogger\n",
    "sclogger.setLevel(\"DEBUG\")\n",
    "cfg = getConfig()\n",
    "cfg['.quant.debug'] = False\n",
    "\n",
    "v = Voice(r\"\"\"\n",
    "r:1.5\n",
    "4g,4b~:0.5\n",
    "4g,4b~:1\n",
    "4g,4b:1\n",
    "\"\"\")\n",
    "q = v.quantizedScore()\n",
    "#q.dump()\n",
    "#v"
   ]
  },
  {
   "cell_type": "code",
   "execution_count": 7,
   "id": "ca2ebd93-2760-464c-b979-dd9dada97bb7",
   "metadata": {
    "tags": []
   },
   "outputs": [
    {
     "name": "stderr",
     "output_type": "stream",
     "text": [
      "[maelzel.scoring:renderlily.py:1116:write:DEBUG] Rendering lilypond '/tmp/tmpsmp0sj8j.ly' to '/tmp/tmpsmp0sj8j.png'\n",
      "[maelzel.scoring:renderlily.py:1129:write:DEBUG] Found crop file /tmp/tmpsmp0sj8j.cropped.png, using that as output\n",
      "QSocketNotifier: Can only be used with threads started with QThread\n",
      "kf.service.services: KApplicationTrader: mimeType \"x-scheme-handler/file\" not found\n",
      "\n",
      "(eog:796723): EOG-WARNING **: 11:38:22.478: Couldn't load icon: Icon 'image-loading' not present in theme breeze\n"
     ]
    }
   ],
   "source": [
    "q.show()"
   ]
  },
  {
   "cell_type": "code",
   "execution_count": 10,
   "id": "27860115-7fc7-4855-95e8-208e512514e2",
   "metadata": {},
   "outputs": [
    {
     "name": "stderr",
     "output_type": "stream",
     "text": [
      "[maelzel.scoring:quant.py:1605:_mergeSiblings:DEBUG] Nodes can merge: \n",
      "    Node(1/1, \n",
      "  «rest 0:1 1♩»\n",
      ")\n",
      "    Node(1/1, \n",
      "  «rest 1:1.5 1/2♩»\n",
      "  «[4G 4B]~ 1.5:2 1/2♩»\n",
      ")\n",
      "[maelzel.scoring:quant.py:1608:_mergeSiblings:DEBUG] ---- Merged node:\n",
      "    Node(1/1, \n",
      "  «rest 0:1.5 3/2♩»\n",
      "  «[4G 4B]~ 1.5:2 1/2♩»\n",
      ")\n",
      "[maelzel.scoring:quant.py:1605:_mergeSiblings:DEBUG] Nodes can merge: \n",
      "    Node(1/1, \n",
      "  «rest 0:1.5 3/2♩»\n",
      "  «[4G 4B]~ 1.5:2 1/2♩»\n",
      ")\n",
      "    Node(1/1, \n",
      "  «~[4G 4B]~ 2:3 1♩»\n",
      ")\n",
      "[maelzel.scoring:quant.py:1608:_mergeSiblings:DEBUG] ---- Merged node:\n",
      "    Node(1/1, \n",
      "  «rest 0:1.5 3/2♩»\n",
      "  «[4G 4B]~ 1.5:3 3/2♩»\n",
      ")\n",
      "[maelzel.scoring:quant.py:1605:_mergeSiblings:DEBUG] Nodes can merge: \n",
      "    Node(1/1, \n",
      "  «rest 0:1.5 3/2♩»\n",
      "  «[4G 4B]~ 1.5:3 3/2♩»\n",
      ")\n",
      "    Node(1/1, \n",
      "  «~[4G 4B] 3:4 1♩ attachments=[Articulation(kind=accent)]»\n",
      ")\n",
      "[maelzel.scoring:quant.py:1608:_mergeSiblings:DEBUG] ---- Merged node:\n",
      "    Node(1/1, \n",
      "  «rest 0:1.5 3/2♩»\n",
      "  «[4G 4B]~ 1.5:3 3/2♩»\n",
      "  «~[4G 4B] 3:4 1♩ attachments=[Articulation(kind=accent)]»\n",
      ")\n",
      "[maelzel.scoring:node.py:746:_splitNotationAtBoundary:DEBUG] Splitting node (offset=0, end=4) at offset=Fraction(2, 1)\n",
      "[maelzel.scoring:quant.py:670:breakSyncopations:DEBUG] Splitting syncopation if needed at BeatStructure(offset=Fraction(2, 1), duration=Fraction(1, 1), weight=1), minWeight=1\n",
      "[maelzel.scoring:renderlily.py:1116:write:DEBUG] Rendering lilypond '/tmp/tmp1q2584n3.ly' to '/tmp/tmp1q2584n3.png'\n",
      "[maelzel.scoring:renderlily.py:1129:write:DEBUG] Found crop file /tmp/tmp1q2584n3.cropped.png, using that as output\n"
     ]
    },
    {
     "data": {
      "text/html": [
       "<code style=\"white-space: pre-line; font-size:0.9em;\">Voice([<span style=\"color:#6666E0\">Rest:1.5♩</span>, <span style=\"color:#6666E0\">‹4G 4B 0.5♩›</span>, <span style=\"color:#6666E0\">‹4G 4B 1♩›</span>, <span style=\"color:#6666E0\">‹4G 4B 1♩›</span>], dur=4, offset=0)</code><br>\n",
       "        <img style=\"display:inline; padding:10px;\n",
       "margin-top:14px;\n",
       "width:227px\"\n",
       "             src=\"data:image/png;base64,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\"/>"
      ],
      "text/plain": [
       "Voice([Rest:1.5♩, ‹4G 4B 0.5♩›, ‹4G 4B 1♩›, ‹4G 4B 1♩›], offset=0)"
      ]
     },
     "execution_count": 10,
     "metadata": {},
     "output_type": "execute_result"
    }
   ],
   "source": [
    "v = Voice(r\"\"\"\n",
    "r:1.5\n",
    "4g,4b~:0.5\n",
    "4g,4b~:1\n",
    "4g,4b:1:accent\n",
    "\"\"\")\n",
    "v"
   ]
  },
  {
   "cell_type": "code",
   "execution_count": null,
   "id": "be33ad6d-504e-45d0-9b83-c8f875fbf5f1",
   "metadata": {},
   "outputs": [],
   "source": []
  }
 ],
 "metadata": {
  "kernelspec": {
   "display_name": "Python 3 (ipykernel)",
   "language": "python",
   "name": "python3"
  },
  "language_info": {
   "codemirror_mode": {
    "name": "ipython",
    "version": 3
   },
   "file_extension": ".py",
   "mimetype": "text/x-python",
   "name": "python",
   "nbconvert_exporter": "python",
   "pygments_lexer": "ipython3",
   "version": "3.11.4"
  }
 },
 "nbformat": 4,
 "nbformat_minor": 5
}
