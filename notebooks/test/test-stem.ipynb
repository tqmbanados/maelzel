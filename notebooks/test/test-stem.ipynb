{
 "cells": [
  {
   "cell_type": "code",
   "execution_count": 3,
   "id": "97aaee93-3e8a-4e11-a834-9f133f888ffe",
   "metadata": {
    "tags": []
   },
   "outputs": [],
   "source": [
    "from maelzel.core import *\n"
   ]
  },
  {
   "cell_type": "code",
   "execution_count": 4,
   "id": "6f558ba2-4313-414d-bfdb-635db9294601",
   "metadata": {
    "tags": []
   },
   "outputs": [
    {
     "data": {
      "text/html": [
       "<code style=\"white-space: pre-line; font-size:0.9em;\">Voice([<span style=\"color:#6666E0\">4C:1♩:gliss=True</span>, <span style=\"color:#6666E0\">4D+:symbols=[Stem(hidden=True)]</span>, <span style=\"color:#6666E0\">4D#:1♩</span>], dur=2, offset=0)</code><br>\n",
       "        <img style=\"display:inline; padding:10px;\n",
       "margin-top:14px;\n",
       "width:231px\"\n",
       "             src=\"data:image/png;base64,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\"/>"
      ],
      "text/plain": [
       "Voice([4C:1♩:gliss=True, 4D+:symbols=[Stem(hidden=True)], 4D#:1♩], offset=0)"
      ]
     },
     "execution_count": 4,
     "metadata": {},
     "output_type": "execute_result"
    }
   ],
   "source": [
    "v = Voice(r\"\"\"\n",
    "    4C:1:gliss\n",
    "    4D+:0:stemless\n",
    "    4Eb:1\n",
    "\"\"\")\n",
    "v"
   ]
  },
  {
   "cell_type": "code",
   "execution_count": 5,
   "id": "63809fce-6a0c-42d5-ac99-fa68f522de2c",
   "metadata": {
    "tags": []
   },
   "outputs": [
    {
     "data": {
      "image/png": "[encoded data removed]",
      "text/plain": [
       "<IPython.core.display.Image object>"
      ]
     },
     "metadata": {
      "image/png": {
       "width": 184.80000000000004
      }
     },
     "output_type": "display_data"
    }
   ],
   "source": [
    "v.show(backend='musicxml')"
   ]
  },
  {
   "cell_type": "code",
   "execution_count": 4,
   "id": "73ac3e22-9f88-4ef1-88ca-7acaaa90f585",
   "metadata": {
    "tags": []
   },
   "outputs": [],
   "source": [
    "v.write(\"~/tmp/stemless.musicxml\")"
   ]
  },
  {
   "cell_type": "code",
   "execution_count": 8,
   "id": "cb9c8e00-5a0b-45ae-a6a2-1b32da104671",
   "metadata": {
    "tags": []
   },
   "outputs": [
    {
     "name": "stdout",
     "output_type": "stream",
     "text": [
      "UnquantizedPart #0:\n",
      "  Measure #0\n",
      "    Timesig: 4/4 (quarter=60)\n",
      "    Node ratio: 1/1, offset=0, end=4\n",
      "      Node ratio: 1/1, offset=0, end=1\n",
      "        «0.000:1.000 1/1♩ 4C gliss»\n",
      "      Node ratio: 1/1, offset=1, end=2\n",
      "        «1.000:grace 4D+»\n",
      "        «1.000:2.000 1/1♩ 4Eb»\n",
      "      Node ratio: 1/1, offset=2, end=4\n",
      "        «2.000:4.000 2/1♩ rest»\n"
     ]
    }
   ],
   "source": [
    "q = v.quantizedScore()\n",
    "q.dump()"
   ]
  },
  {
   "cell_type": "code",
   "execution_count": 9,
   "id": "2974c546-f73e-4f46-bc79-42fee5816f3f",
   "metadata": {
    "tags": []
   },
   "outputs": [
    {
     "name": "stdout",
     "output_type": "stream",
     "text": [
      "Timesig: 4/4 (quarter=60)\n",
      "Node ratio: 1/1, offset=0, end=4\n",
      "  Node ratio: 1/1, offset=0, end=1\n",
      "    «0.000:1.000 1/1♩ 4C gliss»\n",
      "  Node ratio: 1/1, offset=1, end=2\n",
      "    «1.000:grace 4D+»\n",
      "    «1.000:2.000 1/1♩ 4Eb»\n",
      "  Node ratio: 1/1, offset=2, end=4\n",
      "    «2.000:4.000 2/1♩ rest»\n"
     ]
    }
   ],
   "source": [
    "m0 = q[0].measures[0]\n",
    "m0.dump()"
   ]
  },
  {
   "cell_type": "code",
   "execution_count": 10,
   "id": "c37908f9-0556-434c-8392-224ff54fff76",
   "metadata": {
    "tags": []
   },
   "outputs": [
    {
     "data": {
      "text/plain": [
       "<bound method QuantizedMeasure.tree of QuantizedMeasure(timesig=(4, 4), quarterTempo=60, beats=[QuantizedBeat(divisions: (1,), assignedSlots=[0], notations=[«0.000:1.000 1/1♩ 4C gliss»], beatDuration=1, beatOffset=0, quantizationError=0, weight=2), QuantizedBeat(divisions: (1,), assignedSlots=[0, 0], notations=[«1.000:grace 4D+», «1.000:2.000 1/1♩ 4Eb»], beatDuration=1, beatOffset=1, quantizationError=0.026519, weight=0), QuantizedBeat(divisions: (1,), assignedSlots=[0], notations=[«2.000:3.000 1/1♩ rest»], beatDuration=1, beatOffset=2, quantizationError=0, weight=1), QuantizedBeat(divisions: (1,), assignedSlots=[0], notations=[«3.000:4.000 1/1♩ rest»], beatDuration=1, beatOffset=3, quantizationError=0, weight=0)], profile=high)>"
      ]
     },
     "execution_count": 10,
     "metadata": {},
     "output_type": "execute_result"
    }
   ],
   "source": [
    "m0.tree"
   ]
  },
  {
   "cell_type": "code",
   "execution_count": 2,
   "id": "9f2494d0-695b-4925-9a5b-01e0689aefbc",
   "metadata": {
    "tags": []
   },
   "outputs": [
    {
     "data": {
      "text/html": [
       "<code style=\"white-space: pre-line; font-size:0.9em;\">Voice([<span style=\"color:#6666E0\">4C:4♩:gliss=True</span>, <span style=\"color:#6666E0\">4E</span>, <span style=\"color:#6666E0\">4F:1♩</span>], dur=5, offset=0)</code><br>\n",
       "        <img style=\"display:inline; padding:10px;\n",
       "margin-top:14px;\n",
       "width:243px\"\n",
       "             src=\"data:image/png;base64,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\"/>"
      ],
      "text/plain": [
       "Voice([4C:4♩:gliss=True, 4E, 4F:1♩], offset=0)"
      ]
     },
     "execution_count": 2,
     "metadata": {},
     "output_type": "execute_result"
    }
   ],
   "source": [
    "v = Voice(\"\"\"\n",
    "    4C:4:gliss\n",
    "    4E:0\n",
    "    4F:1\n",
    "    \"\"\")\n",
    "v"
   ]
  },
  {
   "cell_type": "code",
   "execution_count": null,
   "id": "3e4ae3e9-c7c0-4385-80bf-25bb8a38f7b6",
   "metadata": {},
   "outputs": [],
   "source": []
  }
 ],
 "metadata": {
  "kernelspec": {
   "display_name": "Python 3 (ipykernel)",
   "language": "python",
   "name": "python3"
  },
  "language_info": {
   "codemirror_mode": {
    "name": "ipython",
    "version": 3
   },
   "file_extension": ".py",
   "mimetype": "text/x-python",
   "name": "python",
   "nbconvert_exporter": "python",
   "pygments_lexer": "ipython3",
   "version": "3.9.15"
  }
 },
 "nbformat": 4,
 "nbformat_minor": 5
}
