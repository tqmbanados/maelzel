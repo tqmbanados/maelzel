{
 "cells": [
  {
   "cell_type": "code",
   "execution_count": 1,
   "id": "2c602f19-bfba-4d73-8780-2e68f2f0fc93",
   "metadata": {},
   "outputs": [],
   "source": [
    "from maelzel.core import *"
   ]
  },
  {
   "cell_type": "code",
   "execution_count": 2,
   "id": "8a7601d6-4cc9-4b63-b684-bbcd55bf7264",
   "metadata": {},
   "outputs": [
    {
     "name": "stderr",
     "output_type": "stream",
     "text": [
      "\n",
      "\n",
      "\n",
      "--Csound version 6.19 (double samples) Oct 30 2023\n",
      "[commit: 79e5d31bea441e5289073319ab2b1e42d01814b9]\n",
      "\u001b[mlibsndfile-1.2.0\n",
      "\u001b[msr = 48000.0,\u001b[m kr = 750.000,\u001b[m ksmps = 64\n",
      "\u001b[m0dBFS level = 1.0,\u001b[m A4 tuning = 442.0\n",
      "\u001b[maudio buffered in 512 sample-frame blocks\n",
      "\u001b[mreading 4096-byte blks of shorts from adc:Built-in Audio Pro: (RAW)\n",
      "writing 1024 sample blks of 64-bit floats to dac:Built-in Audio Pro:\n",
      "SECTION 1:\n"
     ]
    },
    {
     "name": "stdout",
     "output_type": "stream",
     "text": [
      ".......... _resolveParams\n",
      "------ applying sustain SynthEvent(delay=0, dur=1, instr=.piano, gain=1, chan=1, fade=(0.02, 0.02), kws={'transpose': 0}, sustain=1, position=0.5)\n",
      "bps       0s: 60 0.515178\n",
      "          1s: 60 0.515178\n",
      " [[0.0, 60, 0.5151779656764225], [1.0, 60, 0.5151779656764225]]\n",
      "--------------------- after sustain [[0.0, 60, 0.5151779656764225], [1.0, 60, 0.5151779656764225], [2.0, 60, 0.5151779656764225]]\n"
     ]
    },
    {
     "data": {
      "application/vnd.jupyter.widget-view+json": {
       "model_id": "76a2c89921364eb9aa21256d18975c71",
       "version_major": 2,
       "version_minor": 0
      },
      "text/plain": [
       "Button(description='Stop', style=ButtonStyle())"
      ]
     },
     "metadata": {},
     "output_type": "display_data"
    },
    {
     "data": {
      "application/vnd.jupyter.widget-view+json": {
       "model_id": "18c5d2e9e27548568d26b1c001297fba",
       "version_major": 2,
       "version_minor": 0
      },
      "text/plain": [
       "Output()"
      ]
     },
     "metadata": {},
     "output_type": "display_data"
    },
    {
     "data": {
      "text/html": [
       "<small><span style=\"\"><b>SynthGroup</b></span>(synths=<code style=\"\">1</code>)</small>\n",
       "<p><small>Instr: <strong style=\"color:MediumSeaGreen\">preset:.piano</strong> - <b>1</b> synths</small></p>\n",
       "<table style=\"font-size: smaller\"<thead><tr><th style=\"text-align:left\">p1</th><th style=\"text-align:left\">start</th><th style=\"text-align:left\">dur</th><th style=\"text-align:left\">p4</th><th style=\"text-align:left\">5:kpos</th><th style=\"text-align:left\">6:kgain</th><th style=\"text-align:left\">7:idataidx_</th><th style=\"text-align:left\">8:inumbps</th><th style=\"text-align:left\">9:ibplen</th><th style=\"text-align:left\">10:ichan</th><th style=\"text-align:left\">11:ifadein</th><th style=\"text-align:left\">12:ifadeout</th><th style=\"text-align:left\">13:ipchintrp_</th><th style=\"text-align:left\">14:ifadekind</th><th style=\"text-align:left\">15:ktransp</th><th style=\"text-align:left\">16:ipitchlag</th><th style=\"text-align:left\">17</th><th style=\"text-align:left\">18</th><th style=\"text-align:left\">19</th><th style=\"text-align:left\">20</th><th style=\"text-align:left\">...</th></tr></thead><tbody><tr><td style=\"text-align:left\">501.0002 <b>𝍪</b></td><td style=\"text-align:left\">0.040</td><td style=\"text-align:left\">2.000</td><td style=\"text-align:left\">0</td><td style=\"text-align:left\">0.5</td><td style=\"text-align:left\">1</td><td style=\"text-align:left\">17</td><td style=\"text-align:left\">3</td><td style=\"text-align:left\">3</td><td style=\"text-align:left\">1</td><td style=\"text-align:left\">0.02</td><td style=\"text-align:left\">0.02</td><td style=\"text-align:left\">0</td><td style=\"text-align:left\">1</td><td style=\"text-align:left\">0</td><td style=\"text-align:left\">0.1</td><td style=\"text-align:left\">0</td><td style=\"text-align:left\">60</td><td style=\"text-align:left\">0.51518</td><td style=\"text-align:left\">...</td></tr></tbody></table>"
      ],
      "text/plain": [
       "SynthGroup(n=1)\n",
       "    Synth(𝍪 preset:.piano=501.0002 start=0.801 dur=2.000 p4=0.5 kpos=1 kgain=17 idataidx_=3 inumbps=3 ibplen=1 ichan=0.02 ifadein=0.02 ifadeout=0 ipchintrp_=1 ifadekind=0 ktransp=0.1 ipitchlag=0 p17=60 p18=0.515178 p19=1 …)"
      ]
     },
     "execution_count": 2,
     "metadata": {},
     "output_type": "execute_result"
    }
   ],
   "source": [
    "n = Note(60, 1)\n",
    "n.play(sustain=1)"
   ]
  },
  {
   "cell_type": "code",
   "execution_count": 5,
   "id": "54105991-9ea2-44a5-b2e7-73c633183b9a",
   "metadata": {},
   "outputs": [
    {
     "data": {
      "text/plain": [
       "[SynthEvent(delay=0, dur=0.5, instr=.piano, gain=1, chan=1, fade=(0.02, 0.02), kws={'transpose': 0}, sustain=2, position=0.5)\n",
       " bps       0s: 60       0.515178\n",
       "         0.5s: 60       0.515178,\n",
       " SynthEvent(delay=0.5, dur=0.5, instr=.piano, gain=1, chan=1, fade=(0.02, 0.02), kws={'transpose': 0}, sustain=2, position=0.5)\n",
       " bps       0s: 62       0.515178\n",
       "         0.5s: 62       0.515178]"
      ]
     },
     "execution_count": 5,
     "metadata": {},
     "output_type": "execute_result"
    }
   ],
   "source": [
    "ch = Chain([\n",
    "    \"4C:1/2\",\n",
    "    \"4D:1/2\"\n",
    "])\n",
    "ch.events(sustain=2)"
   ]
  },
  {
   "cell_type": "code",
   "execution_count": 6,
   "id": "4970428a-aeef-4971-83c2-fbec3952379b",
   "metadata": {},
   "outputs": [
    {
     "name": "stdout",
     "output_type": "stream",
     "text": [
      ".......... _resolveParams\n",
      "------ applying sustain SynthEvent(delay=0, dur=0.5, instr=.piano, gain=1, chan=1, fade=(0.02, 0.02), kws={'transpose': 0}, sustain=2, position=0.5)\n",
      "bps       0s: 60       0.515178\n",
      "        0.5s: 60       0.515178\n",
      " [[0.0, 60.0, 0.5151779656764225], [0.5, 60.0, 0.5151779656764225]]\n",
      "--------------------- after sustain [[0.0, 60.0, 0.5151779656764225], [0.5, 60.0, 0.5151779656764225], [2.5, 60.0, 0.5151779656764225]]\n",
      ".......... _resolveParams\n",
      "------ applying sustain SynthEvent(delay=0.5, dur=0.5, instr=.piano, gain=1, chan=1, fade=(0.02, 0.02), kws={'transpose': 0}, sustain=2, position=0.5)\n",
      "bps       0s: 62       0.515178\n",
      "        0.5s: 62       0.515178\n",
      " [[0.0, 62.0, 0.5151779656764225], [0.5, 62.0, 0.5151779656764225]]\n",
      "--------------------- after sustain [[0.0, 62.0, 0.5151779656764225], [0.5, 62.0, 0.5151779656764225], [2.5, 62.0, 0.5151779656764225]]\n"
     ]
    },
    {
     "data": {
      "application/vnd.jupyter.widget-view+json": {
       "model_id": "0d9d1ea2ba3a4c05880e0c05734059d8",
       "version_major": 2,
       "version_minor": 0
      },
      "text/plain": [
       "Button(description='Stop', style=ButtonStyle())"
      ]
     },
     "metadata": {},
     "output_type": "display_data"
    },
    {
     "data": {
      "application/vnd.jupyter.widget-view+json": {
       "model_id": "3eebd9cae8394cac9870cbc05387059c",
       "version_major": 2,
       "version_minor": 0
      },
      "text/plain": [
       "Output()"
      ]
     },
     "metadata": {},
     "output_type": "display_data"
    },
    {
     "data": {
      "text/html": [
       "<small><span style=\"\"><b>SynthGroup</b></span>(synths=<code style=\"\">2</code>)</small>\n",
       "<p><small>Instr: <strong style=\"color:MediumSeaGreen\">preset:.piano</strong> - <b>2</b> synths</small></p>\n",
       "<table style=\"font-size: smaller\"<thead><tr><th style=\"text-align:left\">p1</th><th style=\"text-align:left\">start</th><th style=\"text-align:left\">dur</th><th style=\"text-align:left\">p4</th><th style=\"text-align:left\">5:kpos</th><th style=\"text-align:left\">6:kgain</th><th style=\"text-align:left\">7:idataidx_</th><th style=\"text-align:left\">8:inumbps</th><th style=\"text-align:left\">9:ibplen</th><th style=\"text-align:left\">10:ichan</th><th style=\"text-align:left\">11:ifadein</th><th style=\"text-align:left\">12:ifadeout</th><th style=\"text-align:left\">13:ipchintrp_</th><th style=\"text-align:left\">14:ifadekind</th><th style=\"text-align:left\">15:ktransp</th><th style=\"text-align:left\">16:ipitchlag</th><th style=\"text-align:left\">17</th><th style=\"text-align:left\">18</th><th style=\"text-align:left\">19</th><th style=\"text-align:left\">20</th><th style=\"text-align:left\">...</th></tr></thead><tbody><tr><td style=\"text-align:left\">501.0005 <b>𝍪</b></td><td style=\"text-align:left\">0.027</td><td style=\"text-align:left\">2.500</td><td style=\"text-align:left\">0</td><td style=\"text-align:left\">0.5</td><td style=\"text-align:left\">1</td><td style=\"text-align:left\">17</td><td style=\"text-align:left\">3</td><td style=\"text-align:left\">3</td><td style=\"text-align:left\">1</td><td style=\"text-align:left\">0.02</td><td style=\"text-align:left\">0.02</td><td style=\"text-align:left\">0</td><td style=\"text-align:left\">1</td><td style=\"text-align:left\">0</td><td style=\"text-align:left\">0.1</td><td style=\"text-align:left\">0</td><td style=\"text-align:left\">60</td><td style=\"text-align:left\">0.51518</td><td style=\"text-align:left\">...</td></tr><tr><td style=\"text-align:left\">501.0006 <b>𝍪</b></td><td style=\"text-align:left\">0.527</td><td style=\"text-align:left\">2.500</td><td style=\"text-align:left\">0</td><td style=\"text-align:left\">0.5</td><td style=\"text-align:left\">1</td><td style=\"text-align:left\">17</td><td style=\"text-align:left\">3</td><td style=\"text-align:left\">3</td><td style=\"text-align:left\">1</td><td style=\"text-align:left\">0.02</td><td style=\"text-align:left\">0.02</td><td style=\"text-align:left\">0</td><td style=\"text-align:left\">1</td><td style=\"text-align:left\">0</td><td style=\"text-align:left\">0.1</td><td style=\"text-align:left\">0</td><td style=\"text-align:left\">62</td><td style=\"text-align:left\">0.51518</td><td style=\"text-align:left\">...</td></tr></tbody></table>"
      ],
      "text/plain": [
       "SynthGroup(n=2)\n",
       "    Synth(𝍪 preset:.piano=501.0005 start=90.889 dur=2.500 p4=0.5 kpos=1 kgain=17 idataidx_=3 inumbps=3 ibplen=1 ichan=0.02 ifadein=0.02 ifadeout=0 ipchintrp_=1 ifadekind=0 ktransp=0.1 ipitchlag=0 p17=60 p18=0.515178 p19=0.5 …)\n",
       "    Synth(𝍪 preset:.piano=501.0006 start=91.389 dur=2.500 p4=0.5 kpos=1 kgain=17 idataidx_=3 inumbps=3 ibplen=1 ichan=0.02 ifadein=0.02 ifadeout=0 ipchintrp_=1 ifadekind=0 ktransp=0.1 ipitchlag=0 p17=62 p18=0.515178 p19=0.5 …)"
      ]
     },
     "execution_count": 6,
     "metadata": {},
     "output_type": "execute_result"
    }
   ],
   "source": [
    "ch.play(sustain=2)"
   ]
  },
  {
   "cell_type": "code",
   "execution_count": 7,
   "id": "57e55d25-ed96-4ceb-860e-13661b4df5f3",
   "metadata": {},
   "outputs": [
    {
     "name": "stdout",
     "output_type": "stream",
     "text": [
      ".......... _resolveParams\n",
      "------ applying sustain SynthEvent(delay=0, dur=1, instr=.piano, gain=1, chan=1, fade=(0.02, 0.02), sustain=2, position=0.5)\n",
      "bps       0s: 60       0.515178\n",
      "        0.5s: 62       0.515178\n",
      "          1s: 62       0.515178\n",
      " [[0.0, 60.0, 0.5151779656764225], [0.5, 62.0, 0.5151779656764225], [1.0, 62.0, 0.5151779656764225]]\n",
      "--------------------- after sustain [[0.0, 60.0, 0.5151779656764225], [0.5, 62.0, 0.5151779656764225], [1.0, 62.0, 0.5151779656764225], [3.0, 62.0, 0.5151779656764225]]\n"
     ]
    },
    {
     "data": {
      "application/vnd.jupyter.widget-view+json": {
       "model_id": "52c33f5ac8224625a5e30a84499f395b",
       "version_major": 2,
       "version_minor": 0
      },
      "text/plain": [
       "Button(description='Stop', style=ButtonStyle())"
      ]
     },
     "metadata": {},
     "output_type": "display_data"
    },
    {
     "data": {
      "application/vnd.jupyter.widget-view+json": {
       "model_id": "400e3f61cbab4fac90665f30220dd639",
       "version_major": 2,
       "version_minor": 0
      },
      "text/plain": [
       "Output()"
      ]
     },
     "metadata": {},
     "output_type": "display_data"
    },
    {
     "data": {
      "text/html": [
       "<small><span style=\"\"><b>SynthGroup</b></span>(synths=<code style=\"\">1</code>)</small>\n",
       "<p><small>Instr: <strong style=\"color:MediumSeaGreen\">preset:.piano</strong> - <b>1</b> synths</small></p>\n",
       "<table style=\"font-size: smaller\"<thead><tr><th style=\"text-align:left\">p1</th><th style=\"text-align:left\">start</th><th style=\"text-align:left\">dur</th><th style=\"text-align:left\">p4</th><th style=\"text-align:left\">5:kpos</th><th style=\"text-align:left\">6:kgain</th><th style=\"text-align:left\">7:idataidx_</th><th style=\"text-align:left\">8:inumbps</th><th style=\"text-align:left\">9:ibplen</th><th style=\"text-align:left\">10:ichan</th><th style=\"text-align:left\">11:ifadein</th><th style=\"text-align:left\">12:ifadeout</th><th style=\"text-align:left\">13:ipchintrp_</th><th style=\"text-align:left\">14:ifadekind</th><th style=\"text-align:left\">15:ktransp</th><th style=\"text-align:left\">16:ipitchlag</th><th style=\"text-align:left\">17</th><th style=\"text-align:left\">18</th><th style=\"text-align:left\">19</th><th style=\"text-align:left\">20</th><th style=\"text-align:left\">...</th></tr></thead><tbody><tr><td style=\"text-align:left\">501.0007 <b>𝍪</b></td><td style=\"text-align:left\">0.032</td><td style=\"text-align:left\">3.000</td><td style=\"text-align:left\">0</td><td style=\"text-align:left\">0.5</td><td style=\"text-align:left\">1</td><td style=\"text-align:left\">17</td><td style=\"text-align:left\">4</td><td style=\"text-align:left\">3</td><td style=\"text-align:left\">1</td><td style=\"text-align:left\">0.02</td><td style=\"text-align:left\">0.02</td><td style=\"text-align:left\">0</td><td style=\"text-align:left\">1</td><td style=\"text-align:left\">0</td><td style=\"text-align:left\">0.1</td><td style=\"text-align:left\">0</td><td style=\"text-align:left\">60</td><td style=\"text-align:left\">0.51518</td><td style=\"text-align:left\">...</td></tr></tbody></table>"
      ],
      "text/plain": [
       "SynthGroup(n=1)\n",
       "    Synth(𝍪 preset:.piano=501.0007 start=102.558 dur=3.000 p4=0.5 kpos=1 kgain=17 idataidx_=4 inumbps=3 ibplen=1 ichan=0.02 ifadein=0.02 ifadeout=0 ipchintrp_=1 ifadekind=0 ktransp=0.1 ipitchlag=0 p17=60 p18=0.515178 p19=0.5 …)"
      ]
     },
     "execution_count": 7,
     "metadata": {},
     "output_type": "execute_result"
    }
   ],
   "source": [
    "ch = Chain([\n",
    "    \"4C:1/2:gliss\",\n",
    "    \"4D:1/2\"\n",
    "])\n",
    "ch.play(sustain=2)"
   ]
  },
  {
   "cell_type": "code",
   "execution_count": 2,
   "id": "f8170c91-1238-49be-9220-5ed858445f41",
   "metadata": {},
   "outputs": [
    {
     "name": "stdout",
     "output_type": "stream",
     "text": [
      "[SynthEvent(delay=0, dur=1, instr=.piano, gain=0.7071, chan=1, fade=(0.02, 0.02), kws={'transpose': 0}, sustain=0.68, position=0.5)\n",
      "bps       0s: 60       0.515178\n",
      "          1s: 60       0.515178\n",
      ", SynthEvent(delay=0, dur=1, instr=.piano, gain=0.7071, chan=1, fade=(0.02, 0.02), kws={'transpose': 0}, sustain=0.68, position=0.5)\n",
      "bps       0s: 67       0.515178\n",
      "          1s: 67       0.515178\n",
      "]\n"
     ]
    },
    {
     "data": {
      "application/vnd.jupyter.widget-view+json": {
       "model_id": "980f4abe83e04ca483dcef80d6ff0442",
       "version_major": 2,
       "version_minor": 0
      },
      "text/plain": [
       "Button(description='Stop', style=ButtonStyle())"
      ]
     },
     "metadata": {},
     "output_type": "display_data"
    },
    {
     "data": {
      "application/vnd.jupyter.widget-view+json": {
       "model_id": "62a91f496ff74268bfbcea9fa505623f",
       "version_major": 2,
       "version_minor": 0
      },
      "text/plain": [
       "Output()"
      ]
     },
     "metadata": {},
     "output_type": "display_data"
    },
    {
     "data": {
      "text/html": [
       "<small><span style=\"\"><b>SynthGroup</b></span>(synths=<code style=\"\">2</code>)</small>\n",
       "<p><small>Instr: <strong style=\"color:MediumSeaGreen\">preset:.piano</strong> - <b>2</b> synths</small></p>\n",
       "<table style=\"font-size: smaller\"<thead><tr><th style=\"text-align:left\">p1</th><th style=\"text-align:left\">start</th><th style=\"text-align:left\">dur</th><th style=\"text-align:left\">p4</th><th style=\"text-align:left\">5:kpos</th><th style=\"text-align:left\">6:kgain</th><th style=\"text-align:left\">7:idataidx_</th><th style=\"text-align:left\">8:inumbps</th><th style=\"text-align:left\">9:ibplen</th><th style=\"text-align:left\">10:ichan</th><th style=\"text-align:left\">11:ifadein</th><th style=\"text-align:left\">12:ifadeout</th><th style=\"text-align:left\">13:ipchintrp_</th><th style=\"text-align:left\">14:ifadekind</th><th style=\"text-align:left\">15:ktransp</th><th style=\"text-align:left\">16:ipitchlag</th><th style=\"text-align:left\">17</th><th style=\"text-align:left\">18</th><th style=\"text-align:left\">19</th><th style=\"text-align:left\">20</th><th style=\"text-align:left\">...</th></tr></thead><tbody><tr><td style=\"text-align:left\">501.0004 <b>𝍪</b></td><td style=\"text-align:left\">0.039</td><td style=\"text-align:left\">1.680</td><td style=\"text-align:left\">0</td><td style=\"text-align:left\">0.5</td><td style=\"text-align:left\">0.70711</td><td style=\"text-align:left\">17</td><td style=\"text-align:left\">3</td><td style=\"text-align:left\">3</td><td style=\"text-align:left\">1</td><td style=\"text-align:left\">0.02</td><td style=\"text-align:left\">0.02</td><td style=\"text-align:left\">0</td><td style=\"text-align:left\">1</td><td style=\"text-align:left\">0</td><td style=\"text-align:left\">0.1</td><td style=\"text-align:left\">0</td><td style=\"text-align:left\">60</td><td style=\"text-align:left\">0.51518</td><td style=\"text-align:left\">...</td></tr><tr><td style=\"text-align:left\">501.0005 <b>𝍪</b></td><td style=\"text-align:left\">0.039</td><td style=\"text-align:left\">1.680</td><td style=\"text-align:left\">0</td><td style=\"text-align:left\">0.5</td><td style=\"text-align:left\">0.70711</td><td style=\"text-align:left\">17</td><td style=\"text-align:left\">3</td><td style=\"text-align:left\">3</td><td style=\"text-align:left\">1</td><td style=\"text-align:left\">0.02</td><td style=\"text-align:left\">0.02</td><td style=\"text-align:left\">0</td><td style=\"text-align:left\">1</td><td style=\"text-align:left\">0</td><td style=\"text-align:left\">0.1</td><td style=\"text-align:left\">0</td><td style=\"text-align:left\">67</td><td style=\"text-align:left\">0.51518</td><td style=\"text-align:left\">...</td></tr></tbody></table>"
      ],
      "text/plain": [
       "SynthGroup(n=2)\n",
       "    Synth(𝍪 preset:.piano=501.0004 start=8.425 dur=1.680 p4=0.5 kpos=0.707107 kgain=17 idataidx_=3 inumbps=3 ibplen=1 ichan=0.02 ifadein=0.02 ifadeout=0 ipchintrp_=1 ifadekind=0 ktransp=0.1 ipitchlag=0 p17=60 p18=0.515178 p19=1 …)\n",
       "    Synth(𝍪 preset:.piano=501.0005 start=8.425 dur=1.680 p4=0.5 kpos=0.707107 kgain=17 idataidx_=3 inumbps=3 ibplen=1 ichan=0.02 ifadein=0.02 ifadeout=0 ipchintrp_=1 ifadekind=0 ktransp=0.1 ipitchlag=0 p17=67 p18=0.515178 p19=1 …)"
      ]
     },
     "execution_count": 2,
     "metadata": {},
     "output_type": "execute_result"
    }
   ],
   "source": [
    "from maelzel.core import *\n",
    "\n",
    "ch = Chord(\"4C,4G:1\")\n",
    "print(ch.events(sustain=0.68))\n",
    "gr = ch.play(sustain=0.68)\n",
    "gr"
   ]
  },
  {
   "cell_type": "code",
   "execution_count": 6,
   "id": "afd39b24-ec19-41cb-a2e3-099e42115772",
   "metadata": {},
   "outputs": [
    {
     "data": {
      "application/vnd.jupyter.widget-view+json": {
       "model_id": "1fce630826c84dd48046b0cb52f9b74e",
       "version_major": 2,
       "version_minor": 0
      },
      "text/plain": [
       "Button(description='Stop', style=ButtonStyle())"
      ]
     },
     "metadata": {},
     "output_type": "display_data"
    },
    {
     "data": {
      "application/vnd.jupyter.widget-view+json": {
       "model_id": "1a814d9543b140478490bfd86c335120",
       "version_major": 2,
       "version_minor": 0
      },
      "text/plain": [
       "Output()"
      ]
     },
     "metadata": {},
     "output_type": "display_data"
    },
    {
     "data": {
      "text/html": [
       "<p><span style=\"font-size:12px;\">Synth(𝍪 <strong style=\"color:MediumSeaGreen\">preset:.piano</strong>:501.0009, <span style=\"font-size:12px;\">5:<b>kpos</b>=<code>1</code> 6:<b>kgain</b>=<code>17</code> 7:<b>idataidx_</b>=<code>3</code> 8:<b>inumbps</b>=<code>3</code> 9:<b>ibplen</b>=<code>1</code> 10:<b>ichan</b>=<code>0.02</code> 11:<b>ifadein</b>=<code>0.02</code> 12:<b>ifadeout</b>=<code>0</code> 13:<b>ipchintrp_</b>=<code>1</code> 14:<b>ifadekind</b>=<code>0</code> 15:<b>ktransp</b>=<code>0.1</code> 16:<b>ipitchlag</b>=<code>0</code> <b>17</b>=<code>60</code> <b>18</b>=<code>0.515178</code> <b>19</b>=<code>1</code> …</span>)</span></p>"
      ],
      "text/plain": [
       "Synth(𝍪 preset:.piano=501.0009 start=66.974 dur=1.500 p4=0.5 kpos=1 kgain=17 idataidx_=3 inumbps=3 ibplen=1 ichan=0.02 ifadein=0.02 ifadeout=0 ipchintrp_=1 ifadekind=0 ktransp=0.1 ipitchlag=0 p17=60 p18=0.515178 p19=1 …)"
      ]
     },
     "execution_count": 6,
     "metadata": {},
     "output_type": "execute_result"
    }
   ],
   "source": [
    "Note(\"4C:1\").play(sustain=0.5)[0]"
   ]
  },
  {
   "cell_type": "code",
   "execution_count": 7,
   "id": "af502981-03ad-4e03-90dd-48730823ed26",
   "metadata": {},
   "outputs": [
    {
     "data": {
      "application/vnd.jupyter.widget-view+json": {
       "model_id": "87f358adc07246f78de13376de191923",
       "version_major": 2,
       "version_minor": 0
      },
      "text/plain": [
       "Button(description='Stop', style=ButtonStyle())"
      ]
     },
     "metadata": {},
     "output_type": "display_data"
    },
    {
     "data": {
      "application/vnd.jupyter.widget-view+json": {
       "model_id": "0ce0fd1f65394152819b67105cbb604a",
       "version_major": 2,
       "version_minor": 0
      },
      "text/plain": [
       "Output()"
      ]
     },
     "metadata": {},
     "output_type": "display_data"
    },
    {
     "data": {
      "text/html": [
       "<small><span style=\"\"><b>SynthGroup</b></span>(synths=<code style=\"\">2</code>)</small>\n",
       "<p><small>Instr: <strong style=\"color:MediumSeaGreen\">preset:.piano</strong> - <b>2</b> synths</small></p>\n",
       "<table style=\"font-size: smaller\"<thead><tr><th style=\"text-align:left\">p1</th><th style=\"text-align:left\">start</th><th style=\"text-align:left\">dur</th><th style=\"text-align:left\">p4</th><th style=\"text-align:left\">5:kpos</th><th style=\"text-align:left\">6:kgain</th><th style=\"text-align:left\">7:idataidx_</th><th style=\"text-align:left\">8:inumbps</th><th style=\"text-align:left\">9:ibplen</th><th style=\"text-align:left\">10:ichan</th><th style=\"text-align:left\">11:ifadein</th><th style=\"text-align:left\">12:ifadeout</th><th style=\"text-align:left\">13:ipchintrp_</th><th style=\"text-align:left\">14:ifadekind</th><th style=\"text-align:left\">15:ktransp</th><th style=\"text-align:left\">16:ipitchlag</th><th style=\"text-align:left\">17</th><th style=\"text-align:left\">18</th><th style=\"text-align:left\">19</th><th style=\"text-align:left\">20</th><th style=\"text-align:left\">...</th></tr></thead><tbody><tr><td style=\"text-align:left\">501.001 <b>𝍪</b></td><td style=\"text-align:left\">0.033</td><td style=\"text-align:left\">1.000</td><td style=\"text-align:left\">0</td><td style=\"text-align:left\">0.5</td><td style=\"text-align:left\">0.57983</td><td style=\"text-align:left\">17</td><td style=\"text-align:left\">2</td><td style=\"text-align:left\">3</td><td style=\"text-align:left\">1</td><td style=\"text-align:left\">0.3</td><td style=\"text-align:left\">0.4</td><td style=\"text-align:left\">0</td><td style=\"text-align:left\">1</td><td style=\"text-align:left\">0</td><td style=\"text-align:left\">0.1</td><td style=\"text-align:left\">0</td><td style=\"text-align:left\">60</td><td style=\"text-align:left\">0.51518</td><td style=\"text-align:left\">...</td></tr><tr><td style=\"text-align:left\">501.0011 <b>𝍪</b></td><td style=\"text-align:left\">0.033</td><td style=\"text-align:left\">1.000</td><td style=\"text-align:left\">0</td><td style=\"text-align:left\">0.5</td><td style=\"text-align:left\">0.57983</td><td style=\"text-align:left\">17</td><td style=\"text-align:left\">2</td><td style=\"text-align:left\">3</td><td style=\"text-align:left\">1</td><td style=\"text-align:left\">0.3</td><td style=\"text-align:left\">0.4</td><td style=\"text-align:left\">0</td><td style=\"text-align:left\">1</td><td style=\"text-align:left\">0</td><td style=\"text-align:left\">0.1</td><td style=\"text-align:left\">0</td><td style=\"text-align:left\">67</td><td style=\"text-align:left\">0.51518</td><td style=\"text-align:left\">...</td></tr></tbody></table>"
      ],
      "text/plain": [
       "SynthGroup(n=2)\n",
       "    Synth(𝍪 preset:.piano=501.001 start=1257.779 dur=1.000 p4=0.5 kpos=0.579828 kgain=17 idataidx_=2 inumbps=3 ibplen=1 ichan=0.3 ifadein=0.4 ifadeout=0 ipchintrp_=1 ifadekind=0 ktransp=0.1 ipitchlag=0 p17=60 p18=0.515178 p19=1 …)\n",
       "    Synth(𝍪 preset:.piano=501.0011 start=1257.779 dur=1.000 p4=0.5 kpos=0.579828 kgain=17 idataidx_=2 inumbps=3 ibplen=1 ichan=0.3 ifadein=0.4 ifadeout=0 ipchintrp_=1 ifadekind=0 ktransp=0.1 ipitchlag=0 p17=67 p18=0.515178 p19=1 …)"
      ]
     },
     "execution_count": 7,
     "metadata": {},
     "output_type": "execute_result"
    }
   ],
   "source": [
    "gr = Chord(\"4C,4G\", 1).play(gain=0.82, fade=(0.3, 0.4))\n",
    "gr"
   ]
  },
  {
   "cell_type": "code",
   "execution_count": 9,
   "id": "cb3d7b55-a632-4a1d-8730-d2c574a7ef47",
   "metadata": {},
   "outputs": [],
   "source": [
    "gr0 = gr[0]"
   ]
  },
  {
   "cell_type": "code",
   "execution_count": 10,
   "id": "486d360b-5b40-4d13-a21e-51f795c2ac75",
   "metadata": {},
   "outputs": [
    {
     "data": {
      "text/plain": [
       "[0.5,\n",
       " 0.5798275605729689,\n",
       " 17.0,\n",
       " 2.0,\n",
       " 3.0,\n",
       " 1.0,\n",
       " 0.3,\n",
       " 0.4,\n",
       " 0.0,\n",
       " 1.0,\n",
       " 0.0,\n",
       " 0.1,\n",
       " 0.0,\n",
       " 60.0,\n",
       " 0.5151779656764225,\n",
       " 1.0,\n",
       " 60.0,\n",
       " 0.5151779656764225]"
      ]
     },
     "execution_count": 10,
     "metadata": {},
     "output_type": "execute_result"
    }
   ],
   "source": [
    "gr0.args"
   ]
  },
  {
   "cell_type": "code",
   "execution_count": 11,
   "id": "7a611a8d-2072-4e3d-a4cc-79f3d8743c63",
   "metadata": {},
   "outputs": [
    {
     "data": {
      "text/plain": [
       "0"
      ]
     },
     "execution_count": 11,
     "metadata": {},
     "output_type": "execute_result"
    }
   ],
   "source": [
    "gr0.controlsSlot"
   ]
  },
  {
   "cell_type": "code",
   "execution_count": null,
   "id": "1f85e3ac-3191-4de2-9103-5f3c16070b08",
   "metadata": {},
   "outputs": [],
   "source": []
  }
 ],
 "metadata": {
  "kernelspec": {
   "display_name": "Python 3 (ipykernel)",
   "language": "python",
   "name": "python3"
  },
  "language_info": {
   "codemirror_mode": {
    "name": "ipython",
    "version": 3
   },
   "file_extension": ".py",
   "mimetype": "text/x-python",
   "name": "python",
   "nbconvert_exporter": "python",
   "pygments_lexer": "ipython3",
   "version": "3.11.4"
  }
 },
 "nbformat": 4,
 "nbformat_minor": 5
}
