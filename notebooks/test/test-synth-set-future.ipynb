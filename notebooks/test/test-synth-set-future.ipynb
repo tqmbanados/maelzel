{
 "cells": [
  {
   "cell_type": "code",
   "execution_count": 1,
   "id": "9357f9ec-8e83-47de-902e-1986314cd98c",
   "metadata": {},
   "outputs": [],
   "source": [
    "from csoundengine import *\n",
    "import time"
   ]
  },
  {
   "cell_type": "code",
   "execution_count": 2,
   "id": "345827ec-64bb-4177-aec8-2aba196fcdae",
   "metadata": {},
   "outputs": [
    {
     "name": "stderr",
     "output_type": "stream",
     "text": [
      "\n",
      "\n",
      "\n",
      "--Csound version 6.19 (double samples) Oct 30 2023\n",
      "[commit: 79e5d31bea441e5289073319ab2b1e42d01814b9]\n",
      "\u001b[mlibsndfile-1.2.0\n",
      "\u001b[msr = 48000.0,\u001b[m kr = 750.000,\u001b[m ksmps = 64\n",
      "\u001b[m0dBFS level = 1.0,\u001b[m A4 tuning = 440.0\n",
      "\u001b[maudio buffered in 512 sample-frame blocks\n",
      "\u001b[mreading 4096-byte blks of shorts from adc:Built-in Audio Pro: (RAW)\n",
      "writing 1024 sample blks of 64-bit floats to dac:Built-in Audio Pro:\n",
      "SECTION 1:\n"
     ]
    }
   ],
   "source": [
    "s = Session()\n"
   ]
  },
  {
   "cell_type": "code",
   "execution_count": 3,
   "id": "c5bd1b20-2edf-4b88-ab97-f5ac0e51c24d",
   "metadata": {},
   "outputs": [
    {
     "data": {
      "text/html": [
       "Instr <strong style=\"color:MediumSeaGreen\">test</strong><br>\n",
       "&nbsp&nbsp&nbsp&nbsp<span style=\"font-size:90%\"><b>kfreq</b>:p5=<code>2000</code></span><br>\n",
       "<hr style=\"width:38%;text-align:left;margin-left:0\">\n",
       "<span style=\"font-size:90%\"><div class=\"highlight\" style=\"background: #f8f8f8\"><pre style=\"line-height: 125%;\"><span></span><code><span style=\"color: #008000\">outch</span><span style=\"color: #bbbbbb\"> </span><span style=\"color: #666666\">1</span>,<span style=\"color: #bbbbbb\"> </span><span style=\"color: #008000\">oscili</span>:<span style=\"color: #B00040\">a</span>(<span style=\"color: #666666\">0.1</span>,<span style=\"color: #bbbbbb\"> </span><span style=\"color: #B00040\">k</span>freq)\n",
       "</code></pre></div>\n",
       "</span>"
      ],
      "text/plain": [
       "Instr(test, kfreq:5=2000)"
      ]
     },
     "execution_count": 3,
     "metadata": {},
     "output_type": "execute_result"
    }
   ],
   "source": [
    "s.defInstr('test', r'''\n",
    "|kfreq=2000|\n",
    "\n",
    "outch 1, oscili:a(0.1, kfreq)\n",
    "''')"
   ]
  },
  {
   "cell_type": "code",
   "execution_count": 12,
   "id": "d498d62a-ab03-45c9-ad07-4ca4d5a8fe56",
   "metadata": {},
   "outputs": [],
   "source": [
    "synth = s.sched('test', delay=1.5, dur=5)\n",
    "# time.sleep(1)\n",
    "# synth.set(kfreq=440)\n",
    "delay = synth.start - s.engine.elapsedTime()\n",
    "# synth.automate('kfreq', [max(0, delay - 0.25), 440, delay+0.01, 440])\n",
    "synth.set(kfreq=440)\n",
    "synth.set(kfreq=800, delay=2)"
   ]
  },
  {
   "cell_type": "code",
   "execution_count": 13,
   "id": "1ddf26ed-1d8b-4beb-9037-d5dbfaf9b7ec",
   "metadata": {},
   "outputs": [
    {
     "name": "stdout",
     "output_type": "stream",
     "text": [
      "Exiting python, closing all active engines\n",
      "... stopping engine0\n"
     ]
    },
    {
     "name": "stderr",
     "output_type": "stream",
     "text": [
      "\u001b[m *** rtjack: connection to JACK server was lost, reconnecting...\u001b[m *** rtjack: connection to JACK server was lost, reconnecting...\u001b[m *** rtjack: connection to JACK server was lost, reconnecting...\u001b[mend of score.\t\t   overall amps:\u001b[m  0.10000  0.00000\n",
      "\t   overall samples out of range:\u001b[m        0\u001b[m        0\u001b[m\n",
      "0 errors in performance\n",
      "\u001b[m6754439 1024 sample blks of 64-bit floats written to dac:Built-in Audio Pro:\n"
     ]
    }
   ],
   "source": [
    "synth.stop()"
   ]
  },
  {
   "cell_type": "code",
   "execution_count": 13,
   "id": "bb2d9fa9-ff20-4107-8060-f84708c8f9a3",
   "metadata": {},
   "outputs": [],
   "source": [
    "synth.set(kfreq=540)"
   ]
  },
  {
   "cell_type": "code",
   "execution_count": 15,
   "id": "c3740a1f-6c88-45c6-9ae2-dfe5d7c7e8ef",
   "metadata": {},
   "outputs": [
    {
     "data": {
      "text/plain": [
       "39.693999999999996"
      ]
     },
     "execution_count": 15,
     "metadata": {},
     "output_type": "execute_result"
    }
   ],
   "source": [
    "synth.start"
   ]
  },
  {
   "cell_type": "code",
   "execution_count": null,
   "id": "937a1055-aff8-4a59-8f25-70ab3b62de01",
   "metadata": {},
   "outputs": [],
   "source": []
  }
 ],
 "metadata": {
  "kernelspec": {
   "display_name": "Python 3 (ipykernel)",
   "language": "python",
   "name": "python3"
  },
  "language_info": {
   "codemirror_mode": {
    "name": "ipython",
    "version": 3
   },
   "file_extension": ".py",
   "mimetype": "text/x-python",
   "name": "python",
   "nbconvert_exporter": "python",
   "pygments_lexer": "ipython3",
   "version": "3.11.4"
  }
 },
 "nbformat": 4,
 "nbformat_minor": 5
}
