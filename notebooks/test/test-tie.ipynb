{
 "cells": [
  {
   "cell_type": "code",
   "execution_count": 2,
   "id": "766d18f6-1c03-438a-a99c-72c0f1566d23",
   "metadata": {},
   "outputs": [],
   "source": [
    "from maelzel.core import *"
   ]
  },
  {
   "cell_type": "code",
   "execution_count": 4,
   "id": "e1c276d2-79c5-4160-92f6-2a96ea66f5fe",
   "metadata": {},
   "outputs": [
    {
     "data": {
      "text/html": [
       "<code style=\"white-space: pre-line; font-size:0.9em;\">Chain([<span style=\"color:#6666E0\">4C~:1♩</span>, <span style=\"color:#6666E0\">‹4C 4E 0.333♩›</span>, <span style=\"color:#6666E0\">‹4E 4G 1♩›</span>, <span style=\"color:#6666E0\">4F:1♩</span>], dur=3.333)</code><br>\n",
       "        <img style=\"display:inline; padding:10px;\n",
       "margin-top:14px;\n",
       "width:283px\"\n",
       "             src=\"data:image/png;base64,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\"/>"
      ],
      "text/plain": [
       "Chain([4C~:1♩, ‹4C 4E 0.333♩›, ‹4E 4G 1♩›, 4F:1♩])"
      ]
     },
     "execution_count": 4,
     "metadata": {},
     "output_type": "execute_result"
    }
   ],
   "source": [
    "ch = Chain([\n",
    "    Note(\"4C~:1\", label=\"foo\"),\n",
    "    \"4C,4E~:1/3\",\n",
    "    \"4E,4G~\",\n",
    "    \"4F\"\n",
    "])\n",
    "ch"
   ]
  },
  {
   "cell_type": "code",
   "execution_count": 5,
   "id": "04e6f137-830c-4386-8738-25700a694016",
   "metadata": {},
   "outputs": [
    {
     "data": {
      "text/plain": [
       "[«4C~ 0:1 1♩ attachments=[Text(text=foo, fontsize=9.0)]»,\n",
       " «~[4C 4E]~ 1:1.333 1/3♩»,\n",
       " «~[4E 4G]~ 1.333:2.333 1♩»,\n",
       " «~4F 2.333:3.333 1♩»]"
      ]
     },
     "execution_count": 5,
     "metadata": {},
     "output_type": "execute_result"
    }
   ],
   "source": [
    "ch.scoringEvents()"
   ]
  },
  {
   "cell_type": "code",
   "execution_count": 22,
   "id": "2c119a1e-c206-46bd-b677-3ebc99b5655b",
   "metadata": {},
   "outputs": [
    {
     "name": "stdout",
     "output_type": "stream",
     "text": [
      "UnquantizedPart #0:\n",
      "  Measure #0\n",
      "    Timesig: 4/4 (quarter=60)\n",
      "    Node ratio: 1/1, offset=0, end=4\n",
      "      Node ratio: 1/1, offset=0, end=1\n",
      "        «4C 0:1 1♩ attachments=[Text(text=foo, fontsize=9.0), Clef(kind=treble)]\n",
      "          properties={'clef': 'treble'}»\n",
      "      Node ratio: 3/2, offset=1, end=2\n",
      "        «[4C 4E] 1:1.333 1/3♩ 3/2»\n",
      "        «rest 1.333:2 2/3♩ 3/2»\n",
      "      Node ratio: 1/1, offset=2, end=4\n",
      "        «rest 2:4 2♩»\n"
     ]
    }
   ],
   "source": [
    "r = ch.render()\n",
    "r.quantizedScore.dump()"
   ]
  },
  {
   "cell_type": "code",
   "execution_count": 6,
   "id": "e01ef0fa-f74c-4036-b650-0eaf73dbb33f",
   "metadata": {},
   "outputs": [
    {
     "data": {
      "text/html": [
       "<code style=\"white-space: pre-line; font-size:0.9em;\">Chain([<span style=\"color:#6666E0\">‹4C 4E 4A 1♩›</span>, <span style=\"color:#6666E0\">‹4E 4G 4A 0.333♩›</span>], dur=1.333)</code><br>\n",
       "        <img style=\"display:inline; padding:10px;\n",
       "margin-top:14px;\n",
       "width:220px\"\n",
       "             src=\"data:image/png;base64,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\"/>"
      ],
      "text/plain": [
       "Chain([‹4C 4E 4A 1♩›, ‹4E 4G 4A 0.333♩›])"
      ]
     },
     "execution_count": 6,
     "metadata": {},
     "output_type": "execute_result"
    }
   ],
   "source": [
    "ch = Chain([\n",
    "    \"4C,4E~,4A:1\", \n",
    "    \"4E,4G,4A:1/3\"\n",
    "])\n",
    "ch"
   ]
  },
  {
   "cell_type": "code",
   "execution_count": null,
   "id": "fa13d483-2ea0-4bc2-aafb-a5f62b5374e0",
   "metadata": {},
   "outputs": [],
   "source": []
  }
 ],
 "metadata": {
  "kernelspec": {
   "display_name": "Python 3 (ipykernel)",
   "language": "python",
   "name": "python3"
  },
  "language_info": {
   "codemirror_mode": {
    "name": "ipython",
    "version": 3
   },
   "file_extension": ".py",
   "mimetype": "text/x-python",
   "name": "python",
   "nbconvert_exporter": "python",
   "pygments_lexer": "ipython3",
   "version": "3.11.4"
  }
 },
 "nbformat": 4,
 "nbformat_minor": 5
}
