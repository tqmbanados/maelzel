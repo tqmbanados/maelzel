{
 "cells": [
  {
   "cell_type": "code",
   "execution_count": 1,
   "id": "026d4bb5-9beb-464f-9b10-27f00e8f9c9b",
   "metadata": {},
   "outputs": [],
   "source": [
    "from maelzel.core import *\n"
   ]
  },
  {
   "cell_type": "code",
   "execution_count": 7,
   "id": "d9aa37be-1da1-414a-abcf-edde759bc007",
   "metadata": {},
   "outputs": [
    {
     "data": {
      "text/html": [
       "<pre style=\"white-space: pre-wrap; font-size:0.9em;\">8C:1♩</pre><br>\n",
       "        <img style=\"display:inline; padding:10px;\n",
       "margin-top:14px;\n",
       "width:143px\"\n",
       "             src=\"data:image/png;base64,iVBORw0KGgoAAAANSUhEUgAAAI8AAABiCAIAAADm2xeYAAAJLmlDQ1BJQ0MgUHJvZmlsZQAAeJyVlWdQk1kXx+/zPOmFQBJCh1BDkSolgJQQWijSq6hA6J1QRWyIuAIriog0RZBFARdclSJrRRQLi4ICFnSDLALKunEVUUFZcN8ZnfcdP7z/mXvPb/5z5t5zz/lwASCIg2XBy3tiUrrA28mOGRgUzATfKIyflsLx9HQD39W7EQCtxHu638/5rggRkWn85bi4vHL5KYJ0AKDsZdbMSk9Z4aPLTA+P/8JnV1iwXOAy31jh6H957EvOvyz6kuPrzV1+FQoAHCn6Gw7/hv9z74pUOIL02KjIbKZPclR6Vpggkpm20gkel8v0FCRHxSZEflPw/5X8HaVHZqevRG5yyiZBbHRMOvN/DjUyMDQEX2fxxutLjyFG/3/PZ0VfveR6ANhzACD7vnrhlQB07gJA+tFXT225r5R8ADru8DMEmf96qJUNDQiAAuhABigCVaAJdIERMAOWwBY4ABfgAXxBENgA+CAGJAIByAK5YAcoAEVgHzgIqkAtaABNoBWcBp3gPLgCroPb4C4YBo+BEEyCl0AE3oEFCIKwEBmiQTKQEqQO6UBGEBuyhhwgN8gbCoJCoWgoCcqAcqGdUBFUClVBdVAT9At0DroC3YQGoYfQODQD/Q19hBGYBNNhBVgD1ofZMAd2hX3h9XA0nArnwPnwXrgCrodPwh3wFfg2PAwL4ZfwHAIQIsJAlBFdhI1wEQ8kGIlCBMhWpBApR+qRVqQb6UPuIUJkFvmAwqBoKCZKF2WJckb5ofioVNRWVDGqCnUC1YHqRd1DjaNEqM9oMloerYO2QPPQgehodBa6AF2ObkS3o6+hh9GT6HcYDIaBYWHMMM6YIEwcZjOmGHMY04a5jBnETGDmsFisDFYHa4X1wIZh07EF2ErsSewl7BB2EvseR8Qp4YxwjrhgXBIuD1eOa8ZdxA3hpnALeHG8Ot4C74GPwG/Cl+Ab8N34O/hJ/AJBgsAiWBF8CXGEHYQKQivhGmGM8IZIJKoQzYlexFjidmIF8RTxBnGc+IFEJWmTuKQQUgZpL+k46TLpIekNmUzWINuSg8np5L3kJvJV8lPyezGamJ4YTyxCbJtYtViH2JDYKwqeok7hUDZQcijllDOUO5RZcby4hjhXPEx8q3i1+DnxUfE5CZqEoYSHRKJEsUSzxE2JaSqWqkF1oEZQ86nHqFepEzSEpkrj0vi0nbQG2jXaJB1DZ9F59Dh6Ef1n+gBdJEmVNJb0l8yWrJa8IClkIAwNBo+RwChhnGaMMD5KKUhxpCKl9ki1Sg1JzUvLSdtKR0oXSrdJD0t/lGHKOMjEy+yX6ZR5IouS1Zb1ks2SPSJ7TXZWji5nKceXK5Q7LfdIHpbXlveW3yx/TL5ffk5BUcFJIUWhUuGqwqwiQ9FWMU6xTPGi4owSTclaKVapTOmS0gumJJPDTGBWMHuZImV5ZWflDOU65QHlBRWWip9KnkqbyhNVgipbNUq1TLVHVaSmpOaulqvWovZIHa/OVo9RP6Tepz6vwdII0Nit0akxzZJm8Vg5rBbWmCZZ00YzVbNe874WRoutFa91WOuuNqxtoh2jXa19RwfWMdWJ1TmsM7gKvcp8VdKq+lWjuiRdjm6mbovuuB5Dz00vT69T75W+mn6w/n79Pv3PBiYGCQYNBo8NqYYuhnmG3YZ/G2kb8Y2qje6vJq92XL1tddfq18Y6xpHGR4wfmNBM3E12m/SYfDI1MxWYtprOmKmZhZrVmI2y6WxPdjH7hjna3M58m/l58w8WphbpFqct/rLUtYy3bLacXsNaE7mmYc2ElYpVmFWdldCaaR1qfdRaaKNsE2ZTb/PMVtU2wrbRdoqjxYnjnOS8sjOwE9i1281zLbhbuJftEXsn+0L7AQeqg59DlcNTRxXHaMcWR5GTidNmp8vOaGdX5/3OozwFHp/XxBO5mLlscel1Jbn6uFa5PnPTdhO4dbvD7i7uB9zH1qqvTVrb6QE8eB4HPJ54sjxTPX/1wnh5elV7Pfc29M717vOh+Wz0afZ552vnW+L72E/TL8Ovx5/iH+Lf5D8fYB9QGiAM1A/cEng7SDYoNqgrGBvsH9wYPLfOYd3BdZMhJiEFISPrWeuz19/cILshYcOFjZSNYRvPhKJDA0KbQxfDPMLqw+bCeeE14SI+l3+I/zLCNqIsYibSKrI0cirKKqo0ajraKvpA9EyMTUx5zGwsN7Yq9nWcc1xt3Hy8R/zx+KWEgIS2RFxiaOK5JGpSfFJvsmJydvJgik5KQYow1SL1YKpI4CpoTIPS1qd1pdOXP8X+DM2MXRnjmdaZ1Znvs/yzzmRLZCdl92/S3rRn01SOY85Pm1Gb+Zt7cpVzd+SOb+FsqdsKbQ3f2rNNdVv+tsntTttP7CDsiN/xW55BXmne250BO7vzFfK350/sctrVUiBWICgY3W25u/YH1A+xPwzsWb2ncs/nwojCW0UGReVFi8X84ls/Gv5Y8ePS3qi9AyWmJUf2YfYl7RvZb7P/RKlEaU7pxAH3Ax1lzLLCsrcHNx68WW5cXnuIcCjjkLDCraKrUq1yX+ViVUzVcLVddVuNfM2emvnDEYeHjtgeaa1VqC2q/Xg09uiDOqe6jnqN+vJjmGOZx543+Df0/cT+qalRtrGo8dPxpOPCE94nepvMmpqa5ZtLWuCWjJaZkyEn7/5s/3NXq25rXRujregUOJVx6sUvob+MnHY93XOGfab1rPrZmnZae2EH1LGpQ9QZ0ynsCuoaPOdyrqfbsrv9V71fj59XPl99QfJCyUXCxfyLS5dyLs1dTrk8eyX6ykTPxp7HVwOv3u/16h245nrtxnXH61f7OH2XbljdOH/T4ua5W+xbnbdNb3f0m/S3/2byW/uA6UDHHbM7XXfN73YPrhm8OGQzdOWe/b3r93n3bw+vHR4c8Rt5MBoyKnwQ8WD6YcLD148yHy083j6GHit8Iv6k/Kn80/rftX5vE5oKL4zbj/c/83n2eII/8fKPtD8WJ/Ofk5+XTylNNU0bTZ+fcZy5+2Ldi8mXKS8XZgv+lPiz5pXmq7N/2f7VLwoUTb4WvF76u/iNzJvjb43f9sx5zj19l/huYb7wvcz7Ex/YH/o+BnycWshaxC5WfNL61P3Z9fPYUuLS0j9CLJC+ERlPpwAACiRJREFUeJztnb9v00Abx6+vQCISrewOFImB2gHaDTVGRWxIvgoJBoQUt2ws2JGYEIMdBqYudv+DOH9B4y4dUVypMCBR2ZWQkGBonHaoaBnsoAwNKlLe4dF7r8nvhCZ2HH+m+Oral3x9d889z93jqXq9jmLGhP+M/paKoiiKMvr7RoAA1IoZmFitcSJWa5yI1RonYrXGiVitcSJWa5yI1RonYrXGiXFSy/M8TdMwxoqieJ5Hyk3TFARBkiTHcQKs3ggYG7Ucx2FZluM40zQdxxEEAcoNw1AURdf1TCbDcVy0BRsbtVRVFQQBYwyHLMvCB0VRstksTdMcxwmCoKpqcHUcOuOhlud5+Xx+ZWUFDg3D0HUdIWTbdrlcpmkaymmaNgwjsFoOn0ujuY2iKIZhlMtlhNDy8vLDhw/JnxzHyeVyDecnk0lJksihbdtwpiAIW1tb6XRa13WapqGcNDiEUKVSGeLXCJqhq+V5HsZ4f3+flOzt7S0uLvpPgB+9A8ViESFUKpV0Xdd1HWMsCIJpmqVSaUjVDin1ISOKYvNNNU3r6yLQ+IrFIhzKsowQcl0XVLQsy19+wV8gTAy9bTUPJAzDwM8K2LbdHJzkOE7TNP9h85VpmgZbw2/Np1Kpf69zaBnRuEWgKKpBPzDnGk5LJpP+Q47jUqlUsViEIcrzPJ7nEUIsy4qiSMpN08xkMsP9AoEyVR/yugyYD5XLZYqiBEHIZrPE+O4LMDFAFdu2DcMAU9DzPEEQYKbFsqy/RUaPoat1sYA90twWbdsmHWOEGTO1JpwxmB3bth1tf1LvhFctx3HA2CsUCs3T58lk1DZh74BC0bYa+iW8bSummfFQq+UMegIJr02oKIrjOOBWB19taKs6MkI6bvl99kCzS8nzPNM0LctaWVnxu+GjTKBeyraQ6lEUxTCMKIr+v7qu6/c0IoQaTogqIR23KIqiKEoURXA4kXgj+l8IZmNjw39+Pp+fhDlZSNXyPE+SJJqm/ToBqqr6o2UTRUjV6gDE+BvgeT7yTkIUfrU8z/M8T9d1IkZzLJ9hmJYSRo/wWvCSJJmm6TcL6/W64zgPHjz4+fMnKXz8+PHLly+np6fhkGXZKDeyoM2c1lAU5a8kwzC5XK5er0MQsgM8zwdd9yES0rY1NTWFEIIAJkKIpmlwGDqOk06nb9++3XK5B4p62wrp7FiWZRIL9vucWJadnZ2dn5+flOnw34TUytA0LcJNZGBCqlZMS0LaE/rJZDLNc+QJJWgzpy2WZbmu6y9p8A22JJ1OB1XhERDettW8sGl1dRUhtLm5OTc3519J7+fevXvDrliAhNSC7wDGuGEl7+TQa9syDAOcQCzLkp1uMSOmV5swl8tJkiQIgmVZQ61QTAd6bVskhJHNZodaoZgO9DRugYcbtk/BWonhV6wFtm0XCoWuVkaUO+peDEfiKhVFsVQqDc9C7UxswffUthRFAcvYsqzAjbHYJuyCpmmw8QZmPDFB0ZNaZO+wbdsY49jfGhQ9WfBk4UqlUol2QoqQ033csm27wZ1TKpUCaV6w+1+W5YmNRna3CcnvQlFUsVgURVGW5aFbPx1r0oFJj/SzLAu7hk3TBGMsl8sFstQyblvd2xacRnJVkEQjw32K2sPzfFCNO3B6sjJ4nm9YB2Ga5oU/NzFd6Ukt/zSLtK1h1SimPT2p5R8JJmFzQGiZ6roHe2dnZ2lpaXZ2FiF0fn7+8eNHhFAymZyfn+/rTqenp3/+/EkkEufn59Vq9datW4PVeH9/f2ZmZuB/Dz/Hx8cIoRs3briu67ouFC4sLLx///4SxrizT/3z58/Pnz+HzW75fB4K37x5c+fOnb4qIcvy169f4fPr16+fPHnS79cg1+lgE0YAcF5ns9l8Pl8oFKBwbm4OIXSJpunOKynv379PURTGGFyFCCGGYV69etVvJaB1Qm0ymczAdnbkV3/CD4UxBhMBgIX+3cctjuMgXixJEuzvGCwgubOzgxASRTGbzbbMiRbTle5qraysmKapadrW1hZCiGEYf1bOHoG8aTzP67quKEq0M3QOj+4+eOgDSXsaLHFtsVhMpVK6rnMcN7E7G/+dSxA+73DGycnJ2dkZfF5eXi4UCp3Pb3mFzc3NFy9evH37lkg1cP6Lg4ODarUa4fQZBwcHCCFFUXZ3d0khGIpdesJarba9vf3792+E0N27d9uthujMhw8f1tbWGrZkxQxCB6+U67r+LBUkfW1fyLJcKBTgs9/IGcRNVq/Xw+EnLJVKqqo2LPy+KHieh0iCfx0KlHQatxRFgY6LYRiWZcEH3+/TYNu2bdswAfcnwCW5Vfu94FChabqdBaSqKul+McblctmyrBGnn2+rlqZpMBeGTLiQ9WWAG/j1ME2TZOAPm05AB2OVuBUCpPW45TgOieiDIYcxBgv+X/D3hOFUq0dM01RVdfSJBC61TJ6/vr4OT9nq6ipN0/DLXr16dWNjY7AU3j9+/FhfX69Wq0tLS1Dy7NmzVCr17t27fi/luu7h4eHoxXZd139TjuO6vnRg4BshhEzTPDw8JIXVahW19OqenZ19+vQJITQ9Pb28vEwK9/f3E4nEzMxMIpG4du3a5cuX+6rERXl1j4+PE4kE8WNFD7AVUqnUwcHB0dERFN68efPw8LCFbUZMEYgXN6fAQghRFAUpEfoydci/9/u/E0UHm7DFuAUNnMSLFUVpSIGFEKpUKplMZrApqizLEfbJDpdmbaEcHn9iF6TTaXBhyLLsj1aQ9RpdgfNFUXRdl6Koi3sWo0Z/bQuA4AioJcuyYRiCIPA8n0wmdV0vFovgm+gxm3Ts1b0QWqjFMAxCCEKU0CuSLQIcx8GKDIwxFPZo1vu9uiSkGdM3car1sYCm6Xq93mLcAv3gc8MLrqADJGem02nUw9DF8zxc4UL8hJGnv3FLEASKomCijjFOp9OSJIGLD2NcqVT87j7094sAm1EUBd6W+i9PVgzQQi2apiVJUlUVVIFMjmQZBcMwZA5v23bX1Szg0sUYw3uKSTmUXMyXmBw6tMd0Ok2CAmQpNc/zqqrW63VVVSmK6muJddwT9sIgFrxhGI7jYIzBOUbaFsdxrutqmpbNZvvNdBYZr25QTFmW1SFyv7u7++XLlytXriwsLEDJ0dHR6enp3Nzco0ePrl+/3uNtKpXK9vZ2rVYjEeSTk5P5+fmnT5/+W/0jyObmJkJobW1td3d3b28PChcXF799+9ZFLYRQrVb7/v07mc/++vWrVqutra0Nuc4xfwEvgO47zxOEduJ+LBDaxo4hr7fruhHPFzJWtFXL/wLwQqEQCxYGWtuEhmH412j6vVPxjqAA6Wn/ln8TimVZsWMiKFqr5deDoijygm7P8wzDIOuWYkZMW5sQY2zbNsQ4yBRYEAR4R9kIaxjzf9qqBdmCYL8Cy7Ke5+VyOZAqziAdFJ3mW2DEF4vFnZ0dnucnNnNZeBi/LMiTzH8Baq9aVQupsaMAAAAASUVORK5CYII=\"/>"
      ],
      "text/plain": [
       "8C:1♩"
      ]
     },
     "execution_count": 7,
     "metadata": {},
     "output_type": "execute_result"
    }
   ],
   "source": [
    "n = Note(\"8C\", 1, transposition=-2)\n",
    "n"
   ]
  },
  {
   "cell_type": "code",
   "execution_count": 3,
   "id": "030721a3-e454-42e3-a6bd-53a526136ba7",
   "metadata": {},
   "outputs": [
    {
     "data": {
      "text/html": [
       "<pre style=\"white-space: pre-wrap; font-size:0.9em;\">6C:1♩</pre><br>\n",
       "        <img style=\"display:inline; padding:10px;\n",
       "margin-top:14px;\n",
       "width:137px\"\n",
       "             src=\"data:image/png;base64,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\"/>"
      ],
      "text/plain": [
       "6C:1♩"
      ]
     },
     "execution_count": 3,
     "metadata": {},
     "output_type": "execute_result"
    }
   ],
   "source": [
    "n = Note(\"6C\", 1, transposition=-24)\n",
    "n"
   ]
  },
  {
   "cell_type": "code",
   "execution_count": 4,
   "id": "a577dd66-f987-4722-8481-cae110ed4926",
   "metadata": {},
   "outputs": [
    {
     "data": {
      "text/html": [
       "<pre style=\"white-space: pre-wrap; font-size:0.9em;\">6C:1♩:symbols=[Harmonic(kind=artificial, interval=5)]</pre><br>\n",
       "        <img style=\"display:inline; padding:10px;\n",
       "margin-top:14px;\n",
       "width:137px\"\n",
       "             src=\"data:image/png;base64,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\"/>"
      ],
      "text/plain": [
       "6C:1♩:symbols=[Harmonic(kind=artificial, interval=5)]"
      ]
     },
     "execution_count": 4,
     "metadata": {},
     "output_type": "execute_result"
    }
   ],
   "source": [
    "n.addSymbol(symbols.Harmonic('artificial', 5))"
   ]
  },
  {
   "cell_type": "code",
   "execution_count": 5,
   "id": "1d9e1f50-04a7-494e-9888-ec3ab3191bd0",
   "metadata": {},
   "outputs": [
    {
     "name": "stderr",
     "output_type": "stream",
     "text": [
      "\n",
      "\n",
      "--Csound version 6.19 (double samples) Dec 20 2022\n",
      "[commit: cd2cbc6494d1cefaaa357abf7c94e54e4d2e2868]\n",
      "\u001b[mlibsndfile-1.0.31\n",
      "\u001b[msr = 44100.0,\u001b[m kr = 689.062,\u001b[m ksmps = 64\n",
      "\u001b[m0dBFS level = 1.0,\u001b[m A4 tuning = 442.0\n",
      "\u001b[maudio buffered in 256 sample-frame blocks\n",
      "\u001b[mreading 1024-byte blks of shorts from adc:system:capture (RAW)\n",
      "writing 512 sample blks of 64-bit floats to dac:system:playback\n",
      "SECTION 1:\n",
      "\u001b[m"
     ]
    },
    {
     "data": {
      "application/vnd.jupyter.widget-view+json": {
       "model_id": "75f032bcc6e949ff9f54c012ab08acf6",
       "version_major": 2,
       "version_minor": 0
      },
      "text/plain": [
       "Button(description='Stop', style=ButtonStyle())"
      ]
     },
     "metadata": {},
     "output_type": "display_data"
    },
    {
     "data": {
      "application/vnd.jupyter.widget-view+json": {
       "model_id": "f0d29fa962a9424f8efbcae39b075c66",
       "version_major": 2,
       "version_minor": 0
      },
      "text/plain": [
       "Output()"
      ]
     },
     "metadata": {},
     "output_type": "display_data"
    },
    {
     "data": {
      "text/html": [
       "<small>SynthGroup - start: 0.022, dur: 1.000, synths: 1</small>\n",
       "<p>instr: <strong style=\"color:MediumSeaGreen\">preset:sin</strong> - <b>1</b> synths</p>\n",
       "<table><thead><tr><th style=\"text-align:left\">p1</th><th style=\"text-align:left\">start</th><th style=\"text-align:left\">dur</th><th style=\"text-align:left\">4</th><th style=\"text-align:left\">5:idataidx_</th><th style=\"text-align:left\">6:inumbps</th><th style=\"text-align:left\">7:ibplen</th><th style=\"text-align:left\">8:igain</th><th style=\"text-align:left\">9:ichan</th><th style=\"text-align:left\">10:ipos</th><th style=\"text-align:left\">11:ifadein</th><th style=\"text-align:left\">12:ifadeout</th><th style=\"text-align:left\">13:ipchintrp_</th><th style=\"text-align:left\">14:ifadekind</th><th style=\"text-align:left\">15:ktransp</th><th style=\"text-align:left\">16:klag</th><th style=\"text-align:left\">17</th><th style=\"text-align:left\">18</th><th style=\"text-align:left\">19</th><th style=\"text-align:left\">20</th><th style=\"text-align:left\">...</th></tr></thead><tbody><tr><td style=\"text-align:left\">501.0002 <b>𝍪</b></td><td style=\"text-align:left\">0.022</td><td style=\"text-align:left\">1.000</td><td style=\"text-align:left\">0</td><td style=\"text-align:left\">17</td><td style=\"text-align:left\">2</td><td style=\"text-align:left\">3</td><td style=\"text-align:left\">1</td><td style=\"text-align:left\">1</td><td style=\"text-align:left\">-1</td><td style=\"text-align:left\">0.02</td><td style=\"text-align:left\">0.02</td><td style=\"text-align:left\">0</td><td style=\"text-align:left\">1</td><td style=\"text-align:left\">0</td><td style=\"text-align:left\">0.1</td><td style=\"text-align:left\">0</td><td style=\"text-align:left\">84</td><td style=\"text-align:left\">0.51518</td><td style=\"text-align:left\">...</td></tr></tbody></table>"
      ],
      "text/plain": [
       "SynthGroup(n=1)\n",
       "    Synth(𝍪 preset:sin:501.0002, p4=0 idataidx_:5=17 inumbps:6=2 ibplen:7=3 igain:8=1 ichan:9=1 ipos:10=-1 ifadein:11=0.02 ifadeout:12=0.02 ipchintrp_:13=0 ifadekind:14=1 ktransp:15=0 klag:16=0.1 p17=0 p18=84 p19=0.515178 p20=1 ...)"
      ]
     },
     "execution_count": 5,
     "metadata": {},
     "output_type": "execute_result"
    }
   ],
   "source": [
    "n.play()"
   ]
  },
  {
   "cell_type": "code",
   "execution_count": 8,
   "id": "b4244910-4147-4ec3-af10-df2a5b051fb9",
   "metadata": {},
   "outputs": [
    {
     "data": {
      "text/html": [
       "<pre style=\"white-space: pre-wrap; font-size:0.9em;\">4C:1♩:symbols=[Harmonic(kind=artificial, interval=5)]</pre><br>\n",
       "        <img style=\"display:inline; padding:10px;\n",
       "margin-top:14px;\n",
       "width:137px\"\n",
       "             src=\"data:image/png;base64,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\"/>"
      ],
      "text/plain": [
       "4C:1♩:symbols=[Harmonic(kind=artificial, interval=5)]"
      ]
     },
     "execution_count": 8,
     "metadata": {},
     "output_type": "execute_result"
    }
   ],
   "source": [
    "m = Note(\"4C\", 1).setPlay(transpose=24)\n",
    "m.addSymbol(symbols.Harmonic('artificial', 5))\n",
    "m"
   ]
  },
  {
   "cell_type": "code",
   "execution_count": 15,
   "id": "28d5fc21-6cac-40fc-b24a-d7fcc979778f",
   "metadata": {},
   "outputs": [
    {
     "data": {
      "text/html": [
       "<pre style=\"white-space: pre-wrap; font-size:0.9em;\">Chain([<span style=\"color:#6666E0\">4C#:1♩</span>, <span style=\"color:#6666E0\">4D:0.5♩</span>, <span style=\"color:#6666E0\">4D#:1♩</span>], dur=2.5)</pre><br>\n",
       "        <img style=\"display:inline; padding:10px;\n",
       "margin-top:14px;\n",
       "width:187px\"\n",
       "             src=\"data:image/png;base64,iVBORw0KGgoAAAANSUhEUgAAALsAAABDCAIAAABLM+NJAAAJLmlDQ1BJQ0MgUHJvZmlsZQAAeJyVlWdQk1kXx+/zPOmFQBJCh1BDkSolgJQQWijSq6hA6J1QRWyIuAIriog0RZBFARdclSJrRRQLi4ICFnSDLALKunEVUUFZcN8ZnfcdP7z/mXvPb/5z5t5zz/lwASCIg2XBy3tiUrrA28mOGRgUzATfKIyflsLx9HQD39W7EQCtxHu638/5rggRkWn85bi4vHL5KYJ0AKDsZdbMSk9Z4aPLTA+P/8JnV1iwXOAy31jh6H957EvOvyz6kuPrzV1+FQoAHCn6Gw7/hv9z74pUOIL02KjIbKZPclR6Vpggkpm20gkel8v0FCRHxSZEflPw/5X8HaVHZqevRG5yyiZBbHRMOvN/DjUyMDQEX2fxxutLjyFG/3/PZ0VfveR6ANhzACD7vnrhlQB07gJA+tFXT225r5R8ADru8DMEmf96qJUNDQiAAuhABigCVaAJdIERMAOWwBY4ABfgAXxBENgA+CAGJAIByAK5YAcoAEVgHzgIqkAtaABNoBWcBp3gPLgCroPb4C4YBo+BEEyCl0AE3oEFCIKwEBmiQTKQEqQO6UBGEBuyhhwgN8gbCoJCoWgoCcqAcqGdUBFUClVBdVAT9At0DroC3YQGoYfQODQD/Q19hBGYBNNhBVgD1ofZMAd2hX3h9XA0nArnwPnwXrgCrodPwh3wFfg2PAwL4ZfwHAIQIsJAlBFdhI1wEQ8kGIlCBMhWpBApR+qRVqQb6UPuIUJkFvmAwqBoKCZKF2WJckb5ofioVNRWVDGqCnUC1YHqRd1DjaNEqM9oMloerYO2QPPQgehodBa6AF2ObkS3o6+hh9GT6HcYDIaBYWHMMM6YIEwcZjOmGHMY04a5jBnETGDmsFisDFYHa4X1wIZh07EF2ErsSewl7BB2EvseR8Qp4YxwjrhgXBIuD1eOa8ZdxA3hpnALeHG8Ot4C74GPwG/Cl+Ab8N34O/hJ/AJBgsAiWBF8CXGEHYQKQivhGmGM8IZIJKoQzYlexFjidmIF8RTxBnGc+IFEJWmTuKQQUgZpL+k46TLpIekNmUzWINuSg8np5L3kJvJV8lPyezGamJ4YTyxCbJtYtViH2JDYKwqeok7hUDZQcijllDOUO5RZcby4hjhXPEx8q3i1+DnxUfE5CZqEoYSHRKJEsUSzxE2JaSqWqkF1oEZQ86nHqFepEzSEpkrj0vi0nbQG2jXaJB1DZ9F59Dh6Ef1n+gBdJEmVNJb0l8yWrJa8IClkIAwNBo+RwChhnGaMMD5KKUhxpCKl9ki1Sg1JzUvLSdtKR0oXSrdJD0t/lGHKOMjEy+yX6ZR5IouS1Zb1ks2SPSJ7TXZWji5nKceXK5Q7LfdIHpbXlveW3yx/TL5ffk5BUcFJIUWhUuGqwqwiQ9FWMU6xTPGi4owSTclaKVapTOmS0gumJJPDTGBWMHuZImV5ZWflDOU65QHlBRWWip9KnkqbyhNVgipbNUq1TLVHVaSmpOaulqvWovZIHa/OVo9RP6Tepz6vwdII0Nit0akxzZJm8Vg5rBbWmCZZ00YzVbNe874WRoutFa91WOuuNqxtoh2jXa19RwfWMdWJ1TmsM7gKvcp8VdKq+lWjuiRdjm6mbovuuB5Dz00vT69T75W+mn6w/n79Pv3PBiYGCQYNBo8NqYYuhnmG3YZ/G2kb8Y2qje6vJq92XL1tddfq18Y6xpHGR4wfmNBM3E12m/SYfDI1MxWYtprOmKmZhZrVmI2y6WxPdjH7hjna3M58m/l58w8WphbpFqct/rLUtYy3bLacXsNaE7mmYc2ElYpVmFWdldCaaR1qfdRaaKNsE2ZTb/PMVtU2wrbRdoqjxYnjnOS8sjOwE9i1281zLbhbuJftEXsn+0L7AQeqg59DlcNTRxXHaMcWR5GTidNmp8vOaGdX5/3OozwFHp/XxBO5mLlscel1Jbn6uFa5PnPTdhO4dbvD7i7uB9zH1qqvTVrb6QE8eB4HPJ54sjxTPX/1wnh5elV7Pfc29M717vOh+Wz0afZ552vnW+L72E/TL8Ovx5/iH+Lf5D8fYB9QGiAM1A/cEng7SDYoNqgrGBvsH9wYPLfOYd3BdZMhJiEFISPrWeuz19/cILshYcOFjZSNYRvPhKJDA0KbQxfDPMLqw+bCeeE14SI+l3+I/zLCNqIsYibSKrI0cirKKqo0ajraKvpA9EyMTUx5zGwsN7Yq9nWcc1xt3Hy8R/zx+KWEgIS2RFxiaOK5JGpSfFJvsmJydvJgik5KQYow1SL1YKpI4CpoTIPS1qd1pdOXP8X+DM2MXRnjmdaZ1Znvs/yzzmRLZCdl92/S3rRn01SOY85Pm1Gb+Zt7cpVzd+SOb+FsqdsKbQ3f2rNNdVv+tsntTttP7CDsiN/xW55BXmne250BO7vzFfK350/sctrVUiBWICgY3W25u/YH1A+xPwzsWb2ncs/nwojCW0UGReVFi8X84ls/Gv5Y8ePS3qi9AyWmJUf2YfYl7RvZb7P/RKlEaU7pxAH3Ax1lzLLCsrcHNx68WW5cXnuIcCjjkLDCraKrUq1yX+ViVUzVcLVddVuNfM2emvnDEYeHjtgeaa1VqC2q/Xg09uiDOqe6jnqN+vJjmGOZx543+Df0/cT+qalRtrGo8dPxpOPCE94nepvMmpqa5ZtLWuCWjJaZkyEn7/5s/3NXq25rXRujregUOJVx6sUvob+MnHY93XOGfab1rPrZmnZae2EH1LGpQ9QZ0ynsCuoaPOdyrqfbsrv9V71fj59XPl99QfJCyUXCxfyLS5dyLs1dTrk8eyX6ykTPxp7HVwOv3u/16h245nrtxnXH61f7OH2XbljdOH/T4ua5W+xbnbdNb3f0m/S3/2byW/uA6UDHHbM7XXfN73YPrhm8OGQzdOWe/b3r93n3bw+vHR4c8Rt5MBoyKnwQ8WD6YcLD148yHy083j6GHit8Iv6k/Kn80/rftX5vE5oKL4zbj/c/83n2eII/8fKPtD8WJ/Ofk5+XTylNNU0bTZ+fcZy5+2Ldi8mXKS8XZgv+lPiz5pXmq7N/2f7VLwoUTb4WvF76u/iNzJvjb43f9sx5zj19l/huYb7wvcz7Ex/YH/o+BnycWshaxC5WfNL61P3Z9fPYUuLS0j9CLJC+ERlPpwAAC4hJREFUeJztnT1s004bwK+vKGpEW+wiIQRDsVMkFv6osQAJJBYbVYIBVUoKC2LB6cp0DgImlrgTC0OcDQkJ4khMTDFSuzCgOOVDSIWmTpEotAw2EKQWWpT/8Oi916+bJnbifFH/BmQf8d2T+PHd8+VrX6VSQe1FkiSEkCzLbR43wBf+02kBAnqMQGMCvBFoTIA3Ao0J8EagMQHeCDQmwBuBxgR4I9CYAG8EGhPgjV7SGMuyZFkWBEGSJMuySLumabFYLB6PG4bRQfF2CT2jMYZhsCzLcZymaYZhxGIxaFdVVZIkRVGmp6c5jguUptX0jMYkk8lYLCYIApyyLAsHkiQlEgmapjmOi8ViyWSyczLuCtqkMZIksSzb19fX19c3Ozvr9XLLstLp9IULF+BUVVVFURBCuq6XSiWapqGdpmlVVf2TOqAKe1x+zrKsWCw2NTUVj8c9DWBZliAIhUKBtLx8+fL48ePk1DCMVCrluCocDtsH0nUdPhmLxbLZbDQaVRSFpmloJxMPQujbt2+exAvwiiuNIXdd13VBEMiK4AZJkuzqAmxsbNg7hxtfg1wuhxBaWlpSFEVRFEEQYrGYpmlLS0vuJQnwh4oLMMbk86IourmEQFGUY0SGYTz1UKlUYBLK5XJ2eUzTBE3K5/P2dq+dB3ii/hyj6/rMzAw5TafTiUTC0zRjh6Ioh6mh6zrUWNnhOM5ecsVx3PauaJoGMeyediQSaUywAJfUt3yJkUFRVC6XE0Vxu9lRA0VRGIaBy0VR1HXdcfvBzXEQDoftn+E4LhKJwIyCELIsi+d5hBDLsqIoknZN06anp93LFtAAfZV6VZssy5ZKJYqiNE2DRz+VSrU/7AFmLxi5uq6rqgouEpjkEIlhWTYoBm05ddct+BixIYgR2trVcgfy+TyxWhztnRJpt+EqHsPzvN2DRQhpmua77roB1qyq7Q2bVgGecKUxU1NT5JjMMa2SKKC7caUx9sc3SNzscva4CaCREFy5XM5mswgh0zQ7tTAFdBCO4/oymUxtb3lubu7EiRMjIyMIoWKx+PHjR4TQqVOnhoeHPQ22tra2tbUVCoU2NzfL5fLY2Fgzoge0FNM05+fnx8fHR0ZGCoUCiXhdvny5vq/E83wqlapUKqZpQgC3gaAt9EMEgg4DuhawVsFBtt84jHF9O4bjuHw+jxCKx+OQ50skEs3oL8bY4XkF9BD1NebChQuapsmyDBYMwzBe09fA8+fPEUKiKCYSiaoe8m4ACgh96QrqyHzpyhP180qCIFiWReaVxgpQ4Cqe5xVFIXNVQDMkEglBEHYKULWO+nOM3ZPCGDcmXy6Xi0QiiqJwHJdOpxvoIcABTdOgNO2Od3hKKwbsciYmJmr5SqZp2osHqiZ03MDzPFxLksyop6pYMMajo6O+dMXzPMbYl64qlUomk4EfMxqN+tUn0KCvRMrnGIbheb6xkJ0kSVDl38C1XUXdOGebMQyDlMFns1kSMjEMQ5Zle82Qv+xo+cqyDAYH1EBpmgY+tld0Xdd1HdY++9cAB9uvwLGiKEtLSy0tdYBij9b17wkonyUORCqVIuXxgiCUSqV8Pt+iIvnqGmPXXzBXUaNhGLtOaJpG3gfwN8mwtLTU6jkglUr55Rg3CZRdg7pQFCXLcmPxjsaovipJkgQCYYzhXTKO46CoqpnB7HZMz6WlSqVSR+IftUkkEg510TQtmUy2TtQqeaX19fUXL14ghIaGhk6fPk0aC4VCKBQaHh4OhUIHDx7s7+93PwxcvrW1NTAwUKlUtra2/vz5MzIycuLECV++RrFY/PHjR4uKfIvF4tra2sbGxsDAwLlz55rpqlAoDA8PN59Tg7wPQuj8+fOeboSn/qvmlfYIgkCWQIDES+7cuROJRMrl8uPHj8Es39jYgIs/ffp048aNS5cuuRcCYzw/P//z50+E0M2bNz1dW5d0Or24uNhk+qJG5+/evfv9+/fi4uKBAwdEUbT/77NnzxBCLr8OxvjYsWOOHhrj2bNn9+/fv3nz5tDQUPO9OSgUCvPz81evXo1EIhhjojGjo6NVvFzwpnieh9MaX8+To0icNIyx7xWWGGMisO9A5yTW4BCe53n3Q/vrXYui6GNvdrx515AAgro7TdNgyolGozDNYIyJDs3MzLg3R3o9rwSv6FIU1XH7V5ZleB/Zsix45a+do+8YjwGDF3QNY6yqaiwW43k+HA4ripLL5aDywWXI2J5XImZ1z8GyrKIo2Wy2s2a7aZpwYFkWy7LT09PtjBVV0Rh4vQiMGxCFxDk4joMKX0EQoBES2nX5a/JK8NiQYCtCiGXZNhelQ4QCY6xpmq7ruVzOLk+r2aPrumO8vXv3ov/uBV8ul8kxQujVq1fv378nn9y/f//379+vXLly9OjRGmOsrq4+efLk+vXrt27dIgWg/s7ts7Oza2trLVovHJ3v27fv4cOHxF14/fo1cv11isViuVxuXs79+/cvLCzY+/H3uy8vLyOE0ul0LpcrFoukfXV1tcocMzo6So5BFVZXV+GUoihyjBA6dOiQm+Hn5uauXLmy/QXsHuX48eO/fv3q7MI6MTFhvxFtZbudDNWZpLAyGo1GIhHTNOEUIUSOo9Fo1R7sYIwzmYzdAt9p3GZog69kb0H/v22Ae4fFR1+pRV4SUMNXqpIloGk6Ho/DnlA0TUMNFMuy4JQzDANJDYSQrut1QwvtySu1H4ftAt4Ay7KwYZb9vyzLgqwcyZD4QqfeF66eV5JlWdf1eDwOG/uoqkrKdliWBY2BBGndoFnzeSVd18k2Dt0A/BR2eWBLG4TQzMwMeLzQbllWMpkkO2PMzMwcPny4FyMLdnb0rkFLBEGAW0t+II7jTNOUZTmRSMiy7OlGesorGYYBc1Ld92PajKZpjnQEy7KqqkIEgXiCkC+0b6SCEPr8+XOPRhYItd5wg4KHycnJwcHB8+fPQ+P8/Pzi4uKxY8cePHjAsqzLqeLLly/37t0rl8vj4+PQMjk5GYlE7t69u9Ml8NOLogh2e+2BlpeX/X3prlwuFwqFDx8+cBzn6PzRo0djY2PkdHl5uVKpkNPBwUE4TqfT2zfnQgg1n9BtAyA5/EvCPwihjY2N+m+4bW5ufv36dX19HU7X19c3NzfbsLEPOHVjY2PkoPaH/cpEbm5ufvz4EV7kAwYHB/v7+0nnb9++HRsbC4VCjqFXVlYWFhbC4TA4mHNzc1tbW47OaZruiT2R1tfXV1ZWjhw5EgqFVlZWyN2/du2aZ58ll8u1ziuxQ3wQcFVquwZ++UqOQlXC2bNnaw+dz+cpirILub0ThmH+gi1LdrRjYINuSZI6uN+pYRhgfT9//txhELSIZDJZdSm5ePFijatgNyRVVe3+i33zQIQQ7M/VPfZ7w+xYtWnfUjWTyZA9utsDaGqpVCIt2x/9VnitVbN6PM/fvn17p0tGRkZAEocTJMvy1NRUJpMJh8NeNyjtaqrOPI68gX3CT6VSbViVyNAURTEM49jg0zRNxxP8zz//+CLV9t/HzVLyF6w17nG1f4w9JJXP59sQUaAoCnZahAmfCGAYxtOnT8+cOeNYpN68eTMwMAB/sqCZcRtbSv6e+cMNVfXIvgUVbLEJ7ZBAIKctxW75EovSHrGuSvMzTT6fxxinUqldNXO4p7odw7Isz/O6rkN9AnmG4vE4x3Ed3JlBUZSTJ09C6aed8fFxmHWaf9zb/yZzb7Gj5auqKmxEAPs9W5aVSqXAxGunfJZlWZYFEVXYf3W7ujAMk81md9fS0EFqzD+maSaTSVL229Jk6XZEUYTaLoeo200NkksPaAP1d4DuCDRN2/MvDMPYX8yBKrC/zWvtEbpUY/r6+hBCFEVBHIim6WAz8C6hS/+GG8Y4Go2ScotOixPwP7pUY7zWUQS0jS7VmICuxe1f/esg09PTwcLUPXSp5YsQgvB8oCvdxr96SuZseWQCjgAAAABJRU5ErkJggg==\"/>"
      ],
      "text/plain": [
       "Chain([4C#:1♩, 4D:0.5♩, 4D#:1♩])"
      ]
     },
     "execution_count": 15,
     "metadata": {},
     "output_type": "execute_result"
    }
   ],
   "source": [
    "ch = Chain([\n",
    "    \"4C#:1\",\n",
    "    \"4D:0.5\",\n",
    "    \"4Eb:1\"\n",
    "])\n",
    "ch"
   ]
  },
  {
   "cell_type": "code",
   "execution_count": 17,
   "id": "b19292b2-ea98-4c9b-8741-f3b1bdd41d5f",
   "metadata": {},
   "outputs": [
    {
     "data": {
      "text/html": [
       "<pre style=\"white-space: pre-wrap; font-size:0.9em;\">Chain([<span style=\"color:#6666E0\">4F#:1♩</span>, <span style=\"color:#6666E0\">4G:0.5♩</span>, <span style=\"color:#6666E0\">4G#:1♩</span>], dur=2.5)</pre><br>\n",
       "        <img style=\"display:inline; padding:10px;\n",
       "margin-top:14px;\n",
       "width:187px\"\n",
       "             src=\"data:image/png;base64,iVBORw0KGgoAAAANSUhEUgAAALsAAAA+CAIAAAD8j/1WAAAJLmlDQ1BJQ0MgUHJvZmlsZQAAeJyVlWdQk1kXx+/zPOmFQBJCh1BDkSolgJQQWijSq6hA6J1QRWyIuAIriog0RZBFARdclSJrRRQLi4ICFnSDLALKunEVUUFZcN8ZnfcdP7z/mXvPb/5z5t5zz/lwASCIg2XBy3tiUrrA28mOGRgUzATfKIyflsLx9HQD39W7EQCtxHu638/5rggRkWn85bi4vHL5KYJ0AKDsZdbMSk9Z4aPLTA+P/8JnV1iwXOAy31jh6H957EvOvyz6kuPrzV1+FQoAHCn6Gw7/hv9z74pUOIL02KjIbKZPclR6Vpggkpm20gkel8v0FCRHxSZEflPw/5X8HaVHZqevRG5yyiZBbHRMOvN/DjUyMDQEX2fxxutLjyFG/3/PZ0VfveR6ANhzACD7vnrhlQB07gJA+tFXT225r5R8ADru8DMEmf96qJUNDQiAAuhABigCVaAJdIERMAOWwBY4ABfgAXxBENgA+CAGJAIByAK5YAcoAEVgHzgIqkAtaABNoBWcBp3gPLgCroPb4C4YBo+BEEyCl0AE3oEFCIKwEBmiQTKQEqQO6UBGEBuyhhwgN8gbCoJCoWgoCcqAcqGdUBFUClVBdVAT9At0DroC3YQGoYfQODQD/Q19hBGYBNNhBVgD1ofZMAd2hX3h9XA0nArnwPnwXrgCrodPwh3wFfg2PAwL4ZfwHAIQIsJAlBFdhI1wEQ8kGIlCBMhWpBApR+qRVqQb6UPuIUJkFvmAwqBoKCZKF2WJckb5ofioVNRWVDGqCnUC1YHqRd1DjaNEqM9oMloerYO2QPPQgehodBa6AF2ObkS3o6+hh9GT6HcYDIaBYWHMMM6YIEwcZjOmGHMY04a5jBnETGDmsFisDFYHa4X1wIZh07EF2ErsSewl7BB2EvseR8Qp4YxwjrhgXBIuD1eOa8ZdxA3hpnALeHG8Ot4C74GPwG/Cl+Ab8N34O/hJ/AJBgsAiWBF8CXGEHYQKQivhGmGM8IZIJKoQzYlexFjidmIF8RTxBnGc+IFEJWmTuKQQUgZpL+k46TLpIekNmUzWINuSg8np5L3kJvJV8lPyezGamJ4YTyxCbJtYtViH2JDYKwqeok7hUDZQcijllDOUO5RZcby4hjhXPEx8q3i1+DnxUfE5CZqEoYSHRKJEsUSzxE2JaSqWqkF1oEZQ86nHqFepEzSEpkrj0vi0nbQG2jXaJB1DZ9F59Dh6Ef1n+gBdJEmVNJb0l8yWrJa8IClkIAwNBo+RwChhnGaMMD5KKUhxpCKl9ki1Sg1JzUvLSdtKR0oXSrdJD0t/lGHKOMjEy+yX6ZR5IouS1Zb1ks2SPSJ7TXZWji5nKceXK5Q7LfdIHpbXlveW3yx/TL5ffk5BUcFJIUWhUuGqwqwiQ9FWMU6xTPGi4owSTclaKVapTOmS0gumJJPDTGBWMHuZImV5ZWflDOU65QHlBRWWip9KnkqbyhNVgipbNUq1TLVHVaSmpOaulqvWovZIHa/OVo9RP6Tepz6vwdII0Nit0akxzZJm8Vg5rBbWmCZZ00YzVbNe874WRoutFa91WOuuNqxtoh2jXa19RwfWMdWJ1TmsM7gKvcp8VdKq+lWjuiRdjm6mbovuuB5Dz00vT69T75W+mn6w/n79Pv3PBiYGCQYNBo8NqYYuhnmG3YZ/G2kb8Y2qje6vJq92XL1tddfq18Y6xpHGR4wfmNBM3E12m/SYfDI1MxWYtprOmKmZhZrVmI2y6WxPdjH7hjna3M58m/l58w8WphbpFqct/rLUtYy3bLacXsNaE7mmYc2ElYpVmFWdldCaaR1qfdRaaKNsE2ZTb/PMVtU2wrbRdoqjxYnjnOS8sjOwE9i1281zLbhbuJftEXsn+0L7AQeqg59DlcNTRxXHaMcWR5GTidNmp8vOaGdX5/3OozwFHp/XxBO5mLlscel1Jbn6uFa5PnPTdhO4dbvD7i7uB9zH1qqvTVrb6QE8eB4HPJ54sjxTPX/1wnh5elV7Pfc29M717vOh+Wz0afZ552vnW+L72E/TL8Ovx5/iH+Lf5D8fYB9QGiAM1A/cEng7SDYoNqgrGBvsH9wYPLfOYd3BdZMhJiEFISPrWeuz19/cILshYcOFjZSNYRvPhKJDA0KbQxfDPMLqw+bCeeE14SI+l3+I/zLCNqIsYibSKrI0cirKKqo0ajraKvpA9EyMTUx5zGwsN7Yq9nWcc1xt3Hy8R/zx+KWEgIS2RFxiaOK5JGpSfFJvsmJydvJgik5KQYow1SL1YKpI4CpoTIPS1qd1pdOXP8X+DM2MXRnjmdaZ1Znvs/yzzmRLZCdl92/S3rRn01SOY85Pm1Gb+Zt7cpVzd+SOb+FsqdsKbQ3f2rNNdVv+tsntTttP7CDsiN/xW55BXmne250BO7vzFfK350/sctrVUiBWICgY3W25u/YH1A+xPwzsWb2ncs/nwojCW0UGReVFi8X84ls/Gv5Y8ePS3qi9AyWmJUf2YfYl7RvZb7P/RKlEaU7pxAH3Ax1lzLLCsrcHNx68WW5cXnuIcCjjkLDCraKrUq1yX+ViVUzVcLVddVuNfM2emvnDEYeHjtgeaa1VqC2q/Xg09uiDOqe6jnqN+vJjmGOZx543+Df0/cT+qalRtrGo8dPxpOPCE94nepvMmpqa5ZtLWuCWjJaZkyEn7/5s/3NXq25rXRujregUOJVx6sUvob+MnHY93XOGfab1rPrZmnZae2EH1LGpQ9QZ0ynsCuoaPOdyrqfbsrv9V71fj59XPl99QfJCyUXCxfyLS5dyLs1dTrk8eyX6ykTPxp7HVwOv3u/16h245nrtxnXH61f7OH2XbljdOH/T4ua5W+xbnbdNb3f0m/S3/2byW/uA6UDHHbM7XXfN73YPrhm8OGQzdOWe/b3r93n3bw+vHR4c8Rt5MBoyKnwQ8WD6YcLD148yHy083j6GHit8Iv6k/Kn80/rftX5vE5oKL4zbj/c/83n2eII/8fKPtD8WJ/Ofk5+XTylNNU0bTZ+fcZy5+2Ldi8mXKS8XZgv+lPiz5pXmq7N/2f7VLwoUTb4WvF76u/iNzJvjb43f9sx5zj19l/huYb7wvcz7Ex/YH/o+BnycWshaxC5WfNL61P3Z9fPYUuLS0j9CLJC+ERlPpwAADE5JREFUeJztnU1o22YfwJ+8NCOGJJN82NoFNkvesu3URSop5LANpFDYDqXDdnraYCAbdlp3eOQydhi5WD6tR8vHXRa7lx4GK1IgK2ywYjmMbZCt/jyE2IFJrs2IRwp9D3/eB+Fv+SvxG/0OwXokPfrLz9/P8/+SMvf8+XM0XWRZRggpijLl67qMhf+ctQAuM4arMS7OcDXGxRmuxrg4w9UYF2e4GuPiDFdjXJzhaoyLM1yNcXHGLGmMZVmKooiiKMuyZVmkXdf1YDAYDocLhcIZindBmBmNKRQKLMvyPK/reqFQCAaD0J5Op2VZVlU1EonwPO8qzaSZGY2JxWLBYFAURdhkWRY+yLIcjUZpmuZ5PhgMxmKxs5PxQjAbGmNZVjKZ3NzchM10Oq2qKkLIMIxisUjTNLTTNJ1Op89MyovBpelcRpbldDpdLBYRQuvr6++//z7ZVSgUEolEy/F+vz8cDpNNwzDgyGAweP/+/UAgoKoqTdPQTiYehFCtVpvgbbgMrjGWZQWDwVAoZB/IAU8URTGbzZKWx48fv/XWW/YDYOB7oGkaQiifz6uqqqqqKIrBYFDX9Xw+70gYlzHwfABM0+Q4DiFEUVQ+nx/kFIIkSe0XVRTFUScwCWmaBpsYY4SQaZqgSZlMxt7uqGcXpww0x8RiMZgkarVaLBYDG2JA2g0LhmFgaAHDMKDGyg7P8/aSK57n23umaRrsX7unDZrtMjn6W76GYcTjcbKZTCZH8WApimrRIXBzWvD7/fZjeJ7nOA5mFISQZVmCICCEWJaVJIm067oeiUSGls1lIPrOQmRZoShK0zRJkjDGg09iqVSKYRg4XZIkp4saIZ/PcxyHMcYYC4Jgmia0m6YpCALGOBAIOBLsTMAYJxKJs5ZiJPprDBlvMBdisRjDMJMXrDOZTIZYLS3tQ+viNAHlPmspRqK/HQMucTqdBmOC5/lisQgR2AlOfV3oaND0aHcZOwNF8ARBsMc8EEK6rk9GnvOIqqrttvmFZSCNCYVC5DMJjUxKovNHPp/f2dk5aynOCwNpjH0BurCpvr5hxgvCXCqVag/S29nd3V1bW/N6vQih09PTR48eIYT8fr/P53N0pWq1+uzZM4/Hc3p62mg0Xn/99RHEbsU0zZOTk5WVlTH2ScjlctVqdWVlxektt5PNZpeXl8d775MAxmhpaWl+fr5erz979gzaP/3000uiKJJMXkd++eWX27dvQ2QsmUxC4xdffLG6uupICIzx77//Dp8///zzDz/80PF9dCeZTD558iQajY6xT3vne3t7//zzz+j9Y4zfeOONjnHwc0U2m5VlWVEUiGjs7+9D+5MnTy7RNN1i1bZw/fp1iqJEUYTUEkKIYZjPPvvMqRAwSyGEMMaRSGS8rpamaX///XfvGxmlc4/HUy6XC4WC07RaC16v1+fzTUjOscNxnCiKZOAQQgsLC/3tGJ7nM5kMQigcDkNmeLif2u7uLkJIkqRoNDqjzvC5Kr6BOrLpX7e/xmxubuq6rijK/fv3EUIMwwzxO4PMgCAI4KnOXE3CysoKx3HFYrHdzYZ0+vRFikajiURi+vZ4f42B9YjMK8OVLGmaxnGcqqo8zxNjaIbweDy6rnMcF4/HW7zFVCqVSqWmLxJN09FoVBTFKXuvlwzD6H3DlUrl5OQEPq+vrw/xBVUqlZ2dnU8++eTu3bukUGa8MbG9vb1qtTqhOBt0HovFrl279scff3zwwQc3b94ke3O5HBr4dnK5XKPRGKOctVptY2Nja2trYWFhXH0ihEqlEkIomUxqmgY3CFQqlT5zTLPZfPDgwb///osQunr1qr12bnB+/PHHra0tiqKGOPdcQVHUjRs3/vzzT/hCz5yDgwOEULVaffjw4fSu2iPnRAqpgI4pwL5gjFOpFHwmZQm9rzvcVQRBGG+f3ToXBEGSJLIpSZJ9szdjzERCMp98nySZn8/nY7EY2RwOGCkoYYPCEgBj3CsTKcsyLCIMw7Asq+v6ED6OYRiGYUCQ0F76BB7mLOanIpFIOBwm1m7vaNaEMAxDFEXiQCQSCSKGKIrFYjGTyUyoSL6rxiiKAiYq1EDpug4+tlPsOqHrOnkeYBZ1BYB657PK3qP/lU6DulAUpSjKiFEiR3S2YwqFAok9gIMjiiJ416NgX5VmV2OAc5Jfi0ajLeqi67rTylpHXOpYyr+9vQ0qHAqFaJqG0V1cXIzH48MV0h4dHW1vbzcajbW1NWi5desWx3FfffXVSOL/j1KpZJrmhLSwY+dHR0fQAlbwnTt3stns5cuXb9++vbS0ZD+y0Whks9m//vqL53nTNEul0uhy3r17Fxyu1dXV9t54nh8xTgPWCPw1TZO0N5vNDpnIk5OTn3/+GSG0tLS0vr5OGrPZrMfjWV5e9ng8L7300vz8vCMhhs5E1uv1+fl5j8fT45hcLlev1ydUFt7SOXw/xB7M5XKHh4cQSj8+Pn7llVfefvtt2HV6eloul8vlMunqhRdeuHLlylgykYeHhwcHB++++67TgRgE0zT39/chA53NZokBevPmzQ4+Cyn0B1PZNE176T9AUZTTelW7yT3Iufl8Hgx+qO3tffA0faVEIsFxnH0v2YS7g88tniYhHA6PSzCnNdeD08NX6mDHwIRG6u5kWbY/SwDUarVIJDJcJApjPEgqLpFInKs8DkHTtBb57e4SCTuRR3ZaePXVV0cUQFGUubm5ubk5y7Kmn6PooDGQMoS6O13XwWMKBAIQ6sUYk2R9PB4ffEmerUykZVnw1oiON9jxGRcYOZJO6TiQgiB8+eWXI8pGDAvLsliWjUQi08wudY35QmEDzE4Y43Q6HQwGBUHw+/2qqmqaBj+m3tVYhBEzkR2fgpsQlmXJsuz1ekOhUDwe39zc/OGHH+wHpNPpdr8aJMQYEznb75FhmLHMBxChwBjrum4YhqZpU01sta9h8LgJfIY1jOyymxREVwZZFyVJ4jjOHqbsewo8giRJEpnnex88FjtmCOMDY8wwDMMw5CFf0m7vQZKkEeOwdhiGIZH0SdDDjungK/3222/Hx8dwXC6XK5fL5JzDw8NqtUq+059++qnZbJKazm7U6/X9/f319fWTkxNSzWWXox0olGw2m6TF7rgBp6enpmk2Gg2v12ua5lh8Jbjf9vaNjY1uzlqpVCqXy2tra8vLyy276vX68fGxx+Pxer29fT2nmKZpmubkqj97+Eodqja///77b775BtZjqN776KOPoEYzm81ub2+TpXp7e/vRo0ekprMbGON79+6trq5ms1miMb3LskhoeHFxcXFxkeO4O3fukL2NRuO7774jU3G5XGZZ1ufzjV5VeevWrfbGtbW1r7/+usdZR0dHV65cGfHSTkkmk5Or/oSRgpHFGBONee211zpM9aZp2p3nQCDAcRyZUZEt6RUIBFC/9WW4TCRFUfDULfj2dh+y28KxsbHRf7btR3u3DMPMxNOW48WZd03TdDgcjsVioFmqqrIsS2w9hmGIZW4YRl81hzSkKIrwxkPSDi3dzrIsKxwO0zTdnufr5rV+++23vSUZhHbjwzCMs8ofnU86ZyIVRTEMAzK08KowkkZhWRYSp4qi2GvzujH2TGQ3r3Us46ooSigUSqVSfr9fFEVXV9rp6l2DloiiCENLvjtIjiiKEo1GFUVx9J0OkYm0LAviVORCk/NaAXh1TTgcdtWlI3OZTKaHN7+3t/frr78uLCy8+eab0FIul6vV6ssvv3zjxo3Lly8PeJlarfbgwYNms0lc5Uql4vP57OWPLTx8+LBUKj19+pS0wJKxt7f3+PFj0nj16tX33ntvvDWLLqVSKZVKhUIhn8+3s7ND/MePP/64j8YghJrN5sHBAfllP336tNlsbm1tTVTie/fuQako8OKLL16/fv2dd96BzUqlcnBwQFGUz+f7PygGnSFCodDcc4f/JxLKLyZd3TI3N4cQoigKQs80Tbv/V/Kc0LUGD6wH0zSvXbtGXtA9NTDGUOSmKIr7Jo5zRVeNsb9SNZVKTVlpXEU5t3T2ldLptD3mYU8jnJNqRZezYqC3s9rDaJlMZsq1CpFI5Ezq9V060zFIbH8FFbxiE9ohgdCSpJ0QmUxmjMlel3HR1VcSRdEwDHiQgMSygsGgZVmz/hiAyyh01Rh4KAbyACzLWpaVSCRAXdw14iLTKx4DDramabu7u4IgtLz53eVi4jiC53LB+S/fQebiuBTzXwAAAABJRU5ErkJggg==\"/>"
      ],
      "text/plain": [
       "Chain([4F#:1♩, 4G:0.5♩, 4G#:1♩])"
      ]
     },
     "execution_count": 17,
     "metadata": {},
     "output_type": "execute_result"
    }
   ],
   "source": [
    "ch.transpose(5)"
   ]
  },
  {
   "cell_type": "code",
   "execution_count": null,
   "id": "bc80ed86-f4f8-4d74-bc4e-d00c3ae6f3d5",
   "metadata": {},
   "outputs": [],
   "source": []
  }
 ],
 "metadata": {
  "kernelspec": {
   "display_name": "Python 3 (ipykernel)",
   "language": "python",
   "name": "python3"
  },
  "language_info": {
   "codemirror_mode": {
    "name": "ipython",
    "version": 3
   },
   "file_extension": ".py",
   "mimetype": "text/x-python",
   "name": "python",
   "nbconvert_exporter": "python",
   "pygments_lexer": "ipython3",
   "version": "3.10.7"
  }
 },
 "nbformat": 4,
 "nbformat_minor": 5
}
